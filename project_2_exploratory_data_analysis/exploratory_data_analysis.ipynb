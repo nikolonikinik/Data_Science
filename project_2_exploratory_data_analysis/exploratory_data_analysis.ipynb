{
 "cells": [
  {
   "attachments": {},
   "cell_type": "markdown",
   "metadata": {
    "id": "-VFbjcb3Awb7"
   },
   "source": [
    "# Исследование объявлений о продаже квартир\n",
    "\n",
    "В вашем распоряжении данные сервиса Яндекс Недвижимость — архив объявлений о продаже квартир в Санкт-Петербурге и соседних населённых пунктах за несколько лет. Вам нужно научиться определять рыночную стоимость объектов недвижимости. Для этого проведите исследовательский анализ данных и установите параметры, влияющие на цену объектов. Это позволит построить автоматизированную систему: она отследит аномалии и мошенническую деятельность.\n",
    "\n",
    "По каждой квартире на продажу доступны два вида данных. Первые вписаны пользователем, вторые — получены автоматически на основе картографических данных. Например, расстояние до центра, аэропорта и других объектов — эти данные автоматически получены из геосервисов. Количество парков и водоёмов также заполняется без участия пользователя."
   ]
  },
  {
   "attachments": {},
   "cell_type": "markdown",
   "metadata": {
    "id": "aeFLH07FAwb9"
   },
   "source": [
    "### Изучение общей информации"
   ]
  },
  {
   "attachments": {},
   "cell_type": "markdown",
   "metadata": {},
   "source": [
    "**Импортируем библиотеки:**"
   ]
  },
  {
   "cell_type": "code",
   "execution_count": 3,
   "metadata": {
    "id": "7MZxY65pAwb9"
   },
   "outputs": [],
   "source": [
    "import pandas as pd\n",
    "import matplotlib.pyplot as plt\n",
    "import numpy as np\n",
    "import seaborn as sb\n",
    "from datetime import datetime\n",
    "\n",
    "\n",
    "pd.set_option('display.max_columns', None)"
   ]
  },
  {
   "attachments": {},
   "cell_type": "markdown",
   "metadata": {},
   "source": [
    "**Изучим общую информацию о датафрейме:**"
   ]
  },
  {
   "cell_type": "code",
   "execution_count": 4,
   "metadata": {},
   "outputs": [
    {
     "data": {
      "text/html": [
       "<div>\n",
       "<style scoped>\n",
       "    .dataframe tbody tr th:only-of-type {\n",
       "        vertical-align: middle;\n",
       "    }\n",
       "\n",
       "    .dataframe tbody tr th {\n",
       "        vertical-align: top;\n",
       "    }\n",
       "\n",
       "    .dataframe thead th {\n",
       "        text-align: right;\n",
       "    }\n",
       "</style>\n",
       "<table border=\"1\" class=\"dataframe\">\n",
       "  <thead>\n",
       "    <tr style=\"text-align: right;\">\n",
       "      <th></th>\n",
       "      <th>total_images</th>\n",
       "      <th>last_price</th>\n",
       "      <th>total_area</th>\n",
       "      <th>first_day_exposition</th>\n",
       "      <th>rooms</th>\n",
       "      <th>ceiling_height</th>\n",
       "      <th>floors_total</th>\n",
       "      <th>living_area</th>\n",
       "      <th>floor</th>\n",
       "      <th>is_apartment</th>\n",
       "      <th>studio</th>\n",
       "      <th>open_plan</th>\n",
       "      <th>kitchen_area</th>\n",
       "      <th>balcony</th>\n",
       "      <th>locality_name</th>\n",
       "      <th>airports_nearest</th>\n",
       "      <th>cityCenters_nearest</th>\n",
       "      <th>parks_around3000</th>\n",
       "      <th>parks_nearest</th>\n",
       "      <th>ponds_around3000</th>\n",
       "      <th>ponds_nearest</th>\n",
       "      <th>days_exposition</th>\n",
       "    </tr>\n",
       "  </thead>\n",
       "  <tbody>\n",
       "    <tr>\n",
       "      <th>0</th>\n",
       "      <td>20</td>\n",
       "      <td>13000000.0</td>\n",
       "      <td>108.00</td>\n",
       "      <td>2019-03-07T00:00:00</td>\n",
       "      <td>3</td>\n",
       "      <td>2.70</td>\n",
       "      <td>16.0</td>\n",
       "      <td>51.00</td>\n",
       "      <td>8</td>\n",
       "      <td>NaN</td>\n",
       "      <td>False</td>\n",
       "      <td>False</td>\n",
       "      <td>25.00</td>\n",
       "      <td>NaN</td>\n",
       "      <td>Санкт-Петербург</td>\n",
       "      <td>18863.0</td>\n",
       "      <td>16028.0</td>\n",
       "      <td>1.0</td>\n",
       "      <td>482.0</td>\n",
       "      <td>2.0</td>\n",
       "      <td>755.0</td>\n",
       "      <td>NaN</td>\n",
       "    </tr>\n",
       "    <tr>\n",
       "      <th>1</th>\n",
       "      <td>7</td>\n",
       "      <td>3350000.0</td>\n",
       "      <td>40.40</td>\n",
       "      <td>2018-12-04T00:00:00</td>\n",
       "      <td>1</td>\n",
       "      <td>NaN</td>\n",
       "      <td>11.0</td>\n",
       "      <td>18.60</td>\n",
       "      <td>1</td>\n",
       "      <td>NaN</td>\n",
       "      <td>False</td>\n",
       "      <td>False</td>\n",
       "      <td>11.00</td>\n",
       "      <td>2.0</td>\n",
       "      <td>посёлок Шушары</td>\n",
       "      <td>12817.0</td>\n",
       "      <td>18603.0</td>\n",
       "      <td>0.0</td>\n",
       "      <td>NaN</td>\n",
       "      <td>0.0</td>\n",
       "      <td>NaN</td>\n",
       "      <td>81.0</td>\n",
       "    </tr>\n",
       "    <tr>\n",
       "      <th>2</th>\n",
       "      <td>10</td>\n",
       "      <td>5196000.0</td>\n",
       "      <td>56.00</td>\n",
       "      <td>2015-08-20T00:00:00</td>\n",
       "      <td>2</td>\n",
       "      <td>NaN</td>\n",
       "      <td>5.0</td>\n",
       "      <td>34.30</td>\n",
       "      <td>4</td>\n",
       "      <td>NaN</td>\n",
       "      <td>False</td>\n",
       "      <td>False</td>\n",
       "      <td>8.30</td>\n",
       "      <td>0.0</td>\n",
       "      <td>Санкт-Петербург</td>\n",
       "      <td>21741.0</td>\n",
       "      <td>13933.0</td>\n",
       "      <td>1.0</td>\n",
       "      <td>90.0</td>\n",
       "      <td>2.0</td>\n",
       "      <td>574.0</td>\n",
       "      <td>558.0</td>\n",
       "    </tr>\n",
       "    <tr>\n",
       "      <th>3</th>\n",
       "      <td>0</td>\n",
       "      <td>64900000.0</td>\n",
       "      <td>159.00</td>\n",
       "      <td>2015-07-24T00:00:00</td>\n",
       "      <td>3</td>\n",
       "      <td>NaN</td>\n",
       "      <td>14.0</td>\n",
       "      <td>NaN</td>\n",
       "      <td>9</td>\n",
       "      <td>NaN</td>\n",
       "      <td>False</td>\n",
       "      <td>False</td>\n",
       "      <td>NaN</td>\n",
       "      <td>0.0</td>\n",
       "      <td>Санкт-Петербург</td>\n",
       "      <td>28098.0</td>\n",
       "      <td>6800.0</td>\n",
       "      <td>2.0</td>\n",
       "      <td>84.0</td>\n",
       "      <td>3.0</td>\n",
       "      <td>234.0</td>\n",
       "      <td>424.0</td>\n",
       "    </tr>\n",
       "    <tr>\n",
       "      <th>4</th>\n",
       "      <td>2</td>\n",
       "      <td>10000000.0</td>\n",
       "      <td>100.00</td>\n",
       "      <td>2018-06-19T00:00:00</td>\n",
       "      <td>2</td>\n",
       "      <td>3.03</td>\n",
       "      <td>14.0</td>\n",
       "      <td>32.00</td>\n",
       "      <td>13</td>\n",
       "      <td>NaN</td>\n",
       "      <td>False</td>\n",
       "      <td>False</td>\n",
       "      <td>41.00</td>\n",
       "      <td>NaN</td>\n",
       "      <td>Санкт-Петербург</td>\n",
       "      <td>31856.0</td>\n",
       "      <td>8098.0</td>\n",
       "      <td>2.0</td>\n",
       "      <td>112.0</td>\n",
       "      <td>1.0</td>\n",
       "      <td>48.0</td>\n",
       "      <td>121.0</td>\n",
       "    </tr>\n",
       "    <tr>\n",
       "      <th>5</th>\n",
       "      <td>10</td>\n",
       "      <td>2890000.0</td>\n",
       "      <td>30.40</td>\n",
       "      <td>2018-09-10T00:00:00</td>\n",
       "      <td>1</td>\n",
       "      <td>NaN</td>\n",
       "      <td>12.0</td>\n",
       "      <td>14.40</td>\n",
       "      <td>5</td>\n",
       "      <td>NaN</td>\n",
       "      <td>False</td>\n",
       "      <td>False</td>\n",
       "      <td>9.10</td>\n",
       "      <td>NaN</td>\n",
       "      <td>городской посёлок Янино-1</td>\n",
       "      <td>NaN</td>\n",
       "      <td>NaN</td>\n",
       "      <td>NaN</td>\n",
       "      <td>NaN</td>\n",
       "      <td>NaN</td>\n",
       "      <td>NaN</td>\n",
       "      <td>55.0</td>\n",
       "    </tr>\n",
       "    <tr>\n",
       "      <th>6</th>\n",
       "      <td>6</td>\n",
       "      <td>3700000.0</td>\n",
       "      <td>37.30</td>\n",
       "      <td>2017-11-02T00:00:00</td>\n",
       "      <td>1</td>\n",
       "      <td>NaN</td>\n",
       "      <td>26.0</td>\n",
       "      <td>10.60</td>\n",
       "      <td>6</td>\n",
       "      <td>NaN</td>\n",
       "      <td>False</td>\n",
       "      <td>False</td>\n",
       "      <td>14.40</td>\n",
       "      <td>1.0</td>\n",
       "      <td>посёлок Парголово</td>\n",
       "      <td>52996.0</td>\n",
       "      <td>19143.0</td>\n",
       "      <td>0.0</td>\n",
       "      <td>NaN</td>\n",
       "      <td>0.0</td>\n",
       "      <td>NaN</td>\n",
       "      <td>155.0</td>\n",
       "    </tr>\n",
       "    <tr>\n",
       "      <th>7</th>\n",
       "      <td>5</td>\n",
       "      <td>7915000.0</td>\n",
       "      <td>71.60</td>\n",
       "      <td>2019-04-18T00:00:00</td>\n",
       "      <td>2</td>\n",
       "      <td>NaN</td>\n",
       "      <td>24.0</td>\n",
       "      <td>NaN</td>\n",
       "      <td>22</td>\n",
       "      <td>NaN</td>\n",
       "      <td>False</td>\n",
       "      <td>False</td>\n",
       "      <td>18.90</td>\n",
       "      <td>2.0</td>\n",
       "      <td>Санкт-Петербург</td>\n",
       "      <td>23982.0</td>\n",
       "      <td>11634.0</td>\n",
       "      <td>0.0</td>\n",
       "      <td>NaN</td>\n",
       "      <td>0.0</td>\n",
       "      <td>NaN</td>\n",
       "      <td>NaN</td>\n",
       "    </tr>\n",
       "    <tr>\n",
       "      <th>8</th>\n",
       "      <td>20</td>\n",
       "      <td>2900000.0</td>\n",
       "      <td>33.16</td>\n",
       "      <td>2018-05-23T00:00:00</td>\n",
       "      <td>1</td>\n",
       "      <td>NaN</td>\n",
       "      <td>27.0</td>\n",
       "      <td>15.43</td>\n",
       "      <td>26</td>\n",
       "      <td>NaN</td>\n",
       "      <td>False</td>\n",
       "      <td>False</td>\n",
       "      <td>8.81</td>\n",
       "      <td>NaN</td>\n",
       "      <td>посёлок Мурино</td>\n",
       "      <td>NaN</td>\n",
       "      <td>NaN</td>\n",
       "      <td>NaN</td>\n",
       "      <td>NaN</td>\n",
       "      <td>NaN</td>\n",
       "      <td>NaN</td>\n",
       "      <td>189.0</td>\n",
       "    </tr>\n",
       "    <tr>\n",
       "      <th>9</th>\n",
       "      <td>18</td>\n",
       "      <td>5400000.0</td>\n",
       "      <td>61.00</td>\n",
       "      <td>2017-02-26T00:00:00</td>\n",
       "      <td>3</td>\n",
       "      <td>2.50</td>\n",
       "      <td>9.0</td>\n",
       "      <td>43.60</td>\n",
       "      <td>7</td>\n",
       "      <td>NaN</td>\n",
       "      <td>False</td>\n",
       "      <td>False</td>\n",
       "      <td>6.50</td>\n",
       "      <td>2.0</td>\n",
       "      <td>Санкт-Петербург</td>\n",
       "      <td>50898.0</td>\n",
       "      <td>15008.0</td>\n",
       "      <td>0.0</td>\n",
       "      <td>NaN</td>\n",
       "      <td>0.0</td>\n",
       "      <td>NaN</td>\n",
       "      <td>289.0</td>\n",
       "    </tr>\n",
       "  </tbody>\n",
       "</table>\n",
       "</div>"
      ],
      "text/plain": [
       "   total_images  last_price  total_area first_day_exposition  rooms  \\\n",
       "0            20  13000000.0      108.00  2019-03-07T00:00:00      3   \n",
       "1             7   3350000.0       40.40  2018-12-04T00:00:00      1   \n",
       "2            10   5196000.0       56.00  2015-08-20T00:00:00      2   \n",
       "3             0  64900000.0      159.00  2015-07-24T00:00:00      3   \n",
       "4             2  10000000.0      100.00  2018-06-19T00:00:00      2   \n",
       "5            10   2890000.0       30.40  2018-09-10T00:00:00      1   \n",
       "6             6   3700000.0       37.30  2017-11-02T00:00:00      1   \n",
       "7             5   7915000.0       71.60  2019-04-18T00:00:00      2   \n",
       "8            20   2900000.0       33.16  2018-05-23T00:00:00      1   \n",
       "9            18   5400000.0       61.00  2017-02-26T00:00:00      3   \n",
       "\n",
       "   ceiling_height  floors_total  living_area  floor is_apartment  studio  \\\n",
       "0            2.70          16.0        51.00      8          NaN   False   \n",
       "1             NaN          11.0        18.60      1          NaN   False   \n",
       "2             NaN           5.0        34.30      4          NaN   False   \n",
       "3             NaN          14.0          NaN      9          NaN   False   \n",
       "4            3.03          14.0        32.00     13          NaN   False   \n",
       "5             NaN          12.0        14.40      5          NaN   False   \n",
       "6             NaN          26.0        10.60      6          NaN   False   \n",
       "7             NaN          24.0          NaN     22          NaN   False   \n",
       "8             NaN          27.0        15.43     26          NaN   False   \n",
       "9            2.50           9.0        43.60      7          NaN   False   \n",
       "\n",
       "   open_plan  kitchen_area  balcony              locality_name  \\\n",
       "0      False         25.00      NaN            Санкт-Петербург   \n",
       "1      False         11.00      2.0             посёлок Шушары   \n",
       "2      False          8.30      0.0            Санкт-Петербург   \n",
       "3      False           NaN      0.0            Санкт-Петербург   \n",
       "4      False         41.00      NaN            Санкт-Петербург   \n",
       "5      False          9.10      NaN  городской посёлок Янино-1   \n",
       "6      False         14.40      1.0          посёлок Парголово   \n",
       "7      False         18.90      2.0            Санкт-Петербург   \n",
       "8      False          8.81      NaN             посёлок Мурино   \n",
       "9      False          6.50      2.0            Санкт-Петербург   \n",
       "\n",
       "   airports_nearest  cityCenters_nearest  parks_around3000  parks_nearest  \\\n",
       "0           18863.0              16028.0               1.0          482.0   \n",
       "1           12817.0              18603.0               0.0            NaN   \n",
       "2           21741.0              13933.0               1.0           90.0   \n",
       "3           28098.0               6800.0               2.0           84.0   \n",
       "4           31856.0               8098.0               2.0          112.0   \n",
       "5               NaN                  NaN               NaN            NaN   \n",
       "6           52996.0              19143.0               0.0            NaN   \n",
       "7           23982.0              11634.0               0.0            NaN   \n",
       "8               NaN                  NaN               NaN            NaN   \n",
       "9           50898.0              15008.0               0.0            NaN   \n",
       "\n",
       "   ponds_around3000  ponds_nearest  days_exposition  \n",
       "0               2.0          755.0              NaN  \n",
       "1               0.0            NaN             81.0  \n",
       "2               2.0          574.0            558.0  \n",
       "3               3.0          234.0            424.0  \n",
       "4               1.0           48.0            121.0  \n",
       "5               NaN            NaN             55.0  \n",
       "6               0.0            NaN            155.0  \n",
       "7               0.0            NaN              NaN  \n",
       "8               NaN            NaN            189.0  \n",
       "9               0.0            NaN            289.0  "
      ]
     },
     "execution_count": 4,
     "metadata": {},
     "output_type": "execute_result"
    }
   ],
   "source": [
    "data = pd.read_csv('/datasets/real_estate_data.csv', sep='\\t')  # Читаем csv-файл\n",
    "data.head(10) # Выводим первые 10 строк датафрейма"
   ]
  },
  {
   "cell_type": "code",
   "execution_count": 5,
   "metadata": {},
   "outputs": [
    {
     "data": {
      "text/html": [
       "<div>\n",
       "<style scoped>\n",
       "    .dataframe tbody tr th:only-of-type {\n",
       "        vertical-align: middle;\n",
       "    }\n",
       "\n",
       "    .dataframe tbody tr th {\n",
       "        vertical-align: top;\n",
       "    }\n",
       "\n",
       "    .dataframe thead th {\n",
       "        text-align: right;\n",
       "    }\n",
       "</style>\n",
       "<table border=\"1\" class=\"dataframe\">\n",
       "  <thead>\n",
       "    <tr style=\"text-align: right;\">\n",
       "      <th></th>\n",
       "      <th>total_images</th>\n",
       "      <th>last_price</th>\n",
       "      <th>total_area</th>\n",
       "      <th>first_day_exposition</th>\n",
       "      <th>rooms</th>\n",
       "      <th>ceiling_height</th>\n",
       "      <th>floors_total</th>\n",
       "      <th>living_area</th>\n",
       "      <th>floor</th>\n",
       "      <th>is_apartment</th>\n",
       "      <th>studio</th>\n",
       "      <th>open_plan</th>\n",
       "      <th>kitchen_area</th>\n",
       "      <th>balcony</th>\n",
       "      <th>locality_name</th>\n",
       "      <th>airports_nearest</th>\n",
       "      <th>cityCenters_nearest</th>\n",
       "      <th>parks_around3000</th>\n",
       "      <th>parks_nearest</th>\n",
       "      <th>ponds_around3000</th>\n",
       "      <th>ponds_nearest</th>\n",
       "      <th>days_exposition</th>\n",
       "    </tr>\n",
       "  </thead>\n",
       "  <tbody>\n",
       "    <tr>\n",
       "      <th>23689</th>\n",
       "      <td>13</td>\n",
       "      <td>3550000.0</td>\n",
       "      <td>35.30</td>\n",
       "      <td>2018-02-28T00:00:00</td>\n",
       "      <td>1</td>\n",
       "      <td>2.86</td>\n",
       "      <td>15.0</td>\n",
       "      <td>16.3</td>\n",
       "      <td>4</td>\n",
       "      <td>NaN</td>\n",
       "      <td>False</td>\n",
       "      <td>False</td>\n",
       "      <td>9.10</td>\n",
       "      <td>2.0</td>\n",
       "      <td>Санкт-Петербург</td>\n",
       "      <td>17284.0</td>\n",
       "      <td>16081.0</td>\n",
       "      <td>1.0</td>\n",
       "      <td>353.0</td>\n",
       "      <td>2.0</td>\n",
       "      <td>652.0</td>\n",
       "      <td>29.0</td>\n",
       "    </tr>\n",
       "    <tr>\n",
       "      <th>23690</th>\n",
       "      <td>3</td>\n",
       "      <td>5500000.0</td>\n",
       "      <td>52.00</td>\n",
       "      <td>2018-07-19T00:00:00</td>\n",
       "      <td>2</td>\n",
       "      <td>NaN</td>\n",
       "      <td>5.0</td>\n",
       "      <td>31.0</td>\n",
       "      <td>2</td>\n",
       "      <td>NaN</td>\n",
       "      <td>False</td>\n",
       "      <td>False</td>\n",
       "      <td>6.00</td>\n",
       "      <td>NaN</td>\n",
       "      <td>Санкт-Петербург</td>\n",
       "      <td>20151.0</td>\n",
       "      <td>6263.0</td>\n",
       "      <td>1.0</td>\n",
       "      <td>300.0</td>\n",
       "      <td>0.0</td>\n",
       "      <td>NaN</td>\n",
       "      <td>15.0</td>\n",
       "    </tr>\n",
       "    <tr>\n",
       "      <th>23691</th>\n",
       "      <td>11</td>\n",
       "      <td>9470000.0</td>\n",
       "      <td>72.90</td>\n",
       "      <td>2016-10-13T00:00:00</td>\n",
       "      <td>2</td>\n",
       "      <td>2.75</td>\n",
       "      <td>25.0</td>\n",
       "      <td>40.3</td>\n",
       "      <td>7</td>\n",
       "      <td>NaN</td>\n",
       "      <td>False</td>\n",
       "      <td>False</td>\n",
       "      <td>10.60</td>\n",
       "      <td>1.0</td>\n",
       "      <td>Санкт-Петербург</td>\n",
       "      <td>19424.0</td>\n",
       "      <td>4489.0</td>\n",
       "      <td>0.0</td>\n",
       "      <td>NaN</td>\n",
       "      <td>1.0</td>\n",
       "      <td>806.0</td>\n",
       "      <td>519.0</td>\n",
       "    </tr>\n",
       "    <tr>\n",
       "      <th>23692</th>\n",
       "      <td>2</td>\n",
       "      <td>1350000.0</td>\n",
       "      <td>30.00</td>\n",
       "      <td>2017-07-07T00:00:00</td>\n",
       "      <td>1</td>\n",
       "      <td>NaN</td>\n",
       "      <td>5.0</td>\n",
       "      <td>17.5</td>\n",
       "      <td>4</td>\n",
       "      <td>NaN</td>\n",
       "      <td>False</td>\n",
       "      <td>False</td>\n",
       "      <td>6.00</td>\n",
       "      <td>NaN</td>\n",
       "      <td>Тихвин</td>\n",
       "      <td>NaN</td>\n",
       "      <td>NaN</td>\n",
       "      <td>NaN</td>\n",
       "      <td>NaN</td>\n",
       "      <td>NaN</td>\n",
       "      <td>NaN</td>\n",
       "      <td>413.0</td>\n",
       "    </tr>\n",
       "    <tr>\n",
       "      <th>23693</th>\n",
       "      <td>9</td>\n",
       "      <td>4600000.0</td>\n",
       "      <td>62.40</td>\n",
       "      <td>2016-08-05T00:00:00</td>\n",
       "      <td>3</td>\n",
       "      <td>2.60</td>\n",
       "      <td>9.0</td>\n",
       "      <td>40.0</td>\n",
       "      <td>8</td>\n",
       "      <td>NaN</td>\n",
       "      <td>False</td>\n",
       "      <td>False</td>\n",
       "      <td>8.00</td>\n",
       "      <td>0.0</td>\n",
       "      <td>Петергоф</td>\n",
       "      <td>45602.0</td>\n",
       "      <td>34104.0</td>\n",
       "      <td>1.0</td>\n",
       "      <td>352.0</td>\n",
       "      <td>1.0</td>\n",
       "      <td>675.0</td>\n",
       "      <td>239.0</td>\n",
       "    </tr>\n",
       "    <tr>\n",
       "      <th>23694</th>\n",
       "      <td>9</td>\n",
       "      <td>9700000.0</td>\n",
       "      <td>133.81</td>\n",
       "      <td>2017-03-21T00:00:00</td>\n",
       "      <td>3</td>\n",
       "      <td>3.70</td>\n",
       "      <td>5.0</td>\n",
       "      <td>73.3</td>\n",
       "      <td>3</td>\n",
       "      <td>NaN</td>\n",
       "      <td>False</td>\n",
       "      <td>False</td>\n",
       "      <td>13.83</td>\n",
       "      <td>NaN</td>\n",
       "      <td>Санкт-Петербург</td>\n",
       "      <td>24665.0</td>\n",
       "      <td>4232.0</td>\n",
       "      <td>1.0</td>\n",
       "      <td>796.0</td>\n",
       "      <td>3.0</td>\n",
       "      <td>381.0</td>\n",
       "      <td>NaN</td>\n",
       "    </tr>\n",
       "    <tr>\n",
       "      <th>23695</th>\n",
       "      <td>14</td>\n",
       "      <td>3100000.0</td>\n",
       "      <td>59.00</td>\n",
       "      <td>2018-01-15T00:00:00</td>\n",
       "      <td>3</td>\n",
       "      <td>NaN</td>\n",
       "      <td>5.0</td>\n",
       "      <td>38.0</td>\n",
       "      <td>4</td>\n",
       "      <td>NaN</td>\n",
       "      <td>False</td>\n",
       "      <td>False</td>\n",
       "      <td>8.50</td>\n",
       "      <td>NaN</td>\n",
       "      <td>Тосно</td>\n",
       "      <td>NaN</td>\n",
       "      <td>NaN</td>\n",
       "      <td>NaN</td>\n",
       "      <td>NaN</td>\n",
       "      <td>NaN</td>\n",
       "      <td>NaN</td>\n",
       "      <td>45.0</td>\n",
       "    </tr>\n",
       "    <tr>\n",
       "      <th>23696</th>\n",
       "      <td>18</td>\n",
       "      <td>2500000.0</td>\n",
       "      <td>56.70</td>\n",
       "      <td>2018-02-11T00:00:00</td>\n",
       "      <td>2</td>\n",
       "      <td>NaN</td>\n",
       "      <td>3.0</td>\n",
       "      <td>29.7</td>\n",
       "      <td>1</td>\n",
       "      <td>NaN</td>\n",
       "      <td>False</td>\n",
       "      <td>False</td>\n",
       "      <td>NaN</td>\n",
       "      <td>NaN</td>\n",
       "      <td>село Рождествено</td>\n",
       "      <td>NaN</td>\n",
       "      <td>NaN</td>\n",
       "      <td>NaN</td>\n",
       "      <td>NaN</td>\n",
       "      <td>NaN</td>\n",
       "      <td>NaN</td>\n",
       "      <td>NaN</td>\n",
       "    </tr>\n",
       "    <tr>\n",
       "      <th>23697</th>\n",
       "      <td>13</td>\n",
       "      <td>11475000.0</td>\n",
       "      <td>76.75</td>\n",
       "      <td>2017-03-28T00:00:00</td>\n",
       "      <td>2</td>\n",
       "      <td>3.00</td>\n",
       "      <td>17.0</td>\n",
       "      <td>NaN</td>\n",
       "      <td>12</td>\n",
       "      <td>NaN</td>\n",
       "      <td>False</td>\n",
       "      <td>False</td>\n",
       "      <td>23.30</td>\n",
       "      <td>2.0</td>\n",
       "      <td>Санкт-Петербург</td>\n",
       "      <td>39140.0</td>\n",
       "      <td>10364.0</td>\n",
       "      <td>2.0</td>\n",
       "      <td>173.0</td>\n",
       "      <td>3.0</td>\n",
       "      <td>196.0</td>\n",
       "      <td>602.0</td>\n",
       "    </tr>\n",
       "    <tr>\n",
       "      <th>23698</th>\n",
       "      <td>4</td>\n",
       "      <td>1350000.0</td>\n",
       "      <td>32.30</td>\n",
       "      <td>2017-07-21T00:00:00</td>\n",
       "      <td>1</td>\n",
       "      <td>2.50</td>\n",
       "      <td>5.0</td>\n",
       "      <td>12.3</td>\n",
       "      <td>1</td>\n",
       "      <td>NaN</td>\n",
       "      <td>False</td>\n",
       "      <td>False</td>\n",
       "      <td>9.00</td>\n",
       "      <td>NaN</td>\n",
       "      <td>поселок Новый Учхоз</td>\n",
       "      <td>NaN</td>\n",
       "      <td>NaN</td>\n",
       "      <td>NaN</td>\n",
       "      <td>NaN</td>\n",
       "      <td>NaN</td>\n",
       "      <td>NaN</td>\n",
       "      <td>NaN</td>\n",
       "    </tr>\n",
       "  </tbody>\n",
       "</table>\n",
       "</div>"
      ],
      "text/plain": [
       "       total_images  last_price  total_area first_day_exposition  rooms  \\\n",
       "23689            13   3550000.0       35.30  2018-02-28T00:00:00      1   \n",
       "23690             3   5500000.0       52.00  2018-07-19T00:00:00      2   \n",
       "23691            11   9470000.0       72.90  2016-10-13T00:00:00      2   \n",
       "23692             2   1350000.0       30.00  2017-07-07T00:00:00      1   \n",
       "23693             9   4600000.0       62.40  2016-08-05T00:00:00      3   \n",
       "23694             9   9700000.0      133.81  2017-03-21T00:00:00      3   \n",
       "23695            14   3100000.0       59.00  2018-01-15T00:00:00      3   \n",
       "23696            18   2500000.0       56.70  2018-02-11T00:00:00      2   \n",
       "23697            13  11475000.0       76.75  2017-03-28T00:00:00      2   \n",
       "23698             4   1350000.0       32.30  2017-07-21T00:00:00      1   \n",
       "\n",
       "       ceiling_height  floors_total  living_area  floor is_apartment  studio  \\\n",
       "23689            2.86          15.0         16.3      4          NaN   False   \n",
       "23690             NaN           5.0         31.0      2          NaN   False   \n",
       "23691            2.75          25.0         40.3      7          NaN   False   \n",
       "23692             NaN           5.0         17.5      4          NaN   False   \n",
       "23693            2.60           9.0         40.0      8          NaN   False   \n",
       "23694            3.70           5.0         73.3      3          NaN   False   \n",
       "23695             NaN           5.0         38.0      4          NaN   False   \n",
       "23696             NaN           3.0         29.7      1          NaN   False   \n",
       "23697            3.00          17.0          NaN     12          NaN   False   \n",
       "23698            2.50           5.0         12.3      1          NaN   False   \n",
       "\n",
       "       open_plan  kitchen_area  balcony        locality_name  \\\n",
       "23689      False          9.10      2.0      Санкт-Петербург   \n",
       "23690      False          6.00      NaN      Санкт-Петербург   \n",
       "23691      False         10.60      1.0      Санкт-Петербург   \n",
       "23692      False          6.00      NaN               Тихвин   \n",
       "23693      False          8.00      0.0             Петергоф   \n",
       "23694      False         13.83      NaN      Санкт-Петербург   \n",
       "23695      False          8.50      NaN                Тосно   \n",
       "23696      False           NaN      NaN     село Рождествено   \n",
       "23697      False         23.30      2.0      Санкт-Петербург   \n",
       "23698      False          9.00      NaN  поселок Новый Учхоз   \n",
       "\n",
       "       airports_nearest  cityCenters_nearest  parks_around3000  parks_nearest  \\\n",
       "23689           17284.0              16081.0               1.0          353.0   \n",
       "23690           20151.0               6263.0               1.0          300.0   \n",
       "23691           19424.0               4489.0               0.0            NaN   \n",
       "23692               NaN                  NaN               NaN            NaN   \n",
       "23693           45602.0              34104.0               1.0          352.0   \n",
       "23694           24665.0               4232.0               1.0          796.0   \n",
       "23695               NaN                  NaN               NaN            NaN   \n",
       "23696               NaN                  NaN               NaN            NaN   \n",
       "23697           39140.0              10364.0               2.0          173.0   \n",
       "23698               NaN                  NaN               NaN            NaN   \n",
       "\n",
       "       ponds_around3000  ponds_nearest  days_exposition  \n",
       "23689               2.0          652.0             29.0  \n",
       "23690               0.0            NaN             15.0  \n",
       "23691               1.0          806.0            519.0  \n",
       "23692               NaN            NaN            413.0  \n",
       "23693               1.0          675.0            239.0  \n",
       "23694               3.0          381.0              NaN  \n",
       "23695               NaN            NaN             45.0  \n",
       "23696               NaN            NaN              NaN  \n",
       "23697               3.0          196.0            602.0  \n",
       "23698               NaN            NaN              NaN  "
      ]
     },
     "execution_count": 5,
     "metadata": {},
     "output_type": "execute_result"
    }
   ],
   "source": [
    "data.tail(10) # Выводим последние 10 строк датафрейма"
   ]
  },
  {
   "cell_type": "code",
   "execution_count": 6,
   "metadata": {},
   "outputs": [
    {
     "name": "stdout",
     "output_type": "stream",
     "text": [
      "<class 'pandas.core.frame.DataFrame'>\n",
      "RangeIndex: 23699 entries, 0 to 23698\n",
      "Data columns (total 22 columns):\n",
      " #   Column                Non-Null Count  Dtype  \n",
      "---  ------                --------------  -----  \n",
      " 0   total_images          23699 non-null  int64  \n",
      " 1   last_price            23699 non-null  float64\n",
      " 2   total_area            23699 non-null  float64\n",
      " 3   first_day_exposition  23699 non-null  object \n",
      " 4   rooms                 23699 non-null  int64  \n",
      " 5   ceiling_height        14504 non-null  float64\n",
      " 6   floors_total          23613 non-null  float64\n",
      " 7   living_area           21796 non-null  float64\n",
      " 8   floor                 23699 non-null  int64  \n",
      " 9   is_apartment          2775 non-null   object \n",
      " 10  studio                23699 non-null  bool   \n",
      " 11  open_plan             23699 non-null  bool   \n",
      " 12  kitchen_area          21421 non-null  float64\n",
      " 13  balcony               12180 non-null  float64\n",
      " 14  locality_name         23650 non-null  object \n",
      " 15  airports_nearest      18157 non-null  float64\n",
      " 16  cityCenters_nearest   18180 non-null  float64\n",
      " 17  parks_around3000      18181 non-null  float64\n",
      " 18  parks_nearest         8079 non-null   float64\n",
      " 19  ponds_around3000      18181 non-null  float64\n",
      " 20  ponds_nearest         9110 non-null   float64\n",
      " 21  days_exposition       20518 non-null  float64\n",
      "dtypes: bool(2), float64(14), int64(3), object(3)\n",
      "memory usage: 3.7+ MB\n"
     ]
    }
   ],
   "source": [
    "data.info() # Выводим общую информацию о данных"
   ]
  },
  {
   "cell_type": "code",
   "execution_count": 7,
   "metadata": {},
   "outputs": [
    {
     "data": {
      "text/html": [
       "<div>\n",
       "<style scoped>\n",
       "    .dataframe tbody tr th:only-of-type {\n",
       "        vertical-align: middle;\n",
       "    }\n",
       "\n",
       "    .dataframe tbody tr th {\n",
       "        vertical-align: top;\n",
       "    }\n",
       "\n",
       "    .dataframe thead th {\n",
       "        text-align: right;\n",
       "    }\n",
       "</style>\n",
       "<table border=\"1\" class=\"dataframe\">\n",
       "  <thead>\n",
       "    <tr style=\"text-align: right;\">\n",
       "      <th></th>\n",
       "      <th>total_images</th>\n",
       "      <th>last_price</th>\n",
       "      <th>total_area</th>\n",
       "      <th>rooms</th>\n",
       "      <th>ceiling_height</th>\n",
       "      <th>floors_total</th>\n",
       "      <th>living_area</th>\n",
       "      <th>floor</th>\n",
       "      <th>kitchen_area</th>\n",
       "      <th>balcony</th>\n",
       "      <th>airports_nearest</th>\n",
       "      <th>cityCenters_nearest</th>\n",
       "      <th>parks_around3000</th>\n",
       "      <th>parks_nearest</th>\n",
       "      <th>ponds_around3000</th>\n",
       "      <th>ponds_nearest</th>\n",
       "      <th>days_exposition</th>\n",
       "    </tr>\n",
       "  </thead>\n",
       "  <tbody>\n",
       "    <tr>\n",
       "      <th>count</th>\n",
       "      <td>23699.000000</td>\n",
       "      <td>2.369900e+04</td>\n",
       "      <td>23699.000000</td>\n",
       "      <td>23699.000000</td>\n",
       "      <td>14504.000000</td>\n",
       "      <td>23613.000000</td>\n",
       "      <td>21796.000000</td>\n",
       "      <td>23699.000000</td>\n",
       "      <td>21421.000000</td>\n",
       "      <td>12180.000000</td>\n",
       "      <td>18157.000000</td>\n",
       "      <td>18180.000000</td>\n",
       "      <td>18181.000000</td>\n",
       "      <td>8079.000000</td>\n",
       "      <td>18181.000000</td>\n",
       "      <td>9110.000000</td>\n",
       "      <td>20518.000000</td>\n",
       "    </tr>\n",
       "    <tr>\n",
       "      <th>mean</th>\n",
       "      <td>9.858475</td>\n",
       "      <td>6.541549e+06</td>\n",
       "      <td>60.348651</td>\n",
       "      <td>2.070636</td>\n",
       "      <td>2.771499</td>\n",
       "      <td>10.673824</td>\n",
       "      <td>34.457852</td>\n",
       "      <td>5.892358</td>\n",
       "      <td>10.569807</td>\n",
       "      <td>1.150082</td>\n",
       "      <td>28793.672193</td>\n",
       "      <td>14191.277833</td>\n",
       "      <td>0.611408</td>\n",
       "      <td>490.804555</td>\n",
       "      <td>0.770255</td>\n",
       "      <td>517.980900</td>\n",
       "      <td>180.888634</td>\n",
       "    </tr>\n",
       "    <tr>\n",
       "      <th>std</th>\n",
       "      <td>5.682529</td>\n",
       "      <td>1.088701e+07</td>\n",
       "      <td>35.654083</td>\n",
       "      <td>1.078405</td>\n",
       "      <td>1.261056</td>\n",
       "      <td>6.597173</td>\n",
       "      <td>22.030445</td>\n",
       "      <td>4.885249</td>\n",
       "      <td>5.905438</td>\n",
       "      <td>1.071300</td>\n",
       "      <td>12630.880622</td>\n",
       "      <td>8608.386210</td>\n",
       "      <td>0.802074</td>\n",
       "      <td>342.317995</td>\n",
       "      <td>0.938346</td>\n",
       "      <td>277.720643</td>\n",
       "      <td>219.727988</td>\n",
       "    </tr>\n",
       "    <tr>\n",
       "      <th>min</th>\n",
       "      <td>0.000000</td>\n",
       "      <td>1.219000e+04</td>\n",
       "      <td>12.000000</td>\n",
       "      <td>0.000000</td>\n",
       "      <td>1.000000</td>\n",
       "      <td>1.000000</td>\n",
       "      <td>2.000000</td>\n",
       "      <td>1.000000</td>\n",
       "      <td>1.300000</td>\n",
       "      <td>0.000000</td>\n",
       "      <td>0.000000</td>\n",
       "      <td>181.000000</td>\n",
       "      <td>0.000000</td>\n",
       "      <td>1.000000</td>\n",
       "      <td>0.000000</td>\n",
       "      <td>13.000000</td>\n",
       "      <td>1.000000</td>\n",
       "    </tr>\n",
       "    <tr>\n",
       "      <th>25%</th>\n",
       "      <td>6.000000</td>\n",
       "      <td>3.400000e+06</td>\n",
       "      <td>40.000000</td>\n",
       "      <td>1.000000</td>\n",
       "      <td>2.520000</td>\n",
       "      <td>5.000000</td>\n",
       "      <td>18.600000</td>\n",
       "      <td>2.000000</td>\n",
       "      <td>7.000000</td>\n",
       "      <td>0.000000</td>\n",
       "      <td>18585.000000</td>\n",
       "      <td>9238.000000</td>\n",
       "      <td>0.000000</td>\n",
       "      <td>288.000000</td>\n",
       "      <td>0.000000</td>\n",
       "      <td>294.000000</td>\n",
       "      <td>45.000000</td>\n",
       "    </tr>\n",
       "    <tr>\n",
       "      <th>50%</th>\n",
       "      <td>9.000000</td>\n",
       "      <td>4.650000e+06</td>\n",
       "      <td>52.000000</td>\n",
       "      <td>2.000000</td>\n",
       "      <td>2.650000</td>\n",
       "      <td>9.000000</td>\n",
       "      <td>30.000000</td>\n",
       "      <td>4.000000</td>\n",
       "      <td>9.100000</td>\n",
       "      <td>1.000000</td>\n",
       "      <td>26726.000000</td>\n",
       "      <td>13098.500000</td>\n",
       "      <td>0.000000</td>\n",
       "      <td>455.000000</td>\n",
       "      <td>1.000000</td>\n",
       "      <td>502.000000</td>\n",
       "      <td>95.000000</td>\n",
       "    </tr>\n",
       "    <tr>\n",
       "      <th>75%</th>\n",
       "      <td>14.000000</td>\n",
       "      <td>6.800000e+06</td>\n",
       "      <td>69.900000</td>\n",
       "      <td>3.000000</td>\n",
       "      <td>2.800000</td>\n",
       "      <td>16.000000</td>\n",
       "      <td>42.300000</td>\n",
       "      <td>8.000000</td>\n",
       "      <td>12.000000</td>\n",
       "      <td>2.000000</td>\n",
       "      <td>37273.000000</td>\n",
       "      <td>16293.000000</td>\n",
       "      <td>1.000000</td>\n",
       "      <td>612.000000</td>\n",
       "      <td>1.000000</td>\n",
       "      <td>729.000000</td>\n",
       "      <td>232.000000</td>\n",
       "    </tr>\n",
       "    <tr>\n",
       "      <th>max</th>\n",
       "      <td>50.000000</td>\n",
       "      <td>7.630000e+08</td>\n",
       "      <td>900.000000</td>\n",
       "      <td>19.000000</td>\n",
       "      <td>100.000000</td>\n",
       "      <td>60.000000</td>\n",
       "      <td>409.700000</td>\n",
       "      <td>33.000000</td>\n",
       "      <td>112.000000</td>\n",
       "      <td>5.000000</td>\n",
       "      <td>84869.000000</td>\n",
       "      <td>65968.000000</td>\n",
       "      <td>3.000000</td>\n",
       "      <td>3190.000000</td>\n",
       "      <td>3.000000</td>\n",
       "      <td>1344.000000</td>\n",
       "      <td>1580.000000</td>\n",
       "    </tr>\n",
       "  </tbody>\n",
       "</table>\n",
       "</div>"
      ],
      "text/plain": [
       "       total_images    last_price    total_area         rooms  ceiling_height  \\\n",
       "count  23699.000000  2.369900e+04  23699.000000  23699.000000    14504.000000   \n",
       "mean       9.858475  6.541549e+06     60.348651      2.070636        2.771499   \n",
       "std        5.682529  1.088701e+07     35.654083      1.078405        1.261056   \n",
       "min        0.000000  1.219000e+04     12.000000      0.000000        1.000000   \n",
       "25%        6.000000  3.400000e+06     40.000000      1.000000        2.520000   \n",
       "50%        9.000000  4.650000e+06     52.000000      2.000000        2.650000   \n",
       "75%       14.000000  6.800000e+06     69.900000      3.000000        2.800000   \n",
       "max       50.000000  7.630000e+08    900.000000     19.000000      100.000000   \n",
       "\n",
       "       floors_total   living_area         floor  kitchen_area       balcony  \\\n",
       "count  23613.000000  21796.000000  23699.000000  21421.000000  12180.000000   \n",
       "mean      10.673824     34.457852      5.892358     10.569807      1.150082   \n",
       "std        6.597173     22.030445      4.885249      5.905438      1.071300   \n",
       "min        1.000000      2.000000      1.000000      1.300000      0.000000   \n",
       "25%        5.000000     18.600000      2.000000      7.000000      0.000000   \n",
       "50%        9.000000     30.000000      4.000000      9.100000      1.000000   \n",
       "75%       16.000000     42.300000      8.000000     12.000000      2.000000   \n",
       "max       60.000000    409.700000     33.000000    112.000000      5.000000   \n",
       "\n",
       "       airports_nearest  cityCenters_nearest  parks_around3000  parks_nearest  \\\n",
       "count      18157.000000         18180.000000      18181.000000    8079.000000   \n",
       "mean       28793.672193         14191.277833          0.611408     490.804555   \n",
       "std        12630.880622          8608.386210          0.802074     342.317995   \n",
       "min            0.000000           181.000000          0.000000       1.000000   \n",
       "25%        18585.000000          9238.000000          0.000000     288.000000   \n",
       "50%        26726.000000         13098.500000          0.000000     455.000000   \n",
       "75%        37273.000000         16293.000000          1.000000     612.000000   \n",
       "max        84869.000000         65968.000000          3.000000    3190.000000   \n",
       "\n",
       "       ponds_around3000  ponds_nearest  days_exposition  \n",
       "count      18181.000000    9110.000000     20518.000000  \n",
       "mean           0.770255     517.980900       180.888634  \n",
       "std            0.938346     277.720643       219.727988  \n",
       "min            0.000000      13.000000         1.000000  \n",
       "25%            0.000000     294.000000        45.000000  \n",
       "50%            1.000000     502.000000        95.000000  \n",
       "75%            1.000000     729.000000       232.000000  \n",
       "max            3.000000    1344.000000      1580.000000  "
      ]
     },
     "execution_count": 7,
     "metadata": {},
     "output_type": "execute_result"
    }
   ],
   "source": [
    "data.describe() # Выводим описательные статистики данных"
   ]
  },
  {
   "cell_type": "code",
   "execution_count": 8,
   "metadata": {},
   "outputs": [
    {
     "data": {
      "text/plain": [
       "array([[<AxesSubplot:title={'center':'total_images'}>,\n",
       "        <AxesSubplot:title={'center':'last_price'}>,\n",
       "        <AxesSubplot:title={'center':'total_area'}>,\n",
       "        <AxesSubplot:title={'center':'rooms'}>],\n",
       "       [<AxesSubplot:title={'center':'ceiling_height'}>,\n",
       "        <AxesSubplot:title={'center':'floors_total'}>,\n",
       "        <AxesSubplot:title={'center':'living_area'}>,\n",
       "        <AxesSubplot:title={'center':'floor'}>],\n",
       "       [<AxesSubplot:title={'center':'kitchen_area'}>,\n",
       "        <AxesSubplot:title={'center':'balcony'}>,\n",
       "        <AxesSubplot:title={'center':'airports_nearest'}>,\n",
       "        <AxesSubplot:title={'center':'cityCenters_nearest'}>],\n",
       "       [<AxesSubplot:title={'center':'parks_around3000'}>,\n",
       "        <AxesSubplot:title={'center':'parks_nearest'}>,\n",
       "        <AxesSubplot:title={'center':'ponds_around3000'}>,\n",
       "        <AxesSubplot:title={'center':'ponds_nearest'}>],\n",
       "       [<AxesSubplot:title={'center':'days_exposition'}>, <AxesSubplot:>,\n",
       "        <AxesSubplot:>, <AxesSubplot:>]], dtype=object)"
      ]
     },
     "execution_count": 8,
     "metadata": {},
     "output_type": "execute_result"
    },
    {
     "data": {
      "image/png": "[encoded data removed]",
      "text/plain": [
       "<Figure size 1080x1080 with 20 Axes>"
      ]
     },
     "metadata": {
      "needs_background": "light"
     },
     "output_type": "display_data"
    }
   ],
   "source": [
    "data.hist(figsize=(15, 15)) # Для наглядности строим гистограммы для всех числовых столбцов датафрейма"
   ]
  },
  {
   "cell_type": "code",
   "execution_count": 9,
   "metadata": {},
   "outputs": [
    {
     "data": {
      "text/plain": [
       "0"
      ]
     },
     "execution_count": 9,
     "metadata": {},
     "output_type": "execute_result"
    }
   ],
   "source": [
    "data.duplicated().sum() # Проверяем очевидные дубликаты (их нет)"
   ]
  },
  {
   "attachments": {},
   "cell_type": "markdown",
   "metadata": {},
   "source": [
    "**На данном этапе можем выделить следующие проблемы:**\n",
    "- в данных очень много пропусков;\n",
    "- данные трудночитаемы ввиду плохой группировки и стилистических ошибок в названиях столбцов;\n",
    "- возможны неочевидные дубликаты в данных (разница в регистре или дате публикации), требующие более тщательной проверки."
   ]
  },
  {
   "attachments": {},
   "cell_type": "markdown",
   "metadata": {
    "id": "-O5NtivEAwb9"
   },
   "source": [
    "### Предобработка данных"
   ]
  },
  {
   "attachments": {},
   "cell_type": "markdown",
   "metadata": {
    "id": "7v3vAeTuAwb-"
   },
   "source": [
    "**2.0. В таблице всего 23699 строк. Однако, в некоторых из них есть пропуски. Изучим, в каких именно:**"
   ]
  },
  {
   "cell_type": "code",
   "execution_count": 10,
   "metadata": {},
   "outputs": [
    {
     "data": {
      "text/plain": [
       "is_apartment            20924\n",
       "parks_nearest           15620\n",
       "ponds_nearest           14589\n",
       "balcony                 11519\n",
       "ceiling_height           9195\n",
       "airports_nearest         5542\n",
       "cityCenters_nearest      5519\n",
       "ponds_around3000         5518\n",
       "parks_around3000         5518\n",
       "days_exposition          3181\n",
       "kitchen_area             2278\n",
       "living_area              1903\n",
       "floors_total               86\n",
       "locality_name              49\n",
       "total_images                0\n",
       "last_price                  0\n",
       "studio                      0\n",
       "floor                       0\n",
       "rooms                       0\n",
       "first_day_exposition        0\n",
       "total_area                  0\n",
       "open_plan                   0\n",
       "dtype: int64"
      ]
     },
     "execution_count": 10,
     "metadata": {},
     "output_type": "execute_result"
    }
   ],
   "source": [
    "data.isna().sum().sort_values(ascending=False) # Находим количество пропусков в каждом столбце"
   ]
  },
  {
   "attachments": {},
   "cell_type": "markdown",
   "metadata": {},
   "source": [
    "**Как видим, пропуски есть практически во всех столбцах. Ознакомимся с ними подробнее, но сперва перегруппируем и переименуем столбцы для лучшего восприятия информации:**"
   ]
  },
  {
   "cell_type": "code",
   "execution_count": 11,
   "metadata": {
    "scrolled": true
   },
   "outputs": [
    {
     "data": {
      "text/html": [
       "<div>\n",
       "<style scoped>\n",
       "    .dataframe tbody tr th:only-of-type {\n",
       "        vertical-align: middle;\n",
       "    }\n",
       "\n",
       "    .dataframe tbody tr th {\n",
       "        vertical-align: top;\n",
       "    }\n",
       "\n",
       "    .dataframe thead th {\n",
       "        text-align: right;\n",
       "    }\n",
       "</style>\n",
       "<table border=\"1\" class=\"dataframe\">\n",
       "  <thead>\n",
       "    <tr style=\"text-align: right;\">\n",
       "      <th></th>\n",
       "      <th>location</th>\n",
       "      <th>rooms</th>\n",
       "      <th>last_price</th>\n",
       "      <th>total_area</th>\n",
       "      <th>living_area</th>\n",
       "      <th>kitchen_area</th>\n",
       "      <th>total_images</th>\n",
       "      <th>floor</th>\n",
       "      <th>floors_total</th>\n",
       "      <th>apartment</th>\n",
       "      <th>studio</th>\n",
       "      <th>open_plan</th>\n",
       "      <th>ceiling_height</th>\n",
       "      <th>balcony</th>\n",
       "      <th>city_centers_nearest</th>\n",
       "      <th>airports_nearest</th>\n",
       "      <th>parks_around_3km</th>\n",
       "      <th>parks_nearest_m</th>\n",
       "      <th>ponds_around_3km</th>\n",
       "      <th>ponds_nearest_m</th>\n",
       "      <th>exposition_first_day</th>\n",
       "      <th>exposition_days</th>\n",
       "    </tr>\n",
       "  </thead>\n",
       "  <tbody>\n",
       "    <tr>\n",
       "      <th>0</th>\n",
       "      <td>Санкт-Петербург</td>\n",
       "      <td>3</td>\n",
       "      <td>13000000.0</td>\n",
       "      <td>108.00</td>\n",
       "      <td>51.00</td>\n",
       "      <td>25.00</td>\n",
       "      <td>20</td>\n",
       "      <td>8</td>\n",
       "      <td>16.0</td>\n",
       "      <td>NaN</td>\n",
       "      <td>False</td>\n",
       "      <td>False</td>\n",
       "      <td>2.70</td>\n",
       "      <td>NaN</td>\n",
       "      <td>16028.0</td>\n",
       "      <td>18863.0</td>\n",
       "      <td>1.0</td>\n",
       "      <td>482.0</td>\n",
       "      <td>2.0</td>\n",
       "      <td>755.0</td>\n",
       "      <td>NaN</td>\n",
       "      <td>2019-03-07T00:00:00</td>\n",
       "    </tr>\n",
       "    <tr>\n",
       "      <th>1</th>\n",
       "      <td>посёлок Шушары</td>\n",
       "      <td>1</td>\n",
       "      <td>3350000.0</td>\n",
       "      <td>40.40</td>\n",
       "      <td>18.60</td>\n",
       "      <td>11.00</td>\n",
       "      <td>7</td>\n",
       "      <td>1</td>\n",
       "      <td>11.0</td>\n",
       "      <td>NaN</td>\n",
       "      <td>False</td>\n",
       "      <td>False</td>\n",
       "      <td>NaN</td>\n",
       "      <td>2.0</td>\n",
       "      <td>18603.0</td>\n",
       "      <td>12817.0</td>\n",
       "      <td>0.0</td>\n",
       "      <td>NaN</td>\n",
       "      <td>0.0</td>\n",
       "      <td>NaN</td>\n",
       "      <td>81.0</td>\n",
       "      <td>2018-12-04T00:00:00</td>\n",
       "    </tr>\n",
       "    <tr>\n",
       "      <th>2</th>\n",
       "      <td>Санкт-Петербург</td>\n",
       "      <td>2</td>\n",
       "      <td>5196000.0</td>\n",
       "      <td>56.00</td>\n",
       "      <td>34.30</td>\n",
       "      <td>8.30</td>\n",
       "      <td>10</td>\n",
       "      <td>4</td>\n",
       "      <td>5.0</td>\n",
       "      <td>NaN</td>\n",
       "      <td>False</td>\n",
       "      <td>False</td>\n",
       "      <td>NaN</td>\n",
       "      <td>0.0</td>\n",
       "      <td>13933.0</td>\n",
       "      <td>21741.0</td>\n",
       "      <td>1.0</td>\n",
       "      <td>90.0</td>\n",
       "      <td>2.0</td>\n",
       "      <td>574.0</td>\n",
       "      <td>558.0</td>\n",
       "      <td>2015-08-20T00:00:00</td>\n",
       "    </tr>\n",
       "    <tr>\n",
       "      <th>3</th>\n",
       "      <td>Санкт-Петербург</td>\n",
       "      <td>3</td>\n",
       "      <td>64900000.0</td>\n",
       "      <td>159.00</td>\n",
       "      <td>NaN</td>\n",
       "      <td>NaN</td>\n",
       "      <td>0</td>\n",
       "      <td>9</td>\n",
       "      <td>14.0</td>\n",
       "      <td>NaN</td>\n",
       "      <td>False</td>\n",
       "      <td>False</td>\n",
       "      <td>NaN</td>\n",
       "      <td>0.0</td>\n",
       "      <td>6800.0</td>\n",
       "      <td>28098.0</td>\n",
       "      <td>2.0</td>\n",
       "      <td>84.0</td>\n",
       "      <td>3.0</td>\n",
       "      <td>234.0</td>\n",
       "      <td>424.0</td>\n",
       "      <td>2015-07-24T00:00:00</td>\n",
       "    </tr>\n",
       "    <tr>\n",
       "      <th>4</th>\n",
       "      <td>Санкт-Петербург</td>\n",
       "      <td>2</td>\n",
       "      <td>10000000.0</td>\n",
       "      <td>100.00</td>\n",
       "      <td>32.00</td>\n",
       "      <td>41.00</td>\n",
       "      <td>2</td>\n",
       "      <td>13</td>\n",
       "      <td>14.0</td>\n",
       "      <td>NaN</td>\n",
       "      <td>False</td>\n",
       "      <td>False</td>\n",
       "      <td>3.03</td>\n",
       "      <td>NaN</td>\n",
       "      <td>8098.0</td>\n",
       "      <td>31856.0</td>\n",
       "      <td>2.0</td>\n",
       "      <td>112.0</td>\n",
       "      <td>1.0</td>\n",
       "      <td>48.0</td>\n",
       "      <td>121.0</td>\n",
       "      <td>2018-06-19T00:00:00</td>\n",
       "    </tr>\n",
       "    <tr>\n",
       "      <th>5</th>\n",
       "      <td>городской посёлок Янино-1</td>\n",
       "      <td>1</td>\n",
       "      <td>2890000.0</td>\n",
       "      <td>30.40</td>\n",
       "      <td>14.40</td>\n",
       "      <td>9.10</td>\n",
       "      <td>10</td>\n",
       "      <td>5</td>\n",
       "      <td>12.0</td>\n",
       "      <td>NaN</td>\n",
       "      <td>False</td>\n",
       "      <td>False</td>\n",
       "      <td>NaN</td>\n",
       "      <td>NaN</td>\n",
       "      <td>NaN</td>\n",
       "      <td>NaN</td>\n",
       "      <td>NaN</td>\n",
       "      <td>NaN</td>\n",
       "      <td>NaN</td>\n",
       "      <td>NaN</td>\n",
       "      <td>55.0</td>\n",
       "      <td>2018-09-10T00:00:00</td>\n",
       "    </tr>\n",
       "    <tr>\n",
       "      <th>6</th>\n",
       "      <td>посёлок Парголово</td>\n",
       "      <td>1</td>\n",
       "      <td>3700000.0</td>\n",
       "      <td>37.30</td>\n",
       "      <td>10.60</td>\n",
       "      <td>14.40</td>\n",
       "      <td>6</td>\n",
       "      <td>6</td>\n",
       "      <td>26.0</td>\n",
       "      <td>NaN</td>\n",
       "      <td>False</td>\n",
       "      <td>False</td>\n",
       "      <td>NaN</td>\n",
       "      <td>1.0</td>\n",
       "      <td>19143.0</td>\n",
       "      <td>52996.0</td>\n",
       "      <td>0.0</td>\n",
       "      <td>NaN</td>\n",
       "      <td>0.0</td>\n",
       "      <td>NaN</td>\n",
       "      <td>155.0</td>\n",
       "      <td>2017-11-02T00:00:00</td>\n",
       "    </tr>\n",
       "    <tr>\n",
       "      <th>7</th>\n",
       "      <td>Санкт-Петербург</td>\n",
       "      <td>2</td>\n",
       "      <td>7915000.0</td>\n",
       "      <td>71.60</td>\n",
       "      <td>NaN</td>\n",
       "      <td>18.90</td>\n",
       "      <td>5</td>\n",
       "      <td>22</td>\n",
       "      <td>24.0</td>\n",
       "      <td>NaN</td>\n",
       "      <td>False</td>\n",
       "      <td>False</td>\n",
       "      <td>NaN</td>\n",
       "      <td>2.0</td>\n",
       "      <td>11634.0</td>\n",
       "      <td>23982.0</td>\n",
       "      <td>0.0</td>\n",
       "      <td>NaN</td>\n",
       "      <td>0.0</td>\n",
       "      <td>NaN</td>\n",
       "      <td>NaN</td>\n",
       "      <td>2019-04-18T00:00:00</td>\n",
       "    </tr>\n",
       "    <tr>\n",
       "      <th>8</th>\n",
       "      <td>посёлок Мурино</td>\n",
       "      <td>1</td>\n",
       "      <td>2900000.0</td>\n",
       "      <td>33.16</td>\n",
       "      <td>15.43</td>\n",
       "      <td>8.81</td>\n",
       "      <td>20</td>\n",
       "      <td>26</td>\n",
       "      <td>27.0</td>\n",
       "      <td>NaN</td>\n",
       "      <td>False</td>\n",
       "      <td>False</td>\n",
       "      <td>NaN</td>\n",
       "      <td>NaN</td>\n",
       "      <td>NaN</td>\n",
       "      <td>NaN</td>\n",
       "      <td>NaN</td>\n",
       "      <td>NaN</td>\n",
       "      <td>NaN</td>\n",
       "      <td>NaN</td>\n",
       "      <td>189.0</td>\n",
       "      <td>2018-05-23T00:00:00</td>\n",
       "    </tr>\n",
       "    <tr>\n",
       "      <th>9</th>\n",
       "      <td>Санкт-Петербург</td>\n",
       "      <td>3</td>\n",
       "      <td>5400000.0</td>\n",
       "      <td>61.00</td>\n",
       "      <td>43.60</td>\n",
       "      <td>6.50</td>\n",
       "      <td>18</td>\n",
       "      <td>7</td>\n",
       "      <td>9.0</td>\n",
       "      <td>NaN</td>\n",
       "      <td>False</td>\n",
       "      <td>False</td>\n",
       "      <td>2.50</td>\n",
       "      <td>2.0</td>\n",
       "      <td>15008.0</td>\n",
       "      <td>50898.0</td>\n",
       "      <td>0.0</td>\n",
       "      <td>NaN</td>\n",
       "      <td>0.0</td>\n",
       "      <td>NaN</td>\n",
       "      <td>289.0</td>\n",
       "      <td>2017-02-26T00:00:00</td>\n",
       "    </tr>\n",
       "  </tbody>\n",
       "</table>\n",
       "</div>"
      ],
      "text/plain": [
       "                    location  rooms  last_price  total_area  living_area  \\\n",
       "0            Санкт-Петербург      3  13000000.0      108.00        51.00   \n",
       "1             посёлок Шушары      1   3350000.0       40.40        18.60   \n",
       "2            Санкт-Петербург      2   5196000.0       56.00        34.30   \n",
       "3            Санкт-Петербург      3  64900000.0      159.00          NaN   \n",
       "4            Санкт-Петербург      2  10000000.0      100.00        32.00   \n",
       "5  городской посёлок Янино-1      1   2890000.0       30.40        14.40   \n",
       "6          посёлок Парголово      1   3700000.0       37.30        10.60   \n",
       "7            Санкт-Петербург      2   7915000.0       71.60          NaN   \n",
       "8             посёлок Мурино      1   2900000.0       33.16        15.43   \n",
       "9            Санкт-Петербург      3   5400000.0       61.00        43.60   \n",
       "\n",
       "   kitchen_area  total_images  floor  floors_total apartment  studio  \\\n",
       "0         25.00            20      8          16.0       NaN   False   \n",
       "1         11.00             7      1          11.0       NaN   False   \n",
       "2          8.30            10      4           5.0       NaN   False   \n",
       "3           NaN             0      9          14.0       NaN   False   \n",
       "4         41.00             2     13          14.0       NaN   False   \n",
       "5          9.10            10      5          12.0       NaN   False   \n",
       "6         14.40             6      6          26.0       NaN   False   \n",
       "7         18.90             5     22          24.0       NaN   False   \n",
       "8          8.81            20     26          27.0       NaN   False   \n",
       "9          6.50            18      7           9.0       NaN   False   \n",
       "\n",
       "   open_plan  ceiling_height  balcony  city_centers_nearest  airports_nearest  \\\n",
       "0      False            2.70      NaN               16028.0           18863.0   \n",
       "1      False             NaN      2.0               18603.0           12817.0   \n",
       "2      False             NaN      0.0               13933.0           21741.0   \n",
       "3      False             NaN      0.0                6800.0           28098.0   \n",
       "4      False            3.03      NaN                8098.0           31856.0   \n",
       "5      False             NaN      NaN                   NaN               NaN   \n",
       "6      False             NaN      1.0               19143.0           52996.0   \n",
       "7      False             NaN      2.0               11634.0           23982.0   \n",
       "8      False             NaN      NaN                   NaN               NaN   \n",
       "9      False            2.50      2.0               15008.0           50898.0   \n",
       "\n",
       "   parks_around_3km  parks_nearest_m  ponds_around_3km  ponds_nearest_m  \\\n",
       "0               1.0            482.0               2.0            755.0   \n",
       "1               0.0              NaN               0.0              NaN   \n",
       "2               1.0             90.0               2.0            574.0   \n",
       "3               2.0             84.0               3.0            234.0   \n",
       "4               2.0            112.0               1.0             48.0   \n",
       "5               NaN              NaN               NaN              NaN   \n",
       "6               0.0              NaN               0.0              NaN   \n",
       "7               0.0              NaN               0.0              NaN   \n",
       "8               NaN              NaN               NaN              NaN   \n",
       "9               0.0              NaN               0.0              NaN   \n",
       "\n",
       "   exposition_first_day      exposition_days  \n",
       "0                   NaN  2019-03-07T00:00:00  \n",
       "1                  81.0  2018-12-04T00:00:00  \n",
       "2                 558.0  2015-08-20T00:00:00  \n",
       "3                 424.0  2015-07-24T00:00:00  \n",
       "4                 121.0  2018-06-19T00:00:00  \n",
       "5                  55.0  2018-09-10T00:00:00  \n",
       "6                 155.0  2017-11-02T00:00:00  \n",
       "7                   NaN  2019-04-18T00:00:00  \n",
       "8                 189.0  2018-05-23T00:00:00  \n",
       "9                 289.0  2017-02-26T00:00:00  "
      ]
     },
     "execution_count": 11,
     "metadata": {},
     "output_type": "execute_result"
    }
   ],
   "source": [
    "data = data[[\n",
    "    'locality_name',\n",
    "    'rooms',\n",
    "    'last_price',\n",
    "    'total_area',\n",
    "    'living_area',\n",
    "    'kitchen_area',\n",
    "    'total_images',\n",
    "    'floor',\n",
    "    'floors_total',\n",
    "    'is_apartment',\n",
    "    'studio',\n",
    "    'open_plan',\n",
    "    'ceiling_height',\n",
    "    'balcony',\n",
    "    'cityCenters_nearest',\n",
    "    'airports_nearest',\n",
    "    'parks_around3000',\n",
    "    'parks_nearest',\n",
    "    'ponds_around3000',\n",
    "    'ponds_nearest',\n",
    "    'days_exposition',\n",
    "    'first_day_exposition'\n",
    "]] # Группируем параметры \n",
    "data.columns = [\n",
    "    'location',\n",
    "    'rooms',\n",
    "    'last_price',\n",
    "    'total_area',\n",
    "    'living_area',\n",
    "    'kitchen_area',\n",
    "    'total_images',\n",
    "    'floor',\n",
    "    'floors_total',\n",
    "    'apartment',\n",
    "    'studio',\n",
    "    'open_plan',\n",
    "    'ceiling_height',\n",
    "    'balcony',\n",
    "    'city_centers_nearest',\n",
    "    'airports_nearest',\n",
    "    'parks_around_3km',\n",
    "    'parks_nearest_m',\n",
    "    'ponds_around_3km',\n",
    "    'ponds_nearest_m',\n",
    "    'exposition_first_day',\n",
    "    'exposition_days',\n",
    "] # Переименовываем столбцы\n",
    "data.head(10) # Выводим первые 10 строк обновлённой таблицы"
   ]
  },
  {
   "attachments": {},
   "cell_type": "markdown",
   "metadata": {},
   "source": [
    "**Ещё раз выведем пропуски для каждого столбца и разберёмся с каждым из них по очереди:**"
   ]
  },
  {
   "cell_type": "raw",
   "metadata": {
    "scrolled": false
   },
   "source": [
    "data.isna().sum()"
   ]
  },
  {
   "attachments": {},
   "cell_type": "markdown",
   "metadata": {},
   "source": [
    "**2.1. Первые на очереди — пропуски в названии города. Строк с такими пропусками всего 49, что в масштабах почти 27 тысяч строк крайне незначительно, так что этими данными можно пренебречь. К тому же, эти данные не несут пользы и для клиентов, так как населённый пункт является одним из основополагающих факторов при покупке квартиры**"
   ]
  },
  {
   "cell_type": "code",
   "execution_count": 1,
   "metadata": {},
   "outputs": [
    {
     "ename": "NameError",
     "evalue": "name 'data' is not defined",
     "output_type": "error",
     "traceback": [
      "\u001b[0;31m---------------------------------------------------------------------------\u001b[0m",
      "\u001b[0;31mNameError\u001b[0m                                 Traceback (most recent call last)",
      "\u001b[0;32m/tmp/ipykernel_47/2057496708.py\u001b[0m in \u001b[0;36m<module>\u001b[0;34m\u001b[0m\n\u001b[0;32m----> 1\u001b[0;31m \u001b[0mdata\u001b[0m \u001b[0;34m=\u001b[0m \u001b[0mdata\u001b[0m\u001b[0;34m.\u001b[0m\u001b[0mdropna\u001b[0m\u001b[0;34m(\u001b[0m\u001b[0msubset\u001b[0m\u001b[0;34m=\u001b[0m\u001b[0;34m[\u001b[0m\u001b[0;34m'location'\u001b[0m\u001b[0;34m]\u001b[0m\u001b[0;34m)\u001b[0m\u001b[0;34m.\u001b[0m\u001b[0mreset_index\u001b[0m\u001b[0;34m(\u001b[0m\u001b[0mdrop\u001b[0m\u001b[0;34m=\u001b[0m\u001b[0;32mTrue\u001b[0m\u001b[0;34m)\u001b[0m \u001b[0;31m# Удаляем строки с пропусками\u001b[0m\u001b[0;34m\u001b[0m\u001b[0;34m\u001b[0m\u001b[0m\n\u001b[0m\u001b[1;32m      2\u001b[0m \u001b[0mdata\u001b[0m\u001b[0;34m[\u001b[0m\u001b[0;34m'location'\u001b[0m\u001b[0;34m]\u001b[0m\u001b[0;34m.\u001b[0m\u001b[0misna\u001b[0m\u001b[0;34m(\u001b[0m\u001b[0;34m)\u001b[0m\u001b[0;34m.\u001b[0m\u001b[0msum\u001b[0m\u001b[0;34m(\u001b[0m\u001b[0;34m)\u001b[0m \u001b[0;31m# Проверяем, что количество пропусков стало равно нулю\u001b[0m\u001b[0;34m\u001b[0m\u001b[0;34m\u001b[0m\u001b[0m\n",
      "\u001b[0;31mNameError\u001b[0m: name 'data' is not defined"
     ]
    }
   ],
   "source": [
    "data = data.dropna(subset=['location']) # Удаляем строки с пропусками\n",
    "data['location'].isna().sum() # Проверяем, что количество пропусков стало равно нулю"
   ]
  },
  {
   "attachments": {},
   "cell_type": "markdown",
   "metadata": {},
   "source": [
    "**Однако, помимо пропусков, в названиях населённых пунктов могут также встречаться и неочевидные дубликаты. Например, разный регистр в названии или иные варианты написания. Изучим подробнее список населённых пунктов:**"
   ]
  },
  {
   "cell_type": "code",
   "execution_count": 14,
   "metadata": {},
   "outputs": [
    {
     "data": {
      "text/plain": [
       "364"
      ]
     },
     "execution_count": 14,
     "metadata": {},
     "output_type": "execute_result"
    }
   ],
   "source": [
    "len(data['location'].unique()) # Находим количество уникальных названий"
   ]
  },
  {
   "cell_type": "code",
   "execution_count": 15,
   "metadata": {},
   "outputs": [
    {
     "data": {
      "text/plain": [
       "['Санкт-Петербург',\n",
       " 'посёлок Шушары',\n",
       " 'городской посёлок Янино-1',\n",
       " 'посёлок Парголово',\n",
       " 'посёлок Мурино',\n",
       " 'Ломоносов',\n",
       " 'Сертолово',\n",
       " 'Петергоф',\n",
       " 'Пушкин',\n",
       " 'деревня Кудрово',\n",
       " 'Коммунар',\n",
       " 'Колпино',\n",
       " 'поселок городского типа Красный Бор',\n",
       " 'Гатчина',\n",
       " 'поселок Мурино',\n",
       " 'деревня Фёдоровское',\n",
       " 'Выборг',\n",
       " 'Кронштадт',\n",
       " 'Кировск',\n",
       " 'деревня Новое Девяткино',\n",
       " 'посёлок Металлострой',\n",
       " 'посёлок городского типа Лебяжье',\n",
       " 'посёлок городского типа Сиверский',\n",
       " 'поселок Молодцово',\n",
       " 'поселок городского типа Кузьмоловский',\n",
       " 'садовое товарищество Новая Ропша',\n",
       " 'Павловск',\n",
       " 'деревня Пикколово',\n",
       " 'Всеволожск',\n",
       " 'Волхов',\n",
       " 'Кингисепп',\n",
       " 'Приозерск',\n",
       " 'Сестрорецк',\n",
       " 'деревня Куттузи',\n",
       " 'посёлок Аннино',\n",
       " 'поселок городского типа Ефимовский',\n",
       " 'посёлок Плодовое',\n",
       " 'деревня Заклинье',\n",
       " 'поселок Торковичи',\n",
       " 'поселок Первомайское',\n",
       " 'Красное Село',\n",
       " 'посёлок Понтонный',\n",
       " 'Сясьстрой',\n",
       " 'деревня Старая',\n",
       " 'деревня Лесколово',\n",
       " 'посёлок Новый Свет',\n",
       " 'Сланцы',\n",
       " 'село Путилово',\n",
       " 'Ивангород',\n",
       " 'Мурино',\n",
       " 'Шлиссельбург',\n",
       " 'Никольское',\n",
       " 'Зеленогорск',\n",
       " 'Сосновый Бор',\n",
       " 'поселок Новый Свет',\n",
       " 'деревня Оржицы',\n",
       " 'деревня Кальтино',\n",
       " 'Кудрово',\n",
       " 'поселок Романовка',\n",
       " 'посёлок Бугры',\n",
       " 'поселок Бугры',\n",
       " 'поселок городского типа Рощино',\n",
       " 'Кириши',\n",
       " 'Луга',\n",
       " 'Волосово',\n",
       " 'Отрадное',\n",
       " 'село Павлово',\n",
       " 'поселок Оредеж',\n",
       " 'село Копорье',\n",
       " 'посёлок городского типа Красный Бор',\n",
       " 'посёлок Молодёжное',\n",
       " 'Тихвин',\n",
       " 'посёлок Победа',\n",
       " 'деревня Нурма',\n",
       " 'поселок городского типа Синявино',\n",
       " 'Тосно',\n",
       " 'посёлок городского типа Кузьмоловский',\n",
       " 'посёлок Стрельна',\n",
       " 'Бокситогорск',\n",
       " 'посёлок Александровская',\n",
       " 'деревня Лопухинка',\n",
       " 'Пикалёво',\n",
       " 'поселок Терволово',\n",
       " 'поселок городского типа Советский',\n",
       " 'Подпорожье',\n",
       " 'посёлок Петровское',\n",
       " 'посёлок городского типа Токсово',\n",
       " 'поселок Сельцо',\n",
       " 'посёлок городского типа Вырица',\n",
       " 'деревня Кипень',\n",
       " 'деревня Келози',\n",
       " 'деревня Вартемяги',\n",
       " 'посёлок Тельмана',\n",
       " 'поселок Севастьяново',\n",
       " 'городской поселок Большая Ижора',\n",
       " 'городской посёлок Павлово',\n",
       " 'деревня Агалатово',\n",
       " 'посёлок Новогорелово',\n",
       " 'городской посёлок Лесогорский',\n",
       " 'деревня Лаголово',\n",
       " 'поселок Цвелодубово',\n",
       " 'поселок городского типа Рахья',\n",
       " 'поселок городского типа Вырица',\n",
       " 'деревня Белогорка',\n",
       " 'поселок Заводской',\n",
       " 'городской посёлок Новоселье',\n",
       " 'деревня Большие Колпаны',\n",
       " 'деревня Горбунки',\n",
       " 'деревня Батово',\n",
       " 'деревня Заневка',\n",
       " 'деревня Иссад',\n",
       " 'Приморск',\n",
       " 'городской посёлок Фёдоровское',\n",
       " 'деревня Мистолово',\n",
       " 'Новая Ладога',\n",
       " 'поселок Зимитицы',\n",
       " 'поселок Барышево',\n",
       " 'деревня Разметелево',\n",
       " 'поселок городского типа имени Свердлова',\n",
       " 'деревня Пеники',\n",
       " 'поселок Рябово',\n",
       " 'деревня Пудомяги',\n",
       " 'поселок станции Корнево',\n",
       " 'деревня Низино',\n",
       " 'деревня Бегуницы',\n",
       " 'посёлок Поляны',\n",
       " 'городской посёлок Мга',\n",
       " 'поселок Елизаветино',\n",
       " 'посёлок городского типа Кузнечное',\n",
       " 'деревня Колтуши',\n",
       " 'поселок Запорожское',\n",
       " 'посёлок городского типа Рощино',\n",
       " 'деревня Гостилицы',\n",
       " 'деревня Малое Карлино',\n",
       " 'посёлок Мичуринское',\n",
       " 'посёлок городского типа имени Морозова',\n",
       " 'посёлок Песочный',\n",
       " 'посёлок Сосново',\n",
       " 'деревня Аро',\n",
       " 'поселок Ильичёво',\n",
       " 'посёлок городского типа Тайцы',\n",
       " 'деревня Малое Верево',\n",
       " 'деревня Извара',\n",
       " 'поселок станции Вещево',\n",
       " 'село Паша',\n",
       " 'деревня Калитино',\n",
       " 'посёлок городского типа Ульяновка',\n",
       " 'деревня Чудской Бор',\n",
       " 'поселок городского типа Дубровка',\n",
       " 'деревня Мины',\n",
       " 'поселок Войсковицы',\n",
       " 'посёлок городского типа имени Свердлова',\n",
       " 'деревня Коркино',\n",
       " 'посёлок Ропша',\n",
       " 'поселок городского типа Приладожский',\n",
       " 'посёлок Щеглово',\n",
       " 'посёлок Гаврилово',\n",
       " 'Лодейное Поле',\n",
       " 'деревня Рабитицы',\n",
       " 'поселок городского типа Никольский',\n",
       " 'деревня Кузьмолово',\n",
       " 'деревня Малые Колпаны',\n",
       " 'поселок Тельмана',\n",
       " 'посёлок Петро-Славянка',\n",
       " 'городской посёлок Назия',\n",
       " 'посёлок Репино',\n",
       " 'посёлок Ильичёво',\n",
       " 'поселок Углово',\n",
       " 'поселок Старая Малукса',\n",
       " 'садовое товарищество Рахья',\n",
       " 'поселок Аннино',\n",
       " 'поселок Победа',\n",
       " 'деревня Меньково',\n",
       " 'деревня Старые Бегуницы',\n",
       " 'посёлок Сапёрный',\n",
       " 'поселок Семрино',\n",
       " 'поселок Гаврилово',\n",
       " 'поселок Глажево',\n",
       " 'поселок Кобринское',\n",
       " 'деревня Гарболово',\n",
       " 'деревня Юкки',\n",
       " 'поселок станции Приветнинское',\n",
       " 'деревня Мануйлово',\n",
       " 'деревня Пчева',\n",
       " 'поселок Поляны',\n",
       " 'поселок Цвылёво',\n",
       " 'поселок Мельниково',\n",
       " 'посёлок Пудость',\n",
       " 'посёлок Усть-Луга',\n",
       " 'Светогорск',\n",
       " 'Любань',\n",
       " 'поселок Селезнёво',\n",
       " 'поселок городского типа Рябово',\n",
       " 'Каменногорск',\n",
       " 'деревня Кривко',\n",
       " 'поселок Глебычево',\n",
       " 'деревня Парицы',\n",
       " 'поселок Жилпосёлок',\n",
       " 'посёлок городского типа Мга',\n",
       " 'городской поселок Янино-1',\n",
       " 'посёлок Войскорово',\n",
       " 'село Никольское',\n",
       " 'посёлок Терволово',\n",
       " 'поселок Стеклянный',\n",
       " 'посёлок городского типа Важины',\n",
       " 'посёлок Мыза-Ивановка',\n",
       " 'село Русско-Высоцкое',\n",
       " 'поселок городского типа Лебяжье',\n",
       " 'поселок городского типа Форносово',\n",
       " 'село Старая Ладога',\n",
       " 'поселок Житково',\n",
       " 'городской посёлок Виллози',\n",
       " 'деревня Лампово',\n",
       " 'деревня Шпаньково',\n",
       " 'деревня Лаврики',\n",
       " 'посёлок Сумино',\n",
       " 'посёлок Возрождение',\n",
       " 'деревня Старосиверская',\n",
       " 'посёлок Кикерино',\n",
       " 'поселок Возрождение',\n",
       " 'деревня Старое Хинколово',\n",
       " 'посёлок Пригородный',\n",
       " 'посёлок Торфяное',\n",
       " 'городской посёлок Будогощь',\n",
       " 'поселок Суходолье',\n",
       " 'поселок Красная Долина',\n",
       " 'деревня Хапо-Ое',\n",
       " 'поселок городского типа Дружная Горка',\n",
       " 'поселок Лисий Нос',\n",
       " 'деревня Яльгелево',\n",
       " 'посёлок Стеклянный',\n",
       " 'село Рождествено',\n",
       " 'деревня Старополье',\n",
       " 'посёлок Левашово',\n",
       " 'деревня Сяськелево',\n",
       " 'деревня Камышовка',\n",
       " 'садоводческое некоммерческое товарищество Лесная Поляна',\n",
       " 'деревня Хязельки',\n",
       " 'поселок Жилгородок',\n",
       " 'посёлок городского типа Павлово',\n",
       " 'деревня Ялгино',\n",
       " 'поселок Новый Учхоз',\n",
       " 'городской посёлок Рощино',\n",
       " 'поселок Гончарово',\n",
       " 'поселок Почап',\n",
       " 'посёлок Сапёрное',\n",
       " 'посёлок Платформа 69-й километр',\n",
       " 'поселок Каложицы',\n",
       " 'деревня Фалилеево',\n",
       " 'деревня Пельгора',\n",
       " 'поселок городского типа Лесогорский',\n",
       " 'деревня Торошковичи',\n",
       " 'посёлок Белоостров',\n",
       " 'посёлок Алексеевка',\n",
       " 'поселок Серебрянский',\n",
       " 'поселок Лукаши',\n",
       " 'поселок Петровское',\n",
       " 'деревня Щеглово',\n",
       " 'поселок Мичуринское',\n",
       " 'деревня Тарасово',\n",
       " 'поселок Кингисеппский',\n",
       " 'посёлок при железнодорожной станции Вещево',\n",
       " 'поселок Ушаки',\n",
       " 'деревня Котлы',\n",
       " 'деревня Сижно',\n",
       " 'деревня Торосово',\n",
       " 'посёлок Форт Красная Горка',\n",
       " 'поселок городского типа Токсово',\n",
       " 'деревня Новолисино',\n",
       " 'посёлок станции Громово',\n",
       " 'деревня Глинка',\n",
       " 'посёлок Мельниково',\n",
       " 'поселок городского типа Назия',\n",
       " 'деревня Старая Пустошь',\n",
       " 'поселок Коммунары',\n",
       " 'поселок Починок',\n",
       " 'посёлок городского типа Вознесенье',\n",
       " 'деревня Разбегаево',\n",
       " 'посёлок городского типа Рябово',\n",
       " 'поселок Гладкое',\n",
       " 'посёлок при железнодорожной станции Приветнинское',\n",
       " 'поселок Тёсово-4',\n",
       " 'посёлок Жилгородок',\n",
       " 'деревня Бор',\n",
       " 'посёлок Коробицыно',\n",
       " 'деревня Большая Вруда',\n",
       " 'деревня Курковицы',\n",
       " 'посёлок Лисий Нос',\n",
       " 'городской посёлок Советский',\n",
       " 'посёлок Кобралово',\n",
       " 'деревня Суоранда',\n",
       " 'поселок Кобралово',\n",
       " 'поселок городского типа Кондратьево',\n",
       " 'коттеджный поселок Счастье',\n",
       " 'поселок Любань',\n",
       " 'деревня Реброво',\n",
       " 'деревня Зимитицы',\n",
       " 'деревня Тойворово',\n",
       " 'поселок Семиозерье',\n",
       " 'поселок Лесное',\n",
       " 'поселок Совхозный',\n",
       " 'поселок Усть-Луга',\n",
       " 'посёлок Ленинское',\n",
       " 'посёлок Суйда',\n",
       " 'посёлок городского типа Форносово',\n",
       " 'деревня Нижние Осельки',\n",
       " 'посёлок станции Свирь',\n",
       " 'поселок Перово',\n",
       " 'Высоцк',\n",
       " 'поселок Гарболово',\n",
       " 'село Шум',\n",
       " 'поселок Котельский',\n",
       " 'поселок станции Лужайка',\n",
       " 'деревня Большая Пустомержа',\n",
       " 'поселок Красносельское',\n",
       " 'деревня Вахнова Кара',\n",
       " 'деревня Пижма',\n",
       " 'коттеджный поселок Кивеннапа Север',\n",
       " 'поселок Коробицыно',\n",
       " 'поселок Ромашки',\n",
       " 'посёлок Перово',\n",
       " 'деревня Каськово',\n",
       " 'деревня Куровицы',\n",
       " 'посёлок Плоское',\n",
       " 'поселок Сумино',\n",
       " 'поселок городского типа Большая Ижора',\n",
       " 'поселок Кирпичное',\n",
       " 'деревня Ям-Тесово',\n",
       " 'деревня Раздолье',\n",
       " 'деревня Терпилицы',\n",
       " 'посёлок Шугозеро',\n",
       " 'деревня Ваганово',\n",
       " 'поселок Пушное',\n",
       " 'садовое товарищество Садко',\n",
       " 'посёлок Усть-Ижора',\n",
       " 'деревня Выскатка',\n",
       " 'городской посёлок Свирьстрой',\n",
       " 'поселок Громово',\n",
       " 'деревня Кисельня',\n",
       " 'посёлок Старая Малукса',\n",
       " 'деревня Трубников Бор',\n",
       " 'поселок Калитино',\n",
       " 'посёлок Высокоключевой',\n",
       " 'садовое товарищество Приладожский',\n",
       " 'посёлок Пансионат Зелёный Бор',\n",
       " 'деревня Ненимяки',\n",
       " 'поселок Пансионат Зелёный Бор',\n",
       " 'деревня Снегирёвка',\n",
       " 'деревня Рапполово',\n",
       " 'деревня Пустынка',\n",
       " 'поселок Рабитицы',\n",
       " 'деревня Большой Сабск',\n",
       " 'деревня Русско',\n",
       " 'деревня Лупполово',\n",
       " 'деревня Большое Рейзино',\n",
       " 'деревня Малая Романовка',\n",
       " 'поселок Дружноселье',\n",
       " 'поселок Пчевжа',\n",
       " 'поселок Володарское',\n",
       " 'деревня Нижняя',\n",
       " 'коттеджный посёлок Лесное',\n",
       " 'деревня Тихковицы',\n",
       " 'деревня Борисова Грива',\n",
       " 'посёлок Дзержинского']"
      ]
     },
     "execution_count": 15,
     "metadata": {},
     "output_type": "execute_result"
    }
   ],
   "source": [
    "data['location'].unique().tolist() # Выводим список для ознакомления"
   ]
  },
  {
   "attachments": {},
   "cell_type": "markdown",
   "metadata": {},
   "source": [
    "**Очевидно, проверить вручную все возможные совпадения не представляется возможным. К тому же, довольно трудоёмко будет перепроверить все возможные пары типа \"посёлок — посёлок городского типа\" с похожими названиями на то, действительно ли это разные населённые пункты, или же один и тот же. Но вот что точно можно заметить невооружённым глазом — так это двоякость написания слова \"посёлок\" (иногда — с буквой \"ё\", иногда — с \"е\"). Исправим это, заменив все \"ё\" на \"е\":**"
   ]
  },
  {
   "cell_type": "code",
   "execution_count": 16,
   "metadata": {},
   "outputs": [],
   "source": [
    "data['location'] = (\n",
    "    data['location']\n",
    "    .str.replace('ё', 'е')\n",
    "    .str.replace('поселок городского типа', 'поселок')\n",
    "    .str.replace('городской поселок', 'поселок')\n",
    "    .str.replace('городской поселок', 'поселок')\n",
    "    .str.replace('коттеджный поселок', 'поселок')\n",
    ")"
   ]
  },
  {
   "cell_type": "code",
   "execution_count": 17,
   "metadata": {
    "scrolled": true
   },
   "outputs": [
    {
     "data": {
      "text/plain": [
       "321"
      ]
     },
     "execution_count": 17,
     "metadata": {},
     "output_type": "execute_result"
    }
   ],
   "source": [
    "len(data['location'].unique())"
   ]
  },
  {
   "attachments": {},
   "cell_type": "markdown",
   "metadata": {},
   "source": [
    "**В результате такой замены избавились от 43 дубликатов**"
   ]
  },
  {
   "attachments": {},
   "cell_type": "markdown",
   "metadata": {},
   "source": [
    "**2.2. Пропущенные значения в столбцах с жилой площадью, площадью кухни, а также расстояниями до центра города, аэропорта, парков и прудов можно оставить в их нынешнем состоянии, так как изначально людям, разместившим объявления, скорее всего было просто лень заполнять подобного рода информацию. Аналогично можем поступить с числом дней с момента размещения объявления, но уже ввиду того, что данные могли потеряться по техническим причинам.**"
   ]
  },
  {
   "cell_type": "code",
   "execution_count": 18,
   "metadata": {
    "scrolled": true
   },
   "outputs": [
    {
     "data": {
      "text/html": [
       "<div>\n",
       "<style scoped>\n",
       "    .dataframe tbody tr th:only-of-type {\n",
       "        vertical-align: middle;\n",
       "    }\n",
       "\n",
       "    .dataframe tbody tr th {\n",
       "        vertical-align: top;\n",
       "    }\n",
       "\n",
       "    .dataframe thead th {\n",
       "        text-align: right;\n",
       "    }\n",
       "</style>\n",
       "<table border=\"1\" class=\"dataframe\">\n",
       "  <thead>\n",
       "    <tr style=\"text-align: right;\">\n",
       "      <th></th>\n",
       "      <th>location</th>\n",
       "      <th>rooms</th>\n",
       "      <th>last_price</th>\n",
       "      <th>total_area</th>\n",
       "      <th>living_area</th>\n",
       "      <th>kitchen_area</th>\n",
       "      <th>total_images</th>\n",
       "      <th>floor</th>\n",
       "      <th>floors_total</th>\n",
       "      <th>apartment</th>\n",
       "      <th>studio</th>\n",
       "      <th>open_plan</th>\n",
       "      <th>ceiling_height</th>\n",
       "      <th>balcony</th>\n",
       "      <th>city_centers_nearest</th>\n",
       "      <th>airports_nearest</th>\n",
       "      <th>parks_around_3km</th>\n",
       "      <th>parks_nearest_m</th>\n",
       "      <th>ponds_around_3km</th>\n",
       "      <th>ponds_nearest_m</th>\n",
       "      <th>exposition_first_day</th>\n",
       "      <th>exposition_days</th>\n",
       "    </tr>\n",
       "  </thead>\n",
       "  <tbody>\n",
       "    <tr>\n",
       "      <th>0</th>\n",
       "      <td>Санкт-Петербург</td>\n",
       "      <td>3</td>\n",
       "      <td>13000000.0</td>\n",
       "      <td>108.00</td>\n",
       "      <td>51.00</td>\n",
       "      <td>25.00</td>\n",
       "      <td>20</td>\n",
       "      <td>8</td>\n",
       "      <td>16.0</td>\n",
       "      <td>NaN</td>\n",
       "      <td>False</td>\n",
       "      <td>False</td>\n",
       "      <td>2.70</td>\n",
       "      <td>NaN</td>\n",
       "      <td>16028.0</td>\n",
       "      <td>18863.0</td>\n",
       "      <td>1.0</td>\n",
       "      <td>482.0</td>\n",
       "      <td>2.0</td>\n",
       "      <td>755.0</td>\n",
       "      <td>NaN</td>\n",
       "      <td>2019-03-07T00:00:00</td>\n",
       "    </tr>\n",
       "    <tr>\n",
       "      <th>1</th>\n",
       "      <td>поселок Шушары</td>\n",
       "      <td>1</td>\n",
       "      <td>3350000.0</td>\n",
       "      <td>40.40</td>\n",
       "      <td>18.60</td>\n",
       "      <td>11.00</td>\n",
       "      <td>7</td>\n",
       "      <td>1</td>\n",
       "      <td>11.0</td>\n",
       "      <td>NaN</td>\n",
       "      <td>False</td>\n",
       "      <td>False</td>\n",
       "      <td>NaN</td>\n",
       "      <td>2.0</td>\n",
       "      <td>18603.0</td>\n",
       "      <td>12817.0</td>\n",
       "      <td>0.0</td>\n",
       "      <td>NaN</td>\n",
       "      <td>0.0</td>\n",
       "      <td>NaN</td>\n",
       "      <td>81.0</td>\n",
       "      <td>2018-12-04T00:00:00</td>\n",
       "    </tr>\n",
       "    <tr>\n",
       "      <th>2</th>\n",
       "      <td>Санкт-Петербург</td>\n",
       "      <td>2</td>\n",
       "      <td>5196000.0</td>\n",
       "      <td>56.00</td>\n",
       "      <td>34.30</td>\n",
       "      <td>8.30</td>\n",
       "      <td>10</td>\n",
       "      <td>4</td>\n",
       "      <td>5.0</td>\n",
       "      <td>NaN</td>\n",
       "      <td>False</td>\n",
       "      <td>False</td>\n",
       "      <td>NaN</td>\n",
       "      <td>0.0</td>\n",
       "      <td>13933.0</td>\n",
       "      <td>21741.0</td>\n",
       "      <td>1.0</td>\n",
       "      <td>90.0</td>\n",
       "      <td>2.0</td>\n",
       "      <td>574.0</td>\n",
       "      <td>558.0</td>\n",
       "      <td>2015-08-20T00:00:00</td>\n",
       "    </tr>\n",
       "    <tr>\n",
       "      <th>3</th>\n",
       "      <td>Санкт-Петербург</td>\n",
       "      <td>3</td>\n",
       "      <td>64900000.0</td>\n",
       "      <td>159.00</td>\n",
       "      <td>NaN</td>\n",
       "      <td>NaN</td>\n",
       "      <td>0</td>\n",
       "      <td>9</td>\n",
       "      <td>14.0</td>\n",
       "      <td>NaN</td>\n",
       "      <td>False</td>\n",
       "      <td>False</td>\n",
       "      <td>NaN</td>\n",
       "      <td>0.0</td>\n",
       "      <td>6800.0</td>\n",
       "      <td>28098.0</td>\n",
       "      <td>2.0</td>\n",
       "      <td>84.0</td>\n",
       "      <td>3.0</td>\n",
       "      <td>234.0</td>\n",
       "      <td>424.0</td>\n",
       "      <td>2015-07-24T00:00:00</td>\n",
       "    </tr>\n",
       "    <tr>\n",
       "      <th>4</th>\n",
       "      <td>Санкт-Петербург</td>\n",
       "      <td>2</td>\n",
       "      <td>10000000.0</td>\n",
       "      <td>100.00</td>\n",
       "      <td>32.00</td>\n",
       "      <td>41.00</td>\n",
       "      <td>2</td>\n",
       "      <td>13</td>\n",
       "      <td>14.0</td>\n",
       "      <td>NaN</td>\n",
       "      <td>False</td>\n",
       "      <td>False</td>\n",
       "      <td>3.03</td>\n",
       "      <td>NaN</td>\n",
       "      <td>8098.0</td>\n",
       "      <td>31856.0</td>\n",
       "      <td>2.0</td>\n",
       "      <td>112.0</td>\n",
       "      <td>1.0</td>\n",
       "      <td>48.0</td>\n",
       "      <td>121.0</td>\n",
       "      <td>2018-06-19T00:00:00</td>\n",
       "    </tr>\n",
       "    <tr>\n",
       "      <th>5</th>\n",
       "      <td>поселок Янино-1</td>\n",
       "      <td>1</td>\n",
       "      <td>2890000.0</td>\n",
       "      <td>30.40</td>\n",
       "      <td>14.40</td>\n",
       "      <td>9.10</td>\n",
       "      <td>10</td>\n",
       "      <td>5</td>\n",
       "      <td>12.0</td>\n",
       "      <td>NaN</td>\n",
       "      <td>False</td>\n",
       "      <td>False</td>\n",
       "      <td>NaN</td>\n",
       "      <td>NaN</td>\n",
       "      <td>NaN</td>\n",
       "      <td>NaN</td>\n",
       "      <td>NaN</td>\n",
       "      <td>NaN</td>\n",
       "      <td>NaN</td>\n",
       "      <td>NaN</td>\n",
       "      <td>55.0</td>\n",
       "      <td>2018-09-10T00:00:00</td>\n",
       "    </tr>\n",
       "    <tr>\n",
       "      <th>6</th>\n",
       "      <td>поселок Парголово</td>\n",
       "      <td>1</td>\n",
       "      <td>3700000.0</td>\n",
       "      <td>37.30</td>\n",
       "      <td>10.60</td>\n",
       "      <td>14.40</td>\n",
       "      <td>6</td>\n",
       "      <td>6</td>\n",
       "      <td>26.0</td>\n",
       "      <td>NaN</td>\n",
       "      <td>False</td>\n",
       "      <td>False</td>\n",
       "      <td>NaN</td>\n",
       "      <td>1.0</td>\n",
       "      <td>19143.0</td>\n",
       "      <td>52996.0</td>\n",
       "      <td>0.0</td>\n",
       "      <td>NaN</td>\n",
       "      <td>0.0</td>\n",
       "      <td>NaN</td>\n",
       "      <td>155.0</td>\n",
       "      <td>2017-11-02T00:00:00</td>\n",
       "    </tr>\n",
       "    <tr>\n",
       "      <th>7</th>\n",
       "      <td>Санкт-Петербург</td>\n",
       "      <td>2</td>\n",
       "      <td>7915000.0</td>\n",
       "      <td>71.60</td>\n",
       "      <td>NaN</td>\n",
       "      <td>18.90</td>\n",
       "      <td>5</td>\n",
       "      <td>22</td>\n",
       "      <td>24.0</td>\n",
       "      <td>NaN</td>\n",
       "      <td>False</td>\n",
       "      <td>False</td>\n",
       "      <td>NaN</td>\n",
       "      <td>2.0</td>\n",
       "      <td>11634.0</td>\n",
       "      <td>23982.0</td>\n",
       "      <td>0.0</td>\n",
       "      <td>NaN</td>\n",
       "      <td>0.0</td>\n",
       "      <td>NaN</td>\n",
       "      <td>NaN</td>\n",
       "      <td>2019-04-18T00:00:00</td>\n",
       "    </tr>\n",
       "    <tr>\n",
       "      <th>8</th>\n",
       "      <td>поселок Мурино</td>\n",
       "      <td>1</td>\n",
       "      <td>2900000.0</td>\n",
       "      <td>33.16</td>\n",
       "      <td>15.43</td>\n",
       "      <td>8.81</td>\n",
       "      <td>20</td>\n",
       "      <td>26</td>\n",
       "      <td>27.0</td>\n",
       "      <td>NaN</td>\n",
       "      <td>False</td>\n",
       "      <td>False</td>\n",
       "      <td>NaN</td>\n",
       "      <td>NaN</td>\n",
       "      <td>NaN</td>\n",
       "      <td>NaN</td>\n",
       "      <td>NaN</td>\n",
       "      <td>NaN</td>\n",
       "      <td>NaN</td>\n",
       "      <td>NaN</td>\n",
       "      <td>189.0</td>\n",
       "      <td>2018-05-23T00:00:00</td>\n",
       "    </tr>\n",
       "    <tr>\n",
       "      <th>9</th>\n",
       "      <td>Санкт-Петербург</td>\n",
       "      <td>3</td>\n",
       "      <td>5400000.0</td>\n",
       "      <td>61.00</td>\n",
       "      <td>43.60</td>\n",
       "      <td>6.50</td>\n",
       "      <td>18</td>\n",
       "      <td>7</td>\n",
       "      <td>9.0</td>\n",
       "      <td>NaN</td>\n",
       "      <td>False</td>\n",
       "      <td>False</td>\n",
       "      <td>2.50</td>\n",
       "      <td>2.0</td>\n",
       "      <td>15008.0</td>\n",
       "      <td>50898.0</td>\n",
       "      <td>0.0</td>\n",
       "      <td>NaN</td>\n",
       "      <td>0.0</td>\n",
       "      <td>NaN</td>\n",
       "      <td>289.0</td>\n",
       "      <td>2017-02-26T00:00:00</td>\n",
       "    </tr>\n",
       "    <tr>\n",
       "      <th>10</th>\n",
       "      <td>Санкт-Петербург</td>\n",
       "      <td>1</td>\n",
       "      <td>5050000.0</td>\n",
       "      <td>39.60</td>\n",
       "      <td>20.30</td>\n",
       "      <td>8.50</td>\n",
       "      <td>5</td>\n",
       "      <td>3</td>\n",
       "      <td>12.0</td>\n",
       "      <td>NaN</td>\n",
       "      <td>False</td>\n",
       "      <td>False</td>\n",
       "      <td>2.67</td>\n",
       "      <td>NaN</td>\n",
       "      <td>13878.0</td>\n",
       "      <td>38357.0</td>\n",
       "      <td>1.0</td>\n",
       "      <td>310.0</td>\n",
       "      <td>2.0</td>\n",
       "      <td>553.0</td>\n",
       "      <td>137.0</td>\n",
       "      <td>2017-11-16T00:00:00</td>\n",
       "    </tr>\n",
       "    <tr>\n",
       "      <th>11</th>\n",
       "      <td>Ломоносов</td>\n",
       "      <td>2</td>\n",
       "      <td>3300000.0</td>\n",
       "      <td>44.00</td>\n",
       "      <td>31.00</td>\n",
       "      <td>6.00</td>\n",
       "      <td>9</td>\n",
       "      <td>4</td>\n",
       "      <td>5.0</td>\n",
       "      <td>False</td>\n",
       "      <td>False</td>\n",
       "      <td>False</td>\n",
       "      <td>NaN</td>\n",
       "      <td>1.0</td>\n",
       "      <td>51677.0</td>\n",
       "      <td>48252.0</td>\n",
       "      <td>0.0</td>\n",
       "      <td>NaN</td>\n",
       "      <td>0.0</td>\n",
       "      <td>NaN</td>\n",
       "      <td>7.0</td>\n",
       "      <td>2018-08-27T00:00:00</td>\n",
       "    </tr>\n",
       "    <tr>\n",
       "      <th>12</th>\n",
       "      <td>Сертолово</td>\n",
       "      <td>2</td>\n",
       "      <td>3890000.0</td>\n",
       "      <td>54.00</td>\n",
       "      <td>30.00</td>\n",
       "      <td>9.00</td>\n",
       "      <td>10</td>\n",
       "      <td>5</td>\n",
       "      <td>5.0</td>\n",
       "      <td>NaN</td>\n",
       "      <td>False</td>\n",
       "      <td>False</td>\n",
       "      <td>NaN</td>\n",
       "      <td>0.0</td>\n",
       "      <td>NaN</td>\n",
       "      <td>NaN</td>\n",
       "      <td>NaN</td>\n",
       "      <td>NaN</td>\n",
       "      <td>NaN</td>\n",
       "      <td>NaN</td>\n",
       "      <td>90.0</td>\n",
       "      <td>2016-06-30T00:00:00</td>\n",
       "    </tr>\n",
       "    <tr>\n",
       "      <th>13</th>\n",
       "      <td>Петергоф</td>\n",
       "      <td>2</td>\n",
       "      <td>3550000.0</td>\n",
       "      <td>42.80</td>\n",
       "      <td>27.00</td>\n",
       "      <td>5.20</td>\n",
       "      <td>20</td>\n",
       "      <td>5</td>\n",
       "      <td>5.0</td>\n",
       "      <td>NaN</td>\n",
       "      <td>False</td>\n",
       "      <td>False</td>\n",
       "      <td>2.56</td>\n",
       "      <td>1.0</td>\n",
       "      <td>33058.0</td>\n",
       "      <td>37868.0</td>\n",
       "      <td>1.0</td>\n",
       "      <td>294.0</td>\n",
       "      <td>3.0</td>\n",
       "      <td>298.0</td>\n",
       "      <td>366.0</td>\n",
       "      <td>2017-07-01T00:00:00</td>\n",
       "    </tr>\n",
       "    <tr>\n",
       "      <th>14</th>\n",
       "      <td>Пушкин</td>\n",
       "      <td>1</td>\n",
       "      <td>4400000.0</td>\n",
       "      <td>36.00</td>\n",
       "      <td>17.00</td>\n",
       "      <td>8.00</td>\n",
       "      <td>1</td>\n",
       "      <td>1</td>\n",
       "      <td>6.0</td>\n",
       "      <td>NaN</td>\n",
       "      <td>False</td>\n",
       "      <td>False</td>\n",
       "      <td>NaN</td>\n",
       "      <td>0.0</td>\n",
       "      <td>30759.0</td>\n",
       "      <td>20782.0</td>\n",
       "      <td>0.0</td>\n",
       "      <td>NaN</td>\n",
       "      <td>1.0</td>\n",
       "      <td>96.0</td>\n",
       "      <td>203.0</td>\n",
       "      <td>2016-06-23T00:00:00</td>\n",
       "    </tr>\n",
       "    <tr>\n",
       "      <th>15</th>\n",
       "      <td>Санкт-Петербург</td>\n",
       "      <td>1</td>\n",
       "      <td>4650000.0</td>\n",
       "      <td>39.00</td>\n",
       "      <td>20.50</td>\n",
       "      <td>7.60</td>\n",
       "      <td>16</td>\n",
       "      <td>5</td>\n",
       "      <td>14.0</td>\n",
       "      <td>NaN</td>\n",
       "      <td>False</td>\n",
       "      <td>False</td>\n",
       "      <td>NaN</td>\n",
       "      <td>1.0</td>\n",
       "      <td>14259.0</td>\n",
       "      <td>12900.0</td>\n",
       "      <td>1.0</td>\n",
       "      <td>590.0</td>\n",
       "      <td>1.0</td>\n",
       "      <td>296.0</td>\n",
       "      <td>19.0</td>\n",
       "      <td>2017-11-18T00:00:00</td>\n",
       "    </tr>\n",
       "    <tr>\n",
       "      <th>16</th>\n",
       "      <td>Санкт-Петербург</td>\n",
       "      <td>3</td>\n",
       "      <td>6700000.0</td>\n",
       "      <td>82.00</td>\n",
       "      <td>55.60</td>\n",
       "      <td>9.00</td>\n",
       "      <td>11</td>\n",
       "      <td>1</td>\n",
       "      <td>5.0</td>\n",
       "      <td>NaN</td>\n",
       "      <td>False</td>\n",
       "      <td>False</td>\n",
       "      <td>3.05</td>\n",
       "      <td>NaN</td>\n",
       "      <td>10698.0</td>\n",
       "      <td>22108.0</td>\n",
       "      <td>3.0</td>\n",
       "      <td>420.0</td>\n",
       "      <td>0.0</td>\n",
       "      <td>NaN</td>\n",
       "      <td>397.0</td>\n",
       "      <td>2017-11-23T00:00:00</td>\n",
       "    </tr>\n",
       "    <tr>\n",
       "      <th>17</th>\n",
       "      <td>Санкт-Петербург</td>\n",
       "      <td>1</td>\n",
       "      <td>4180000.0</td>\n",
       "      <td>36.00</td>\n",
       "      <td>16.50</td>\n",
       "      <td>11.00</td>\n",
       "      <td>6</td>\n",
       "      <td>7</td>\n",
       "      <td>17.0</td>\n",
       "      <td>NaN</td>\n",
       "      <td>False</td>\n",
       "      <td>False</td>\n",
       "      <td>NaN</td>\n",
       "      <td>1.0</td>\n",
       "      <td>14616.0</td>\n",
       "      <td>33564.0</td>\n",
       "      <td>0.0</td>\n",
       "      <td>NaN</td>\n",
       "      <td>1.0</td>\n",
       "      <td>859.0</td>\n",
       "      <td>571.0</td>\n",
       "      <td>2016-09-09T00:00:00</td>\n",
       "    </tr>\n",
       "    <tr>\n",
       "      <th>18</th>\n",
       "      <td>Санкт-Петербург</td>\n",
       "      <td>1</td>\n",
       "      <td>3250000.0</td>\n",
       "      <td>31.00</td>\n",
       "      <td>19.40</td>\n",
       "      <td>5.60</td>\n",
       "      <td>8</td>\n",
       "      <td>2</td>\n",
       "      <td>5.0</td>\n",
       "      <td>NaN</td>\n",
       "      <td>False</td>\n",
       "      <td>False</td>\n",
       "      <td>2.50</td>\n",
       "      <td>1.0</td>\n",
       "      <td>10842.0</td>\n",
       "      <td>44060.0</td>\n",
       "      <td>1.0</td>\n",
       "      <td>759.0</td>\n",
       "      <td>0.0</td>\n",
       "      <td>NaN</td>\n",
       "      <td>168.0</td>\n",
       "      <td>2017-01-27T00:00:00</td>\n",
       "    </tr>\n",
       "    <tr>\n",
       "      <th>19</th>\n",
       "      <td>Санкт-Петербург</td>\n",
       "      <td>3</td>\n",
       "      <td>14200000.0</td>\n",
       "      <td>121.00</td>\n",
       "      <td>76.00</td>\n",
       "      <td>12.00</td>\n",
       "      <td>16</td>\n",
       "      <td>8</td>\n",
       "      <td>16.0</td>\n",
       "      <td>NaN</td>\n",
       "      <td>False</td>\n",
       "      <td>False</td>\n",
       "      <td>2.75</td>\n",
       "      <td>NaN</td>\n",
       "      <td>12843.0</td>\n",
       "      <td>38900.0</td>\n",
       "      <td>0.0</td>\n",
       "      <td>NaN</td>\n",
       "      <td>0.0</td>\n",
       "      <td>NaN</td>\n",
       "      <td>97.0</td>\n",
       "      <td>2019-01-09T00:00:00</td>\n",
       "    </tr>\n",
       "    <tr>\n",
       "      <th>20</th>\n",
       "      <td>поселок Парголово</td>\n",
       "      <td>3</td>\n",
       "      <td>6120000.0</td>\n",
       "      <td>80.00</td>\n",
       "      <td>48.00</td>\n",
       "      <td>12.00</td>\n",
       "      <td>12</td>\n",
       "      <td>11</td>\n",
       "      <td>27.0</td>\n",
       "      <td>NaN</td>\n",
       "      <td>False</td>\n",
       "      <td>False</td>\n",
       "      <td>2.70</td>\n",
       "      <td>2.0</td>\n",
       "      <td>19311.0</td>\n",
       "      <td>53134.0</td>\n",
       "      <td>0.0</td>\n",
       "      <td>NaN</td>\n",
       "      <td>0.0</td>\n",
       "      <td>NaN</td>\n",
       "      <td>74.0</td>\n",
       "      <td>2017-09-28T00:00:00</td>\n",
       "    </tr>\n",
       "    <tr>\n",
       "      <th>21</th>\n",
       "      <td>Санкт-Петербург</td>\n",
       "      <td>1</td>\n",
       "      <td>3200000.0</td>\n",
       "      <td>31.60</td>\n",
       "      <td>16.90</td>\n",
       "      <td>5.70</td>\n",
       "      <td>13</td>\n",
       "      <td>2</td>\n",
       "      <td>5.0</td>\n",
       "      <td>NaN</td>\n",
       "      <td>False</td>\n",
       "      <td>False</td>\n",
       "      <td>NaN</td>\n",
       "      <td>1.0</td>\n",
       "      <td>9722.0</td>\n",
       "      <td>36064.0</td>\n",
       "      <td>1.0</td>\n",
       "      <td>248.0</td>\n",
       "      <td>0.0</td>\n",
       "      <td>NaN</td>\n",
       "      <td>310.0</td>\n",
       "      <td>2018-03-14T00:00:00</td>\n",
       "    </tr>\n",
       "    <tr>\n",
       "      <th>22</th>\n",
       "      <td>деревня Кудрово</td>\n",
       "      <td>2</td>\n",
       "      <td>5000000.0</td>\n",
       "      <td>58.00</td>\n",
       "      <td>30.00</td>\n",
       "      <td>11.00</td>\n",
       "      <td>20</td>\n",
       "      <td>15</td>\n",
       "      <td>25.0</td>\n",
       "      <td>NaN</td>\n",
       "      <td>False</td>\n",
       "      <td>False</td>\n",
       "      <td>2.75</td>\n",
       "      <td>2.0</td>\n",
       "      <td>NaN</td>\n",
       "      <td>NaN</td>\n",
       "      <td>NaN</td>\n",
       "      <td>NaN</td>\n",
       "      <td>NaN</td>\n",
       "      <td>NaN</td>\n",
       "      <td>60.0</td>\n",
       "      <td>2017-04-24T00:00:00</td>\n",
       "    </tr>\n",
       "    <tr>\n",
       "      <th>23</th>\n",
       "      <td>Санкт-Петербург</td>\n",
       "      <td>1</td>\n",
       "      <td>2950000.0</td>\n",
       "      <td>32.00</td>\n",
       "      <td>17.70</td>\n",
       "      <td>6.10</td>\n",
       "      <td>11</td>\n",
       "      <td>9</td>\n",
       "      <td>9.0</td>\n",
       "      <td>NaN</td>\n",
       "      <td>False</td>\n",
       "      <td>False</td>\n",
       "      <td>2.60</td>\n",
       "      <td>NaN</td>\n",
       "      <td>14211.0</td>\n",
       "      <td>15414.0</td>\n",
       "      <td>2.0</td>\n",
       "      <td>517.0</td>\n",
       "      <td>1.0</td>\n",
       "      <td>190.0</td>\n",
       "      <td>615.0</td>\n",
       "      <td>2016-10-29T00:00:00</td>\n",
       "    </tr>\n",
       "    <tr>\n",
       "      <th>24</th>\n",
       "      <td>Санкт-Петербург</td>\n",
       "      <td>2</td>\n",
       "      <td>6500000.0</td>\n",
       "      <td>97.20</td>\n",
       "      <td>46.50</td>\n",
       "      <td>19.60</td>\n",
       "      <td>8</td>\n",
       "      <td>1</td>\n",
       "      <td>3.0</td>\n",
       "      <td>NaN</td>\n",
       "      <td>False</td>\n",
       "      <td>False</td>\n",
       "      <td>NaN</td>\n",
       "      <td>0.0</td>\n",
       "      <td>2336.0</td>\n",
       "      <td>20052.0</td>\n",
       "      <td>3.0</td>\n",
       "      <td>411.0</td>\n",
       "      <td>3.0</td>\n",
       "      <td>124.0</td>\n",
       "      <td>265.0</td>\n",
       "      <td>2015-10-31T00:00:00</td>\n",
       "    </tr>\n",
       "    <tr>\n",
       "      <th>25</th>\n",
       "      <td>Санкт-Петербург</td>\n",
       "      <td>2</td>\n",
       "      <td>6800000.0</td>\n",
       "      <td>76.00</td>\n",
       "      <td>39.00</td>\n",
       "      <td>15.00</td>\n",
       "      <td>3</td>\n",
       "      <td>18</td>\n",
       "      <td>23.0</td>\n",
       "      <td>False</td>\n",
       "      <td>False</td>\n",
       "      <td>False</td>\n",
       "      <td>2.75</td>\n",
       "      <td>2.0</td>\n",
       "      <td>14640.0</td>\n",
       "      <td>34967.0</td>\n",
       "      <td>0.0</td>\n",
       "      <td>NaN</td>\n",
       "      <td>1.0</td>\n",
       "      <td>564.0</td>\n",
       "      <td>300.0</td>\n",
       "      <td>2015-10-01T00:00:00</td>\n",
       "    </tr>\n",
       "    <tr>\n",
       "      <th>26</th>\n",
       "      <td>Санкт-Петербург</td>\n",
       "      <td>4</td>\n",
       "      <td>4050000.0</td>\n",
       "      <td>60.00</td>\n",
       "      <td>43.00</td>\n",
       "      <td>7.00</td>\n",
       "      <td>6</td>\n",
       "      <td>4</td>\n",
       "      <td>5.0</td>\n",
       "      <td>NaN</td>\n",
       "      <td>False</td>\n",
       "      <td>False</td>\n",
       "      <td>NaN</td>\n",
       "      <td>NaN</td>\n",
       "      <td>10510.0</td>\n",
       "      <td>11580.0</td>\n",
       "      <td>0.0</td>\n",
       "      <td>NaN</td>\n",
       "      <td>1.0</td>\n",
       "      <td>95.0</td>\n",
       "      <td>265.0</td>\n",
       "      <td>2017-04-28T00:00:00</td>\n",
       "    </tr>\n",
       "    <tr>\n",
       "      <th>27</th>\n",
       "      <td>Санкт-Петербург</td>\n",
       "      <td>3</td>\n",
       "      <td>7100000.0</td>\n",
       "      <td>70.00</td>\n",
       "      <td>49.00</td>\n",
       "      <td>9.20</td>\n",
       "      <td>20</td>\n",
       "      <td>11</td>\n",
       "      <td>17.0</td>\n",
       "      <td>NaN</td>\n",
       "      <td>False</td>\n",
       "      <td>False</td>\n",
       "      <td>2.60</td>\n",
       "      <td>0.0</td>\n",
       "      <td>11456.0</td>\n",
       "      <td>29197.0</td>\n",
       "      <td>2.0</td>\n",
       "      <td>452.0</td>\n",
       "      <td>1.0</td>\n",
       "      <td>779.0</td>\n",
       "      <td>151.0</td>\n",
       "      <td>2017-05-12T00:00:00</td>\n",
       "    </tr>\n",
       "    <tr>\n",
       "      <th>28</th>\n",
       "      <td>Пушкин</td>\n",
       "      <td>1</td>\n",
       "      <td>4170000.0</td>\n",
       "      <td>44.00</td>\n",
       "      <td>20.80</td>\n",
       "      <td>11.70</td>\n",
       "      <td>8</td>\n",
       "      <td>1</td>\n",
       "      <td>6.0</td>\n",
       "      <td>NaN</td>\n",
       "      <td>False</td>\n",
       "      <td>False</td>\n",
       "      <td>2.90</td>\n",
       "      <td>1.0</td>\n",
       "      <td>30710.0</td>\n",
       "      <td>18557.0</td>\n",
       "      <td>0.0</td>\n",
       "      <td>NaN</td>\n",
       "      <td>1.0</td>\n",
       "      <td>118.0</td>\n",
       "      <td>74.0</td>\n",
       "      <td>2017-12-13T00:00:00</td>\n",
       "    </tr>\n",
       "    <tr>\n",
       "      <th>29</th>\n",
       "      <td>Санкт-Петербург</td>\n",
       "      <td>3</td>\n",
       "      <td>8600000.0</td>\n",
       "      <td>100.00</td>\n",
       "      <td>52.00</td>\n",
       "      <td>11.00</td>\n",
       "      <td>9</td>\n",
       "      <td>15</td>\n",
       "      <td>19.0</td>\n",
       "      <td>False</td>\n",
       "      <td>False</td>\n",
       "      <td>False</td>\n",
       "      <td>NaN</td>\n",
       "      <td>0.0</td>\n",
       "      <td>11526.0</td>\n",
       "      <td>30394.0</td>\n",
       "      <td>1.0</td>\n",
       "      <td>532.0</td>\n",
       "      <td>1.0</td>\n",
       "      <td>896.0</td>\n",
       "      <td>125.0</td>\n",
       "      <td>2016-04-09T00:00:00</td>\n",
       "    </tr>\n",
       "  </tbody>\n",
       "</table>\n",
       "</div>"
      ],
      "text/plain": [
       "             location  rooms  last_price  total_area  living_area  \\\n",
       "0     Санкт-Петербург      3  13000000.0      108.00        51.00   \n",
       "1      поселок Шушары      1   3350000.0       40.40        18.60   \n",
       "2     Санкт-Петербург      2   5196000.0       56.00        34.30   \n",
       "3     Санкт-Петербург      3  64900000.0      159.00          NaN   \n",
       "4     Санкт-Петербург      2  10000000.0      100.00        32.00   \n",
       "5     поселок Янино-1      1   2890000.0       30.40        14.40   \n",
       "6   поселок Парголово      1   3700000.0       37.30        10.60   \n",
       "7     Санкт-Петербург      2   7915000.0       71.60          NaN   \n",
       "8      поселок Мурино      1   2900000.0       33.16        15.43   \n",
       "9     Санкт-Петербург      3   5400000.0       61.00        43.60   \n",
       "10    Санкт-Петербург      1   5050000.0       39.60        20.30   \n",
       "11          Ломоносов      2   3300000.0       44.00        31.00   \n",
       "12          Сертолово      2   3890000.0       54.00        30.00   \n",
       "13           Петергоф      2   3550000.0       42.80        27.00   \n",
       "14             Пушкин      1   4400000.0       36.00        17.00   \n",
       "15    Санкт-Петербург      1   4650000.0       39.00        20.50   \n",
       "16    Санкт-Петербург      3   6700000.0       82.00        55.60   \n",
       "17    Санкт-Петербург      1   4180000.0       36.00        16.50   \n",
       "18    Санкт-Петербург      1   3250000.0       31.00        19.40   \n",
       "19    Санкт-Петербург      3  14200000.0      121.00        76.00   \n",
       "20  поселок Парголово      3   6120000.0       80.00        48.00   \n",
       "21    Санкт-Петербург      1   3200000.0       31.60        16.90   \n",
       "22    деревня Кудрово      2   5000000.0       58.00        30.00   \n",
       "23    Санкт-Петербург      1   2950000.0       32.00        17.70   \n",
       "24    Санкт-Петербург      2   6500000.0       97.20        46.50   \n",
       "25    Санкт-Петербург      2   6800000.0       76.00        39.00   \n",
       "26    Санкт-Петербург      4   4050000.0       60.00        43.00   \n",
       "27    Санкт-Петербург      3   7100000.0       70.00        49.00   \n",
       "28             Пушкин      1   4170000.0       44.00        20.80   \n",
       "29    Санкт-Петербург      3   8600000.0      100.00        52.00   \n",
       "\n",
       "    kitchen_area  total_images  floor  floors_total apartment  studio  \\\n",
       "0          25.00            20      8          16.0       NaN   False   \n",
       "1          11.00             7      1          11.0       NaN   False   \n",
       "2           8.30            10      4           5.0       NaN   False   \n",
       "3            NaN             0      9          14.0       NaN   False   \n",
       "4          41.00             2     13          14.0       NaN   False   \n",
       "5           9.10            10      5          12.0       NaN   False   \n",
       "6          14.40             6      6          26.0       NaN   False   \n",
       "7          18.90             5     22          24.0       NaN   False   \n",
       "8           8.81            20     26          27.0       NaN   False   \n",
       "9           6.50            18      7           9.0       NaN   False   \n",
       "10          8.50             5      3          12.0       NaN   False   \n",
       "11          6.00             9      4           5.0     False   False   \n",
       "12          9.00            10      5           5.0       NaN   False   \n",
       "13          5.20            20      5           5.0       NaN   False   \n",
       "14          8.00             1      1           6.0       NaN   False   \n",
       "15          7.60            16      5          14.0       NaN   False   \n",
       "16          9.00            11      1           5.0       NaN   False   \n",
       "17         11.00             6      7          17.0       NaN   False   \n",
       "18          5.60             8      2           5.0       NaN   False   \n",
       "19         12.00            16      8          16.0       NaN   False   \n",
       "20         12.00            12     11          27.0       NaN   False   \n",
       "21          5.70            13      2           5.0       NaN   False   \n",
       "22         11.00            20     15          25.0       NaN   False   \n",
       "23          6.10            11      9           9.0       NaN   False   \n",
       "24         19.60             8      1           3.0       NaN   False   \n",
       "25         15.00             3     18          23.0     False   False   \n",
       "26          7.00             6      4           5.0       NaN   False   \n",
       "27          9.20            20     11          17.0       NaN   False   \n",
       "28         11.70             8      1           6.0       NaN   False   \n",
       "29         11.00             9     15          19.0     False   False   \n",
       "\n",
       "    open_plan  ceiling_height  balcony  city_centers_nearest  \\\n",
       "0       False            2.70      NaN               16028.0   \n",
       "1       False             NaN      2.0               18603.0   \n",
       "2       False             NaN      0.0               13933.0   \n",
       "3       False             NaN      0.0                6800.0   \n",
       "4       False            3.03      NaN                8098.0   \n",
       "5       False             NaN      NaN                   NaN   \n",
       "6       False             NaN      1.0               19143.0   \n",
       "7       False             NaN      2.0               11634.0   \n",
       "8       False             NaN      NaN                   NaN   \n",
       "9       False            2.50      2.0               15008.0   \n",
       "10      False            2.67      NaN               13878.0   \n",
       "11      False             NaN      1.0               51677.0   \n",
       "12      False             NaN      0.0                   NaN   \n",
       "13      False            2.56      1.0               33058.0   \n",
       "14      False             NaN      0.0               30759.0   \n",
       "15      False             NaN      1.0               14259.0   \n",
       "16      False            3.05      NaN               10698.0   \n",
       "17      False             NaN      1.0               14616.0   \n",
       "18      False            2.50      1.0               10842.0   \n",
       "19      False            2.75      NaN               12843.0   \n",
       "20      False            2.70      2.0               19311.0   \n",
       "21      False             NaN      1.0                9722.0   \n",
       "22      False            2.75      2.0                   NaN   \n",
       "23      False            2.60      NaN               14211.0   \n",
       "24      False             NaN      0.0                2336.0   \n",
       "25      False            2.75      2.0               14640.0   \n",
       "26      False             NaN      NaN               10510.0   \n",
       "27      False            2.60      0.0               11456.0   \n",
       "28      False            2.90      1.0               30710.0   \n",
       "29      False             NaN      0.0               11526.0   \n",
       "\n",
       "    airports_nearest  parks_around_3km  parks_nearest_m  ponds_around_3km  \\\n",
       "0            18863.0               1.0            482.0               2.0   \n",
       "1            12817.0               0.0              NaN               0.0   \n",
       "2            21741.0               1.0             90.0               2.0   \n",
       "3            28098.0               2.0             84.0               3.0   \n",
       "4            31856.0               2.0            112.0               1.0   \n",
       "5                NaN               NaN              NaN               NaN   \n",
       "6            52996.0               0.0              NaN               0.0   \n",
       "7            23982.0               0.0              NaN               0.0   \n",
       "8                NaN               NaN              NaN               NaN   \n",
       "9            50898.0               0.0              NaN               0.0   \n",
       "10           38357.0               1.0            310.0               2.0   \n",
       "11           48252.0               0.0              NaN               0.0   \n",
       "12               NaN               NaN              NaN               NaN   \n",
       "13           37868.0               1.0            294.0               3.0   \n",
       "14           20782.0               0.0              NaN               1.0   \n",
       "15           12900.0               1.0            590.0               1.0   \n",
       "16           22108.0               3.0            420.0               0.0   \n",
       "17           33564.0               0.0              NaN               1.0   \n",
       "18           44060.0               1.0            759.0               0.0   \n",
       "19           38900.0               0.0              NaN               0.0   \n",
       "20           53134.0               0.0              NaN               0.0   \n",
       "21           36064.0               1.0            248.0               0.0   \n",
       "22               NaN               NaN              NaN               NaN   \n",
       "23           15414.0               2.0            517.0               1.0   \n",
       "24           20052.0               3.0            411.0               3.0   \n",
       "25           34967.0               0.0              NaN               1.0   \n",
       "26           11580.0               0.0              NaN               1.0   \n",
       "27           29197.0               2.0            452.0               1.0   \n",
       "28           18557.0               0.0              NaN               1.0   \n",
       "29           30394.0               1.0            532.0               1.0   \n",
       "\n",
       "    ponds_nearest_m  exposition_first_day      exposition_days  \n",
       "0             755.0                   NaN  2019-03-07T00:00:00  \n",
       "1               NaN                  81.0  2018-12-04T00:00:00  \n",
       "2             574.0                 558.0  2015-08-20T00:00:00  \n",
       "3             234.0                 424.0  2015-07-24T00:00:00  \n",
       "4              48.0                 121.0  2018-06-19T00:00:00  \n",
       "5               NaN                  55.0  2018-09-10T00:00:00  \n",
       "6               NaN                 155.0  2017-11-02T00:00:00  \n",
       "7               NaN                   NaN  2019-04-18T00:00:00  \n",
       "8               NaN                 189.0  2018-05-23T00:00:00  \n",
       "9               NaN                 289.0  2017-02-26T00:00:00  \n",
       "10            553.0                 137.0  2017-11-16T00:00:00  \n",
       "11              NaN                   7.0  2018-08-27T00:00:00  \n",
       "12              NaN                  90.0  2016-06-30T00:00:00  \n",
       "13            298.0                 366.0  2017-07-01T00:00:00  \n",
       "14             96.0                 203.0  2016-06-23T00:00:00  \n",
       "15            296.0                  19.0  2017-11-18T00:00:00  \n",
       "16              NaN                 397.0  2017-11-23T00:00:00  \n",
       "17            859.0                 571.0  2016-09-09T00:00:00  \n",
       "18              NaN                 168.0  2017-01-27T00:00:00  \n",
       "19              NaN                  97.0  2019-01-09T00:00:00  \n",
       "20              NaN                  74.0  2017-09-28T00:00:00  \n",
       "21              NaN                 310.0  2018-03-14T00:00:00  \n",
       "22              NaN                  60.0  2017-04-24T00:00:00  \n",
       "23            190.0                 615.0  2016-10-29T00:00:00  \n",
       "24            124.0                 265.0  2015-10-31T00:00:00  \n",
       "25            564.0                 300.0  2015-10-01T00:00:00  \n",
       "26             95.0                 265.0  2017-04-28T00:00:00  \n",
       "27            779.0                 151.0  2017-05-12T00:00:00  \n",
       "28            118.0                  74.0  2017-12-13T00:00:00  \n",
       "29            896.0                 125.0  2016-04-09T00:00:00  "
      ]
     },
     "execution_count": 18,
     "metadata": {},
     "output_type": "execute_result"
    }
   ],
   "source": [
    "data.head(30)"
   ]
  },
  {
   "attachments": {},
   "cell_type": "markdown",
   "metadata": {},
   "source": [
    "**2.3. Изучим подробнее пропуски в столбце *floors_total*:**"
   ]
  },
  {
   "cell_type": "code",
   "execution_count": 19,
   "metadata": {},
   "outputs": [
    {
     "data": {
      "text/html": [
       "<div>\n",
       "<style scoped>\n",
       "    .dataframe tbody tr th:only-of-type {\n",
       "        vertical-align: middle;\n",
       "    }\n",
       "\n",
       "    .dataframe tbody tr th {\n",
       "        vertical-align: top;\n",
       "    }\n",
       "\n",
       "    .dataframe thead th {\n",
       "        text-align: right;\n",
       "    }\n",
       "</style>\n",
       "<table border=\"1\" class=\"dataframe\">\n",
       "  <thead>\n",
       "    <tr style=\"text-align: right;\">\n",
       "      <th></th>\n",
       "      <th>location</th>\n",
       "      <th>rooms</th>\n",
       "      <th>last_price</th>\n",
       "      <th>total_area</th>\n",
       "      <th>living_area</th>\n",
       "      <th>kitchen_area</th>\n",
       "      <th>total_images</th>\n",
       "      <th>floor</th>\n",
       "      <th>floors_total</th>\n",
       "      <th>apartment</th>\n",
       "      <th>studio</th>\n",
       "      <th>open_plan</th>\n",
       "      <th>ceiling_height</th>\n",
       "      <th>balcony</th>\n",
       "      <th>city_centers_nearest</th>\n",
       "      <th>airports_nearest</th>\n",
       "      <th>parks_around_3km</th>\n",
       "      <th>parks_nearest_m</th>\n",
       "      <th>ponds_around_3km</th>\n",
       "      <th>ponds_nearest_m</th>\n",
       "      <th>exposition_first_day</th>\n",
       "      <th>exposition_days</th>\n",
       "    </tr>\n",
       "  </thead>\n",
       "  <tbody>\n",
       "    <tr>\n",
       "      <th>186</th>\n",
       "      <td>Санкт-Петербург</td>\n",
       "      <td>2</td>\n",
       "      <td>11640000.0</td>\n",
       "      <td>65.20</td>\n",
       "      <td>30.80</td>\n",
       "      <td>12.00</td>\n",
       "      <td>12</td>\n",
       "      <td>4</td>\n",
       "      <td>NaN</td>\n",
       "      <td>NaN</td>\n",
       "      <td>False</td>\n",
       "      <td>False</td>\n",
       "      <td>NaN</td>\n",
       "      <td>NaN</td>\n",
       "      <td>12373.0</td>\n",
       "      <td>39197.0</td>\n",
       "      <td>1.0</td>\n",
       "      <td>123.0</td>\n",
       "      <td>0.0</td>\n",
       "      <td>NaN</td>\n",
       "      <td>49.0</td>\n",
       "      <td>2018-10-02T00:00:00</td>\n",
       "    </tr>\n",
       "    <tr>\n",
       "      <th>237</th>\n",
       "      <td>Санкт-Петербург</td>\n",
       "      <td>1</td>\n",
       "      <td>2438033.0</td>\n",
       "      <td>28.10</td>\n",
       "      <td>20.75</td>\n",
       "      <td>NaN</td>\n",
       "      <td>4</td>\n",
       "      <td>1</td>\n",
       "      <td>NaN</td>\n",
       "      <td>NaN</td>\n",
       "      <td>False</td>\n",
       "      <td>False</td>\n",
       "      <td>NaN</td>\n",
       "      <td>0.0</td>\n",
       "      <td>17369.0</td>\n",
       "      <td>22041.0</td>\n",
       "      <td>0.0</td>\n",
       "      <td>NaN</td>\n",
       "      <td>1.0</td>\n",
       "      <td>374.0</td>\n",
       "      <td>251.0</td>\n",
       "      <td>2016-11-23T00:00:00</td>\n",
       "    </tr>\n",
       "    <tr>\n",
       "      <th>457</th>\n",
       "      <td>Санкт-Петербург</td>\n",
       "      <td>2</td>\n",
       "      <td>9788348.0</td>\n",
       "      <td>70.80</td>\n",
       "      <td>38.40</td>\n",
       "      <td>10.63</td>\n",
       "      <td>4</td>\n",
       "      <td>12</td>\n",
       "      <td>NaN</td>\n",
       "      <td>NaN</td>\n",
       "      <td>False</td>\n",
       "      <td>False</td>\n",
       "      <td>NaN</td>\n",
       "      <td>0.0</td>\n",
       "      <td>8322.0</td>\n",
       "      <td>37364.0</td>\n",
       "      <td>2.0</td>\n",
       "      <td>309.0</td>\n",
       "      <td>2.0</td>\n",
       "      <td>706.0</td>\n",
       "      <td>727.0</td>\n",
       "      <td>2015-08-01T00:00:00</td>\n",
       "    </tr>\n",
       "    <tr>\n",
       "      <th>671</th>\n",
       "      <td>Санкт-Петербург</td>\n",
       "      <td>3</td>\n",
       "      <td>6051191.0</td>\n",
       "      <td>93.60</td>\n",
       "      <td>47.10</td>\n",
       "      <td>16.80</td>\n",
       "      <td>4</td>\n",
       "      <td>8</td>\n",
       "      <td>NaN</td>\n",
       "      <td>NaN</td>\n",
       "      <td>False</td>\n",
       "      <td>False</td>\n",
       "      <td>NaN</td>\n",
       "      <td>0.0</td>\n",
       "      <td>17369.0</td>\n",
       "      <td>22041.0</td>\n",
       "      <td>0.0</td>\n",
       "      <td>NaN</td>\n",
       "      <td>1.0</td>\n",
       "      <td>374.0</td>\n",
       "      <td>123.0</td>\n",
       "      <td>2017-04-06T00:00:00</td>\n",
       "    </tr>\n",
       "    <tr>\n",
       "      <th>1757</th>\n",
       "      <td>Санкт-Петербург</td>\n",
       "      <td>1</td>\n",
       "      <td>3600000.0</td>\n",
       "      <td>39.00</td>\n",
       "      <td>NaN</td>\n",
       "      <td>NaN</td>\n",
       "      <td>5</td>\n",
       "      <td>9</td>\n",
       "      <td>NaN</td>\n",
       "      <td>NaN</td>\n",
       "      <td>False</td>\n",
       "      <td>False</td>\n",
       "      <td>NaN</td>\n",
       "      <td>0.0</td>\n",
       "      <td>11618.0</td>\n",
       "      <td>22735.0</td>\n",
       "      <td>1.0</td>\n",
       "      <td>835.0</td>\n",
       "      <td>1.0</td>\n",
       "      <td>652.0</td>\n",
       "      <td>77.0</td>\n",
       "      <td>2017-04-22T00:00:00</td>\n",
       "    </tr>\n",
       "    <tr>\n",
       "      <th>1930</th>\n",
       "      <td>Санкт-Петербург</td>\n",
       "      <td>2</td>\n",
       "      <td>9750000.0</td>\n",
       "      <td>66.77</td>\n",
       "      <td>NaN</td>\n",
       "      <td>NaN</td>\n",
       "      <td>1</td>\n",
       "      <td>4</td>\n",
       "      <td>NaN</td>\n",
       "      <td>NaN</td>\n",
       "      <td>False</td>\n",
       "      <td>False</td>\n",
       "      <td>NaN</td>\n",
       "      <td>0.0</td>\n",
       "      <td>10660.0</td>\n",
       "      <td>39886.0</td>\n",
       "      <td>1.0</td>\n",
       "      <td>2276.0</td>\n",
       "      <td>3.0</td>\n",
       "      <td>244.0</td>\n",
       "      <td>90.0</td>\n",
       "      <td>2016-05-13T00:00:00</td>\n",
       "    </tr>\n",
       "    <tr>\n",
       "      <th>2392</th>\n",
       "      <td>Санкт-Петербург</td>\n",
       "      <td>2</td>\n",
       "      <td>5395770.0</td>\n",
       "      <td>53.00</td>\n",
       "      <td>29.00</td>\n",
       "      <td>9.00</td>\n",
       "      <td>7</td>\n",
       "      <td>22</td>\n",
       "      <td>NaN</td>\n",
       "      <td>NaN</td>\n",
       "      <td>False</td>\n",
       "      <td>False</td>\n",
       "      <td>NaN</td>\n",
       "      <td>0.0</td>\n",
       "      <td>10820.0</td>\n",
       "      <td>43074.0</td>\n",
       "      <td>0.0</td>\n",
       "      <td>NaN</td>\n",
       "      <td>0.0</td>\n",
       "      <td>NaN</td>\n",
       "      <td>48.0</td>\n",
       "      <td>2017-06-29T00:00:00</td>\n",
       "    </tr>\n",
       "    <tr>\n",
       "      <th>2846</th>\n",
       "      <td>Санкт-Петербург</td>\n",
       "      <td>1</td>\n",
       "      <td>2325000.0</td>\n",
       "      <td>27.80</td>\n",
       "      <td>19.40</td>\n",
       "      <td>NaN</td>\n",
       "      <td>4</td>\n",
       "      <td>15</td>\n",
       "      <td>NaN</td>\n",
       "      <td>NaN</td>\n",
       "      <td>False</td>\n",
       "      <td>False</td>\n",
       "      <td>NaN</td>\n",
       "      <td>0.0</td>\n",
       "      <td>17369.0</td>\n",
       "      <td>22041.0</td>\n",
       "      <td>0.0</td>\n",
       "      <td>NaN</td>\n",
       "      <td>1.0</td>\n",
       "      <td>374.0</td>\n",
       "      <td>307.0</td>\n",
       "      <td>2016-09-21T00:00:00</td>\n",
       "    </tr>\n",
       "    <tr>\n",
       "      <th>2952</th>\n",
       "      <td>Санкт-Петербург</td>\n",
       "      <td>1</td>\n",
       "      <td>6500000.0</td>\n",
       "      <td>54.30</td>\n",
       "      <td>22.20</td>\n",
       "      <td>12.30</td>\n",
       "      <td>10</td>\n",
       "      <td>6</td>\n",
       "      <td>NaN</td>\n",
       "      <td>NaN</td>\n",
       "      <td>False</td>\n",
       "      <td>False</td>\n",
       "      <td>NaN</td>\n",
       "      <td>NaN</td>\n",
       "      <td>3148.0</td>\n",
       "      <td>23606.0</td>\n",
       "      <td>0.0</td>\n",
       "      <td>NaN</td>\n",
       "      <td>0.0</td>\n",
       "      <td>NaN</td>\n",
       "      <td>NaN</td>\n",
       "      <td>2019-04-23T00:00:00</td>\n",
       "    </tr>\n",
       "    <tr>\n",
       "      <th>3031</th>\n",
       "      <td>Кудрово</td>\n",
       "      <td>2</td>\n",
       "      <td>6400000.0</td>\n",
       "      <td>56.70</td>\n",
       "      <td>32.00</td>\n",
       "      <td>12.00</td>\n",
       "      <td>9</td>\n",
       "      <td>12</td>\n",
       "      <td>NaN</td>\n",
       "      <td>NaN</td>\n",
       "      <td>False</td>\n",
       "      <td>False</td>\n",
       "      <td>NaN</td>\n",
       "      <td>NaN</td>\n",
       "      <td>NaN</td>\n",
       "      <td>NaN</td>\n",
       "      <td>NaN</td>\n",
       "      <td>NaN</td>\n",
       "      <td>NaN</td>\n",
       "      <td>NaN</td>\n",
       "      <td>231.0</td>\n",
       "      <td>2018-03-27T00:00:00</td>\n",
       "    </tr>\n",
       "  </tbody>\n",
       "</table>\n",
       "</div>"
      ],
      "text/plain": [
       "             location  rooms  last_price  total_area  living_area  \\\n",
       "186   Санкт-Петербург      2  11640000.0       65.20        30.80   \n",
       "237   Санкт-Петербург      1   2438033.0       28.10        20.75   \n",
       "457   Санкт-Петербург      2   9788348.0       70.80        38.40   \n",
       "671   Санкт-Петербург      3   6051191.0       93.60        47.10   \n",
       "1757  Санкт-Петербург      1   3600000.0       39.00          NaN   \n",
       "1930  Санкт-Петербург      2   9750000.0       66.77          NaN   \n",
       "2392  Санкт-Петербург      2   5395770.0       53.00        29.00   \n",
       "2846  Санкт-Петербург      1   2325000.0       27.80        19.40   \n",
       "2952  Санкт-Петербург      1   6500000.0       54.30        22.20   \n",
       "3031          Кудрово      2   6400000.0       56.70        32.00   \n",
       "\n",
       "      kitchen_area  total_images  floor  floors_total apartment  studio  \\\n",
       "186          12.00            12      4           NaN       NaN   False   \n",
       "237            NaN             4      1           NaN       NaN   False   \n",
       "457          10.63             4     12           NaN       NaN   False   \n",
       "671          16.80             4      8           NaN       NaN   False   \n",
       "1757           NaN             5      9           NaN       NaN   False   \n",
       "1930           NaN             1      4           NaN       NaN   False   \n",
       "2392          9.00             7     22           NaN       NaN   False   \n",
       "2846           NaN             4     15           NaN       NaN   False   \n",
       "2952         12.30            10      6           NaN       NaN   False   \n",
       "3031         12.00             9     12           NaN       NaN   False   \n",
       "\n",
       "      open_plan  ceiling_height  balcony  city_centers_nearest  \\\n",
       "186       False             NaN      NaN               12373.0   \n",
       "237       False             NaN      0.0               17369.0   \n",
       "457       False             NaN      0.0                8322.0   \n",
       "671       False             NaN      0.0               17369.0   \n",
       "1757      False             NaN      0.0               11618.0   \n",
       "1930      False             NaN      0.0               10660.0   \n",
       "2392      False             NaN      0.0               10820.0   \n",
       "2846      False             NaN      0.0               17369.0   \n",
       "2952      False             NaN      NaN                3148.0   \n",
       "3031      False             NaN      NaN                   NaN   \n",
       "\n",
       "      airports_nearest  parks_around_3km  parks_nearest_m  ponds_around_3km  \\\n",
       "186            39197.0               1.0            123.0               0.0   \n",
       "237            22041.0               0.0              NaN               1.0   \n",
       "457            37364.0               2.0            309.0               2.0   \n",
       "671            22041.0               0.0              NaN               1.0   \n",
       "1757           22735.0               1.0            835.0               1.0   \n",
       "1930           39886.0               1.0           2276.0               3.0   \n",
       "2392           43074.0               0.0              NaN               0.0   \n",
       "2846           22041.0               0.0              NaN               1.0   \n",
       "2952           23606.0               0.0              NaN               0.0   \n",
       "3031               NaN               NaN              NaN               NaN   \n",
       "\n",
       "      ponds_nearest_m  exposition_first_day      exposition_days  \n",
       "186               NaN                  49.0  2018-10-02T00:00:00  \n",
       "237             374.0                 251.0  2016-11-23T00:00:00  \n",
       "457             706.0                 727.0  2015-08-01T00:00:00  \n",
       "671             374.0                 123.0  2017-04-06T00:00:00  \n",
       "1757            652.0                  77.0  2017-04-22T00:00:00  \n",
       "1930            244.0                  90.0  2016-05-13T00:00:00  \n",
       "2392              NaN                  48.0  2017-06-29T00:00:00  \n",
       "2846            374.0                 307.0  2016-09-21T00:00:00  \n",
       "2952              NaN                   NaN  2019-04-23T00:00:00  \n",
       "3031              NaN                 231.0  2018-03-27T00:00:00  "
      ]
     },
     "execution_count": 19,
     "metadata": {},
     "output_type": "execute_result"
    }
   ],
   "source": [
    "floors_total_nan = data[data['floors_total'].isna()]\n",
    "floors_total_nan.head(10)"
   ]
  },
  {
   "attachments": {},
   "cell_type": "markdown",
   "metadata": {},
   "source": [
    "**Разброс значений не позволяет дать однозначный ответ на вопрос о том, каким образом можно было бы заполнить пропуски в данном столбце, поэтому на данном этапе оставим их также нетронутыми.**"
   ]
  },
  {
   "attachments": {},
   "cell_type": "markdown",
   "metadata": {},
   "source": [
    "**2.4. Заполним пропуски в столбце со статусом \"апартаменты\", но сперва изучим характер данных:**"
   ]
  },
  {
   "cell_type": "code",
   "execution_count": 20,
   "metadata": {},
   "outputs": [
    {
     "data": {
      "text/plain": [
       "array([nan, False, True], dtype=object)"
      ]
     },
     "execution_count": 20,
     "metadata": {},
     "output_type": "execute_result"
    }
   ],
   "source": [
    "data['apartment'].unique() "
   ]
  },
  {
   "attachments": {},
   "cell_type": "markdown",
   "metadata": {},
   "source": [
    "**Ничего необычного. Заполним пропуски по умолчанию значениями \"False\":**"
   ]
  },
  {
   "cell_type": "code",
   "execution_count": 21,
   "metadata": {
    "scrolled": true
   },
   "outputs": [
    {
     "data": {
      "text/plain": [
       "0"
      ]
     },
     "execution_count": 21,
     "metadata": {},
     "output_type": "execute_result"
    }
   ],
   "source": [
    "data['apartment'] = data['apartment'].fillna(False) # Производим замену пропущенных значений\n",
    "data['apartment'].isna().sum() # Проверяем, что количество пропусков стало равно нулю"
   ]
  },
  {
   "attachments": {},
   "cell_type": "markdown",
   "metadata": {},
   "source": [
    "**Также заметим, что значения данного столбца по умолчанию имеют тип object. Изменим этот тип на bool:**"
   ]
  },
  {
   "cell_type": "code",
   "execution_count": 22,
   "metadata": {},
   "outputs": [],
   "source": [
    "data['apartment'] = data['apartment'].astype('bool')"
   ]
  },
  {
   "attachments": {},
   "cell_type": "markdown",
   "metadata": {},
   "source": [
    "**2.5. Далее разберём пропуски в значениях столбца с высотой потолков. Изучим их:**"
   ]
  },
  {
   "cell_type": "code",
   "execution_count": 23,
   "metadata": {
    "scrolled": true
   },
   "outputs": [
    {
     "data": {
      "text/plain": [
       "[2.7,\n",
       " nan,\n",
       " 3.03,\n",
       " 2.5,\n",
       " 2.67,\n",
       " 2.56,\n",
       " 3.05,\n",
       " 2.75,\n",
       " 2.6,\n",
       " 2.9,\n",
       " 2.8,\n",
       " 2.55,\n",
       " 3.0,\n",
       " 2.65,\n",
       " 3.2,\n",
       " 2.61,\n",
       " 3.25,\n",
       " 3.45,\n",
       " 2.77,\n",
       " 2.85,\n",
       " 2.64,\n",
       " 2.57,\n",
       " 4.15,\n",
       " 3.5,\n",
       " 3.3,\n",
       " 2.71,\n",
       " 4.0,\n",
       " 2.47,\n",
       " 2.73,\n",
       " 2.84,\n",
       " 3.1,\n",
       " 2.34,\n",
       " 3.4,\n",
       " 3.06,\n",
       " 2.72,\n",
       " 2.54,\n",
       " 2.51,\n",
       " 2.78,\n",
       " 2.76,\n",
       " 25.0,\n",
       " 2.58,\n",
       " 3.7,\n",
       " 2.52,\n",
       " 5.2,\n",
       " 2.87,\n",
       " 2.66,\n",
       " 2.59,\n",
       " 2.0,\n",
       " 2.45,\n",
       " 3.6,\n",
       " 2.92,\n",
       " 3.11,\n",
       " 3.13,\n",
       " 3.8,\n",
       " 3.15,\n",
       " 3.55,\n",
       " 3.16,\n",
       " 3.62,\n",
       " 3.12,\n",
       " 2.53,\n",
       " 2.74,\n",
       " 2.96,\n",
       " 2.46,\n",
       " 5.3,\n",
       " 5.0,\n",
       " 2.79,\n",
       " 2.95,\n",
       " 4.06,\n",
       " 2.94,\n",
       " 3.82,\n",
       " 3.54,\n",
       " 3.53,\n",
       " 2.83,\n",
       " 4.7,\n",
       " 2.4,\n",
       " 3.38,\n",
       " 3.01,\n",
       " 5.6,\n",
       " 3.65,\n",
       " 3.9,\n",
       " 3.18,\n",
       " 3.35,\n",
       " 2.3,\n",
       " 3.57,\n",
       " 2.48,\n",
       " 2.62,\n",
       " 2.82,\n",
       " 3.98,\n",
       " 2.63,\n",
       " 3.83,\n",
       " 3.52,\n",
       " 3.95,\n",
       " 3.75,\n",
       " 2.88,\n",
       " 3.67,\n",
       " 3.87,\n",
       " 3.66,\n",
       " 3.85,\n",
       " 3.86,\n",
       " 4.19,\n",
       " 3.24,\n",
       " 4.8,\n",
       " 4.5,\n",
       " 4.2,\n",
       " 3.36,\n",
       " 32.0,\n",
       " 3.08,\n",
       " 3.68,\n",
       " 3.07,\n",
       " 3.37,\n",
       " 3.09,\n",
       " 8.0,\n",
       " 3.26,\n",
       " 3.34,\n",
       " 2.81,\n",
       " 3.44,\n",
       " 2.97,\n",
       " 3.14,\n",
       " 4.37,\n",
       " 2.68,\n",
       " 3.22,\n",
       " 3.27,\n",
       " 27.0,\n",
       " 4.1,\n",
       " 2.93,\n",
       " 3.46,\n",
       " 24.0,\n",
       " 3.47,\n",
       " 3.33,\n",
       " 3.63,\n",
       " 3.32,\n",
       " 26.0,\n",
       " 1.2,\n",
       " 8.3,\n",
       " 2.98,\n",
       " 2.86,\n",
       " 3.17,\n",
       " 4.4,\n",
       " 3.28,\n",
       " 3.04,\n",
       " 4.45,\n",
       " 5.5,\n",
       " 3.84,\n",
       " 3.23,\n",
       " 3.02,\n",
       " 3.21,\n",
       " 3.43,\n",
       " 3.78,\n",
       " 4.3,\n",
       " 3.39,\n",
       " 2.69,\n",
       " 3.31,\n",
       " 4.65,\n",
       " 3.56,\n",
       " 2.2,\n",
       " 3.51,\n",
       " 3.93,\n",
       " 3.42,\n",
       " 2.99,\n",
       " 3.49,\n",
       " 14.0,\n",
       " 4.14,\n",
       " 2.91,\n",
       " 3.88,\n",
       " 1.75,\n",
       " 4.25,\n",
       " 3.29,\n",
       " 20.0,\n",
       " 2.25,\n",
       " 3.76,\n",
       " 3.69,\n",
       " 6.0,\n",
       " 22.6,\n",
       " 2.89,\n",
       " 3.58,\n",
       " 5.8,\n",
       " 27.5,\n",
       " 2.49,\n",
       " 4.9,\n",
       " 3.48,\n",
       " 10.3,\n",
       " 1.0,\n",
       " 100.0,\n",
       " 3.59]"
      ]
     },
     "execution_count": 23,
     "metadata": {},
     "output_type": "execute_result"
    }
   ],
   "source": [
    "data['ceiling_height'].unique().tolist() # Выводим уникальные значения"
   ]
  },
  {
   "cell_type": "code",
   "execution_count": 24,
   "metadata": {
    "scrolled": true
   },
   "outputs": [
    {
     "data": {
      "text/plain": [
       "2.50    3515\n",
       "2.60    1645\n",
       "2.70    1572\n",
       "3.00    1109\n",
       "2.80     993\n",
       "2.55     980\n",
       "2.75     906\n",
       "2.65     676\n",
       "3.20     276\n",
       "3.10     203\n",
       "2.90     164\n",
       "3.30     141\n",
       "2.56     139\n",
       "3.50     130\n",
       "2.57     103\n",
       "2.85     101\n",
       "3.40      92\n",
       "2.54      83\n",
       "2.64      81\n",
       "2.52      79\n",
       "Name: ceiling_height, dtype: int64"
      ]
     },
     "execution_count": 24,
     "metadata": {},
     "output_type": "execute_result"
    }
   ],
   "source": [
    "data['ceiling_height'].value_counts().head(20)"
   ]
  },
  {
   "attachments": {},
   "cell_type": "markdown",
   "metadata": {},
   "source": [
    "**Пока что оставим пропуски в этом столбце и вернёмся к их рассмотрению в будущих разделах (при обработке аномальных значений).**"
   ]
  },
  {
   "attachments": {},
   "cell_type": "markdown",
   "metadata": {},
   "source": [
    "**2.6. Пропуски в столбце с количеством балконов заполним нулями. Логично предположить, что раз в объявлении это количество не указано, то, выходит, балконов в квартире нет.**"
   ]
  },
  {
   "cell_type": "code",
   "execution_count": 25,
   "metadata": {},
   "outputs": [
    {
     "data": {
      "text/plain": [
       "9160"
      ]
     },
     "execution_count": 25,
     "metadata": {},
     "output_type": "execute_result"
    }
   ],
   "source": [
    "data['balcony'] = data['balcony'].fillna(0) # Производим замену пропущенных значений\n",
    "data['ceiling_height'].isna().sum() # Проверяем, что количество пропусков стало равно нулю"
   ]
  },
  {
   "cell_type": "code",
   "execution_count": 26,
   "metadata": {
    "scrolled": true
   },
   "outputs": [
    {
     "data": {
      "text/plain": [
       "location                    0\n",
       "rooms                       0\n",
       "last_price                  0\n",
       "total_area                  0\n",
       "living_area              1898\n",
       "kitchen_area             2269\n",
       "total_images                0\n",
       "floor                       0\n",
       "floors_total               85\n",
       "apartment                   0\n",
       "studio                      0\n",
       "open_plan                   0\n",
       "ceiling_height           9160\n",
       "balcony                     0\n",
       "city_centers_nearest     5511\n",
       "airports_nearest         5534\n",
       "parks_around_3km         5510\n",
       "parks_nearest_m         15586\n",
       "ponds_around_3km         5510\n",
       "ponds_nearest_m         14565\n",
       "exposition_first_day     3180\n",
       "exposition_days             0\n",
       "dtype: int64"
      ]
     },
     "execution_count": 26,
     "metadata": {},
     "output_type": "execute_result"
    }
   ],
   "source": [
    "data.isna().sum() # Контрольная проверка пропусков"
   ]
  },
  {
   "attachments": {},
   "cell_type": "markdown",
   "metadata": {},
   "source": [
    "**2.7. Все пропуски обработаны, но остаются ещё столбцы, в которых нужно изменить тип данных (как мы уже сделали это со столбцом 'apartment'):**"
   ]
  },
  {
   "cell_type": "code",
   "execution_count": 27,
   "metadata": {},
   "outputs": [],
   "source": [
    "data['last_price'] = data['last_price'].astype('int')\n",
    "data['balcony'] = data['balcony'].astype('int')"
   ]
  },
  {
   "attachments": {},
   "cell_type": "markdown",
   "metadata": {},
   "source": [
    "**Также можем заметить, что в столбцах с датой и количеством дней публикации \"взаимоперепутаны\" значения. Поменяем значения столбцов местами и заодно приведём формат даты к более читаемому виду:**"
   ]
  },
  {
   "cell_type": "code",
   "execution_count": 28,
   "metadata": {
    "scrolled": true
   },
   "outputs": [
    {
     "data": {
      "text/html": [
       "<div>\n",
       "<style scoped>\n",
       "    .dataframe tbody tr th:only-of-type {\n",
       "        vertical-align: middle;\n",
       "    }\n",
       "\n",
       "    .dataframe tbody tr th {\n",
       "        vertical-align: top;\n",
       "    }\n",
       "\n",
       "    .dataframe thead th {\n",
       "        text-align: right;\n",
       "    }\n",
       "</style>\n",
       "<table border=\"1\" class=\"dataframe\">\n",
       "  <thead>\n",
       "    <tr style=\"text-align: right;\">\n",
       "      <th></th>\n",
       "      <th>location</th>\n",
       "      <th>rooms</th>\n",
       "      <th>last_price</th>\n",
       "      <th>total_area</th>\n",
       "      <th>living_area</th>\n",
       "      <th>kitchen_area</th>\n",
       "      <th>total_images</th>\n",
       "      <th>floor</th>\n",
       "      <th>floors_total</th>\n",
       "      <th>apartment</th>\n",
       "      <th>studio</th>\n",
       "      <th>open_plan</th>\n",
       "      <th>ceiling_height</th>\n",
       "      <th>balcony</th>\n",
       "      <th>city_centers_nearest</th>\n",
       "      <th>airports_nearest</th>\n",
       "      <th>parks_around_3km</th>\n",
       "      <th>parks_nearest_m</th>\n",
       "      <th>ponds_around_3km</th>\n",
       "      <th>ponds_nearest_m</th>\n",
       "      <th>exposition_first_day</th>\n",
       "      <th>exposition_days</th>\n",
       "      <th>exposition_weekday</th>\n",
       "    </tr>\n",
       "  </thead>\n",
       "  <tbody>\n",
       "    <tr>\n",
       "      <th>0</th>\n",
       "      <td>Санкт-Петербург</td>\n",
       "      <td>3</td>\n",
       "      <td>13000000</td>\n",
       "      <td>108.0</td>\n",
       "      <td>51.0</td>\n",
       "      <td>25.0</td>\n",
       "      <td>20</td>\n",
       "      <td>8</td>\n",
       "      <td>16.0</td>\n",
       "      <td>False</td>\n",
       "      <td>False</td>\n",
       "      <td>False</td>\n",
       "      <td>2.70</td>\n",
       "      <td>0</td>\n",
       "      <td>16028.0</td>\n",
       "      <td>18863.0</td>\n",
       "      <td>1.0</td>\n",
       "      <td>482.0</td>\n",
       "      <td>2.0</td>\n",
       "      <td>755.0</td>\n",
       "      <td>2019-03-07</td>\n",
       "      <td>NaN</td>\n",
       "      <td>NaN</td>\n",
       "    </tr>\n",
       "    <tr>\n",
       "      <th>1</th>\n",
       "      <td>поселок Шушары</td>\n",
       "      <td>1</td>\n",
       "      <td>3350000</td>\n",
       "      <td>40.4</td>\n",
       "      <td>18.6</td>\n",
       "      <td>11.0</td>\n",
       "      <td>7</td>\n",
       "      <td>1</td>\n",
       "      <td>11.0</td>\n",
       "      <td>False</td>\n",
       "      <td>False</td>\n",
       "      <td>False</td>\n",
       "      <td>NaN</td>\n",
       "      <td>2</td>\n",
       "      <td>18603.0</td>\n",
       "      <td>12817.0</td>\n",
       "      <td>0.0</td>\n",
       "      <td>NaN</td>\n",
       "      <td>0.0</td>\n",
       "      <td>NaN</td>\n",
       "      <td>2018-12-04</td>\n",
       "      <td>81.0</td>\n",
       "      <td>81.0</td>\n",
       "    </tr>\n",
       "    <tr>\n",
       "      <th>2</th>\n",
       "      <td>Санкт-Петербург</td>\n",
       "      <td>2</td>\n",
       "      <td>5196000</td>\n",
       "      <td>56.0</td>\n",
       "      <td>34.3</td>\n",
       "      <td>8.3</td>\n",
       "      <td>10</td>\n",
       "      <td>4</td>\n",
       "      <td>5.0</td>\n",
       "      <td>False</td>\n",
       "      <td>False</td>\n",
       "      <td>False</td>\n",
       "      <td>NaN</td>\n",
       "      <td>0</td>\n",
       "      <td>13933.0</td>\n",
       "      <td>21741.0</td>\n",
       "      <td>1.0</td>\n",
       "      <td>90.0</td>\n",
       "      <td>2.0</td>\n",
       "      <td>574.0</td>\n",
       "      <td>2015-08-20</td>\n",
       "      <td>558.0</td>\n",
       "      <td>558.0</td>\n",
       "    </tr>\n",
       "    <tr>\n",
       "      <th>3</th>\n",
       "      <td>Санкт-Петербург</td>\n",
       "      <td>3</td>\n",
       "      <td>64900000</td>\n",
       "      <td>159.0</td>\n",
       "      <td>NaN</td>\n",
       "      <td>NaN</td>\n",
       "      <td>0</td>\n",
       "      <td>9</td>\n",
       "      <td>14.0</td>\n",
       "      <td>False</td>\n",
       "      <td>False</td>\n",
       "      <td>False</td>\n",
       "      <td>NaN</td>\n",
       "      <td>0</td>\n",
       "      <td>6800.0</td>\n",
       "      <td>28098.0</td>\n",
       "      <td>2.0</td>\n",
       "      <td>84.0</td>\n",
       "      <td>3.0</td>\n",
       "      <td>234.0</td>\n",
       "      <td>2015-07-24</td>\n",
       "      <td>424.0</td>\n",
       "      <td>424.0</td>\n",
       "    </tr>\n",
       "    <tr>\n",
       "      <th>4</th>\n",
       "      <td>Санкт-Петербург</td>\n",
       "      <td>2</td>\n",
       "      <td>10000000</td>\n",
       "      <td>100.0</td>\n",
       "      <td>32.0</td>\n",
       "      <td>41.0</td>\n",
       "      <td>2</td>\n",
       "      <td>13</td>\n",
       "      <td>14.0</td>\n",
       "      <td>False</td>\n",
       "      <td>False</td>\n",
       "      <td>False</td>\n",
       "      <td>3.03</td>\n",
       "      <td>0</td>\n",
       "      <td>8098.0</td>\n",
       "      <td>31856.0</td>\n",
       "      <td>2.0</td>\n",
       "      <td>112.0</td>\n",
       "      <td>1.0</td>\n",
       "      <td>48.0</td>\n",
       "      <td>2018-06-19</td>\n",
       "      <td>121.0</td>\n",
       "      <td>121.0</td>\n",
       "    </tr>\n",
       "  </tbody>\n",
       "</table>\n",
       "</div>"
      ],
      "text/plain": [
       "          location  rooms  last_price  total_area  living_area  kitchen_area  \\\n",
       "0  Санкт-Петербург      3    13000000       108.0         51.0          25.0   \n",
       "1   поселок Шушары      1     3350000        40.4         18.6          11.0   \n",
       "2  Санкт-Петербург      2     5196000        56.0         34.3           8.3   \n",
       "3  Санкт-Петербург      3    64900000       159.0          NaN           NaN   \n",
       "4  Санкт-Петербург      2    10000000       100.0         32.0          41.0   \n",
       "\n",
       "   total_images  floor  floors_total  apartment  studio  open_plan  \\\n",
       "0            20      8          16.0      False   False      False   \n",
       "1             7      1          11.0      False   False      False   \n",
       "2            10      4           5.0      False   False      False   \n",
       "3             0      9          14.0      False   False      False   \n",
       "4             2     13          14.0      False   False      False   \n",
       "\n",
       "   ceiling_height  balcony  city_centers_nearest  airports_nearest  \\\n",
       "0            2.70        0               16028.0           18863.0   \n",
       "1             NaN        2               18603.0           12817.0   \n",
       "2             NaN        0               13933.0           21741.0   \n",
       "3             NaN        0                6800.0           28098.0   \n",
       "4            3.03        0                8098.0           31856.0   \n",
       "\n",
       "   parks_around_3km  parks_nearest_m  ponds_around_3km  ponds_nearest_m  \\\n",
       "0               1.0            482.0               2.0            755.0   \n",
       "1               0.0              NaN               0.0              NaN   \n",
       "2               1.0             90.0               2.0            574.0   \n",
       "3               2.0             84.0               3.0            234.0   \n",
       "4               2.0            112.0               1.0             48.0   \n",
       "\n",
       "  exposition_first_day  exposition_days  exposition_weekday  \n",
       "0           2019-03-07              NaN                 NaN  \n",
       "1           2018-12-04             81.0                81.0  \n",
       "2           2015-08-20            558.0               558.0  \n",
       "3           2015-07-24            424.0               424.0  \n",
       "4           2018-06-19            121.0               121.0  "
      ]
     },
     "execution_count": 28,
     "metadata": {},
     "output_type": "execute_result"
    }
   ],
   "source": [
    "# Для простоты, значения между столбцами обменяем при помощи нового вспомогательного столбца.\n",
    "# В следующем разделе мы используем его для записи дней недели публикации объявления.\n",
    "data['exposition_weekday'] = data['exposition_first_day'] # Создаём новый столбец, записываем в него значения первого столбца\n",
    "data['exposition_first_day'] = data['exposition_days'] # Заменяем значения первого столбца значениями второго\n",
    "data['exposition_days'] = data['exposition_weekday'] # Заменяем значения второго столбца значениями третьего (нового)\n",
    "data['exposition_first_day'] = pd.to_datetime(data['exposition_first_day'], format='%Y-%m-%d') # Приводим дату к знакомому виду\n",
    "data.head() # Выводим первые 5 строк таблицы чтобы убедиться в том, что все преобразования выполнены правильно"
   ]
  },
  {
   "attachments": {},
   "cell_type": "markdown",
   "metadata": {},
   "source": [
    "**2.8. Выводы:**\n",
    "- Удалили строки с пропусками в названиях населённых пунктов и обработали дубликаты.\n",
    "- Заполнили пропуски в столбце \"апартаменты\" на False, изменили тип данных столбца на bool.\n",
    "- Пропуски в столбце с высотой потолков заменили медианным значением.\n",
    "- Пропуски в столбце с числом балконов заменили нулями.\n",
    "- Остальные пропуски оставили, так как заполнить их не представляется возможным, а возникнуть они могли, скорее всего, ввиду человеческого фактора или технических ошибок.\n",
    "- Поменяли тип данных в столбцах с ценой и количеством балконов на целочисленный.\n",
    "- Поменяли местами значения в столбцах с датой и количеством дней публикации (они были перепутаны)."
   ]
  },
  {
   "attachments": {},
   "cell_type": "markdown",
   "metadata": {
    "id": "QCcvyY6YAwb-"
   },
   "source": [
    "### Добавление новых столбцов"
   ]
  },
  {
   "attachments": {},
   "cell_type": "markdown",
   "metadata": {},
   "source": [
    "**Для проведения исследовательского анализа нам понадобятся вспомогательные столбцы, поэтому добавим их на данном шаге.**"
   ]
  },
  {
   "attachments": {},
   "cell_type": "markdown",
   "metadata": {},
   "source": [
    "**3.1. Одним из ключевых параметров будет являться цена одного квадратного метра. Найдём её:**"
   ]
  },
  {
   "cell_type": "code",
   "execution_count": 29,
   "metadata": {},
   "outputs": [],
   "source": [
    "data['price_per_m2'] = data['last_price'] / data['total_area']\n",
    "data['price_per_m2'] = data['price_per_m2'].round(decimals=2)"
   ]
  },
  {
   "attachments": {},
   "cell_type": "markdown",
   "metadata": {},
   "source": [
    "**3.2. Далее следуют день недели, месяц и год публикации объявления:**"
   ]
  },
  {
   "cell_type": "code",
   "execution_count": 30,
   "metadata": {},
   "outputs": [],
   "source": [
    "data['exposition_weekday'] = data['exposition_first_day'].dt.weekday    # день недели\n",
    "data['exposition_month'] = data['exposition_first_day'].dt.month    # месяц\n",
    "data['exposition_year'] = data['exposition_first_day'].dt.year    # год"
   ]
  },
  {
   "attachments": {},
   "cell_type": "markdown",
   "metadata": {},
   "source": [
    "**3.3. Также категоризируем этажи:**"
   ]
  },
  {
   "cell_type": "code",
   "execution_count": 31,
   "metadata": {},
   "outputs": [],
   "source": [
    "def categorize_floor(row): # Функция для категоризации\n",
    "    if row['floor'] == 1:\n",
    "        return 'первый'\n",
    "    elif row['floor'] == row['floors_total']:\n",
    "        return 'последний'\n",
    "    else: \n",
    "        return 'другой'\n",
    "data['floor_type'] = data.apply(categorize_floor, axis=1) # Применяем функцию, записываем результат в новый столбец"
   ]
  },
  {
   "attachments": {},
   "cell_type": "markdown",
   "metadata": {},
   "source": [
    "**3.4. И, наконец, приведём к километрам расстояния до центра города и ближайшего аэропорта:**"
   ]
  },
  {
   "cell_type": "code",
   "execution_count": 32,
   "metadata": {},
   "outputs": [],
   "source": [
    "data['city_centers_nearest_km'] = data['city_centers_nearest'] / 1000 # Переводим километры в метры\n",
    "data['city_centers_nearest_km'] = data['city_centers_nearest_km'].round() # Округляем до ближайшего целого числа\n",
    "data['airports_nearest_km'] = data['airports_nearest'] / 1000\n",
    "data['airports_nearest_km'] = data['airports_nearest_km'].round()\n",
    "del data['city_centers_nearest'] # Удаляем столбцы, дублирующие уже имеющуюся информацию\n",
    "del data['airports_nearest']"
   ]
  },
  {
   "attachments": {},
   "cell_type": "markdown",
   "metadata": {},
   "source": [
    "**Также на этом этапе восполним часть пропусков в столбце с расстояниями до ближайшего аэропорта в небольших населённых пунктах, заполнив их медианным для каждого отдельного пункта значением:**"
   ]
  },
  {
   "cell_type": "code",
   "execution_count": 33,
   "metadata": {},
   "outputs": [
    {
     "data": {
      "text/plain": [
       "0        19.0\n",
       "1        13.0\n",
       "2        22.0\n",
       "3        28.0\n",
       "4        32.0\n",
       "         ... \n",
       "23694    25.0\n",
       "23695     NaN\n",
       "23696     NaN\n",
       "23697    39.0\n",
       "23698     NaN\n",
       "Name: airports_nearest_km, Length: 23650, dtype: float64"
      ]
     },
     "execution_count": 33,
     "metadata": {},
     "output_type": "execute_result"
    }
   ],
   "source": [
    "data['airports_nearest_km'].fillna(data.groupby('location')['airports_nearest_km'].median())"
   ]
  },
  {
   "attachments": {},
   "cell_type": "markdown",
   "metadata": {},
   "source": [
    "**3.5. Напоследок снова перегруппируем столбцы для более удобного восприятия информации:**"
   ]
  },
  {
   "cell_type": "code",
   "execution_count": 34,
   "metadata": {
    "scrolled": true
   },
   "outputs": [
    {
     "data": {
      "text/html": [
       "<div>\n",
       "<style scoped>\n",
       "    .dataframe tbody tr th:only-of-type {\n",
       "        vertical-align: middle;\n",
       "    }\n",
       "\n",
       "    .dataframe tbody tr th {\n",
       "        vertical-align: top;\n",
       "    }\n",
       "\n",
       "    .dataframe thead th {\n",
       "        text-align: right;\n",
       "    }\n",
       "</style>\n",
       "<table border=\"1\" class=\"dataframe\">\n",
       "  <thead>\n",
       "    <tr style=\"text-align: right;\">\n",
       "      <th></th>\n",
       "      <th>location</th>\n",
       "      <th>rooms</th>\n",
       "      <th>last_price</th>\n",
       "      <th>price_per_m2</th>\n",
       "      <th>total_area</th>\n",
       "      <th>living_area</th>\n",
       "      <th>kitchen_area</th>\n",
       "      <th>total_images</th>\n",
       "      <th>floor</th>\n",
       "      <th>floors_total</th>\n",
       "      <th>floor_type</th>\n",
       "      <th>apartment</th>\n",
       "      <th>studio</th>\n",
       "      <th>open_plan</th>\n",
       "      <th>ceiling_height</th>\n",
       "      <th>balcony</th>\n",
       "      <th>city_centers_nearest_km</th>\n",
       "      <th>airports_nearest_km</th>\n",
       "      <th>parks_around_3km</th>\n",
       "      <th>parks_nearest_m</th>\n",
       "      <th>ponds_around_3km</th>\n",
       "      <th>ponds_nearest_m</th>\n",
       "      <th>exposition_first_day</th>\n",
       "      <th>exposition_weekday</th>\n",
       "      <th>exposition_month</th>\n",
       "      <th>exposition_year</th>\n",
       "      <th>exposition_days</th>\n",
       "    </tr>\n",
       "  </thead>\n",
       "  <tbody>\n",
       "    <tr>\n",
       "      <th>0</th>\n",
       "      <td>Санкт-Петербург</td>\n",
       "      <td>3</td>\n",
       "      <td>13000000</td>\n",
       "      <td>120370.37</td>\n",
       "      <td>108.00</td>\n",
       "      <td>51.00</td>\n",
       "      <td>25.00</td>\n",
       "      <td>20</td>\n",
       "      <td>8</td>\n",
       "      <td>16.0</td>\n",
       "      <td>другой</td>\n",
       "      <td>False</td>\n",
       "      <td>False</td>\n",
       "      <td>False</td>\n",
       "      <td>2.70</td>\n",
       "      <td>0</td>\n",
       "      <td>16.0</td>\n",
       "      <td>19.0</td>\n",
       "      <td>1.0</td>\n",
       "      <td>482.0</td>\n",
       "      <td>2.0</td>\n",
       "      <td>755.0</td>\n",
       "      <td>2019-03-07</td>\n",
       "      <td>3</td>\n",
       "      <td>3</td>\n",
       "      <td>2019</td>\n",
       "      <td>NaN</td>\n",
       "    </tr>\n",
       "    <tr>\n",
       "      <th>1</th>\n",
       "      <td>поселок Шушары</td>\n",
       "      <td>1</td>\n",
       "      <td>3350000</td>\n",
       "      <td>82920.79</td>\n",
       "      <td>40.40</td>\n",
       "      <td>18.60</td>\n",
       "      <td>11.00</td>\n",
       "      <td>7</td>\n",
       "      <td>1</td>\n",
       "      <td>11.0</td>\n",
       "      <td>первый</td>\n",
       "      <td>False</td>\n",
       "      <td>False</td>\n",
       "      <td>False</td>\n",
       "      <td>NaN</td>\n",
       "      <td>2</td>\n",
       "      <td>19.0</td>\n",
       "      <td>13.0</td>\n",
       "      <td>0.0</td>\n",
       "      <td>NaN</td>\n",
       "      <td>0.0</td>\n",
       "      <td>NaN</td>\n",
       "      <td>2018-12-04</td>\n",
       "      <td>1</td>\n",
       "      <td>12</td>\n",
       "      <td>2018</td>\n",
       "      <td>81.0</td>\n",
       "    </tr>\n",
       "    <tr>\n",
       "      <th>2</th>\n",
       "      <td>Санкт-Петербург</td>\n",
       "      <td>2</td>\n",
       "      <td>5196000</td>\n",
       "      <td>92785.71</td>\n",
       "      <td>56.00</td>\n",
       "      <td>34.30</td>\n",
       "      <td>8.30</td>\n",
       "      <td>10</td>\n",
       "      <td>4</td>\n",
       "      <td>5.0</td>\n",
       "      <td>другой</td>\n",
       "      <td>False</td>\n",
       "      <td>False</td>\n",
       "      <td>False</td>\n",
       "      <td>NaN</td>\n",
       "      <td>0</td>\n",
       "      <td>14.0</td>\n",
       "      <td>22.0</td>\n",
       "      <td>1.0</td>\n",
       "      <td>90.0</td>\n",
       "      <td>2.0</td>\n",
       "      <td>574.0</td>\n",
       "      <td>2015-08-20</td>\n",
       "      <td>3</td>\n",
       "      <td>8</td>\n",
       "      <td>2015</td>\n",
       "      <td>558.0</td>\n",
       "    </tr>\n",
       "    <tr>\n",
       "      <th>3</th>\n",
       "      <td>Санкт-Петербург</td>\n",
       "      <td>3</td>\n",
       "      <td>64900000</td>\n",
       "      <td>408176.10</td>\n",
       "      <td>159.00</td>\n",
       "      <td>NaN</td>\n",
       "      <td>NaN</td>\n",
       "      <td>0</td>\n",
       "      <td>9</td>\n",
       "      <td>14.0</td>\n",
       "      <td>другой</td>\n",
       "      <td>False</td>\n",
       "      <td>False</td>\n",
       "      <td>False</td>\n",
       "      <td>NaN</td>\n",
       "      <td>0</td>\n",
       "      <td>7.0</td>\n",
       "      <td>28.0</td>\n",
       "      <td>2.0</td>\n",
       "      <td>84.0</td>\n",
       "      <td>3.0</td>\n",
       "      <td>234.0</td>\n",
       "      <td>2015-07-24</td>\n",
       "      <td>4</td>\n",
       "      <td>7</td>\n",
       "      <td>2015</td>\n",
       "      <td>424.0</td>\n",
       "    </tr>\n",
       "    <tr>\n",
       "      <th>4</th>\n",
       "      <td>Санкт-Петербург</td>\n",
       "      <td>2</td>\n",
       "      <td>10000000</td>\n",
       "      <td>100000.00</td>\n",
       "      <td>100.00</td>\n",
       "      <td>32.00</td>\n",
       "      <td>41.00</td>\n",
       "      <td>2</td>\n",
       "      <td>13</td>\n",
       "      <td>14.0</td>\n",
       "      <td>другой</td>\n",
       "      <td>False</td>\n",
       "      <td>False</td>\n",
       "      <td>False</td>\n",
       "      <td>3.03</td>\n",
       "      <td>0</td>\n",
       "      <td>8.0</td>\n",
       "      <td>32.0</td>\n",
       "      <td>2.0</td>\n",
       "      <td>112.0</td>\n",
       "      <td>1.0</td>\n",
       "      <td>48.0</td>\n",
       "      <td>2018-06-19</td>\n",
       "      <td>1</td>\n",
       "      <td>6</td>\n",
       "      <td>2018</td>\n",
       "      <td>121.0</td>\n",
       "    </tr>\n",
       "    <tr>\n",
       "      <th>5</th>\n",
       "      <td>поселок Янино-1</td>\n",
       "      <td>1</td>\n",
       "      <td>2890000</td>\n",
       "      <td>95065.79</td>\n",
       "      <td>30.40</td>\n",
       "      <td>14.40</td>\n",
       "      <td>9.10</td>\n",
       "      <td>10</td>\n",
       "      <td>5</td>\n",
       "      <td>12.0</td>\n",
       "      <td>другой</td>\n",
       "      <td>False</td>\n",
       "      <td>False</td>\n",
       "      <td>False</td>\n",
       "      <td>NaN</td>\n",
       "      <td>0</td>\n",
       "      <td>NaN</td>\n",
       "      <td>NaN</td>\n",
       "      <td>NaN</td>\n",
       "      <td>NaN</td>\n",
       "      <td>NaN</td>\n",
       "      <td>NaN</td>\n",
       "      <td>2018-09-10</td>\n",
       "      <td>0</td>\n",
       "      <td>9</td>\n",
       "      <td>2018</td>\n",
       "      <td>55.0</td>\n",
       "    </tr>\n",
       "    <tr>\n",
       "      <th>6</th>\n",
       "      <td>поселок Парголово</td>\n",
       "      <td>1</td>\n",
       "      <td>3700000</td>\n",
       "      <td>99195.71</td>\n",
       "      <td>37.30</td>\n",
       "      <td>10.60</td>\n",
       "      <td>14.40</td>\n",
       "      <td>6</td>\n",
       "      <td>6</td>\n",
       "      <td>26.0</td>\n",
       "      <td>другой</td>\n",
       "      <td>False</td>\n",
       "      <td>False</td>\n",
       "      <td>False</td>\n",
       "      <td>NaN</td>\n",
       "      <td>1</td>\n",
       "      <td>19.0</td>\n",
       "      <td>53.0</td>\n",
       "      <td>0.0</td>\n",
       "      <td>NaN</td>\n",
       "      <td>0.0</td>\n",
       "      <td>NaN</td>\n",
       "      <td>2017-11-02</td>\n",
       "      <td>3</td>\n",
       "      <td>11</td>\n",
       "      <td>2017</td>\n",
       "      <td>155.0</td>\n",
       "    </tr>\n",
       "    <tr>\n",
       "      <th>7</th>\n",
       "      <td>Санкт-Петербург</td>\n",
       "      <td>2</td>\n",
       "      <td>7915000</td>\n",
       "      <td>110544.69</td>\n",
       "      <td>71.60</td>\n",
       "      <td>NaN</td>\n",
       "      <td>18.90</td>\n",
       "      <td>5</td>\n",
       "      <td>22</td>\n",
       "      <td>24.0</td>\n",
       "      <td>другой</td>\n",
       "      <td>False</td>\n",
       "      <td>False</td>\n",
       "      <td>False</td>\n",
       "      <td>NaN</td>\n",
       "      <td>2</td>\n",
       "      <td>12.0</td>\n",
       "      <td>24.0</td>\n",
       "      <td>0.0</td>\n",
       "      <td>NaN</td>\n",
       "      <td>0.0</td>\n",
       "      <td>NaN</td>\n",
       "      <td>2019-04-18</td>\n",
       "      <td>3</td>\n",
       "      <td>4</td>\n",
       "      <td>2019</td>\n",
       "      <td>NaN</td>\n",
       "    </tr>\n",
       "    <tr>\n",
       "      <th>8</th>\n",
       "      <td>поселок Мурино</td>\n",
       "      <td>1</td>\n",
       "      <td>2900000</td>\n",
       "      <td>87454.76</td>\n",
       "      <td>33.16</td>\n",
       "      <td>15.43</td>\n",
       "      <td>8.81</td>\n",
       "      <td>20</td>\n",
       "      <td>26</td>\n",
       "      <td>27.0</td>\n",
       "      <td>другой</td>\n",
       "      <td>False</td>\n",
       "      <td>False</td>\n",
       "      <td>False</td>\n",
       "      <td>NaN</td>\n",
       "      <td>0</td>\n",
       "      <td>NaN</td>\n",
       "      <td>NaN</td>\n",
       "      <td>NaN</td>\n",
       "      <td>NaN</td>\n",
       "      <td>NaN</td>\n",
       "      <td>NaN</td>\n",
       "      <td>2018-05-23</td>\n",
       "      <td>2</td>\n",
       "      <td>5</td>\n",
       "      <td>2018</td>\n",
       "      <td>189.0</td>\n",
       "    </tr>\n",
       "    <tr>\n",
       "      <th>9</th>\n",
       "      <td>Санкт-Петербург</td>\n",
       "      <td>3</td>\n",
       "      <td>5400000</td>\n",
       "      <td>88524.59</td>\n",
       "      <td>61.00</td>\n",
       "      <td>43.60</td>\n",
       "      <td>6.50</td>\n",
       "      <td>18</td>\n",
       "      <td>7</td>\n",
       "      <td>9.0</td>\n",
       "      <td>другой</td>\n",
       "      <td>False</td>\n",
       "      <td>False</td>\n",
       "      <td>False</td>\n",
       "      <td>2.50</td>\n",
       "      <td>2</td>\n",
       "      <td>15.0</td>\n",
       "      <td>51.0</td>\n",
       "      <td>0.0</td>\n",
       "      <td>NaN</td>\n",
       "      <td>0.0</td>\n",
       "      <td>NaN</td>\n",
       "      <td>2017-02-26</td>\n",
       "      <td>6</td>\n",
       "      <td>2</td>\n",
       "      <td>2017</td>\n",
       "      <td>289.0</td>\n",
       "    </tr>\n",
       "  </tbody>\n",
       "</table>\n",
       "</div>"
      ],
      "text/plain": [
       "            location  rooms  last_price  price_per_m2  total_area  \\\n",
       "0    Санкт-Петербург      3    13000000     120370.37      108.00   \n",
       "1     поселок Шушары      1     3350000      82920.79       40.40   \n",
       "2    Санкт-Петербург      2     5196000      92785.71       56.00   \n",
       "3    Санкт-Петербург      3    64900000     408176.10      159.00   \n",
       "4    Санкт-Петербург      2    10000000     100000.00      100.00   \n",
       "5    поселок Янино-1      1     2890000      95065.79       30.40   \n",
       "6  поселок Парголово      1     3700000      99195.71       37.30   \n",
       "7    Санкт-Петербург      2     7915000     110544.69       71.60   \n",
       "8     поселок Мурино      1     2900000      87454.76       33.16   \n",
       "9    Санкт-Петербург      3     5400000      88524.59       61.00   \n",
       "\n",
       "   living_area  kitchen_area  total_images  floor  floors_total floor_type  \\\n",
       "0        51.00         25.00            20      8          16.0     другой   \n",
       "1        18.60         11.00             7      1          11.0     первый   \n",
       "2        34.30          8.30            10      4           5.0     другой   \n",
       "3          NaN           NaN             0      9          14.0     другой   \n",
       "4        32.00         41.00             2     13          14.0     другой   \n",
       "5        14.40          9.10            10      5          12.0     другой   \n",
       "6        10.60         14.40             6      6          26.0     другой   \n",
       "7          NaN         18.90             5     22          24.0     другой   \n",
       "8        15.43          8.81            20     26          27.0     другой   \n",
       "9        43.60          6.50            18      7           9.0     другой   \n",
       "\n",
       "   apartment  studio  open_plan  ceiling_height  balcony  \\\n",
       "0      False   False      False            2.70        0   \n",
       "1      False   False      False             NaN        2   \n",
       "2      False   False      False             NaN        0   \n",
       "3      False   False      False             NaN        0   \n",
       "4      False   False      False            3.03        0   \n",
       "5      False   False      False             NaN        0   \n",
       "6      False   False      False             NaN        1   \n",
       "7      False   False      False             NaN        2   \n",
       "8      False   False      False             NaN        0   \n",
       "9      False   False      False            2.50        2   \n",
       "\n",
       "   city_centers_nearest_km  airports_nearest_km  parks_around_3km  \\\n",
       "0                     16.0                 19.0               1.0   \n",
       "1                     19.0                 13.0               0.0   \n",
       "2                     14.0                 22.0               1.0   \n",
       "3                      7.0                 28.0               2.0   \n",
       "4                      8.0                 32.0               2.0   \n",
       "5                      NaN                  NaN               NaN   \n",
       "6                     19.0                 53.0               0.0   \n",
       "7                     12.0                 24.0               0.0   \n",
       "8                      NaN                  NaN               NaN   \n",
       "9                     15.0                 51.0               0.0   \n",
       "\n",
       "   parks_nearest_m  ponds_around_3km  ponds_nearest_m exposition_first_day  \\\n",
       "0            482.0               2.0            755.0           2019-03-07   \n",
       "1              NaN               0.0              NaN           2018-12-04   \n",
       "2             90.0               2.0            574.0           2015-08-20   \n",
       "3             84.0               3.0            234.0           2015-07-24   \n",
       "4            112.0               1.0             48.0           2018-06-19   \n",
       "5              NaN               NaN              NaN           2018-09-10   \n",
       "6              NaN               0.0              NaN           2017-11-02   \n",
       "7              NaN               0.0              NaN           2019-04-18   \n",
       "8              NaN               NaN              NaN           2018-05-23   \n",
       "9              NaN               0.0              NaN           2017-02-26   \n",
       "\n",
       "   exposition_weekday  exposition_month  exposition_year  exposition_days  \n",
       "0                   3                 3             2019              NaN  \n",
       "1                   1                12             2018             81.0  \n",
       "2                   3                 8             2015            558.0  \n",
       "3                   4                 7             2015            424.0  \n",
       "4                   1                 6             2018            121.0  \n",
       "5                   0                 9             2018             55.0  \n",
       "6                   3                11             2017            155.0  \n",
       "7                   3                 4             2019              NaN  \n",
       "8                   2                 5             2018            189.0  \n",
       "9                   6                 2             2017            289.0  "
      ]
     },
     "execution_count": 34,
     "metadata": {},
     "output_type": "execute_result"
    }
   ],
   "source": [
    "data = data[[\n",
    "    'location',\n",
    "    'rooms',\n",
    "    'last_price',\n",
    "    'price_per_m2',\n",
    "    'total_area',\n",
    "    'living_area',\n",
    "    'kitchen_area',\n",
    "    'total_images',\n",
    "    'floor',\n",
    "    'floors_total',\n",
    "    'floor_type',\n",
    "    'apartment',\n",
    "    'studio',\n",
    "    'open_plan',\n",
    "    'ceiling_height',\n",
    "    'balcony',\n",
    "    'city_centers_nearest_km',\n",
    "    'airports_nearest_km',\n",
    "    'parks_around_3km',\n",
    "    'parks_nearest_m',\n",
    "    'ponds_around_3km',\n",
    "    'ponds_nearest_m',\n",
    "    'exposition_first_day',\n",
    "    'exposition_weekday',\n",
    "    'exposition_month',\n",
    "    'exposition_year',    \n",
    "    'exposition_days',\n",
    "]] # Группируем параметры \n",
    "data.head(10) # Выводим первые 10 строк обновлённой таблицы"
   ]
  },
  {
   "attachments": {},
   "cell_type": "markdown",
   "metadata": {},
   "source": [
    "**Краткий итог:**\n",
    "- Добавили дополнительные столбцы для дальнейшего анализа.\n",
    "- Окончательно реструктурировали таблицу для лучшего восприятия информации."
   ]
  },
  {
   "attachments": {},
   "cell_type": "markdown",
   "metadata": {
    "id": "pPyxrKWTAwb-"
   },
   "source": [
    "### Исследовательский анализ данных"
   ]
  },
  {
   "attachments": {},
   "cell_type": "markdown",
   "metadata": {
    "id": "V2f0D3kLAwb-"
   },
   "source": [
    "**4.1. Детальнее изучим несколько параметров на предмет возникновения аномалий и выбросов в данных. Однако, прежде, чем мы приступим к их разбору, напишем пару вспомогательных функций для того, чтобы проводить анализ было быстрее и удобнее:**"
   ]
  },
  {
   "cell_type": "code",
   "execution_count": 35,
   "metadata": {},
   "outputs": [],
   "source": [
    "def describe_data(data, column): # Первая функция — для описания основных параметров изучаемой величины\n",
    "    gap = data[column].isna().sum()\n",
    "    parameters = data[column].describe().round(2)\n",
    "    print('Количество пропусков:', gap)\n",
    "    print('Параметры:', parameters)\n",
    "    \n",
    "def build_hist(data, x_name, title): # Вторая функция — для построения гистограммы\n",
    "    plt.figure(figsize=(10, 5))\n",
    "    data.hist(bins=20)\n",
    "    plt.xlabel(x_name)\n",
    "    plt.title(title)\n",
    "    plt.ticklabel_format(style='plain')\n",
    "    plt.show()"
   ]
  },
  {
   "attachments": {},
   "cell_type": "markdown",
   "metadata": {},
   "source": [
    "**Теперь можно переходить к детальному разбору:**"
   ]
  },
  {
   "attachments": {},
   "cell_type": "markdown",
   "metadata": {},
   "source": [
    "- Общая площадь. Жилая площадь. Площадь кухни"
   ]
  },
  {
   "cell_type": "code",
   "execution_count": 36,
   "metadata": {},
   "outputs": [
    {
     "name": "stdout",
     "output_type": "stream",
     "text": [
      "Количество пропусков: 0\n",
      "Параметры: count    23650.00\n",
      "mean        60.33\n",
      "std         35.66\n",
      "min         12.00\n",
      "25%         40.00\n",
      "50%         52.00\n",
      "75%         69.70\n",
      "max        900.00\n",
      "Name: total_area, dtype: float64\n"
     ]
    },
    {
     "data": {
      "image/png": "[encoded data removed]",
      "text/plain": [
       "<Figure size 720x360 with 1 Axes>"
      ]
     },
     "metadata": {
      "needs_background": "light"
     },
     "output_type": "display_data"
    }
   ],
   "source": [
    "describe_data(data, 'total_area')\n",
    "build_hist(data['total_area'], 'Общая площадь', 'Распределение общей площади')"
   ]
  },
  {
   "cell_type": "code",
   "execution_count": 37,
   "metadata": {},
   "outputs": [
    {
     "name": "stdout",
     "output_type": "stream",
     "text": [
      "Количество пропусков: 1898\n",
      "Параметры: count    21752.00\n",
      "mean        34.45\n",
      "std         22.04\n",
      "min          2.00\n",
      "25%         18.60\n",
      "50%         30.00\n",
      "75%         42.30\n",
      "max        409.70\n",
      "Name: living_area, dtype: float64\n"
     ]
    },
    {
     "data": {
      "image/png": "[encoded data removed]",
      "text/plain": [
       "<Figure size 720x360 with 1 Axes>"
      ]
     },
     "metadata": {
      "needs_background": "light"
     },
     "output_type": "display_data"
    }
   ],
   "source": [
    "describe_data(data, 'living_area')\n",
    "build_hist(data['living_area'], 'Жилая площадь', 'Распределение жилой площади')"
   ]
  },
  {
   "cell_type": "code",
   "execution_count": 38,
   "metadata": {},
   "outputs": [
    {
     "name": "stdout",
     "output_type": "stream",
     "text": [
      "Количество пропусков: 2269\n",
      "Параметры: count    21381.00\n",
      "mean        10.57\n",
      "std          5.90\n",
      "min          1.30\n",
      "25%          7.00\n",
      "50%          9.10\n",
      "75%         12.00\n",
      "max        112.00\n",
      "Name: kitchen_area, dtype: float64\n"
     ]
    },
    {
     "data": {
      "image/png": "[encoded data removed]",
      "text/plain": [
       "<Figure size 720x360 with 1 Axes>"
      ]
     },
     "metadata": {
      "needs_background": "light"
     },
     "output_type": "display_data"
    }
   ],
   "source": [
    "describe_data(data, 'kitchen_area')\n",
    "build_hist(data['kitchen_area'], 'Площадь кухни', 'Распределение площади кухни')"
   ]
  },
  {
   "attachments": {},
   "cell_type": "markdown",
   "metadata": {},
   "source": [
    "**Проверим, нет ли таких квартир, в которых жилая площадь и площадь кухни больше общей площади:**"
   ]
  },
  {
   "cell_type": "code",
   "execution_count": 39,
   "metadata": {
    "scrolled": true
   },
   "outputs": [
    {
     "data": {
      "text/plain": [
       "67"
      ]
     },
     "metadata": {},
     "output_type": "display_data"
    }
   ],
   "source": [
    "data['diff'] = data['total_area'] - data['living_area'] - data['kitchen_area'] # Добавляем новый столбец\n",
    "display(sum(data['diff'] < 0)) # Считаем количество объявлений, в которых общая площадь меньше суммы жилой и кухонной площадей\n",
    "data = data[data['diff'] > 0] # Удаляем эти объявления\n",
    "data = data.drop('diff', axis=1) # Удаляем добавленный столбец"
   ]
  },
  {
   "attachments": {},
   "cell_type": "markdown",
   "metadata": {},
   "source": [
    "**Также изучим выделяющиеся на графике потенциально аномально редкие значения площади выше 400 квадратных метров:**"
   ]
  },
  {
   "cell_type": "code",
   "execution_count": 40,
   "metadata": {
    "scrolled": true
   },
   "outputs": [
    {
     "data": {
      "text/html": [
       "<div>\n",
       "<style scoped>\n",
       "    .dataframe tbody tr th:only-of-type {\n",
       "        vertical-align: middle;\n",
       "    }\n",
       "\n",
       "    .dataframe tbody tr th {\n",
       "        vertical-align: top;\n",
       "    }\n",
       "\n",
       "    .dataframe thead th {\n",
       "        text-align: right;\n",
       "    }\n",
       "</style>\n",
       "<table border=\"1\" class=\"dataframe\">\n",
       "  <thead>\n",
       "    <tr style=\"text-align: right;\">\n",
       "      <th></th>\n",
       "      <th>location</th>\n",
       "      <th>rooms</th>\n",
       "      <th>last_price</th>\n",
       "      <th>price_per_m2</th>\n",
       "      <th>total_area</th>\n",
       "      <th>living_area</th>\n",
       "      <th>kitchen_area</th>\n",
       "      <th>total_images</th>\n",
       "      <th>floor</th>\n",
       "      <th>floors_total</th>\n",
       "      <th>floor_type</th>\n",
       "      <th>apartment</th>\n",
       "      <th>studio</th>\n",
       "      <th>open_plan</th>\n",
       "      <th>ceiling_height</th>\n",
       "      <th>balcony</th>\n",
       "      <th>city_centers_nearest_km</th>\n",
       "      <th>airports_nearest_km</th>\n",
       "      <th>parks_around_3km</th>\n",
       "      <th>parks_nearest_m</th>\n",
       "      <th>ponds_around_3km</th>\n",
       "      <th>ponds_nearest_m</th>\n",
       "      <th>exposition_first_day</th>\n",
       "      <th>exposition_weekday</th>\n",
       "      <th>exposition_month</th>\n",
       "      <th>exposition_year</th>\n",
       "      <th>exposition_days</th>\n",
       "    </tr>\n",
       "  </thead>\n",
       "  <tbody>\n",
       "    <tr>\n",
       "      <th>660</th>\n",
       "      <td>Санкт-Петербург</td>\n",
       "      <td>7</td>\n",
       "      <td>49950000</td>\n",
       "      <td>103223.81</td>\n",
       "      <td>483.9</td>\n",
       "      <td>312.5</td>\n",
       "      <td>26.4</td>\n",
       "      <td>3</td>\n",
       "      <td>4</td>\n",
       "      <td>6.0</td>\n",
       "      <td>другой</td>\n",
       "      <td>False</td>\n",
       "      <td>False</td>\n",
       "      <td>False</td>\n",
       "      <td>3.20</td>\n",
       "      <td>0</td>\n",
       "      <td>1.0</td>\n",
       "      <td>23.0</td>\n",
       "      <td>3.0</td>\n",
       "      <td>461.0</td>\n",
       "      <td>3.0</td>\n",
       "      <td>22.0</td>\n",
       "      <td>2017-10-04</td>\n",
       "      <td>2</td>\n",
       "      <td>10</td>\n",
       "      <td>2017</td>\n",
       "      <td>391.0</td>\n",
       "    </tr>\n",
       "    <tr>\n",
       "      <th>4237</th>\n",
       "      <td>Санкт-Петербург</td>\n",
       "      <td>7</td>\n",
       "      <td>50000000</td>\n",
       "      <td>96711.80</td>\n",
       "      <td>517.0</td>\n",
       "      <td>332.0</td>\n",
       "      <td>22.0</td>\n",
       "      <td>1</td>\n",
       "      <td>3</td>\n",
       "      <td>4.0</td>\n",
       "      <td>другой</td>\n",
       "      <td>False</td>\n",
       "      <td>False</td>\n",
       "      <td>False</td>\n",
       "      <td>NaN</td>\n",
       "      <td>0</td>\n",
       "      <td>2.0</td>\n",
       "      <td>23.0</td>\n",
       "      <td>2.0</td>\n",
       "      <td>477.0</td>\n",
       "      <td>2.0</td>\n",
       "      <td>540.0</td>\n",
       "      <td>2017-10-14</td>\n",
       "      <td>5</td>\n",
       "      <td>10</td>\n",
       "      <td>2017</td>\n",
       "      <td>NaN</td>\n",
       "    </tr>\n",
       "    <tr>\n",
       "      <th>5358</th>\n",
       "      <td>Санкт-Петербург</td>\n",
       "      <td>15</td>\n",
       "      <td>65000000</td>\n",
       "      <td>110169.49</td>\n",
       "      <td>590.0</td>\n",
       "      <td>409.0</td>\n",
       "      <td>100.0</td>\n",
       "      <td>20</td>\n",
       "      <td>3</td>\n",
       "      <td>6.0</td>\n",
       "      <td>другой</td>\n",
       "      <td>False</td>\n",
       "      <td>False</td>\n",
       "      <td>False</td>\n",
       "      <td>3.50</td>\n",
       "      <td>0</td>\n",
       "      <td>5.0</td>\n",
       "      <td>24.0</td>\n",
       "      <td>1.0</td>\n",
       "      <td>767.0</td>\n",
       "      <td>0.0</td>\n",
       "      <td>NaN</td>\n",
       "      <td>2019-02-14</td>\n",
       "      <td>3</td>\n",
       "      <td>2</td>\n",
       "      <td>2019</td>\n",
       "      <td>14.0</td>\n",
       "    </tr>\n",
       "    <tr>\n",
       "      <th>6221</th>\n",
       "      <td>Санкт-Петербург</td>\n",
       "      <td>4</td>\n",
       "      <td>34000000</td>\n",
       "      <td>72294.28</td>\n",
       "      <td>470.3</td>\n",
       "      <td>248.7</td>\n",
       "      <td>40.0</td>\n",
       "      <td>8</td>\n",
       "      <td>3</td>\n",
       "      <td>3.0</td>\n",
       "      <td>последний</td>\n",
       "      <td>False</td>\n",
       "      <td>False</td>\n",
       "      <td>False</td>\n",
       "      <td>NaN</td>\n",
       "      <td>0</td>\n",
       "      <td>15.0</td>\n",
       "      <td>44.0</td>\n",
       "      <td>1.0</td>\n",
       "      <td>852.0</td>\n",
       "      <td>3.0</td>\n",
       "      <td>122.0</td>\n",
       "      <td>2018-01-14</td>\n",
       "      <td>6</td>\n",
       "      <td>1</td>\n",
       "      <td>2018</td>\n",
       "      <td>179.0</td>\n",
       "    </tr>\n",
       "    <tr>\n",
       "      <th>6621</th>\n",
       "      <td>Санкт-Петербург</td>\n",
       "      <td>5</td>\n",
       "      <td>99000000</td>\n",
       "      <td>202868.85</td>\n",
       "      <td>488.0</td>\n",
       "      <td>216.0</td>\n",
       "      <td>50.0</td>\n",
       "      <td>20</td>\n",
       "      <td>17</td>\n",
       "      <td>20.0</td>\n",
       "      <td>другой</td>\n",
       "      <td>False</td>\n",
       "      <td>False</td>\n",
       "      <td>False</td>\n",
       "      <td>2.95</td>\n",
       "      <td>0</td>\n",
       "      <td>5.0</td>\n",
       "      <td>28.0</td>\n",
       "      <td>1.0</td>\n",
       "      <td>646.0</td>\n",
       "      <td>1.0</td>\n",
       "      <td>368.0</td>\n",
       "      <td>2017-04-09</td>\n",
       "      <td>6</td>\n",
       "      <td>4</td>\n",
       "      <td>2017</td>\n",
       "      <td>351.0</td>\n",
       "    </tr>\n",
       "    <tr>\n",
       "      <th>8018</th>\n",
       "      <td>Санкт-Петербург</td>\n",
       "      <td>5</td>\n",
       "      <td>84000000</td>\n",
       "      <td>165680.47</td>\n",
       "      <td>507.0</td>\n",
       "      <td>301.5</td>\n",
       "      <td>45.5</td>\n",
       "      <td>20</td>\n",
       "      <td>7</td>\n",
       "      <td>7.0</td>\n",
       "      <td>последний</td>\n",
       "      <td>True</td>\n",
       "      <td>False</td>\n",
       "      <td>False</td>\n",
       "      <td>4.45</td>\n",
       "      <td>1</td>\n",
       "      <td>6.0</td>\n",
       "      <td>NaN</td>\n",
       "      <td>2.0</td>\n",
       "      <td>110.0</td>\n",
       "      <td>0.0</td>\n",
       "      <td>NaN</td>\n",
       "      <td>2015-12-17</td>\n",
       "      <td>3</td>\n",
       "      <td>12</td>\n",
       "      <td>2015</td>\n",
       "      <td>1078.0</td>\n",
       "    </tr>\n",
       "    <tr>\n",
       "      <th>12401</th>\n",
       "      <td>Санкт-Петербург</td>\n",
       "      <td>7</td>\n",
       "      <td>91500000</td>\n",
       "      <td>184848.48</td>\n",
       "      <td>495.0</td>\n",
       "      <td>347.5</td>\n",
       "      <td>25.0</td>\n",
       "      <td>20</td>\n",
       "      <td>7</td>\n",
       "      <td>7.0</td>\n",
       "      <td>последний</td>\n",
       "      <td>False</td>\n",
       "      <td>False</td>\n",
       "      <td>False</td>\n",
       "      <td>4.65</td>\n",
       "      <td>0</td>\n",
       "      <td>6.0</td>\n",
       "      <td>NaN</td>\n",
       "      <td>2.0</td>\n",
       "      <td>110.0</td>\n",
       "      <td>0.0</td>\n",
       "      <td>NaN</td>\n",
       "      <td>2017-06-19</td>\n",
       "      <td>0</td>\n",
       "      <td>6</td>\n",
       "      <td>2017</td>\n",
       "      <td>14.0</td>\n",
       "    </tr>\n",
       "    <tr>\n",
       "      <th>12859</th>\n",
       "      <td>Санкт-Петербург</td>\n",
       "      <td>7</td>\n",
       "      <td>140000000</td>\n",
       "      <td>221799.75</td>\n",
       "      <td>631.2</td>\n",
       "      <td>322.3</td>\n",
       "      <td>19.5</td>\n",
       "      <td>20</td>\n",
       "      <td>4</td>\n",
       "      <td>4.0</td>\n",
       "      <td>последний</td>\n",
       "      <td>False</td>\n",
       "      <td>False</td>\n",
       "      <td>False</td>\n",
       "      <td>3.90</td>\n",
       "      <td>1</td>\n",
       "      <td>5.0</td>\n",
       "      <td>26.0</td>\n",
       "      <td>0.0</td>\n",
       "      <td>NaN</td>\n",
       "      <td>2.0</td>\n",
       "      <td>210.0</td>\n",
       "      <td>2019-04-09</td>\n",
       "      <td>1</td>\n",
       "      <td>4</td>\n",
       "      <td>2019</td>\n",
       "      <td>NaN</td>\n",
       "    </tr>\n",
       "    <tr>\n",
       "      <th>13749</th>\n",
       "      <td>Санкт-Петербург</td>\n",
       "      <td>6</td>\n",
       "      <td>240000000</td>\n",
       "      <td>585365.85</td>\n",
       "      <td>410.0</td>\n",
       "      <td>218.0</td>\n",
       "      <td>40.0</td>\n",
       "      <td>7</td>\n",
       "      <td>7</td>\n",
       "      <td>7.0</td>\n",
       "      <td>последний</td>\n",
       "      <td>False</td>\n",
       "      <td>False</td>\n",
       "      <td>False</td>\n",
       "      <td>3.40</td>\n",
       "      <td>0</td>\n",
       "      <td>5.0</td>\n",
       "      <td>32.0</td>\n",
       "      <td>0.0</td>\n",
       "      <td>NaN</td>\n",
       "      <td>2.0</td>\n",
       "      <td>198.0</td>\n",
       "      <td>2017-04-01</td>\n",
       "      <td>5</td>\n",
       "      <td>4</td>\n",
       "      <td>2017</td>\n",
       "      <td>199.0</td>\n",
       "    </tr>\n",
       "    <tr>\n",
       "      <th>14088</th>\n",
       "      <td>Санкт-Петербург</td>\n",
       "      <td>6</td>\n",
       "      <td>51000000</td>\n",
       "      <td>126865.67</td>\n",
       "      <td>402.0</td>\n",
       "      <td>300.0</td>\n",
       "      <td>56.0</td>\n",
       "      <td>8</td>\n",
       "      <td>6</td>\n",
       "      <td>8.0</td>\n",
       "      <td>другой</td>\n",
       "      <td>False</td>\n",
       "      <td>False</td>\n",
       "      <td>False</td>\n",
       "      <td>3.15</td>\n",
       "      <td>2</td>\n",
       "      <td>5.0</td>\n",
       "      <td>24.0</td>\n",
       "      <td>1.0</td>\n",
       "      <td>253.0</td>\n",
       "      <td>0.0</td>\n",
       "      <td>NaN</td>\n",
       "      <td>2017-02-07</td>\n",
       "      <td>1</td>\n",
       "      <td>2</td>\n",
       "      <td>2017</td>\n",
       "      <td>32.0</td>\n",
       "    </tr>\n",
       "    <tr>\n",
       "      <th>14706</th>\n",
       "      <td>Санкт-Петербург</td>\n",
       "      <td>5</td>\n",
       "      <td>401300000</td>\n",
       "      <td>1000748.13</td>\n",
       "      <td>401.0</td>\n",
       "      <td>204.0</td>\n",
       "      <td>24.0</td>\n",
       "      <td>15</td>\n",
       "      <td>9</td>\n",
       "      <td>9.0</td>\n",
       "      <td>последний</td>\n",
       "      <td>False</td>\n",
       "      <td>False</td>\n",
       "      <td>False</td>\n",
       "      <td>NaN</td>\n",
       "      <td>3</td>\n",
       "      <td>2.0</td>\n",
       "      <td>22.0</td>\n",
       "      <td>1.0</td>\n",
       "      <td>545.0</td>\n",
       "      <td>1.0</td>\n",
       "      <td>478.0</td>\n",
       "      <td>2016-02-20</td>\n",
       "      <td>5</td>\n",
       "      <td>2</td>\n",
       "      <td>2016</td>\n",
       "      <td>393.0</td>\n",
       "    </tr>\n",
       "    <tr>\n",
       "      <th>14991</th>\n",
       "      <td>Санкт-Петербург</td>\n",
       "      <td>7</td>\n",
       "      <td>45000000</td>\n",
       "      <td>108827.09</td>\n",
       "      <td>413.5</td>\n",
       "      <td>74.2</td>\n",
       "      <td>13.9</td>\n",
       "      <td>19</td>\n",
       "      <td>18</td>\n",
       "      <td>20.0</td>\n",
       "      <td>другой</td>\n",
       "      <td>False</td>\n",
       "      <td>False</td>\n",
       "      <td>False</td>\n",
       "      <td>NaN</td>\n",
       "      <td>0</td>\n",
       "      <td>4.0</td>\n",
       "      <td>19.0</td>\n",
       "      <td>0.0</td>\n",
       "      <td>NaN</td>\n",
       "      <td>0.0</td>\n",
       "      <td>NaN</td>\n",
       "      <td>2018-09-20</td>\n",
       "      <td>3</td>\n",
       "      <td>9</td>\n",
       "      <td>2018</td>\n",
       "      <td>182.0</td>\n",
       "    </tr>\n",
       "    <tr>\n",
       "      <th>15651</th>\n",
       "      <td>Санкт-Петербург</td>\n",
       "      <td>7</td>\n",
       "      <td>300000000</td>\n",
       "      <td>485436.89</td>\n",
       "      <td>618.0</td>\n",
       "      <td>258.0</td>\n",
       "      <td>70.0</td>\n",
       "      <td>20</td>\n",
       "      <td>5</td>\n",
       "      <td>7.0</td>\n",
       "      <td>другой</td>\n",
       "      <td>False</td>\n",
       "      <td>False</td>\n",
       "      <td>False</td>\n",
       "      <td>3.40</td>\n",
       "      <td>0</td>\n",
       "      <td>5.0</td>\n",
       "      <td>32.0</td>\n",
       "      <td>0.0</td>\n",
       "      <td>NaN</td>\n",
       "      <td>2.0</td>\n",
       "      <td>198.0</td>\n",
       "      <td>2017-12-18</td>\n",
       "      <td>0</td>\n",
       "      <td>12</td>\n",
       "      <td>2017</td>\n",
       "      <td>111.0</td>\n",
       "    </tr>\n",
       "    <tr>\n",
       "      <th>19540</th>\n",
       "      <td>Санкт-Петербург</td>\n",
       "      <td>12</td>\n",
       "      <td>420000000</td>\n",
       "      <td>466666.67</td>\n",
       "      <td>900.0</td>\n",
       "      <td>409.7</td>\n",
       "      <td>112.0</td>\n",
       "      <td>8</td>\n",
       "      <td>25</td>\n",
       "      <td>25.0</td>\n",
       "      <td>последний</td>\n",
       "      <td>False</td>\n",
       "      <td>False</td>\n",
       "      <td>False</td>\n",
       "      <td>2.80</td>\n",
       "      <td>0</td>\n",
       "      <td>8.0</td>\n",
       "      <td>31.0</td>\n",
       "      <td>0.0</td>\n",
       "      <td>NaN</td>\n",
       "      <td>2.0</td>\n",
       "      <td>318.0</td>\n",
       "      <td>2017-12-06</td>\n",
       "      <td>2</td>\n",
       "      <td>12</td>\n",
       "      <td>2017</td>\n",
       "      <td>106.0</td>\n",
       "    </tr>\n",
       "    <tr>\n",
       "      <th>20273</th>\n",
       "      <td>Санкт-Петербург</td>\n",
       "      <td>6</td>\n",
       "      <td>20000000</td>\n",
       "      <td>43402.78</td>\n",
       "      <td>460.8</td>\n",
       "      <td>279.6</td>\n",
       "      <td>55.5</td>\n",
       "      <td>12</td>\n",
       "      <td>1</td>\n",
       "      <td>3.0</td>\n",
       "      <td>первый</td>\n",
       "      <td>False</td>\n",
       "      <td>False</td>\n",
       "      <td>False</td>\n",
       "      <td>3.10</td>\n",
       "      <td>0</td>\n",
       "      <td>15.0</td>\n",
       "      <td>44.0</td>\n",
       "      <td>1.0</td>\n",
       "      <td>852.0</td>\n",
       "      <td>3.0</td>\n",
       "      <td>122.0</td>\n",
       "      <td>2019-03-20</td>\n",
       "      <td>2</td>\n",
       "      <td>3</td>\n",
       "      <td>2019</td>\n",
       "      <td>21.0</td>\n",
       "    </tr>\n",
       "    <tr>\n",
       "      <th>21955</th>\n",
       "      <td>Санкт-Петербург</td>\n",
       "      <td>7</td>\n",
       "      <td>130000000</td>\n",
       "      <td>301624.13</td>\n",
       "      <td>431.0</td>\n",
       "      <td>220.0</td>\n",
       "      <td>20.0</td>\n",
       "      <td>19</td>\n",
       "      <td>5</td>\n",
       "      <td>8.0</td>\n",
       "      <td>другой</td>\n",
       "      <td>False</td>\n",
       "      <td>False</td>\n",
       "      <td>False</td>\n",
       "      <td>3.70</td>\n",
       "      <td>5</td>\n",
       "      <td>NaN</td>\n",
       "      <td>NaN</td>\n",
       "      <td>NaN</td>\n",
       "      <td>NaN</td>\n",
       "      <td>NaN</td>\n",
       "      <td>NaN</td>\n",
       "      <td>2017-10-02</td>\n",
       "      <td>0</td>\n",
       "      <td>10</td>\n",
       "      <td>2017</td>\n",
       "      <td>161.0</td>\n",
       "    </tr>\n",
       "    <tr>\n",
       "      <th>22494</th>\n",
       "      <td>Санкт-Петербург</td>\n",
       "      <td>5</td>\n",
       "      <td>91075000</td>\n",
       "      <td>185488.80</td>\n",
       "      <td>491.0</td>\n",
       "      <td>274.0</td>\n",
       "      <td>45.0</td>\n",
       "      <td>7</td>\n",
       "      <td>9</td>\n",
       "      <td>9.0</td>\n",
       "      <td>последний</td>\n",
       "      <td>False</td>\n",
       "      <td>False</td>\n",
       "      <td>False</td>\n",
       "      <td>4.20</td>\n",
       "      <td>0</td>\n",
       "      <td>6.0</td>\n",
       "      <td>26.0</td>\n",
       "      <td>2.0</td>\n",
       "      <td>116.0</td>\n",
       "      <td>0.0</td>\n",
       "      <td>NaN</td>\n",
       "      <td>2017-05-27</td>\n",
       "      <td>5</td>\n",
       "      <td>5</td>\n",
       "      <td>2017</td>\n",
       "      <td>115.0</td>\n",
       "    </tr>\n",
       "  </tbody>\n",
       "</table>\n",
       "</div>"
      ],
      "text/plain": [
       "              location  rooms  last_price  price_per_m2  total_area  \\\n",
       "660    Санкт-Петербург      7    49950000     103223.81       483.9   \n",
       "4237   Санкт-Петербург      7    50000000      96711.80       517.0   \n",
       "5358   Санкт-Петербург     15    65000000     110169.49       590.0   \n",
       "6221   Санкт-Петербург      4    34000000      72294.28       470.3   \n",
       "6621   Санкт-Петербург      5    99000000     202868.85       488.0   \n",
       "8018   Санкт-Петербург      5    84000000     165680.47       507.0   \n",
       "12401  Санкт-Петербург      7    91500000     184848.48       495.0   \n",
       "12859  Санкт-Петербург      7   140000000     221799.75       631.2   \n",
       "13749  Санкт-Петербург      6   240000000     585365.85       410.0   \n",
       "14088  Санкт-Петербург      6    51000000     126865.67       402.0   \n",
       "14706  Санкт-Петербург      5   401300000    1000748.13       401.0   \n",
       "14991  Санкт-Петербург      7    45000000     108827.09       413.5   \n",
       "15651  Санкт-Петербург      7   300000000     485436.89       618.0   \n",
       "19540  Санкт-Петербург     12   420000000     466666.67       900.0   \n",
       "20273  Санкт-Петербург      6    20000000      43402.78       460.8   \n",
       "21955  Санкт-Петербург      7   130000000     301624.13       431.0   \n",
       "22494  Санкт-Петербург      5    91075000     185488.80       491.0   \n",
       "\n",
       "       living_area  kitchen_area  total_images  floor  floors_total  \\\n",
       "660          312.5          26.4             3      4           6.0   \n",
       "4237         332.0          22.0             1      3           4.0   \n",
       "5358         409.0         100.0            20      3           6.0   \n",
       "6221         248.7          40.0             8      3           3.0   \n",
       "6621         216.0          50.0            20     17          20.0   \n",
       "8018         301.5          45.5            20      7           7.0   \n",
       "12401        347.5          25.0            20      7           7.0   \n",
       "12859        322.3          19.5            20      4           4.0   \n",
       "13749        218.0          40.0             7      7           7.0   \n",
       "14088        300.0          56.0             8      6           8.0   \n",
       "14706        204.0          24.0            15      9           9.0   \n",
       "14991         74.2          13.9            19     18          20.0   \n",
       "15651        258.0          70.0            20      5           7.0   \n",
       "19540        409.7         112.0             8     25          25.0   \n",
       "20273        279.6          55.5            12      1           3.0   \n",
       "21955        220.0          20.0            19      5           8.0   \n",
       "22494        274.0          45.0             7      9           9.0   \n",
       "\n",
       "      floor_type  apartment  studio  open_plan  ceiling_height  balcony  \\\n",
       "660       другой      False   False      False            3.20        0   \n",
       "4237      другой      False   False      False             NaN        0   \n",
       "5358      другой      False   False      False            3.50        0   \n",
       "6221   последний      False   False      False             NaN        0   \n",
       "6621      другой      False   False      False            2.95        0   \n",
       "8018   последний       True   False      False            4.45        1   \n",
       "12401  последний      False   False      False            4.65        0   \n",
       "12859  последний      False   False      False            3.90        1   \n",
       "13749  последний      False   False      False            3.40        0   \n",
       "14088     другой      False   False      False            3.15        2   \n",
       "14706  последний      False   False      False             NaN        3   \n",
       "14991     другой      False   False      False             NaN        0   \n",
       "15651     другой      False   False      False            3.40        0   \n",
       "19540  последний      False   False      False            2.80        0   \n",
       "20273     первый      False   False      False            3.10        0   \n",
       "21955     другой      False   False      False            3.70        5   \n",
       "22494  последний      False   False      False            4.20        0   \n",
       "\n",
       "       city_centers_nearest_km  airports_nearest_km  parks_around_3km  \\\n",
       "660                        1.0                 23.0               3.0   \n",
       "4237                       2.0                 23.0               2.0   \n",
       "5358                       5.0                 24.0               1.0   \n",
       "6221                      15.0                 44.0               1.0   \n",
       "6621                       5.0                 28.0               1.0   \n",
       "8018                       6.0                  NaN               2.0   \n",
       "12401                      6.0                  NaN               2.0   \n",
       "12859                      5.0                 26.0               0.0   \n",
       "13749                      5.0                 32.0               0.0   \n",
       "14088                      5.0                 24.0               1.0   \n",
       "14706                      2.0                 22.0               1.0   \n",
       "14991                      4.0                 19.0               0.0   \n",
       "15651                      5.0                 32.0               0.0   \n",
       "19540                      8.0                 31.0               0.0   \n",
       "20273                     15.0                 44.0               1.0   \n",
       "21955                      NaN                  NaN               NaN   \n",
       "22494                      6.0                 26.0               2.0   \n",
       "\n",
       "       parks_nearest_m  ponds_around_3km  ponds_nearest_m  \\\n",
       "660              461.0               3.0             22.0   \n",
       "4237             477.0               2.0            540.0   \n",
       "5358             767.0               0.0              NaN   \n",
       "6221             852.0               3.0            122.0   \n",
       "6621             646.0               1.0            368.0   \n",
       "8018             110.0               0.0              NaN   \n",
       "12401            110.0               0.0              NaN   \n",
       "12859              NaN               2.0            210.0   \n",
       "13749              NaN               2.0            198.0   \n",
       "14088            253.0               0.0              NaN   \n",
       "14706            545.0               1.0            478.0   \n",
       "14991              NaN               0.0              NaN   \n",
       "15651              NaN               2.0            198.0   \n",
       "19540              NaN               2.0            318.0   \n",
       "20273            852.0               3.0            122.0   \n",
       "21955              NaN               NaN              NaN   \n",
       "22494            116.0               0.0              NaN   \n",
       "\n",
       "      exposition_first_day  exposition_weekday  exposition_month  \\\n",
       "660             2017-10-04                   2                10   \n",
       "4237            2017-10-14                   5                10   \n",
       "5358            2019-02-14                   3                 2   \n",
       "6221            2018-01-14                   6                 1   \n",
       "6621            2017-04-09                   6                 4   \n",
       "8018            2015-12-17                   3                12   \n",
       "12401           2017-06-19                   0                 6   \n",
       "12859           2019-04-09                   1                 4   \n",
       "13749           2017-04-01                   5                 4   \n",
       "14088           2017-02-07                   1                 2   \n",
       "14706           2016-02-20                   5                 2   \n",
       "14991           2018-09-20                   3                 9   \n",
       "15651           2017-12-18                   0                12   \n",
       "19540           2017-12-06                   2                12   \n",
       "20273           2019-03-20                   2                 3   \n",
       "21955           2017-10-02                   0                10   \n",
       "22494           2017-05-27                   5                 5   \n",
       "\n",
       "       exposition_year  exposition_days  \n",
       "660               2017            391.0  \n",
       "4237              2017              NaN  \n",
       "5358              2019             14.0  \n",
       "6221              2018            179.0  \n",
       "6621              2017            351.0  \n",
       "8018              2015           1078.0  \n",
       "12401             2017             14.0  \n",
       "12859             2019              NaN  \n",
       "13749             2017            199.0  \n",
       "14088             2017             32.0  \n",
       "14706             2016            393.0  \n",
       "14991             2018            182.0  \n",
       "15651             2017            111.0  \n",
       "19540             2017            106.0  \n",
       "20273             2019             21.0  \n",
       "21955             2017            161.0  \n",
       "22494             2017            115.0  "
      ]
     },
     "execution_count": 40,
     "metadata": {},
     "output_type": "execute_result"
    }
   ],
   "source": [
    "data[data['total_area'] > 400]"
   ]
  },
  {
   "attachments": {},
   "cell_type": "markdown",
   "metadata": {},
   "source": [
    "**За вычетом пары квартир стоимостью в 20 и 34 миллиона выглядит как стандартный рынок элитного жилья. К тому же, удаление данных объявлений из рассмотрения навряд ли сыграет какую-то решающую роль, поэтому оставим их.**"
   ]
  },
  {
   "attachments": {},
   "cell_type": "markdown",
   "metadata": {},
   "source": [
    "- Цена квартиры"
   ]
  },
  {
   "cell_type": "code",
   "execution_count": 41,
   "metadata": {},
   "outputs": [
    {
     "name": "stdout",
     "output_type": "stream",
     "text": [
      "Количество пропусков: 0\n",
      "Параметры: count    2.081400e+04\n",
      "mean     6.510990e+06\n",
      "std      9.620021e+06\n",
      "min      1.219000e+04\n",
      "25%      3.500000e+06\n",
      "50%      4.700000e+06\n",
      "75%      6.800000e+06\n",
      "max      4.200000e+08\n",
      "Name: last_price, dtype: float64\n"
     ]
    },
    {
     "data": {
      "image/png": "[encoded data removed]",
      "text/plain": [
       "<Figure size 720x360 with 1 Axes>"
      ]
     },
     "metadata": {
      "needs_background": "light"
     },
     "output_type": "display_data"
    }
   ],
   "source": [
    "describe_data(data, 'last_price')\n",
    "build_hist(data['last_price'], 'Цена квартиры', 'Распределение цен на квартиры')"
   ]
  },
  {
   "attachments": {},
   "cell_type": "markdown",
   "metadata": {},
   "source": [
    "**Большинство значений находится в пределах 7 миллионов рублей. При этом, наименьшее значение — 12 тысяч, наибольшее — 420 миллионов рублей. Наибольшее значение здесь  Изучим подробнее эти значения:**"
   ]
  },
  {
   "cell_type": "code",
   "execution_count": 42,
   "metadata": {},
   "outputs": [
    {
     "data": {
      "text/html": [
       "<div>\n",
       "<style scoped>\n",
       "    .dataframe tbody tr th:only-of-type {\n",
       "        vertical-align: middle;\n",
       "    }\n",
       "\n",
       "    .dataframe tbody tr th {\n",
       "        vertical-align: top;\n",
       "    }\n",
       "\n",
       "    .dataframe thead th {\n",
       "        text-align: right;\n",
       "    }\n",
       "</style>\n",
       "<table border=\"1\" class=\"dataframe\">\n",
       "  <thead>\n",
       "    <tr style=\"text-align: right;\">\n",
       "      <th></th>\n",
       "      <th>location</th>\n",
       "      <th>rooms</th>\n",
       "      <th>last_price</th>\n",
       "      <th>price_per_m2</th>\n",
       "      <th>total_area</th>\n",
       "      <th>living_area</th>\n",
       "      <th>kitchen_area</th>\n",
       "      <th>total_images</th>\n",
       "      <th>floor</th>\n",
       "      <th>floors_total</th>\n",
       "      <th>floor_type</th>\n",
       "      <th>apartment</th>\n",
       "      <th>studio</th>\n",
       "      <th>open_plan</th>\n",
       "      <th>ceiling_height</th>\n",
       "      <th>balcony</th>\n",
       "      <th>city_centers_nearest_km</th>\n",
       "      <th>airports_nearest_km</th>\n",
       "      <th>parks_around_3km</th>\n",
       "      <th>parks_nearest_m</th>\n",
       "      <th>ponds_around_3km</th>\n",
       "      <th>ponds_nearest_m</th>\n",
       "      <th>exposition_first_day</th>\n",
       "      <th>exposition_weekday</th>\n",
       "      <th>exposition_month</th>\n",
       "      <th>exposition_year</th>\n",
       "      <th>exposition_days</th>\n",
       "    </tr>\n",
       "  </thead>\n",
       "  <tbody>\n",
       "    <tr>\n",
       "      <th>8793</th>\n",
       "      <td>Санкт-Петербург</td>\n",
       "      <td>2</td>\n",
       "      <td>12190</td>\n",
       "      <td>111.83</td>\n",
       "      <td>109.0</td>\n",
       "      <td>32.0</td>\n",
       "      <td>40.5</td>\n",
       "      <td>7</td>\n",
       "      <td>25</td>\n",
       "      <td>25.0</td>\n",
       "      <td>последний</td>\n",
       "      <td>False</td>\n",
       "      <td>False</td>\n",
       "      <td>False</td>\n",
       "      <td>2.75</td>\n",
       "      <td>0</td>\n",
       "      <td>9.0</td>\n",
       "      <td>36.0</td>\n",
       "      <td>1.0</td>\n",
       "      <td>805.0</td>\n",
       "      <td>0.0</td>\n",
       "      <td>NaN</td>\n",
       "      <td>2019-03-20</td>\n",
       "      <td>2</td>\n",
       "      <td>3</td>\n",
       "      <td>2019</td>\n",
       "      <td>8.0</td>\n",
       "    </tr>\n",
       "  </tbody>\n",
       "</table>\n",
       "</div>"
      ],
      "text/plain": [
       "             location  rooms  last_price  price_per_m2  total_area  \\\n",
       "8793  Санкт-Петербург      2       12190        111.83       109.0   \n",
       "\n",
       "      living_area  kitchen_area  total_images  floor  floors_total floor_type  \\\n",
       "8793         32.0          40.5             7     25          25.0  последний   \n",
       "\n",
       "      apartment  studio  open_plan  ceiling_height  balcony  \\\n",
       "8793      False   False      False            2.75        0   \n",
       "\n",
       "      city_centers_nearest_km  airports_nearest_km  parks_around_3km  \\\n",
       "8793                      9.0                 36.0               1.0   \n",
       "\n",
       "      parks_nearest_m  ponds_around_3km  ponds_nearest_m exposition_first_day  \\\n",
       "8793            805.0               0.0              NaN           2019-03-20   \n",
       "\n",
       "      exposition_weekday  exposition_month  exposition_year  exposition_days  \n",
       "8793                   2                 3             2019              8.0  "
      ]
     },
     "execution_count": 42,
     "metadata": {},
     "output_type": "execute_result"
    }
   ],
   "source": [
    "data[data['last_price'] < 100000] # Найдём квартиры дешевле ста тысяч рублей"
   ]
  },
  {
   "attachments": {},
   "cell_type": "markdown",
   "metadata": {},
   "source": [
    "**Вероятнее всего, значение ошибочно указано в тысячах вместо миллионов, поэтому исправим его:**"
   ]
  },
  {
   "cell_type": "code",
   "execution_count": 43,
   "metadata": {},
   "outputs": [],
   "source": [
    "data['last_price'] = data['last_price'].replace(12190, 12190000)\n",
    "data['last_price'] = data['last_price'].replace(111.83, 111834.86)"
   ]
  },
  {
   "attachments": {},
   "cell_type": "markdown",
   "metadata": {},
   "source": [
    "- Высота потолков"
   ]
  },
  {
   "cell_type": "code",
   "execution_count": 44,
   "metadata": {},
   "outputs": [
    {
     "name": "stdout",
     "output_type": "stream",
     "text": [
      "Количество пропусков: 7571\n",
      "Параметры: count    13243.00\n",
      "mean         2.75\n",
      "std          0.87\n",
      "min          1.00\n",
      "25%          2.51\n",
      "50%          2.65\n",
      "75%          2.80\n",
      "max         32.00\n",
      "Name: ceiling_height, dtype: float64\n"
     ]
    },
    {
     "data": {
      "image/png": "[encoded data removed]",
      "text/plain": [
       "<Figure size 720x360 with 1 Axes>"
      ]
     },
     "metadata": {
      "needs_background": "light"
     },
     "output_type": "display_data"
    }
   ],
   "source": [
    "describe_data(data, 'ceiling_height')\n",
    "build_hist(data['ceiling_height'], 'Высота потолков', 'Распределение высоты потолков в квартирах')"
   ]
  },
  {
   "attachments": {},
   "cell_type": "markdown",
   "metadata": {},
   "source": [
    "**Изучим маловероятные значения высоты (больше 5 и меньше 2 метров):**"
   ]
  },
  {
   "cell_type": "code",
   "execution_count": 45,
   "metadata": {
    "scrolled": true
   },
   "outputs": [
    {
     "data": {
      "text/html": [
       "<div>\n",
       "<style scoped>\n",
       "    .dataframe tbody tr th:only-of-type {\n",
       "        vertical-align: middle;\n",
       "    }\n",
       "\n",
       "    .dataframe tbody tr th {\n",
       "        vertical-align: top;\n",
       "    }\n",
       "\n",
       "    .dataframe thead th {\n",
       "        text-align: right;\n",
       "    }\n",
       "</style>\n",
       "<table border=\"1\" class=\"dataframe\">\n",
       "  <thead>\n",
       "    <tr style=\"text-align: right;\">\n",
       "      <th></th>\n",
       "      <th>location</th>\n",
       "      <th>rooms</th>\n",
       "      <th>last_price</th>\n",
       "      <th>price_per_m2</th>\n",
       "      <th>total_area</th>\n",
       "      <th>living_area</th>\n",
       "      <th>kitchen_area</th>\n",
       "      <th>total_images</th>\n",
       "      <th>floor</th>\n",
       "      <th>floors_total</th>\n",
       "      <th>floor_type</th>\n",
       "      <th>apartment</th>\n",
       "      <th>studio</th>\n",
       "      <th>open_plan</th>\n",
       "      <th>ceiling_height</th>\n",
       "      <th>balcony</th>\n",
       "      <th>city_centers_nearest_km</th>\n",
       "      <th>airports_nearest_km</th>\n",
       "      <th>parks_around_3km</th>\n",
       "      <th>parks_nearest_m</th>\n",
       "      <th>ponds_around_3km</th>\n",
       "      <th>ponds_nearest_m</th>\n",
       "      <th>exposition_first_day</th>\n",
       "      <th>exposition_weekday</th>\n",
       "      <th>exposition_month</th>\n",
       "      <th>exposition_year</th>\n",
       "      <th>exposition_days</th>\n",
       "    </tr>\n",
       "  </thead>\n",
       "  <tbody>\n",
       "    <tr>\n",
       "      <th>464</th>\n",
       "      <td>Санкт-Петербург</td>\n",
       "      <td>6</td>\n",
       "      <td>66571000</td>\n",
       "      <td>237499.11</td>\n",
       "      <td>280.3</td>\n",
       "      <td>159.5</td>\n",
       "      <td>21.1</td>\n",
       "      <td>15</td>\n",
       "      <td>7</td>\n",
       "      <td>8.0</td>\n",
       "      <td>другой</td>\n",
       "      <td>False</td>\n",
       "      <td>False</td>\n",
       "      <td>False</td>\n",
       "      <td>5.2</td>\n",
       "      <td>0</td>\n",
       "      <td>7.0</td>\n",
       "      <td>26.0</td>\n",
       "      <td>3.0</td>\n",
       "      <td>187.0</td>\n",
       "      <td>1.0</td>\n",
       "      <td>616.0</td>\n",
       "      <td>2015-06-11</td>\n",
       "      <td>3</td>\n",
       "      <td>6</td>\n",
       "      <td>2015</td>\n",
       "      <td>578.0</td>\n",
       "    </tr>\n",
       "    <tr>\n",
       "      <th>1026</th>\n",
       "      <td>Санкт-Петербург</td>\n",
       "      <td>5</td>\n",
       "      <td>155000000</td>\n",
       "      <td>500000.00</td>\n",
       "      <td>310.0</td>\n",
       "      <td>190.0</td>\n",
       "      <td>63.0</td>\n",
       "      <td>20</td>\n",
       "      <td>3</td>\n",
       "      <td>3.0</td>\n",
       "      <td>последний</td>\n",
       "      <td>False</td>\n",
       "      <td>False</td>\n",
       "      <td>False</td>\n",
       "      <td>5.3</td>\n",
       "      <td>2</td>\n",
       "      <td>5.0</td>\n",
       "      <td>25.0</td>\n",
       "      <td>0.0</td>\n",
       "      <td>NaN</td>\n",
       "      <td>1.0</td>\n",
       "      <td>603.0</td>\n",
       "      <td>2018-10-12</td>\n",
       "      <td>4</td>\n",
       "      <td>10</td>\n",
       "      <td>2018</td>\n",
       "      <td>NaN</td>\n",
       "    </tr>\n",
       "    <tr>\n",
       "      <th>3148</th>\n",
       "      <td>Волхов</td>\n",
       "      <td>3</td>\n",
       "      <td>2900000</td>\n",
       "      <td>38666.67</td>\n",
       "      <td>75.0</td>\n",
       "      <td>53.0</td>\n",
       "      <td>8.0</td>\n",
       "      <td>14</td>\n",
       "      <td>2</td>\n",
       "      <td>3.0</td>\n",
       "      <td>другой</td>\n",
       "      <td>False</td>\n",
       "      <td>False</td>\n",
       "      <td>False</td>\n",
       "      <td>32.0</td>\n",
       "      <td>0</td>\n",
       "      <td>NaN</td>\n",
       "      <td>NaN</td>\n",
       "      <td>NaN</td>\n",
       "      <td>NaN</td>\n",
       "      <td>NaN</td>\n",
       "      <td>NaN</td>\n",
       "      <td>2018-11-12</td>\n",
       "      <td>0</td>\n",
       "      <td>11</td>\n",
       "      <td>2018</td>\n",
       "      <td>NaN</td>\n",
       "    </tr>\n",
       "    <tr>\n",
       "      <th>3474</th>\n",
       "      <td>деревня Нурма</td>\n",
       "      <td>1</td>\n",
       "      <td>1400000</td>\n",
       "      <td>46666.67</td>\n",
       "      <td>30.0</td>\n",
       "      <td>15.3</td>\n",
       "      <td>7.3</td>\n",
       "      <td>3</td>\n",
       "      <td>2</td>\n",
       "      <td>5.0</td>\n",
       "      <td>другой</td>\n",
       "      <td>False</td>\n",
       "      <td>False</td>\n",
       "      <td>False</td>\n",
       "      <td>8.0</td>\n",
       "      <td>0</td>\n",
       "      <td>NaN</td>\n",
       "      <td>NaN</td>\n",
       "      <td>NaN</td>\n",
       "      <td>NaN</td>\n",
       "      <td>NaN</td>\n",
       "      <td>NaN</td>\n",
       "      <td>2018-03-16</td>\n",
       "      <td>4</td>\n",
       "      <td>3</td>\n",
       "      <td>2018</td>\n",
       "      <td>125.0</td>\n",
       "    </tr>\n",
       "    <tr>\n",
       "      <th>4643</th>\n",
       "      <td>Санкт-Петербург</td>\n",
       "      <td>2</td>\n",
       "      <td>4300000</td>\n",
       "      <td>95555.56</td>\n",
       "      <td>45.0</td>\n",
       "      <td>30.0</td>\n",
       "      <td>7.0</td>\n",
       "      <td>0</td>\n",
       "      <td>2</td>\n",
       "      <td>9.0</td>\n",
       "      <td>другой</td>\n",
       "      <td>False</td>\n",
       "      <td>False</td>\n",
       "      <td>False</td>\n",
       "      <td>25.0</td>\n",
       "      <td>1</td>\n",
       "      <td>13.0</td>\n",
       "      <td>12.0</td>\n",
       "      <td>1.0</td>\n",
       "      <td>658.0</td>\n",
       "      <td>1.0</td>\n",
       "      <td>331.0</td>\n",
       "      <td>2018-02-01</td>\n",
       "      <td>3</td>\n",
       "      <td>2</td>\n",
       "      <td>2018</td>\n",
       "      <td>181.0</td>\n",
       "    </tr>\n",
       "    <tr>\n",
       "      <th>5076</th>\n",
       "      <td>Санкт-Петербург</td>\n",
       "      <td>1</td>\n",
       "      <td>3850000</td>\n",
       "      <td>126229.51</td>\n",
       "      <td>30.5</td>\n",
       "      <td>19.5</td>\n",
       "      <td>5.5</td>\n",
       "      <td>0</td>\n",
       "      <td>1</td>\n",
       "      <td>5.0</td>\n",
       "      <td>первый</td>\n",
       "      <td>True</td>\n",
       "      <td>False</td>\n",
       "      <td>False</td>\n",
       "      <td>24.0</td>\n",
       "      <td>0</td>\n",
       "      <td>8.0</td>\n",
       "      <td>30.0</td>\n",
       "      <td>3.0</td>\n",
       "      <td>397.0</td>\n",
       "      <td>1.0</td>\n",
       "      <td>578.0</td>\n",
       "      <td>2018-10-03</td>\n",
       "      <td>2</td>\n",
       "      <td>10</td>\n",
       "      <td>2018</td>\n",
       "      <td>7.0</td>\n",
       "    </tr>\n",
       "    <tr>\n",
       "      <th>5246</th>\n",
       "      <td>деревня Мины</td>\n",
       "      <td>2</td>\n",
       "      <td>2500000</td>\n",
       "      <td>46296.30</td>\n",
       "      <td>54.0</td>\n",
       "      <td>30.0</td>\n",
       "      <td>9.0</td>\n",
       "      <td>0</td>\n",
       "      <td>3</td>\n",
       "      <td>5.0</td>\n",
       "      <td>другой</td>\n",
       "      <td>False</td>\n",
       "      <td>False</td>\n",
       "      <td>False</td>\n",
       "      <td>27.0</td>\n",
       "      <td>2</td>\n",
       "      <td>NaN</td>\n",
       "      <td>NaN</td>\n",
       "      <td>NaN</td>\n",
       "      <td>NaN</td>\n",
       "      <td>NaN</td>\n",
       "      <td>NaN</td>\n",
       "      <td>2017-10-13</td>\n",
       "      <td>4</td>\n",
       "      <td>10</td>\n",
       "      <td>2017</td>\n",
       "      <td>540.0</td>\n",
       "    </tr>\n",
       "    <tr>\n",
       "      <th>5669</th>\n",
       "      <td>Санкт-Петербург</td>\n",
       "      <td>2</td>\n",
       "      <td>4400000</td>\n",
       "      <td>88000.00</td>\n",
       "      <td>50.0</td>\n",
       "      <td>21.3</td>\n",
       "      <td>7.0</td>\n",
       "      <td>4</td>\n",
       "      <td>3</td>\n",
       "      <td>9.0</td>\n",
       "      <td>другой</td>\n",
       "      <td>False</td>\n",
       "      <td>False</td>\n",
       "      <td>False</td>\n",
       "      <td>26.0</td>\n",
       "      <td>2</td>\n",
       "      <td>11.0</td>\n",
       "      <td>29.0</td>\n",
       "      <td>1.0</td>\n",
       "      <td>305.0</td>\n",
       "      <td>0.0</td>\n",
       "      <td>NaN</td>\n",
       "      <td>2017-08-08</td>\n",
       "      <td>1</td>\n",
       "      <td>8</td>\n",
       "      <td>2017</td>\n",
       "      <td>267.0</td>\n",
       "    </tr>\n",
       "    <tr>\n",
       "      <th>5807</th>\n",
       "      <td>Санкт-Петербург</td>\n",
       "      <td>2</td>\n",
       "      <td>8150000</td>\n",
       "      <td>101875.00</td>\n",
       "      <td>80.0</td>\n",
       "      <td>41.0</td>\n",
       "      <td>12.0</td>\n",
       "      <td>17</td>\n",
       "      <td>13</td>\n",
       "      <td>36.0</td>\n",
       "      <td>другой</td>\n",
       "      <td>False</td>\n",
       "      <td>False</td>\n",
       "      <td>False</td>\n",
       "      <td>27.0</td>\n",
       "      <td>5</td>\n",
       "      <td>20.0</td>\n",
       "      <td>19.0</td>\n",
       "      <td>0.0</td>\n",
       "      <td>NaN</td>\n",
       "      <td>3.0</td>\n",
       "      <td>80.0</td>\n",
       "      <td>2019-01-09</td>\n",
       "      <td>2</td>\n",
       "      <td>1</td>\n",
       "      <td>2019</td>\n",
       "      <td>38.0</td>\n",
       "    </tr>\n",
       "    <tr>\n",
       "      <th>5863</th>\n",
       "      <td>Санкт-Петербург</td>\n",
       "      <td>1</td>\n",
       "      <td>5650000</td>\n",
       "      <td>125555.56</td>\n",
       "      <td>45.0</td>\n",
       "      <td>19.3</td>\n",
       "      <td>8.3</td>\n",
       "      <td>20</td>\n",
       "      <td>14</td>\n",
       "      <td>16.0</td>\n",
       "      <td>другой</td>\n",
       "      <td>False</td>\n",
       "      <td>False</td>\n",
       "      <td>False</td>\n",
       "      <td>8.3</td>\n",
       "      <td>1</td>\n",
       "      <td>11.0</td>\n",
       "      <td>13.0</td>\n",
       "      <td>0.0</td>\n",
       "      <td>NaN</td>\n",
       "      <td>1.0</td>\n",
       "      <td>613.0</td>\n",
       "      <td>2018-08-15</td>\n",
       "      <td>2</td>\n",
       "      <td>8</td>\n",
       "      <td>2018</td>\n",
       "      <td>14.0</td>\n",
       "    </tr>\n",
       "    <tr>\n",
       "      <th>6246</th>\n",
       "      <td>Кронштадт</td>\n",
       "      <td>2</td>\n",
       "      <td>3300000</td>\n",
       "      <td>74324.32</td>\n",
       "      <td>44.4</td>\n",
       "      <td>31.3</td>\n",
       "      <td>5.7</td>\n",
       "      <td>6</td>\n",
       "      <td>5</td>\n",
       "      <td>5.0</td>\n",
       "      <td>последний</td>\n",
       "      <td>False</td>\n",
       "      <td>False</td>\n",
       "      <td>False</td>\n",
       "      <td>25.0</td>\n",
       "      <td>0</td>\n",
       "      <td>51.0</td>\n",
       "      <td>69.0</td>\n",
       "      <td>1.0</td>\n",
       "      <td>417.0</td>\n",
       "      <td>2.0</td>\n",
       "      <td>73.0</td>\n",
       "      <td>2019-03-25</td>\n",
       "      <td>0</td>\n",
       "      <td>3</td>\n",
       "      <td>2019</td>\n",
       "      <td>NaN</td>\n",
       "    </tr>\n",
       "    <tr>\n",
       "      <th>7578</th>\n",
       "      <td>Санкт-Петербург</td>\n",
       "      <td>3</td>\n",
       "      <td>38000000</td>\n",
       "      <td>265734.27</td>\n",
       "      <td>143.0</td>\n",
       "      <td>83.0</td>\n",
       "      <td>29.0</td>\n",
       "      <td>17</td>\n",
       "      <td>5</td>\n",
       "      <td>5.0</td>\n",
       "      <td>последний</td>\n",
       "      <td>False</td>\n",
       "      <td>False</td>\n",
       "      <td>False</td>\n",
       "      <td>5.5</td>\n",
       "      <td>1</td>\n",
       "      <td>6.0</td>\n",
       "      <td>26.0</td>\n",
       "      <td>3.0</td>\n",
       "      <td>479.0</td>\n",
       "      <td>0.0</td>\n",
       "      <td>NaN</td>\n",
       "      <td>2017-11-02</td>\n",
       "      <td>3</td>\n",
       "      <td>11</td>\n",
       "      <td>2017</td>\n",
       "      <td>NaN</td>\n",
       "    </tr>\n",
       "    <tr>\n",
       "      <th>9379</th>\n",
       "      <td>Санкт-Петербург</td>\n",
       "      <td>3</td>\n",
       "      <td>3950000</td>\n",
       "      <td>94047.62</td>\n",
       "      <td>42.0</td>\n",
       "      <td>30.0</td>\n",
       "      <td>5.2</td>\n",
       "      <td>5</td>\n",
       "      <td>2</td>\n",
       "      <td>5.0</td>\n",
       "      <td>другой</td>\n",
       "      <td>False</td>\n",
       "      <td>False</td>\n",
       "      <td>False</td>\n",
       "      <td>25.0</td>\n",
       "      <td>0</td>\n",
       "      <td>14.0</td>\n",
       "      <td>12.0</td>\n",
       "      <td>0.0</td>\n",
       "      <td>NaN</td>\n",
       "      <td>0.0</td>\n",
       "      <td>NaN</td>\n",
       "      <td>2017-03-26</td>\n",
       "      <td>6</td>\n",
       "      <td>3</td>\n",
       "      <td>2017</td>\n",
       "      <td>NaN</td>\n",
       "    </tr>\n",
       "    <tr>\n",
       "      <th>10773</th>\n",
       "      <td>поселок Мурино</td>\n",
       "      <td>2</td>\n",
       "      <td>3800000</td>\n",
       "      <td>65517.24</td>\n",
       "      <td>58.0</td>\n",
       "      <td>30.1</td>\n",
       "      <td>8.1</td>\n",
       "      <td>8</td>\n",
       "      <td>3</td>\n",
       "      <td>10.0</td>\n",
       "      <td>другой</td>\n",
       "      <td>False</td>\n",
       "      <td>False</td>\n",
       "      <td>False</td>\n",
       "      <td>27.0</td>\n",
       "      <td>2</td>\n",
       "      <td>NaN</td>\n",
       "      <td>NaN</td>\n",
       "      <td>NaN</td>\n",
       "      <td>NaN</td>\n",
       "      <td>NaN</td>\n",
       "      <td>NaN</td>\n",
       "      <td>2017-10-13</td>\n",
       "      <td>4</td>\n",
       "      <td>10</td>\n",
       "      <td>2017</td>\n",
       "      <td>71.0</td>\n",
       "    </tr>\n",
       "    <tr>\n",
       "      <th>11285</th>\n",
       "      <td>Луга</td>\n",
       "      <td>1</td>\n",
       "      <td>1950000</td>\n",
       "      <td>52702.70</td>\n",
       "      <td>37.0</td>\n",
       "      <td>17.0</td>\n",
       "      <td>9.0</td>\n",
       "      <td>0</td>\n",
       "      <td>4</td>\n",
       "      <td>5.0</td>\n",
       "      <td>другой</td>\n",
       "      <td>False</td>\n",
       "      <td>False</td>\n",
       "      <td>False</td>\n",
       "      <td>25.0</td>\n",
       "      <td>2</td>\n",
       "      <td>NaN</td>\n",
       "      <td>NaN</td>\n",
       "      <td>NaN</td>\n",
       "      <td>NaN</td>\n",
       "      <td>NaN</td>\n",
       "      <td>NaN</td>\n",
       "      <td>2019-03-20</td>\n",
       "      <td>2</td>\n",
       "      <td>3</td>\n",
       "      <td>2019</td>\n",
       "      <td>18.0</td>\n",
       "    </tr>\n",
       "    <tr>\n",
       "      <th>14382</th>\n",
       "      <td>поселок Новый Свет</td>\n",
       "      <td>1</td>\n",
       "      <td>1700000</td>\n",
       "      <td>48571.43</td>\n",
       "      <td>35.0</td>\n",
       "      <td>20.0</td>\n",
       "      <td>8.0</td>\n",
       "      <td>9</td>\n",
       "      <td>2</td>\n",
       "      <td>5.0</td>\n",
       "      <td>другой</td>\n",
       "      <td>False</td>\n",
       "      <td>False</td>\n",
       "      <td>False</td>\n",
       "      <td>25.0</td>\n",
       "      <td>1</td>\n",
       "      <td>NaN</td>\n",
       "      <td>NaN</td>\n",
       "      <td>NaN</td>\n",
       "      <td>NaN</td>\n",
       "      <td>NaN</td>\n",
       "      <td>NaN</td>\n",
       "      <td>2015-12-04</td>\n",
       "      <td>4</td>\n",
       "      <td>12</td>\n",
       "      <td>2015</td>\n",
       "      <td>206.0</td>\n",
       "    </tr>\n",
       "    <tr>\n",
       "      <th>15061</th>\n",
       "      <td>Санкт-Петербург</td>\n",
       "      <td>2</td>\n",
       "      <td>5600000</td>\n",
       "      <td>99290.78</td>\n",
       "      <td>56.4</td>\n",
       "      <td>32.4</td>\n",
       "      <td>9.1</td>\n",
       "      <td>19</td>\n",
       "      <td>5</td>\n",
       "      <td>14.0</td>\n",
       "      <td>другой</td>\n",
       "      <td>False</td>\n",
       "      <td>False</td>\n",
       "      <td>False</td>\n",
       "      <td>14.0</td>\n",
       "      <td>2</td>\n",
       "      <td>14.0</td>\n",
       "      <td>15.0</td>\n",
       "      <td>0.0</td>\n",
       "      <td>NaN</td>\n",
       "      <td>0.0</td>\n",
       "      <td>NaN</td>\n",
       "      <td>2018-05-11</td>\n",
       "      <td>4</td>\n",
       "      <td>5</td>\n",
       "      <td>2018</td>\n",
       "      <td>315.0</td>\n",
       "    </tr>\n",
       "    <tr>\n",
       "      <th>15743</th>\n",
       "      <td>Санкт-Петербург</td>\n",
       "      <td>3</td>\n",
       "      <td>5600000</td>\n",
       "      <td>83582.09</td>\n",
       "      <td>67.0</td>\n",
       "      <td>41.0</td>\n",
       "      <td>8.0</td>\n",
       "      <td>14</td>\n",
       "      <td>1</td>\n",
       "      <td>16.0</td>\n",
       "      <td>первый</td>\n",
       "      <td>False</td>\n",
       "      <td>False</td>\n",
       "      <td>False</td>\n",
       "      <td>8.0</td>\n",
       "      <td>0</td>\n",
       "      <td>11.0</td>\n",
       "      <td>33.0</td>\n",
       "      <td>1.0</td>\n",
       "      <td>723.0</td>\n",
       "      <td>0.0</td>\n",
       "      <td>NaN</td>\n",
       "      <td>2016-11-11</td>\n",
       "      <td>4</td>\n",
       "      <td>11</td>\n",
       "      <td>2016</td>\n",
       "      <td>474.0</td>\n",
       "    </tr>\n",
       "    <tr>\n",
       "      <th>17496</th>\n",
       "      <td>Санкт-Петербург</td>\n",
       "      <td>3</td>\n",
       "      <td>6700000</td>\n",
       "      <td>72120.56</td>\n",
       "      <td>92.9</td>\n",
       "      <td>53.2</td>\n",
       "      <td>12.0</td>\n",
       "      <td>15</td>\n",
       "      <td>14</td>\n",
       "      <td>17.0</td>\n",
       "      <td>другой</td>\n",
       "      <td>False</td>\n",
       "      <td>False</td>\n",
       "      <td>False</td>\n",
       "      <td>20.0</td>\n",
       "      <td>5</td>\n",
       "      <td>15.0</td>\n",
       "      <td>16.0</td>\n",
       "      <td>1.0</td>\n",
       "      <td>967.0</td>\n",
       "      <td>0.0</td>\n",
       "      <td>NaN</td>\n",
       "      <td>2019-02-19</td>\n",
       "      <td>1</td>\n",
       "      <td>2</td>\n",
       "      <td>2019</td>\n",
       "      <td>NaN</td>\n",
       "    </tr>\n",
       "    <tr>\n",
       "      <th>20264</th>\n",
       "      <td>Санкт-Петербург</td>\n",
       "      <td>4</td>\n",
       "      <td>119000000</td>\n",
       "      <td>634328.36</td>\n",
       "      <td>187.6</td>\n",
       "      <td>147.0</td>\n",
       "      <td>15.6</td>\n",
       "      <td>17</td>\n",
       "      <td>7</td>\n",
       "      <td>7.0</td>\n",
       "      <td>последний</td>\n",
       "      <td>False</td>\n",
       "      <td>False</td>\n",
       "      <td>False</td>\n",
       "      <td>6.0</td>\n",
       "      <td>0</td>\n",
       "      <td>6.0</td>\n",
       "      <td>27.0</td>\n",
       "      <td>3.0</td>\n",
       "      <td>484.0</td>\n",
       "      <td>1.0</td>\n",
       "      <td>305.0</td>\n",
       "      <td>2017-07-10</td>\n",
       "      <td>0</td>\n",
       "      <td>7</td>\n",
       "      <td>2017</td>\n",
       "      <td>259.0</td>\n",
       "    </tr>\n",
       "    <tr>\n",
       "      <th>20478</th>\n",
       "      <td>Санкт-Петербург</td>\n",
       "      <td>1</td>\n",
       "      <td>8000000</td>\n",
       "      <td>177777.78</td>\n",
       "      <td>45.0</td>\n",
       "      <td>22.0</td>\n",
       "      <td>10.0</td>\n",
       "      <td>11</td>\n",
       "      <td>2</td>\n",
       "      <td>4.0</td>\n",
       "      <td>другой</td>\n",
       "      <td>False</td>\n",
       "      <td>False</td>\n",
       "      <td>False</td>\n",
       "      <td>27.0</td>\n",
       "      <td>1</td>\n",
       "      <td>3.0</td>\n",
       "      <td>19.0</td>\n",
       "      <td>0.0</td>\n",
       "      <td>NaN</td>\n",
       "      <td>3.0</td>\n",
       "      <td>449.0</td>\n",
       "      <td>2017-07-18</td>\n",
       "      <td>1</td>\n",
       "      <td>7</td>\n",
       "      <td>2017</td>\n",
       "      <td>429.0</td>\n",
       "    </tr>\n",
       "    <tr>\n",
       "      <th>20507</th>\n",
       "      <td>Санкт-Петербург</td>\n",
       "      <td>2</td>\n",
       "      <td>5950000</td>\n",
       "      <td>99166.67</td>\n",
       "      <td>60.0</td>\n",
       "      <td>35.0</td>\n",
       "      <td>13.0</td>\n",
       "      <td>12</td>\n",
       "      <td>11</td>\n",
       "      <td>14.0</td>\n",
       "      <td>другой</td>\n",
       "      <td>False</td>\n",
       "      <td>False</td>\n",
       "      <td>False</td>\n",
       "      <td>22.6</td>\n",
       "      <td>1</td>\n",
       "      <td>13.0</td>\n",
       "      <td>27.0</td>\n",
       "      <td>0.0</td>\n",
       "      <td>NaN</td>\n",
       "      <td>0.0</td>\n",
       "      <td>NaN</td>\n",
       "      <td>2018-02-19</td>\n",
       "      <td>0</td>\n",
       "      <td>2</td>\n",
       "      <td>2018</td>\n",
       "      <td>40.0</td>\n",
       "    </tr>\n",
       "    <tr>\n",
       "      <th>22336</th>\n",
       "      <td>Санкт-Петербург</td>\n",
       "      <td>2</td>\n",
       "      <td>9999000</td>\n",
       "      <td>108214.29</td>\n",
       "      <td>92.4</td>\n",
       "      <td>55.5</td>\n",
       "      <td>16.5</td>\n",
       "      <td>19</td>\n",
       "      <td>5</td>\n",
       "      <td>6.0</td>\n",
       "      <td>другой</td>\n",
       "      <td>False</td>\n",
       "      <td>False</td>\n",
       "      <td>False</td>\n",
       "      <td>32.0</td>\n",
       "      <td>4</td>\n",
       "      <td>4.0</td>\n",
       "      <td>19.0</td>\n",
       "      <td>0.0</td>\n",
       "      <td>NaN</td>\n",
       "      <td>3.0</td>\n",
       "      <td>511.0</td>\n",
       "      <td>2019-04-05</td>\n",
       "      <td>4</td>\n",
       "      <td>4</td>\n",
       "      <td>2019</td>\n",
       "      <td>NaN</td>\n",
       "    </tr>\n",
       "    <tr>\n",
       "      <th>22938</th>\n",
       "      <td>деревня Нижняя</td>\n",
       "      <td>4</td>\n",
       "      <td>4000000</td>\n",
       "      <td>40816.33</td>\n",
       "      <td>98.0</td>\n",
       "      <td>73.0</td>\n",
       "      <td>9.0</td>\n",
       "      <td>14</td>\n",
       "      <td>2</td>\n",
       "      <td>2.0</td>\n",
       "      <td>последний</td>\n",
       "      <td>True</td>\n",
       "      <td>False</td>\n",
       "      <td>False</td>\n",
       "      <td>27.0</td>\n",
       "      <td>1</td>\n",
       "      <td>NaN</td>\n",
       "      <td>NaN</td>\n",
       "      <td>NaN</td>\n",
       "      <td>NaN</td>\n",
       "      <td>NaN</td>\n",
       "      <td>NaN</td>\n",
       "      <td>2018-03-15</td>\n",
       "      <td>3</td>\n",
       "      <td>3</td>\n",
       "      <td>2018</td>\n",
       "      <td>27.0</td>\n",
       "    </tr>\n",
       "  </tbody>\n",
       "</table>\n",
       "</div>"
      ],
      "text/plain": [
       "                 location  rooms  last_price  price_per_m2  total_area  \\\n",
       "464       Санкт-Петербург      6    66571000     237499.11       280.3   \n",
       "1026      Санкт-Петербург      5   155000000     500000.00       310.0   \n",
       "3148               Волхов      3     2900000      38666.67        75.0   \n",
       "3474        деревня Нурма      1     1400000      46666.67        30.0   \n",
       "4643      Санкт-Петербург      2     4300000      95555.56        45.0   \n",
       "5076      Санкт-Петербург      1     3850000     126229.51        30.5   \n",
       "5246         деревня Мины      2     2500000      46296.30        54.0   \n",
       "5669      Санкт-Петербург      2     4400000      88000.00        50.0   \n",
       "5807      Санкт-Петербург      2     8150000     101875.00        80.0   \n",
       "5863      Санкт-Петербург      1     5650000     125555.56        45.0   \n",
       "6246            Кронштадт      2     3300000      74324.32        44.4   \n",
       "7578      Санкт-Петербург      3    38000000     265734.27       143.0   \n",
       "9379      Санкт-Петербург      3     3950000      94047.62        42.0   \n",
       "10773      поселок Мурино      2     3800000      65517.24        58.0   \n",
       "11285                Луга      1     1950000      52702.70        37.0   \n",
       "14382  поселок Новый Свет      1     1700000      48571.43        35.0   \n",
       "15061     Санкт-Петербург      2     5600000      99290.78        56.4   \n",
       "15743     Санкт-Петербург      3     5600000      83582.09        67.0   \n",
       "17496     Санкт-Петербург      3     6700000      72120.56        92.9   \n",
       "20264     Санкт-Петербург      4   119000000     634328.36       187.6   \n",
       "20478     Санкт-Петербург      1     8000000     177777.78        45.0   \n",
       "20507     Санкт-Петербург      2     5950000      99166.67        60.0   \n",
       "22336     Санкт-Петербург      2     9999000     108214.29        92.4   \n",
       "22938      деревня Нижняя      4     4000000      40816.33        98.0   \n",
       "\n",
       "       living_area  kitchen_area  total_images  floor  floors_total  \\\n",
       "464          159.5          21.1            15      7           8.0   \n",
       "1026         190.0          63.0            20      3           3.0   \n",
       "3148          53.0           8.0            14      2           3.0   \n",
       "3474          15.3           7.3             3      2           5.0   \n",
       "4643          30.0           7.0             0      2           9.0   \n",
       "5076          19.5           5.5             0      1           5.0   \n",
       "5246          30.0           9.0             0      3           5.0   \n",
       "5669          21.3           7.0             4      3           9.0   \n",
       "5807          41.0          12.0            17     13          36.0   \n",
       "5863          19.3           8.3            20     14          16.0   \n",
       "6246          31.3           5.7             6      5           5.0   \n",
       "7578          83.0          29.0            17      5           5.0   \n",
       "9379          30.0           5.2             5      2           5.0   \n",
       "10773         30.1           8.1             8      3          10.0   \n",
       "11285         17.0           9.0             0      4           5.0   \n",
       "14382         20.0           8.0             9      2           5.0   \n",
       "15061         32.4           9.1            19      5          14.0   \n",
       "15743         41.0           8.0            14      1          16.0   \n",
       "17496         53.2          12.0            15     14          17.0   \n",
       "20264        147.0          15.6            17      7           7.0   \n",
       "20478         22.0          10.0            11      2           4.0   \n",
       "20507         35.0          13.0            12     11          14.0   \n",
       "22336         55.5          16.5            19      5           6.0   \n",
       "22938         73.0           9.0            14      2           2.0   \n",
       "\n",
       "      floor_type  apartment  studio  open_plan  ceiling_height  balcony  \\\n",
       "464       другой      False   False      False             5.2        0   \n",
       "1026   последний      False   False      False             5.3        2   \n",
       "3148      другой      False   False      False            32.0        0   \n",
       "3474      другой      False   False      False             8.0        0   \n",
       "4643      другой      False   False      False            25.0        1   \n",
       "5076      первый       True   False      False            24.0        0   \n",
       "5246      другой      False   False      False            27.0        2   \n",
       "5669      другой      False   False      False            26.0        2   \n",
       "5807      другой      False   False      False            27.0        5   \n",
       "5863      другой      False   False      False             8.3        1   \n",
       "6246   последний      False   False      False            25.0        0   \n",
       "7578   последний      False   False      False             5.5        1   \n",
       "9379      другой      False   False      False            25.0        0   \n",
       "10773     другой      False   False      False            27.0        2   \n",
       "11285     другой      False   False      False            25.0        2   \n",
       "14382     другой      False   False      False            25.0        1   \n",
       "15061     другой      False   False      False            14.0        2   \n",
       "15743     первый      False   False      False             8.0        0   \n",
       "17496     другой      False   False      False            20.0        5   \n",
       "20264  последний      False   False      False             6.0        0   \n",
       "20478     другой      False   False      False            27.0        1   \n",
       "20507     другой      False   False      False            22.6        1   \n",
       "22336     другой      False   False      False            32.0        4   \n",
       "22938  последний       True   False      False            27.0        1   \n",
       "\n",
       "       city_centers_nearest_km  airports_nearest_km  parks_around_3km  \\\n",
       "464                        7.0                 26.0               3.0   \n",
       "1026                       5.0                 25.0               0.0   \n",
       "3148                       NaN                  NaN               NaN   \n",
       "3474                       NaN                  NaN               NaN   \n",
       "4643                      13.0                 12.0               1.0   \n",
       "5076                       8.0                 30.0               3.0   \n",
       "5246                       NaN                  NaN               NaN   \n",
       "5669                      11.0                 29.0               1.0   \n",
       "5807                      20.0                 19.0               0.0   \n",
       "5863                      11.0                 13.0               0.0   \n",
       "6246                      51.0                 69.0               1.0   \n",
       "7578                       6.0                 26.0               3.0   \n",
       "9379                      14.0                 12.0               0.0   \n",
       "10773                      NaN                  NaN               NaN   \n",
       "11285                      NaN                  NaN               NaN   \n",
       "14382                      NaN                  NaN               NaN   \n",
       "15061                     14.0                 15.0               0.0   \n",
       "15743                     11.0                 33.0               1.0   \n",
       "17496                     15.0                 16.0               1.0   \n",
       "20264                      6.0                 27.0               3.0   \n",
       "20478                      3.0                 19.0               0.0   \n",
       "20507                     13.0                 27.0               0.0   \n",
       "22336                      4.0                 19.0               0.0   \n",
       "22938                      NaN                  NaN               NaN   \n",
       "\n",
       "       parks_nearest_m  ponds_around_3km  ponds_nearest_m  \\\n",
       "464              187.0               1.0            616.0   \n",
       "1026               NaN               1.0            603.0   \n",
       "3148               NaN               NaN              NaN   \n",
       "3474               NaN               NaN              NaN   \n",
       "4643             658.0               1.0            331.0   \n",
       "5076             397.0               1.0            578.0   \n",
       "5246               NaN               NaN              NaN   \n",
       "5669             305.0               0.0              NaN   \n",
       "5807               NaN               3.0             80.0   \n",
       "5863               NaN               1.0            613.0   \n",
       "6246             417.0               2.0             73.0   \n",
       "7578             479.0               0.0              NaN   \n",
       "9379               NaN               0.0              NaN   \n",
       "10773              NaN               NaN              NaN   \n",
       "11285              NaN               NaN              NaN   \n",
       "14382              NaN               NaN              NaN   \n",
       "15061              NaN               0.0              NaN   \n",
       "15743            723.0               0.0              NaN   \n",
       "17496            967.0               0.0              NaN   \n",
       "20264            484.0               1.0            305.0   \n",
       "20478              NaN               3.0            449.0   \n",
       "20507              NaN               0.0              NaN   \n",
       "22336              NaN               3.0            511.0   \n",
       "22938              NaN               NaN              NaN   \n",
       "\n",
       "      exposition_first_day  exposition_weekday  exposition_month  \\\n",
       "464             2015-06-11                   3                 6   \n",
       "1026            2018-10-12                   4                10   \n",
       "3148            2018-11-12                   0                11   \n",
       "3474            2018-03-16                   4                 3   \n",
       "4643            2018-02-01                   3                 2   \n",
       "5076            2018-10-03                   2                10   \n",
       "5246            2017-10-13                   4                10   \n",
       "5669            2017-08-08                   1                 8   \n",
       "5807            2019-01-09                   2                 1   \n",
       "5863            2018-08-15                   2                 8   \n",
       "6246            2019-03-25                   0                 3   \n",
       "7578            2017-11-02                   3                11   \n",
       "9379            2017-03-26                   6                 3   \n",
       "10773           2017-10-13                   4                10   \n",
       "11285           2019-03-20                   2                 3   \n",
       "14382           2015-12-04                   4                12   \n",
       "15061           2018-05-11                   4                 5   \n",
       "15743           2016-11-11                   4                11   \n",
       "17496           2019-02-19                   1                 2   \n",
       "20264           2017-07-10                   0                 7   \n",
       "20478           2017-07-18                   1                 7   \n",
       "20507           2018-02-19                   0                 2   \n",
       "22336           2019-04-05                   4                 4   \n",
       "22938           2018-03-15                   3                 3   \n",
       "\n",
       "       exposition_year  exposition_days  \n",
       "464               2015            578.0  \n",
       "1026              2018              NaN  \n",
       "3148              2018              NaN  \n",
       "3474              2018            125.0  \n",
       "4643              2018            181.0  \n",
       "5076              2018              7.0  \n",
       "5246              2017            540.0  \n",
       "5669              2017            267.0  \n",
       "5807              2019             38.0  \n",
       "5863              2018             14.0  \n",
       "6246              2019              NaN  \n",
       "7578              2017              NaN  \n",
       "9379              2017              NaN  \n",
       "10773             2017             71.0  \n",
       "11285             2019             18.0  \n",
       "14382             2015            206.0  \n",
       "15061             2018            315.0  \n",
       "15743             2016            474.0  \n",
       "17496             2019              NaN  \n",
       "20264             2017            259.0  \n",
       "20478             2017            429.0  \n",
       "20507             2018             40.0  \n",
       "22336             2019              NaN  \n",
       "22938             2018             27.0  "
      ]
     },
     "execution_count": 45,
     "metadata": {},
     "output_type": "execute_result"
    }
   ],
   "source": [
    "data[data['ceiling_height'] > 5] "
   ]
  },
  {
   "attachments": {},
   "cell_type": "markdown",
   "metadata": {},
   "source": [
    "**В высоту потолков от 6 до 14 метров поверить сложно, но таких строк в массиве всего пять, поэтому избавимся от них. А вот значения от 20 метров и выше выглядят аномальными, уменьшим их в десять раз:**"
   ]
  },
  {
   "cell_type": "code",
   "execution_count": 46,
   "metadata": {},
   "outputs": [
    {
     "data": {
      "text/html": [
       "<div>\n",
       "<style scoped>\n",
       "    .dataframe tbody tr th:only-of-type {\n",
       "        vertical-align: middle;\n",
       "    }\n",
       "\n",
       "    .dataframe tbody tr th {\n",
       "        vertical-align: top;\n",
       "    }\n",
       "\n",
       "    .dataframe thead th {\n",
       "        text-align: right;\n",
       "    }\n",
       "</style>\n",
       "<table border=\"1\" class=\"dataframe\">\n",
       "  <thead>\n",
       "    <tr style=\"text-align: right;\">\n",
       "      <th></th>\n",
       "      <th>location</th>\n",
       "      <th>rooms</th>\n",
       "      <th>last_price</th>\n",
       "      <th>price_per_m2</th>\n",
       "      <th>total_area</th>\n",
       "      <th>living_area</th>\n",
       "      <th>kitchen_area</th>\n",
       "      <th>total_images</th>\n",
       "      <th>floor</th>\n",
       "      <th>floors_total</th>\n",
       "      <th>floor_type</th>\n",
       "      <th>apartment</th>\n",
       "      <th>studio</th>\n",
       "      <th>open_plan</th>\n",
       "      <th>ceiling_height</th>\n",
       "      <th>balcony</th>\n",
       "      <th>city_centers_nearest_km</th>\n",
       "      <th>airports_nearest_km</th>\n",
       "      <th>parks_around_3km</th>\n",
       "      <th>parks_nearest_m</th>\n",
       "      <th>ponds_around_3km</th>\n",
       "      <th>ponds_nearest_m</th>\n",
       "      <th>exposition_first_day</th>\n",
       "      <th>exposition_weekday</th>\n",
       "      <th>exposition_month</th>\n",
       "      <th>exposition_year</th>\n",
       "      <th>exposition_days</th>\n",
       "    </tr>\n",
       "  </thead>\n",
       "  <tbody>\n",
       "    <tr>\n",
       "      <th>464</th>\n",
       "      <td>Санкт-Петербург</td>\n",
       "      <td>6</td>\n",
       "      <td>66571000</td>\n",
       "      <td>237499.11</td>\n",
       "      <td>280.3</td>\n",
       "      <td>159.5</td>\n",
       "      <td>21.1</td>\n",
       "      <td>15</td>\n",
       "      <td>7</td>\n",
       "      <td>8.0</td>\n",
       "      <td>другой</td>\n",
       "      <td>False</td>\n",
       "      <td>False</td>\n",
       "      <td>False</td>\n",
       "      <td>5.2</td>\n",
       "      <td>0</td>\n",
       "      <td>7.0</td>\n",
       "      <td>26.0</td>\n",
       "      <td>3.0</td>\n",
       "      <td>187.0</td>\n",
       "      <td>1.0</td>\n",
       "      <td>616.0</td>\n",
       "      <td>2015-06-11</td>\n",
       "      <td>3</td>\n",
       "      <td>6</td>\n",
       "      <td>2015</td>\n",
       "      <td>578.0</td>\n",
       "    </tr>\n",
       "    <tr>\n",
       "      <th>1026</th>\n",
       "      <td>Санкт-Петербург</td>\n",
       "      <td>5</td>\n",
       "      <td>155000000</td>\n",
       "      <td>500000.00</td>\n",
       "      <td>310.0</td>\n",
       "      <td>190.0</td>\n",
       "      <td>63.0</td>\n",
       "      <td>20</td>\n",
       "      <td>3</td>\n",
       "      <td>3.0</td>\n",
       "      <td>последний</td>\n",
       "      <td>False</td>\n",
       "      <td>False</td>\n",
       "      <td>False</td>\n",
       "      <td>5.3</td>\n",
       "      <td>2</td>\n",
       "      <td>5.0</td>\n",
       "      <td>25.0</td>\n",
       "      <td>0.0</td>\n",
       "      <td>NaN</td>\n",
       "      <td>1.0</td>\n",
       "      <td>603.0</td>\n",
       "      <td>2018-10-12</td>\n",
       "      <td>4</td>\n",
       "      <td>10</td>\n",
       "      <td>2018</td>\n",
       "      <td>NaN</td>\n",
       "    </tr>\n",
       "    <tr>\n",
       "      <th>7578</th>\n",
       "      <td>Санкт-Петербург</td>\n",
       "      <td>3</td>\n",
       "      <td>38000000</td>\n",
       "      <td>265734.27</td>\n",
       "      <td>143.0</td>\n",
       "      <td>83.0</td>\n",
       "      <td>29.0</td>\n",
       "      <td>17</td>\n",
       "      <td>5</td>\n",
       "      <td>5.0</td>\n",
       "      <td>последний</td>\n",
       "      <td>False</td>\n",
       "      <td>False</td>\n",
       "      <td>False</td>\n",
       "      <td>5.5</td>\n",
       "      <td>1</td>\n",
       "      <td>6.0</td>\n",
       "      <td>26.0</td>\n",
       "      <td>3.0</td>\n",
       "      <td>479.0</td>\n",
       "      <td>0.0</td>\n",
       "      <td>NaN</td>\n",
       "      <td>2017-11-02</td>\n",
       "      <td>3</td>\n",
       "      <td>11</td>\n",
       "      <td>2017</td>\n",
       "      <td>NaN</td>\n",
       "    </tr>\n",
       "  </tbody>\n",
       "</table>\n",
       "</div>"
      ],
      "text/plain": [
       "             location  rooms  last_price  price_per_m2  total_area  \\\n",
       "464   Санкт-Петербург      6    66571000     237499.11       280.3   \n",
       "1026  Санкт-Петербург      5   155000000     500000.00       310.0   \n",
       "7578  Санкт-Петербург      3    38000000     265734.27       143.0   \n",
       "\n",
       "      living_area  kitchen_area  total_images  floor  floors_total floor_type  \\\n",
       "464         159.5          21.1            15      7           8.0     другой   \n",
       "1026        190.0          63.0            20      3           3.0  последний   \n",
       "7578         83.0          29.0            17      5           5.0  последний   \n",
       "\n",
       "      apartment  studio  open_plan  ceiling_height  balcony  \\\n",
       "464       False   False      False             5.2        0   \n",
       "1026      False   False      False             5.3        2   \n",
       "7578      False   False      False             5.5        1   \n",
       "\n",
       "      city_centers_nearest_km  airports_nearest_km  parks_around_3km  \\\n",
       "464                       7.0                 26.0               3.0   \n",
       "1026                      5.0                 25.0               0.0   \n",
       "7578                      6.0                 26.0               3.0   \n",
       "\n",
       "      parks_nearest_m  ponds_around_3km  ponds_nearest_m exposition_first_day  \\\n",
       "464             187.0               1.0            616.0           2015-06-11   \n",
       "1026              NaN               1.0            603.0           2018-10-12   \n",
       "7578            479.0               0.0              NaN           2017-11-02   \n",
       "\n",
       "      exposition_weekday  exposition_month  exposition_year  exposition_days  \n",
       "464                    3                 6             2015            578.0  \n",
       "1026                   4                10             2018              NaN  \n",
       "7578                   3                11             2017              NaN  "
      ]
     },
     "execution_count": 46,
     "metadata": {},
     "output_type": "execute_result"
    }
   ],
   "source": [
    "# Удаляем строки с потолками от 6 до 14 метров:\n",
    "data = data[(data['ceiling_height'] != 6) & (data['ceiling_height'] != 8) & (data['ceiling_height'] != 8.3) & (data['ceiling_height'] != 14)]\n",
    "# Уменьшаем в 10 раз значения высоты от 20 метров и больше:\n",
    "data.loc[data['ceiling_height'] >= 20, ['ceiling_height']] *= 0.1 \n",
    "# Проверяем корректность внесённых изменений:\n",
    "data[data['ceiling_height'] > 5] "
   ]
  },
  {
   "attachments": {},
   "cell_type": "markdown",
   "metadata": {},
   "source": [
    "**Теперь посмотрим на значения меньше двух метров:**"
   ]
  },
  {
   "cell_type": "code",
   "execution_count": 47,
   "metadata": {},
   "outputs": [
    {
     "data": {
      "text/html": [
       "<div>\n",
       "<style scoped>\n",
       "    .dataframe tbody tr th:only-of-type {\n",
       "        vertical-align: middle;\n",
       "    }\n",
       "\n",
       "    .dataframe tbody tr th {\n",
       "        vertical-align: top;\n",
       "    }\n",
       "\n",
       "    .dataframe thead th {\n",
       "        text-align: right;\n",
       "    }\n",
       "</style>\n",
       "<table border=\"1\" class=\"dataframe\">\n",
       "  <thead>\n",
       "    <tr style=\"text-align: right;\">\n",
       "      <th></th>\n",
       "      <th>location</th>\n",
       "      <th>rooms</th>\n",
       "      <th>last_price</th>\n",
       "      <th>price_per_m2</th>\n",
       "      <th>total_area</th>\n",
       "      <th>living_area</th>\n",
       "      <th>kitchen_area</th>\n",
       "      <th>total_images</th>\n",
       "      <th>floor</th>\n",
       "      <th>floors_total</th>\n",
       "      <th>floor_type</th>\n",
       "      <th>apartment</th>\n",
       "      <th>studio</th>\n",
       "      <th>open_plan</th>\n",
       "      <th>ceiling_height</th>\n",
       "      <th>balcony</th>\n",
       "      <th>city_centers_nearest_km</th>\n",
       "      <th>airports_nearest_km</th>\n",
       "      <th>parks_around_3km</th>\n",
       "      <th>parks_nearest_m</th>\n",
       "      <th>ponds_around_3km</th>\n",
       "      <th>ponds_nearest_m</th>\n",
       "      <th>exposition_first_day</th>\n",
       "      <th>exposition_weekday</th>\n",
       "      <th>exposition_month</th>\n",
       "      <th>exposition_year</th>\n",
       "      <th>exposition_days</th>\n",
       "    </tr>\n",
       "  </thead>\n",
       "  <tbody>\n",
       "    <tr>\n",
       "      <th>5712</th>\n",
       "      <td>поселок Мга</td>\n",
       "      <td>2</td>\n",
       "      <td>1500000</td>\n",
       "      <td>35046.73</td>\n",
       "      <td>42.8</td>\n",
       "      <td>27.5</td>\n",
       "      <td>5.20</td>\n",
       "      <td>5</td>\n",
       "      <td>1</td>\n",
       "      <td>2.0</td>\n",
       "      <td>первый</td>\n",
       "      <td>False</td>\n",
       "      <td>False</td>\n",
       "      <td>False</td>\n",
       "      <td>1.20</td>\n",
       "      <td>0</td>\n",
       "      <td>NaN</td>\n",
       "      <td>NaN</td>\n",
       "      <td>NaN</td>\n",
       "      <td>NaN</td>\n",
       "      <td>NaN</td>\n",
       "      <td>NaN</td>\n",
       "      <td>2017-08-14</td>\n",
       "      <td>0</td>\n",
       "      <td>8</td>\n",
       "      <td>2017</td>\n",
       "      <td>248.0</td>\n",
       "    </tr>\n",
       "    <tr>\n",
       "      <th>16934</th>\n",
       "      <td>Санкт-Петербург</td>\n",
       "      <td>1</td>\n",
       "      <td>4100000</td>\n",
       "      <td>102500.00</td>\n",
       "      <td>40.0</td>\n",
       "      <td>17.4</td>\n",
       "      <td>8.34</td>\n",
       "      <td>5</td>\n",
       "      <td>5</td>\n",
       "      <td>37.0</td>\n",
       "      <td>другой</td>\n",
       "      <td>False</td>\n",
       "      <td>False</td>\n",
       "      <td>False</td>\n",
       "      <td>1.75</td>\n",
       "      <td>0</td>\n",
       "      <td>20.0</td>\n",
       "      <td>19.0</td>\n",
       "      <td>0.0</td>\n",
       "      <td>NaN</td>\n",
       "      <td>3.0</td>\n",
       "      <td>80.0</td>\n",
       "      <td>2017-10-17</td>\n",
       "      <td>1</td>\n",
       "      <td>10</td>\n",
       "      <td>2017</td>\n",
       "      <td>71.0</td>\n",
       "    </tr>\n",
       "    <tr>\n",
       "      <th>22590</th>\n",
       "      <td>Санкт-Петербург</td>\n",
       "      <td>2</td>\n",
       "      <td>6000000</td>\n",
       "      <td>109090.91</td>\n",
       "      <td>55.0</td>\n",
       "      <td>32.4</td>\n",
       "      <td>10.00</td>\n",
       "      <td>16</td>\n",
       "      <td>7</td>\n",
       "      <td>12.0</td>\n",
       "      <td>другой</td>\n",
       "      <td>False</td>\n",
       "      <td>False</td>\n",
       "      <td>False</td>\n",
       "      <td>1.00</td>\n",
       "      <td>0</td>\n",
       "      <td>14.0</td>\n",
       "      <td>33.0</td>\n",
       "      <td>2.0</td>\n",
       "      <td>293.0</td>\n",
       "      <td>2.0</td>\n",
       "      <td>289.0</td>\n",
       "      <td>2018-10-31</td>\n",
       "      <td>2</td>\n",
       "      <td>10</td>\n",
       "      <td>2018</td>\n",
       "      <td>13.0</td>\n",
       "    </tr>\n",
       "  </tbody>\n",
       "</table>\n",
       "</div>"
      ],
      "text/plain": [
       "              location  rooms  last_price  price_per_m2  total_area  \\\n",
       "5712       поселок Мга      2     1500000      35046.73        42.8   \n",
       "16934  Санкт-Петербург      1     4100000     102500.00        40.0   \n",
       "22590  Санкт-Петербург      2     6000000     109090.91        55.0   \n",
       "\n",
       "       living_area  kitchen_area  total_images  floor  floors_total  \\\n",
       "5712          27.5          5.20             5      1           2.0   \n",
       "16934         17.4          8.34             5      5          37.0   \n",
       "22590         32.4         10.00            16      7          12.0   \n",
       "\n",
       "      floor_type  apartment  studio  open_plan  ceiling_height  balcony  \\\n",
       "5712      первый      False   False      False            1.20        0   \n",
       "16934     другой      False   False      False            1.75        0   \n",
       "22590     другой      False   False      False            1.00        0   \n",
       "\n",
       "       city_centers_nearest_km  airports_nearest_km  parks_around_3km  \\\n",
       "5712                       NaN                  NaN               NaN   \n",
       "16934                     20.0                 19.0               0.0   \n",
       "22590                     14.0                 33.0               2.0   \n",
       "\n",
       "       parks_nearest_m  ponds_around_3km  ponds_nearest_m  \\\n",
       "5712               NaN               NaN              NaN   \n",
       "16934              NaN               3.0             80.0   \n",
       "22590            293.0               2.0            289.0   \n",
       "\n",
       "      exposition_first_day  exposition_weekday  exposition_month  \\\n",
       "5712            2017-08-14                   0                 8   \n",
       "16934           2017-10-17                   1                10   \n",
       "22590           2018-10-31                   2                10   \n",
       "\n",
       "       exposition_year  exposition_days  \n",
       "5712              2017            248.0  \n",
       "16934             2017             71.0  \n",
       "22590             2018             13.0  "
      ]
     },
     "execution_count": 47,
     "metadata": {},
     "output_type": "execute_result"
    }
   ],
   "source": [
    "data[data['ceiling_height'] < 2] "
   ]
  },
  {
   "attachments": {},
   "cell_type": "markdown",
   "metadata": {},
   "source": [
    "**Таких строк всего 3, поэтому можем их удалить:**"
   ]
  },
  {
   "cell_type": "code",
   "execution_count": 48,
   "metadata": {},
   "outputs": [],
   "source": [
    "data = data[(data['ceiling_height'] != 1.00) & (data['ceiling_height'] != 1.20) & (data['ceiling_height'] != 1.75)]"
   ]
  },
  {
   "attachments": {},
   "cell_type": "markdown",
   "metadata": {},
   "source": [
    "**Наконец, заполним пропуски в данном столбце медианным значением:**"
   ]
  },
  {
   "cell_type": "code",
   "execution_count": 49,
   "metadata": {},
   "outputs": [
    {
     "data": {
      "text/plain": [
       "0"
      ]
     },
     "execution_count": 49,
     "metadata": {},
     "output_type": "execute_result"
    }
   ],
   "source": [
    "data['ceiling_height'] = data['ceiling_height'].fillna(data['ceiling_height'].median()) # Производим замену пропущенных значений\n",
    "data['ceiling_height'].isna().sum() # Проверяем, что количество пропусков стало равно нулю"
   ]
  },
  {
   "cell_type": "code",
   "execution_count": 50,
   "metadata": {},
   "outputs": [
    {
     "name": "stdout",
     "output_type": "stream",
     "text": [
      "Количество пропусков: 0\n",
      "Параметры: count    20806.00\n",
      "mean         2.70\n",
      "std          0.22\n",
      "min          2.00\n",
      "25%          2.60\n",
      "50%          2.65\n",
      "75%          2.70\n",
      "max          5.50\n",
      "Name: ceiling_height, dtype: float64\n"
     ]
    },
    {
     "data": {
      "image/png": "[encoded data removed]",
      "text/plain": [
       "<Figure size 720x360 with 1 Axes>"
      ]
     },
     "metadata": {
      "needs_background": "light"
     },
     "output_type": "display_data"
    }
   ],
   "source": [
    "describe_data(data, 'ceiling_height') # Ещё раз описываем основные параметры\n",
    "build_hist(data['ceiling_height'], 'Высота потолков', 'Распределение высоты потолков в квартирах') # Перестраиваем гистограмму"
   ]
  },
  {
   "attachments": {},
   "cell_type": "markdown",
   "metadata": {},
   "source": [
    "- Количество этажей"
   ]
  },
  {
   "cell_type": "code",
   "execution_count": 51,
   "metadata": {},
   "outputs": [
    {
     "name": "stdout",
     "output_type": "stream",
     "text": [
      "Количество пропусков: 38\n",
      "Параметры: count    20768.00\n",
      "mean        10.55\n",
      "std          6.51\n",
      "min          1.00\n",
      "25%          5.00\n",
      "50%          9.00\n",
      "75%         15.00\n",
      "max         60.00\n",
      "Name: floors_total, dtype: float64\n"
     ]
    },
    {
     "data": {
      "image/png": "[encoded data removed]",
      "text/plain": [
       "<Figure size 720x360 with 1 Axes>"
      ]
     },
     "metadata": {
      "needs_background": "light"
     },
     "output_type": "display_data"
    }
   ],
   "source": [
    "describe_data(data, 'floors_total')\n",
    "build_hist(data['floors_total'], 'Количество этажей', 'Распределение количества этажей в квартирах')"
   ]
  },
  {
   "cell_type": "code",
   "execution_count": 52,
   "metadata": {},
   "outputs": [
    {
     "data": {
      "text/html": [
       "<div>\n",
       "<style scoped>\n",
       "    .dataframe tbody tr th:only-of-type {\n",
       "        vertical-align: middle;\n",
       "    }\n",
       "\n",
       "    .dataframe tbody tr th {\n",
       "        vertical-align: top;\n",
       "    }\n",
       "\n",
       "    .dataframe thead th {\n",
       "        text-align: right;\n",
       "    }\n",
       "</style>\n",
       "<table border=\"1\" class=\"dataframe\">\n",
       "  <thead>\n",
       "    <tr style=\"text-align: right;\">\n",
       "      <th></th>\n",
       "      <th>location</th>\n",
       "      <th>rooms</th>\n",
       "      <th>last_price</th>\n",
       "      <th>price_per_m2</th>\n",
       "      <th>total_area</th>\n",
       "      <th>living_area</th>\n",
       "      <th>kitchen_area</th>\n",
       "      <th>total_images</th>\n",
       "      <th>floor</th>\n",
       "      <th>floors_total</th>\n",
       "      <th>floor_type</th>\n",
       "      <th>apartment</th>\n",
       "      <th>studio</th>\n",
       "      <th>open_plan</th>\n",
       "      <th>ceiling_height</th>\n",
       "      <th>balcony</th>\n",
       "      <th>city_centers_nearest_km</th>\n",
       "      <th>airports_nearest_km</th>\n",
       "      <th>parks_around_3km</th>\n",
       "      <th>parks_nearest_m</th>\n",
       "      <th>ponds_around_3km</th>\n",
       "      <th>ponds_nearest_m</th>\n",
       "      <th>exposition_first_day</th>\n",
       "      <th>exposition_weekday</th>\n",
       "      <th>exposition_month</th>\n",
       "      <th>exposition_year</th>\n",
       "      <th>exposition_days</th>\n",
       "    </tr>\n",
       "  </thead>\n",
       "  <tbody>\n",
       "    <tr>\n",
       "      <th>2253</th>\n",
       "      <td>Кронштадт</td>\n",
       "      <td>2</td>\n",
       "      <td>3800000</td>\n",
       "      <td>83516.48</td>\n",
       "      <td>45.5</td>\n",
       "      <td>27.4</td>\n",
       "      <td>7.4</td>\n",
       "      <td>12</td>\n",
       "      <td>4</td>\n",
       "      <td>60.0</td>\n",
       "      <td>другой</td>\n",
       "      <td>False</td>\n",
       "      <td>False</td>\n",
       "      <td>False</td>\n",
       "      <td>2.88</td>\n",
       "      <td>0</td>\n",
       "      <td>49.0</td>\n",
       "      <td>68.0</td>\n",
       "      <td>2.0</td>\n",
       "      <td>342.0</td>\n",
       "      <td>3.0</td>\n",
       "      <td>614.0</td>\n",
       "      <td>2018-06-28</td>\n",
       "      <td>3</td>\n",
       "      <td>6</td>\n",
       "      <td>2018</td>\n",
       "      <td>166.0</td>\n",
       "    </tr>\n",
       "    <tr>\n",
       "      <th>16731</th>\n",
       "      <td>Санкт-Петербург</td>\n",
       "      <td>1</td>\n",
       "      <td>3978000</td>\n",
       "      <td>99450.00</td>\n",
       "      <td>40.0</td>\n",
       "      <td>10.5</td>\n",
       "      <td>14.0</td>\n",
       "      <td>9</td>\n",
       "      <td>18</td>\n",
       "      <td>52.0</td>\n",
       "      <td>другой</td>\n",
       "      <td>False</td>\n",
       "      <td>False</td>\n",
       "      <td>False</td>\n",
       "      <td>2.65</td>\n",
       "      <td>0</td>\n",
       "      <td>13.0</td>\n",
       "      <td>21.0</td>\n",
       "      <td>1.0</td>\n",
       "      <td>793.0</td>\n",
       "      <td>0.0</td>\n",
       "      <td>NaN</td>\n",
       "      <td>2018-09-24</td>\n",
       "      <td>0</td>\n",
       "      <td>9</td>\n",
       "      <td>2018</td>\n",
       "      <td>45.0</td>\n",
       "    </tr>\n",
       "  </tbody>\n",
       "</table>\n",
       "</div>"
      ],
      "text/plain": [
       "              location  rooms  last_price  price_per_m2  total_area  \\\n",
       "2253         Кронштадт      2     3800000      83516.48        45.5   \n",
       "16731  Санкт-Петербург      1     3978000      99450.00        40.0   \n",
       "\n",
       "       living_area  kitchen_area  total_images  floor  floors_total  \\\n",
       "2253          27.4           7.4            12      4          60.0   \n",
       "16731         10.5          14.0             9     18          52.0   \n",
       "\n",
       "      floor_type  apartment  studio  open_plan  ceiling_height  balcony  \\\n",
       "2253      другой      False   False      False            2.88        0   \n",
       "16731     другой      False   False      False            2.65        0   \n",
       "\n",
       "       city_centers_nearest_km  airports_nearest_km  parks_around_3km  \\\n",
       "2253                      49.0                 68.0               2.0   \n",
       "16731                     13.0                 21.0               1.0   \n",
       "\n",
       "       parks_nearest_m  ponds_around_3km  ponds_nearest_m  \\\n",
       "2253             342.0               3.0            614.0   \n",
       "16731            793.0               0.0              NaN   \n",
       "\n",
       "      exposition_first_day  exposition_weekday  exposition_month  \\\n",
       "2253            2018-06-28                   3                 6   \n",
       "16731           2018-09-24                   0                 9   \n",
       "\n",
       "       exposition_year  exposition_days  \n",
       "2253              2018            166.0  \n",
       "16731             2018             45.0  "
      ]
     },
     "execution_count": 52,
     "metadata": {},
     "output_type": "execute_result"
    }
   ],
   "source": [
    "data[data['floors_total'] > 40] # Проверим количество объявлений с количеством этажей больше 40"
   ]
  },
  {
   "cell_type": "code",
   "execution_count": 53,
   "metadata": {},
   "outputs": [],
   "source": [
    "data = data[(data['floors_total'] != 52.0) & (data['floors_total'] != 60.0)] # Удаляем строки с аномальными значениями"
   ]
  },
  {
   "attachments": {},
   "cell_type": "markdown",
   "metadata": {},
   "source": [
    "- Расстояния до центра города и парка"
   ]
  },
  {
   "cell_type": "code",
   "execution_count": 54,
   "metadata": {},
   "outputs": [
    {
     "name": "stdout",
     "output_type": "stream",
     "text": [
      "Количество пропусков: 4597\n",
      "Параметры: count    16207.00\n",
      "mean        14.24\n",
      "std          8.67\n",
      "min          0.00\n",
      "25%          9.00\n",
      "50%         13.00\n",
      "75%         16.00\n",
      "max         66.00\n",
      "Name: city_centers_nearest_km, dtype: float64\n"
     ]
    },
    {
     "data": {
      "image/png": "[encoded data removed]",
      "text/plain": [
       "<Figure size 720x360 with 1 Axes>"
      ]
     },
     "metadata": {
      "needs_background": "light"
     },
     "output_type": "display_data"
    }
   ],
   "source": [
    "describe_data(data, 'city_centers_nearest_km')\n",
    "build_hist(data['city_centers_nearest_km'], 'Расстояние до центра города', 'Распределение расстояний до центра города')"
   ]
  },
  {
   "attachments": {},
   "cell_type": "markdown",
   "metadata": {},
   "source": [
    "**Максимальное и минимальное расстояния не выглядят какими-то аномальными, выбросов в данных также не наблюдается, поэтому оставим всё как есть.**"
   ]
  },
  {
   "cell_type": "code",
   "execution_count": 55,
   "metadata": {},
   "outputs": [
    {
     "name": "stdout",
     "output_type": "stream",
     "text": [
      "Количество пропусков: 13594\n",
      "Параметры: count    7210.00\n",
      "mean      488.25\n",
      "std       337.47\n",
      "min         1.00\n",
      "25%       288.00\n",
      "50%       454.00\n",
      "75%       611.00\n",
      "max      3190.00\n",
      "Name: parks_nearest_m, dtype: float64\n"
     ]
    },
    {
     "data": {
      "image/png": "[encoded data removed]",
      "text/plain": [
       "<Figure size 720x360 with 1 Axes>"
      ]
     },
     "metadata": {
      "needs_background": "light"
     },
     "output_type": "display_data"
    }
   ],
   "source": [
    "describe_data(data, 'parks_nearest_m')\n",
    "build_hist(data['parks_nearest_m'], 'Расстояние до ближайшего парка', 'Распределение расстояний до ближайших парков')"
   ]
  },
  {
   "attachments": {},
   "cell_type": "markdown",
   "metadata": {},
   "source": [
    "**Максимальное расстояние так же не выглядит каким-то особенным, а вот минимальное в 1 метр выглядит странно. Наиболее адекватным выглядит минимальное расстояние хотя бы в 10 метров, поэтому изучим строки, в которых это условие не выполняется:**"
   ]
  },
  {
   "cell_type": "code",
   "execution_count": 56,
   "metadata": {},
   "outputs": [
    {
     "data": {
      "text/html": [
       "<div>\n",
       "<style scoped>\n",
       "    .dataframe tbody tr th:only-of-type {\n",
       "        vertical-align: middle;\n",
       "    }\n",
       "\n",
       "    .dataframe tbody tr th {\n",
       "        vertical-align: top;\n",
       "    }\n",
       "\n",
       "    .dataframe thead th {\n",
       "        text-align: right;\n",
       "    }\n",
       "</style>\n",
       "<table border=\"1\" class=\"dataframe\">\n",
       "  <thead>\n",
       "    <tr style=\"text-align: right;\">\n",
       "      <th></th>\n",
       "      <th>location</th>\n",
       "      <th>rooms</th>\n",
       "      <th>last_price</th>\n",
       "      <th>price_per_m2</th>\n",
       "      <th>total_area</th>\n",
       "      <th>living_area</th>\n",
       "      <th>kitchen_area</th>\n",
       "      <th>total_images</th>\n",
       "      <th>floor</th>\n",
       "      <th>floors_total</th>\n",
       "      <th>floor_type</th>\n",
       "      <th>apartment</th>\n",
       "      <th>studio</th>\n",
       "      <th>open_plan</th>\n",
       "      <th>ceiling_height</th>\n",
       "      <th>balcony</th>\n",
       "      <th>city_centers_nearest_km</th>\n",
       "      <th>airports_nearest_km</th>\n",
       "      <th>parks_around_3km</th>\n",
       "      <th>parks_nearest_m</th>\n",
       "      <th>ponds_around_3km</th>\n",
       "      <th>ponds_nearest_m</th>\n",
       "      <th>exposition_first_day</th>\n",
       "      <th>exposition_weekday</th>\n",
       "      <th>exposition_month</th>\n",
       "      <th>exposition_year</th>\n",
       "      <th>exposition_days</th>\n",
       "    </tr>\n",
       "  </thead>\n",
       "  <tbody>\n",
       "    <tr>\n",
       "      <th>2527</th>\n",
       "      <td>Кронштадт</td>\n",
       "      <td>2</td>\n",
       "      <td>4690000</td>\n",
       "      <td>77777.78</td>\n",
       "      <td>60.3</td>\n",
       "      <td>28.00</td>\n",
       "      <td>7.9</td>\n",
       "      <td>8</td>\n",
       "      <td>2</td>\n",
       "      <td>5.0</td>\n",
       "      <td>другой</td>\n",
       "      <td>False</td>\n",
       "      <td>False</td>\n",
       "      <td>False</td>\n",
       "      <td>2.50</td>\n",
       "      <td>0</td>\n",
       "      <td>52.0</td>\n",
       "      <td>70.0</td>\n",
       "      <td>3.0</td>\n",
       "      <td>9.0</td>\n",
       "      <td>3.0</td>\n",
       "      <td>345.0</td>\n",
       "      <td>2016-03-05</td>\n",
       "      <td>5</td>\n",
       "      <td>3</td>\n",
       "      <td>2016</td>\n",
       "      <td>146.0</td>\n",
       "    </tr>\n",
       "    <tr>\n",
       "      <th>9344</th>\n",
       "      <td>Санкт-Петербург</td>\n",
       "      <td>1</td>\n",
       "      <td>3000000</td>\n",
       "      <td>106761.57</td>\n",
       "      <td>28.1</td>\n",
       "      <td>17.00</td>\n",
       "      <td>5.6</td>\n",
       "      <td>12</td>\n",
       "      <td>1</td>\n",
       "      <td>9.0</td>\n",
       "      <td>первый</td>\n",
       "      <td>False</td>\n",
       "      <td>False</td>\n",
       "      <td>False</td>\n",
       "      <td>2.50</td>\n",
       "      <td>0</td>\n",
       "      <td>12.0</td>\n",
       "      <td>12.0</td>\n",
       "      <td>1.0</td>\n",
       "      <td>7.0</td>\n",
       "      <td>1.0</td>\n",
       "      <td>780.0</td>\n",
       "      <td>2017-07-25</td>\n",
       "      <td>1</td>\n",
       "      <td>7</td>\n",
       "      <td>2017</td>\n",
       "      <td>440.0</td>\n",
       "    </tr>\n",
       "    <tr>\n",
       "      <th>11949</th>\n",
       "      <td>Санкт-Петербург</td>\n",
       "      <td>2</td>\n",
       "      <td>4500000</td>\n",
       "      <td>102272.73</td>\n",
       "      <td>44.0</td>\n",
       "      <td>30.00</td>\n",
       "      <td>7.0</td>\n",
       "      <td>7</td>\n",
       "      <td>7</td>\n",
       "      <td>9.0</td>\n",
       "      <td>другой</td>\n",
       "      <td>False</td>\n",
       "      <td>False</td>\n",
       "      <td>False</td>\n",
       "      <td>2.60</td>\n",
       "      <td>0</td>\n",
       "      <td>12.0</td>\n",
       "      <td>12.0</td>\n",
       "      <td>1.0</td>\n",
       "      <td>3.0</td>\n",
       "      <td>1.0</td>\n",
       "      <td>508.0</td>\n",
       "      <td>2017-11-24</td>\n",
       "      <td>4</td>\n",
       "      <td>11</td>\n",
       "      <td>2017</td>\n",
       "      <td>82.0</td>\n",
       "    </tr>\n",
       "    <tr>\n",
       "      <th>14624</th>\n",
       "      <td>Санкт-Петербург</td>\n",
       "      <td>2</td>\n",
       "      <td>3770000</td>\n",
       "      <td>83039.65</td>\n",
       "      <td>45.4</td>\n",
       "      <td>28.43</td>\n",
       "      <td>6.9</td>\n",
       "      <td>8</td>\n",
       "      <td>2</td>\n",
       "      <td>9.0</td>\n",
       "      <td>другой</td>\n",
       "      <td>False</td>\n",
       "      <td>False</td>\n",
       "      <td>False</td>\n",
       "      <td>2.65</td>\n",
       "      <td>0</td>\n",
       "      <td>16.0</td>\n",
       "      <td>44.0</td>\n",
       "      <td>1.0</td>\n",
       "      <td>1.0</td>\n",
       "      <td>0.0</td>\n",
       "      <td>NaN</td>\n",
       "      <td>2019-03-20</td>\n",
       "      <td>2</td>\n",
       "      <td>3</td>\n",
       "      <td>2019</td>\n",
       "      <td>42.0</td>\n",
       "    </tr>\n",
       "  </tbody>\n",
       "</table>\n",
       "</div>"
      ],
      "text/plain": [
       "              location  rooms  last_price  price_per_m2  total_area  \\\n",
       "2527         Кронштадт      2     4690000      77777.78        60.3   \n",
       "9344   Санкт-Петербург      1     3000000     106761.57        28.1   \n",
       "11949  Санкт-Петербург      2     4500000     102272.73        44.0   \n",
       "14624  Санкт-Петербург      2     3770000      83039.65        45.4   \n",
       "\n",
       "       living_area  kitchen_area  total_images  floor  floors_total  \\\n",
       "2527         28.00           7.9             8      2           5.0   \n",
       "9344         17.00           5.6            12      1           9.0   \n",
       "11949        30.00           7.0             7      7           9.0   \n",
       "14624        28.43           6.9             8      2           9.0   \n",
       "\n",
       "      floor_type  apartment  studio  open_plan  ceiling_height  balcony  \\\n",
       "2527      другой      False   False      False            2.50        0   \n",
       "9344      первый      False   False      False            2.50        0   \n",
       "11949     другой      False   False      False            2.60        0   \n",
       "14624     другой      False   False      False            2.65        0   \n",
       "\n",
       "       city_centers_nearest_km  airports_nearest_km  parks_around_3km  \\\n",
       "2527                      52.0                 70.0               3.0   \n",
       "9344                      12.0                 12.0               1.0   \n",
       "11949                     12.0                 12.0               1.0   \n",
       "14624                     16.0                 44.0               1.0   \n",
       "\n",
       "       parks_nearest_m  ponds_around_3km  ponds_nearest_m  \\\n",
       "2527               9.0               3.0            345.0   \n",
       "9344               7.0               1.0            780.0   \n",
       "11949              3.0               1.0            508.0   \n",
       "14624              1.0               0.0              NaN   \n",
       "\n",
       "      exposition_first_day  exposition_weekday  exposition_month  \\\n",
       "2527            2016-03-05                   5                 3   \n",
       "9344            2017-07-25                   1                 7   \n",
       "11949           2017-11-24                   4                11   \n",
       "14624           2019-03-20                   2                 3   \n",
       "\n",
       "       exposition_year  exposition_days  \n",
       "2527              2016            146.0  \n",
       "9344              2017            440.0  \n",
       "11949             2017             82.0  \n",
       "14624             2019             42.0  "
      ]
     },
     "execution_count": 56,
     "metadata": {},
     "output_type": "execute_result"
    }
   ],
   "source": [
    "data[data['parks_nearest_m'] < 10]"
   ]
  },
  {
   "attachments": {},
   "cell_type": "markdown",
   "metadata": {},
   "source": [
    "**Таких строк всего 4, однако удалять их только из-за данных значений не хочется. Заполним значения в исследуемом столбце расстоянием в 10 метров:**"
   ]
  },
  {
   "cell_type": "code",
   "execution_count": 57,
   "metadata": {},
   "outputs": [],
   "source": [
    "data.loc[data['parks_nearest_m'] < 10, ['parks_nearest_m']] = 10 "
   ]
  },
  {
   "attachments": {},
   "cell_type": "markdown",
   "metadata": {},
   "source": [
    "**4.2. Выбросы изучены и обработаны, а, значит, можно приступать к исследовательскому анализу. Сперва ответим на вопрос \"Как быстро продавались квартиры?\" и разберёмся с тем, какие продажи можно считать быстрыми, а какие — долгими. Для ответа на этот вопрос сперва ознакомимся более детально с данными и построим гистограмму:**"
   ]
  },
  {
   "cell_type": "code",
   "execution_count": 58,
   "metadata": {},
   "outputs": [
    {
     "name": "stdout",
     "output_type": "stream",
     "text": [
      "Количество пропусков: 2874\n",
      "Параметры: count    17930.00\n",
      "mean       185.80\n",
      "std        222.19\n",
      "min          1.00\n",
      "25%         45.00\n",
      "50%        102.00\n",
      "75%        239.00\n",
      "max       1580.00\n",
      "Name: exposition_days, dtype: float64\n"
     ]
    },
    {
     "data": {
      "image/png": "[encoded data removed]",
      "text/plain": [
       "<Figure size 720x360 with 1 Axes>"
      ]
     },
     "metadata": {
      "needs_background": "light"
     },
     "output_type": "display_data"
    }
   ],
   "source": [
    "describe_data(data, 'exposition_days')\n",
    "build_hist(data['exposition_days'], 'Продолжительность размещения объявления', 'Распределение продолжительностей размещения объявления')"
   ]
  },
  {
   "cell_type": "code",
   "execution_count": 59,
   "metadata": {},
   "outputs": [
    {
     "data": {
      "text/plain": [
       "102.0"
      ]
     },
     "execution_count": 59,
     "metadata": {},
     "output_type": "execute_result"
    }
   ],
   "source": [
    "data['exposition_days'].median()"
   ]
  },
  {
   "attachments": {},
   "cell_type": "markdown",
   "metadata": {},
   "source": [
    "**Попробуем оценить \"быстрые\" и \"долгие\" продажи при помощи диаграммы размаха: "
   ]
  },
  {
   "cell_type": "code",
   "execution_count": 60,
   "metadata": {},
   "outputs": [
    {
     "data": {
      "text/plain": [
       "<AxesSubplot:xlabel='exposition_days'>"
      ]
     },
     "execution_count": 60,
     "metadata": {},
     "output_type": "execute_result"
    },
    {
     "data": {
      "image/png": "[encoded data removed]",
      "text/plain": [
       "<Figure size 720x360 with 1 Axes>"
      ]
     },
     "metadata": {
      "needs_background": "light"
     },
     "output_type": "display_data"
    }
   ],
   "source": [
    "plt.figure(figsize=(10, 5))\n",
    "sb.boxplot(x='exposition_days', data=data) # Cтроим диаграмму размаха для оценки сверхбыстрых/-долгих продажи"
   ]
  },
  {
   "attachments": {},
   "cell_type": "markdown",
   "metadata": {},
   "source": [
    "**Согласно данной диаграмме к быстрым продажам мы можем отнести все объявления, время публикации которых не превышает 45 дней, а к долгим — продолжительностью более 239 дней (для красоты округлим до 240)**"
   ]
  },
  {
   "attachments": {},
   "cell_type": "markdown",
   "metadata": {},
   "source": [
    "**4.3. Определим влияние различных факторов на цену объекта. Для этого в первую очередь построим тепловую карту корреляции по столбцу *last_price*:**"
   ]
  },
  {
   "cell_type": "code",
   "execution_count": 63,
   "metadata": {},
   "outputs": [
    {
     "data": {
      "text/plain": [
       "Text(0.5, 1.0, 'Тепловая карта корреляции стоимости квартиры')"
      ]
     },
     "execution_count": 63,
     "metadata": {},
     "output_type": "execute_result"
    },
    {
     "data": {
      "image/png": "[encoded data removed]",
      "text/plain": [
       "<Figure size 720x576 with 2 Axes>"
      ]
     },
     "metadata": {
      "needs_background": "light"
     },
     "output_type": "display_data"
    }
   ],
   "source": [
    "plt.figure(figsize = (10, 8))\n",
    "sb.heatmap(data.corr()[['last_price']], annot=True, vmin=-1, vmax=1, cmap='coolwarm')\n",
    "plt.title('Тепловая карта корреляции стоимости квартиры')"
   ]
  },
  {
   "attachments": {},
   "cell_type": "markdown",
   "metadata": {},
   "source": [
    "**По данной визуализации хорошо видно, что наибольшее влияние на цену квартиры оказывают количество комнат и общая площадь квартиры (а также — связанные с ней жилая площадь и площадь кухни).**"
   ]
  },
  {
   "cell_type": "code",
   "execution_count": 76,
   "metadata": {},
   "outputs": [
    {
     "data": {
      "text/plain": [
       "<Figure size 1080x360 with 0 Axes>"
      ]
     },
     "metadata": {},
     "output_type": "display_data"
    },
    {
     "data": {
      "image/png": "[encoded data removed]",
      "text/plain": [
       "<Figure size 360x360 with 1 Axes>"
      ]
     },
     "metadata": {
      "needs_background": "light"
     },
     "output_type": "display_data"
    }
   ],
   "source": [
    "plt.figure(figsize = (15, 5))\n",
    "sb.relplot(x='last_price', y='total_area', data=data)\n",
    "plt.title('Влияние общей площади на стоимость квартиры')\n",
    "plt.xlabel('Общая площадь')\n",
    "plt.ylabel('Стоимость')\n",
    "plt.show()"
   ]
  },
  {
   "cell_type": "code",
   "execution_count": 75,
   "metadata": {},
   "outputs": [
    {
     "data": {
      "text/plain": [
       "<Figure size 1080x360 with 0 Axes>"
      ]
     },
     "metadata": {},
     "output_type": "display_data"
    },
    {
     "data": {
      "image/png": "[encoded data removed]",
      "text/plain": [
       "<Figure size 360x360 with 1 Axes>"
      ]
     },
     "metadata": {
      "needs_background": "light"
     },
     "output_type": "display_data"
    }
   ],
   "source": [
    "plt.figure(figsize = (15, 5))\n",
    "sb.relplot(x='last_price', y='living_area', data=data)\n",
    "plt.title('Влияние жилой площади на стоимость квартиры')\n",
    "plt.xlabel('Жилая площадь')\n",
    "plt.ylabel('Стоимость')\n",
    "plt.show()"
   ]
  },
  {
   "cell_type": "code",
   "execution_count": 77,
   "metadata": {},
   "outputs": [
    {
     "data": {
      "text/plain": [
       "<Figure size 1080x360 with 0 Axes>"
      ]
     },
     "metadata": {},
     "output_type": "display_data"
    },
    {
     "data": {
      "image/png": "[encoded data removed]",
      "text/plain": [
       "<Figure size 360x360 with 1 Axes>"
      ]
     },
     "metadata": {
      "needs_background": "light"
     },
     "output_type": "display_data"
    }
   ],
   "source": [
    "plt.figure(figsize = (15, 5))\n",
    "sb.relplot(x='last_price', y='kitchen_area', data=data)\n",
    "plt.title('Влияние площади кухни на стоимость квартиры')\n",
    "plt.xlabel('Площадь кухни')\n",
    "plt.ylabel('Стоимость')\n",
    "plt.show()"
   ]
  },
  {
   "cell_type": "code",
   "execution_count": 67,
   "metadata": {},
   "outputs": [
    {
     "data": {
      "image/png": "[encoded data removed]",
      "text/plain": [
       "<Figure size 1080x360 with 1 Axes>"
      ]
     },
     "metadata": {
      "needs_background": "light"
     },
     "output_type": "display_data"
    }
   ],
   "source": [
    "plt.figure(figsize = (15, 5))\n",
    "plt.bar(data['rooms'], data['last_price'])\n",
    "plt.title('Влияние количества комнат на стоимость квартиры')\n",
    "plt.xlabel('Количество комнат')\n",
    "plt.ylabel('Стоимость')\n",
    "plt.show()"
   ]
  },
  {
   "attachments": {},
   "cell_type": "markdown",
   "metadata": {},
   "source": [
    "**Какой-то очевидной зависимости стоимости квартиры от этажа по тепловой карте не просматривается, поэтому изучим медианные значения стоимости от типа этажа:**"
   ]
  },
  {
   "cell_type": "code",
   "execution_count": 68,
   "metadata": {},
   "outputs": [
    {
     "data": {
      "text/html": [
       "<div>\n",
       "<style scoped>\n",
       "    .dataframe tbody tr th:only-of-type {\n",
       "        vertical-align: middle;\n",
       "    }\n",
       "\n",
       "    .dataframe tbody tr th {\n",
       "        vertical-align: top;\n",
       "    }\n",
       "\n",
       "    .dataframe thead th {\n",
       "        text-align: right;\n",
       "    }\n",
       "</style>\n",
       "<table border=\"1\" class=\"dataframe\">\n",
       "  <thead>\n",
       "    <tr style=\"text-align: right;\">\n",
       "      <th></th>\n",
       "      <th>last_price</th>\n",
       "    </tr>\n",
       "    <tr>\n",
       "      <th>floor_type</th>\n",
       "      <th></th>\n",
       "    </tr>\n",
       "  </thead>\n",
       "  <tbody>\n",
       "    <tr>\n",
       "      <th>другой</th>\n",
       "      <td>4900000</td>\n",
       "    </tr>\n",
       "    <tr>\n",
       "      <th>первый</th>\n",
       "      <td>3950000</td>\n",
       "    </tr>\n",
       "    <tr>\n",
       "      <th>последний</th>\n",
       "      <td>4350000</td>\n",
       "    </tr>\n",
       "  </tbody>\n",
       "</table>\n",
       "</div>"
      ],
      "text/plain": [
       "            last_price\n",
       "floor_type            \n",
       "другой         4900000\n",
       "первый         3950000\n",
       "последний      4350000"
      ]
     },
     "execution_count": 68,
     "metadata": {},
     "output_type": "execute_result"
    }
   ],
   "source": [
    "data.pivot_table(index='floor_type', values='last_price', aggfunc='median')"
   ]
  },
  {
   "attachments": {},
   "cell_type": "markdown",
   "metadata": {},
   "source": [
    "**Можем заключить, что квартиры на первом этаже, как правило, дешевле других.**\n",
    "**Остаётся проверить зависимость стоимости от дня недели, месяца и года публикации объявления:**"
   ]
  },
  {
   "cell_type": "code",
   "execution_count": 69,
   "metadata": {},
   "outputs": [
    {
     "data": {
      "text/plain": [
       "Text(0, 0.5, 'Стоимость')"
      ]
     },
     "execution_count": 69,
     "metadata": {},
     "output_type": "execute_result"
    },
    {
     "data": {
      "image/png": "[encoded data removed]",
      "text/plain": [
       "<Figure size 432x288 with 1 Axes>"
      ]
     },
     "metadata": {
      "needs_background": "light"
     },
     "output_type": "display_data"
    }
   ],
   "source": [
    "data.pivot_table(index='exposition_weekday', values='last_price', aggfunc='mean').plot()\n",
    "plt.title('Зависимость стоимости квартиры от дня недели публикации')\n",
    "plt.xlabel('День недели публикации')\n",
    "plt.ylabel('Стоимость')"
   ]
  },
  {
   "cell_type": "code",
   "execution_count": 70,
   "metadata": {},
   "outputs": [
    {
     "data": {
      "text/plain": [
       "Text(0, 0.5, 'Стоимость')"
      ]
     },
     "execution_count": 70,
     "metadata": {},
     "output_type": "execute_result"
    },
    {
     "data": {
      "image/png": "[encoded data removed]",
      "text/plain": [
       "<Figure size 432x288 with 1 Axes>"
      ]
     },
     "metadata": {
      "needs_background": "light"
     },
     "output_type": "display_data"
    }
   ],
   "source": [
    "data.pivot_table(index='exposition_month', values='last_price', aggfunc='mean').plot()\n",
    "plt.title('Зависимость стоимости квартиры от месяца публикации')\n",
    "plt.xlabel('Месяц публикации')\n",
    "plt.ylabel('Стоимость')"
   ]
  },
  {
   "cell_type": "code",
   "execution_count": 71,
   "metadata": {},
   "outputs": [
    {
     "data": {
      "text/plain": [
       "Text(0, 0.5, 'Стоимость')"
      ]
     },
     "execution_count": 71,
     "metadata": {},
     "output_type": "execute_result"
    },
    {
     "data": {
      "image/png": "[encoded data removed]",
      "text/plain": [
       "<Figure size 432x288 with 1 Axes>"
      ]
     },
     "metadata": {
      "needs_background": "light"
     },
     "output_type": "display_data"
    }
   ],
   "source": [
    "data.pivot_table(index='exposition_year', values='last_price', aggfunc='mean').plot()\n",
    "plt.title('Зависимость стоимости квартиры от года публикации')\n",
    "plt.xlabel('Год публикации')\n",
    "plt.ylabel('Стоимость')"
   ]
  },
  {
   "attachments": {},
   "cell_type": "markdown",
   "metadata": {},
   "source": [
    "**Вывод:**\n",
    "- Наибольшее влияние на стоимость квартиры оказывают такие параметры как количество комнат и её общая площадь (а также связанные с ней жилая и кухонная площади). Зависимость условно близка к линейной, так что можно сказать, что чем больше площадь/количество комнат — тем выше стоимость квартиры.\n",
    "- Корреляция с этажом менее явная, однако можно заключить, что квартиры на первом этаже, как правило, дешевле других.\n",
    "- Стоимость квартир снижалась в период с 2014 по 2018 год, после чего начала расти.\n",
    "- На протяжении года наблюдается постепенное снижение цены в летне-осеннем периоде, после чего происходит значительный рост ближе к декабрю.\n",
    "- Сложно заметить какую-то однозначную корреляцию с днями недели, но можно сказать, что в среднем стоимость объявлений, размещённых в начале недели, была выше, чем стоимость объявлений, размещённых ближе к выходным."
   ]
  },
  {
   "attachments": {},
   "cell_type": "markdown",
   "metadata": {},
   "source": [
    "**4.4. Изучим топ-10 населённых пунктов по числу объявлений:**"
   ]
  },
  {
   "cell_type": "code",
   "execution_count": 72,
   "metadata": {},
   "outputs": [
    {
     "data": {
      "text/html": [
       "<div>\n",
       "<style scoped>\n",
       "    .dataframe tbody tr th:only-of-type {\n",
       "        vertical-align: middle;\n",
       "    }\n",
       "\n",
       "    .dataframe tbody tr th {\n",
       "        vertical-align: top;\n",
       "    }\n",
       "\n",
       "    .dataframe thead th {\n",
       "        text-align: right;\n",
       "    }\n",
       "</style>\n",
       "<table border=\"1\" class=\"dataframe\">\n",
       "  <thead>\n",
       "    <tr style=\"text-align: right;\">\n",
       "      <th></th>\n",
       "      <th>price_per_m2</th>\n",
       "      <th>location</th>\n",
       "    </tr>\n",
       "  </thead>\n",
       "  <tbody>\n",
       "    <tr>\n",
       "      <th>Санкт-Петербург</th>\n",
       "      <td>113746.061378</td>\n",
       "      <td>13989</td>\n",
       "    </tr>\n",
       "    <tr>\n",
       "      <th>Пушкин</th>\n",
       "      <td>103291.299110</td>\n",
       "      <td>337</td>\n",
       "    </tr>\n",
       "    <tr>\n",
       "      <th>деревня Кудрово</th>\n",
       "      <td>92143.850446</td>\n",
       "      <td>224</td>\n",
       "    </tr>\n",
       "    <tr>\n",
       "      <th>поселок Парголово</th>\n",
       "      <td>90711.636934</td>\n",
       "      <td>287</td>\n",
       "    </tr>\n",
       "    <tr>\n",
       "      <th>поселок Мурино</th>\n",
       "      <td>85153.350353</td>\n",
       "      <td>425</td>\n",
       "    </tr>\n",
       "    <tr>\n",
       "      <th>поселок Шушары</th>\n",
       "      <td>78530.275204</td>\n",
       "      <td>392</td>\n",
       "    </tr>\n",
       "    <tr>\n",
       "      <th>Колпино</th>\n",
       "      <td>75284.436729</td>\n",
       "      <td>321</td>\n",
       "    </tr>\n",
       "    <tr>\n",
       "      <th>Всеволожск</th>\n",
       "      <td>68921.351652</td>\n",
       "      <td>351</td>\n",
       "    </tr>\n",
       "    <tr>\n",
       "      <th>Гатчина</th>\n",
       "      <td>68505.876783</td>\n",
       "      <td>286</td>\n",
       "    </tr>\n",
       "    <tr>\n",
       "      <th>Выборг</th>\n",
       "      <td>58507.031862</td>\n",
       "      <td>188</td>\n",
       "    </tr>\n",
       "  </tbody>\n",
       "</table>\n",
       "</div>"
      ],
      "text/plain": [
       "                    price_per_m2  location\n",
       "Санкт-Петербург    113746.061378     13989\n",
       "Пушкин             103291.299110       337\n",
       "деревня Кудрово     92143.850446       224\n",
       "поселок Парголово   90711.636934       287\n",
       "поселок Мурино      85153.350353       425\n",
       "поселок Шушары      78530.275204       392\n",
       "Колпино             75284.436729       321\n",
       "Всеволожск          68921.351652       351\n",
       "Гатчина             68505.876783       286\n",
       "Выборг              58507.031862       188"
      ]
     },
     "execution_count": 72,
     "metadata": {},
     "output_type": "execute_result"
    }
   ],
   "source": [
    "top_location = data['location'].value_counts().head(10)\n",
    "location_price = data.pivot_table(index='location', values='price_per_m2')\n",
    "top_10 = location_price.merge(top_location,  how='right', left_index=True, right_index=True)\n",
    "top_10.sort_values(by='price_per_m2', ascending=False)"
   ]
  },
  {
   "attachments": {},
   "cell_type": "markdown",
   "metadata": {},
   "source": [
    "**Ожидаемо, самая высокая стоимость квадратного метра оказалась в Санкт-Петербурге — порядка 114 тысяч за квадратный метр. Самая низкая — в Выборге: 58,5 тысяч.**"
   ]
  },
  {
   "attachments": {},
   "cell_type": "markdown",
   "metadata": {},
   "source": [
    "**4.5. На примере Санкт-Петербурга найдём влияние удалённости от центра города на цену квартиры.**"
   ]
  },
  {
   "cell_type": "code",
   "execution_count": 73,
   "metadata": {
    "scrolled": true
   },
   "outputs": [
    {
     "data": {
      "text/html": [
       "<div>\n",
       "<style scoped>\n",
       "    .dataframe tbody tr th:only-of-type {\n",
       "        vertical-align: middle;\n",
       "    }\n",
       "\n",
       "    .dataframe tbody tr th {\n",
       "        vertical-align: top;\n",
       "    }\n",
       "\n",
       "    .dataframe thead th {\n",
       "        text-align: right;\n",
       "    }\n",
       "</style>\n",
       "<table border=\"1\" class=\"dataframe\">\n",
       "  <thead>\n",
       "    <tr style=\"text-align: right;\">\n",
       "      <th></th>\n",
       "      <th>last_price</th>\n",
       "    </tr>\n",
       "    <tr>\n",
       "      <th>city_centers_nearest_km</th>\n",
       "      <th></th>\n",
       "    </tr>\n",
       "  </thead>\n",
       "  <tbody>\n",
       "    <tr>\n",
       "      <th>0.0</th>\n",
       "      <td>3.257505e+07</td>\n",
       "    </tr>\n",
       "    <tr>\n",
       "      <th>1.0</th>\n",
       "      <td>2.152436e+07</td>\n",
       "    </tr>\n",
       "    <tr>\n",
       "      <th>2.0</th>\n",
       "      <td>1.824780e+07</td>\n",
       "    </tr>\n",
       "    <tr>\n",
       "      <th>3.0</th>\n",
       "      <td>1.104289e+07</td>\n",
       "    </tr>\n",
       "    <tr>\n",
       "      <th>4.0</th>\n",
       "      <td>1.191799e+07</td>\n",
       "    </tr>\n",
       "    <tr>\n",
       "      <th>5.0</th>\n",
       "      <td>1.380375e+07</td>\n",
       "    </tr>\n",
       "    <tr>\n",
       "      <th>6.0</th>\n",
       "      <td>1.471035e+07</td>\n",
       "    </tr>\n",
       "    <tr>\n",
       "      <th>7.0</th>\n",
       "      <td>1.452388e+07</td>\n",
       "    </tr>\n",
       "    <tr>\n",
       "      <th>8.0</th>\n",
       "      <td>1.028228e+07</td>\n",
       "    </tr>\n",
       "    <tr>\n",
       "      <th>9.0</th>\n",
       "      <td>6.994387e+06</td>\n",
       "    </tr>\n",
       "    <tr>\n",
       "      <th>10.0</th>\n",
       "      <td>6.397624e+06</td>\n",
       "    </tr>\n",
       "    <tr>\n",
       "      <th>11.0</th>\n",
       "      <td>6.187423e+06</td>\n",
       "    </tr>\n",
       "    <tr>\n",
       "      <th>12.0</th>\n",
       "      <td>5.893506e+06</td>\n",
       "    </tr>\n",
       "    <tr>\n",
       "      <th>13.0</th>\n",
       "      <td>6.086849e+06</td>\n",
       "    </tr>\n",
       "    <tr>\n",
       "      <th>14.0</th>\n",
       "      <td>5.606553e+06</td>\n",
       "    </tr>\n",
       "    <tr>\n",
       "      <th>15.0</th>\n",
       "      <td>5.909091e+06</td>\n",
       "    </tr>\n",
       "    <tr>\n",
       "      <th>16.0</th>\n",
       "      <td>5.355934e+06</td>\n",
       "    </tr>\n",
       "    <tr>\n",
       "      <th>17.0</th>\n",
       "      <td>5.338621e+06</td>\n",
       "    </tr>\n",
       "    <tr>\n",
       "      <th>18.0</th>\n",
       "      <td>5.194031e+06</td>\n",
       "    </tr>\n",
       "    <tr>\n",
       "      <th>19.0</th>\n",
       "      <td>5.112214e+06</td>\n",
       "    </tr>\n",
       "    <tr>\n",
       "      <th>20.0</th>\n",
       "      <td>6.175722e+06</td>\n",
       "    </tr>\n",
       "    <tr>\n",
       "      <th>21.0</th>\n",
       "      <td>5.168072e+06</td>\n",
       "    </tr>\n",
       "    <tr>\n",
       "      <th>22.0</th>\n",
       "      <td>5.249723e+06</td>\n",
       "    </tr>\n",
       "    <tr>\n",
       "      <th>23.0</th>\n",
       "      <td>5.041707e+06</td>\n",
       "    </tr>\n",
       "    <tr>\n",
       "      <th>24.0</th>\n",
       "      <td>3.913091e+06</td>\n",
       "    </tr>\n",
       "    <tr>\n",
       "      <th>25.0</th>\n",
       "      <td>4.200000e+06</td>\n",
       "    </tr>\n",
       "    <tr>\n",
       "      <th>26.0</th>\n",
       "      <td>4.021500e+06</td>\n",
       "    </tr>\n",
       "    <tr>\n",
       "      <th>27.0</th>\n",
       "      <td>8.300000e+06</td>\n",
       "    </tr>\n",
       "    <tr>\n",
       "      <th>28.0</th>\n",
       "      <td>5.026429e+06</td>\n",
       "    </tr>\n",
       "    <tr>\n",
       "      <th>29.0</th>\n",
       "      <td>4.594000e+06</td>\n",
       "    </tr>\n",
       "  </tbody>\n",
       "</table>\n",
       "</div>"
      ],
      "text/plain": [
       "                           last_price\n",
       "city_centers_nearest_km              \n",
       "0.0                      3.257505e+07\n",
       "1.0                      2.152436e+07\n",
       "2.0                      1.824780e+07\n",
       "3.0                      1.104289e+07\n",
       "4.0                      1.191799e+07\n",
       "5.0                      1.380375e+07\n",
       "6.0                      1.471035e+07\n",
       "7.0                      1.452388e+07\n",
       "8.0                      1.028228e+07\n",
       "9.0                      6.994387e+06\n",
       "10.0                     6.397624e+06\n",
       "11.0                     6.187423e+06\n",
       "12.0                     5.893506e+06\n",
       "13.0                     6.086849e+06\n",
       "14.0                     5.606553e+06\n",
       "15.0                     5.909091e+06\n",
       "16.0                     5.355934e+06\n",
       "17.0                     5.338621e+06\n",
       "18.0                     5.194031e+06\n",
       "19.0                     5.112214e+06\n",
       "20.0                     6.175722e+06\n",
       "21.0                     5.168072e+06\n",
       "22.0                     5.249723e+06\n",
       "23.0                     5.041707e+06\n",
       "24.0                     3.913091e+06\n",
       "25.0                     4.200000e+06\n",
       "26.0                     4.021500e+06\n",
       "27.0                     8.300000e+06\n",
       "28.0                     5.026429e+06\n",
       "29.0                     4.594000e+06"
      ]
     },
     "execution_count": 73,
     "metadata": {},
     "output_type": "execute_result"
    }
   ],
   "source": [
    "spb_data = (data[data['location'] == 'Санкт-Петербург'] #Создаём сводную таблицу зависимости цены от расстояния\n",
    "                .pivot_table(index='city_centers_nearest_km', values='last_price', aggfunc='mean')) # до центра города\n",
    "spb_data"
   ]
  },
  {
   "cell_type": "code",
   "execution_count": 74,
   "metadata": {},
   "outputs": [
    {
     "data": {
      "text/plain": [
       "Text(0, 0.5, 'Стоимость')"
      ]
     },
     "execution_count": 74,
     "metadata": {},
     "output_type": "execute_result"
    },
    {
     "data": {
      "image/png": "[encoded data removed]",
      "text/plain": [
       "<Figure size 720x504 with 1 Axes>"
      ]
     },
     "metadata": {
      "needs_background": "light"
     },
     "output_type": "display_data"
    }
   ],
   "source": [
    "spb_data.plot(figsize=(10,7), grid=True) # Строим график по сводной таблице\n",
    "plt.title('Влияние удалённости от центра города на стоимость квартиры')\n",
    "plt.xlabel('Удалённость от центра')\n",
    "plt.ylabel('Стоимость')"
   ]
  },
  {
   "attachments": {},
   "cell_type": "markdown",
   "metadata": {},
   "source": [
    "**За вычетом отдельных скачков на графике однозначно просматривается тенденция к уменьшению цены за квадратный метр при удалении от центра.**"
   ]
  },
  {
   "attachments": {},
   "cell_type": "markdown",
   "metadata": {
    "id": "h7VpzkIDAwb-"
   },
   "source": [
    "### Общий вывод"
   ]
  },
  {
   "attachments": {},
   "cell_type": "markdown",
   "metadata": {
    "id": "3H4lnp_KAwb-"
   },
   "source": [
    "**Основной целью данного анализа было изучение влияния различных параметров на стоимость квартир, опубликованных в сервисе Яндекс.Недвижимость. Ключевые выводы, полученные в результате данного анализа:**\n",
    "- Наибольшее влияние на цену квартиры оказывают такие параметры как количество комнат и её общая площадь (и связанные с ней кухонная и жилая площади). Зависимость условно близка к линейной, так что можно сказать, что чем больше площадь/количество комнат — тем выше стоимость квартиры.\n",
    "- Также немаловажна удалённость квартиры от центра. На примере Санкт-Петербурга выяснили, что средняя цена на квартиру уменьшается с удалением от центра города.\n",
    "- В период с 2014 по 2018 год стоимость квартир падала. После — стала расти.\n",
    "- На протяжении года наблюдается постепенное снижение цены в летне-осеннем периоде, после чего происходит значительный рост ближе к декабрю.\n",
    "- В среднем, стоимость объявлений, размещённых в начале недели, была выше, чем стоимость объявлений, размещённых ближе к выходным.\n",
    "- Квартиры на первом этаже, как правило, дешевле других.\n",
    "- Самая высокая стоимость квадратного метра оказалась в Санкт-Петербурге — порядка 114 тысяч за квадратный метр. Самая низкая — в Выборге: 58,5 тысяч.\n",
    "- Среднее время продажи квартиры составляет порядка 185 дней, а медианное — 102 дня. При этом к необычайно долгим продажам мы отнесли объявления, с момента публикации и до закрытия которых прошло более 240 дней, а к необычайно быстрым — те, продолжительность которых составляла не более 45 дней. "
   ]
  },
  {
   "attachments": {},
   "cell_type": "markdown",
   "metadata": {},
   "source": [
    "**Для получения данных выводов были обработаны пропуски, дубликаты и аномалии (редкие и выбивающиеся значения) в данных; типы данных в отдельных столбцах были изменены для улучшения качества анализа. Также в исходную таблицу были добавлены новые столбцы, а старые — переименованы и реструктурированы.**"
   ]
  }
 ],
 "metadata": {
  "ExecuteTimeLog": [
   {
    "duration": 539,
    "start_time": "2024-11-07T10:47:22.922Z"
   },
   {
    "duration": 80,
    "start_time": "2024-11-07T10:47:36.756Z"
   },
   {
    "duration": 71,
    "start_time": "2024-11-07T10:49:12.144Z"
   },
   {
    "duration": 71,
    "start_time": "2024-11-07T10:49:36.315Z"
   },
   {
    "duration": 73,
    "start_time": "2024-11-07T10:49:37.406Z"
   },
   {
    "duration": 109,
    "start_time": "2024-11-07T10:57:23.597Z"
   },
   {
    "duration": 96,
    "start_time": "2024-11-07T10:57:30.947Z"
   },
   {
    "duration": 67,
    "start_time": "2024-11-07T10:57:42.726Z"
   },
   {
    "duration": 152,
    "start_time": "2024-11-07T10:58:09.688Z"
   },
   {
    "duration": 101,
    "start_time": "2024-11-07T10:58:28.024Z"
   },
   {
    "duration": 14,
    "start_time": "2024-11-07T10:58:52.128Z"
   },
   {
    "duration": 131,
    "start_time": "2024-11-07T10:58:54.134Z"
   },
   {
    "duration": 128,
    "start_time": "2024-11-07T11:08:33.505Z"
   },
   {
    "duration": 12,
    "start_time": "2024-11-07T11:42:09.435Z"
   },
   {
    "duration": 45,
    "start_time": "2024-11-07T16:02:11.317Z"
   },
   {
    "duration": 779,
    "start_time": "2024-11-07T16:02:23.263Z"
   },
   {
    "duration": 15,
    "start_time": "2024-11-07T16:02:28.805Z"
   },
   {
    "duration": 2258,
    "start_time": "2024-11-07T16:02:33.486Z"
   },
   {
    "duration": 1997,
    "start_time": "2024-11-07T16:04:21.946Z"
   },
   {
    "duration": 1702,
    "start_time": "2024-11-07T16:04:34.692Z"
   },
   {
    "duration": 123,
    "start_time": "2024-11-07T16:06:26.728Z"
   },
   {
    "duration": 15,
    "start_time": "2024-11-07T16:06:31.773Z"
   },
   {
    "duration": 1657,
    "start_time": "2024-11-07T16:06:37.014Z"
   },
   {
    "duration": 118,
    "start_time": "2024-11-07T16:07:35.395Z"
   },
   {
    "duration": 2,
    "start_time": "2024-11-07T16:07:45.046Z"
   },
   {
    "duration": 117,
    "start_time": "2024-11-07T16:12:02.155Z"
   },
   {
    "duration": 29,
    "start_time": "2024-11-07T16:12:39.290Z"
   },
   {
    "duration": 193,
    "start_time": "2024-11-07T16:13:41.091Z"
   },
   {
    "duration": 69,
    "start_time": "2024-11-07T16:14:12.174Z"
   },
   {
    "duration": 3,
    "start_time": "2024-11-07T16:33:00.975Z"
   },
   {
    "duration": 108,
    "start_time": "2024-11-07T16:33:03.807Z"
   },
   {
    "duration": 34,
    "start_time": "2024-11-07T16:34:46.443Z"
   },
   {
    "duration": 24,
    "start_time": "2024-11-07T16:34:53.461Z"
   },
   {
    "duration": 20,
    "start_time": "2024-11-07T16:38:19.737Z"
   },
   {
    "duration": 25,
    "start_time": "2024-11-07T16:47:51.186Z"
   },
   {
    "duration": 13,
    "start_time": "2024-11-07T16:53:44.029Z"
   },
   {
    "duration": 34,
    "start_time": "2024-11-07T17:08:40.685Z"
   },
   {
    "duration": 36,
    "start_time": "2024-11-07T17:34:12.687Z"
   },
   {
    "duration": 10,
    "start_time": "2024-11-07T17:45:46.203Z"
   },
   {
    "duration": 13,
    "start_time": "2024-11-07T17:50:37.585Z"
   },
   {
    "duration": 15,
    "start_time": "2024-11-07T17:53:51.642Z"
   },
   {
    "duration": 16,
    "start_time": "2024-11-07T17:54:02.883Z"
   },
   {
    "duration": 20,
    "start_time": "2024-11-07T17:54:25.908Z"
   },
   {
    "duration": 7,
    "start_time": "2024-11-07T17:54:39.383Z"
   },
   {
    "duration": 22,
    "start_time": "2024-11-07T17:54:42.206Z"
   },
   {
    "duration": 8,
    "start_time": "2024-11-07T17:54:57.872Z"
   },
   {
    "duration": 9,
    "start_time": "2024-11-07T17:57:47.435Z"
   },
   {
    "duration": 10,
    "start_time": "2024-11-07T17:58:09.213Z"
   },
   {
    "duration": 10,
    "start_time": "2024-11-07T17:58:14.240Z"
   },
   {
    "duration": 22,
    "start_time": "2024-11-07T18:00:04.760Z"
   },
   {
    "duration": 23,
    "start_time": "2024-11-07T18:00:08.224Z"
   },
   {
    "duration": 23,
    "start_time": "2024-11-07T18:01:02.972Z"
   },
   {
    "duration": 14,
    "start_time": "2024-11-07T18:02:15.799Z"
   },
   {
    "duration": 8,
    "start_time": "2024-11-07T18:02:21.151Z"
   },
   {
    "duration": 12,
    "start_time": "2024-11-07T18:02:38.021Z"
   },
   {
    "duration": 8,
    "start_time": "2024-11-07T18:02:51.855Z"
   },
   {
    "duration": 11,
    "start_time": "2024-11-07T18:04:28.901Z"
   },
   {
    "duration": 6,
    "start_time": "2024-11-07T18:04:43.027Z"
   },
   {
    "duration": 9,
    "start_time": "2024-11-07T18:04:54.246Z"
   },
   {
    "duration": 9,
    "start_time": "2024-11-07T18:06:13.093Z"
   },
   {
    "duration": 9,
    "start_time": "2024-11-07T18:13:36.064Z"
   },
   {
    "duration": 12,
    "start_time": "2024-11-07T18:13:59.488Z"
   },
   {
    "duration": 6,
    "start_time": "2024-11-07T18:17:55.814Z"
   },
   {
    "duration": 12,
    "start_time": "2024-11-07T18:18:04.892Z"
   },
   {
    "duration": 3,
    "start_time": "2024-11-07T18:20:54.686Z"
   },
   {
    "duration": 13,
    "start_time": "2024-11-07T18:21:06.095Z"
   },
   {
    "duration": 7,
    "start_time": "2024-11-07T18:21:09.719Z"
   },
   {
    "duration": 70,
    "start_time": "2024-11-07T18:33:44.968Z"
   },
   {
    "duration": 13,
    "start_time": "2024-11-07T18:34:35.680Z"
   },
   {
    "duration": 6,
    "start_time": "2024-11-07T18:34:38.514Z"
   },
   {
    "duration": 25,
    "start_time": "2024-11-07T18:35:29.185Z"
   },
   {
    "duration": 7,
    "start_time": "2024-11-07T18:35:31.820Z"
   },
   {
    "duration": 26,
    "start_time": "2024-11-07T18:36:03.098Z"
   },
   {
    "duration": 7,
    "start_time": "2024-11-07T18:36:05.181Z"
   },
   {
    "duration": 11,
    "start_time": "2024-11-07T18:36:32.463Z"
   },
   {
    "duration": 25,
    "start_time": "2024-11-07T18:37:21.330Z"
   },
   {
    "duration": 20,
    "start_time": "2024-11-07T18:38:03.916Z"
   },
   {
    "duration": 15,
    "start_time": "2024-11-07T18:38:27.006Z"
   },
   {
    "duration": 6,
    "start_time": "2024-11-07T18:38:30.265Z"
   },
   {
    "duration": 9,
    "start_time": "2024-11-07T18:38:33.949Z"
   },
   {
    "duration": 21,
    "start_time": "2024-11-07T18:38:43.067Z"
   },
   {
    "duration": 35,
    "start_time": "2024-11-07T18:39:24.317Z"
   },
   {
    "duration": 7,
    "start_time": "2024-11-07T18:39:26.977Z"
   },
   {
    "duration": 10,
    "start_time": "2024-11-07T18:39:30.179Z"
   },
   {
    "duration": 48,
    "start_time": "2024-11-07T18:41:34.801Z"
   },
   {
    "duration": 6,
    "start_time": "2024-11-07T18:41:36.969Z"
   },
   {
    "duration": 10,
    "start_time": "2024-11-07T18:41:39.391Z"
   },
   {
    "duration": 770,
    "start_time": "2024-11-13T08:03:43.919Z"
   },
   {
    "duration": 348,
    "start_time": "2024-11-13T08:03:44.691Z"
   },
   {
    "duration": 23,
    "start_time": "2024-11-13T08:03:45.040Z"
   },
   {
    "duration": 37,
    "start_time": "2024-11-13T08:03:45.064Z"
   },
   {
    "duration": 70,
    "start_time": "2024-11-13T08:03:45.102Z"
   },
   {
    "duration": 1519,
    "start_time": "2024-11-13T08:03:45.173Z"
   },
   {
    "duration": 21,
    "start_time": "2024-11-13T08:03:46.693Z"
   },
   {
    "duration": 8,
    "start_time": "2024-11-13T08:03:46.716Z"
   },
   {
    "duration": 29,
    "start_time": "2024-11-13T08:03:46.725Z"
   },
   {
    "duration": 12,
    "start_time": "2024-11-13T08:03:46.756Z"
   },
   {
    "duration": 12,
    "start_time": "2024-11-13T08:03:46.769Z"
   },
   {
    "duration": 4,
    "start_time": "2024-11-13T08:03:46.783Z"
   },
   {
    "duration": 17,
    "start_time": "2024-11-13T08:03:46.788Z"
   },
   {
    "duration": 45,
    "start_time": "2024-11-13T08:03:46.807Z"
   },
   {
    "duration": 4,
    "start_time": "2024-11-13T08:03:46.854Z"
   },
   {
    "duration": 805,
    "start_time": "2024-11-13T18:33:41.878Z"
   },
   {
    "duration": 367,
    "start_time": "2024-11-13T18:33:42.685Z"
   },
   {
    "duration": 26,
    "start_time": "2024-11-13T18:33:43.054Z"
   },
   {
    "duration": 16,
    "start_time": "2024-11-13T18:33:43.082Z"
   },
   {
    "duration": 91,
    "start_time": "2024-11-13T18:33:43.101Z"
   },
   {
    "duration": 1858,
    "start_time": "2024-11-13T18:33:43.194Z"
   },
   {
    "duration": 26,
    "start_time": "2024-11-13T18:33:45.054Z"
   },
   {
    "duration": 10,
    "start_time": "2024-11-13T18:33:45.081Z"
   },
   {
    "duration": 30,
    "start_time": "2024-11-13T18:33:45.092Z"
   },
   {
    "duration": 9,
    "start_time": "2024-11-13T18:33:45.124Z"
   },
   {
    "duration": 24,
    "start_time": "2024-11-13T18:33:45.135Z"
   },
   {
    "duration": 25,
    "start_time": "2024-11-13T18:33:45.160Z"
   },
   {
    "duration": 13,
    "start_time": "2024-11-13T18:33:45.186Z"
   },
   {
    "duration": 57,
    "start_time": "2024-11-13T18:33:45.202Z"
   },
   {
    "duration": 6,
    "start_time": "2024-11-13T18:33:45.261Z"
   },
   {
    "duration": 15,
    "start_time": "2024-11-13T18:33:45.268Z"
   },
   {
    "duration": 81,
    "start_time": "2024-11-13T18:34:10.028Z"
   },
   {
    "duration": 12,
    "start_time": "2024-11-13T18:34:18.496Z"
   },
   {
    "duration": 13,
    "start_time": "2024-11-13T18:34:34.240Z"
   },
   {
    "duration": 12,
    "start_time": "2024-11-13T18:34:58.775Z"
   },
   {
    "duration": 5,
    "start_time": "2024-11-13T18:35:03.925Z"
   },
   {
    "duration": 131,
    "start_time": "2024-11-13T18:35:03.934Z"
   },
   {
    "duration": 33,
    "start_time": "2024-11-13T18:35:04.067Z"
   },
   {
    "duration": 21,
    "start_time": "2024-11-13T18:35:04.101Z"
   },
   {
    "duration": 88,
    "start_time": "2024-11-13T18:35:04.124Z"
   },
   {
    "duration": 1840,
    "start_time": "2024-11-13T18:35:04.214Z"
   },
   {
    "duration": 31,
    "start_time": "2024-11-13T18:35:06.055Z"
   },
   {
    "duration": 9,
    "start_time": "2024-11-13T18:35:06.087Z"
   },
   {
    "duration": 36,
    "start_time": "2024-11-13T18:35:06.098Z"
   },
   {
    "duration": 17,
    "start_time": "2024-11-13T18:35:06.136Z"
   },
   {
    "duration": 30,
    "start_time": "2024-11-13T18:35:06.154Z"
   },
   {
    "duration": 5,
    "start_time": "2024-11-13T18:35:06.186Z"
   },
   {
    "duration": 19,
    "start_time": "2024-11-13T18:35:06.193Z"
   },
   {
    "duration": 62,
    "start_time": "2024-11-13T18:35:06.214Z"
   },
   {
    "duration": 7,
    "start_time": "2024-11-13T18:35:06.279Z"
   },
   {
    "duration": 42,
    "start_time": "2024-11-13T18:35:06.287Z"
   },
   {
    "duration": 12,
    "start_time": "2024-11-13T18:35:39.788Z"
   },
   {
    "duration": 4,
    "start_time": "2024-11-13T18:35:47.289Z"
   },
   {
    "duration": 141,
    "start_time": "2024-11-13T18:35:50.674Z"
   },
   {
    "duration": 26,
    "start_time": "2024-11-13T18:35:54.029Z"
   },
   {
    "duration": 14,
    "start_time": "2024-11-13T18:35:56.842Z"
   },
   {
    "duration": 76,
    "start_time": "2024-11-13T18:35:59.771Z"
   },
   {
    "duration": 1888,
    "start_time": "2024-11-13T18:36:04.424Z"
   },
   {
    "duration": 22,
    "start_time": "2024-11-13T18:36:09.389Z"
   },
   {
    "duration": 15,
    "start_time": "2024-11-13T18:36:18.170Z"
   },
   {
    "duration": 36,
    "start_time": "2024-11-13T18:36:22.680Z"
   },
   {
    "duration": 13,
    "start_time": "2024-11-13T18:36:37.812Z"
   },
   {
    "duration": 13,
    "start_time": "2024-11-13T18:36:46.916Z"
   },
   {
    "duration": 10,
    "start_time": "2024-11-13T18:36:54.484Z"
   },
   {
    "duration": 12,
    "start_time": "2024-11-13T18:36:55.860Z"
   },
   {
    "duration": 3,
    "start_time": "2024-11-13T18:37:01.432Z"
   },
   {
    "duration": 114,
    "start_time": "2024-11-13T18:37:03.554Z"
   },
   {
    "duration": 33,
    "start_time": "2024-11-13T18:37:09.349Z"
   },
   {
    "duration": 4,
    "start_time": "2024-11-13T18:38:23.182Z"
   },
   {
    "duration": 19,
    "start_time": "2024-11-13T18:38:29.678Z"
   },
   {
    "duration": 33,
    "start_time": "2024-11-13T18:43:17.480Z"
   },
   {
    "duration": 27,
    "start_time": "2024-11-13T18:43:27.944Z"
   },
   {
    "duration": 7,
    "start_time": "2024-11-13T19:09:21.634Z"
   },
   {
    "duration": 8,
    "start_time": "2024-11-13T19:19:56.668Z"
   },
   {
    "duration": 4,
    "start_time": "2024-11-13T19:20:06.306Z"
   },
   {
    "duration": 5,
    "start_time": "2024-11-13T19:20:43.567Z"
   },
   {
    "duration": 8,
    "start_time": "2024-11-13T19:23:04.282Z"
   },
   {
    "duration": 13,
    "start_time": "2024-11-13T19:23:29.992Z"
   },
   {
    "duration": 10,
    "start_time": "2024-11-13T19:23:40.029Z"
   },
   {
    "duration": 8,
    "start_time": "2024-11-13T19:25:58.674Z"
   },
   {
    "duration": 7,
    "start_time": "2024-11-13T19:26:02.642Z"
   },
   {
    "duration": 8,
    "start_time": "2024-11-13T19:26:16.917Z"
   },
   {
    "duration": 6,
    "start_time": "2024-11-13T19:27:55.396Z"
   },
   {
    "duration": 8,
    "start_time": "2024-11-13T19:40:35.227Z"
   },
   {
    "duration": 12,
    "start_time": "2024-11-13T19:40:40.474Z"
   },
   {
    "duration": 7,
    "start_time": "2024-11-13T19:40:49.346Z"
   },
   {
    "duration": 10,
    "start_time": "2024-11-13T19:40:50.657Z"
   },
   {
    "duration": 8,
    "start_time": "2024-11-13T19:40:54.736Z"
   },
   {
    "duration": 8,
    "start_time": "2024-11-13T19:41:27.371Z"
   },
   {
    "duration": 6,
    "start_time": "2024-11-13T19:41:32.326Z"
   },
   {
    "duration": 8,
    "start_time": "2024-11-13T19:41:39.325Z"
   },
   {
    "duration": 9,
    "start_time": "2024-11-13T19:42:02.584Z"
   },
   {
    "duration": 5,
    "start_time": "2024-11-13T19:42:40.391Z"
   },
   {
    "duration": 9,
    "start_time": "2024-11-13T19:42:51.664Z"
   },
   {
    "duration": 6,
    "start_time": "2024-11-13T19:42:56.392Z"
   },
   {
    "duration": 6,
    "start_time": "2024-11-13T19:43:37.558Z"
   },
   {
    "duration": 7,
    "start_time": "2024-11-13T19:43:47.288Z"
   },
   {
    "duration": 7,
    "start_time": "2024-11-13T19:44:13.117Z"
   },
   {
    "duration": 5,
    "start_time": "2024-11-13T19:49:53.114Z"
   },
   {
    "duration": 5,
    "start_time": "2024-11-13T19:50:05.100Z"
   },
   {
    "duration": 8,
    "start_time": "2024-11-13T19:50:16.985Z"
   },
   {
    "duration": 43,
    "start_time": "2024-11-13T19:51:01.261Z"
   },
   {
    "duration": 69,
    "start_time": "2024-11-13T19:52:59.692Z"
   },
   {
    "duration": 5,
    "start_time": "2024-11-13T19:53:01.708Z"
   },
   {
    "duration": 5,
    "start_time": "2024-11-13T19:53:09.435Z"
   },
   {
    "duration": 54,
    "start_time": "2024-11-14T06:33:13.833Z"
   },
   {
    "duration": 768,
    "start_time": "2024-11-14T06:33:27.679Z"
   },
   {
    "duration": 185,
    "start_time": "2024-11-14T06:33:28.449Z"
   },
   {
    "duration": 20,
    "start_time": "2024-11-14T06:33:28.636Z"
   },
   {
    "duration": 13,
    "start_time": "2024-11-14T06:33:28.658Z"
   },
   {
    "duration": 61,
    "start_time": "2024-11-14T06:33:28.673Z"
   },
   {
    "duration": 1580,
    "start_time": "2024-11-14T06:33:28.736Z"
   },
   {
    "duration": 25,
    "start_time": "2024-11-14T06:33:30.318Z"
   },
   {
    "duration": 11,
    "start_time": "2024-11-14T06:33:30.345Z"
   },
   {
    "duration": 37,
    "start_time": "2024-11-14T06:33:30.357Z"
   },
   {
    "duration": 52,
    "start_time": "2024-11-14T06:33:30.396Z"
   },
   {
    "duration": 25,
    "start_time": "2024-11-14T06:33:30.450Z"
   },
   {
    "duration": 19,
    "start_time": "2024-11-14T06:33:30.476Z"
   },
   {
    "duration": 17,
    "start_time": "2024-11-14T06:33:30.496Z"
   },
   {
    "duration": 58,
    "start_time": "2024-11-14T06:33:30.514Z"
   },
   {
    "duration": 6,
    "start_time": "2024-11-14T06:33:30.573Z"
   },
   {
    "duration": 36,
    "start_time": "2024-11-14T06:33:30.580Z"
   },
   {
    "duration": 11,
    "start_time": "2024-11-14T06:33:30.618Z"
   },
   {
    "duration": 7,
    "start_time": "2024-11-14T06:33:30.630Z"
   },
   {
    "duration": 34,
    "start_time": "2024-11-14T06:33:30.638Z"
   },
   {
    "duration": 16,
    "start_time": "2024-11-14T06:33:30.673Z"
   },
   {
    "duration": 23,
    "start_time": "2024-11-14T06:33:30.690Z"
   },
   {
    "duration": 19,
    "start_time": "2024-11-14T06:33:30.714Z"
   },
   {
    "duration": 3,
    "start_time": "2024-11-14T06:59:19.424Z"
   },
   {
    "duration": 6,
    "start_time": "2024-11-14T06:59:41.596Z"
   },
   {
    "duration": 5,
    "start_time": "2024-11-14T07:46:29.047Z"
   },
   {
    "duration": 10,
    "start_time": "2024-11-14T07:46:34.879Z"
   },
   {
    "duration": 8,
    "start_time": "2024-11-14T07:46:42.228Z"
   },
   {
    "duration": 49,
    "start_time": "2024-11-14T07:46:45.797Z"
   },
   {
    "duration": 4,
    "start_time": "2024-11-14T07:46:48.857Z"
   },
   {
    "duration": 5,
    "start_time": "2024-11-14T07:46:54.058Z"
   },
   {
    "duration": 2,
    "start_time": "2024-11-14T07:47:02.490Z"
   },
   {
    "duration": 137,
    "start_time": "2024-11-14T07:47:02.504Z"
   },
   {
    "duration": 21,
    "start_time": "2024-11-14T07:47:02.642Z"
   },
   {
    "duration": 23,
    "start_time": "2024-11-14T07:47:02.664Z"
   },
   {
    "duration": 65,
    "start_time": "2024-11-14T07:47:02.688Z"
   },
   {
    "duration": 1521,
    "start_time": "2024-11-14T07:47:02.755Z"
   },
   {
    "duration": 20,
    "start_time": "2024-11-14T07:47:04.278Z"
   },
   {
    "duration": 8,
    "start_time": "2024-11-14T07:47:04.300Z"
   },
   {
    "duration": 48,
    "start_time": "2024-11-14T07:47:04.310Z"
   },
   {
    "duration": 70,
    "start_time": "2024-11-14T07:47:04.360Z"
   },
   {
    "duration": 21,
    "start_time": "2024-11-14T07:47:04.432Z"
   },
   {
    "duration": 17,
    "start_time": "2024-11-14T07:47:04.454Z"
   },
   {
    "duration": 34,
    "start_time": "2024-11-14T07:47:04.472Z"
   },
   {
    "duration": 52,
    "start_time": "2024-11-14T07:47:04.507Z"
   },
   {
    "duration": 5,
    "start_time": "2024-11-14T07:47:04.562Z"
   },
   {
    "duration": 56,
    "start_time": "2024-11-14T07:47:04.568Z"
   },
   {
    "duration": 13,
    "start_time": "2024-11-14T07:47:04.625Z"
   },
   {
    "duration": 13,
    "start_time": "2024-11-14T07:47:04.639Z"
   },
   {
    "duration": 21,
    "start_time": "2024-11-14T07:47:04.653Z"
   },
   {
    "duration": 16,
    "start_time": "2024-11-14T07:47:04.675Z"
   },
   {
    "duration": 12,
    "start_time": "2024-11-14T07:47:04.692Z"
   },
   {
    "duration": 10,
    "start_time": "2024-11-14T07:47:04.706Z"
   },
   {
    "duration": 3,
    "start_time": "2024-11-14T07:47:09.795Z"
   },
   {
    "duration": 105,
    "start_time": "2024-11-14T07:47:10.909Z"
   },
   {
    "duration": 22,
    "start_time": "2024-11-14T07:47:11.435Z"
   },
   {
    "duration": 13,
    "start_time": "2024-11-14T07:47:11.458Z"
   },
   {
    "duration": 58,
    "start_time": "2024-11-14T07:47:11.478Z"
   },
   {
    "duration": 1528,
    "start_time": "2024-11-14T07:47:11.538Z"
   },
   {
    "duration": 19,
    "start_time": "2024-11-14T07:47:13.067Z"
   },
   {
    "duration": 15,
    "start_time": "2024-11-14T07:47:13.087Z"
   },
   {
    "duration": 25,
    "start_time": "2024-11-14T07:47:13.104Z"
   },
   {
    "duration": 20,
    "start_time": "2024-11-14T07:47:13.130Z"
   },
   {
    "duration": 14,
    "start_time": "2024-11-14T07:47:13.151Z"
   },
   {
    "duration": 4,
    "start_time": "2024-11-14T07:47:13.166Z"
   },
   {
    "duration": 9,
    "start_time": "2024-11-14T07:47:13.172Z"
   },
   {
    "duration": 51,
    "start_time": "2024-11-14T07:47:13.182Z"
   },
   {
    "duration": 23,
    "start_time": "2024-11-14T07:47:13.235Z"
   },
   {
    "duration": 22,
    "start_time": "2024-11-14T07:47:13.260Z"
   },
   {
    "duration": 6,
    "start_time": "2024-11-14T07:47:13.283Z"
   },
   {
    "duration": 53,
    "start_time": "2024-11-14T07:47:13.290Z"
   },
   {
    "duration": 31,
    "start_time": "2024-11-14T07:47:13.344Z"
   },
   {
    "duration": 5,
    "start_time": "2024-11-14T07:47:13.377Z"
   },
   {
    "duration": 5,
    "start_time": "2024-11-14T07:47:13.383Z"
   },
   {
    "duration": 4,
    "start_time": "2024-11-14T07:47:13.389Z"
   },
   {
    "duration": 8,
    "start_time": "2024-11-14T07:53:57.326Z"
   },
   {
    "duration": 11,
    "start_time": "2024-11-14T07:54:39.729Z"
   },
   {
    "duration": 755,
    "start_time": "2024-11-15T07:55:15.753Z"
   },
   {
    "duration": 354,
    "start_time": "2024-11-15T07:55:16.510Z"
   },
   {
    "duration": 23,
    "start_time": "2024-11-15T07:55:16.865Z"
   },
   {
    "duration": 59,
    "start_time": "2024-11-15T07:55:16.889Z"
   },
   {
    "duration": 60,
    "start_time": "2024-11-15T07:55:16.950Z"
   },
   {
    "duration": 1540,
    "start_time": "2024-11-15T07:55:17.012Z"
   },
   {
    "duration": 22,
    "start_time": "2024-11-15T07:55:18.553Z"
   },
   {
    "duration": 8,
    "start_time": "2024-11-15T07:55:18.576Z"
   },
   {
    "duration": 28,
    "start_time": "2024-11-15T07:55:18.586Z"
   },
   {
    "duration": 12,
    "start_time": "2024-11-15T07:55:18.615Z"
   },
   {
    "duration": 24,
    "start_time": "2024-11-15T07:55:18.628Z"
   },
   {
    "duration": 9,
    "start_time": "2024-11-15T07:55:18.654Z"
   },
   {
    "duration": 17,
    "start_time": "2024-11-15T07:55:18.665Z"
   },
   {
    "duration": 50,
    "start_time": "2024-11-15T07:55:18.684Z"
   },
   {
    "duration": 14,
    "start_time": "2024-11-15T07:55:18.735Z"
   },
   {
    "duration": 25,
    "start_time": "2024-11-15T07:55:18.750Z"
   },
   {
    "duration": 5,
    "start_time": "2024-11-15T07:55:18.777Z"
   },
   {
    "duration": 10,
    "start_time": "2024-11-15T07:55:18.783Z"
   },
   {
    "duration": 5,
    "start_time": "2024-11-15T07:55:18.795Z"
   },
   {
    "duration": 5,
    "start_time": "2024-11-15T07:55:18.801Z"
   },
   {
    "duration": 7,
    "start_time": "2024-11-15T07:55:18.807Z"
   },
   {
    "duration": 32,
    "start_time": "2024-11-15T07:55:18.816Z"
   },
   {
    "duration": 8,
    "start_time": "2024-11-15T07:55:18.850Z"
   },
   {
    "duration": 6,
    "start_time": "2024-11-15T07:55:18.860Z"
   },
   {
    "duration": 9,
    "start_time": "2024-11-15T07:55:31.196Z"
   },
   {
    "duration": 3,
    "start_time": "2024-11-15T08:01:57.542Z"
   },
   {
    "duration": 5,
    "start_time": "2024-11-15T08:06:55.244Z"
   },
   {
    "duration": 30,
    "start_time": "2024-11-15T08:07:08.056Z"
   },
   {
    "duration": 4,
    "start_time": "2024-11-15T08:09:41.705Z"
   },
   {
    "duration": 5,
    "start_time": "2024-11-15T08:09:53.804Z"
   },
   {
    "duration": 71,
    "start_time": "2024-11-15T08:15:16.758Z"
   },
   {
    "duration": 13,
    "start_time": "2024-11-15T08:15:23.535Z"
   },
   {
    "duration": 13,
    "start_time": "2024-11-15T08:16:30.636Z"
   },
   {
    "duration": 12,
    "start_time": "2024-11-15T08:17:07.735Z"
   },
   {
    "duration": 7,
    "start_time": "2024-11-15T08:17:16.935Z"
   },
   {
    "duration": 6,
    "start_time": "2024-11-15T08:17:28.487Z"
   },
   {
    "duration": 4,
    "start_time": "2024-11-15T08:18:01.478Z"
   },
   {
    "duration": 14,
    "start_time": "2024-11-15T08:18:15.884Z"
   },
   {
    "duration": 6,
    "start_time": "2024-11-15T08:18:59.048Z"
   },
   {
    "duration": 27,
    "start_time": "2024-11-15T08:33:14.946Z"
   },
   {
    "duration": 31,
    "start_time": "2024-11-15T09:16:36.886Z"
   },
   {
    "duration": 34,
    "start_time": "2024-11-15T09:22:54.697Z"
   },
   {
    "duration": 5,
    "start_time": "2024-11-15T09:23:18.763Z"
   },
   {
    "duration": 3,
    "start_time": "2024-11-15T09:23:31.933Z"
   },
   {
    "duration": 139,
    "start_time": "2024-11-15T09:23:31.937Z"
   },
   {
    "duration": 22,
    "start_time": "2024-11-15T09:23:32.077Z"
   },
   {
    "duration": 24,
    "start_time": "2024-11-15T09:23:32.100Z"
   },
   {
    "duration": 83,
    "start_time": "2024-11-15T09:23:32.125Z"
   },
   {
    "duration": 1686,
    "start_time": "2024-11-15T09:23:32.209Z"
   },
   {
    "duration": 20,
    "start_time": "2024-11-15T09:23:33.897Z"
   },
   {
    "duration": 14,
    "start_time": "2024-11-15T09:23:33.918Z"
   },
   {
    "duration": 53,
    "start_time": "2024-11-15T09:23:33.933Z"
   },
   {
    "duration": 16,
    "start_time": "2024-11-15T09:23:33.989Z"
   },
   {
    "duration": 32,
    "start_time": "2024-11-15T09:23:34.007Z"
   },
   {
    "duration": 14,
    "start_time": "2024-11-15T09:23:34.040Z"
   },
   {
    "duration": 17,
    "start_time": "2024-11-15T09:23:34.055Z"
   },
   {
    "duration": 66,
    "start_time": "2024-11-15T09:23:34.074Z"
   },
   {
    "duration": 5,
    "start_time": "2024-11-15T09:23:34.141Z"
   },
   {
    "duration": 44,
    "start_time": "2024-11-15T09:23:34.147Z"
   },
   {
    "duration": 44,
    "start_time": "2024-11-15T09:23:34.193Z"
   },
   {
    "duration": 24,
    "start_time": "2024-11-15T09:23:34.238Z"
   },
   {
    "duration": 10,
    "start_time": "2024-11-15T09:23:34.264Z"
   },
   {
    "duration": 11,
    "start_time": "2024-11-15T09:23:34.275Z"
   },
   {
    "duration": 7,
    "start_time": "2024-11-15T09:23:34.287Z"
   },
   {
    "duration": 29,
    "start_time": "2024-11-15T09:23:34.296Z"
   },
   {
    "duration": 34,
    "start_time": "2024-11-15T09:23:34.327Z"
   },
   {
    "duration": 12,
    "start_time": "2024-11-15T09:23:34.363Z"
   },
   {
    "duration": 6,
    "start_time": "2024-11-15T09:23:34.377Z"
   },
   {
    "duration": 31,
    "start_time": "2024-11-15T09:23:34.385Z"
   },
   {
    "duration": 24,
    "start_time": "2024-11-15T09:23:34.417Z"
   },
   {
    "duration": 53,
    "start_time": "2024-11-15T09:23:34.442Z"
   },
   {
    "duration": 34,
    "start_time": "2024-11-15T10:30:11.724Z"
   },
   {
    "duration": 2,
    "start_time": "2024-11-15T10:30:41.376Z"
   },
   {
    "duration": 120,
    "start_time": "2024-11-15T10:30:41.392Z"
   },
   {
    "duration": 23,
    "start_time": "2024-11-15T10:30:41.514Z"
   },
   {
    "duration": 18,
    "start_time": "2024-11-15T10:30:41.547Z"
   },
   {
    "duration": 64,
    "start_time": "2024-11-15T10:30:41.566Z"
   },
   {
    "duration": 1684,
    "start_time": "2024-11-15T10:30:41.631Z"
   },
   {
    "duration": 33,
    "start_time": "2024-11-15T10:30:43.316Z"
   },
   {
    "duration": 9,
    "start_time": "2024-11-15T10:30:43.350Z"
   },
   {
    "duration": 45,
    "start_time": "2024-11-15T10:30:43.360Z"
   },
   {
    "duration": 86,
    "start_time": "2024-11-15T10:30:43.406Z"
   },
   {
    "duration": 12,
    "start_time": "2024-11-15T10:30:43.493Z"
   },
   {
    "duration": 27,
    "start_time": "2024-11-15T10:30:43.506Z"
   },
   {
    "duration": 46,
    "start_time": "2024-11-15T10:30:43.535Z"
   },
   {
    "duration": 77,
    "start_time": "2024-11-15T10:30:43.582Z"
   },
   {
    "duration": 6,
    "start_time": "2024-11-15T10:30:43.661Z"
   },
   {
    "duration": 35,
    "start_time": "2024-11-15T10:30:43.669Z"
   },
   {
    "duration": 13,
    "start_time": "2024-11-15T10:30:43.705Z"
   },
   {
    "duration": 12,
    "start_time": "2024-11-15T10:30:43.719Z"
   },
   {
    "duration": 74,
    "start_time": "2024-11-15T10:30:43.733Z"
   },
   {
    "duration": 12,
    "start_time": "2024-11-15T10:30:43.809Z"
   },
   {
    "duration": 5,
    "start_time": "2024-11-15T10:30:43.822Z"
   },
   {
    "duration": 5,
    "start_time": "2024-11-15T10:30:43.828Z"
   },
   {
    "duration": 7,
    "start_time": "2024-11-15T10:30:43.834Z"
   },
   {
    "duration": 29,
    "start_time": "2024-11-15T10:30:43.843Z"
   },
   {
    "duration": 4,
    "start_time": "2024-11-15T10:30:43.874Z"
   },
   {
    "duration": 7,
    "start_time": "2024-11-15T10:30:43.880Z"
   },
   {
    "duration": 5,
    "start_time": "2024-11-15T10:30:43.889Z"
   },
   {
    "duration": 26,
    "start_time": "2024-11-15T10:30:43.895Z"
   },
   {
    "duration": 3,
    "start_time": "2024-11-15T10:30:58.256Z"
   },
   {
    "duration": 128,
    "start_time": "2024-11-15T10:30:59.138Z"
   },
   {
    "duration": 23,
    "start_time": "2024-11-15T10:30:59.295Z"
   },
   {
    "duration": 17,
    "start_time": "2024-11-15T10:30:59.466Z"
   },
   {
    "duration": 75,
    "start_time": "2024-11-15T10:30:59.617Z"
   },
   {
    "duration": 1608,
    "start_time": "2024-11-15T10:30:59.775Z"
   },
   {
    "duration": 19,
    "start_time": "2024-11-15T10:31:01.384Z"
   },
   {
    "duration": 15,
    "start_time": "2024-11-15T10:31:01.405Z"
   },
   {
    "duration": 61,
    "start_time": "2024-11-15T10:31:01.421Z"
   },
   {
    "duration": 39,
    "start_time": "2024-11-15T10:31:01.483Z"
   },
   {
    "duration": 13,
    "start_time": "2024-11-15T10:31:01.547Z"
   },
   {
    "duration": 7,
    "start_time": "2024-11-15T10:31:01.893Z"
   },
   {
    "duration": 13,
    "start_time": "2024-11-15T10:31:02.096Z"
   },
   {
    "duration": 65,
    "start_time": "2024-11-15T10:31:02.428Z"
   },
   {
    "duration": 6,
    "start_time": "2024-11-15T10:31:02.625Z"
   },
   {
    "duration": 24,
    "start_time": "2024-11-15T10:31:03.406Z"
   },
   {
    "duration": 5,
    "start_time": "2024-11-15T10:31:03.948Z"
   },
   {
    "duration": 8,
    "start_time": "2024-11-15T10:31:04.645Z"
   },
   {
    "duration": 3,
    "start_time": "2024-11-15T10:31:05.335Z"
   },
   {
    "duration": 6,
    "start_time": "2024-11-15T10:31:05.685Z"
   },
   {
    "duration": 6,
    "start_time": "2024-11-15T10:31:06.467Z"
   },
   {
    "duration": 7,
    "start_time": "2024-11-15T10:31:06.973Z"
   },
   {
    "duration": 7,
    "start_time": "2024-11-15T10:31:07.366Z"
   },
   {
    "duration": 6,
    "start_time": "2024-11-15T10:31:08.125Z"
   },
   {
    "duration": 6,
    "start_time": "2024-11-15T10:31:09.343Z"
   },
   {
    "duration": 9,
    "start_time": "2024-11-15T10:31:09.932Z"
   },
   {
    "duration": 6,
    "start_time": "2024-11-15T10:31:11.432Z"
   },
   {
    "duration": 26,
    "start_time": "2024-11-15T10:31:12.049Z"
   },
   {
    "duration": 4,
    "start_time": "2024-11-15T10:32:17.448Z"
   },
   {
    "duration": 11,
    "start_time": "2024-11-15T10:33:59.179Z"
   },
   {
    "duration": 16,
    "start_time": "2024-11-15T10:34:32.005Z"
   },
   {
    "duration": 57,
    "start_time": "2024-11-15T10:34:55.175Z"
   },
   {
    "duration": 8,
    "start_time": "2024-11-15T10:36:58.429Z"
   },
   {
    "duration": 8,
    "start_time": "2024-11-15T10:37:23.423Z"
   },
   {
    "duration": 7,
    "start_time": "2024-11-15T10:37:50.843Z"
   },
   {
    "duration": 3,
    "start_time": "2024-11-15T10:38:29.058Z"
   },
   {
    "duration": 54,
    "start_time": "2024-11-15T10:41:31.398Z"
   },
   {
    "duration": 45,
    "start_time": "2024-11-15T10:42:25.675Z"
   },
   {
    "duration": 48,
    "start_time": "2024-11-15T10:42:33.924Z"
   },
   {
    "duration": 1005,
    "start_time": "2024-11-15T10:45:11.257Z"
   },
   {
    "duration": 40,
    "start_time": "2024-11-15T10:45:20.393Z"
   },
   {
    "duration": 927,
    "start_time": "2024-11-15T10:45:25.633Z"
   },
   {
    "duration": 16,
    "start_time": "2024-11-15T10:45:35.376Z"
   },
   {
    "duration": 12,
    "start_time": "2024-11-15T10:45:43.466Z"
   },
   {
    "duration": 12,
    "start_time": "2024-11-15T10:46:05.275Z"
   },
   {
    "duration": 12,
    "start_time": "2024-11-15T10:46:21.405Z"
   },
   {
    "duration": 16,
    "start_time": "2024-11-15T10:46:37.128Z"
   },
   {
    "duration": 38,
    "start_time": "2024-11-15T12:06:11.442Z"
   },
   {
    "duration": 4,
    "start_time": "2024-11-15T12:09:00.113Z"
   },
   {
    "duration": 37,
    "start_time": "2024-11-15T12:09:25.332Z"
   },
   {
    "duration": 3,
    "start_time": "2024-11-15T12:09:57.403Z"
   },
   {
    "duration": 788,
    "start_time": "2024-11-15T18:10:36.667Z"
   },
   {
    "duration": 170,
    "start_time": "2024-11-15T18:10:37.457Z"
   },
   {
    "duration": 21,
    "start_time": "2024-11-15T18:10:37.628Z"
   },
   {
    "duration": 15,
    "start_time": "2024-11-15T18:10:37.651Z"
   },
   {
    "duration": 76,
    "start_time": "2024-11-15T18:10:37.668Z"
   },
   {
    "duration": 1570,
    "start_time": "2024-11-15T18:10:37.745Z"
   },
   {
    "duration": 23,
    "start_time": "2024-11-15T18:10:39.317Z"
   },
   {
    "duration": 8,
    "start_time": "2024-11-15T18:10:39.341Z"
   },
   {
    "duration": 28,
    "start_time": "2024-11-15T18:10:39.351Z"
   },
   {
    "duration": 20,
    "start_time": "2024-11-15T18:10:39.382Z"
   },
   {
    "duration": 12,
    "start_time": "2024-11-15T18:10:39.403Z"
   },
   {
    "duration": 5,
    "start_time": "2024-11-15T18:10:39.417Z"
   },
   {
    "duration": 10,
    "start_time": "2024-11-15T18:10:39.423Z"
   },
   {
    "duration": 75,
    "start_time": "2024-11-15T18:10:39.435Z"
   },
   {
    "duration": 6,
    "start_time": "2024-11-15T18:10:39.511Z"
   },
   {
    "duration": 50,
    "start_time": "2024-11-15T18:10:39.519Z"
   },
   {
    "duration": 5,
    "start_time": "2024-11-15T18:10:39.570Z"
   },
   {
    "duration": 9,
    "start_time": "2024-11-15T18:10:39.577Z"
   },
   {
    "duration": 5,
    "start_time": "2024-11-15T18:10:39.587Z"
   },
   {
    "duration": 15,
    "start_time": "2024-11-15T18:10:39.594Z"
   },
   {
    "duration": 5,
    "start_time": "2024-11-15T18:10:39.611Z"
   },
   {
    "duration": 7,
    "start_time": "2024-11-15T18:10:39.618Z"
   },
   {
    "duration": 6,
    "start_time": "2024-11-15T18:10:39.626Z"
   },
   {
    "duration": 6,
    "start_time": "2024-11-15T18:10:39.633Z"
   },
   {
    "duration": 5,
    "start_time": "2024-11-15T18:10:39.640Z"
   },
   {
    "duration": 8,
    "start_time": "2024-11-15T18:10:39.646Z"
   },
   {
    "duration": 109,
    "start_time": "2024-11-15T18:10:39.656Z"
   },
   {
    "duration": 0,
    "start_time": "2024-11-15T18:10:39.767Z"
   },
   {
    "duration": 6,
    "start_time": "2024-11-15T18:10:50.027Z"
   },
   {
    "duration": 4,
    "start_time": "2024-11-15T18:10:55.378Z"
   },
   {
    "duration": 25,
    "start_time": "2024-11-15T18:10:56.886Z"
   },
   {
    "duration": 69,
    "start_time": "2024-11-15T18:39:50.965Z"
   },
   {
    "duration": 803,
    "start_time": "2024-11-18T09:19:38.352Z"
   },
   {
    "duration": 182,
    "start_time": "2024-11-18T09:19:39.158Z"
   },
   {
    "duration": 26,
    "start_time": "2024-11-18T09:19:39.341Z"
   },
   {
    "duration": 15,
    "start_time": "2024-11-18T09:19:39.371Z"
   },
   {
    "duration": 72,
    "start_time": "2024-11-18T09:19:39.387Z"
   },
   {
    "duration": 1690,
    "start_time": "2024-11-18T09:19:39.462Z"
   },
   {
    "duration": 28,
    "start_time": "2024-11-18T09:19:41.154Z"
   },
   {
    "duration": 9,
    "start_time": "2024-11-18T09:19:41.183Z"
   },
   {
    "duration": 27,
    "start_time": "2024-11-18T09:19:41.193Z"
   },
   {
    "duration": 9,
    "start_time": "2024-11-18T09:19:41.222Z"
   },
   {
    "duration": 32,
    "start_time": "2024-11-18T09:19:41.233Z"
   },
   {
    "duration": 8,
    "start_time": "2024-11-18T09:19:41.267Z"
   },
   {
    "duration": 9,
    "start_time": "2024-11-18T09:19:41.276Z"
   },
   {
    "duration": 72,
    "start_time": "2024-11-18T09:19:41.286Z"
   },
   {
    "duration": 8,
    "start_time": "2024-11-18T09:19:41.360Z"
   },
   {
    "duration": 24,
    "start_time": "2024-11-18T09:19:41.370Z"
   },
   {
    "duration": 5,
    "start_time": "2024-11-18T09:19:41.395Z"
   },
   {
    "duration": 9,
    "start_time": "2024-11-18T09:19:41.402Z"
   },
   {
    "duration": 4,
    "start_time": "2024-11-18T09:19:41.412Z"
   },
   {
    "duration": 7,
    "start_time": "2024-11-18T09:19:41.417Z"
   },
   {
    "duration": 40,
    "start_time": "2024-11-18T09:19:41.426Z"
   },
   {
    "duration": 19,
    "start_time": "2024-11-18T09:19:41.468Z"
   },
   {
    "duration": 4,
    "start_time": "2024-11-18T09:19:41.488Z"
   },
   {
    "duration": 18,
    "start_time": "2024-11-18T09:19:41.493Z"
   },
   {
    "duration": 5,
    "start_time": "2024-11-18T09:19:41.512Z"
   },
   {
    "duration": 28,
    "start_time": "2024-11-18T09:19:41.519Z"
   },
   {
    "duration": 5,
    "start_time": "2024-11-18T10:30:21.254Z"
   },
   {
    "duration": 6,
    "start_time": "2024-11-18T10:30:30.203Z"
   },
   {
    "duration": 4,
    "start_time": "2024-11-18T10:30:35.312Z"
   },
   {
    "duration": 5,
    "start_time": "2024-11-18T10:30:44.242Z"
   },
   {
    "duration": 5,
    "start_time": "2024-11-18T10:30:47.234Z"
   },
   {
    "duration": 5,
    "start_time": "2024-11-18T10:30:50.732Z"
   },
   {
    "duration": 5,
    "start_time": "2024-11-18T10:30:53.022Z"
   },
   {
    "duration": 6,
    "start_time": "2024-11-18T10:30:54.511Z"
   },
   {
    "duration": 6,
    "start_time": "2024-11-18T10:30:55.503Z"
   },
   {
    "duration": 5,
    "start_time": "2024-11-18T10:30:56.622Z"
   },
   {
    "duration": 6,
    "start_time": "2024-11-18T10:31:07.890Z"
   },
   {
    "duration": 1093,
    "start_time": "2024-11-18T10:33:44.771Z"
   },
   {
    "duration": 941,
    "start_time": "2024-11-18T10:33:57.482Z"
   },
   {
    "duration": 2,
    "start_time": "2024-11-18T10:37:25.584Z"
   },
   {
    "duration": 21,
    "start_time": "2024-11-18T10:37:34.899Z"
   },
   {
    "duration": 864,
    "start_time": "2024-11-19T08:22:24.611Z"
   },
   {
    "duration": 205,
    "start_time": "2024-11-19T08:22:25.478Z"
   },
   {
    "duration": 29,
    "start_time": "2024-11-19T08:22:25.685Z"
   },
   {
    "duration": 17,
    "start_time": "2024-11-19T08:22:25.715Z"
   },
   {
    "duration": 97,
    "start_time": "2024-11-19T08:22:25.734Z"
   },
   {
    "duration": 2015,
    "start_time": "2024-11-19T08:22:25.833Z"
   },
   {
    "duration": 25,
    "start_time": "2024-11-19T08:22:27.850Z"
   },
   {
    "duration": 9,
    "start_time": "2024-11-19T08:22:27.877Z"
   },
   {
    "duration": 32,
    "start_time": "2024-11-19T08:22:27.887Z"
   },
   {
    "duration": 10,
    "start_time": "2024-11-19T08:22:27.920Z"
   },
   {
    "duration": 37,
    "start_time": "2024-11-19T08:22:27.932Z"
   },
   {
    "duration": 6,
    "start_time": "2024-11-19T08:22:27.971Z"
   },
   {
    "duration": 9,
    "start_time": "2024-11-19T08:22:27.978Z"
   },
   {
    "duration": 82,
    "start_time": "2024-11-19T08:22:27.990Z"
   },
   {
    "duration": 6,
    "start_time": "2024-11-19T08:22:28.074Z"
   },
   {
    "duration": 26,
    "start_time": "2024-11-19T08:22:28.082Z"
   },
   {
    "duration": 6,
    "start_time": "2024-11-19T08:22:28.109Z"
   },
   {
    "duration": 8,
    "start_time": "2024-11-19T08:22:28.117Z"
   },
   {
    "duration": 3,
    "start_time": "2024-11-19T08:22:28.126Z"
   },
   {
    "duration": 39,
    "start_time": "2024-11-19T08:22:28.131Z"
   },
   {
    "duration": 69,
    "start_time": "2024-11-19T08:22:28.172Z"
   },
   {
    "duration": 12,
    "start_time": "2024-11-19T08:22:28.242Z"
   },
   {
    "duration": 6,
    "start_time": "2024-11-19T08:22:28.255Z"
   },
   {
    "duration": 10,
    "start_time": "2024-11-19T08:22:28.262Z"
   },
   {
    "duration": 7,
    "start_time": "2024-11-19T08:22:28.273Z"
   },
   {
    "duration": 30,
    "start_time": "2024-11-19T08:22:28.281Z"
   },
   {
    "duration": 805,
    "start_time": "2024-11-20T06:56:14.507Z"
   },
   {
    "duration": 201,
    "start_time": "2024-11-20T06:56:15.314Z"
   },
   {
    "duration": 27,
    "start_time": "2024-11-20T06:56:15.516Z"
   },
   {
    "duration": 42,
    "start_time": "2024-11-20T06:56:15.545Z"
   },
   {
    "duration": 87,
    "start_time": "2024-11-20T06:56:15.588Z"
   },
   {
    "duration": 1871,
    "start_time": "2024-11-20T06:56:15.677Z"
   },
   {
    "duration": 26,
    "start_time": "2024-11-20T06:56:17.550Z"
   },
   {
    "duration": 11,
    "start_time": "2024-11-20T06:56:17.578Z"
   },
   {
    "duration": 33,
    "start_time": "2024-11-20T06:56:17.590Z"
   },
   {
    "duration": 10,
    "start_time": "2024-11-20T06:56:17.626Z"
   },
   {
    "duration": 38,
    "start_time": "2024-11-20T06:56:17.638Z"
   },
   {
    "duration": 7,
    "start_time": "2024-11-20T06:56:17.678Z"
   },
   {
    "duration": 11,
    "start_time": "2024-11-20T06:56:17.686Z"
   },
   {
    "duration": 100,
    "start_time": "2024-11-20T06:56:17.698Z"
   },
   {
    "duration": 7,
    "start_time": "2024-11-20T06:56:17.801Z"
   },
   {
    "duration": 30,
    "start_time": "2024-11-20T06:56:17.810Z"
   },
   {
    "duration": 27,
    "start_time": "2024-11-20T06:56:17.842Z"
   },
   {
    "duration": 30,
    "start_time": "2024-11-20T06:56:17.870Z"
   },
   {
    "duration": 3,
    "start_time": "2024-11-20T06:56:17.902Z"
   },
   {
    "duration": 7,
    "start_time": "2024-11-20T06:56:17.907Z"
   },
   {
    "duration": 7,
    "start_time": "2024-11-20T06:56:17.915Z"
   },
   {
    "duration": 7,
    "start_time": "2024-11-20T06:56:17.924Z"
   },
   {
    "duration": 8,
    "start_time": "2024-11-20T06:56:17.933Z"
   },
   {
    "duration": 10,
    "start_time": "2024-11-20T06:56:17.965Z"
   },
   {
    "duration": 7,
    "start_time": "2024-11-20T06:56:17.976Z"
   },
   {
    "duration": 32,
    "start_time": "2024-11-20T06:56:17.984Z"
   },
   {
    "duration": 50,
    "start_time": "2024-11-21T09:40:48.476Z"
   },
   {
    "duration": 853,
    "start_time": "2024-11-21T09:40:52.926Z"
   },
   {
    "duration": 370,
    "start_time": "2024-11-21T09:40:53.782Z"
   },
   {
    "duration": 28,
    "start_time": "2024-11-21T09:40:54.154Z"
   },
   {
    "duration": 24,
    "start_time": "2024-11-21T09:40:54.185Z"
   },
   {
    "duration": 96,
    "start_time": "2024-11-21T09:40:54.210Z"
   },
   {
    "duration": 1956,
    "start_time": "2024-11-21T09:40:54.308Z"
   },
   {
    "duration": 26,
    "start_time": "2024-11-21T09:40:56.266Z"
   },
   {
    "duration": 10,
    "start_time": "2024-11-21T09:40:56.294Z"
   },
   {
    "duration": 32,
    "start_time": "2024-11-21T09:40:56.306Z"
   },
   {
    "duration": 10,
    "start_time": "2024-11-21T09:40:56.353Z"
   },
   {
    "duration": 21,
    "start_time": "2024-11-21T09:40:56.365Z"
   },
   {
    "duration": 6,
    "start_time": "2024-11-21T09:40:56.388Z"
   },
   {
    "duration": 10,
    "start_time": "2024-11-21T09:40:56.396Z"
   },
   {
    "duration": 91,
    "start_time": "2024-11-21T09:40:56.408Z"
   },
   {
    "duration": 7,
    "start_time": "2024-11-21T09:40:56.500Z"
   },
   {
    "duration": 45,
    "start_time": "2024-11-21T09:40:56.508Z"
   },
   {
    "duration": 5,
    "start_time": "2024-11-21T09:40:56.555Z"
   },
   {
    "duration": 9,
    "start_time": "2024-11-21T09:40:56.561Z"
   },
   {
    "duration": 15,
    "start_time": "2024-11-21T09:40:56.572Z"
   },
   {
    "duration": 15,
    "start_time": "2024-11-21T09:40:56.588Z"
   },
   {
    "duration": 12,
    "start_time": "2024-11-21T09:40:56.604Z"
   },
   {
    "duration": 6,
    "start_time": "2024-11-21T09:40:56.618Z"
   },
   {
    "duration": 5,
    "start_time": "2024-11-21T09:40:56.626Z"
   },
   {
    "duration": 26,
    "start_time": "2024-11-21T09:40:56.632Z"
   },
   {
    "duration": 6,
    "start_time": "2024-11-21T09:40:56.660Z"
   },
   {
    "duration": 30,
    "start_time": "2024-11-21T09:40:56.667Z"
   },
   {
    "duration": 5,
    "start_time": "2024-11-21T09:40:56.699Z"
   },
   {
    "duration": 4,
    "start_time": "2024-11-21T09:40:57.877Z"
   },
   {
    "duration": 19,
    "start_time": "2024-11-21T09:43:25.238Z"
   },
   {
    "duration": 289,
    "start_time": "2024-11-21T09:50:47.289Z"
   },
   {
    "duration": 244,
    "start_time": "2024-11-21T09:52:41.421Z"
   },
   {
    "duration": 20,
    "start_time": "2024-11-21T09:52:58.265Z"
   },
   {
    "duration": 733,
    "start_time": "2024-11-21T09:53:33.585Z"
   },
   {
    "duration": 3,
    "start_time": "2024-11-21T09:53:40.717Z"
   },
   {
    "duration": 133,
    "start_time": "2024-11-21T09:53:41.030Z"
   },
   {
    "duration": 27,
    "start_time": "2024-11-21T09:53:41.215Z"
   },
   {
    "duration": 16,
    "start_time": "2024-11-21T09:53:41.367Z"
   },
   {
    "duration": 79,
    "start_time": "2024-11-21T09:53:41.570Z"
   },
   {
    "duration": 1938,
    "start_time": "2024-11-21T09:53:41.717Z"
   },
   {
    "duration": 23,
    "start_time": "2024-11-21T09:53:43.658Z"
   },
   {
    "duration": 11,
    "start_time": "2024-11-21T09:53:43.683Z"
   },
   {
    "duration": 56,
    "start_time": "2024-11-21T09:53:43.697Z"
   },
   {
    "duration": 19,
    "start_time": "2024-11-21T09:53:43.755Z"
   },
   {
    "duration": 13,
    "start_time": "2024-11-21T09:53:43.776Z"
   },
   {
    "duration": 25,
    "start_time": "2024-11-21T09:53:43.791Z"
   },
   {
    "duration": 16,
    "start_time": "2024-11-21T09:53:43.818Z"
   },
   {
    "duration": 100,
    "start_time": "2024-11-21T09:53:43.837Z"
   },
   {
    "duration": 19,
    "start_time": "2024-11-21T09:53:43.940Z"
   },
   {
    "duration": 56,
    "start_time": "2024-11-21T09:53:43.961Z"
   },
   {
    "duration": 7,
    "start_time": "2024-11-21T09:53:44.329Z"
   },
   {
    "duration": 11,
    "start_time": "2024-11-21T09:53:44.405Z"
   },
   {
    "duration": 4,
    "start_time": "2024-11-21T09:53:44.466Z"
   },
   {
    "duration": 7,
    "start_time": "2024-11-21T09:53:45.056Z"
   },
   {
    "duration": 8,
    "start_time": "2024-11-21T09:53:45.251Z"
   },
   {
    "duration": 7,
    "start_time": "2024-11-21T09:53:45.627Z"
   },
   {
    "duration": 7,
    "start_time": "2024-11-21T09:53:46.355Z"
   },
   {
    "duration": 14,
    "start_time": "2024-11-21T09:53:46.952Z"
   },
   {
    "duration": 8,
    "start_time": "2024-11-21T09:53:48.110Z"
   },
   {
    "duration": 42,
    "start_time": "2024-11-21T09:53:48.478Z"
   },
   {
    "duration": 4,
    "start_time": "2024-11-21T09:53:49.532Z"
   },
   {
    "duration": 13,
    "start_time": "2024-11-21T09:53:50.354Z"
   },
   {
    "duration": 365,
    "start_time": "2024-11-21T09:54:13.112Z"
   },
   {
    "duration": 373,
    "start_time": "2024-11-21T09:54:31.449Z"
   },
   {
    "duration": 454,
    "start_time": "2024-11-21T09:56:34.608Z"
   },
   {
    "duration": 351,
    "start_time": "2024-11-21T09:58:01.766Z"
   },
   {
    "duration": 5,
    "start_time": "2024-11-21T10:00:23.533Z"
   },
   {
    "duration": 365,
    "start_time": "2024-11-21T10:08:28.425Z"
   },
   {
    "duration": 1129,
    "start_time": "2024-11-21T10:13:59.942Z"
   },
   {
    "duration": 956,
    "start_time": "2024-11-21T10:14:39.217Z"
   },
   {
    "duration": 13,
    "start_time": "2024-11-21T10:14:55.845Z"
   },
   {
    "duration": 55,
    "start_time": "2024-11-21T10:15:01.515Z"
   },
   {
    "duration": 971,
    "start_time": "2024-11-21T10:19:33.481Z"
   },
   {
    "duration": 1548,
    "start_time": "2024-11-21T10:22:43.827Z"
   },
   {
    "duration": 985,
    "start_time": "2024-11-21T10:22:48.168Z"
   },
   {
    "duration": 342,
    "start_time": "2024-11-21T10:22:58.774Z"
   },
   {
    "duration": 985,
    "start_time": "2024-11-21T10:23:11.349Z"
   },
   {
    "duration": 973,
    "start_time": "2024-11-21T10:23:20.266Z"
   },
   {
    "duration": 912,
    "start_time": "2024-11-21T10:23:52.054Z"
   },
   {
    "duration": 3,
    "start_time": "2024-11-21T10:24:54.725Z"
   },
   {
    "duration": 5,
    "start_time": "2024-11-21T10:25:30.275Z"
   },
   {
    "duration": 5,
    "start_time": "2024-11-21T10:25:39.111Z"
   },
   {
    "duration": 43,
    "start_time": "2024-11-21T10:25:42.567Z"
   },
   {
    "duration": 43,
    "start_time": "2024-11-21T10:26:47.865Z"
   },
   {
    "duration": 14,
    "start_time": "2024-11-21T10:27:12.680Z"
   },
   {
    "duration": 15,
    "start_time": "2024-11-21T10:28:10.451Z"
   },
   {
    "duration": 15,
    "start_time": "2024-11-21T10:28:16.934Z"
   },
   {
    "duration": 14,
    "start_time": "2024-11-21T10:28:52.355Z"
   },
   {
    "duration": 45,
    "start_time": "2024-11-21T10:28:59.187Z"
   },
   {
    "duration": 13,
    "start_time": "2024-11-21T10:35:36.535Z"
   },
   {
    "duration": 31,
    "start_time": "2024-11-21T10:38:20.921Z"
   },
   {
    "duration": 937,
    "start_time": "2024-11-21T10:42:25.084Z"
   },
   {
    "duration": 12,
    "start_time": "2024-11-21T10:43:09.804Z"
   },
   {
    "duration": 2814,
    "start_time": "2024-11-21T10:43:20.969Z"
   },
   {
    "duration": 1194,
    "start_time": "2024-11-21T10:43:30.689Z"
   },
   {
    "duration": 14,
    "start_time": "2024-11-21T10:45:01.842Z"
   },
   {
    "duration": 3,
    "start_time": "2024-11-21T10:45:23.370Z"
   },
   {
    "duration": 121,
    "start_time": "2024-11-21T10:45:25.077Z"
   },
   {
    "duration": 29,
    "start_time": "2024-11-21T10:45:28.623Z"
   },
   {
    "duration": 16,
    "start_time": "2024-11-21T10:45:31.585Z"
   },
   {
    "duration": 75,
    "start_time": "2024-11-21T10:45:34.573Z"
   },
   {
    "duration": 1967,
    "start_time": "2024-11-21T10:45:36.112Z"
   },
   {
    "duration": 34,
    "start_time": "2024-11-21T10:45:45.001Z"
   },
   {
    "duration": 16,
    "start_time": "2024-11-21T10:45:50.408Z"
   },
   {
    "duration": 40,
    "start_time": "2024-11-21T10:45:53.716Z"
   },
   {
    "duration": 11,
    "start_time": "2024-11-21T10:45:59.858Z"
   },
   {
    "duration": 11,
    "start_time": "2024-11-21T10:46:01.548Z"
   },
   {
    "duration": 6,
    "start_time": "2024-11-21T10:46:02.014Z"
   },
   {
    "duration": 12,
    "start_time": "2024-11-21T10:46:02.188Z"
   },
   {
    "duration": 61,
    "start_time": "2024-11-21T10:46:02.576Z"
   },
   {
    "duration": 8,
    "start_time": "2024-11-21T10:46:03.084Z"
   },
   {
    "duration": 27,
    "start_time": "2024-11-21T10:46:03.215Z"
   },
   {
    "duration": 6,
    "start_time": "2024-11-21T10:46:03.334Z"
   },
   {
    "duration": 8,
    "start_time": "2024-11-21T10:46:03.399Z"
   },
   {
    "duration": 3,
    "start_time": "2024-11-21T10:46:03.459Z"
   },
   {
    "duration": 6,
    "start_time": "2024-11-21T10:46:03.539Z"
   },
   {
    "duration": 6,
    "start_time": "2024-11-21T10:46:03.551Z"
   },
   {
    "duration": 7,
    "start_time": "2024-11-21T10:46:03.619Z"
   },
   {
    "duration": 7,
    "start_time": "2024-11-21T10:46:03.676Z"
   },
   {
    "duration": 9,
    "start_time": "2024-11-21T10:46:03.719Z"
   },
   {
    "duration": 7,
    "start_time": "2024-11-21T10:46:03.786Z"
   },
   {
    "duration": 1098,
    "start_time": "2024-11-21T10:46:03.857Z"
   },
   {
    "duration": 0,
    "start_time": "2024-11-21T10:46:04.957Z"
   },
   {
    "duration": 0,
    "start_time": "2024-11-21T10:46:04.958Z"
   },
   {
    "duration": 0,
    "start_time": "2024-11-21T10:46:04.959Z"
   },
   {
    "duration": 40,
    "start_time": "2024-11-21T10:46:05.134Z"
   },
   {
    "duration": 12,
    "start_time": "2024-11-21T10:46:07.524Z"
   },
   {
    "duration": 12,
    "start_time": "2024-11-21T10:46:51.054Z"
   },
   {
    "duration": 12,
    "start_time": "2024-11-21T10:47:42.010Z"
   },
   {
    "duration": 15,
    "start_time": "2024-11-21T10:47:55.988Z"
   },
   {
    "duration": 6,
    "start_time": "2024-11-21T10:47:58.518Z"
   },
   {
    "duration": 11,
    "start_time": "2024-11-21T10:48:00.011Z"
   },
   {
    "duration": 11,
    "start_time": "2024-11-21T10:48:26.430Z"
   },
   {
    "duration": 985,
    "start_time": "2024-11-21T10:48:56.553Z"
   },
   {
    "duration": 33,
    "start_time": "2024-11-21T10:49:24.351Z"
   },
   {
    "duration": 13,
    "start_time": "2024-11-21T10:49:43.302Z"
   },
   {
    "duration": 6,
    "start_time": "2024-11-21T10:49:50.591Z"
   },
   {
    "duration": 12,
    "start_time": "2024-11-21T10:49:53.541Z"
   },
   {
    "duration": 43,
    "start_time": "2024-11-21T10:49:58.824Z"
   },
   {
    "duration": 32,
    "start_time": "2024-11-21T10:51:58.916Z"
   },
   {
    "duration": 31,
    "start_time": "2024-11-21T10:52:14.640Z"
   },
   {
    "duration": 3,
    "start_time": "2024-11-21T10:52:39.112Z"
   },
   {
    "duration": 138,
    "start_time": "2024-11-21T10:52:39.117Z"
   },
   {
    "duration": 27,
    "start_time": "2024-11-21T10:52:39.257Z"
   },
   {
    "duration": 73,
    "start_time": "2024-11-21T10:52:39.286Z"
   },
   {
    "duration": 80,
    "start_time": "2024-11-21T10:52:39.361Z"
   },
   {
    "duration": 2022,
    "start_time": "2024-11-21T10:52:39.451Z"
   },
   {
    "duration": 22,
    "start_time": "2024-11-21T10:52:41.475Z"
   },
   {
    "duration": 10,
    "start_time": "2024-11-21T10:52:41.499Z"
   },
   {
    "duration": 52,
    "start_time": "2024-11-21T10:52:41.510Z"
   },
   {
    "duration": 43,
    "start_time": "2024-11-21T10:52:41.564Z"
   },
   {
    "duration": 12,
    "start_time": "2024-11-21T10:52:41.611Z"
   },
   {
    "duration": 7,
    "start_time": "2024-11-21T10:52:41.625Z"
   },
   {
    "duration": 11,
    "start_time": "2024-11-21T10:52:41.634Z"
   },
   {
    "duration": 64,
    "start_time": "2024-11-21T10:52:41.647Z"
   },
   {
    "duration": 5,
    "start_time": "2024-11-21T10:52:41.713Z"
   },
   {
    "duration": 48,
    "start_time": "2024-11-21T10:52:41.720Z"
   },
   {
    "duration": 52,
    "start_time": "2024-11-21T10:52:41.770Z"
   },
   {
    "duration": 8,
    "start_time": "2024-11-21T10:52:41.823Z"
   },
   {
    "duration": 8,
    "start_time": "2024-11-21T10:52:41.833Z"
   },
   {
    "duration": 26,
    "start_time": "2024-11-21T10:52:41.842Z"
   },
   {
    "duration": 14,
    "start_time": "2024-11-21T10:52:41.870Z"
   },
   {
    "duration": 15,
    "start_time": "2024-11-21T10:52:41.885Z"
   },
   {
    "duration": 5,
    "start_time": "2024-11-21T10:52:41.902Z"
   },
   {
    "duration": 9,
    "start_time": "2024-11-21T10:52:41.909Z"
   },
   {
    "duration": 6,
    "start_time": "2024-11-21T10:52:41.920Z"
   },
   {
    "duration": 31,
    "start_time": "2024-11-21T10:52:43.304Z"
   },
   {
    "duration": 5,
    "start_time": "2024-11-21T10:52:45.944Z"
   },
   {
    "duration": 13,
    "start_time": "2024-11-21T10:52:46.801Z"
   },
   {
    "duration": 344,
    "start_time": "2024-11-21T10:52:47.820Z"
   },
   {
    "duration": 44,
    "start_time": "2024-11-21T10:52:49.506Z"
   },
   {
    "duration": 17,
    "start_time": "2024-11-21T10:53:17.172Z"
   },
   {
    "duration": 37,
    "start_time": "2024-11-21T10:55:11.269Z"
   },
   {
    "duration": 4,
    "start_time": "2024-11-21T10:57:31.449Z"
   },
   {
    "duration": 194,
    "start_time": "2024-11-21T10:57:31.455Z"
   },
   {
    "duration": 28,
    "start_time": "2024-11-21T10:57:31.650Z"
   },
   {
    "duration": 46,
    "start_time": "2024-11-21T10:57:31.680Z"
   },
   {
    "duration": 73,
    "start_time": "2024-11-21T10:57:31.728Z"
   },
   {
    "duration": 1927,
    "start_time": "2024-11-21T10:57:31.803Z"
   },
   {
    "duration": 33,
    "start_time": "2024-11-21T10:57:33.732Z"
   },
   {
    "duration": 39,
    "start_time": "2024-11-21T10:57:33.767Z"
   },
   {
    "duration": 62,
    "start_time": "2024-11-21T10:57:33.808Z"
   },
   {
    "duration": 48,
    "start_time": "2024-11-21T10:57:33.874Z"
   },
   {
    "duration": 36,
    "start_time": "2024-11-21T10:57:33.925Z"
   },
   {
    "duration": 11,
    "start_time": "2024-11-21T10:57:33.963Z"
   },
   {
    "duration": 29,
    "start_time": "2024-11-21T10:57:33.979Z"
   },
   {
    "duration": 72,
    "start_time": "2024-11-21T10:57:34.010Z"
   },
   {
    "duration": 31,
    "start_time": "2024-11-21T10:57:34.084Z"
   },
   {
    "duration": 33,
    "start_time": "2024-11-21T10:57:34.117Z"
   },
   {
    "duration": 7,
    "start_time": "2024-11-21T10:57:34.152Z"
   },
   {
    "duration": 17,
    "start_time": "2024-11-21T10:57:34.160Z"
   },
   {
    "duration": 20,
    "start_time": "2024-11-21T10:57:34.179Z"
   },
   {
    "duration": 20,
    "start_time": "2024-11-21T10:57:34.201Z"
   },
   {
    "duration": 14,
    "start_time": "2024-11-21T10:57:34.223Z"
   },
   {
    "duration": 7,
    "start_time": "2024-11-21T10:57:34.238Z"
   },
   {
    "duration": 5,
    "start_time": "2024-11-21T10:57:34.247Z"
   },
   {
    "duration": 20,
    "start_time": "2024-11-21T10:57:34.254Z"
   },
   {
    "duration": 48,
    "start_time": "2024-11-21T10:57:34.276Z"
   },
   {
    "duration": 934,
    "start_time": "2024-11-21T10:57:34.326Z"
   },
   {
    "duration": 0,
    "start_time": "2024-11-21T10:57:35.262Z"
   },
   {
    "duration": 0,
    "start_time": "2024-11-21T10:57:35.263Z"
   },
   {
    "duration": 0,
    "start_time": "2024-11-21T10:57:35.265Z"
   },
   {
    "duration": 0,
    "start_time": "2024-11-21T10:57:35.266Z"
   },
   {
    "duration": 0,
    "start_time": "2024-11-21T10:57:35.267Z"
   },
   {
    "duration": 12,
    "start_time": "2024-11-21T10:57:40.422Z"
   },
   {
    "duration": 3,
    "start_time": "2024-11-21T10:57:46.661Z"
   },
   {
    "duration": 121,
    "start_time": "2024-11-21T10:57:47.248Z"
   },
   {
    "duration": 25,
    "start_time": "2024-11-21T10:57:47.559Z"
   },
   {
    "duration": 16,
    "start_time": "2024-11-21T10:57:48.648Z"
   },
   {
    "duration": 74,
    "start_time": "2024-11-21T10:57:49.120Z"
   },
   {
    "duration": 1961,
    "start_time": "2024-11-21T10:57:49.521Z"
   },
   {
    "duration": 23,
    "start_time": "2024-11-21T10:57:51.484Z"
   },
   {
    "duration": 9,
    "start_time": "2024-11-21T10:57:51.509Z"
   },
   {
    "duration": 32,
    "start_time": "2024-11-21T10:57:52.003Z"
   },
   {
    "duration": 11,
    "start_time": "2024-11-21T10:57:52.907Z"
   },
   {
    "duration": 17,
    "start_time": "2024-11-21T10:57:53.840Z"
   },
   {
    "duration": 6,
    "start_time": "2024-11-21T10:57:54.680Z"
   },
   {
    "duration": 9,
    "start_time": "2024-11-21T10:57:55.082Z"
   },
   {
    "duration": 63,
    "start_time": "2024-11-21T10:57:55.821Z"
   },
   {
    "duration": 7,
    "start_time": "2024-11-21T10:57:56.211Z"
   },
   {
    "duration": 27,
    "start_time": "2024-11-21T10:57:57.570Z"
   },
   {
    "duration": 6,
    "start_time": "2024-11-21T10:57:58.742Z"
   },
   {
    "duration": 8,
    "start_time": "2024-11-21T10:57:59.394Z"
   },
   {
    "duration": 3,
    "start_time": "2024-11-21T10:58:00.205Z"
   },
   {
    "duration": 6,
    "start_time": "2024-11-21T10:58:00.924Z"
   },
   {
    "duration": 6,
    "start_time": "2024-11-21T10:58:01.361Z"
   },
   {
    "duration": 6,
    "start_time": "2024-11-21T10:58:02.220Z"
   },
   {
    "duration": 6,
    "start_time": "2024-11-21T10:58:03.085Z"
   },
   {
    "duration": 10,
    "start_time": "2024-11-21T10:58:03.607Z"
   },
   {
    "duration": 7,
    "start_time": "2024-11-21T10:58:04.581Z"
   },
   {
    "duration": 1049,
    "start_time": "2024-11-21T10:58:05.668Z"
   },
   {
    "duration": 3,
    "start_time": "2024-11-21T12:50:01.888Z"
   },
   {
    "duration": 144,
    "start_time": "2024-11-21T12:50:01.893Z"
   },
   {
    "duration": 28,
    "start_time": "2024-11-21T12:50:02.039Z"
   },
   {
    "duration": 51,
    "start_time": "2024-11-21T12:50:02.070Z"
   },
   {
    "duration": 85,
    "start_time": "2024-11-21T12:50:02.123Z"
   },
   {
    "duration": 1884,
    "start_time": "2024-11-21T12:50:02.209Z"
   },
   {
    "duration": 23,
    "start_time": "2024-11-21T12:50:04.095Z"
   },
   {
    "duration": 30,
    "start_time": "2024-11-21T12:50:04.120Z"
   },
   {
    "duration": 31,
    "start_time": "2024-11-21T12:50:04.152Z"
   },
   {
    "duration": 24,
    "start_time": "2024-11-21T12:50:04.185Z"
   },
   {
    "duration": 32,
    "start_time": "2024-11-21T12:50:04.211Z"
   },
   {
    "duration": 7,
    "start_time": "2024-11-21T12:50:04.245Z"
   },
   {
    "duration": 11,
    "start_time": "2024-11-21T12:50:04.254Z"
   },
   {
    "duration": 115,
    "start_time": "2024-11-21T12:50:04.269Z"
   },
   {
    "duration": 6,
    "start_time": "2024-11-21T12:50:04.386Z"
   },
   {
    "duration": 29,
    "start_time": "2024-11-21T12:50:04.393Z"
   },
   {
    "duration": 12,
    "start_time": "2024-11-21T12:50:04.424Z"
   },
   {
    "duration": 20,
    "start_time": "2024-11-21T12:50:04.438Z"
   },
   {
    "duration": 4,
    "start_time": "2024-11-21T12:50:04.459Z"
   },
   {
    "duration": 7,
    "start_time": "2024-11-21T12:50:04.464Z"
   },
   {
    "duration": 6,
    "start_time": "2024-11-21T12:50:04.472Z"
   },
   {
    "duration": 19,
    "start_time": "2024-11-21T12:50:04.479Z"
   },
   {
    "duration": 6,
    "start_time": "2024-11-21T12:50:04.500Z"
   },
   {
    "duration": 14,
    "start_time": "2024-11-21T12:50:04.507Z"
   },
   {
    "duration": 33,
    "start_time": "2024-11-21T12:50:04.522Z"
   },
   {
    "duration": 1219,
    "start_time": "2024-11-21T12:50:04.556Z"
   },
   {
    "duration": 0,
    "start_time": "2024-11-21T12:50:05.777Z"
   },
   {
    "duration": 0,
    "start_time": "2024-11-21T12:50:05.778Z"
   },
   {
    "duration": 0,
    "start_time": "2024-11-21T12:50:05.779Z"
   },
   {
    "duration": 0,
    "start_time": "2024-11-21T12:50:05.780Z"
   },
   {
    "duration": 0,
    "start_time": "2024-11-21T12:50:05.781Z"
   },
   {
    "duration": 3,
    "start_time": "2024-11-21T12:50:09.661Z"
   },
   {
    "duration": 130,
    "start_time": "2024-11-21T12:50:11.226Z"
   },
   {
    "duration": 27,
    "start_time": "2024-11-21T12:50:11.877Z"
   },
   {
    "duration": 17,
    "start_time": "2024-11-21T12:50:12.567Z"
   },
   {
    "duration": 77,
    "start_time": "2024-11-21T12:50:14.447Z"
   },
   {
    "duration": 2050,
    "start_time": "2024-11-21T12:50:15.179Z"
   },
   {
    "duration": 31,
    "start_time": "2024-11-21T12:50:17.231Z"
   },
   {
    "duration": 11,
    "start_time": "2024-11-21T12:50:21.207Z"
   },
   {
    "duration": 31,
    "start_time": "2024-11-21T12:50:23.527Z"
   },
   {
    "duration": 10,
    "start_time": "2024-11-21T12:50:25.937Z"
   },
   {
    "duration": 11,
    "start_time": "2024-11-21T12:50:27.707Z"
   },
   {
    "duration": 6,
    "start_time": "2024-11-21T12:50:29.341Z"
   },
   {
    "duration": 9,
    "start_time": "2024-11-21T12:50:30.101Z"
   },
   {
    "duration": 66,
    "start_time": "2024-11-21T12:50:31.366Z"
   },
   {
    "duration": 6,
    "start_time": "2024-11-21T12:50:31.783Z"
   },
   {
    "duration": 28,
    "start_time": "2024-11-21T12:50:33.706Z"
   },
   {
    "duration": 7,
    "start_time": "2024-11-21T12:50:35.507Z"
   },
   {
    "duration": 9,
    "start_time": "2024-11-21T12:50:36.331Z"
   },
   {
    "duration": 4,
    "start_time": "2024-11-21T12:50:37.296Z"
   },
   {
    "duration": 6,
    "start_time": "2024-11-21T12:50:38.561Z"
   },
   {
    "duration": 7,
    "start_time": "2024-11-21T12:50:39.320Z"
   },
   {
    "duration": 7,
    "start_time": "2024-11-21T12:50:40.529Z"
   },
   {
    "duration": 7,
    "start_time": "2024-11-21T12:50:41.326Z"
   },
   {
    "duration": 11,
    "start_time": "2024-11-21T12:50:42.458Z"
   },
   {
    "duration": 6,
    "start_time": "2024-11-21T12:50:43.739Z"
   },
   {
    "duration": 1011,
    "start_time": "2024-11-21T12:50:44.997Z"
   },
   {
    "duration": 1071,
    "start_time": "2024-11-21T12:51:07.044Z"
   },
   {
    "duration": 13,
    "start_time": "2024-11-21T12:51:37.189Z"
   },
   {
    "duration": 14,
    "start_time": "2024-11-21T12:51:40.221Z"
   },
   {
    "duration": 1853,
    "start_time": "2024-11-21T12:51:44.367Z"
   },
   {
    "duration": 36,
    "start_time": "2024-11-21T12:51:46.222Z"
   },
   {
    "duration": 10,
    "start_time": "2024-11-21T12:51:47.778Z"
   },
   {
    "duration": 12,
    "start_time": "2024-11-21T12:51:51.351Z"
   },
   {
    "duration": 3,
    "start_time": "2024-11-21T12:51:54.930Z"
   },
   {
    "duration": 154,
    "start_time": "2024-11-21T12:51:54.934Z"
   },
   {
    "duration": 26,
    "start_time": "2024-11-21T12:51:55.089Z"
   },
   {
    "duration": 36,
    "start_time": "2024-11-21T12:51:55.117Z"
   },
   {
    "duration": 78,
    "start_time": "2024-11-21T12:51:55.156Z"
   },
   {
    "duration": 2099,
    "start_time": "2024-11-21T12:51:55.236Z"
   },
   {
    "duration": 33,
    "start_time": "2024-11-21T12:51:57.336Z"
   },
   {
    "duration": 11,
    "start_time": "2024-11-21T12:51:57.370Z"
   },
   {
    "duration": 48,
    "start_time": "2024-11-21T12:51:57.382Z"
   },
   {
    "duration": 21,
    "start_time": "2024-11-21T12:51:57.432Z"
   },
   {
    "duration": 12,
    "start_time": "2024-11-21T12:51:57.454Z"
   },
   {
    "duration": 6,
    "start_time": "2024-11-21T12:51:57.467Z"
   },
   {
    "duration": 10,
    "start_time": "2024-11-21T12:51:57.474Z"
   },
   {
    "duration": 85,
    "start_time": "2024-11-21T12:51:57.486Z"
   },
   {
    "duration": 6,
    "start_time": "2024-11-21T12:51:57.573Z"
   },
   {
    "duration": 37,
    "start_time": "2024-11-21T12:51:57.581Z"
   },
   {
    "duration": 17,
    "start_time": "2024-11-21T12:51:57.619Z"
   },
   {
    "duration": 54,
    "start_time": "2024-11-21T12:51:57.638Z"
   },
   {
    "duration": 5,
    "start_time": "2024-11-21T12:51:57.694Z"
   },
   {
    "duration": 7,
    "start_time": "2024-11-21T12:51:57.701Z"
   },
   {
    "duration": 7,
    "start_time": "2024-11-21T12:51:57.709Z"
   },
   {
    "duration": 10,
    "start_time": "2024-11-21T12:51:57.718Z"
   },
   {
    "duration": 5,
    "start_time": "2024-11-21T12:51:57.730Z"
   },
   {
    "duration": 9,
    "start_time": "2024-11-21T12:51:57.736Z"
   },
   {
    "duration": 6,
    "start_time": "2024-11-21T12:51:57.747Z"
   },
   {
    "duration": 30,
    "start_time": "2024-11-21T12:51:57.754Z"
   },
   {
    "duration": 5,
    "start_time": "2024-11-21T12:51:57.786Z"
   },
   {
    "duration": 81,
    "start_time": "2024-11-21T12:51:57.793Z"
   },
   {
    "duration": 346,
    "start_time": "2024-11-21T12:51:57.875Z"
   },
   {
    "duration": 6,
    "start_time": "2024-11-21T12:51:58.223Z"
   },
   {
    "duration": 44,
    "start_time": "2024-11-21T12:51:58.231Z"
   },
   {
    "duration": 14,
    "start_time": "2024-11-21T13:01:02.376Z"
   },
   {
    "duration": 3,
    "start_time": "2024-11-21T13:01:06.869Z"
   },
   {
    "duration": 156,
    "start_time": "2024-11-21T13:01:06.874Z"
   },
   {
    "duration": 35,
    "start_time": "2024-11-21T13:01:07.032Z"
   },
   {
    "duration": 22,
    "start_time": "2024-11-21T13:01:07.069Z"
   },
   {
    "duration": 93,
    "start_time": "2024-11-21T13:01:07.094Z"
   },
   {
    "duration": 1844,
    "start_time": "2024-11-21T13:01:07.189Z"
   },
   {
    "duration": 31,
    "start_time": "2024-11-21T13:01:09.034Z"
   },
   {
    "duration": 10,
    "start_time": "2024-11-21T13:01:09.067Z"
   },
   {
    "duration": 31,
    "start_time": "2024-11-21T13:01:09.078Z"
   },
   {
    "duration": 22,
    "start_time": "2024-11-21T13:01:09.111Z"
   },
   {
    "duration": 19,
    "start_time": "2024-11-21T13:01:09.135Z"
   },
   {
    "duration": 6,
    "start_time": "2024-11-21T13:01:09.155Z"
   },
   {
    "duration": 15,
    "start_time": "2024-11-21T13:01:09.162Z"
   },
   {
    "duration": 85,
    "start_time": "2024-11-21T13:01:09.180Z"
   },
   {
    "duration": 7,
    "start_time": "2024-11-21T13:01:09.267Z"
   },
   {
    "duration": 28,
    "start_time": "2024-11-21T13:01:09.277Z"
   },
   {
    "duration": 10,
    "start_time": "2024-11-21T13:01:09.307Z"
   },
   {
    "duration": 34,
    "start_time": "2024-11-21T13:01:09.319Z"
   },
   {
    "duration": 4,
    "start_time": "2024-11-21T13:01:09.355Z"
   },
   {
    "duration": 8,
    "start_time": "2024-11-21T13:01:09.360Z"
   },
   {
    "duration": 6,
    "start_time": "2024-11-21T13:01:09.370Z"
   },
   {
    "duration": 6,
    "start_time": "2024-11-21T13:01:09.378Z"
   },
   {
    "duration": 6,
    "start_time": "2024-11-21T13:01:09.385Z"
   },
   {
    "duration": 9,
    "start_time": "2024-11-21T13:01:09.392Z"
   },
   {
    "duration": 51,
    "start_time": "2024-11-21T13:01:09.402Z"
   },
   {
    "duration": 31,
    "start_time": "2024-11-21T13:01:09.455Z"
   },
   {
    "duration": 5,
    "start_time": "2024-11-21T13:01:09.488Z"
   },
   {
    "duration": 14,
    "start_time": "2024-11-21T13:01:09.495Z"
   },
   {
    "duration": 394,
    "start_time": "2024-11-21T13:01:09.510Z"
   },
   {
    "duration": 7,
    "start_time": "2024-11-21T13:01:09.906Z"
   },
   {
    "duration": 49,
    "start_time": "2024-11-21T13:01:09.914Z"
   },
   {
    "duration": 12,
    "start_time": "2024-11-21T13:01:29.426Z"
   },
   {
    "duration": 14,
    "start_time": "2024-11-21T13:01:32.280Z"
   },
   {
    "duration": 3,
    "start_time": "2024-11-21T13:01:38.540Z"
   },
   {
    "duration": 127,
    "start_time": "2024-11-21T13:01:38.545Z"
   },
   {
    "duration": 28,
    "start_time": "2024-11-21T13:01:38.674Z"
   },
   {
    "duration": 19,
    "start_time": "2024-11-21T13:01:38.704Z"
   },
   {
    "duration": 100,
    "start_time": "2024-11-21T13:01:38.726Z"
   },
   {
    "duration": 2191,
    "start_time": "2024-11-21T13:01:38.828Z"
   },
   {
    "duration": 32,
    "start_time": "2024-11-21T13:01:41.021Z"
   },
   {
    "duration": 10,
    "start_time": "2024-11-21T13:01:41.055Z"
   },
   {
    "duration": 32,
    "start_time": "2024-11-21T13:01:41.066Z"
   },
   {
    "duration": 17,
    "start_time": "2024-11-21T13:01:41.100Z"
   },
   {
    "duration": 34,
    "start_time": "2024-11-21T13:01:41.119Z"
   },
   {
    "duration": 5,
    "start_time": "2024-11-21T13:01:41.154Z"
   },
   {
    "duration": 11,
    "start_time": "2024-11-21T13:01:41.161Z"
   },
   {
    "duration": 85,
    "start_time": "2024-11-21T13:01:41.174Z"
   },
   {
    "duration": 6,
    "start_time": "2024-11-21T13:01:41.261Z"
   },
   {
    "duration": 28,
    "start_time": "2024-11-21T13:01:41.268Z"
   },
   {
    "duration": 11,
    "start_time": "2024-11-21T13:01:41.297Z"
   },
   {
    "duration": 13,
    "start_time": "2024-11-21T13:01:41.310Z"
   },
   {
    "duration": 11,
    "start_time": "2024-11-21T13:01:41.324Z"
   },
   {
    "duration": 17,
    "start_time": "2024-11-21T13:01:41.336Z"
   },
   {
    "duration": 7,
    "start_time": "2024-11-21T13:01:41.354Z"
   },
   {
    "duration": 7,
    "start_time": "2024-11-21T13:01:41.363Z"
   },
   {
    "duration": 7,
    "start_time": "2024-11-21T13:01:41.371Z"
   },
   {
    "duration": 9,
    "start_time": "2024-11-21T13:01:41.379Z"
   },
   {
    "duration": 14,
    "start_time": "2024-11-21T13:01:41.390Z"
   },
   {
    "duration": 63,
    "start_time": "2024-11-21T13:01:41.406Z"
   },
   {
    "duration": 5,
    "start_time": "2024-11-21T13:01:41.470Z"
   },
   {
    "duration": 19,
    "start_time": "2024-11-21T13:01:41.477Z"
   },
   {
    "duration": 359,
    "start_time": "2024-11-21T13:01:41.499Z"
   },
   {
    "duration": 7,
    "start_time": "2024-11-21T13:01:41.860Z"
   },
   {
    "duration": 98,
    "start_time": "2024-11-21T13:01:41.868Z"
   },
   {
    "duration": 13,
    "start_time": "2024-11-21T13:01:47.847Z"
   },
   {
    "duration": 3,
    "start_time": "2024-11-21T13:01:53.278Z"
   },
   {
    "duration": 121,
    "start_time": "2024-11-21T13:01:53.338Z"
   },
   {
    "duration": 27,
    "start_time": "2024-11-21T13:01:53.461Z"
   },
   {
    "duration": 25,
    "start_time": "2024-11-21T13:01:53.490Z"
   },
   {
    "duration": 92,
    "start_time": "2024-11-21T13:01:53.517Z"
   },
   {
    "duration": 1942,
    "start_time": "2024-11-21T13:01:53.610Z"
   },
   {
    "duration": 23,
    "start_time": "2024-11-21T13:01:55.553Z"
   },
   {
    "duration": 9,
    "start_time": "2024-11-21T13:01:55.578Z"
   },
   {
    "duration": 40,
    "start_time": "2024-11-21T13:01:55.589Z"
   },
   {
    "duration": 29,
    "start_time": "2024-11-21T13:01:55.630Z"
   },
   {
    "duration": 78,
    "start_time": "2024-11-21T13:01:55.660Z"
   },
   {
    "duration": 6,
    "start_time": "2024-11-21T13:01:55.739Z"
   },
   {
    "duration": 19,
    "start_time": "2024-11-21T13:01:55.746Z"
   },
   {
    "duration": 78,
    "start_time": "2024-11-21T13:01:55.766Z"
   },
   {
    "duration": 7,
    "start_time": "2024-11-21T13:01:55.853Z"
   },
   {
    "duration": 87,
    "start_time": "2024-11-21T13:01:55.862Z"
   },
   {
    "duration": 8,
    "start_time": "2024-11-21T13:01:55.950Z"
   },
   {
    "duration": 11,
    "start_time": "2024-11-21T13:01:55.959Z"
   },
   {
    "duration": 9,
    "start_time": "2024-11-21T13:01:55.971Z"
   },
   {
    "duration": 10,
    "start_time": "2024-11-21T13:01:55.982Z"
   },
   {
    "duration": 7,
    "start_time": "2024-11-21T13:01:55.994Z"
   },
   {
    "duration": 10,
    "start_time": "2024-11-21T13:01:56.002Z"
   },
   {
    "duration": 7,
    "start_time": "2024-11-21T13:01:56.013Z"
   },
   {
    "duration": 38,
    "start_time": "2024-11-21T13:01:56.021Z"
   },
   {
    "duration": 8,
    "start_time": "2024-11-21T13:01:56.061Z"
   },
   {
    "duration": 35,
    "start_time": "2024-11-21T13:01:56.071Z"
   },
   {
    "duration": 5,
    "start_time": "2024-11-21T13:01:56.108Z"
   },
   {
    "duration": 39,
    "start_time": "2024-11-21T13:01:56.115Z"
   },
   {
    "duration": 361,
    "start_time": "2024-11-21T13:01:56.156Z"
   },
   {
    "duration": 7,
    "start_time": "2024-11-21T13:01:56.519Z"
   },
   {
    "duration": 49,
    "start_time": "2024-11-21T13:01:56.528Z"
   },
   {
    "duration": 929,
    "start_time": "2024-11-21T13:09:18.961Z"
   },
   {
    "duration": 1000,
    "start_time": "2024-11-21T13:09:25.074Z"
   },
   {
    "duration": 702,
    "start_time": "2024-11-21T13:09:29.829Z"
   },
   {
    "duration": 1054,
    "start_time": "2024-11-21T13:09:31.470Z"
   },
   {
    "duration": 1200,
    "start_time": "2024-11-21T13:10:06.605Z"
   },
   {
    "duration": 976,
    "start_time": "2024-11-21T13:10:30.231Z"
   },
   {
    "duration": 4,
    "start_time": "2024-11-21T13:10:36.825Z"
   },
   {
    "duration": 133,
    "start_time": "2024-11-21T13:10:37.756Z"
   },
   {
    "duration": 37,
    "start_time": "2024-11-21T13:10:38.035Z"
   },
   {
    "duration": 16,
    "start_time": "2024-11-21T13:10:38.534Z"
   },
   {
    "duration": 81,
    "start_time": "2024-11-21T13:10:39.016Z"
   },
   {
    "duration": 1951,
    "start_time": "2024-11-21T13:10:39.467Z"
   },
   {
    "duration": 40,
    "start_time": "2024-11-21T13:10:41.420Z"
   },
   {
    "duration": 16,
    "start_time": "2024-11-21T13:10:42.256Z"
   },
   {
    "duration": 32,
    "start_time": "2024-11-21T13:10:43.567Z"
   },
   {
    "duration": 10,
    "start_time": "2024-11-21T13:10:44.936Z"
   },
   {
    "duration": 15,
    "start_time": "2024-11-21T13:10:45.830Z"
   },
   {
    "duration": 6,
    "start_time": "2024-11-21T13:10:46.585Z"
   },
   {
    "duration": 11,
    "start_time": "2024-11-21T13:10:46.919Z"
   },
   {
    "duration": 59,
    "start_time": "2024-11-21T13:10:47.673Z"
   },
   {
    "duration": 6,
    "start_time": "2024-11-21T13:10:48.068Z"
   },
   {
    "duration": 38,
    "start_time": "2024-11-21T13:10:50.034Z"
   },
   {
    "duration": 5,
    "start_time": "2024-11-21T13:10:51.606Z"
   },
   {
    "duration": 8,
    "start_time": "2024-11-21T13:10:52.511Z"
   },
   {
    "duration": 4,
    "start_time": "2024-11-21T13:10:53.346Z"
   },
   {
    "duration": 6,
    "start_time": "2024-11-21T13:10:54.336Z"
   },
   {
    "duration": 6,
    "start_time": "2024-11-21T13:10:54.813Z"
   },
   {
    "duration": 7,
    "start_time": "2024-11-21T13:10:55.683Z"
   },
   {
    "duration": 6,
    "start_time": "2024-11-21T13:10:56.526Z"
   },
   {
    "duration": 10,
    "start_time": "2024-11-21T13:10:57.079Z"
   },
   {
    "duration": 7,
    "start_time": "2024-11-21T13:10:58.195Z"
   },
   {
    "duration": 30,
    "start_time": "2024-11-21T13:11:00.272Z"
   },
   {
    "duration": 5,
    "start_time": "2024-11-21T13:11:02.827Z"
   },
   {
    "duration": 16,
    "start_time": "2024-11-21T13:11:03.672Z"
   },
   {
    "duration": 394,
    "start_time": "2024-11-21T13:11:04.615Z"
   },
   {
    "duration": 7,
    "start_time": "2024-11-21T13:11:07.178Z"
   },
   {
    "duration": 8,
    "start_time": "2024-11-21T13:11:13.292Z"
   },
   {
    "duration": 40,
    "start_time": "2024-11-21T13:11:22.649Z"
   },
   {
    "duration": 46,
    "start_time": "2024-11-21T13:11:28.141Z"
   },
   {
    "duration": 35,
    "start_time": "2024-11-21T13:11:33.161Z"
   },
   {
    "duration": 67,
    "start_time": "2024-11-21T13:19:14.838Z"
   },
   {
    "duration": 4,
    "start_time": "2024-11-21T13:19:36.141Z"
   },
   {
    "duration": 5,
    "start_time": "2024-11-21T14:16:08.978Z"
   },
   {
    "duration": 65,
    "start_time": "2024-11-21T16:18:12.144Z"
   },
   {
    "duration": 53,
    "start_time": "2024-11-21T16:18:23.899Z"
   },
   {
    "duration": 5,
    "start_time": "2024-11-21T16:19:33.473Z"
   },
   {
    "duration": 47,
    "start_time": "2024-11-21T16:19:52.307Z"
   },
   {
    "duration": 4,
    "start_time": "2024-11-21T16:20:05.836Z"
   },
   {
    "duration": 54,
    "start_time": "2024-11-21T16:20:14.215Z"
   },
   {
    "duration": 53,
    "start_time": "2024-11-21T16:20:23.220Z"
   },
   {
    "duration": 5,
    "start_time": "2024-11-21T16:20:46.387Z"
   },
   {
    "duration": 979,
    "start_time": "2024-11-21T16:20:48.040Z"
   },
   {
    "duration": 54,
    "start_time": "2024-11-21T16:23:37.442Z"
   },
   {
    "duration": 182,
    "start_time": "2024-11-21T16:23:47.691Z"
   },
   {
    "duration": 4,
    "start_time": "2024-11-21T16:23:55.482Z"
   },
   {
    "duration": 3,
    "start_time": "2024-11-21T16:24:05.002Z"
   },
   {
    "duration": 149,
    "start_time": "2024-11-21T16:24:08.379Z"
   },
   {
    "duration": 5,
    "start_time": "2024-11-21T16:34:08.477Z"
   },
   {
    "duration": 147,
    "start_time": "2024-11-21T16:34:09.940Z"
   },
   {
    "duration": 5,
    "start_time": "2024-11-21T16:34:23.286Z"
   },
   {
    "duration": 172,
    "start_time": "2024-11-21T16:34:25.576Z"
   },
   {
    "duration": 811,
    "start_time": "2024-11-23T14:04:22.771Z"
   },
   {
    "duration": 189,
    "start_time": "2024-11-23T14:04:23.584Z"
   },
   {
    "duration": 21,
    "start_time": "2024-11-23T14:04:23.775Z"
   },
   {
    "duration": 38,
    "start_time": "2024-11-23T14:04:23.797Z"
   },
   {
    "duration": 59,
    "start_time": "2024-11-23T14:04:23.837Z"
   },
   {
    "duration": 1568,
    "start_time": "2024-11-23T14:04:23.897Z"
   },
   {
    "duration": 22,
    "start_time": "2024-11-23T14:04:25.467Z"
   },
   {
    "duration": 8,
    "start_time": "2024-11-23T14:04:25.490Z"
   },
   {
    "duration": 25,
    "start_time": "2024-11-23T14:04:25.500Z"
   },
   {
    "duration": 13,
    "start_time": "2024-11-23T14:04:25.527Z"
   },
   {
    "duration": 15,
    "start_time": "2024-11-23T14:04:25.542Z"
   },
   {
    "duration": 5,
    "start_time": "2024-11-23T14:04:25.559Z"
   },
   {
    "duration": 8,
    "start_time": "2024-11-23T14:04:25.565Z"
   },
   {
    "duration": 88,
    "start_time": "2024-11-23T14:04:25.576Z"
   },
   {
    "duration": 6,
    "start_time": "2024-11-23T14:04:25.665Z"
   },
   {
    "duration": 23,
    "start_time": "2024-11-23T14:04:25.672Z"
   },
   {
    "duration": 7,
    "start_time": "2024-11-23T14:04:25.712Z"
   },
   {
    "duration": 10,
    "start_time": "2024-11-23T14:04:25.721Z"
   },
   {
    "duration": 4,
    "start_time": "2024-11-23T14:04:25.733Z"
   },
   {
    "duration": 30,
    "start_time": "2024-11-23T14:04:25.738Z"
   },
   {
    "duration": 14,
    "start_time": "2024-11-23T14:04:25.769Z"
   },
   {
    "duration": 6,
    "start_time": "2024-11-23T14:04:25.784Z"
   },
   {
    "duration": 5,
    "start_time": "2024-11-23T14:04:25.791Z"
   },
   {
    "duration": 26,
    "start_time": "2024-11-23T14:04:25.797Z"
   },
   {
    "duration": 6,
    "start_time": "2024-11-23T14:04:25.825Z"
   },
   {
    "duration": 26,
    "start_time": "2024-11-23T14:04:25.832Z"
   },
   {
    "duration": 5,
    "start_time": "2024-11-23T14:04:25.860Z"
   },
   {
    "duration": 8,
    "start_time": "2024-11-23T14:04:25.866Z"
   },
   {
    "duration": 350,
    "start_time": "2024-11-23T14:04:25.875Z"
   },
   {
    "duration": 7,
    "start_time": "2024-11-23T14:04:26.227Z"
   },
   {
    "duration": 33,
    "start_time": "2024-11-23T14:04:26.235Z"
   },
   {
    "duration": 4,
    "start_time": "2024-11-23T14:04:26.270Z"
   },
   {
    "duration": 151,
    "start_time": "2024-11-23T14:04:26.277Z"
   },
   {
    "duration": 141,
    "start_time": "2024-11-23T14:10:34.577Z"
   },
   {
    "duration": 160,
    "start_time": "2024-11-23T14:10:37.055Z"
   },
   {
    "duration": 180,
    "start_time": "2024-11-23T14:11:35.792Z"
   },
   {
    "duration": 6,
    "start_time": "2024-11-23T14:15:50.502Z"
   },
   {
    "duration": 13,
    "start_time": "2024-11-23T14:16:37.274Z"
   },
   {
    "duration": 6,
    "start_time": "2024-11-23T14:17:06.389Z"
   },
   {
    "duration": 6,
    "start_time": "2024-11-23T14:17:15.413Z"
   },
   {
    "duration": 11,
    "start_time": "2024-11-23T14:19:23.516Z"
   },
   {
    "duration": 11,
    "start_time": "2024-11-23T14:24:26.729Z"
   },
   {
    "duration": 130,
    "start_time": "2024-11-23T14:24:45.371Z"
   },
   {
    "duration": 160,
    "start_time": "2024-11-23T14:24:55.091Z"
   },
   {
    "duration": 3,
    "start_time": "2024-11-23T14:25:06.067Z"
   },
   {
    "duration": 121,
    "start_time": "2024-11-23T14:25:06.072Z"
   },
   {
    "duration": 24,
    "start_time": "2024-11-23T14:25:06.195Z"
   },
   {
    "duration": 25,
    "start_time": "2024-11-23T14:25:06.221Z"
   },
   {
    "duration": 79,
    "start_time": "2024-11-23T14:25:06.247Z"
   },
   {
    "duration": 1546,
    "start_time": "2024-11-23T14:25:06.328Z"
   },
   {
    "duration": 18,
    "start_time": "2024-11-23T14:25:07.875Z"
   },
   {
    "duration": 39,
    "start_time": "2024-11-23T14:25:07.895Z"
   },
   {
    "duration": 25,
    "start_time": "2024-11-23T14:25:07.935Z"
   },
   {
    "duration": 7,
    "start_time": "2024-11-23T14:25:07.962Z"
   },
   {
    "duration": 8,
    "start_time": "2024-11-23T14:25:07.970Z"
   },
   {
    "duration": 11,
    "start_time": "2024-11-23T14:25:07.979Z"
   },
   {
    "duration": 8,
    "start_time": "2024-11-23T14:25:07.991Z"
   },
   {
    "duration": 61,
    "start_time": "2024-11-23T14:25:08.000Z"
   },
   {
    "duration": 6,
    "start_time": "2024-11-23T14:25:08.062Z"
   },
   {
    "duration": 28,
    "start_time": "2024-11-23T14:25:08.069Z"
   },
   {
    "duration": 6,
    "start_time": "2024-11-23T14:25:08.098Z"
   },
   {
    "duration": 10,
    "start_time": "2024-11-23T14:25:08.105Z"
   },
   {
    "duration": 3,
    "start_time": "2024-11-23T14:25:08.116Z"
   },
   {
    "duration": 11,
    "start_time": "2024-11-23T14:25:08.120Z"
   },
   {
    "duration": 4,
    "start_time": "2024-11-23T14:25:08.132Z"
   },
   {
    "duration": 5,
    "start_time": "2024-11-23T14:25:08.138Z"
   },
   {
    "duration": 9,
    "start_time": "2024-11-23T14:25:08.144Z"
   },
   {
    "duration": 8,
    "start_time": "2024-11-23T14:25:08.155Z"
   },
   {
    "duration": 10,
    "start_time": "2024-11-23T14:25:08.164Z"
   },
   {
    "duration": 43,
    "start_time": "2024-11-23T14:25:08.176Z"
   },
   {
    "duration": 4,
    "start_time": "2024-11-23T14:25:08.221Z"
   },
   {
    "duration": 8,
    "start_time": "2024-11-23T14:25:08.227Z"
   },
   {
    "duration": 381,
    "start_time": "2024-11-23T14:25:08.237Z"
   },
   {
    "duration": 7,
    "start_time": "2024-11-23T14:25:08.619Z"
   },
   {
    "duration": 36,
    "start_time": "2024-11-23T14:25:08.627Z"
   },
   {
    "duration": 4,
    "start_time": "2024-11-23T14:25:08.664Z"
   },
   {
    "duration": 155,
    "start_time": "2024-11-23T14:25:08.669Z"
   },
   {
    "duration": 142,
    "start_time": "2024-11-23T14:25:08.825Z"
   },
   {
    "duration": 142,
    "start_time": "2024-11-23T14:25:08.969Z"
   },
   {
    "duration": 14,
    "start_time": "2024-11-23T14:25:21.460Z"
   },
   {
    "duration": 18,
    "start_time": "2024-11-23T14:29:50.451Z"
   },
   {
    "duration": 28,
    "start_time": "2024-11-23T14:29:54.298Z"
   },
   {
    "duration": 6,
    "start_time": "2024-11-23T14:30:13.513Z"
   },
   {
    "duration": 9,
    "start_time": "2024-11-23T14:30:29.092Z"
   },
   {
    "duration": 7,
    "start_time": "2024-11-23T14:30:49.706Z"
   },
   {
    "duration": 7,
    "start_time": "2024-11-23T14:30:52.874Z"
   },
   {
    "duration": 7,
    "start_time": "2024-11-23T14:30:56.197Z"
   },
   {
    "duration": 3,
    "start_time": "2024-11-23T14:31:24.466Z"
   },
   {
    "duration": 1830,
    "start_time": "2024-11-23T14:31:53.880Z"
   },
   {
    "duration": 131,
    "start_time": "2024-11-23T14:32:11.185Z"
   },
   {
    "duration": 905,
    "start_time": "2024-12-10T09:25:56.234Z"
   },
   {
    "duration": 354,
    "start_time": "2024-12-10T09:25:57.141Z"
   },
   {
    "duration": 23,
    "start_time": "2024-12-10T09:25:57.497Z"
   },
   {
    "duration": 22,
    "start_time": "2024-12-10T09:25:57.522Z"
   },
   {
    "duration": 74,
    "start_time": "2024-12-10T09:25:57.547Z"
   },
   {
    "duration": 1778,
    "start_time": "2024-12-10T09:25:57.623Z"
   },
   {
    "duration": 25,
    "start_time": "2024-12-10T09:25:59.403Z"
   },
   {
    "duration": 9,
    "start_time": "2024-12-10T09:25:59.430Z"
   },
   {
    "duration": 45,
    "start_time": "2024-12-10T09:25:59.440Z"
   },
   {
    "duration": 9,
    "start_time": "2024-12-10T09:25:59.486Z"
   },
   {
    "duration": 18,
    "start_time": "2024-12-10T09:25:59.496Z"
   },
   {
    "duration": 6,
    "start_time": "2024-12-10T09:25:59.515Z"
   },
   {
    "duration": 10,
    "start_time": "2024-12-10T09:25:59.522Z"
   },
   {
    "duration": 71,
    "start_time": "2024-12-10T09:25:59.555Z"
   },
   {
    "duration": 6,
    "start_time": "2024-12-10T09:25:59.627Z"
   },
   {
    "duration": 47,
    "start_time": "2024-12-10T09:25:59.634Z"
   },
   {
    "duration": 9,
    "start_time": "2024-12-10T09:25:59.682Z"
   },
   {
    "duration": 7,
    "start_time": "2024-12-10T09:25:59.693Z"
   },
   {
    "duration": 3,
    "start_time": "2024-12-10T09:25:59.701Z"
   },
   {
    "duration": 5,
    "start_time": "2024-12-10T09:25:59.705Z"
   },
   {
    "duration": 6,
    "start_time": "2024-12-10T09:25:59.712Z"
   },
   {
    "duration": 41,
    "start_time": "2024-12-10T09:25:59.719Z"
   },
   {
    "duration": 7,
    "start_time": "2024-12-10T09:25:59.762Z"
   },
   {
    "duration": 17,
    "start_time": "2024-12-10T09:25:59.771Z"
   },
   {
    "duration": 27,
    "start_time": "2024-12-10T09:25:59.789Z"
   },
   {
    "duration": 26,
    "start_time": "2024-12-10T09:25:59.817Z"
   },
   {
    "duration": 10,
    "start_time": "2024-12-10T09:25:59.844Z"
   },
   {
    "duration": 10,
    "start_time": "2024-12-10T09:25:59.856Z"
   },
   {
    "duration": 371,
    "start_time": "2024-12-10T09:25:59.867Z"
   },
   {
    "duration": 14,
    "start_time": "2024-12-10T09:26:00.239Z"
   },
   {
    "duration": 67,
    "start_time": "2024-12-10T09:26:00.255Z"
   },
   {
    "duration": 11,
    "start_time": "2024-12-10T09:26:00.324Z"
   },
   {
    "duration": 184,
    "start_time": "2024-12-10T09:26:00.337Z"
   },
   {
    "duration": 183,
    "start_time": "2024-12-10T09:26:00.523Z"
   },
   {
    "duration": 176,
    "start_time": "2024-12-10T09:26:00.708Z"
   },
   {
    "duration": 15,
    "start_time": "2024-12-10T09:26:00.886Z"
   },
   {
    "duration": 228,
    "start_time": "2024-12-10T09:26:00.903Z"
   },
   {
    "duration": 147,
    "start_time": "2024-12-10T09:35:00.465Z"
   },
   {
    "duration": 82,
    "start_time": "2024-12-10T10:29:22.518Z"
   },
   {
    "duration": 36,
    "start_time": "2024-12-10T10:29:31.862Z"
   },
   {
    "duration": 24,
    "start_time": "2024-12-10T10:29:51.178Z"
   },
   {
    "duration": 19,
    "start_time": "2024-12-10T10:30:06.278Z"
   },
   {
    "duration": 27,
    "start_time": "2024-12-10T10:30:11.415Z"
   },
   {
    "duration": 30,
    "start_time": "2024-12-10T10:31:13.908Z"
   },
   {
    "duration": 813,
    "start_time": "2024-12-10T17:54:58.338Z"
   },
   {
    "duration": 354,
    "start_time": "2024-12-10T17:54:59.153Z"
   },
   {
    "duration": 23,
    "start_time": "2024-12-10T17:54:59.509Z"
   },
   {
    "duration": 32,
    "start_time": "2024-12-10T17:54:59.534Z"
   },
   {
    "duration": 68,
    "start_time": "2024-12-10T17:54:59.568Z"
   },
   {
    "duration": 1609,
    "start_time": "2024-12-10T17:54:59.638Z"
   },
   {
    "duration": 24,
    "start_time": "2024-12-10T17:55:01.248Z"
   },
   {
    "duration": 9,
    "start_time": "2024-12-10T17:55:01.274Z"
   },
   {
    "duration": 31,
    "start_time": "2024-12-10T17:55:01.284Z"
   },
   {
    "duration": 37,
    "start_time": "2024-12-10T17:55:01.317Z"
   },
   {
    "duration": 28,
    "start_time": "2024-12-10T17:55:01.356Z"
   },
   {
    "duration": 31,
    "start_time": "2024-12-10T17:55:01.386Z"
   },
   {
    "duration": 19,
    "start_time": "2024-12-10T17:55:01.419Z"
   },
   {
    "duration": 57,
    "start_time": "2024-12-10T17:55:01.439Z"
   },
   {
    "duration": 5,
    "start_time": "2024-12-10T17:55:01.498Z"
   },
   {
    "duration": 47,
    "start_time": "2024-12-10T17:55:01.505Z"
   },
   {
    "duration": 5,
    "start_time": "2024-12-10T17:55:01.553Z"
   },
   {
    "duration": 7,
    "start_time": "2024-12-10T17:55:01.560Z"
   },
   {
    "duration": 26,
    "start_time": "2024-12-10T17:55:01.568Z"
   },
   {
    "duration": 24,
    "start_time": "2024-12-10T17:55:01.596Z"
   },
   {
    "duration": 9,
    "start_time": "2024-12-10T17:55:01.622Z"
   },
   {
    "duration": 5,
    "start_time": "2024-12-10T17:55:01.633Z"
   },
   {
    "duration": 13,
    "start_time": "2024-12-10T17:55:01.639Z"
   },
   {
    "duration": 11,
    "start_time": "2024-12-10T17:55:01.653Z"
   },
   {
    "duration": 27,
    "start_time": "2024-12-10T17:55:01.665Z"
   },
   {
    "duration": 42,
    "start_time": "2024-12-10T17:55:01.693Z"
   },
   {
    "duration": 4,
    "start_time": "2024-12-10T17:55:01.736Z"
   },
   {
    "duration": 11,
    "start_time": "2024-12-10T17:55:01.743Z"
   },
   {
    "duration": 333,
    "start_time": "2024-12-10T17:55:01.756Z"
   },
   {
    "duration": 7,
    "start_time": "2024-12-10T17:55:02.090Z"
   },
   {
    "duration": 110,
    "start_time": "2024-12-10T17:55:02.098Z"
   },
   {
    "duration": 29,
    "start_time": "2024-12-10T17:55:02.209Z"
   },
   {
    "duration": 164,
    "start_time": "2024-12-10T17:55:02.240Z"
   },
   {
    "duration": 158,
    "start_time": "2024-12-10T17:55:02.405Z"
   },
   {
    "duration": 149,
    "start_time": "2024-12-10T17:55:02.566Z"
   },
   {
    "duration": 15,
    "start_time": "2024-12-10T17:55:02.717Z"
   },
   {
    "duration": 264,
    "start_time": "2024-12-10T17:55:02.734Z"
   },
   {
    "duration": 16,
    "start_time": "2024-12-10T17:55:03.000Z"
   },
   {
    "duration": 14,
    "start_time": "2024-12-10T17:55:03.018Z"
   },
   {
    "duration": 11,
    "start_time": "2024-12-10T17:55:08.198Z"
   },
   {
    "duration": 21,
    "start_time": "2024-12-10T17:55:22.155Z"
   },
   {
    "duration": 33,
    "start_time": "2024-12-10T17:55:31.610Z"
   },
   {
    "duration": 51,
    "start_time": "2024-12-10T17:56:04.063Z"
   },
   {
    "duration": 59,
    "start_time": "2024-12-10T17:56:13.906Z"
   },
   {
    "duration": 6,
    "start_time": "2024-12-10T17:56:19.686Z"
   },
   {
    "duration": 603,
    "start_time": "2024-12-10T17:56:37.314Z"
   },
   {
    "duration": 345,
    "start_time": "2024-12-10T17:56:37.918Z"
   },
   {
    "duration": 22,
    "start_time": "2024-12-10T17:56:38.265Z"
   },
   {
    "duration": 15,
    "start_time": "2024-12-10T17:56:38.288Z"
   },
   {
    "duration": 66,
    "start_time": "2024-12-10T17:56:38.304Z"
   },
   {
    "duration": 1637,
    "start_time": "2024-12-10T17:56:38.386Z"
   },
   {
    "duration": 24,
    "start_time": "2024-12-10T17:56:40.024Z"
   },
   {
    "duration": 8,
    "start_time": "2024-12-10T17:56:40.050Z"
   },
   {
    "duration": 30,
    "start_time": "2024-12-10T17:56:40.059Z"
   },
   {
    "duration": 11,
    "start_time": "2024-12-10T17:56:40.091Z"
   },
   {
    "duration": 13,
    "start_time": "2024-12-10T17:56:40.103Z"
   },
   {
    "duration": 6,
    "start_time": "2024-12-10T17:56:40.117Z"
   },
   {
    "duration": 20,
    "start_time": "2024-12-10T17:56:40.125Z"
   },
   {
    "duration": 77,
    "start_time": "2024-12-10T17:56:40.147Z"
   },
   {
    "duration": 5,
    "start_time": "2024-12-10T17:56:40.226Z"
   },
   {
    "duration": 30,
    "start_time": "2024-12-10T17:56:40.232Z"
   },
   {
    "duration": 5,
    "start_time": "2024-12-10T17:56:40.264Z"
   },
   {
    "duration": 20,
    "start_time": "2024-12-10T17:56:40.270Z"
   },
   {
    "duration": 6,
    "start_time": "2024-12-10T17:56:40.292Z"
   },
   {
    "duration": 12,
    "start_time": "2024-12-10T17:56:40.300Z"
   },
   {
    "duration": 7,
    "start_time": "2024-12-10T17:56:40.313Z"
   },
   {
    "duration": 6,
    "start_time": "2024-12-10T17:56:40.321Z"
   },
   {
    "duration": 8,
    "start_time": "2024-12-10T17:56:40.328Z"
   },
   {
    "duration": 8,
    "start_time": "2024-12-10T17:56:40.337Z"
   },
   {
    "duration": 5,
    "start_time": "2024-12-10T17:56:40.347Z"
   },
   {
    "duration": 50,
    "start_time": "2024-12-10T17:56:40.353Z"
   },
   {
    "duration": 4,
    "start_time": "2024-12-10T17:56:40.405Z"
   },
   {
    "duration": 15,
    "start_time": "2024-12-10T17:56:40.412Z"
   },
   {
    "duration": 338,
    "start_time": "2024-12-10T17:56:40.428Z"
   },
   {
    "duration": 7,
    "start_time": "2024-12-10T17:56:40.768Z"
   },
   {
    "duration": 31,
    "start_time": "2024-12-10T17:56:40.786Z"
   },
   {
    "duration": 4,
    "start_time": "2024-12-10T17:56:40.818Z"
   },
   {
    "duration": 160,
    "start_time": "2024-12-10T17:56:40.823Z"
   },
   {
    "duration": 153,
    "start_time": "2024-12-10T17:56:40.986Z"
   },
   {
    "duration": 154,
    "start_time": "2024-12-10T17:56:41.140Z"
   },
   {
    "duration": 14,
    "start_time": "2024-12-10T17:56:41.296Z"
   },
   {
    "duration": 217,
    "start_time": "2024-12-10T17:56:41.312Z"
   },
   {
    "duration": 23,
    "start_time": "2024-12-10T17:56:45.272Z"
   },
   {
    "duration": 18,
    "start_time": "2024-12-10T17:57:10.384Z"
   },
   {
    "duration": 33,
    "start_time": "2024-12-10T17:58:59.151Z"
   },
   {
    "duration": 4,
    "start_time": "2024-12-10T17:59:31.160Z"
   },
   {
    "duration": 149,
    "start_time": "2024-12-10T18:08:59.787Z"
   },
   {
    "duration": 37,
    "start_time": "2024-12-10T18:10:52.475Z"
   },
   {
    "duration": 33,
    "start_time": "2024-12-10T18:13:01.907Z"
   },
   {
    "duration": 20,
    "start_time": "2024-12-10T18:45:31.319Z"
   },
   {
    "duration": 51,
    "start_time": "2024-12-10T18:58:37.283Z"
   },
   {
    "duration": 18,
    "start_time": "2024-12-10T18:58:46.192Z"
   },
   {
    "duration": 15,
    "start_time": "2024-12-10T18:58:58.609Z"
   },
   {
    "duration": 15,
    "start_time": "2024-12-10T19:06:37.401Z"
   },
   {
    "duration": 10,
    "start_time": "2024-12-10T19:10:25.123Z"
   },
   {
    "duration": 57,
    "start_time": "2024-12-10T19:11:08.919Z"
   },
   {
    "duration": 9,
    "start_time": "2024-12-10T19:11:13.572Z"
   },
   {
    "duration": 12,
    "start_time": "2024-12-10T19:11:47.199Z"
   },
   {
    "duration": 13,
    "start_time": "2024-12-10T19:12:12.623Z"
   },
   {
    "duration": 22,
    "start_time": "2024-12-10T19:14:57.911Z"
   },
   {
    "duration": 7,
    "start_time": "2024-12-10T19:15:18.689Z"
   },
   {
    "duration": 11,
    "start_time": "2024-12-10T19:27:40.614Z"
   },
   {
    "duration": 11,
    "start_time": "2024-12-10T19:32:29.275Z"
   },
   {
    "duration": 11,
    "start_time": "2024-12-10T19:32:49.747Z"
   },
   {
    "duration": 14,
    "start_time": "2024-12-10T19:33:28.732Z"
   },
   {
    "duration": 12,
    "start_time": "2024-12-10T19:33:46.032Z"
   },
   {
    "duration": 57,
    "start_time": "2024-12-10T19:33:48.493Z"
   },
   {
    "duration": 51,
    "start_time": "2024-12-10T19:34:10.017Z"
   },
   {
    "duration": 40,
    "start_time": "2024-12-10T19:35:05.072Z"
   },
   {
    "duration": 22,
    "start_time": "2024-12-10T19:35:54.359Z"
   },
   {
    "duration": 57,
    "start_time": "2024-12-10T19:36:04.742Z"
   },
   {
    "duration": 14,
    "start_time": "2024-12-10T19:39:33.665Z"
   },
   {
    "duration": 12,
    "start_time": "2024-12-10T19:39:35.962Z"
   },
   {
    "duration": 54,
    "start_time": "2024-12-10T19:39:51.206Z"
   },
   {
    "duration": 45,
    "start_time": "2024-12-10T19:40:06.311Z"
   },
   {
    "duration": 19,
    "start_time": "2024-12-10T19:40:33.519Z"
   },
   {
    "duration": 758,
    "start_time": "2024-12-11T07:00:30.372Z"
   },
   {
    "duration": 324,
    "start_time": "2024-12-11T07:00:31.132Z"
   },
   {
    "duration": 22,
    "start_time": "2024-12-11T07:00:31.458Z"
   },
   {
    "duration": 32,
    "start_time": "2024-12-11T07:00:31.483Z"
   },
   {
    "duration": 67,
    "start_time": "2024-12-11T07:00:31.517Z"
   },
   {
    "duration": 1543,
    "start_time": "2024-12-11T07:00:31.586Z"
   },
   {
    "duration": 25,
    "start_time": "2024-12-11T07:00:33.131Z"
   },
   {
    "duration": 8,
    "start_time": "2024-12-11T07:00:33.158Z"
   },
   {
    "duration": 45,
    "start_time": "2024-12-11T07:00:33.168Z"
   },
   {
    "duration": 10,
    "start_time": "2024-12-11T07:00:33.217Z"
   },
   {
    "duration": 10,
    "start_time": "2024-12-11T07:00:33.229Z"
   },
   {
    "duration": 12,
    "start_time": "2024-12-11T07:00:33.241Z"
   },
   {
    "duration": 12,
    "start_time": "2024-12-11T07:00:33.255Z"
   },
   {
    "duration": 54,
    "start_time": "2024-12-11T07:00:33.268Z"
   },
   {
    "duration": 6,
    "start_time": "2024-12-11T07:00:33.323Z"
   },
   {
    "duration": 41,
    "start_time": "2024-12-11T07:00:33.330Z"
   },
   {
    "duration": 37,
    "start_time": "2024-12-11T07:00:33.372Z"
   },
   {
    "duration": 8,
    "start_time": "2024-12-11T07:00:33.411Z"
   },
   {
    "duration": 5,
    "start_time": "2024-12-11T07:00:33.420Z"
   },
   {
    "duration": 5,
    "start_time": "2024-12-11T07:00:33.426Z"
   },
   {
    "duration": 5,
    "start_time": "2024-12-11T07:00:33.433Z"
   },
   {
    "duration": 6,
    "start_time": "2024-12-11T07:00:33.439Z"
   },
   {
    "duration": 6,
    "start_time": "2024-12-11T07:00:33.446Z"
   },
   {
    "duration": 19,
    "start_time": "2024-12-11T07:00:33.453Z"
   },
   {
    "duration": 34,
    "start_time": "2024-12-11T07:00:33.474Z"
   },
   {
    "duration": 25,
    "start_time": "2024-12-11T07:00:33.509Z"
   },
   {
    "duration": 11,
    "start_time": "2024-12-11T07:00:33.536Z"
   },
   {
    "duration": 14,
    "start_time": "2024-12-11T07:00:33.550Z"
   },
   {
    "duration": 355,
    "start_time": "2024-12-11T07:00:33.566Z"
   },
   {
    "duration": 12,
    "start_time": "2024-12-11T07:00:33.922Z"
   },
   {
    "duration": 87,
    "start_time": "2024-12-11T07:00:33.936Z"
   },
   {
    "duration": 3,
    "start_time": "2024-12-11T07:00:34.025Z"
   },
   {
    "duration": 155,
    "start_time": "2024-12-11T07:00:34.030Z"
   },
   {
    "duration": 150,
    "start_time": "2024-12-11T07:00:34.186Z"
   },
   {
    "duration": 154,
    "start_time": "2024-12-11T07:00:34.338Z"
   },
   {
    "duration": 15,
    "start_time": "2024-12-11T07:00:34.494Z"
   },
   {
    "duration": 208,
    "start_time": "2024-12-11T07:00:34.510Z"
   },
   {
    "duration": 16,
    "start_time": "2024-12-11T07:00:34.719Z"
   },
   {
    "duration": 15,
    "start_time": "2024-12-11T07:00:34.752Z"
   },
   {
    "duration": 165,
    "start_time": "2024-12-11T07:00:34.769Z"
   },
   {
    "duration": 46,
    "start_time": "2024-12-11T07:00:34.935Z"
   },
   {
    "duration": 25,
    "start_time": "2024-12-11T07:14:37.685Z"
   },
   {
    "duration": 12,
    "start_time": "2024-12-11T07:19:59.611Z"
   },
   {
    "duration": 6,
    "start_time": "2024-12-11T07:20:04.782Z"
   },
   {
    "duration": 159,
    "start_time": "2024-12-11T07:21:14.862Z"
   },
   {
    "duration": 41,
    "start_time": "2024-12-11T07:21:42.814Z"
   },
   {
    "duration": 29,
    "start_time": "2024-12-11T07:22:03.956Z"
   },
   {
    "duration": 18,
    "start_time": "2024-12-11T07:24:43.884Z"
   },
   {
    "duration": 6,
    "start_time": "2024-12-11T07:24:48.322Z"
   },
   {
    "duration": 6,
    "start_time": "2024-12-11T07:25:11.291Z"
   },
   {
    "duration": 6,
    "start_time": "2024-12-11T07:45:03.174Z"
   },
   {
    "duration": 138,
    "start_time": "2024-12-11T07:45:24.804Z"
   },
   {
    "duration": 150,
    "start_time": "2024-12-11T07:45:53.528Z"
   },
   {
    "duration": 145,
    "start_time": "2024-12-11T08:21:58.250Z"
   },
   {
    "duration": 166,
    "start_time": "2024-12-11T08:29:34.070Z"
   },
   {
    "duration": 22,
    "start_time": "2024-12-11T08:31:25.481Z"
   },
   {
    "duration": 66,
    "start_time": "2024-12-11T08:31:44.244Z"
   },
   {
    "duration": 37,
    "start_time": "2024-12-11T08:31:57.072Z"
   },
   {
    "duration": 20,
    "start_time": "2024-12-11T08:32:04.500Z"
   },
   {
    "duration": 12,
    "start_time": "2024-12-11T08:37:29.320Z"
   },
   {
    "duration": 4,
    "start_time": "2024-12-11T08:37:37.660Z"
   },
   {
    "duration": 793,
    "start_time": "2024-12-12T03:38:12.093Z"
   },
   {
    "duration": 340,
    "start_time": "2024-12-12T03:38:12.888Z"
   },
   {
    "duration": 22,
    "start_time": "2024-12-12T03:38:13.229Z"
   },
   {
    "duration": 38,
    "start_time": "2024-12-12T03:38:13.253Z"
   },
   {
    "duration": 63,
    "start_time": "2024-12-12T03:38:13.292Z"
   },
   {
    "duration": 1606,
    "start_time": "2024-12-12T03:38:13.357Z"
   },
   {
    "duration": 23,
    "start_time": "2024-12-12T03:38:14.964Z"
   },
   {
    "duration": 8,
    "start_time": "2024-12-12T03:38:14.989Z"
   },
   {
    "duration": 26,
    "start_time": "2024-12-12T03:38:14.998Z"
   },
   {
    "duration": 39,
    "start_time": "2024-12-12T03:38:15.026Z"
   },
   {
    "duration": 60,
    "start_time": "2024-12-12T03:38:15.066Z"
   },
   {
    "duration": 33,
    "start_time": "2024-12-12T03:38:15.128Z"
   },
   {
    "duration": 21,
    "start_time": "2024-12-12T03:38:15.162Z"
   },
   {
    "duration": 84,
    "start_time": "2024-12-12T03:38:15.185Z"
   },
   {
    "duration": 25,
    "start_time": "2024-12-12T03:38:15.270Z"
   },
   {
    "duration": 42,
    "start_time": "2024-12-12T03:38:15.297Z"
   },
   {
    "duration": 44,
    "start_time": "2024-12-12T03:38:15.341Z"
   },
   {
    "duration": 61,
    "start_time": "2024-12-12T03:38:15.387Z"
   },
   {
    "duration": 17,
    "start_time": "2024-12-12T03:38:15.449Z"
   },
   {
    "duration": 5,
    "start_time": "2024-12-12T03:38:15.468Z"
   },
   {
    "duration": 5,
    "start_time": "2024-12-12T03:38:15.475Z"
   },
   {
    "duration": 5,
    "start_time": "2024-12-12T03:38:15.482Z"
   },
   {
    "duration": 6,
    "start_time": "2024-12-12T03:38:15.488Z"
   },
   {
    "duration": 16,
    "start_time": "2024-12-12T03:38:15.495Z"
   },
   {
    "duration": 5,
    "start_time": "2024-12-12T03:38:15.513Z"
   },
   {
    "duration": 29,
    "start_time": "2024-12-12T03:38:15.520Z"
   },
   {
    "duration": 8,
    "start_time": "2024-12-12T03:38:15.550Z"
   },
   {
    "duration": 29,
    "start_time": "2024-12-12T03:38:15.561Z"
   },
   {
    "duration": 348,
    "start_time": "2024-12-12T03:38:15.592Z"
   },
   {
    "duration": 7,
    "start_time": "2024-12-12T03:38:15.942Z"
   },
   {
    "duration": 40,
    "start_time": "2024-12-12T03:38:15.950Z"
   },
   {
    "duration": 3,
    "start_time": "2024-12-12T03:38:15.992Z"
   },
   {
    "duration": 152,
    "start_time": "2024-12-12T03:38:15.997Z"
   },
   {
    "duration": 156,
    "start_time": "2024-12-12T03:38:16.150Z"
   },
   {
    "duration": 200,
    "start_time": "2024-12-12T03:38:16.307Z"
   },
   {
    "duration": 14,
    "start_time": "2024-12-12T03:38:16.508Z"
   },
   {
    "duration": 155,
    "start_time": "2024-12-12T03:38:16.524Z"
   },
   {
    "duration": 22,
    "start_time": "2024-12-12T03:38:16.680Z"
   },
   {
    "duration": 12,
    "start_time": "2024-12-12T03:38:16.703Z"
   },
   {
    "duration": 203,
    "start_time": "2024-12-12T03:38:16.716Z"
   },
   {
    "duration": 37,
    "start_time": "2024-12-12T03:38:16.921Z"
   },
   {
    "duration": 42,
    "start_time": "2024-12-12T03:38:16.959Z"
   },
   {
    "duration": 21,
    "start_time": "2024-12-12T03:38:17.003Z"
   },
   {
    "duration": 6,
    "start_time": "2024-12-12T03:38:17.025Z"
   },
   {
    "duration": 171,
    "start_time": "2024-12-12T03:38:17.033Z"
   },
   {
    "duration": 18,
    "start_time": "2024-12-12T03:38:17.206Z"
   },
   {
    "duration": 6,
    "start_time": "2024-12-12T03:38:17.226Z"
   },
   {
    "duration": 157,
    "start_time": "2024-12-12T03:38:17.234Z"
   },
   {
    "duration": 166,
    "start_time": "2024-12-12T03:38:17.392Z"
   },
   {
    "duration": 20,
    "start_time": "2024-12-12T03:38:17.560Z"
   },
   {
    "duration": 4,
    "start_time": "2024-12-12T03:38:17.587Z"
   },
   {
    "duration": 760,
    "start_time": "2024-12-12T17:25:42.825Z"
   },
   {
    "duration": 346,
    "start_time": "2024-12-12T17:25:43.587Z"
   },
   {
    "duration": 23,
    "start_time": "2024-12-12T17:25:43.935Z"
   },
   {
    "duration": 14,
    "start_time": "2024-12-12T17:25:43.959Z"
   },
   {
    "duration": 78,
    "start_time": "2024-12-12T17:25:43.975Z"
   },
   {
    "duration": 1713,
    "start_time": "2024-12-12T17:25:44.054Z"
   },
   {
    "duration": 30,
    "start_time": "2024-12-12T17:25:45.769Z"
   },
   {
    "duration": 10,
    "start_time": "2024-12-12T17:25:45.801Z"
   },
   {
    "duration": 29,
    "start_time": "2024-12-12T17:25:45.813Z"
   },
   {
    "duration": 10,
    "start_time": "2024-12-12T17:25:45.844Z"
   },
   {
    "duration": 44,
    "start_time": "2024-12-12T17:25:45.856Z"
   },
   {
    "duration": 6,
    "start_time": "2024-12-12T17:25:45.901Z"
   },
   {
    "duration": 9,
    "start_time": "2024-12-12T17:25:45.908Z"
   },
   {
    "duration": 55,
    "start_time": "2024-12-12T17:25:45.920Z"
   },
   {
    "duration": 6,
    "start_time": "2024-12-12T17:25:45.999Z"
   },
   {
    "duration": 23,
    "start_time": "2024-12-12T17:25:46.007Z"
   },
   {
    "duration": 6,
    "start_time": "2024-12-12T17:25:46.031Z"
   },
   {
    "duration": 8,
    "start_time": "2024-12-12T17:25:46.038Z"
   },
   {
    "duration": 6,
    "start_time": "2024-12-12T17:25:46.047Z"
   },
   {
    "duration": 6,
    "start_time": "2024-12-12T17:25:46.055Z"
   },
   {
    "duration": 36,
    "start_time": "2024-12-12T17:25:46.062Z"
   },
   {
    "duration": 8,
    "start_time": "2024-12-12T17:25:46.104Z"
   },
   {
    "duration": 4,
    "start_time": "2024-12-12T17:25:46.113Z"
   },
   {
    "duration": 7,
    "start_time": "2024-12-12T17:25:46.119Z"
   },
   {
    "duration": 5,
    "start_time": "2024-12-12T17:25:46.128Z"
   },
   {
    "duration": 26,
    "start_time": "2024-12-12T17:25:46.134Z"
   },
   {
    "duration": 36,
    "start_time": "2024-12-12T17:25:46.162Z"
   },
   {
    "duration": 9,
    "start_time": "2024-12-12T17:25:46.200Z"
   },
   {
    "duration": 345,
    "start_time": "2024-12-12T17:25:46.211Z"
   },
   {
    "duration": 8,
    "start_time": "2024-12-12T17:25:46.558Z"
   },
   {
    "duration": 64,
    "start_time": "2024-12-12T17:25:46.567Z"
   },
   {
    "duration": 4,
    "start_time": "2024-12-12T17:25:46.632Z"
   },
   {
    "duration": 178,
    "start_time": "2024-12-12T17:25:46.638Z"
   },
   {
    "duration": 164,
    "start_time": "2024-12-12T17:25:46.818Z"
   },
   {
    "duration": 161,
    "start_time": "2024-12-12T17:25:46.983Z"
   },
   {
    "duration": 16,
    "start_time": "2024-12-12T17:25:47.145Z"
   },
   {
    "duration": 237,
    "start_time": "2024-12-12T17:25:47.163Z"
   },
   {
    "duration": 18,
    "start_time": "2024-12-12T17:25:47.402Z"
   },
   {
    "duration": 5,
    "start_time": "2024-12-12T17:25:47.422Z"
   },
   {
    "duration": 172,
    "start_time": "2024-12-12T17:25:47.429Z"
   },
   {
    "duration": 40,
    "start_time": "2024-12-12T17:25:47.605Z"
   },
   {
    "duration": 67,
    "start_time": "2024-12-12T17:25:47.646Z"
   },
   {
    "duration": 19,
    "start_time": "2024-12-12T17:25:47.715Z"
   },
   {
    "duration": 28,
    "start_time": "2024-12-12T17:25:47.736Z"
   },
   {
    "duration": 178,
    "start_time": "2024-12-12T17:25:47.766Z"
   },
   {
    "duration": 19,
    "start_time": "2024-12-12T17:25:47.946Z"
   },
   {
    "duration": 15,
    "start_time": "2024-12-12T17:25:47.966Z"
   },
   {
    "duration": 163,
    "start_time": "2024-12-12T17:25:47.982Z"
   },
   {
    "duration": 171,
    "start_time": "2024-12-12T17:25:48.147Z"
   },
   {
    "duration": 21,
    "start_time": "2024-12-12T17:25:48.319Z"
   },
   {
    "duration": 7,
    "start_time": "2024-12-12T17:25:48.341Z"
   },
   {
    "duration": 166,
    "start_time": "2024-12-12T17:35:45.900Z"
   },
   {
    "duration": 4,
    "start_time": "2024-12-12T17:57:42.212Z"
   },
   {
    "duration": 5,
    "start_time": "2024-12-12T17:57:50.477Z"
   },
   {
    "duration": 106,
    "start_time": "2024-12-12T17:58:55.786Z"
   },
   {
    "duration": 33,
    "start_time": "2024-12-12T18:02:46.916Z"
   },
   {
    "duration": 33,
    "start_time": "2024-12-12T18:03:20.494Z"
   },
   {
    "duration": 31,
    "start_time": "2024-12-12T18:03:26.671Z"
   },
   {
    "duration": 31,
    "start_time": "2024-12-12T18:03:31.053Z"
   },
   {
    "duration": 37,
    "start_time": "2024-12-12T18:03:42.627Z"
   },
   {
    "duration": 34,
    "start_time": "2024-12-12T18:04:01.012Z"
   },
   {
    "duration": 4,
    "start_time": "2024-12-12T18:05:32.789Z"
   },
   {
    "duration": 33,
    "start_time": "2024-12-12T18:08:12.716Z"
   },
   {
    "duration": 32,
    "start_time": "2024-12-12T18:08:23.154Z"
   },
   {
    "duration": 33,
    "start_time": "2024-12-12T18:08:28.332Z"
   },
   {
    "duration": 32,
    "start_time": "2024-12-12T18:08:41.164Z"
   },
   {
    "duration": 8,
    "start_time": "2024-12-12T18:09:49.949Z"
   },
   {
    "duration": 41,
    "start_time": "2024-12-12T18:10:10.434Z"
   },
   {
    "duration": 6,
    "start_time": "2024-12-12T18:10:13.845Z"
   },
   {
    "duration": 7,
    "start_time": "2024-12-12T18:10:26.375Z"
   },
   {
    "duration": 8,
    "start_time": "2024-12-12T18:10:38.173Z"
   },
   {
    "duration": 7,
    "start_time": "2024-12-12T18:10:47.807Z"
   },
   {
    "duration": 9,
    "start_time": "2024-12-12T18:14:02.839Z"
   },
   {
    "duration": 10,
    "start_time": "2024-12-12T18:14:05.889Z"
   },
   {
    "duration": 46,
    "start_time": "2024-12-14T07:30:36.480Z"
   },
   {
    "duration": 7,
    "start_time": "2024-12-14T07:32:44.214Z"
   },
   {
    "duration": 739,
    "start_time": "2024-12-14T07:32:53.366Z"
   },
   {
    "duration": 189,
    "start_time": "2024-12-14T07:32:54.107Z"
   },
   {
    "duration": 25,
    "start_time": "2024-12-14T07:32:54.297Z"
   },
   {
    "duration": 21,
    "start_time": "2024-12-14T07:32:54.324Z"
   },
   {
    "duration": 78,
    "start_time": "2024-12-14T07:32:54.346Z"
   },
   {
    "duration": 1717,
    "start_time": "2024-12-14T07:32:54.425Z"
   },
   {
    "duration": 30,
    "start_time": "2024-12-14T07:32:56.144Z"
   },
   {
    "duration": 9,
    "start_time": "2024-12-14T07:32:56.176Z"
   },
   {
    "duration": 31,
    "start_time": "2024-12-14T07:32:56.187Z"
   },
   {
    "duration": 11,
    "start_time": "2024-12-14T07:32:56.221Z"
   },
   {
    "duration": 11,
    "start_time": "2024-12-14T07:32:56.234Z"
   },
   {
    "duration": 6,
    "start_time": "2024-12-14T07:32:56.246Z"
   },
   {
    "duration": 9,
    "start_time": "2024-12-14T07:32:56.253Z"
   },
   {
    "duration": 82,
    "start_time": "2024-12-14T07:32:56.263Z"
   },
   {
    "duration": 6,
    "start_time": "2024-12-14T07:32:56.347Z"
   },
   {
    "duration": 24,
    "start_time": "2024-12-14T07:32:56.354Z"
   },
   {
    "duration": 11,
    "start_time": "2024-12-14T07:32:56.380Z"
   },
   {
    "duration": 8,
    "start_time": "2024-12-14T07:32:56.393Z"
   },
   {
    "duration": 22,
    "start_time": "2024-12-14T07:32:56.402Z"
   },
   {
    "duration": 9,
    "start_time": "2024-12-14T07:32:56.425Z"
   },
   {
    "duration": 6,
    "start_time": "2024-12-14T07:32:56.436Z"
   },
   {
    "duration": 6,
    "start_time": "2024-12-14T07:32:56.443Z"
   },
   {
    "duration": 4,
    "start_time": "2024-12-14T07:32:56.451Z"
   },
   {
    "duration": 9,
    "start_time": "2024-12-14T07:32:56.456Z"
   },
   {
    "duration": 31,
    "start_time": "2024-12-14T07:32:56.466Z"
   },
   {
    "duration": 45,
    "start_time": "2024-12-14T07:32:56.498Z"
   },
   {
    "duration": 4,
    "start_time": "2024-12-14T07:32:56.545Z"
   },
   {
    "duration": 15,
    "start_time": "2024-12-14T07:32:56.553Z"
   },
   {
    "duration": 321,
    "start_time": "2024-12-14T07:32:56.570Z"
   },
   {
    "duration": 7,
    "start_time": "2024-12-14T07:32:56.893Z"
   },
   {
    "duration": 99,
    "start_time": "2024-12-14T07:32:56.902Z"
   },
   {
    "duration": 4,
    "start_time": "2024-12-14T07:32:57.002Z"
   },
   {
    "duration": 147,
    "start_time": "2024-12-14T07:32:57.007Z"
   },
   {
    "duration": 166,
    "start_time": "2024-12-14T07:32:57.155Z"
   },
   {
    "duration": 215,
    "start_time": "2024-12-14T07:32:57.323Z"
   },
   {
    "duration": 15,
    "start_time": "2024-12-14T07:32:57.539Z"
   },
   {
    "duration": 168,
    "start_time": "2024-12-14T07:32:57.555Z"
   },
   {
    "duration": 20,
    "start_time": "2024-12-14T07:32:57.724Z"
   },
   {
    "duration": 30,
    "start_time": "2024-12-14T07:32:57.745Z"
   },
   {
    "duration": 170,
    "start_time": "2024-12-14T07:32:57.777Z"
   },
   {
    "duration": 40,
    "start_time": "2024-12-14T07:32:57.948Z"
   },
   {
    "duration": 51,
    "start_time": "2024-12-14T07:32:57.989Z"
   },
   {
    "duration": 21,
    "start_time": "2024-12-14T07:32:58.042Z"
   },
   {
    "duration": 14,
    "start_time": "2024-12-14T07:32:58.065Z"
   },
   {
    "duration": 180,
    "start_time": "2024-12-14T07:32:58.080Z"
   },
   {
    "duration": 22,
    "start_time": "2024-12-14T07:32:58.263Z"
   },
   {
    "duration": 17,
    "start_time": "2024-12-14T07:32:58.288Z"
   },
   {
    "duration": 154,
    "start_time": "2024-12-14T07:32:58.307Z"
   },
   {
    "duration": 172,
    "start_time": "2024-12-14T07:32:58.462Z"
   },
   {
    "duration": 21,
    "start_time": "2024-12-14T07:32:58.636Z"
   },
   {
    "duration": 5,
    "start_time": "2024-12-14T07:32:58.658Z"
   },
   {
    "duration": 186,
    "start_time": "2024-12-14T07:32:58.665Z"
   },
   {
    "duration": 5,
    "start_time": "2024-12-14T07:32:58.853Z"
   },
   {
    "duration": 37,
    "start_time": "2024-12-14T07:32:58.859Z"
   },
   {
    "duration": 27,
    "start_time": "2024-12-14T07:32:58.898Z"
   },
   {
    "duration": 37,
    "start_time": "2024-12-14T07:32:58.926Z"
   },
   {
    "duration": 560,
    "start_time": "2024-12-14T07:34:03.687Z"
   },
   {
    "duration": 131,
    "start_time": "2024-12-14T07:34:04.249Z"
   },
   {
    "duration": 26,
    "start_time": "2024-12-14T07:34:04.381Z"
   },
   {
    "duration": 28,
    "start_time": "2024-12-14T07:34:04.421Z"
   },
   {
    "duration": 72,
    "start_time": "2024-12-14T07:34:04.450Z"
   },
   {
    "duration": 1712,
    "start_time": "2024-12-14T07:34:04.523Z"
   },
   {
    "duration": 21,
    "start_time": "2024-12-14T07:34:06.236Z"
   },
   {
    "duration": 29,
    "start_time": "2024-12-14T07:34:06.259Z"
   },
   {
    "duration": 39,
    "start_time": "2024-12-14T07:34:06.290Z"
   },
   {
    "duration": 25,
    "start_time": "2024-12-14T07:34:06.332Z"
   },
   {
    "duration": 19,
    "start_time": "2024-12-14T07:34:06.358Z"
   },
   {
    "duration": 36,
    "start_time": "2024-12-14T07:34:06.379Z"
   },
   {
    "duration": 28,
    "start_time": "2024-12-14T07:34:06.416Z"
   },
   {
    "duration": 56,
    "start_time": "2024-12-14T07:34:06.445Z"
   },
   {
    "duration": 6,
    "start_time": "2024-12-14T07:34:06.502Z"
   },
   {
    "duration": 61,
    "start_time": "2024-12-14T07:34:06.509Z"
   },
   {
    "duration": 30,
    "start_time": "2024-12-14T07:34:06.571Z"
   },
   {
    "duration": 26,
    "start_time": "2024-12-14T07:34:06.602Z"
   },
   {
    "duration": 22,
    "start_time": "2024-12-14T07:34:06.629Z"
   },
   {
    "duration": 19,
    "start_time": "2024-12-14T07:34:06.654Z"
   },
   {
    "duration": 32,
    "start_time": "2024-12-14T07:34:06.675Z"
   },
   {
    "duration": 10,
    "start_time": "2024-12-14T07:34:06.709Z"
   },
   {
    "duration": 13,
    "start_time": "2024-12-14T07:34:06.720Z"
   },
   {
    "duration": 15,
    "start_time": "2024-12-14T07:34:06.735Z"
   },
   {
    "duration": 6,
    "start_time": "2024-12-14T07:34:06.752Z"
   },
   {
    "duration": 50,
    "start_time": "2024-12-14T07:34:06.759Z"
   },
   {
    "duration": 10,
    "start_time": "2024-12-14T07:34:06.811Z"
   },
   {
    "duration": 22,
    "start_time": "2024-12-14T07:34:06.825Z"
   },
   {
    "duration": 314,
    "start_time": "2024-12-14T07:34:06.849Z"
   },
   {
    "duration": 10,
    "start_time": "2024-12-14T07:34:07.164Z"
   },
   {
    "duration": 69,
    "start_time": "2024-12-14T07:34:07.175Z"
   },
   {
    "duration": 32,
    "start_time": "2024-12-14T07:34:07.246Z"
   },
   {
    "duration": 186,
    "start_time": "2024-12-14T07:34:07.280Z"
   },
   {
    "duration": 163,
    "start_time": "2024-12-14T07:34:07.468Z"
   },
   {
    "duration": 162,
    "start_time": "2024-12-14T07:34:07.633Z"
   },
   {
    "duration": 25,
    "start_time": "2024-12-14T07:34:07.797Z"
   },
   {
    "duration": 171,
    "start_time": "2024-12-14T07:34:07.823Z"
   },
   {
    "duration": 27,
    "start_time": "2024-12-14T07:34:07.995Z"
   },
   {
    "duration": 49,
    "start_time": "2024-12-14T07:34:08.023Z"
   },
   {
    "duration": 163,
    "start_time": "2024-12-14T07:34:08.074Z"
   },
   {
    "duration": 44,
    "start_time": "2024-12-14T07:34:08.239Z"
   },
   {
    "duration": 55,
    "start_time": "2024-12-14T07:34:08.285Z"
   },
   {
    "duration": 19,
    "start_time": "2024-12-14T07:34:08.342Z"
   },
   {
    "duration": 26,
    "start_time": "2024-12-14T07:34:08.362Z"
   },
   {
    "duration": 154,
    "start_time": "2024-12-14T07:34:08.389Z"
   },
   {
    "duration": 20,
    "start_time": "2024-12-14T07:34:08.545Z"
   },
   {
    "duration": 7,
    "start_time": "2024-12-14T07:34:08.567Z"
   },
   {
    "duration": 267,
    "start_time": "2024-12-14T07:34:08.575Z"
   },
   {
    "duration": 166,
    "start_time": "2024-12-14T07:34:08.844Z"
   },
   {
    "duration": 27,
    "start_time": "2024-12-14T07:34:09.012Z"
   },
   {
    "duration": 5,
    "start_time": "2024-12-14T07:34:09.040Z"
   },
   {
    "duration": 185,
    "start_time": "2024-12-14T07:34:09.046Z"
   },
   {
    "duration": 5,
    "start_time": "2024-12-14T07:34:09.232Z"
   },
   {
    "duration": 79,
    "start_time": "2024-12-14T07:34:09.239Z"
   },
   {
    "duration": 9,
    "start_time": "2024-12-14T07:34:09.320Z"
   },
   {
    "duration": 37,
    "start_time": "2024-12-14T07:34:09.330Z"
   },
   {
    "duration": 43,
    "start_time": "2024-12-14T07:34:17.705Z"
   },
   {
    "duration": 47,
    "start_time": "2024-12-14T07:34:41.608Z"
   },
   {
    "duration": 75,
    "start_time": "2024-12-14T07:35:28.484Z"
   },
   {
    "duration": 42,
    "start_time": "2024-12-14T07:37:59.435Z"
   },
   {
    "duration": 92,
    "start_time": "2024-12-14T07:38:06.974Z"
   },
   {
    "duration": 89,
    "start_time": "2024-12-14T07:38:18.913Z"
   },
   {
    "duration": 199,
    "start_time": "2024-12-14T07:38:26.764Z"
   },
   {
    "duration": 83,
    "start_time": "2024-12-14T07:38:31.911Z"
   },
   {
    "duration": 60,
    "start_time": "2024-12-14T07:38:50.754Z"
   },
   {
    "duration": 908,
    "start_time": "2024-12-14T07:42:03.528Z"
   },
   {
    "duration": 3039,
    "start_time": "2024-12-14T07:42:17.407Z"
   },
   {
    "duration": 42,
    "start_time": "2024-12-14T07:42:41.601Z"
   },
   {
    "duration": 567,
    "start_time": "2024-12-14T07:42:48.741Z"
   },
   {
    "duration": 616,
    "start_time": "2024-12-14T07:43:52.118Z"
   },
   {
    "duration": 588,
    "start_time": "2024-12-14T07:44:26.112Z"
   },
   {
    "duration": 146,
    "start_time": "2024-12-14T07:57:35.853Z"
   },
   {
    "duration": 147,
    "start_time": "2024-12-14T08:49:06.803Z"
   },
   {
    "duration": 15,
    "start_time": "2024-12-14T08:49:40.902Z"
   },
   {
    "duration": 18,
    "start_time": "2024-12-14T08:49:48.874Z"
   },
   {
    "duration": 13,
    "start_time": "2024-12-14T08:50:41.630Z"
   },
   {
    "duration": 179,
    "start_time": "2024-12-14T08:51:16.595Z"
   },
   {
    "duration": 214,
    "start_time": "2024-12-14T08:51:49.916Z"
   },
   {
    "duration": 204,
    "start_time": "2024-12-14T08:52:12.084Z"
   },
   {
    "duration": 189,
    "start_time": "2024-12-14T08:52:41.915Z"
   },
   {
    "duration": 264,
    "start_time": "2024-12-14T08:59:48.318Z"
   },
   {
    "duration": 316,
    "start_time": "2024-12-14T09:00:04.178Z"
   },
   {
    "duration": 179,
    "start_time": "2024-12-14T09:00:12.952Z"
   },
   {
    "duration": 377,
    "start_time": "2024-12-14T09:01:15.656Z"
   },
   {
    "duration": 595,
    "start_time": "2024-12-14T09:01:34.971Z"
   },
   {
    "duration": 790,
    "start_time": "2024-12-14T09:06:17.146Z"
   },
   {
    "duration": 10,
    "start_time": "2024-12-14T09:08:05.283Z"
   },
   {
    "duration": 315,
    "start_time": "2024-12-14T09:08:13.025Z"
   },
   {
    "duration": 362,
    "start_time": "2024-12-14T09:09:56.353Z"
   },
   {
    "duration": 366,
    "start_time": "2024-12-14T09:10:04.557Z"
   },
   {
    "duration": 303,
    "start_time": "2024-12-14T09:10:34.945Z"
   },
   {
    "duration": 9,
    "start_time": "2024-12-14T09:45:23.462Z"
   },
   {
    "duration": 8,
    "start_time": "2024-12-14T09:45:47.150Z"
   },
   {
    "duration": 15,
    "start_time": "2024-12-14T09:46:01.523Z"
   },
   {
    "duration": 12,
    "start_time": "2024-12-14T09:46:11.109Z"
   },
   {
    "duration": 17,
    "start_time": "2024-12-14T09:50:04.348Z"
   },
   {
    "duration": 12,
    "start_time": "2024-12-14T09:50:21.731Z"
   },
   {
    "duration": 160,
    "start_time": "2024-12-14T09:50:44.701Z"
   },
   {
    "duration": 152,
    "start_time": "2024-12-14T09:52:48.579Z"
   },
   {
    "duration": 317,
    "start_time": "2024-12-14T09:53:00.732Z"
   },
   {
    "duration": 20,
    "start_time": "2024-12-14T10:10:01.798Z"
   },
   {
    "duration": 20,
    "start_time": "2024-12-14T10:12:10.269Z"
   },
   {
    "duration": 79,
    "start_time": "2024-12-14T10:15:52.896Z"
   },
   {
    "duration": 1264,
    "start_time": "2024-12-14T19:27:34.227Z"
   },
   {
    "duration": 197,
    "start_time": "2024-12-14T19:27:35.493Z"
   },
   {
    "duration": 26,
    "start_time": "2024-12-14T19:27:35.691Z"
   },
   {
    "duration": 34,
    "start_time": "2024-12-14T19:27:35.719Z"
   },
   {
    "duration": 96,
    "start_time": "2024-12-14T19:27:35.756Z"
   },
   {
    "duration": 1846,
    "start_time": "2024-12-14T19:27:35.853Z"
   },
   {
    "duration": 25,
    "start_time": "2024-12-14T19:27:37.700Z"
   },
   {
    "duration": 10,
    "start_time": "2024-12-14T19:27:37.726Z"
   },
   {
    "duration": 29,
    "start_time": "2024-12-14T19:27:37.737Z"
   },
   {
    "duration": 11,
    "start_time": "2024-12-14T19:27:37.772Z"
   },
   {
    "duration": 25,
    "start_time": "2024-12-14T19:27:37.784Z"
   },
   {
    "duration": 8,
    "start_time": "2024-12-14T19:27:37.811Z"
   },
   {
    "duration": 9,
    "start_time": "2024-12-14T19:27:37.820Z"
   },
   {
    "duration": 73,
    "start_time": "2024-12-14T19:27:37.831Z"
   },
   {
    "duration": 6,
    "start_time": "2024-12-14T19:27:37.905Z"
   },
   {
    "duration": 28,
    "start_time": "2024-12-14T19:27:37.913Z"
   },
   {
    "duration": 5,
    "start_time": "2024-12-14T19:27:37.943Z"
   },
   {
    "duration": 28,
    "start_time": "2024-12-14T19:27:37.949Z"
   },
   {
    "duration": 3,
    "start_time": "2024-12-14T19:27:37.979Z"
   },
   {
    "duration": 12,
    "start_time": "2024-12-14T19:27:37.983Z"
   },
   {
    "duration": 6,
    "start_time": "2024-12-14T19:27:37.996Z"
   },
   {
    "duration": 7,
    "start_time": "2024-12-14T19:27:38.003Z"
   },
   {
    "duration": 5,
    "start_time": "2024-12-14T19:27:38.011Z"
   },
   {
    "duration": 34,
    "start_time": "2024-12-14T19:27:38.017Z"
   },
   {
    "duration": 79,
    "start_time": "2024-12-14T19:27:38.053Z"
   },
   {
    "duration": 29,
    "start_time": "2024-12-14T19:27:38.133Z"
   },
   {
    "duration": 5,
    "start_time": "2024-12-14T19:27:38.164Z"
   },
   {
    "duration": 25,
    "start_time": "2024-12-14T19:27:38.174Z"
   },
   {
    "duration": 318,
    "start_time": "2024-12-14T19:27:38.200Z"
   },
   {
    "duration": 9,
    "start_time": "2024-12-14T19:27:38.520Z"
   },
   {
    "duration": 48,
    "start_time": "2024-12-14T19:27:38.531Z"
   },
   {
    "duration": 5,
    "start_time": "2024-12-14T19:27:38.581Z"
   },
   {
    "duration": 174,
    "start_time": "2024-12-14T19:27:38.588Z"
   },
   {
    "duration": 175,
    "start_time": "2024-12-14T19:27:38.764Z"
   },
   {
    "duration": 166,
    "start_time": "2024-12-14T19:27:38.940Z"
   },
   {
    "duration": 15,
    "start_time": "2024-12-14T19:27:39.107Z"
   },
   {
    "duration": 230,
    "start_time": "2024-12-14T19:27:39.123Z"
   },
   {
    "duration": 24,
    "start_time": "2024-12-14T19:27:39.354Z"
   },
   {
    "duration": 5,
    "start_time": "2024-12-14T19:27:39.380Z"
   },
   {
    "duration": 180,
    "start_time": "2024-12-14T19:27:39.386Z"
   },
   {
    "duration": 40,
    "start_time": "2024-12-14T19:27:39.568Z"
   },
   {
    "duration": 31,
    "start_time": "2024-12-14T19:27:39.610Z"
   },
   {
    "duration": 41,
    "start_time": "2024-12-14T19:27:39.643Z"
   },
   {
    "duration": 15,
    "start_time": "2024-12-14T19:27:39.686Z"
   },
   {
    "duration": 174,
    "start_time": "2024-12-14T19:27:39.702Z"
   },
   {
    "duration": 21,
    "start_time": "2024-12-14T19:27:39.877Z"
   },
   {
    "duration": 9,
    "start_time": "2024-12-14T19:27:39.900Z"
   },
   {
    "duration": 191,
    "start_time": "2024-12-14T19:27:39.910Z"
   },
   {
    "duration": 280,
    "start_time": "2024-12-14T19:27:40.102Z"
   },
   {
    "duration": 23,
    "start_time": "2024-12-14T19:27:40.384Z"
   },
   {
    "duration": 13,
    "start_time": "2024-12-14T19:27:40.408Z"
   },
   {
    "duration": 197,
    "start_time": "2024-12-14T19:27:40.423Z"
   },
   {
    "duration": 5,
    "start_time": "2024-12-14T19:27:40.621Z"
   },
   {
    "duration": 49,
    "start_time": "2024-12-14T19:27:40.628Z"
   },
   {
    "duration": 8,
    "start_time": "2024-12-14T19:27:40.679Z"
   },
   {
    "duration": 521,
    "start_time": "2024-12-14T19:27:40.688Z"
   },
   {
    "duration": 360,
    "start_time": "2024-12-14T19:27:41.210Z"
   },
   {
    "duration": 340,
    "start_time": "2024-12-14T19:27:41.572Z"
   },
   {
    "duration": 360,
    "start_time": "2024-12-14T19:27:41.914Z"
   },
   {
    "duration": 317,
    "start_time": "2024-12-14T19:27:42.276Z"
   },
   {
    "duration": 13,
    "start_time": "2024-12-14T19:27:42.595Z"
   },
   {
    "duration": 154,
    "start_time": "2024-12-14T19:27:42.609Z"
   },
   {
    "duration": 151,
    "start_time": "2024-12-14T19:27:42.765Z"
   },
   {
    "duration": 150,
    "start_time": "2024-12-14T19:27:42.917Z"
   },
   {
    "duration": 20,
    "start_time": "2024-12-14T19:27:43.069Z"
   },
   {
    "duration": 23,
    "start_time": "2024-12-14T19:27:58.095Z"
   },
   {
    "duration": 106,
    "start_time": "2024-12-14T19:28:59.765Z"
   },
   {
    "duration": 19,
    "start_time": "2024-12-14T19:29:19.409Z"
   },
   {
    "duration": 124,
    "start_time": "2024-12-14T19:34:10.642Z"
   },
   {
    "duration": 84,
    "start_time": "2024-12-14T19:34:21.083Z"
   },
   {
    "duration": 73,
    "start_time": "2024-12-14T19:34:34.455Z"
   },
   {
    "duration": 195,
    "start_time": "2024-12-14T19:34:46.592Z"
   },
   {
    "duration": 208,
    "start_time": "2024-12-14T19:34:55.690Z"
   },
   {
    "duration": 178,
    "start_time": "2024-12-14T19:35:03.936Z"
   },
   {
    "duration": 13,
    "start_time": "2024-12-14T19:36:58.917Z"
   },
   {
    "duration": 12,
    "start_time": "2024-12-14T19:37:02.439Z"
   },
   {
    "duration": 19,
    "start_time": "2024-12-14T19:37:13.466Z"
   },
   {
    "duration": 19,
    "start_time": "2024-12-14T19:38:54.657Z"
   },
   {
    "duration": 21,
    "start_time": "2024-12-14T19:45:10.111Z"
   },
   {
    "duration": 193,
    "start_time": "2024-12-14T19:45:25.621Z"
   },
   {
    "duration": 21,
    "start_time": "2024-12-14T19:45:59.730Z"
   },
   {
    "duration": 504,
    "start_time": "2024-12-14T20:06:32.469Z"
   },
   {
    "duration": 142,
    "start_time": "2024-12-14T20:07:37.786Z"
   },
   {
    "duration": 459,
    "start_time": "2024-12-14T20:07:43.803Z"
   },
   {
    "duration": 550,
    "start_time": "2024-12-14T20:08:48.021Z"
   },
   {
    "duration": 455,
    "start_time": "2024-12-14T20:09:39.699Z"
   },
   {
    "duration": 442,
    "start_time": "2024-12-14T20:09:46.926Z"
   },
   {
    "duration": 638,
    "start_time": "2024-12-14T20:09:54.055Z"
   },
   {
    "duration": 620,
    "start_time": "2024-12-14T20:10:04.652Z"
   },
   {
    "duration": 671,
    "start_time": "2024-12-14T20:10:10.603Z"
   },
   {
    "duration": 614,
    "start_time": "2024-12-14T20:10:13.267Z"
   },
   {
    "duration": 1373,
    "start_time": "2024-12-15T13:29:43.200Z"
   },
   {
    "duration": 338,
    "start_time": "2024-12-15T13:29:44.575Z"
   },
   {
    "duration": 23,
    "start_time": "2024-12-15T13:29:44.915Z"
   },
   {
    "duration": 17,
    "start_time": "2024-12-15T13:29:44.940Z"
   },
   {
    "duration": 67,
    "start_time": "2024-12-15T13:29:44.959Z"
   },
   {
    "duration": 1737,
    "start_time": "2024-12-15T13:29:45.028Z"
   },
   {
    "duration": 26,
    "start_time": "2024-12-15T13:29:46.767Z"
   },
   {
    "duration": 8,
    "start_time": "2024-12-15T13:29:46.795Z"
   },
   {
    "duration": 28,
    "start_time": "2024-12-15T13:29:46.805Z"
   },
   {
    "duration": 20,
    "start_time": "2024-12-15T13:29:46.835Z"
   },
   {
    "duration": 10,
    "start_time": "2024-12-15T13:29:46.857Z"
   },
   {
    "duration": 5,
    "start_time": "2024-12-15T13:29:46.869Z"
   },
   {
    "duration": 9,
    "start_time": "2024-12-15T13:29:46.875Z"
   },
   {
    "duration": 80,
    "start_time": "2024-12-15T13:29:46.886Z"
   },
   {
    "duration": 5,
    "start_time": "2024-12-15T13:29:46.968Z"
   },
   {
    "duration": 27,
    "start_time": "2024-12-15T13:29:46.975Z"
   },
   {
    "duration": 5,
    "start_time": "2024-12-15T13:29:47.003Z"
   },
   {
    "duration": 33,
    "start_time": "2024-12-15T13:29:47.010Z"
   },
   {
    "duration": 13,
    "start_time": "2024-12-15T13:29:47.045Z"
   },
   {
    "duration": 43,
    "start_time": "2024-12-15T13:29:47.059Z"
   },
   {
    "duration": 30,
    "start_time": "2024-12-15T13:29:47.104Z"
   },
   {
    "duration": 15,
    "start_time": "2024-12-15T13:29:47.135Z"
   },
   {
    "duration": 5,
    "start_time": "2024-12-15T13:29:47.151Z"
   },
   {
    "duration": 29,
    "start_time": "2024-12-15T13:29:47.157Z"
   },
   {
    "duration": 6,
    "start_time": "2024-12-15T13:29:47.187Z"
   },
   {
    "duration": 30,
    "start_time": "2024-12-15T13:29:47.194Z"
   },
   {
    "duration": 6,
    "start_time": "2024-12-15T13:29:47.226Z"
   },
   {
    "duration": 23,
    "start_time": "2024-12-15T13:29:47.238Z"
   },
   {
    "duration": 350,
    "start_time": "2024-12-15T13:29:47.263Z"
   },
   {
    "duration": 9,
    "start_time": "2024-12-15T13:29:47.615Z"
   },
   {
    "duration": 58,
    "start_time": "2024-12-15T13:29:47.626Z"
   },
   {
    "duration": 6,
    "start_time": "2024-12-15T13:29:47.686Z"
   },
   {
    "duration": 165,
    "start_time": "2024-12-15T13:29:47.694Z"
   },
   {
    "duration": 167,
    "start_time": "2024-12-15T13:29:47.861Z"
   },
   {
    "duration": 162,
    "start_time": "2024-12-15T13:29:48.029Z"
   },
   {
    "duration": 13,
    "start_time": "2024-12-15T13:29:48.193Z"
   },
   {
    "duration": 172,
    "start_time": "2024-12-15T13:29:48.208Z"
   },
   {
    "duration": 19,
    "start_time": "2024-12-15T13:29:48.382Z"
   },
   {
    "duration": 18,
    "start_time": "2024-12-15T13:29:48.402Z"
   },
   {
    "duration": 167,
    "start_time": "2024-12-15T13:29:48.421Z"
   },
   {
    "duration": 40,
    "start_time": "2024-12-15T13:29:48.589Z"
   },
   {
    "duration": 46,
    "start_time": "2024-12-15T13:29:48.631Z"
   },
   {
    "duration": 19,
    "start_time": "2024-12-15T13:29:48.679Z"
   },
   {
    "duration": 17,
    "start_time": "2024-12-15T13:29:48.700Z"
   },
   {
    "duration": 173,
    "start_time": "2024-12-15T13:29:48.719Z"
   },
   {
    "duration": 19,
    "start_time": "2024-12-15T13:29:48.894Z"
   },
   {
    "duration": 9,
    "start_time": "2024-12-15T13:29:48.914Z"
   },
   {
    "duration": 174,
    "start_time": "2024-12-15T13:29:48.925Z"
   },
   {
    "duration": 259,
    "start_time": "2024-12-15T13:29:49.100Z"
   },
   {
    "duration": 23,
    "start_time": "2024-12-15T13:29:49.360Z"
   },
   {
    "duration": 30,
    "start_time": "2024-12-15T13:29:49.385Z"
   },
   {
    "duration": 186,
    "start_time": "2024-12-15T13:29:49.417Z"
   },
   {
    "duration": 5,
    "start_time": "2024-12-15T13:29:49.604Z"
   },
   {
    "duration": 57,
    "start_time": "2024-12-15T13:29:49.610Z"
   },
   {
    "duration": 7,
    "start_time": "2024-12-15T13:29:49.669Z"
   },
   {
    "duration": 688,
    "start_time": "2024-12-15T13:29:49.677Z"
   },
   {
    "duration": 307,
    "start_time": "2024-12-15T13:29:50.366Z"
   },
   {
    "duration": 326,
    "start_time": "2024-12-15T13:29:50.674Z"
   },
   {
    "duration": 355,
    "start_time": "2024-12-15T13:29:51.002Z"
   },
   {
    "duration": 317,
    "start_time": "2024-12-15T13:29:51.358Z"
   },
   {
    "duration": 14,
    "start_time": "2024-12-15T13:29:51.676Z"
   },
   {
    "duration": 153,
    "start_time": "2024-12-15T13:29:51.691Z"
   },
   {
    "duration": 143,
    "start_time": "2024-12-15T13:29:51.846Z"
   },
   {
    "duration": 142,
    "start_time": "2024-12-15T13:29:51.991Z"
   },
   {
    "duration": 26,
    "start_time": "2024-12-15T13:29:52.134Z"
   },
   {
    "duration": 35,
    "start_time": "2024-12-15T13:29:52.161Z"
   },
   {
    "duration": 169,
    "start_time": "2024-12-15T13:29:52.198Z"
   },
   {
    "duration": 9,
    "start_time": "2024-12-15T13:30:21.459Z"
   },
   {
    "duration": 9,
    "start_time": "2024-12-15T13:30:29.889Z"
   },
   {
    "duration": 44,
    "start_time": "2024-12-15T13:32:48.127Z"
   },
   {
    "duration": 3,
    "start_time": "2024-12-15T13:39:49.912Z"
   },
   {
    "duration": 152,
    "start_time": "2024-12-15T13:39:49.917Z"
   },
   {
    "duration": 24,
    "start_time": "2024-12-15T13:39:50.071Z"
   },
   {
    "duration": 22,
    "start_time": "2024-12-15T13:39:50.097Z"
   },
   {
    "duration": 87,
    "start_time": "2024-12-15T13:39:50.120Z"
   },
   {
    "duration": 1694,
    "start_time": "2024-12-15T13:39:50.209Z"
   },
   {
    "duration": 20,
    "start_time": "2024-12-15T13:39:51.905Z"
   },
   {
    "duration": 26,
    "start_time": "2024-12-15T13:39:51.927Z"
   },
   {
    "duration": 27,
    "start_time": "2024-12-15T13:39:51.955Z"
   },
   {
    "duration": 12,
    "start_time": "2024-12-15T13:39:51.985Z"
   },
   {
    "duration": 20,
    "start_time": "2024-12-15T13:39:51.998Z"
   },
   {
    "duration": 23,
    "start_time": "2024-12-15T13:39:52.019Z"
   },
   {
    "duration": 23,
    "start_time": "2024-12-15T13:39:52.044Z"
   },
   {
    "duration": 71,
    "start_time": "2024-12-15T13:39:52.068Z"
   },
   {
    "duration": 6,
    "start_time": "2024-12-15T13:39:52.140Z"
   },
   {
    "duration": 42,
    "start_time": "2024-12-15T13:39:52.153Z"
   },
   {
    "duration": 40,
    "start_time": "2024-12-15T13:39:52.196Z"
   },
   {
    "duration": 30,
    "start_time": "2024-12-15T13:39:52.237Z"
   },
   {
    "duration": 41,
    "start_time": "2024-12-15T13:39:52.269Z"
   },
   {
    "duration": 3,
    "start_time": "2024-12-15T13:39:52.312Z"
   },
   {
    "duration": 7,
    "start_time": "2024-12-15T13:39:52.316Z"
   },
   {
    "duration": 14,
    "start_time": "2024-12-15T13:39:52.324Z"
   },
   {
    "duration": 4,
    "start_time": "2024-12-15T13:39:52.340Z"
   },
   {
    "duration": 10,
    "start_time": "2024-12-15T13:39:52.346Z"
   },
   {
    "duration": 7,
    "start_time": "2024-12-15T13:39:52.358Z"
   },
   {
    "duration": 35,
    "start_time": "2024-12-15T13:39:52.367Z"
   },
   {
    "duration": 4,
    "start_time": "2024-12-15T13:39:52.403Z"
   },
   {
    "duration": 9,
    "start_time": "2024-12-15T13:39:52.411Z"
   },
   {
    "duration": 498,
    "start_time": "2024-12-15T13:39:52.422Z"
   },
   {
    "duration": 8,
    "start_time": "2024-12-15T13:39:52.921Z"
   },
   {
    "duration": 49,
    "start_time": "2024-12-15T13:39:52.930Z"
   },
   {
    "duration": 4,
    "start_time": "2024-12-15T13:39:52.981Z"
   },
   {
    "duration": 160,
    "start_time": "2024-12-15T13:39:52.986Z"
   },
   {
    "duration": 266,
    "start_time": "2024-12-15T13:39:53.152Z"
   },
   {
    "duration": 154,
    "start_time": "2024-12-15T13:39:53.419Z"
   },
   {
    "duration": 15,
    "start_time": "2024-12-15T13:39:53.574Z"
   },
   {
    "duration": 177,
    "start_time": "2024-12-15T13:39:53.590Z"
   },
   {
    "duration": 18,
    "start_time": "2024-12-15T13:39:53.769Z"
   },
   {
    "duration": 5,
    "start_time": "2024-12-15T13:39:53.788Z"
   },
   {
    "duration": 213,
    "start_time": "2024-12-15T13:39:53.794Z"
   },
   {
    "duration": 49,
    "start_time": "2024-12-15T13:39:54.009Z"
   },
   {
    "duration": 36,
    "start_time": "2024-12-15T13:39:54.060Z"
   },
   {
    "duration": 31,
    "start_time": "2024-12-15T13:39:54.098Z"
   },
   {
    "duration": 20,
    "start_time": "2024-12-15T13:39:54.131Z"
   },
   {
    "duration": 7,
    "start_time": "2024-12-15T13:39:54.153Z"
   },
   {
    "duration": 167,
    "start_time": "2024-12-15T13:39:54.161Z"
   },
   {
    "duration": 25,
    "start_time": "2024-12-15T13:39:54.329Z"
   },
   {
    "duration": 51,
    "start_time": "2024-12-15T13:39:54.355Z"
   },
   {
    "duration": 160,
    "start_time": "2024-12-15T13:39:54.407Z"
   },
   {
    "duration": 176,
    "start_time": "2024-12-15T13:39:54.569Z"
   },
   {
    "duration": 27,
    "start_time": "2024-12-15T13:39:54.746Z"
   },
   {
    "duration": 7,
    "start_time": "2024-12-15T13:39:54.775Z"
   },
   {
    "duration": 187,
    "start_time": "2024-12-15T13:39:54.784Z"
   },
   {
    "duration": 5,
    "start_time": "2024-12-15T13:39:54.972Z"
   },
   {
    "duration": 34,
    "start_time": "2024-12-15T13:39:54.978Z"
   },
   {
    "duration": 8,
    "start_time": "2024-12-15T13:39:55.014Z"
   },
   {
    "duration": 677,
    "start_time": "2024-12-15T13:39:55.024Z"
   },
   {
    "duration": 355,
    "start_time": "2024-12-15T13:39:55.703Z"
   },
   {
    "duration": 330,
    "start_time": "2024-12-15T13:39:56.059Z"
   },
   {
    "duration": 338,
    "start_time": "2024-12-15T13:39:56.390Z"
   },
   {
    "duration": 339,
    "start_time": "2024-12-15T13:39:56.730Z"
   },
   {
    "duration": 14,
    "start_time": "2024-12-15T13:39:57.070Z"
   },
   {
    "duration": 143,
    "start_time": "2024-12-15T13:39:57.085Z"
   },
   {
    "duration": 150,
    "start_time": "2024-12-15T13:39:57.229Z"
   },
   {
    "duration": 149,
    "start_time": "2024-12-15T13:39:57.380Z"
   },
   {
    "duration": 24,
    "start_time": "2024-12-15T13:39:57.530Z"
   },
   {
    "duration": 19,
    "start_time": "2024-12-15T13:39:57.555Z"
   },
   {
    "duration": 163,
    "start_time": "2024-12-15T13:39:57.575Z"
   },
   {
    "duration": 165,
    "start_time": "2024-12-15T13:41:15.888Z"
   },
   {
    "duration": 307,
    "start_time": "2024-12-15T13:41:53.820Z"
   },
   {
    "duration": 156,
    "start_time": "2024-12-15T13:42:02.207Z"
   },
   {
    "duration": 155,
    "start_time": "2024-12-15T13:43:38.601Z"
   },
   {
    "duration": 7,
    "start_time": "2024-12-15T16:26:41.191Z"
   },
   {
    "duration": 23,
    "start_time": "2024-12-15T16:29:10.501Z"
   },
   {
    "duration": 33,
    "start_time": "2024-12-15T16:30:51.923Z"
   },
   {
    "duration": 3,
    "start_time": "2024-12-15T16:59:32.822Z"
   },
   {
    "duration": 139,
    "start_time": "2024-12-15T16:59:32.827Z"
   },
   {
    "duration": 24,
    "start_time": "2024-12-15T16:59:32.967Z"
   },
   {
    "duration": 27,
    "start_time": "2024-12-15T16:59:32.992Z"
   },
   {
    "duration": 72,
    "start_time": "2024-12-15T16:59:33.021Z"
   },
   {
    "duration": 1676,
    "start_time": "2024-12-15T16:59:33.094Z"
   },
   {
    "duration": 22,
    "start_time": "2024-12-15T16:59:34.771Z"
   },
   {
    "duration": 42,
    "start_time": "2024-12-15T16:59:34.794Z"
   },
   {
    "duration": 31,
    "start_time": "2024-12-15T16:59:34.837Z"
   },
   {
    "duration": 53,
    "start_time": "2024-12-15T16:59:34.870Z"
   },
   {
    "duration": 25,
    "start_time": "2024-12-15T16:59:34.925Z"
   },
   {
    "duration": 24,
    "start_time": "2024-12-15T16:59:34.952Z"
   },
   {
    "duration": 32,
    "start_time": "2024-12-15T16:59:34.978Z"
   },
   {
    "duration": 76,
    "start_time": "2024-12-15T16:59:35.012Z"
   },
   {
    "duration": 130,
    "start_time": "2024-12-15T16:59:35.090Z"
   },
   {
    "duration": 67,
    "start_time": "2024-12-15T16:59:35.223Z"
   },
   {
    "duration": 71,
    "start_time": "2024-12-15T16:59:35.292Z"
   },
   {
    "duration": 33,
    "start_time": "2024-12-15T16:59:35.365Z"
   },
   {
    "duration": 69,
    "start_time": "2024-12-15T16:59:35.400Z"
   },
   {
    "duration": 38,
    "start_time": "2024-12-15T16:59:35.471Z"
   },
   {
    "duration": 15,
    "start_time": "2024-12-15T16:59:35.511Z"
   },
   {
    "duration": 22,
    "start_time": "2024-12-15T16:59:35.528Z"
   },
   {
    "duration": 44,
    "start_time": "2024-12-15T16:59:35.552Z"
   },
   {
    "duration": 33,
    "start_time": "2024-12-15T16:59:35.597Z"
   },
   {
    "duration": 8,
    "start_time": "2024-12-15T16:59:35.632Z"
   },
   {
    "duration": 33,
    "start_time": "2024-12-15T16:59:35.642Z"
   },
   {
    "duration": 5,
    "start_time": "2024-12-15T16:59:35.677Z"
   },
   {
    "duration": 35,
    "start_time": "2024-12-15T16:59:35.687Z"
   },
   {
    "duration": 359,
    "start_time": "2024-12-15T16:59:35.723Z"
   },
   {
    "duration": 8,
    "start_time": "2024-12-15T16:59:36.083Z"
   },
   {
    "duration": 65,
    "start_time": "2024-12-15T16:59:36.092Z"
   },
   {
    "duration": 5,
    "start_time": "2024-12-15T16:59:36.159Z"
   },
   {
    "duration": 177,
    "start_time": "2024-12-15T16:59:36.166Z"
   },
   {
    "duration": 163,
    "start_time": "2024-12-15T16:59:36.345Z"
   },
   {
    "duration": 167,
    "start_time": "2024-12-15T16:59:36.509Z"
   },
   {
    "duration": 15,
    "start_time": "2024-12-15T16:59:36.678Z"
   },
   {
    "duration": 51,
    "start_time": "2024-12-15T16:59:36.695Z"
   },
   {
    "duration": 163,
    "start_time": "2024-12-15T16:59:36.747Z"
   },
   {
    "duration": 18,
    "start_time": "2024-12-15T16:59:36.912Z"
   },
   {
    "duration": 21,
    "start_time": "2024-12-15T16:59:36.932Z"
   },
   {
    "duration": 167,
    "start_time": "2024-12-15T16:59:36.954Z"
   },
   {
    "duration": 44,
    "start_time": "2024-12-15T16:59:37.123Z"
   },
   {
    "duration": 50,
    "start_time": "2024-12-15T16:59:37.169Z"
   },
   {
    "duration": 35,
    "start_time": "2024-12-15T16:59:37.221Z"
   },
   {
    "duration": 24,
    "start_time": "2024-12-15T16:59:37.258Z"
   },
   {
    "duration": 18,
    "start_time": "2024-12-15T16:59:37.283Z"
   },
   {
    "duration": 175,
    "start_time": "2024-12-15T16:59:37.303Z"
   },
   {
    "duration": 174,
    "start_time": "2024-12-15T16:59:37.480Z"
   },
   {
    "duration": 21,
    "start_time": "2024-12-15T16:59:37.656Z"
   },
   {
    "duration": 29,
    "start_time": "2024-12-15T16:59:37.678Z"
   },
   {
    "duration": 158,
    "start_time": "2024-12-15T16:59:37.709Z"
   },
   {
    "duration": 174,
    "start_time": "2024-12-15T16:59:37.868Z"
   },
   {
    "duration": 25,
    "start_time": "2024-12-15T16:59:38.044Z"
   },
   {
    "duration": 8,
    "start_time": "2024-12-15T16:59:38.071Z"
   },
   {
    "duration": 191,
    "start_time": "2024-12-15T16:59:38.081Z"
   },
   {
    "duration": 5,
    "start_time": "2024-12-15T16:59:38.273Z"
   },
   {
    "duration": 39,
    "start_time": "2024-12-15T16:59:38.280Z"
   },
   {
    "duration": 8,
    "start_time": "2024-12-15T16:59:38.321Z"
   },
   {
    "duration": 659,
    "start_time": "2024-12-15T16:59:38.330Z"
   },
   {
    "duration": 345,
    "start_time": "2024-12-15T16:59:38.990Z"
   },
   {
    "duration": 349,
    "start_time": "2024-12-15T16:59:39.337Z"
   },
   {
    "duration": 340,
    "start_time": "2024-12-15T16:59:39.687Z"
   },
   {
    "duration": 357,
    "start_time": "2024-12-15T16:59:40.029Z"
   },
   {
    "duration": 14,
    "start_time": "2024-12-15T16:59:40.388Z"
   },
   {
    "duration": 149,
    "start_time": "2024-12-15T16:59:40.404Z"
   },
   {
    "duration": 144,
    "start_time": "2024-12-15T16:59:40.554Z"
   },
   {
    "duration": 136,
    "start_time": "2024-12-15T16:59:40.700Z"
   },
   {
    "duration": 28,
    "start_time": "2024-12-15T16:59:40.837Z"
   },
   {
    "duration": 26,
    "start_time": "2024-12-15T16:59:40.866Z"
   },
   {
    "duration": 329,
    "start_time": "2024-12-15T16:59:40.893Z"
   },
   {
    "duration": 10,
    "start_time": "2024-12-15T17:00:57.470Z"
   },
   {
    "duration": 31,
    "start_time": "2024-12-15T17:04:37.717Z"
   },
   {
    "duration": 14,
    "start_time": "2024-12-15T17:07:23.979Z"
   },
   {
    "duration": 11,
    "start_time": "2024-12-15T17:07:29.562Z"
   },
   {
    "duration": 34,
    "start_time": "2024-12-15T17:07:32.725Z"
   },
   {
    "duration": 31,
    "start_time": "2024-12-15T17:08:03.711Z"
   },
   {
    "duration": 4,
    "start_time": "2024-12-15T17:12:22.098Z"
   },
   {
    "duration": 8,
    "start_time": "2024-12-15T17:14:10.380Z"
   },
   {
    "duration": 9,
    "start_time": "2024-12-15T17:14:29.519Z"
   },
   {
    "duration": 8,
    "start_time": "2024-12-15T17:14:34.701Z"
   },
   {
    "duration": 8,
    "start_time": "2024-12-15T17:15:41.722Z"
   },
   {
    "duration": 40,
    "start_time": "2024-12-15T17:16:03.577Z"
   },
   {
    "duration": 25,
    "start_time": "2024-12-15T17:16:26.006Z"
   },
   {
    "duration": 34,
    "start_time": "2024-12-15T17:16:45.215Z"
   },
   {
    "duration": 108,
    "start_time": "2024-12-15T17:17:01.479Z"
   },
   {
    "duration": 9,
    "start_time": "2024-12-15T17:17:05.713Z"
   },
   {
    "duration": 11,
    "start_time": "2024-12-15T17:17:18.309Z"
   },
   {
    "duration": 38,
    "start_time": "2024-12-15T17:17:34.383Z"
   },
   {
    "duration": 27,
    "start_time": "2024-12-15T17:18:04.117Z"
   },
   {
    "duration": 8,
    "start_time": "2024-12-15T17:18:12.671Z"
   },
   {
    "duration": 34,
    "start_time": "2024-12-15T17:18:21.022Z"
   },
   {
    "duration": 10,
    "start_time": "2024-12-15T17:18:58.608Z"
   },
   {
    "duration": 15,
    "start_time": "2024-12-15T17:22:05.999Z"
   },
   {
    "duration": 24,
    "start_time": "2024-12-15T17:22:21.610Z"
   },
   {
    "duration": 11,
    "start_time": "2024-12-15T17:24:13.537Z"
   },
   {
    "duration": 22,
    "start_time": "2024-12-15T17:26:21.747Z"
   },
   {
    "duration": 5,
    "start_time": "2024-12-15T17:28:04.008Z"
   },
   {
    "duration": 4,
    "start_time": "2024-12-15T17:28:09.525Z"
   },
   {
    "duration": 131,
    "start_time": "2024-12-15T17:28:09.532Z"
   },
   {
    "duration": 23,
    "start_time": "2024-12-15T17:28:09.665Z"
   },
   {
    "duration": 48,
    "start_time": "2024-12-15T17:28:09.689Z"
   },
   {
    "duration": 68,
    "start_time": "2024-12-15T17:28:09.739Z"
   },
   {
    "duration": 1622,
    "start_time": "2024-12-15T17:28:09.808Z"
   },
   {
    "duration": 29,
    "start_time": "2024-12-15T17:28:11.432Z"
   },
   {
    "duration": 9,
    "start_time": "2024-12-15T17:28:11.463Z"
   },
   {
    "duration": 33,
    "start_time": "2024-12-15T17:28:11.473Z"
   },
   {
    "duration": 32,
    "start_time": "2024-12-15T17:28:11.508Z"
   },
   {
    "duration": 16,
    "start_time": "2024-12-15T17:28:11.542Z"
   },
   {
    "duration": 6,
    "start_time": "2024-12-15T17:28:11.559Z"
   },
   {
    "duration": 9,
    "start_time": "2024-12-15T17:28:11.566Z"
   },
   {
    "duration": 65,
    "start_time": "2024-12-15T17:28:11.577Z"
   },
   {
    "duration": 10,
    "start_time": "2024-12-15T17:28:11.644Z"
   },
   {
    "duration": 40,
    "start_time": "2024-12-15T17:28:11.655Z"
   },
   {
    "duration": 36,
    "start_time": "2024-12-15T17:28:11.697Z"
   },
   {
    "duration": 19,
    "start_time": "2024-12-15T17:28:11.735Z"
   },
   {
    "duration": 8,
    "start_time": "2024-12-15T17:28:11.755Z"
   },
   {
    "duration": 8,
    "start_time": "2024-12-15T17:28:11.764Z"
   },
   {
    "duration": 11,
    "start_time": "2024-12-15T17:28:11.773Z"
   },
   {
    "duration": 7,
    "start_time": "2024-12-15T17:28:11.785Z"
   },
   {
    "duration": 9,
    "start_time": "2024-12-15T17:28:11.793Z"
   },
   {
    "duration": 19,
    "start_time": "2024-12-15T17:28:11.804Z"
   },
   {
    "duration": 28,
    "start_time": "2024-12-15T17:28:11.825Z"
   },
   {
    "duration": 28,
    "start_time": "2024-12-15T17:28:11.854Z"
   },
   {
    "duration": 5,
    "start_time": "2024-12-15T17:28:11.884Z"
   },
   {
    "duration": 19,
    "start_time": "2024-12-15T17:28:11.890Z"
   },
   {
    "duration": 346,
    "start_time": "2024-12-15T17:28:11.912Z"
   },
   {
    "duration": 7,
    "start_time": "2024-12-15T17:28:12.260Z"
   },
   {
    "duration": 4,
    "start_time": "2024-12-15T17:28:15.457Z"
   },
   {
    "duration": 12,
    "start_time": "2024-12-15T17:28:47.017Z"
   },
   {
    "duration": 12,
    "start_time": "2024-12-15T17:28:52.694Z"
   },
   {
    "duration": 4,
    "start_time": "2024-12-15T17:29:03.161Z"
   },
   {
    "duration": 9,
    "start_time": "2024-12-15T17:33:44.652Z"
   },
   {
    "duration": 3,
    "start_time": "2024-12-15T17:33:50.545Z"
   },
   {
    "duration": 122,
    "start_time": "2024-12-15T17:33:50.550Z"
   },
   {
    "duration": 24,
    "start_time": "2024-12-15T17:33:50.674Z"
   },
   {
    "duration": 44,
    "start_time": "2024-12-15T17:33:50.699Z"
   },
   {
    "duration": 79,
    "start_time": "2024-12-15T17:33:50.746Z"
   },
   {
    "duration": 1811,
    "start_time": "2024-12-15T17:33:50.827Z"
   },
   {
    "duration": 30,
    "start_time": "2024-12-15T17:33:52.640Z"
   },
   {
    "duration": 13,
    "start_time": "2024-12-15T17:33:52.672Z"
   },
   {
    "duration": 31,
    "start_time": "2024-12-15T17:33:52.686Z"
   },
   {
    "duration": 34,
    "start_time": "2024-12-15T17:33:52.720Z"
   },
   {
    "duration": 12,
    "start_time": "2024-12-15T17:33:52.756Z"
   },
   {
    "duration": 7,
    "start_time": "2024-12-15T17:33:52.770Z"
   },
   {
    "duration": 11,
    "start_time": "2024-12-15T17:33:52.778Z"
   },
   {
    "duration": 90,
    "start_time": "2024-12-15T17:33:52.793Z"
   },
   {
    "duration": 7,
    "start_time": "2024-12-15T17:33:52.885Z"
   },
   {
    "duration": 63,
    "start_time": "2024-12-15T17:33:52.894Z"
   },
   {
    "duration": 45,
    "start_time": "2024-12-15T17:33:52.959Z"
   },
   {
    "duration": 6,
    "start_time": "2024-12-15T17:33:53.005Z"
   },
   {
    "duration": 10,
    "start_time": "2024-12-15T17:33:53.012Z"
   },
   {
    "duration": 4,
    "start_time": "2024-12-15T17:33:53.023Z"
   },
   {
    "duration": 20,
    "start_time": "2024-12-15T17:33:53.028Z"
   },
   {
    "duration": 6,
    "start_time": "2024-12-15T17:33:53.053Z"
   },
   {
    "duration": 8,
    "start_time": "2024-12-15T17:33:53.061Z"
   },
   {
    "duration": 9,
    "start_time": "2024-12-15T17:33:53.070Z"
   },
   {
    "duration": 20,
    "start_time": "2024-12-15T17:33:53.081Z"
   },
   {
    "duration": 51,
    "start_time": "2024-12-15T17:33:53.103Z"
   },
   {
    "duration": 5,
    "start_time": "2024-12-15T17:33:53.156Z"
   },
   {
    "duration": 23,
    "start_time": "2024-12-15T17:33:53.162Z"
   },
   {
    "duration": 350,
    "start_time": "2024-12-15T17:33:53.187Z"
   },
   {
    "duration": 14,
    "start_time": "2024-12-15T17:33:53.539Z"
   },
   {
    "duration": 14,
    "start_time": "2024-12-15T17:33:53.554Z"
   },
   {
    "duration": 30,
    "start_time": "2024-12-15T17:33:53.569Z"
   },
   {
    "duration": 4,
    "start_time": "2024-12-15T17:33:53.600Z"
   },
   {
    "duration": 176,
    "start_time": "2024-12-15T17:33:53.606Z"
   },
   {
    "duration": 210,
    "start_time": "2024-12-15T17:33:53.783Z"
   },
   {
    "duration": 181,
    "start_time": "2024-12-15T17:33:53.995Z"
   },
   {
    "duration": 17,
    "start_time": "2024-12-15T17:33:54.177Z"
   },
   {
    "duration": 39,
    "start_time": "2024-12-15T17:33:54.196Z"
   },
   {
    "duration": 162,
    "start_time": "2024-12-15T17:33:54.252Z"
   },
   {
    "duration": 18,
    "start_time": "2024-12-15T17:33:54.415Z"
   },
   {
    "duration": 16,
    "start_time": "2024-12-15T17:33:54.437Z"
   },
   {
    "duration": 172,
    "start_time": "2024-12-15T17:33:54.454Z"
   },
   {
    "duration": 44,
    "start_time": "2024-12-15T17:33:54.627Z"
   },
   {
    "duration": 32,
    "start_time": "2024-12-15T17:33:54.673Z"
   },
   {
    "duration": 19,
    "start_time": "2024-12-15T17:33:54.706Z"
   },
   {
    "duration": 29,
    "start_time": "2024-12-15T17:33:54.726Z"
   },
   {
    "duration": 14,
    "start_time": "2024-12-15T17:33:54.757Z"
   },
   {
    "duration": 175,
    "start_time": "2024-12-15T17:33:54.773Z"
   },
   {
    "duration": 178,
    "start_time": "2024-12-15T17:33:54.953Z"
   },
   {
    "duration": 28,
    "start_time": "2024-12-15T17:33:55.133Z"
   },
   {
    "duration": 7,
    "start_time": "2024-12-15T17:33:55.163Z"
   },
   {
    "duration": 170,
    "start_time": "2024-12-15T17:33:55.172Z"
   },
   {
    "duration": 179,
    "start_time": "2024-12-15T17:33:55.344Z"
   },
   {
    "duration": 28,
    "start_time": "2024-12-15T17:33:55.525Z"
   },
   {
    "duration": 5,
    "start_time": "2024-12-15T17:33:55.554Z"
   },
   {
    "duration": 377,
    "start_time": "2024-12-15T17:33:55.560Z"
   },
   {
    "duration": 14,
    "start_time": "2024-12-15T17:33:55.939Z"
   },
   {
    "duration": 10,
    "start_time": "2024-12-15T17:33:55.955Z"
   },
   {
    "duration": 0,
    "start_time": "2024-12-15T17:33:55.966Z"
   },
   {
    "duration": 0,
    "start_time": "2024-12-15T17:33:55.967Z"
   },
   {
    "duration": 0,
    "start_time": "2024-12-15T17:33:55.968Z"
   },
   {
    "duration": 0,
    "start_time": "2024-12-15T17:33:55.969Z"
   },
   {
    "duration": 0,
    "start_time": "2024-12-15T17:33:55.969Z"
   },
   {
    "duration": 0,
    "start_time": "2024-12-15T17:33:55.970Z"
   },
   {
    "duration": 0,
    "start_time": "2024-12-15T17:33:55.971Z"
   },
   {
    "duration": 0,
    "start_time": "2024-12-15T17:33:55.972Z"
   },
   {
    "duration": 0,
    "start_time": "2024-12-15T17:33:55.973Z"
   },
   {
    "duration": 0,
    "start_time": "2024-12-15T17:33:55.974Z"
   },
   {
    "duration": 0,
    "start_time": "2024-12-15T17:33:55.974Z"
   },
   {
    "duration": 0,
    "start_time": "2024-12-15T17:33:55.975Z"
   },
   {
    "duration": 0,
    "start_time": "2024-12-15T17:33:55.976Z"
   },
   {
    "duration": 0,
    "start_time": "2024-12-15T17:33:55.977Z"
   },
   {
    "duration": 10,
    "start_time": "2024-12-15T17:35:33.987Z"
   },
   {
    "duration": 16,
    "start_time": "2024-12-15T17:36:01.038Z"
   },
   {
    "duration": 79,
    "start_time": "2024-12-15T17:37:38.283Z"
   },
   {
    "duration": 8,
    "start_time": "2024-12-15T17:37:44.805Z"
   },
   {
    "duration": 79,
    "start_time": "2024-12-15T17:37:48.824Z"
   },
   {
    "duration": 83,
    "start_time": "2024-12-15T17:39:34.815Z"
   },
   {
    "duration": 102,
    "start_time": "2024-12-15T17:39:51.941Z"
   },
   {
    "duration": 107,
    "start_time": "2024-12-15T17:39:55.250Z"
   },
   {
    "duration": 648,
    "start_time": "2024-12-15T17:40:09.807Z"
   },
   {
    "duration": 98,
    "start_time": "2024-12-15T17:41:31.938Z"
   },
   {
    "duration": 100,
    "start_time": "2024-12-15T17:41:58.529Z"
   },
   {
    "duration": 98,
    "start_time": "2024-12-15T17:42:02.775Z"
   },
   {
    "duration": 117,
    "start_time": "2024-12-15T17:42:36.284Z"
   },
   {
    "duration": 107,
    "start_time": "2024-12-15T17:43:52.508Z"
   },
   {
    "duration": 5,
    "start_time": "2024-12-15T18:41:18.170Z"
   },
   {
    "duration": 9,
    "start_time": "2024-12-15T18:41:37.508Z"
   },
   {
    "duration": 5,
    "start_time": "2024-12-15T18:41:42.920Z"
   },
   {
    "duration": 11,
    "start_time": "2024-12-15T18:41:53.975Z"
   },
   {
    "duration": 4,
    "start_time": "2024-12-15T18:41:59.456Z"
   },
   {
    "duration": 5,
    "start_time": "2024-12-15T18:42:22.219Z"
   },
   {
    "duration": 4,
    "start_time": "2024-12-15T18:44:04.801Z"
   },
   {
    "duration": 4,
    "start_time": "2024-12-15T18:44:19.165Z"
   },
   {
    "duration": 3,
    "start_time": "2024-12-15T18:44:29.306Z"
   },
   {
    "duration": 150,
    "start_time": "2024-12-15T18:44:29.311Z"
   },
   {
    "duration": 24,
    "start_time": "2024-12-15T18:44:29.463Z"
   },
   {
    "duration": 29,
    "start_time": "2024-12-15T18:44:29.489Z"
   },
   {
    "duration": 76,
    "start_time": "2024-12-15T18:44:29.520Z"
   },
   {
    "duration": 1641,
    "start_time": "2024-12-15T18:44:29.597Z"
   },
   {
    "duration": 29,
    "start_time": "2024-12-15T18:44:31.240Z"
   },
   {
    "duration": 9,
    "start_time": "2024-12-15T18:44:31.270Z"
   },
   {
    "duration": 47,
    "start_time": "2024-12-15T18:44:31.281Z"
   },
   {
    "duration": 42,
    "start_time": "2024-12-15T18:44:31.331Z"
   },
   {
    "duration": 12,
    "start_time": "2024-12-15T18:44:31.375Z"
   },
   {
    "duration": 18,
    "start_time": "2024-12-15T18:44:31.388Z"
   },
   {
    "duration": 23,
    "start_time": "2024-12-15T18:44:31.407Z"
   },
   {
    "duration": 62,
    "start_time": "2024-12-15T18:44:31.431Z"
   },
   {
    "duration": 6,
    "start_time": "2024-12-15T18:44:31.494Z"
   },
   {
    "duration": 56,
    "start_time": "2024-12-15T18:44:31.501Z"
   },
   {
    "duration": 32,
    "start_time": "2024-12-15T18:44:31.558Z"
   },
   {
    "duration": 29,
    "start_time": "2024-12-15T18:44:31.591Z"
   },
   {
    "duration": 19,
    "start_time": "2024-12-15T18:44:31.621Z"
   },
   {
    "duration": 23,
    "start_time": "2024-12-15T18:44:31.642Z"
   },
   {
    "duration": 40,
    "start_time": "2024-12-15T18:44:31.667Z"
   },
   {
    "duration": 28,
    "start_time": "2024-12-15T18:44:31.708Z"
   },
   {
    "duration": 24,
    "start_time": "2024-12-15T18:44:31.737Z"
   },
   {
    "duration": 40,
    "start_time": "2024-12-15T18:44:31.762Z"
   },
   {
    "duration": 15,
    "start_time": "2024-12-15T18:44:31.804Z"
   },
   {
    "duration": 30,
    "start_time": "2024-12-15T18:44:31.820Z"
   },
   {
    "duration": 9,
    "start_time": "2024-12-15T18:44:31.852Z"
   },
   {
    "duration": 40,
    "start_time": "2024-12-15T18:44:31.865Z"
   },
   {
    "duration": 527,
    "start_time": "2024-12-15T18:44:31.906Z"
   },
   {
    "duration": 8,
    "start_time": "2024-12-15T18:44:32.435Z"
   },
   {
    "duration": 107,
    "start_time": "2024-12-15T18:44:32.444Z"
   },
   {
    "duration": 37,
    "start_time": "2024-12-15T18:44:32.553Z"
   },
   {
    "duration": 4,
    "start_time": "2024-12-15T18:44:32.592Z"
   },
   {
    "duration": 162,
    "start_time": "2024-12-15T18:44:32.597Z"
   },
   {
    "duration": 171,
    "start_time": "2024-12-15T18:44:32.761Z"
   },
   {
    "duration": 163,
    "start_time": "2024-12-15T18:44:32.934Z"
   },
   {
    "duration": 15,
    "start_time": "2024-12-15T18:44:33.098Z"
   },
   {
    "duration": 50,
    "start_time": "2024-12-15T18:44:33.115Z"
   },
   {
    "duration": 179,
    "start_time": "2024-12-15T18:44:33.167Z"
   },
   {
    "duration": 18,
    "start_time": "2024-12-15T18:44:33.353Z"
   },
   {
    "duration": 27,
    "start_time": "2024-12-15T18:44:33.372Z"
   },
   {
    "duration": 179,
    "start_time": "2024-12-15T18:44:33.400Z"
   },
   {
    "duration": 39,
    "start_time": "2024-12-15T18:44:33.581Z"
   },
   {
    "duration": 43,
    "start_time": "2024-12-15T18:44:33.621Z"
   },
   {
    "duration": 20,
    "start_time": "2024-12-15T18:44:33.665Z"
   },
   {
    "duration": 21,
    "start_time": "2024-12-15T18:44:33.686Z"
   },
   {
    "duration": 11,
    "start_time": "2024-12-15T18:44:33.709Z"
   },
   {
    "duration": 161,
    "start_time": "2024-12-15T18:44:33.722Z"
   },
   {
    "duration": 206,
    "start_time": "2024-12-15T18:44:33.885Z"
   },
   {
    "duration": 20,
    "start_time": "2024-12-15T18:44:34.092Z"
   },
   {
    "duration": 9,
    "start_time": "2024-12-15T18:44:34.113Z"
   },
   {
    "duration": 171,
    "start_time": "2024-12-15T18:44:34.124Z"
   },
   {
    "duration": 174,
    "start_time": "2024-12-15T18:44:34.297Z"
   },
   {
    "duration": 21,
    "start_time": "2024-12-15T18:44:34.472Z"
   },
   {
    "duration": 9,
    "start_time": "2024-12-15T18:44:34.495Z"
   },
   {
    "duration": 190,
    "start_time": "2024-12-15T18:44:34.506Z"
   },
   {
    "duration": 4,
    "start_time": "2024-12-15T18:44:34.698Z"
   },
   {
    "duration": 124,
    "start_time": "2024-12-15T18:44:34.703Z"
   },
   {
    "duration": 4,
    "start_time": "2024-12-15T18:44:34.829Z"
   },
   {
    "duration": 47,
    "start_time": "2024-12-15T18:44:34.835Z"
   },
   {
    "duration": 8,
    "start_time": "2024-12-15T18:44:34.884Z"
   },
   {
    "duration": 624,
    "start_time": "2024-12-15T18:44:34.893Z"
   },
   {
    "duration": 343,
    "start_time": "2024-12-15T18:44:35.518Z"
   },
   {
    "duration": 329,
    "start_time": "2024-12-15T18:44:35.863Z"
   },
   {
    "duration": 344,
    "start_time": "2024-12-15T18:44:36.194Z"
   },
   {
    "duration": 330,
    "start_time": "2024-12-15T18:44:36.540Z"
   },
   {
    "duration": 14,
    "start_time": "2024-12-15T18:44:36.872Z"
   },
   {
    "duration": 153,
    "start_time": "2024-12-15T18:44:36.887Z"
   },
   {
    "duration": 138,
    "start_time": "2024-12-15T18:44:37.041Z"
   },
   {
    "duration": 141,
    "start_time": "2024-12-15T18:44:37.180Z"
   },
   {
    "duration": 30,
    "start_time": "2024-12-15T18:44:37.323Z"
   },
   {
    "duration": 20,
    "start_time": "2024-12-15T18:44:37.354Z"
   },
   {
    "duration": 168,
    "start_time": "2024-12-15T18:44:37.376Z"
   },
   {
    "duration": 5,
    "start_time": "2024-12-15T18:46:51.244Z"
   },
   {
    "duration": 6,
    "start_time": "2024-12-15T18:49:48.723Z"
   },
   {
    "duration": 4,
    "start_time": "2024-12-15T18:50:10.538Z"
   },
   {
    "duration": 5,
    "start_time": "2024-12-15T18:50:20.796Z"
   },
   {
    "duration": 5,
    "start_time": "2024-12-15T18:50:28.156Z"
   },
   {
    "duration": 5,
    "start_time": "2024-12-15T18:51:41.843Z"
   },
   {
    "duration": 6,
    "start_time": "2024-12-15T18:51:53.776Z"
   },
   {
    "duration": 6,
    "start_time": "2024-12-15T18:52:03.596Z"
   },
   {
    "duration": 5,
    "start_time": "2024-12-15T18:52:05.433Z"
   },
   {
    "duration": 8,
    "start_time": "2024-12-15T18:55:52.913Z"
   },
   {
    "duration": 90,
    "start_time": "2024-12-15T18:58:58.372Z"
   },
   {
    "duration": 24,
    "start_time": "2024-12-15T18:58:58.480Z"
   },
   {
    "duration": 13,
    "start_time": "2024-12-15T18:58:58.595Z"
   },
   {
    "duration": 67,
    "start_time": "2024-12-15T18:59:00.254Z"
   },
   {
    "duration": 1647,
    "start_time": "2024-12-15T18:59:00.363Z"
   },
   {
    "duration": 38,
    "start_time": "2024-12-15T18:59:02.025Z"
   },
   {
    "duration": 27,
    "start_time": "2024-12-15T18:59:02.096Z"
   },
   {
    "duration": 26,
    "start_time": "2024-12-15T18:59:02.137Z"
   },
   {
    "duration": 0,
    "start_time": "2024-12-15T18:59:02.169Z"
   },
   {
    "duration": 0,
    "start_time": "2024-12-15T18:59:02.172Z"
   },
   {
    "duration": 0,
    "start_time": "2024-12-15T18:59:02.174Z"
   },
   {
    "duration": 0,
    "start_time": "2024-12-15T18:59:02.176Z"
   },
   {
    "duration": 0,
    "start_time": "2024-12-15T18:59:02.178Z"
   },
   {
    "duration": 0,
    "start_time": "2024-12-15T18:59:02.180Z"
   },
   {
    "duration": 0,
    "start_time": "2024-12-15T18:59:02.183Z"
   },
   {
    "duration": 0,
    "start_time": "2024-12-15T18:59:02.185Z"
   },
   {
    "duration": 0,
    "start_time": "2024-12-15T18:59:02.187Z"
   },
   {
    "duration": 0,
    "start_time": "2024-12-15T18:59:02.189Z"
   },
   {
    "duration": 0,
    "start_time": "2024-12-15T18:59:02.191Z"
   },
   {
    "duration": 0,
    "start_time": "2024-12-15T18:59:02.193Z"
   },
   {
    "duration": 0,
    "start_time": "2024-12-15T18:59:02.195Z"
   },
   {
    "duration": 0,
    "start_time": "2024-12-15T18:59:02.196Z"
   },
   {
    "duration": 0,
    "start_time": "2024-12-15T18:59:02.198Z"
   },
   {
    "duration": 0,
    "start_time": "2024-12-15T18:59:02.254Z"
   },
   {
    "duration": 0,
    "start_time": "2024-12-15T18:59:02.255Z"
   },
   {
    "duration": 0,
    "start_time": "2024-12-15T18:59:02.257Z"
   },
   {
    "duration": 0,
    "start_time": "2024-12-15T18:59:02.259Z"
   },
   {
    "duration": 0,
    "start_time": "2024-12-15T18:59:02.261Z"
   },
   {
    "duration": 0,
    "start_time": "2024-12-15T18:59:02.262Z"
   },
   {
    "duration": 0,
    "start_time": "2024-12-15T18:59:02.264Z"
   },
   {
    "duration": 0,
    "start_time": "2024-12-15T18:59:02.266Z"
   },
   {
    "duration": 0,
    "start_time": "2024-12-15T18:59:02.268Z"
   },
   {
    "duration": 0,
    "start_time": "2024-12-15T18:59:02.269Z"
   },
   {
    "duration": 0,
    "start_time": "2024-12-15T18:59:02.271Z"
   },
   {
    "duration": 0,
    "start_time": "2024-12-15T18:59:02.273Z"
   },
   {
    "duration": 0,
    "start_time": "2024-12-15T18:59:02.275Z"
   },
   {
    "duration": 0,
    "start_time": "2024-12-15T18:59:02.276Z"
   },
   {
    "duration": 0,
    "start_time": "2024-12-15T18:59:02.278Z"
   },
   {
    "duration": 0,
    "start_time": "2024-12-15T18:59:02.280Z"
   },
   {
    "duration": 0,
    "start_time": "2024-12-15T18:59:02.281Z"
   },
   {
    "duration": 0,
    "start_time": "2024-12-15T18:59:02.283Z"
   },
   {
    "duration": 0,
    "start_time": "2024-12-15T18:59:02.285Z"
   },
   {
    "duration": 0,
    "start_time": "2024-12-15T18:59:02.287Z"
   },
   {
    "duration": 0,
    "start_time": "2024-12-15T18:59:02.288Z"
   },
   {
    "duration": 0,
    "start_time": "2024-12-15T18:59:02.354Z"
   },
   {
    "duration": 0,
    "start_time": "2024-12-15T18:59:02.356Z"
   },
   {
    "duration": 0,
    "start_time": "2024-12-15T18:59:02.359Z"
   },
   {
    "duration": 0,
    "start_time": "2024-12-15T18:59:02.362Z"
   },
   {
    "duration": 0,
    "start_time": "2024-12-15T18:59:02.365Z"
   },
   {
    "duration": 0,
    "start_time": "2024-12-15T18:59:02.367Z"
   },
   {
    "duration": 0,
    "start_time": "2024-12-15T18:59:02.370Z"
   },
   {
    "duration": 0,
    "start_time": "2024-12-15T18:59:02.373Z"
   },
   {
    "duration": 0,
    "start_time": "2024-12-15T18:59:02.375Z"
   },
   {
    "duration": 0,
    "start_time": "2024-12-15T18:59:02.378Z"
   },
   {
    "duration": 0,
    "start_time": "2024-12-15T18:59:02.380Z"
   },
   {
    "duration": 0,
    "start_time": "2024-12-15T18:59:02.383Z"
   },
   {
    "duration": 0,
    "start_time": "2024-12-15T18:59:02.385Z"
   },
   {
    "duration": 0,
    "start_time": "2024-12-15T18:59:02.388Z"
   },
   {
    "duration": 0,
    "start_time": "2024-12-15T18:59:02.455Z"
   },
   {
    "duration": 0,
    "start_time": "2024-12-15T18:59:02.458Z"
   },
   {
    "duration": 0,
    "start_time": "2024-12-15T18:59:02.461Z"
   },
   {
    "duration": 0,
    "start_time": "2024-12-15T18:59:02.464Z"
   },
   {
    "duration": 0,
    "start_time": "2024-12-15T18:59:02.467Z"
   },
   {
    "duration": 0,
    "start_time": "2024-12-15T18:59:02.470Z"
   },
   {
    "duration": 0,
    "start_time": "2024-12-15T18:59:02.473Z"
   },
   {
    "duration": 0,
    "start_time": "2024-12-15T18:59:02.475Z"
   },
   {
    "duration": 0,
    "start_time": "2024-12-15T18:59:02.477Z"
   },
   {
    "duration": 0,
    "start_time": "2024-12-15T18:59:02.478Z"
   },
   {
    "duration": 0,
    "start_time": "2024-12-15T18:59:02.481Z"
   },
   {
    "duration": 0,
    "start_time": "2024-12-15T18:59:02.483Z"
   },
   {
    "duration": 0,
    "start_time": "2024-12-15T18:59:02.483Z"
   },
   {
    "duration": 0,
    "start_time": "2024-12-15T18:59:02.485Z"
   },
   {
    "duration": 3,
    "start_time": "2024-12-15T19:01:27.778Z"
   },
   {
    "duration": 128,
    "start_time": "2024-12-15T19:01:27.785Z"
   },
   {
    "duration": 22,
    "start_time": "2024-12-15T19:01:27.915Z"
   },
   {
    "duration": 40,
    "start_time": "2024-12-15T19:01:27.939Z"
   },
   {
    "duration": 81,
    "start_time": "2024-12-15T19:01:27.981Z"
   },
   {
    "duration": 1620,
    "start_time": "2024-12-15T19:01:28.064Z"
   },
   {
    "duration": 20,
    "start_time": "2024-12-15T19:01:29.686Z"
   },
   {
    "duration": 34,
    "start_time": "2024-12-15T19:01:29.708Z"
   },
   {
    "duration": 92,
    "start_time": "2024-12-15T19:01:29.744Z"
   },
   {
    "duration": 64,
    "start_time": "2024-12-15T19:01:29.838Z"
   },
   {
    "duration": 64,
    "start_time": "2024-12-15T19:01:29.904Z"
   },
   {
    "duration": 40,
    "start_time": "2024-12-15T19:01:29.970Z"
   },
   {
    "duration": 67,
    "start_time": "2024-12-15T19:01:30.012Z"
   },
   {
    "duration": 105,
    "start_time": "2024-12-15T19:01:30.081Z"
   },
   {
    "duration": 69,
    "start_time": "2024-12-15T19:01:30.189Z"
   },
   {
    "duration": 157,
    "start_time": "2024-12-15T19:01:30.260Z"
   },
   {
    "duration": 96,
    "start_time": "2024-12-15T19:01:30.418Z"
   },
   {
    "duration": 110,
    "start_time": "2024-12-15T19:01:30.516Z"
   },
   {
    "duration": 99,
    "start_time": "2024-12-15T19:01:30.628Z"
   },
   {
    "duration": 21,
    "start_time": "2024-12-15T19:01:30.728Z"
   },
   {
    "duration": 45,
    "start_time": "2024-12-15T19:01:30.751Z"
   },
   {
    "duration": 37,
    "start_time": "2024-12-15T19:01:30.798Z"
   },
   {
    "duration": 26,
    "start_time": "2024-12-15T19:01:30.837Z"
   },
   {
    "duration": 59,
    "start_time": "2024-12-15T19:01:30.865Z"
   },
   {
    "duration": 45,
    "start_time": "2024-12-15T19:01:30.925Z"
   },
   {
    "duration": 44,
    "start_time": "2024-12-15T19:01:30.971Z"
   },
   {
    "duration": 37,
    "start_time": "2024-12-15T19:01:31.017Z"
   },
   {
    "duration": 67,
    "start_time": "2024-12-15T19:01:31.056Z"
   },
   {
    "duration": 396,
    "start_time": "2024-12-15T19:01:31.124Z"
   },
   {
    "duration": 8,
    "start_time": "2024-12-15T19:01:31.522Z"
   },
   {
    "duration": 62,
    "start_time": "2024-12-15T19:01:31.532Z"
   },
   {
    "duration": 57,
    "start_time": "2024-12-15T19:01:31.596Z"
   },
   {
    "duration": 21,
    "start_time": "2024-12-15T19:01:31.655Z"
   },
   {
    "duration": 200,
    "start_time": "2024-12-15T19:01:31.677Z"
   },
   {
    "duration": 166,
    "start_time": "2024-12-15T19:01:31.879Z"
   },
   {
    "duration": 164,
    "start_time": "2024-12-15T19:01:32.047Z"
   },
   {
    "duration": 15,
    "start_time": "2024-12-15T19:01:32.213Z"
   },
   {
    "duration": 87,
    "start_time": "2024-12-15T19:01:32.229Z"
   },
   {
    "duration": 197,
    "start_time": "2024-12-15T19:01:32.317Z"
   },
   {
    "duration": 18,
    "start_time": "2024-12-15T19:01:32.515Z"
   },
   {
    "duration": 82,
    "start_time": "2024-12-15T19:01:32.534Z"
   },
   {
    "duration": 208,
    "start_time": "2024-12-15T19:01:32.620Z"
   },
   {
    "duration": 39,
    "start_time": "2024-12-15T19:01:32.829Z"
   },
   {
    "duration": 51,
    "start_time": "2024-12-15T19:01:32.870Z"
   },
   {
    "duration": 56,
    "start_time": "2024-12-15T19:01:32.922Z"
   },
   {
    "duration": 62,
    "start_time": "2024-12-15T19:01:32.980Z"
   },
   {
    "duration": 54,
    "start_time": "2024-12-15T19:01:33.043Z"
   },
   {
    "duration": 199,
    "start_time": "2024-12-15T19:01:33.098Z"
   },
   {
    "duration": 172,
    "start_time": "2024-12-15T19:01:33.298Z"
   },
   {
    "duration": 20,
    "start_time": "2024-12-15T19:01:33.472Z"
   },
   {
    "duration": 43,
    "start_time": "2024-12-15T19:01:33.494Z"
   },
   {
    "duration": 176,
    "start_time": "2024-12-15T19:01:33.539Z"
   },
   {
    "duration": 178,
    "start_time": "2024-12-15T19:01:33.717Z"
   },
   {
    "duration": 35,
    "start_time": "2024-12-15T19:01:33.898Z"
   },
   {
    "duration": 69,
    "start_time": "2024-12-15T19:01:33.935Z"
   },
   {
    "duration": 228,
    "start_time": "2024-12-15T19:01:34.006Z"
   },
   {
    "duration": 17,
    "start_time": "2024-12-15T19:01:34.236Z"
   },
   {
    "duration": 159,
    "start_time": "2024-12-15T19:01:34.254Z"
   },
   {
    "duration": 6,
    "start_time": "2024-12-15T19:01:34.415Z"
   },
   {
    "duration": 89,
    "start_time": "2024-12-15T19:01:34.422Z"
   },
   {
    "duration": 708,
    "start_time": "2024-12-15T19:01:34.513Z"
   },
   {
    "duration": 361,
    "start_time": "2024-12-15T19:02:28.516Z"
   },
   {
    "duration": 328,
    "start_time": "2024-12-15T19:02:28.879Z"
   },
   {
    "duration": 358,
    "start_time": "2024-12-15T19:02:29.209Z"
   },
   {
    "duration": 12,
    "start_time": "2024-12-15T19:02:29.569Z"
   },
   {
    "duration": 150,
    "start_time": "2024-12-15T19:02:29.583Z"
   },
   {
    "duration": 149,
    "start_time": "2024-12-15T19:02:29.735Z"
   },
   {
    "duration": 153,
    "start_time": "2024-12-15T19:02:29.886Z"
   },
   {
    "duration": 25,
    "start_time": "2024-12-15T19:02:30.041Z"
   },
   {
    "duration": 90,
    "start_time": "2024-12-15T19:02:30.068Z"
   },
   {
    "duration": 202,
    "start_time": "2024-12-15T19:02:30.160Z"
   },
   {
    "duration": 4,
    "start_time": "2024-12-15T19:06:30.165Z"
   },
   {
    "duration": 154,
    "start_time": "2024-12-15T19:06:30.171Z"
   },
   {
    "duration": 28,
    "start_time": "2024-12-15T19:06:30.326Z"
   },
   {
    "duration": 92,
    "start_time": "2024-12-15T19:06:30.356Z"
   },
   {
    "duration": 139,
    "start_time": "2024-12-15T19:06:30.450Z"
   },
   {
    "duration": 1670,
    "start_time": "2024-12-15T19:06:30.590Z"
   },
   {
    "duration": 20,
    "start_time": "2024-12-15T19:06:32.262Z"
   },
   {
    "duration": 42,
    "start_time": "2024-12-15T19:06:32.284Z"
   },
   {
    "duration": 50,
    "start_time": "2024-12-15T19:06:32.328Z"
   },
   {
    "duration": 34,
    "start_time": "2024-12-15T19:06:32.380Z"
   },
   {
    "duration": 29,
    "start_time": "2024-12-15T19:06:32.416Z"
   },
   {
    "duration": 55,
    "start_time": "2024-12-15T19:06:32.447Z"
   },
   {
    "duration": 39,
    "start_time": "2024-12-15T19:06:32.503Z"
   },
   {
    "duration": 127,
    "start_time": "2024-12-15T19:06:32.544Z"
   },
   {
    "duration": 13,
    "start_time": "2024-12-15T19:06:32.673Z"
   },
   {
    "duration": 78,
    "start_time": "2024-12-15T19:06:32.688Z"
   },
   {
    "duration": 47,
    "start_time": "2024-12-15T19:06:32.768Z"
   },
   {
    "duration": 18,
    "start_time": "2024-12-15T19:06:32.817Z"
   },
   {
    "duration": 1601,
    "start_time": "2024-12-15T19:06:32.837Z"
   },
   {
    "duration": 34,
    "start_time": "2024-12-15T19:06:34.439Z"
   },
   {
    "duration": 44,
    "start_time": "2024-12-15T19:06:34.475Z"
   },
   {
    "duration": 45,
    "start_time": "2024-12-15T19:06:34.520Z"
   },
   {
    "duration": 56,
    "start_time": "2024-12-15T19:06:34.567Z"
   },
   {
    "duration": 42,
    "start_time": "2024-12-15T19:06:34.625Z"
   },
   {
    "duration": 33,
    "start_time": "2024-12-15T19:06:34.669Z"
   },
   {
    "duration": 50,
    "start_time": "2024-12-15T19:06:34.704Z"
   },
   {
    "duration": 66,
    "start_time": "2024-12-15T19:06:34.756Z"
   },
   {
    "duration": 39,
    "start_time": "2024-12-15T19:06:34.823Z"
   },
   {
    "duration": 401,
    "start_time": "2024-12-15T19:06:34.864Z"
   },
   {
    "duration": 7,
    "start_time": "2024-12-15T19:06:35.267Z"
   },
   {
    "duration": 58,
    "start_time": "2024-12-15T19:06:35.276Z"
   },
   {
    "duration": 50,
    "start_time": "2024-12-15T19:06:35.335Z"
   },
   {
    "duration": 33,
    "start_time": "2024-12-15T19:06:35.386Z"
   },
   {
    "duration": 195,
    "start_time": "2024-12-15T19:06:35.421Z"
   },
   {
    "duration": 176,
    "start_time": "2024-12-15T19:06:35.617Z"
   },
   {
    "duration": 169,
    "start_time": "2024-12-15T19:06:35.795Z"
   },
   {
    "duration": 14,
    "start_time": "2024-12-15T19:06:35.966Z"
   },
   {
    "duration": 50,
    "start_time": "2024-12-15T19:06:35.982Z"
   },
   {
    "duration": 167,
    "start_time": "2024-12-15T19:06:36.033Z"
   },
   {
    "duration": 19,
    "start_time": "2024-12-15T19:06:36.201Z"
   },
   {
    "duration": 43,
    "start_time": "2024-12-15T19:06:36.222Z"
   },
   {
    "duration": 210,
    "start_time": "2024-12-15T19:06:36.267Z"
   },
   {
    "duration": 39,
    "start_time": "2024-12-15T19:06:36.479Z"
   },
   {
    "duration": 127,
    "start_time": "2024-12-15T19:06:36.519Z"
   },
   {
    "duration": 78,
    "start_time": "2024-12-15T19:06:36.647Z"
   },
   {
    "duration": 34,
    "start_time": "2024-12-15T19:06:36.727Z"
   },
   {
    "duration": 20,
    "start_time": "2024-12-15T19:06:36.762Z"
   },
   {
    "duration": 209,
    "start_time": "2024-12-15T19:06:36.784Z"
   },
   {
    "duration": 174,
    "start_time": "2024-12-15T19:06:36.994Z"
   },
   {
    "duration": 19,
    "start_time": "2024-12-15T19:06:37.169Z"
   },
   {
    "duration": 18,
    "start_time": "2024-12-15T19:06:37.190Z"
   },
   {
    "duration": 165,
    "start_time": "2024-12-15T19:06:37.210Z"
   },
   {
    "duration": 179,
    "start_time": "2024-12-15T19:06:37.376Z"
   },
   {
    "duration": 20,
    "start_time": "2024-12-15T19:06:37.556Z"
   },
   {
    "duration": 7,
    "start_time": "2024-12-15T19:06:37.578Z"
   },
   {
    "duration": 197,
    "start_time": "2024-12-15T19:06:37.586Z"
   },
   {
    "duration": 5,
    "start_time": "2024-12-15T19:06:37.784Z"
   },
   {
    "duration": 144,
    "start_time": "2024-12-15T19:06:37.790Z"
   },
   {
    "duration": 5,
    "start_time": "2024-12-15T19:06:37.936Z"
   },
   {
    "duration": 12,
    "start_time": "2024-12-15T19:06:37.943Z"
   },
   {
    "duration": 611,
    "start_time": "2024-12-15T19:06:37.957Z"
   },
   {
    "duration": 310,
    "start_time": "2024-12-15T19:06:38.570Z"
   },
   {
    "duration": 50155,
    "start_time": "2024-12-15T19:06:38.881Z"
   },
   {
    "duration": 338,
    "start_time": "2024-12-15T19:07:29.038Z"
   },
   {
    "duration": 333,
    "start_time": "2024-12-15T19:07:29.378Z"
   },
   {
    "duration": 13,
    "start_time": "2024-12-15T19:07:29.712Z"
   },
   {
    "duration": 149,
    "start_time": "2024-12-15T19:07:29.727Z"
   },
   {
    "duration": 136,
    "start_time": "2024-12-15T19:07:29.878Z"
   },
   {
    "duration": 150,
    "start_time": "2024-12-15T19:07:30.016Z"
   },
   {
    "duration": 19,
    "start_time": "2024-12-15T19:07:30.168Z"
   },
   {
    "duration": 47,
    "start_time": "2024-12-15T19:07:30.188Z"
   },
   {
    "duration": 194,
    "start_time": "2024-12-15T19:07:30.237Z"
   },
   {
    "duration": 26615,
    "start_time": "2024-12-15T19:07:38.273Z"
   },
   {
    "duration": 34768,
    "start_time": "2024-12-15T19:08:47.301Z"
   },
   {
    "duration": 132,
    "start_time": "2024-12-15T19:09:39.769Z"
   },
   {
    "duration": 16,
    "start_time": "2024-12-15T19:09:45.557Z"
   },
   {
    "duration": 19,
    "start_time": "2024-12-15T19:09:49.406Z"
   },
   {
    "duration": 16,
    "start_time": "2024-12-15T19:09:56.484Z"
   },
   {
    "duration": 129,
    "start_time": "2024-12-15T19:10:04.108Z"
   },
   {
    "duration": 55,
    "start_time": "2024-12-15T19:11:08.533Z"
   },
   {
    "duration": 28045,
    "start_time": "2024-12-15T19:11:52.181Z"
   },
   {
    "duration": 30280,
    "start_time": "2024-12-15T19:15:34.457Z"
   },
   {
    "duration": 30450,
    "start_time": "2024-12-15T19:16:22.423Z"
   },
   {
    "duration": 30418,
    "start_time": "2024-12-15T19:18:26.597Z"
   },
   {
    "duration": 30238,
    "start_time": "2024-12-15T19:20:13.035Z"
   },
   {
    "duration": 30333,
    "start_time": "2024-12-15T19:20:43.275Z"
   },
   {
    "duration": 30872,
    "start_time": "2024-12-15T19:21:13.610Z"
   },
   {
    "duration": 31319,
    "start_time": "2024-12-15T19:21:44.484Z"
   },
   {
    "duration": 50,
    "start_time": "2024-12-15T19:25:53.510Z"
   },
   {
    "duration": 44,
    "start_time": "2024-12-15T19:25:59.163Z"
   },
   {
    "duration": 48,
    "start_time": "2024-12-15T19:26:07.629Z"
   },
   {
    "duration": 39,
    "start_time": "2024-12-15T19:26:25.588Z"
   },
   {
    "duration": 55,
    "start_time": "2024-12-15T19:26:51.490Z"
   },
   {
    "duration": 47,
    "start_time": "2024-12-15T19:27:28.248Z"
   },
   {
    "duration": 44,
    "start_time": "2024-12-15T19:27:49.736Z"
   },
   {
    "duration": 50,
    "start_time": "2024-12-15T19:27:56.968Z"
   },
   {
    "duration": 692,
    "start_time": "2024-12-15T19:32:39.289Z"
   },
   {
    "duration": 156,
    "start_time": "2024-12-15T19:33:42.225Z"
   },
   {
    "duration": 158,
    "start_time": "2024-12-15T19:34:05.515Z"
   },
   {
    "duration": 158,
    "start_time": "2024-12-15T19:34:27.013Z"
   },
   {
    "duration": 150,
    "start_time": "2024-12-15T19:34:38.678Z"
   },
   {
    "duration": 169,
    "start_time": "2024-12-15T19:34:47.129Z"
   },
   {
    "duration": 160,
    "start_time": "2024-12-15T19:34:54.007Z"
   },
   {
    "duration": 181,
    "start_time": "2024-12-15T19:35:46.431Z"
   },
   {
    "duration": 55,
    "start_time": "2024-12-16T17:01:43.549Z"
   },
   {
    "duration": 7,
    "start_time": "2024-12-16T17:01:49.181Z"
   },
   {
    "duration": 1496,
    "start_time": "2024-12-16T17:01:52.234Z"
   },
   {
    "duration": 199,
    "start_time": "2024-12-16T17:01:53.732Z"
   },
   {
    "duration": 33,
    "start_time": "2024-12-16T17:01:53.933Z"
   },
   {
    "duration": 17,
    "start_time": "2024-12-16T17:01:53.968Z"
   },
   {
    "duration": 97,
    "start_time": "2024-12-16T17:01:53.987Z"
   },
   {
    "duration": 1989,
    "start_time": "2024-12-16T17:01:54.085Z"
   },
   {
    "duration": 27,
    "start_time": "2024-12-16T17:01:56.076Z"
   },
   {
    "duration": 12,
    "start_time": "2024-12-16T17:01:56.105Z"
   },
   {
    "duration": 42,
    "start_time": "2024-12-16T17:01:56.119Z"
   },
   {
    "duration": 11,
    "start_time": "2024-12-16T17:01:56.163Z"
   },
   {
    "duration": 32,
    "start_time": "2024-12-16T17:01:56.176Z"
   },
   {
    "duration": 5,
    "start_time": "2024-12-16T17:01:56.210Z"
   },
   {
    "duration": 14,
    "start_time": "2024-12-16T17:01:56.217Z"
   },
   {
    "duration": 63,
    "start_time": "2024-12-16T17:01:56.236Z"
   },
   {
    "duration": 6,
    "start_time": "2024-12-16T17:01:56.301Z"
   },
   {
    "duration": 67,
    "start_time": "2024-12-16T17:01:56.308Z"
   },
   {
    "duration": 35,
    "start_time": "2024-12-16T17:01:56.377Z"
   },
   {
    "duration": 17,
    "start_time": "2024-12-16T17:01:56.414Z"
   },
   {
    "duration": 18,
    "start_time": "2024-12-16T17:01:56.432Z"
   },
   {
    "duration": 41,
    "start_time": "2024-12-16T17:01:56.451Z"
   },
   {
    "duration": 20,
    "start_time": "2024-12-16T17:01:56.494Z"
   },
   {
    "duration": 16,
    "start_time": "2024-12-16T17:01:56.515Z"
   },
   {
    "duration": 5,
    "start_time": "2024-12-16T17:01:56.533Z"
   },
   {
    "duration": 15,
    "start_time": "2024-12-16T17:01:56.540Z"
   },
   {
    "duration": 13,
    "start_time": "2024-12-16T17:01:56.557Z"
   },
   {
    "duration": 30,
    "start_time": "2024-12-16T17:01:56.571Z"
   },
   {
    "duration": 5,
    "start_time": "2024-12-16T17:01:56.603Z"
   },
   {
    "duration": 30,
    "start_time": "2024-12-16T17:01:56.610Z"
   },
   {
    "duration": 446,
    "start_time": "2024-12-16T17:01:56.642Z"
   },
   {
    "duration": 8,
    "start_time": "2024-12-16T17:01:57.090Z"
   },
   {
    "duration": 21,
    "start_time": "2024-12-16T17:01:57.100Z"
   },
   {
    "duration": 37,
    "start_time": "2024-12-16T17:01:57.122Z"
   },
   {
    "duration": 4,
    "start_time": "2024-12-16T17:01:57.161Z"
   },
   {
    "duration": 194,
    "start_time": "2024-12-16T17:01:57.166Z"
   },
   {
    "duration": 288,
    "start_time": "2024-12-16T17:01:57.361Z"
   },
   {
    "duration": 250,
    "start_time": "2024-12-16T17:01:57.650Z"
   },
   {
    "duration": 18,
    "start_time": "2024-12-16T17:01:57.902Z"
   },
   {
    "duration": 38,
    "start_time": "2024-12-16T17:01:57.938Z"
   },
   {
    "duration": 183,
    "start_time": "2024-12-16T17:01:57.978Z"
   },
   {
    "duration": 24,
    "start_time": "2024-12-16T17:01:58.163Z"
   },
   {
    "duration": 8,
    "start_time": "2024-12-16T17:01:58.194Z"
   },
   {
    "duration": 229,
    "start_time": "2024-12-16T17:01:58.203Z"
   },
   {
    "duration": 54,
    "start_time": "2024-12-16T17:01:58.437Z"
   },
   {
    "duration": 58,
    "start_time": "2024-12-16T17:01:58.493Z"
   },
   {
    "duration": 28,
    "start_time": "2024-12-16T17:01:58.553Z"
   },
   {
    "duration": 24,
    "start_time": "2024-12-16T17:01:58.583Z"
   },
   {
    "duration": 10,
    "start_time": "2024-12-16T17:01:58.609Z"
   },
   {
    "duration": 192,
    "start_time": "2024-12-16T17:01:58.621Z"
   },
   {
    "duration": 187,
    "start_time": "2024-12-16T17:01:58.815Z"
   },
   {
    "duration": 33,
    "start_time": "2024-12-16T17:01:59.005Z"
   },
   {
    "duration": 38,
    "start_time": "2024-12-16T17:01:59.040Z"
   },
   {
    "duration": 289,
    "start_time": "2024-12-16T17:01:59.079Z"
   },
   {
    "duration": 188,
    "start_time": "2024-12-16T17:01:59.370Z"
   },
   {
    "duration": 25,
    "start_time": "2024-12-16T17:01:59.560Z"
   },
   {
    "duration": 18,
    "start_time": "2024-12-16T17:01:59.587Z"
   },
   {
    "duration": 207,
    "start_time": "2024-12-16T17:01:59.607Z"
   },
   {
    "duration": 5,
    "start_time": "2024-12-16T17:01:59.815Z"
   },
   {
    "duration": 133,
    "start_time": "2024-12-16T17:01:59.836Z"
   },
   {
    "duration": 6,
    "start_time": "2024-12-16T17:01:59.972Z"
   },
   {
    "duration": 6,
    "start_time": "2024-12-16T17:01:59.979Z"
   },
   {
    "duration": 745,
    "start_time": "2024-12-16T17:01:59.987Z"
   },
   {
    "duration": 30741,
    "start_time": "2024-12-16T17:02:00.734Z"
   },
   {
    "duration": 420,
    "start_time": "2024-12-16T17:02:31.477Z"
   },
   {
    "duration": 33866,
    "start_time": "2024-12-16T17:02:31.898Z"
   },
   {
    "duration": 33989,
    "start_time": "2024-12-16T17:03:05.766Z"
   },
   {
    "duration": 15,
    "start_time": "2024-12-16T17:03:39.757Z"
   },
   {
    "duration": 190,
    "start_time": "2024-12-16T17:03:39.773Z"
   },
   {
    "duration": 173,
    "start_time": "2024-12-16T17:03:39.965Z"
   },
   {
    "duration": 184,
    "start_time": "2024-12-16T17:03:40.140Z"
   },
   {
    "duration": 27,
    "start_time": "2024-12-16T17:03:40.326Z"
   },
   {
    "duration": 21,
    "start_time": "2024-12-16T17:03:40.355Z"
   },
   {
    "duration": 3384,
    "start_time": "2024-12-16T17:03:40.378Z"
   },
   {
    "duration": 369,
    "start_time": "2024-12-16T17:20:11.319Z"
   },
   {
    "duration": 354,
    "start_time": "2024-12-16T17:20:38.268Z"
   },
   {
    "duration": 333,
    "start_time": "2024-12-16T17:21:04.959Z"
   },
   {
    "duration": 57,
    "start_time": "2024-12-19T16:19:46.701Z"
   }
  ],
  "colab": {
   "provenance": []
  },
  "kernelspec": {
   "display_name": "Python 3 (ipykernel)",
   "language": "python",
   "name": "python3"
  },
  "language_info": {
   "codemirror_mode": {
    "name": "ipython",
    "version": 3
   },
   "file_extension": ".py",
   "mimetype": "text/x-python",
   "name": "python",
   "nbconvert_exporter": "python",
   "pygments_lexer": "ipython3",
   "version": "3.9.22"
  },
  "toc": {
   "base_numbering": 1,
   "nav_menu": {},
   "number_sections": true,
   "sideBar": true,
   "skip_h1_title": true,
   "title_cell": "Table of Contents",
   "title_sidebar": "Contents",
   "toc_cell": false,
   "toc_position": {},
   "toc_section_display": true,
   "toc_window_display": true
  }
 },
 "nbformat": 4,
 "nbformat_minor": 4
}
