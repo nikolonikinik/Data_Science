{
 "cells": [
  {
   "cell_type": "markdown",
   "metadata": {
    "toc": true
   },
   "source": [
    "<h1>Содержание<span class=\"tocSkip\"></span></h1>\n",
    "<div class=\"toc\"><ul class=\"toc-item\"><li><span><a href=\"#Подготовка\" data-toc-modified-id=\"Подготовка-1\">Подготовка</a></span></li><li><span><a href=\"#Обучение\" data-toc-modified-id=\"Обучение-2\">Обучение</a></span></li><li><span><a href=\"#Выводы\" data-toc-modified-id=\"Выводы-3\">Выводы</a></span></li><li><span><a href=\"#Чек-лист-проверки\" data-toc-modified-id=\"Чек-лист-проверки-4\">Чек-лист проверки</a></span></li></ul></div>"
   ]
  },
  {
   "cell_type": "markdown",
   "metadata": {},
   "source": [
    "# Проект для «Викишоп»"
   ]
  },
  {
   "cell_type": "markdown",
   "metadata": {},
   "source": [
    "Интернет-магазин «Викишоп» запускает новый сервис. Теперь пользователи могут редактировать и дополнять описания товаров, как в вики-сообществах. То есть клиенты предлагают свои правки и комментируют изменения других. Магазину нужен инструмент, который будет искать токсичные комментарии и отправлять их на модерацию. \n",
    "\n",
    "Необходимо обучить модель классифицировать комментарии на позитивные и негативные. В нашем распоряжении набор данных с разметкой о токсичности правок. Конечный результат — модель со значением метрики качества *F1* не меньше 0.75. \n",
    "\n",
    "**Описание данных**\n",
    "\n",
    "Данные находятся в файле `toxic_comments.csv`. Столбец *text* в нём содержит текст комментария, а *toxic* — целевой признак.\n",
    "\n",
    "**План работы над задачей:**\n",
    "\n",
    "1) **Подготовка** — изучим данные на предмет возникновения в них аномалий, пропусков и ошибок. В случае нахождения — обработаем их. \n",
    "\n",
    "2) **Обучение моделей** — обучим модели LinearRegression и DecisionTreeClassifier, определим их лучшие гиперпараметры и показатели метрики f1.\n",
    "\n",
    "3) Сделаем **итоговый вывод** об основных итогах исследования и предложим заказчику лучшую модель."
   ]
  },
  {
   "cell_type": "code",
   "execution_count": 1,
   "metadata": {},
   "outputs": [],
   "source": [
    "import pandas as pd\n",
    "import numpy as np\n",
    "import nltk\n",
    "import re\n",
    "import os\n",
    "\n",
    "from sklearn.metrics import f1_score, make_scorer\n",
    "from sklearn.model_selection import train_test_split, RandomizedSearchCV\n",
    "from sklearn.feature_extraction.text import TfidfVectorizer\n",
    "from sklearn.linear_model import LogisticRegression\n",
    "from sklearn.tree import DecisionTreeClassifier\n",
    "from sklearn.dummy import DummyClassifier\n",
    "from sklearn.pipeline import Pipeline\n",
    "\n",
    "from nltk.corpus import stopwords\n",
    "from nltk.stem import WordNetLemmatizer\n",
    "from nltk.tokenize import word_tokenize\n",
    "from nltk.corpus import wordnet\n",
    "from nltk import pos_tag\n",
    "from tqdm.notebook import tqdm\n",
    "\n",
    "import matplotlib\n",
    "from matplotlib import pyplot as plt\n",
    "from matplotlib import rcParams, rcParamsDefault\n",
    "rcParams['figure.figsize'] = 10, 6\n",
    "%config InlineBackend.figure_format = 'svg'\n",
    "pd.set_option('display.max_columns', None)\n",
    "pd.set_option('display.max_colwidth', None)\n",
    "\n",
    "def plot_describe (t, x_l, y_l): # Заранее пропишем функцию, подписывающую название графика и осей\n",
    "    plt.title(t)                 # Здесь параметр t будет отвечать за название графика  \n",
    "    plt.xlabel(x_l)              # Параметр x_l — за подпись горизонтальной оси\n",
    "    plt.ylabel(y_l)              # Параметр y_l — за подпись вертикальной оси\n",
    "    plt.show()\n",
    "\n",
    "TEST_SIZE = 0.25\n",
    "RANDOM_STATE = 42"
   ]
  },
  {
   "cell_type": "markdown",
   "metadata": {},
   "source": [
    "## Подготовка"
   ]
  },
  {
   "cell_type": "code",
   "execution_count": 2,
   "metadata": {},
   "outputs": [],
   "source": [
    "pth1 = 'C:/pr/datasets/toxic_comments.csv' # Считаем csv-файл\n",
    "pth2 = '/datasets/toxic_comments.csv'\n",
    "\n",
    "if os.path.exists(pth1):\n",
    "    data = pd.read_csv(pth1, index_col=0)\n",
    "elif os.path.exists(pth2):\n",
    "    data = pd.read_csv(pth2, index_col=0)\n",
    "else:\n",
    "    print('Something is wrong')"
   ]
  },
  {
   "cell_type": "markdown",
   "metadata": {},
   "source": [
    "Изучим общую информацию о датасете. Однако, прежде чем мы приступим к её разбору, напишем **вспомогательную функцию**. Так проводить анализ будет быстрее и удобнее:"
   ]
  },
  {
   "cell_type": "code",
   "execution_count": 3,
   "metadata": {},
   "outputs": [],
   "source": [
    "def describe_data (data):\n",
    "    print('Первые пять строк таблицы:')\n",
    "    display(data.head())\n",
    "    print('\\n', 'Последние пять строк таблицы:')\n",
    "    display(data.tail())\n",
    "    print('\\n', 'Общая информация о датасете:', '\\n')\n",
    "    data.info()\n",
    "    print('\\n', 'Описательные статистики датасета:')\n",
    "    display(data.describe().round(2))\n",
    "    print('\\n', 'Количество пропусков в данных:')\n",
    "    display(data.isna().sum())"
   ]
  },
  {
   "cell_type": "code",
   "execution_count": 4,
   "metadata": {},
   "outputs": [
    {
     "name": "stdout",
     "output_type": "stream",
     "text": [
      "Первые пять строк таблицы:\n"
     ]
    },
    {
     "data": {
      "text/html": [
       "<div>\n",
       "<style scoped>\n",
       "    .dataframe tbody tr th:only-of-type {\n",
       "        vertical-align: middle;\n",
       "    }\n",
       "\n",
       "    .dataframe tbody tr th {\n",
       "        vertical-align: top;\n",
       "    }\n",
       "\n",
       "    .dataframe thead th {\n",
       "        text-align: right;\n",
       "    }\n",
       "</style>\n",
       "<table border=\"1\" class=\"dataframe\">\n",
       "  <thead>\n",
       "    <tr style=\"text-align: right;\">\n",
       "      <th></th>\n",
       "      <th>text</th>\n",
       "      <th>toxic</th>\n",
       "    </tr>\n",
       "  </thead>\n",
       "  <tbody>\n",
       "    <tr>\n",
       "      <th>0</th>\n",
       "      <td>Explanation\\nWhy the edits made under my username Hardcore Metallica Fan were reverted? They weren't vandalisms, just closure on some GAs after I voted at New York Dolls FAC. And please don't remove the template from the talk page since I'm retired now.89.205.38.27</td>\n",
       "      <td>0</td>\n",
       "    </tr>\n",
       "    <tr>\n",
       "      <th>1</th>\n",
       "      <td>D'aww! He matches this background colour I'm seemingly stuck with. Thanks.  (talk) 21:51, January 11, 2016 (UTC)</td>\n",
       "      <td>0</td>\n",
       "    </tr>\n",
       "    <tr>\n",
       "      <th>2</th>\n",
       "      <td>Hey man, I'm really not trying to edit war. It's just that this guy is constantly removing relevant information and talking to me through edits instead of my talk page. He seems to care more about the formatting than the actual info.</td>\n",
       "      <td>0</td>\n",
       "    </tr>\n",
       "    <tr>\n",
       "      <th>3</th>\n",
       "      <td>\"\\nMore\\nI can't make any real suggestions on improvement - I wondered if the section statistics should be later on, or a subsection of \"\"types of accidents\"\"  -I think the references may need tidying so that they are all in the exact same format ie date format etc. I can do that later on, if no-one else does first - if you have any preferences for formatting style on references or want to do it yourself please let me know.\\n\\nThere appears to be a backlog on articles for review so I guess there may be a delay until a reviewer turns up. It's listed in the relevant form eg Wikipedia:Good_article_nominations#Transport  \"</td>\n",
       "      <td>0</td>\n",
       "    </tr>\n",
       "    <tr>\n",
       "      <th>4</th>\n",
       "      <td>You, sir, are my hero. Any chance you remember what page that's on?</td>\n",
       "      <td>0</td>\n",
       "    </tr>\n",
       "  </tbody>\n",
       "</table>\n",
       "</div>"
      ],
      "text/plain": [
       "                                                                                                                                                                                                                                                                                                                                                                                                                                                                                                                                                                                                                                                 text  \\\n",
       "0                                                                                                                                                                                                                                                                                                                                                                           Explanation\\nWhy the edits made under my username Hardcore Metallica Fan were reverted? They weren't vandalisms, just closure on some GAs after I voted at New York Dolls FAC. And please don't remove the template from the talk page since I'm retired now.89.205.38.27   \n",
       "1                                                                                                                                                                                                                                                                                                                                                                                                                                                                                                                                    D'aww! He matches this background colour I'm seemingly stuck with. Thanks.  (talk) 21:51, January 11, 2016 (UTC)   \n",
       "2                                                                                                                                                                                                                                                                                                                                                                                                           Hey man, I'm really not trying to edit war. It's just that this guy is constantly removing relevant information and talking to me through edits instead of my talk page. He seems to care more about the formatting than the actual info.   \n",
       "3  \"\\nMore\\nI can't make any real suggestions on improvement - I wondered if the section statistics should be later on, or a subsection of \"\"types of accidents\"\"  -I think the references may need tidying so that they are all in the exact same format ie date format etc. I can do that later on, if no-one else does first - if you have any preferences for formatting style on references or want to do it yourself please let me know.\\n\\nThere appears to be a backlog on articles for review so I guess there may be a delay until a reviewer turns up. It's listed in the relevant form eg Wikipedia:Good_article_nominations#Transport  \"   \n",
       "4                                                                                                                                                                                                                                                                                                                                                                                                                                                                                                                                                                                 You, sir, are my hero. Any chance you remember what page that's on?   \n",
       "\n",
       "   toxic  \n",
       "0      0  \n",
       "1      0  \n",
       "2      0  \n",
       "3      0  \n",
       "4      0  "
      ]
     },
     "metadata": {},
     "output_type": "display_data"
    },
    {
     "name": "stdout",
     "output_type": "stream",
     "text": [
      "\n",
      " Последние пять строк таблицы:\n"
     ]
    },
    {
     "data": {
      "text/html": [
       "<div>\n",
       "<style scoped>\n",
       "    .dataframe tbody tr th:only-of-type {\n",
       "        vertical-align: middle;\n",
       "    }\n",
       "\n",
       "    .dataframe tbody tr th {\n",
       "        vertical-align: top;\n",
       "    }\n",
       "\n",
       "    .dataframe thead th {\n",
       "        text-align: right;\n",
       "    }\n",
       "</style>\n",
       "<table border=\"1\" class=\"dataframe\">\n",
       "  <thead>\n",
       "    <tr style=\"text-align: right;\">\n",
       "      <th></th>\n",
       "      <th>text</th>\n",
       "      <th>toxic</th>\n",
       "    </tr>\n",
       "  </thead>\n",
       "  <tbody>\n",
       "    <tr>\n",
       "      <th>159446</th>\n",
       "      <td>\":::::And for the second time of asking, when your view completely contradicts the coverage in reliable sources, why should anyone care what you feel? You can't even give a consistent argument - is the opening only supposed to mention significant aspects, or the \"\"most significant\"\" ones?   \\n\\n\"</td>\n",
       "      <td>0</td>\n",
       "    </tr>\n",
       "    <tr>\n",
       "      <th>159447</th>\n",
       "      <td>You should be ashamed of yourself \\n\\nThat is a horrible thing you put on my talk page.  128.61.19.93</td>\n",
       "      <td>0</td>\n",
       "    </tr>\n",
       "    <tr>\n",
       "      <th>159448</th>\n",
       "      <td>Spitzer \\n\\nUmm, theres no actual article for prostitution ring.  - Crunch Captain.</td>\n",
       "      <td>0</td>\n",
       "    </tr>\n",
       "    <tr>\n",
       "      <th>159449</th>\n",
       "      <td>And it looks like it was actually you who put on the speedy to have the first version deleted now that I look at it.</td>\n",
       "      <td>0</td>\n",
       "    </tr>\n",
       "    <tr>\n",
       "      <th>159450</th>\n",
       "      <td>\"\\nAnd ... I really don't think you understand.  I came here and my idea was bad right away.  What kind of community goes \"\"you have bad ideas\"\" go away, instead of helping rewrite them.   \"</td>\n",
       "      <td>0</td>\n",
       "    </tr>\n",
       "  </tbody>\n",
       "</table>\n",
       "</div>"
      ],
      "text/plain": [
       "                                                                                                                                                                                                                                                                                                             text  \\\n",
       "159446  \":::::And for the second time of asking, when your view completely contradicts the coverage in reliable sources, why should anyone care what you feel? You can't even give a consistent argument - is the opening only supposed to mention significant aspects, or the \"\"most significant\"\" ones?   \\n\\n\"   \n",
       "159447                                                                                                                                                                                                      You should be ashamed of yourself \\n\\nThat is a horrible thing you put on my talk page.  128.61.19.93   \n",
       "159448                                                                                                                                                                                                                        Spitzer \\n\\nUmm, theres no actual article for prostitution ring.  - Crunch Captain.   \n",
       "159449                                                                                                                                                                                       And it looks like it was actually you who put on the speedy to have the first version deleted now that I look at it.   \n",
       "159450                                                                                                             \"\\nAnd ... I really don't think you understand.  I came here and my idea was bad right away.  What kind of community goes \"\"you have bad ideas\"\" go away, instead of helping rewrite them.   \"   \n",
       "\n",
       "        toxic  \n",
       "159446      0  \n",
       "159447      0  \n",
       "159448      0  \n",
       "159449      0  \n",
       "159450      0  "
      ]
     },
     "metadata": {},
     "output_type": "display_data"
    },
    {
     "name": "stdout",
     "output_type": "stream",
     "text": [
      "\n",
      " Общая информация о датасете: \n",
      "\n",
      "<class 'pandas.core.frame.DataFrame'>\n",
      "Int64Index: 159292 entries, 0 to 159450\n",
      "Data columns (total 2 columns):\n",
      " #   Column  Non-Null Count   Dtype \n",
      "---  ------  --------------   ----- \n",
      " 0   text    159292 non-null  object\n",
      " 1   toxic   159292 non-null  int64 \n",
      "dtypes: int64(1), object(1)\n",
      "memory usage: 3.6+ MB\n",
      "\n",
      " Описательные статистики датасета:\n"
     ]
    },
    {
     "data": {
      "text/html": [
       "<div>\n",
       "<style scoped>\n",
       "    .dataframe tbody tr th:only-of-type {\n",
       "        vertical-align: middle;\n",
       "    }\n",
       "\n",
       "    .dataframe tbody tr th {\n",
       "        vertical-align: top;\n",
       "    }\n",
       "\n",
       "    .dataframe thead th {\n",
       "        text-align: right;\n",
       "    }\n",
       "</style>\n",
       "<table border=\"1\" class=\"dataframe\">\n",
       "  <thead>\n",
       "    <tr style=\"text-align: right;\">\n",
       "      <th></th>\n",
       "      <th>toxic</th>\n",
       "    </tr>\n",
       "  </thead>\n",
       "  <tbody>\n",
       "    <tr>\n",
       "      <th>count</th>\n",
       "      <td>159292.0</td>\n",
       "    </tr>\n",
       "    <tr>\n",
       "      <th>mean</th>\n",
       "      <td>0.1</td>\n",
       "    </tr>\n",
       "    <tr>\n",
       "      <th>std</th>\n",
       "      <td>0.3</td>\n",
       "    </tr>\n",
       "    <tr>\n",
       "      <th>min</th>\n",
       "      <td>0.0</td>\n",
       "    </tr>\n",
       "    <tr>\n",
       "      <th>25%</th>\n",
       "      <td>0.0</td>\n",
       "    </tr>\n",
       "    <tr>\n",
       "      <th>50%</th>\n",
       "      <td>0.0</td>\n",
       "    </tr>\n",
       "    <tr>\n",
       "      <th>75%</th>\n",
       "      <td>0.0</td>\n",
       "    </tr>\n",
       "    <tr>\n",
       "      <th>max</th>\n",
       "      <td>1.0</td>\n",
       "    </tr>\n",
       "  </tbody>\n",
       "</table>\n",
       "</div>"
      ],
      "text/plain": [
       "          toxic\n",
       "count  159292.0\n",
       "mean        0.1\n",
       "std         0.3\n",
       "min         0.0\n",
       "25%         0.0\n",
       "50%         0.0\n",
       "75%         0.0\n",
       "max         1.0"
      ]
     },
     "metadata": {},
     "output_type": "display_data"
    },
    {
     "name": "stdout",
     "output_type": "stream",
     "text": [
      "\n",
      " Количество пропусков в данных:\n"
     ]
    },
    {
     "data": {
      "text/plain": [
       "text     0\n",
       "toxic    0\n",
       "dtype: int64"
      ]
     },
     "metadata": {},
     "output_type": "display_data"
    }
   ],
   "source": [
    "describe_data(data) # Изучаем данные о датасете"
   ]
  },
  {
   "cell_type": "code",
   "execution_count": 5,
   "metadata": {},
   "outputs": [
    {
     "data": {
      "text/plain": [
       "0"
      ]
     },
     "execution_count": 5,
     "metadata": {},
     "output_type": "execute_result"
    }
   ],
   "source": [
    "data.duplicated().sum() # Находим количество очевидных дубликатов"
   ]
  },
  {
   "cell_type": "code",
   "execution_count": 6,
   "metadata": {},
   "outputs": [
    {
     "data": {
      "text/plain": [
       "array([0, 1])"
      ]
     },
     "execution_count": 6,
     "metadata": {},
     "output_type": "execute_result"
    }
   ],
   "source": [
    "data['toxic'].unique()"
   ]
  },
  {
   "cell_type": "code",
   "execution_count": 7,
   "metadata": {},
   "outputs": [
    {
     "data": {
      "image/svg+xml": [
       "<?xml version=\"1.0\" encoding=\"utf-8\" standalone=\"no\"?>\n",
       "<!DOCTYPE svg PUBLIC \"-//W3C//DTD SVG 1.1//EN\"\n",
       "  \"http://www.w3.org/Graphics/SVG/1.1/DTD/svg11.dtd\">\n",
       "<!-- Created with matplotlib (https://matplotlib.org/) -->\n",
       "<svg height=\"355.678125pt\" version=\"1.1\" viewBox=\"0 0 357.216708 355.678125\" width=\"357.216708pt\" xmlns=\"http://www.w3.org/2000/svg\" xmlns:xlink=\"http://www.w3.org/1999/xlink\">\n",
       " <metadata>\n",
       "  <rdf:RDF xmlns:cc=\"http://creativecommons.org/ns#\" xmlns:dc=\"http://purl.org/dc/elements/1.1/\" xmlns:rdf=\"http://www.w3.org/1999/02/22-rdf-syntax-ns#\">\n",
       "   <cc:Work>\n",
       "    <dc:type rdf:resource=\"http://purl.org/dc/dcmitype/StillImage\"/>\n",
       "    <dc:date>2025-07-02T19:16:58.393706</dc:date>\n",
       "    <dc:format>image/svg+xml</dc:format>\n",
       "    <dc:creator>\n",
       "     <cc:Agent>\n",
       "      <dc:title>Matplotlib v3.3.4, https://matplotlib.org/</dc:title>\n",
       "     </cc:Agent>\n",
       "    </dc:creator>\n",
       "   </cc:Work>\n",
       "  </rdf:RDF>\n",
       " </metadata>\n",
       " <defs>\n",
       "  <style type=\"text/css\">*{stroke-linecap:butt;stroke-linejoin:round;}</style>\n",
       " </defs>\n",
       " <g id=\"figure_1\">\n",
       "  <g id=\"patch_1\">\n",
       "   <path d=\"M 0 355.678125 \n",
       "L 357.216708 355.678125 \n",
       "L 357.216708 0 \n",
       "L 0 0 \n",
       "z\n",
       "\" style=\"fill:none;\"/>\n",
       "  </g>\n",
       "  <g id=\"axes_1\">\n",
       "   <g id=\"patch_2\">\n",
       "    <path d=\"M 317.400708 185.398125 \n",
       "C 317.400708 170.016056 314.680325 154.7545 309.365466 140.319809 \n",
       "C 304.050607 125.885117 296.224552 112.503472 286.249515 100.794215 \n",
       "C 276.274479 89.084958 264.306762 79.231567 250.900267 71.690085 \n",
       "C 237.493772 64.148603 222.858571 59.037201 207.672023 56.59245 \n",
       "C 192.485475 54.147698 176.985544 54.407905 161.889613 57.361028 \n",
       "C 146.793683 60.31415 132.338296 65.913914 119.192491 73.901146 \n",
       "C 106.046687 81.888378 94.416451 92.137923 84.840065 104.175401 \n",
       "C 75.26368 116.21288 67.891201 129.849673 63.063848 144.454628 \n",
       "C 58.236496 159.059583 56.029912 174.403851 56.546223 189.777252 \n",
       "C 57.062535 205.150654 60.293651 220.312298 66.090027 234.560458 \n",
       "C 71.886403 248.808619 80.157213 261.920036 90.51966 273.287875 \n",
       "C 100.882106 284.655713 113.173816 294.101847 126.825892 301.189079 \n",
       "C 140.477968 308.276312 155.276491 312.893592 170.536542 314.827217 \n",
       "C 185.796593 316.760842 201.279055 315.980514 216.267356 312.522349 \n",
       "C 231.255656 309.064184 245.514937 302.982369 258.385236 294.558389 \n",
       "C 271.255535 286.134408 282.535184 275.500261 291.702125 263.148126 \n",
       "L 186.936708 185.398125 \n",
       "L 317.400708 185.398125 \n",
       "z\n",
       "\" style=\"fill:#1f77b4;\"/>\n",
       "   </g>\n",
       "   <g id=\"patch_3\">\n",
       "    <path d=\"M 291.702125 263.148126 \n",
       "C 299.99287 251.976636 306.443622 239.550609 310.809566 226.341628 \n",
       "C 315.17551 213.132647 317.400707 199.309954 317.400708 185.398137 \n",
       "L 186.936708 185.398125 \n",
       "L 291.702125 263.148126 \n",
       "z\n",
       "\" style=\"fill:#ff7f0e;\"/>\n",
       "   </g>\n",
       "   <g id=\"matplotlib.axis_1\"/>\n",
       "   <g id=\"matplotlib.axis_2\"/>\n",
       "   <g id=\"text_1\">\n",
       "    <!-- not toxic -->\n",
       "    <g transform=\"translate(7.2 143.119653)scale(0.1 -0.1)\">\n",
       "     <defs>\n",
       "      <path d=\"M 54.890625 33.015625 \n",
       "L 54.890625 0 \n",
       "L 45.90625 0 \n",
       "L 45.90625 32.71875 \n",
       "Q 45.90625 40.484375 42.875 44.328125 \n",
       "Q 39.84375 48.1875 33.796875 48.1875 \n",
       "Q 26.515625 48.1875 22.3125 43.546875 \n",
       "Q 18.109375 38.921875 18.109375 30.90625 \n",
       "L 18.109375 0 \n",
       "L 9.078125 0 \n",
       "L 9.078125 54.6875 \n",
       "L 18.109375 54.6875 \n",
       "L 18.109375 46.1875 \n",
       "Q 21.34375 51.125 25.703125 53.5625 \n",
       "Q 30.078125 56 35.796875 56 \n",
       "Q 45.21875 56 50.046875 50.171875 \n",
       "Q 54.890625 44.34375 54.890625 33.015625 \n",
       "z\n",
       "\" id=\"DejaVuSans-110\"/>\n",
       "      <path d=\"M 30.609375 48.390625 \n",
       "Q 23.390625 48.390625 19.1875 42.75 \n",
       "Q 14.984375 37.109375 14.984375 27.296875 \n",
       "Q 14.984375 17.484375 19.15625 11.84375 \n",
       "Q 23.34375 6.203125 30.609375 6.203125 \n",
       "Q 37.796875 6.203125 41.984375 11.859375 \n",
       "Q 46.1875 17.53125 46.1875 27.296875 \n",
       "Q 46.1875 37.015625 41.984375 42.703125 \n",
       "Q 37.796875 48.390625 30.609375 48.390625 \n",
       "z\n",
       "M 30.609375 56 \n",
       "Q 42.328125 56 49.015625 48.375 \n",
       "Q 55.71875 40.765625 55.71875 27.296875 \n",
       "Q 55.71875 13.875 49.015625 6.21875 \n",
       "Q 42.328125 -1.421875 30.609375 -1.421875 \n",
       "Q 18.84375 -1.421875 12.171875 6.21875 \n",
       "Q 5.515625 13.875 5.515625 27.296875 \n",
       "Q 5.515625 40.765625 12.171875 48.375 \n",
       "Q 18.84375 56 30.609375 56 \n",
       "z\n",
       "\" id=\"DejaVuSans-111\"/>\n",
       "      <path d=\"M 18.3125 70.21875 \n",
       "L 18.3125 54.6875 \n",
       "L 36.8125 54.6875 \n",
       "L 36.8125 47.703125 \n",
       "L 18.3125 47.703125 \n",
       "L 18.3125 18.015625 \n",
       "Q 18.3125 11.328125 20.140625 9.421875 \n",
       "Q 21.96875 7.515625 27.59375 7.515625 \n",
       "L 36.8125 7.515625 \n",
       "L 36.8125 0 \n",
       "L 27.59375 0 \n",
       "Q 17.1875 0 13.234375 3.875 \n",
       "Q 9.28125 7.765625 9.28125 18.015625 \n",
       "L 9.28125 47.703125 \n",
       "L 2.6875 47.703125 \n",
       "L 2.6875 54.6875 \n",
       "L 9.28125 54.6875 \n",
       "L 9.28125 70.21875 \n",
       "z\n",
       "\" id=\"DejaVuSans-116\"/>\n",
       "      <path id=\"DejaVuSans-32\"/>\n",
       "      <path d=\"M 54.890625 54.6875 \n",
       "L 35.109375 28.078125 \n",
       "L 55.90625 0 \n",
       "L 45.3125 0 \n",
       "L 29.390625 21.484375 \n",
       "L 13.484375 0 \n",
       "L 2.875 0 \n",
       "L 24.125 28.609375 \n",
       "L 4.6875 54.6875 \n",
       "L 15.28125 54.6875 \n",
       "L 29.78125 35.203125 \n",
       "L 44.28125 54.6875 \n",
       "z\n",
       "\" id=\"DejaVuSans-120\"/>\n",
       "      <path d=\"M 9.421875 54.6875 \n",
       "L 18.40625 54.6875 \n",
       "L 18.40625 0 \n",
       "L 9.421875 0 \n",
       "z\n",
       "M 9.421875 75.984375 \n",
       "L 18.40625 75.984375 \n",
       "L 18.40625 64.59375 \n",
       "L 9.421875 64.59375 \n",
       "z\n",
       "\" id=\"DejaVuSans-105\"/>\n",
       "      <path d=\"M 48.78125 52.59375 \n",
       "L 48.78125 44.1875 \n",
       "Q 44.96875 46.296875 41.140625 47.34375 \n",
       "Q 37.3125 48.390625 33.40625 48.390625 \n",
       "Q 24.65625 48.390625 19.8125 42.84375 \n",
       "Q 14.984375 37.3125 14.984375 27.296875 \n",
       "Q 14.984375 17.28125 19.8125 11.734375 \n",
       "Q 24.65625 6.203125 33.40625 6.203125 \n",
       "Q 37.3125 6.203125 41.140625 7.25 \n",
       "Q 44.96875 8.296875 48.78125 10.40625 \n",
       "L 48.78125 2.09375 \n",
       "Q 45.015625 0.34375 40.984375 -0.53125 \n",
       "Q 36.96875 -1.421875 32.421875 -1.421875 \n",
       "Q 20.0625 -1.421875 12.78125 6.34375 \n",
       "Q 5.515625 14.109375 5.515625 27.296875 \n",
       "Q 5.515625 40.671875 12.859375 48.328125 \n",
       "Q 20.21875 56 33.015625 56 \n",
       "Q 37.15625 56 41.109375 55.140625 \n",
       "Q 45.0625 54.296875 48.78125 52.59375 \n",
       "z\n",
       "\" id=\"DejaVuSans-99\"/>\n",
       "     </defs>\n",
       "     <use xlink:href=\"#DejaVuSans-110\"/>\n",
       "     <use x=\"63.378906\" xlink:href=\"#DejaVuSans-111\"/>\n",
       "     <use x=\"124.560547\" xlink:href=\"#DejaVuSans-116\"/>\n",
       "     <use x=\"163.769531\" xlink:href=\"#DejaVuSans-32\"/>\n",
       "     <use x=\"195.556641\" xlink:href=\"#DejaVuSans-116\"/>\n",
       "     <use x=\"234.765625\" xlink:href=\"#DejaVuSans-111\"/>\n",
       "     <use x=\"292.822266\" xlink:href=\"#DejaVuSans-120\"/>\n",
       "     <use x=\"352.001953\" xlink:href=\"#DejaVuSans-105\"/>\n",
       "     <use x=\"379.785156\" xlink:href=\"#DejaVuSans-99\"/>\n",
       "    </g>\n",
       "   </g>\n",
       "   <g id=\"text_2\">\n",
       "    <!-- 90% -->\n",
       "    <g transform=\"translate(101.499711 163.591402)scale(0.1 -0.1)\">\n",
       "     <defs>\n",
       "      <path d=\"M 10.984375 1.515625 \n",
       "L 10.984375 10.5 \n",
       "Q 14.703125 8.734375 18.5 7.8125 \n",
       "Q 22.3125 6.890625 25.984375 6.890625 \n",
       "Q 35.75 6.890625 40.890625 13.453125 \n",
       "Q 46.046875 20.015625 46.78125 33.40625 \n",
       "Q 43.953125 29.203125 39.59375 26.953125 \n",
       "Q 35.25 24.703125 29.984375 24.703125 \n",
       "Q 19.046875 24.703125 12.671875 31.3125 \n",
       "Q 6.296875 37.9375 6.296875 49.421875 \n",
       "Q 6.296875 60.640625 12.9375 67.421875 \n",
       "Q 19.578125 74.21875 30.609375 74.21875 \n",
       "Q 43.265625 74.21875 49.921875 64.515625 \n",
       "Q 56.59375 54.828125 56.59375 36.375 \n",
       "Q 56.59375 19.140625 48.40625 8.859375 \n",
       "Q 40.234375 -1.421875 26.421875 -1.421875 \n",
       "Q 22.703125 -1.421875 18.890625 -0.6875 \n",
       "Q 15.09375 0.046875 10.984375 1.515625 \n",
       "z\n",
       "M 30.609375 32.421875 \n",
       "Q 37.25 32.421875 41.125 36.953125 \n",
       "Q 45.015625 41.5 45.015625 49.421875 \n",
       "Q 45.015625 57.28125 41.125 61.84375 \n",
       "Q 37.25 66.40625 30.609375 66.40625 \n",
       "Q 23.96875 66.40625 20.09375 61.84375 \n",
       "Q 16.21875 57.28125 16.21875 49.421875 \n",
       "Q 16.21875 41.5 20.09375 36.953125 \n",
       "Q 23.96875 32.421875 30.609375 32.421875 \n",
       "z\n",
       "\" id=\"DejaVuSans-57\"/>\n",
       "      <path d=\"M 31.78125 66.40625 \n",
       "Q 24.171875 66.40625 20.328125 58.90625 \n",
       "Q 16.5 51.421875 16.5 36.375 \n",
       "Q 16.5 21.390625 20.328125 13.890625 \n",
       "Q 24.171875 6.390625 31.78125 6.390625 \n",
       "Q 39.453125 6.390625 43.28125 13.890625 \n",
       "Q 47.125 21.390625 47.125 36.375 \n",
       "Q 47.125 51.421875 43.28125 58.90625 \n",
       "Q 39.453125 66.40625 31.78125 66.40625 \n",
       "z\n",
       "M 31.78125 74.21875 \n",
       "Q 44.046875 74.21875 50.515625 64.515625 \n",
       "Q 56.984375 54.828125 56.984375 36.375 \n",
       "Q 56.984375 17.96875 50.515625 8.265625 \n",
       "Q 44.046875 -1.421875 31.78125 -1.421875 \n",
       "Q 19.53125 -1.421875 13.0625 8.265625 \n",
       "Q 6.59375 17.96875 6.59375 36.375 \n",
       "Q 6.59375 54.828125 13.0625 64.515625 \n",
       "Q 19.53125 74.21875 31.78125 74.21875 \n",
       "z\n",
       "\" id=\"DejaVuSans-48\"/>\n",
       "      <path d=\"M 72.703125 32.078125 \n",
       "Q 68.453125 32.078125 66.03125 28.46875 \n",
       "Q 63.625 24.859375 63.625 18.40625 \n",
       "Q 63.625 12.0625 66.03125 8.421875 \n",
       "Q 68.453125 4.78125 72.703125 4.78125 \n",
       "Q 76.859375 4.78125 79.265625 8.421875 \n",
       "Q 81.6875 12.0625 81.6875 18.40625 \n",
       "Q 81.6875 24.8125 79.265625 28.4375 \n",
       "Q 76.859375 32.078125 72.703125 32.078125 \n",
       "z\n",
       "M 72.703125 38.28125 \n",
       "Q 80.421875 38.28125 84.953125 32.90625 \n",
       "Q 89.5 27.546875 89.5 18.40625 \n",
       "Q 89.5 9.28125 84.9375 3.921875 \n",
       "Q 80.375 -1.421875 72.703125 -1.421875 \n",
       "Q 64.890625 -1.421875 60.34375 3.921875 \n",
       "Q 55.8125 9.28125 55.8125 18.40625 \n",
       "Q 55.8125 27.59375 60.375 32.9375 \n",
       "Q 64.9375 38.28125 72.703125 38.28125 \n",
       "z\n",
       "M 22.3125 68.015625 \n",
       "Q 18.109375 68.015625 15.6875 64.375 \n",
       "Q 13.28125 60.75 13.28125 54.390625 \n",
       "Q 13.28125 47.953125 15.671875 44.328125 \n",
       "Q 18.0625 40.71875 22.3125 40.71875 \n",
       "Q 26.5625 40.71875 28.96875 44.328125 \n",
       "Q 31.390625 47.953125 31.390625 54.390625 \n",
       "Q 31.390625 60.6875 28.953125 64.34375 \n",
       "Q 26.515625 68.015625 22.3125 68.015625 \n",
       "z\n",
       "M 66.40625 74.21875 \n",
       "L 74.21875 74.21875 \n",
       "L 28.609375 -1.421875 \n",
       "L 20.796875 -1.421875 \n",
       "z\n",
       "M 22.3125 74.21875 \n",
       "Q 30.03125 74.21875 34.609375 68.875 \n",
       "Q 39.203125 63.53125 39.203125 54.390625 \n",
       "Q 39.203125 45.171875 34.640625 39.84375 \n",
       "Q 30.078125 34.515625 22.3125 34.515625 \n",
       "Q 14.546875 34.515625 10.03125 39.859375 \n",
       "Q 5.515625 45.21875 5.515625 54.390625 \n",
       "Q 5.515625 63.484375 10.046875 68.84375 \n",
       "Q 14.59375 74.21875 22.3125 74.21875 \n",
       "z\n",
       "\" id=\"DejaVuSans-37\"/>\n",
       "     </defs>\n",
       "     <use xlink:href=\"#DejaVuSans-57\"/>\n",
       "     <use x=\"63.623047\" xlink:href=\"#DejaVuSans-48\"/>\n",
       "     <use x=\"127.246094\" xlink:href=\"#DejaVuSans-37\"/>\n",
       "    </g>\n",
       "   </g>\n",
       "   <g id=\"text_3\">\n",
       "    <!-- toxic -->\n",
       "    <g transform=\"translate(323.196852 233.195353)scale(0.1 -0.1)\">\n",
       "     <use xlink:href=\"#DejaVuSans-116\"/>\n",
       "     <use x=\"39.208984\" xlink:href=\"#DejaVuSans-111\"/>\n",
       "     <use x=\"97.265625\" xlink:href=\"#DejaVuSans-120\"/>\n",
       "     <use x=\"156.445312\" xlink:href=\"#DejaVuSans-105\"/>\n",
       "     <use x=\"184.228516\" xlink:href=\"#DejaVuSans-99\"/>\n",
       "    </g>\n",
       "   </g>\n",
       "   <g id=\"text_4\">\n",
       "    <!-- 10% -->\n",
       "    <g transform=\"translate(250.147141 212.723602)scale(0.1 -0.1)\">\n",
       "     <defs>\n",
       "      <path d=\"M 12.40625 8.296875 \n",
       "L 28.515625 8.296875 \n",
       "L 28.515625 63.921875 \n",
       "L 10.984375 60.40625 \n",
       "L 10.984375 69.390625 \n",
       "L 28.421875 72.90625 \n",
       "L 38.28125 72.90625 \n",
       "L 38.28125 8.296875 \n",
       "L 54.390625 8.296875 \n",
       "L 54.390625 0 \n",
       "L 12.40625 0 \n",
       "z\n",
       "\" id=\"DejaVuSans-49\"/>\n",
       "     </defs>\n",
       "     <use xlink:href=\"#DejaVuSans-49\"/>\n",
       "     <use x=\"63.623047\" xlink:href=\"#DejaVuSans-48\"/>\n",
       "     <use x=\"127.246094\" xlink:href=\"#DejaVuSans-37\"/>\n",
       "    </g>\n",
       "   </g>\n",
       "   <g id=\"text_5\">\n",
       "    <!-- Тональность комментариев -->\n",
       "    <g transform=\"translate(98.728271 16.318125)scale(0.12 -0.12)\">\n",
       "     <defs>\n",
       "      <path d=\"M -0.296875 72.90625 \n",
       "L 61.375 72.90625 \n",
       "L 61.375 64.59375 \n",
       "L 35.5 64.59375 \n",
       "L 35.5 0 \n",
       "L 25.59375 0 \n",
       "L 25.59375 64.59375 \n",
       "L -0.296875 64.59375 \n",
       "z\n",
       "\" id=\"DejaVuSans-1058\"/>\n",
       "      <path d=\"M 30.609375 48.390625 \n",
       "Q 23.390625 48.390625 19.1875 42.75 \n",
       "Q 14.984375 37.109375 14.984375 27.296875 \n",
       "Q 14.984375 17.484375 19.15625 11.84375 \n",
       "Q 23.34375 6.203125 30.609375 6.203125 \n",
       "Q 37.796875 6.203125 41.984375 11.859375 \n",
       "Q 46.1875 17.53125 46.1875 27.296875 \n",
       "Q 46.1875 37.015625 41.984375 42.703125 \n",
       "Q 37.796875 48.390625 30.609375 48.390625 \n",
       "z\n",
       "M 30.609375 56 \n",
       "Q 42.328125 56 49.015625 48.375 \n",
       "Q 55.71875 40.765625 55.71875 27.296875 \n",
       "Q 55.71875 13.875 49.015625 6.21875 \n",
       "Q 42.328125 -1.421875 30.609375 -1.421875 \n",
       "Q 18.84375 -1.421875 12.171875 6.21875 \n",
       "Q 5.515625 13.875 5.515625 27.296875 \n",
       "Q 5.515625 40.765625 12.171875 48.375 \n",
       "Q 18.84375 56 30.609375 56 \n",
       "z\n",
       "\" id=\"DejaVuSans-1086\"/>\n",
       "      <path d=\"M 9.078125 54.6875 \n",
       "L 18.109375 54.6875 \n",
       "L 18.109375 32.375 \n",
       "L 47.265625 32.375 \n",
       "L 47.265625 54.6875 \n",
       "L 56.296875 54.6875 \n",
       "L 56.296875 0 \n",
       "L 47.265625 0 \n",
       "L 47.265625 25.203125 \n",
       "L 18.109375 25.203125 \n",
       "L 18.109375 0 \n",
       "L 9.078125 0 \n",
       "z\n",
       "\" id=\"DejaVuSans-1085\"/>\n",
       "      <path d=\"M 34.28125 27.484375 \n",
       "Q 23.390625 27.484375 19.1875 25 \n",
       "Q 14.984375 22.515625 14.984375 16.5 \n",
       "Q 14.984375 11.71875 18.140625 8.90625 \n",
       "Q 21.296875 6.109375 26.703125 6.109375 \n",
       "Q 34.1875 6.109375 38.703125 11.40625 \n",
       "Q 43.21875 16.703125 43.21875 25.484375 \n",
       "L 43.21875 27.484375 \n",
       "z\n",
       "M 52.203125 31.203125 \n",
       "L 52.203125 0 \n",
       "L 43.21875 0 \n",
       "L 43.21875 8.296875 \n",
       "Q 40.140625 3.328125 35.546875 0.953125 \n",
       "Q 30.953125 -1.421875 24.3125 -1.421875 \n",
       "Q 15.921875 -1.421875 10.953125 3.296875 \n",
       "Q 6 8.015625 6 15.921875 \n",
       "Q 6 25.140625 12.171875 29.828125 \n",
       "Q 18.359375 34.515625 30.609375 34.515625 \n",
       "L 43.21875 34.515625 \n",
       "L 43.21875 35.40625 \n",
       "Q 43.21875 41.609375 39.140625 45 \n",
       "Q 35.0625 48.390625 27.6875 48.390625 \n",
       "Q 23 48.390625 18.546875 47.265625 \n",
       "Q 14.109375 46.140625 10.015625 43.890625 \n",
       "L 10.015625 52.203125 \n",
       "Q 14.9375 54.109375 19.578125 55.046875 \n",
       "Q 24.21875 56 28.609375 56 \n",
       "Q 40.484375 56 46.34375 49.84375 \n",
       "Q 52.203125 43.703125 52.203125 31.203125 \n",
       "z\n",
       "\" id=\"DejaVuSans-1072\"/>\n",
       "      <path d=\"M 3.71875 0 \n",
       "L 3.71875 7.46875 \n",
       "Q 12.59375 8.84375 15.328125 14.984375 \n",
       "Q 18.65625 23.640625 18.65625 45.75 \n",
       "L 18.65625 54.6875 \n",
       "L 55.609375 54.6875 \n",
       "L 55.609375 0 \n",
       "L 46.625 0 \n",
       "L 46.625 47.515625 \n",
       "L 27.640625 47.515625 \n",
       "L 27.640625 42.09375 \n",
       "Q 27.640625 21 23.34375 11.53125 \n",
       "Q 18.75 1.421875 3.71875 0 \n",
       "z\n",
       "\" id=\"DejaVuSans-1083\"/>\n",
       "      <path d=\"M 43.453125 16.21875 \n",
       "Q 43.453125 20.609375 40.25 22.90625 \n",
       "Q 37.0625 25.203125 30.90625 25.203125 \n",
       "L 18.109375 25.203125 \n",
       "L 18.109375 7.171875 \n",
       "L 30.90625 7.171875 \n",
       "Q 37.0625 7.171875 40.25 9.484375 \n",
       "Q 43.453125 11.8125 43.453125 16.21875 \n",
       "z\n",
       "M 9.078125 54.6875 \n",
       "L 18.109375 54.6875 \n",
       "L 18.109375 32.375 \n",
       "L 31.296875 32.375 \n",
       "Q 41.75 32.375 47.390625 28.390625 \n",
       "Q 53.03125 24.421875 53.03125 16.21875 \n",
       "Q 53.03125 8.015625 47.390625 4 \n",
       "Q 41.75 0 31.296875 0 \n",
       "L 9.078125 0 \n",
       "z\n",
       "\" id=\"DejaVuSans-1100\"/>\n",
       "      <path d=\"M 48.78125 52.59375 \n",
       "L 48.78125 44.1875 \n",
       "Q 44.96875 46.296875 41.140625 47.34375 \n",
       "Q 37.3125 48.390625 33.40625 48.390625 \n",
       "Q 24.65625 48.390625 19.8125 42.84375 \n",
       "Q 14.984375 37.3125 14.984375 27.296875 \n",
       "Q 14.984375 17.28125 19.8125 11.734375 \n",
       "Q 24.65625 6.203125 33.40625 6.203125 \n",
       "Q 37.3125 6.203125 41.140625 7.25 \n",
       "Q 44.96875 8.296875 48.78125 10.40625 \n",
       "L 48.78125 2.09375 \n",
       "Q 45.015625 0.34375 40.984375 -0.53125 \n",
       "Q 36.96875 -1.421875 32.421875 -1.421875 \n",
       "Q 20.0625 -1.421875 12.78125 6.34375 \n",
       "Q 5.515625 14.109375 5.515625 27.296875 \n",
       "Q 5.515625 40.671875 12.859375 48.328125 \n",
       "Q 20.21875 56 33.015625 56 \n",
       "Q 37.15625 56 41.109375 55.140625 \n",
       "Q 45.0625 54.296875 48.78125 52.59375 \n",
       "z\n",
       "\" id=\"DejaVuSans-1089\"/>\n",
       "      <path d=\"M 2.9375 54.6875 \n",
       "L 55.328125 54.6875 \n",
       "L 55.328125 47.515625 \n",
       "L 33.546875 47.515625 \n",
       "L 33.546875 0 \n",
       "L 24.703125 0 \n",
       "L 24.703125 47.515625 \n",
       "L 2.9375 47.515625 \n",
       "z\n",
       "\" id=\"DejaVuSans-1090\"/>\n",
       "      <path d=\"M 9.078125 54.6875 \n",
       "L 18.015625 54.6875 \n",
       "L 18.015625 29 \n",
       "L 43.359375 54.6875 \n",
       "L 54.390625 54.6875 \n",
       "L 33.5 33.546875 \n",
       "L 57.078125 0 \n",
       "L 47.015625 0 \n",
       "L 27.640625 27.59375 \n",
       "L 18.015625 17.828125 \n",
       "L 18.015625 0 \n",
       "L 9.078125 0 \n",
       "z\n",
       "\" id=\"DejaVuSans-1082\"/>\n",
       "      <path d=\"M 9.078125 54.6875 \n",
       "L 22.21875 54.6875 \n",
       "L 37.75 18.0625 \n",
       "L 53.328125 54.6875 \n",
       "L 66.359375 54.6875 \n",
       "L 66.359375 0 \n",
       "L 57.328125 0 \n",
       "L 57.328125 46.09375 \n",
       "L 42.234375 10.5 \n",
       "L 33.25 10.5 \n",
       "L 18.109375 46.09375 \n",
       "L 18.109375 0 \n",
       "L 9.078125 0 \n",
       "z\n",
       "\" id=\"DejaVuSans-1084\"/>\n",
       "      <path d=\"M 56.203125 29.59375 \n",
       "L 56.203125 25.203125 \n",
       "L 14.890625 25.203125 \n",
       "Q 15.484375 15.921875 20.484375 11.0625 \n",
       "Q 25.484375 6.203125 34.421875 6.203125 \n",
       "Q 39.59375 6.203125 44.453125 7.46875 \n",
       "Q 49.3125 8.734375 54.109375 11.28125 \n",
       "L 54.109375 2.78125 \n",
       "Q 49.265625 0.734375 44.1875 -0.34375 \n",
       "Q 39.109375 -1.421875 33.890625 -1.421875 \n",
       "Q 20.796875 -1.421875 13.15625 6.1875 \n",
       "Q 5.515625 13.8125 5.515625 26.8125 \n",
       "Q 5.515625 40.234375 12.765625 48.109375 \n",
       "Q 20.015625 56 32.328125 56 \n",
       "Q 43.359375 56 49.78125 48.890625 \n",
       "Q 56.203125 41.796875 56.203125 29.59375 \n",
       "z\n",
       "M 47.21875 32.234375 \n",
       "Q 47.125 39.59375 43.09375 43.984375 \n",
       "Q 39.0625 48.390625 32.421875 48.390625 \n",
       "Q 24.90625 48.390625 20.390625 44.140625 \n",
       "Q 15.875 39.890625 15.1875 32.171875 \n",
       "z\n",
       "\" id=\"DejaVuSans-1077\"/>\n",
       "      <path d=\"M 18.109375 8.203125 \n",
       "L 18.109375 -20.796875 \n",
       "L 9.078125 -20.796875 \n",
       "L 9.078125 54.6875 \n",
       "L 18.109375 54.6875 \n",
       "L 18.109375 46.390625 \n",
       "Q 20.953125 51.265625 25.265625 53.625 \n",
       "Q 29.59375 56 35.59375 56 \n",
       "Q 45.5625 56 51.78125 48.09375 \n",
       "Q 58.015625 40.1875 58.015625 27.296875 \n",
       "Q 58.015625 14.40625 51.78125 6.484375 \n",
       "Q 45.5625 -1.421875 35.59375 -1.421875 \n",
       "Q 29.59375 -1.421875 25.265625 0.953125 \n",
       "Q 20.953125 3.328125 18.109375 8.203125 \n",
       "z\n",
       "M 48.6875 27.296875 \n",
       "Q 48.6875 37.203125 44.609375 42.84375 \n",
       "Q 40.53125 48.484375 33.40625 48.484375 \n",
       "Q 26.265625 48.484375 22.1875 42.84375 \n",
       "Q 18.109375 37.203125 18.109375 27.296875 \n",
       "Q 18.109375 17.390625 22.1875 11.75 \n",
       "Q 26.265625 6.109375 33.40625 6.109375 \n",
       "Q 40.53125 6.109375 44.609375 11.75 \n",
       "Q 48.6875 17.390625 48.6875 27.296875 \n",
       "z\n",
       "\" id=\"DejaVuSans-1088\"/>\n",
       "      <path d=\"M 55.90625 54.6875 \n",
       "L 55.90625 0 \n",
       "L 46.96875 0 \n",
       "L 46.96875 43.890625 \n",
       "L 20.609375 0 \n",
       "L 9.078125 0 \n",
       "L 9.078125 54.6875 \n",
       "L 18.015625 54.6875 \n",
       "L 18.015625 10.890625 \n",
       "L 44.34375 54.6875 \n",
       "z\n",
       "\" id=\"DejaVuSans-1080\"/>\n",
       "      <path d=\"M 18.0625 25.203125 \n",
       "L 18.0625 7.171875 \n",
       "L 30.859375 7.171875 \n",
       "Q 37.015625 7.171875 40.234375 9.484375 \n",
       "Q 43.453125 11.8125 43.453125 16.21875 \n",
       "Q 43.453125 20.609375 40.234375 22.90625 \n",
       "Q 37.015625 25.203125 30.859375 25.203125 \n",
       "z\n",
       "M 18.0625 47.515625 \n",
       "L 18.0625 32.375 \n",
       "L 29.890625 32.375 \n",
       "Q 34.96875 32.375 38.1875 34.390625 \n",
       "Q 41.40625 36.421875 41.40625 40.046875 \n",
       "Q 41.40625 43.65625 38.1875 45.578125 \n",
       "Q 34.96875 47.515625 29.890625 47.515625 \n",
       "z\n",
       "M 9.078125 54.6875 \n",
       "L 30.46875 54.6875 \n",
       "Q 40.09375 54.6875 45.265625 51.171875 \n",
       "Q 50.4375 47.65625 50.4375 41.15625 \n",
       "Q 50.4375 36.140625 47.796875 33.171875 \n",
       "Q 45.171875 30.21875 39.984375 29.5 \n",
       "Q 46.1875 28.328125 49.609375 24.609375 \n",
       "Q 53.03125 20.90625 53.03125 15.328125 \n",
       "Q 53.03125 8.015625 47.390625 4 \n",
       "Q 41.75 0 31.296875 0 \n",
       "L 9.078125 0 \n",
       "z\n",
       "\" id=\"DejaVuSans-1074\"/>\n",
       "     </defs>\n",
       "     <use xlink:href=\"#DejaVuSans-1058\"/>\n",
       "     <use x=\"61.083984\" xlink:href=\"#DejaVuSans-1086\"/>\n",
       "     <use x=\"122.265625\" xlink:href=\"#DejaVuSans-1085\"/>\n",
       "     <use x=\"187.646484\" xlink:href=\"#DejaVuSans-1072\"/>\n",
       "     <use x=\"248.925781\" xlink:href=\"#DejaVuSans-1083\"/>\n",
       "     <use x=\"312.841797\" xlink:href=\"#DejaVuSans-1100\"/>\n",
       "     <use x=\"371.777344\" xlink:href=\"#DejaVuSans-1085\"/>\n",
       "     <use x=\"437.158203\" xlink:href=\"#DejaVuSans-1086\"/>\n",
       "     <use x=\"498.339844\" xlink:href=\"#DejaVuSans-1089\"/>\n",
       "     <use x=\"553.320312\" xlink:href=\"#DejaVuSans-1090\"/>\n",
       "     <use x=\"611.572266\" xlink:href=\"#DejaVuSans-1100\"/>\n",
       "     <use x=\"670.507812\" xlink:href=\"#DejaVuSans-32\"/>\n",
       "     <use x=\"702.294922\" xlink:href=\"#DejaVuSans-1082\"/>\n",
       "     <use x=\"762.695312\" xlink:href=\"#DejaVuSans-1086\"/>\n",
       "     <use x=\"823.876953\" xlink:href=\"#DejaVuSans-1084\"/>\n",
       "     <use x=\"899.316406\" xlink:href=\"#DejaVuSans-1084\"/>\n",
       "     <use x=\"974.755859\" xlink:href=\"#DejaVuSans-1077\"/>\n",
       "     <use x=\"1036.279297\" xlink:href=\"#DejaVuSans-1085\"/>\n",
       "     <use x=\"1101.660156\" xlink:href=\"#DejaVuSans-1090\"/>\n",
       "     <use x=\"1159.912109\" xlink:href=\"#DejaVuSans-1072\"/>\n",
       "     <use x=\"1221.191406\" xlink:href=\"#DejaVuSans-1088\"/>\n",
       "     <use x=\"1284.667969\" xlink:href=\"#DejaVuSans-1080\"/>\n",
       "     <use x=\"1349.658203\" xlink:href=\"#DejaVuSans-1077\"/>\n",
       "     <use x=\"1411.181641\" xlink:href=\"#DejaVuSans-1074\"/>\n",
       "    </g>\n",
       "   </g>\n",
       "   <g id=\"legend_1\">\n",
       "    <g id=\"patch_4\">\n",
       "     <path d=\"M 267.540146 59.674375 \n",
       "L 343.016708 59.674375 \n",
       "Q 345.016708 59.674375 345.016708 57.674375 \n",
       "L 345.016708 29.318125 \n",
       "Q 345.016708 27.318125 343.016708 27.318125 \n",
       "L 267.540146 27.318125 \n",
       "Q 265.540146 27.318125 265.540146 29.318125 \n",
       "L 265.540146 57.674375 \n",
       "Q 265.540146 59.674375 267.540146 59.674375 \n",
       "z\n",
       "\" style=\"fill:#ffffff;opacity:0.8;stroke:#cccccc;stroke-linejoin:miter;\"/>\n",
       "    </g>\n",
       "    <g id=\"patch_5\">\n",
       "     <path d=\"M 269.540146 38.916562 \n",
       "L 289.540146 38.916562 \n",
       "L 289.540146 31.916562 \n",
       "L 269.540146 31.916562 \n",
       "z\n",
       "\" style=\"fill:#1f77b4;\"/>\n",
       "    </g>\n",
       "    <g id=\"text_6\">\n",
       "     <!-- not toxic -->\n",
       "     <g transform=\"translate(297.540146 38.916562)scale(0.1 -0.1)\">\n",
       "      <use xlink:href=\"#DejaVuSans-110\"/>\n",
       "      <use x=\"63.378906\" xlink:href=\"#DejaVuSans-111\"/>\n",
       "      <use x=\"124.560547\" xlink:href=\"#DejaVuSans-116\"/>\n",
       "      <use x=\"163.769531\" xlink:href=\"#DejaVuSans-32\"/>\n",
       "      <use x=\"195.556641\" xlink:href=\"#DejaVuSans-116\"/>\n",
       "      <use x=\"234.765625\" xlink:href=\"#DejaVuSans-111\"/>\n",
       "      <use x=\"292.822266\" xlink:href=\"#DejaVuSans-120\"/>\n",
       "      <use x=\"352.001953\" xlink:href=\"#DejaVuSans-105\"/>\n",
       "      <use x=\"379.785156\" xlink:href=\"#DejaVuSans-99\"/>\n",
       "     </g>\n",
       "    </g>\n",
       "    <g id=\"patch_6\">\n",
       "     <path d=\"M 269.540146 53.594687 \n",
       "L 289.540146 53.594687 \n",
       "L 289.540146 46.594687 \n",
       "L 269.540146 46.594687 \n",
       "z\n",
       "\" style=\"fill:#ff7f0e;\"/>\n",
       "    </g>\n",
       "    <g id=\"text_7\">\n",
       "     <!-- toxic -->\n",
       "     <g transform=\"translate(297.540146 53.594687)scale(0.1 -0.1)\">\n",
       "      <use xlink:href=\"#DejaVuSans-116\"/>\n",
       "      <use x=\"39.208984\" xlink:href=\"#DejaVuSans-111\"/>\n",
       "      <use x=\"97.265625\" xlink:href=\"#DejaVuSans-120\"/>\n",
       "      <use x=\"156.445312\" xlink:href=\"#DejaVuSans-105\"/>\n",
       "      <use x=\"184.228516\" xlink:href=\"#DejaVuSans-99\"/>\n",
       "     </g>\n",
       "    </g>\n",
       "   </g>\n",
       "  </g>\n",
       " </g>\n",
       "</svg>\n"
      ],
      "text/plain": [
       "<Figure size 720x432 with 1 Axes>"
      ]
     },
     "metadata": {},
     "output_type": "display_data"
    }
   ],
   "source": [
    "data['toxic'].value_counts().plot(y='count', kind='pie',\n",
    "    labels=['not toxic', 'toxic'], autopct='%1.0f%%', legend = True)\n",
    "plot_describe('Тональность комментариев', '' , '')"
   ]
  },
  {
   "cell_type": "markdown",
   "metadata": {},
   "source": [
    "Выбросов и дубликатов в данных не обнаружено, однако есть заметный дисбаланс классов целевого признака. Учтём это в дальнейшем при обучении моделей.\n",
    "\n",
    "Выполним лемматизацию текста и удаление ненужных символов:"
   ]
  },
  {
   "cell_type": "code",
   "execution_count": 8,
   "metadata": {},
   "outputs": [],
   "source": [
    "corpus = data['text'].values"
   ]
  },
  {
   "cell_type": "code",
   "execution_count": 9,
   "metadata": {},
   "outputs": [
    {
     "name": "stderr",
     "output_type": "stream",
     "text": [
      "[nltk_data] Downloading package punkt to /home/jovyan/nltk_data...\n",
      "[nltk_data]   Package punkt is already up-to-date!\n",
      "[nltk_data] Downloading package wordnet to /home/jovyan/nltk_data...\n",
      "[nltk_data]   Package wordnet is already up-to-date!\n",
      "[nltk_data] Downloading package averaged_perceptron_tagger to\n",
      "[nltk_data]     /home/jovyan/nltk_data...\n",
      "[nltk_data]   Package averaged_perceptron_tagger is already up-to-\n",
      "[nltk_data]       date!\n"
     ]
    },
    {
     "data": {
      "text/plain": [
       "True"
      ]
     },
     "execution_count": 9,
     "metadata": {},
     "output_type": "execute_result"
    }
   ],
   "source": [
    "nltk.download('punkt')\n",
    "nltk.download('wordnet')\n",
    "nltk.download('averaged_perceptron_tagger')"
   ]
  },
  {
   "cell_type": "code",
   "execution_count": 10,
   "metadata": {},
   "outputs": [
    {
     "data": {
      "application/vnd.jupyter.widget-view+json": {
       "model_id": "32f2d6c8e8b4478fa774e06293333cbd",
       "version_major": 2,
       "version_minor": 0
      },
      "text/plain": [
       "  0%|          | 0/159292 [00:00<?, ?it/s]"
      ]
     },
     "metadata": {},
     "output_type": "display_data"
    }
   ],
   "source": [
    "def get_wordnet_pos(word): \n",
    "    tag = nltk.pos_tag([word])[0][1][0].upper()\n",
    "    tag_dict = {\"J\": wordnet.ADJ,\n",
    "                \"N\": wordnet.NOUN,\n",
    "                \"V\": wordnet.VERB,\n",
    "                \"R\": wordnet.ADV}\n",
    "    return tag_dict.get(tag, wordnet.NOUN)\n",
    "\n",
    "def lemmatize(text):\n",
    "    m = WordNetLemmatizer()\n",
    "    text = text.lower()\n",
    "    text = re.sub(r'[^a-zA-Z\\']', ' ', text)\n",
    "    text = text.split()\n",
    "    return ' '.join([m.lemmatize(i, get_wordnet_pos(i)) for i in text])\n",
    "\n",
    "tqdm.pandas()\n",
    "data['new_text'] = data['text'].progress_apply(lemmatize)"
   ]
  },
  {
   "cell_type": "code",
   "execution_count": 11,
   "metadata": {},
   "outputs": [
    {
     "data": {
      "text/html": [
       "<div>\n",
       "<style scoped>\n",
       "    .dataframe tbody tr th:only-of-type {\n",
       "        vertical-align: middle;\n",
       "    }\n",
       "\n",
       "    .dataframe tbody tr th {\n",
       "        vertical-align: top;\n",
       "    }\n",
       "\n",
       "    .dataframe thead th {\n",
       "        text-align: right;\n",
       "    }\n",
       "</style>\n",
       "<table border=\"1\" class=\"dataframe\">\n",
       "  <thead>\n",
       "    <tr style=\"text-align: right;\">\n",
       "      <th></th>\n",
       "      <th>text</th>\n",
       "      <th>toxic</th>\n",
       "      <th>new_text</th>\n",
       "    </tr>\n",
       "  </thead>\n",
       "  <tbody>\n",
       "    <tr>\n",
       "      <th>0</th>\n",
       "      <td>Explanation\\nWhy the edits made under my username Hardcore Metallica Fan were reverted? They weren't vandalisms, just closure on some GAs after I voted at New York Dolls FAC. And please don't remove the template from the talk page since I'm retired now.89.205.38.27</td>\n",
       "      <td>0</td>\n",
       "      <td>explanation why the edits make under my username hardcore metallica fan be revert they weren't vandalism just closure on some gas after i vote at new york doll fac and please don't remove the template from the talk page since i'm retire now</td>\n",
       "    </tr>\n",
       "    <tr>\n",
       "      <th>1</th>\n",
       "      <td>D'aww! He matches this background colour I'm seemingly stuck with. Thanks.  (talk) 21:51, January 11, 2016 (UTC)</td>\n",
       "      <td>0</td>\n",
       "      <td>d'aww he match this background colour i'm seemingly stuck with thanks talk january utc</td>\n",
       "    </tr>\n",
       "    <tr>\n",
       "      <th>2</th>\n",
       "      <td>Hey man, I'm really not trying to edit war. It's just that this guy is constantly removing relevant information and talking to me through edits instead of my talk page. He seems to care more about the formatting than the actual info.</td>\n",
       "      <td>0</td>\n",
       "      <td>hey man i'm really not try to edit war it's just that this guy be constantly remove relevant information and talk to me through edits instead of my talk page he seem to care more about the format than the actual info</td>\n",
       "    </tr>\n",
       "    <tr>\n",
       "      <th>3</th>\n",
       "      <td>\"\\nMore\\nI can't make any real suggestions on improvement - I wondered if the section statistics should be later on, or a subsection of \"\"types of accidents\"\"  -I think the references may need tidying so that they are all in the exact same format ie date format etc. I can do that later on, if no-one else does first - if you have any preferences for formatting style on references or want to do it yourself please let me know.\\n\\nThere appears to be a backlog on articles for review so I guess there may be a delay until a reviewer turns up. It's listed in the relevant form eg Wikipedia:Good_article_nominations#Transport  \"</td>\n",
       "      <td>0</td>\n",
       "      <td>more i can't make any real suggestion on improvement i wonder if the section statistic should be later on or a subsection of type of accident i think the reference may need tidy so that they be all in the exact same format ie date format etc i can do that later on if no one else do first if you have any preference for format style on reference or want to do it yourself please let me know there appear to be a backlog on article for review so i guess there may be a delay until a reviewer turn up it's list in the relevant form eg wikipedia good article nomination transport</td>\n",
       "    </tr>\n",
       "    <tr>\n",
       "      <th>4</th>\n",
       "      <td>You, sir, are my hero. Any chance you remember what page that's on?</td>\n",
       "      <td>0</td>\n",
       "      <td>you sir be my hero any chance you remember what page that's on</td>\n",
       "    </tr>\n",
       "  </tbody>\n",
       "</table>\n",
       "</div>"
      ],
      "text/plain": [
       "                                                                                                                                                                                                                                                                                                                                                                                                                                                                                                                                                                                                                                                 text  \\\n",
       "0                                                                                                                                                                                                                                                                                                                                                                           Explanation\\nWhy the edits made under my username Hardcore Metallica Fan were reverted? They weren't vandalisms, just closure on some GAs after I voted at New York Dolls FAC. And please don't remove the template from the talk page since I'm retired now.89.205.38.27   \n",
       "1                                                                                                                                                                                                                                                                                                                                                                                                                                                                                                                                    D'aww! He matches this background colour I'm seemingly stuck with. Thanks.  (talk) 21:51, January 11, 2016 (UTC)   \n",
       "2                                                                                                                                                                                                                                                                                                                                                                                                           Hey man, I'm really not trying to edit war. It's just that this guy is constantly removing relevant information and talking to me through edits instead of my talk page. He seems to care more about the formatting than the actual info.   \n",
       "3  \"\\nMore\\nI can't make any real suggestions on improvement - I wondered if the section statistics should be later on, or a subsection of \"\"types of accidents\"\"  -I think the references may need tidying so that they are all in the exact same format ie date format etc. I can do that later on, if no-one else does first - if you have any preferences for formatting style on references or want to do it yourself please let me know.\\n\\nThere appears to be a backlog on articles for review so I guess there may be a delay until a reviewer turns up. It's listed in the relevant form eg Wikipedia:Good_article_nominations#Transport  \"   \n",
       "4                                                                                                                                                                                                                                                                                                                                                                                                                                                                                                                                                                                 You, sir, are my hero. Any chance you remember what page that's on?   \n",
       "\n",
       "   toxic  \\\n",
       "0      0   \n",
       "1      0   \n",
       "2      0   \n",
       "3      0   \n",
       "4      0   \n",
       "\n",
       "                                                                                                                                                                                                                                                                                                                                                                                                                                                                                                                                                                                           new_text  \n",
       "0                                                                                                                                                                                                                                                                                                                                                  explanation why the edits make under my username hardcore metallica fan be revert they weren't vandalism just closure on some gas after i vote at new york doll fac and please don't remove the template from the talk page since i'm retire now  \n",
       "1                                                                                                                                                                                                                                                                                                                                                                                                                                                                                                            d'aww he match this background colour i'm seemingly stuck with thanks talk january utc  \n",
       "2                                                                                                                                                                                                                                                                                                                                                                          hey man i'm really not try to edit war it's just that this guy be constantly remove relevant information and talk to me through edits instead of my talk page he seem to care more about the format than the actual info  \n",
       "3  more i can't make any real suggestion on improvement i wonder if the section statistic should be later on or a subsection of type of accident i think the reference may need tidy so that they be all in the exact same format ie date format etc i can do that later on if no one else do first if you have any preference for format style on reference or want to do it yourself please let me know there appear to be a backlog on article for review so i guess there may be a delay until a reviewer turn up it's list in the relevant form eg wikipedia good article nomination transport  \n",
       "4                                                                                                                                                                                                                                                                                                                                                                                                                                                                                                                                    you sir be my hero any chance you remember what page that's on  "
      ]
     },
     "execution_count": 11,
     "metadata": {},
     "output_type": "execute_result"
    }
   ],
   "source": [
    "data.head()"
   ]
  },
  {
   "cell_type": "code",
   "execution_count": 12,
   "metadata": {},
   "outputs": [
    {
     "data": {
      "text/plain": [
       "0"
      ]
     },
     "execution_count": 12,
     "metadata": {},
     "output_type": "execute_result"
    }
   ],
   "source": [
    "data.duplicated().sum() # Проверяем, не появилось ли новых дубликатов"
   ]
  },
  {
   "cell_type": "markdown",
   "metadata": {},
   "source": [
    "**Промежуточный вывод:**\n",
    "\n",
    "Выбросов и дубликатов в данных не обнаружено, однако есть заметный дисбаланс классов целевого признака. Учтём это в дальнейшем при обучении моделей.\n",
    "\n",
    "Проведена подготовка данных к дальнейшей работе за счёт лемматизации текста, удаления ненужных символов и очистки от регулярных выражений. "
   ]
  },
  {
   "cell_type": "markdown",
   "metadata": {},
   "source": [
    "## Обучение"
   ]
  },
  {
   "cell_type": "code",
   "execution_count": 13,
   "metadata": {},
   "outputs": [],
   "source": [
    "X = data.drop(['toxic', 'text'], axis = 1) \n",
    "y = data['toxic']\n",
    "\n",
    "X_train, X_test, y_train, y_test = train_test_split(\n",
    "        X, \n",
    "        y,\n",
    "        test_size = TEST_SIZE,\n",
    "        random_state=RANDOM_STATE\n",
    "    ) \n",
    "\n",
    "stop_words = set(stopwords.words('english'))"
   ]
  },
  {
   "cell_type": "code",
   "execution_count": 14,
   "metadata": {},
   "outputs": [],
   "source": [
    "X_train_l = list(X_train['new_text']) # Выполним трансформацию текстов в векторы при помощи tf-idf\n",
    "X_test_l = list(X_test['new_text'])"
   ]
  },
  {
   "cell_type": "code",
   "execution_count": 15,
   "metadata": {},
   "outputs": [
    {
     "name": "stderr",
     "output_type": "stream",
     "text": [
      "/opt/conda/lib/python3.9/site-packages/sklearn/linear_model/_sag.py:328: ConvergenceWarning: The max_iter was reached which means the coef_ did not converge\n",
      "  warnings.warn(\"The max_iter was reached which means \"\n",
      "/opt/conda/lib/python3.9/site-packages/sklearn/linear_model/_sag.py:328: ConvergenceWarning: The max_iter was reached which means the coef_ did not converge\n",
      "  warnings.warn(\"The max_iter was reached which means \"\n",
      "/opt/conda/lib/python3.9/site-packages/sklearn/linear_model/_sag.py:328: ConvergenceWarning: The max_iter was reached which means the coef_ did not converge\n",
      "  warnings.warn(\"The max_iter was reached which means \"\n",
      "/opt/conda/lib/python3.9/site-packages/sklearn/linear_model/_sag.py:328: ConvergenceWarning: The max_iter was reached which means the coef_ did not converge\n",
      "  warnings.warn(\"The max_iter was reached which means \"\n",
      "/opt/conda/lib/python3.9/site-packages/sklearn/linear_model/_sag.py:328: ConvergenceWarning: The max_iter was reached which means the coef_ did not converge\n",
      "  warnings.warn(\"The max_iter was reached which means \"\n"
     ]
    },
    {
     "name": "stdout",
     "output_type": "stream",
     "text": [
      "Best parameters: {'classifier__solver': 'saga', 'classifier__C': 10}\n",
      "Best F1 score: 0.7688494326854635\n"
     ]
    }
   ],
   "source": [
    "params_lr = {\n",
    "    'classifier__C': [0.001, 0.01, 0.1, 1, 10, 100],\n",
    "    'classifier__solver': ['liblinear', 'saga']\n",
    "}\n",
    "\n",
    "pipeline_lr = Pipeline(\n",
    "    [\n",
    "        ('vect', TfidfVectorizer(stop_words=stop_words)),\n",
    "        ('classifier', LogisticRegression())\n",
    "]\n",
    ")\n",
    "\n",
    "search_lr = RandomizedSearchCV(\n",
    "    estimator=pipeline_lr,\n",
    "    param_distributions=params_lr,\n",
    "    n_iter=10,\n",
    "    scoring=make_scorer(f1_score, average='binary'),\n",
    "    cv=5,\n",
    "    random_state=RANDOM_STATE\n",
    ")\n",
    "\n",
    "search_lr.fit(X_train_l, y_train)\n",
    "\n",
    "print(\"Best parameters:\", search_lr.best_params_)\n",
    "print(\"Best F1 score:\", search_lr.best_score_)"
   ]
  },
  {
   "cell_type": "markdown",
   "metadata": {},
   "source": [
    "Обучим две модели — логистическую регрессию с двумя типами регуляризации и DecisionTreeClassifier — и переберём их гиперпараметры, чтобы найти наилучшие: "
   ]
  },
  {
   "cell_type": "code",
   "execution_count": 16,
   "metadata": {},
   "outputs": [
    {
     "name": "stderr",
     "output_type": "stream",
     "text": [
      "/opt/conda/lib/python3.9/site-packages/sklearn/utils/validation.py:70: FutureWarning: Pass input={'m', 'for', 'not', 'here', 'been', 'wouldn', 'themselves', 'just', \"shouldn't\", \"won't\", 'them', 'under', 'during', \"didn't\", \"hasn't\", \"needn't\", 'their', 'each', 'off', 'were', 'to', \"couldn't\", 'theirs', 'did', 'about', 'whom', 'why', 'didn', 'than', 'out', 'the', 'those', 'because', 'this', 'same', \"you'd\", 'that', 'both', 'and', 'my', 'in', 'needn', 'nor', \"haven't\", 'very', \"mustn't\", 'his', \"wouldn't\", 'through', 're', 'y', 'only', 'myself', \"don't\", 'he', 'on', 'so', \"it's\", 'with', 'ours', 'himself', 'haven', 'aren', 'being', \"weren't\", 'was', 'you', 'there', 'herself', \"wasn't\", 'are', 'doing', 'i', 'who', \"you're\", 'these', 've', 'couldn', \"hadn't\", 'which', 'will', 'having', 'is', 'be', 'mightn', \"you'll\", 'more', 'shan', 'yours', 'until', 'our', 'mustn', 'do', \"aren't\", \"you've\", 'ain', 's', 'don', 'when', 'as', 'itself', 'won', 'weren', 'o', 'she', 'too', 'yourself', 'your', 'of', 'between', 'above', 'an', \"should've\", 'd', 'now', 'what', 'other', 'll', 'doesn', \"she's\", 'her', 'its', 'should', 'or', 'yourselves', 'before', 'own', \"isn't\", 'but', 'down', \"shan't\", 'few', 'it', \"doesn't\", 'while', 'we', 'does', 'by', 'after', 'again', 'how', 'has', 'further', 'ma', 'over', 'such', \"that'll\", 'against', 'up', 'some', 'him', 'below', 'me', 'can', 'shouldn', 'hadn', 'had', 'where', 'have', 'they', 'from', 'at', 'ourselves', 'no', 'if', 'all', 'most', 'once', 'hers', 'into', 'wasn', 'any', 'am', 'a', 'then', 't', \"mightn't\", 'hasn', 'isn'} as keyword args. From version 1.0 (renaming of 0.25) passing these as positional arguments will result in an error\n",
      "  warnings.warn(f\"Pass {args_msg} as keyword args. From version \"\n",
      "/opt/conda/lib/python3.9/site-packages/sklearn/model_selection/_search.py:285: UserWarning: The total space of parameters 3 is smaller than n_iter=10. Running 3 iterations. For exhaustive searches, use GridSearchCV.\n",
      "  warnings.warn(\n"
     ]
    },
    {
     "name": "stdout",
     "output_type": "stream",
     "text": [
      "Best parameters: {'classifier__max_depth': 8}\n",
      "Best F1 score: 0.5902411138016588\n"
     ]
    }
   ],
   "source": [
    "params_dt = {\n",
    "    'classifier__max_depth': [4, 6, 8]\n",
    "}\n",
    "\n",
    "pipeline_dt = Pipeline(\n",
    "    [\n",
    "        ('vect', TfidfVectorizer(stop_words)),\n",
    "        ('classifier', DecisionTreeClassifier())\n",
    "]\n",
    ")\n",
    "\n",
    "search_dt = RandomizedSearchCV(\n",
    "    estimator=pipeline_dt,\n",
    "    param_distributions=params_dt,\n",
    "    n_iter=10,\n",
    "    scoring=make_scorer(f1_score, average='binary'),\n",
    "    cv=5,\n",
    "    random_state=RANDOM_STATE\n",
    ")\n",
    "\n",
    "search_dt.fit(X_train_l, y_train)\n",
    "\n",
    "print(\"Best parameters:\", search_dt.best_params_)\n",
    "print(\"Best F1 score:\", search_dt.best_score_)"
   ]
  },
  {
   "cell_type": "markdown",
   "metadata": {},
   "source": [
    "Лучшей из рассмотренных моделей оказалась логистическая регрессия с l1-регуляризацией и параметром регуляризации *C* равным четырём, поэтому предсказание будем делать на основе неё:"
   ]
  },
  {
   "cell_type": "code",
   "execution_count": 17,
   "metadata": {},
   "outputs": [
    {
     "name": "stdout",
     "output_type": "stream",
     "text": [
      "0.77\n"
     ]
    }
   ],
   "source": [
    "preds = search_lr.predict(X_test_l)\n",
    "print(f1_score(y_test, preds, average='binary').round(2))"
   ]
  },
  {
   "cell_type": "markdown",
   "metadata": {},
   "source": [
    "Также проверим модель на адекватность при помощи `DummyClassifier`:"
   ]
  },
  {
   "cell_type": "code",
   "execution_count": 18,
   "metadata": {
    "scrolled": true
   },
   "outputs": [
    {
     "name": "stdout",
     "output_type": "stream",
     "text": [
      "Dummy Classifier F1-score: 0.00\n"
     ]
    }
   ],
   "source": [
    "dummy_model = DummyClassifier(strategy='most_frequent', random_state=RANDOM_STATE)\n",
    "dummy_model.fit(X_train, y_train)\n",
    "dummy_model_preds = dummy_model.predict(X_test)\n",
    "f1_dummy = f1_score(y_test, dummy_model_preds, average='binary')\n",
    "print(f\"Dummy Classifier F1-score: {f1_dummy:.2f}\")"
   ]
  },
  {
   "cell_type": "markdown",
   "metadata": {},
   "source": [
    "## Выводы"
   ]
  },
  {
   "cell_type": "markdown",
   "metadata": {},
   "source": [
    "В качестве финальной модели для тестирования была выбрана модель логистической регрессии с алгоритмом оптимизации *saga* и параметром регуляризации *C* равным десяти. Достигнутый показатель метрики f1 на тестовых данных равен 0.77, что удовлетворяет заявленному заказчиком порогу в 0.75.\n",
    "\n",
    "На этапе **подготовки** в данных не было обнаружено выбросов и дубликатов, однако был заметен дисбаланс классов целевого признака, что было учтено при обучении моделей. Также была проведена подготовка данных к дальнейшей работе за счёт лемматизации текста, удаления ненужных символов и очистки от регулярных выражений.\n",
    "\n",
    "**Обучение моделей** и перебор их гиперпараметров позволили выявить лучшую модель — ей оказалась модель логистической регрессии, показавшая на тренировочной выборке значение метрики f1 = 0.77."
   ]
  }
 ],
 "metadata": {
  "ExecuteTimeLog": [
   {
    "duration": 1357,
    "start_time": "2025-06-30T16:17:25.127Z"
   },
   {
    "duration": 539,
    "start_time": "2025-06-30T16:17:26.485Z"
   },
   {
    "duration": 4,
    "start_time": "2025-06-30T16:18:10.829Z"
   },
   {
    "duration": 20,
    "start_time": "2025-06-30T16:18:11.028Z"
   },
   {
    "duration": 988,
    "start_time": "2025-06-30T16:18:49.182Z"
   },
   {
    "duration": 136,
    "start_time": "2025-06-30T16:19:45.080Z"
   },
   {
    "duration": 3,
    "start_time": "2025-06-30T16:19:48.472Z"
   },
   {
    "duration": 98,
    "start_time": "2025-06-30T16:19:48.670Z"
   },
   {
    "duration": 973,
    "start_time": "2025-06-30T16:21:30.324Z"
   },
   {
    "duration": 4,
    "start_time": "2025-06-30T16:21:31.299Z"
   },
   {
    "duration": 82,
    "start_time": "2025-06-30T16:21:31.402Z"
   },
   {
    "duration": 12,
    "start_time": "2025-06-30T16:27:17.788Z"
   },
   {
    "duration": 228,
    "start_time": "2025-06-30T16:27:21.598Z"
   },
   {
    "duration": 194,
    "start_time": "2025-06-30T16:27:40.414Z"
   },
   {
    "duration": 11,
    "start_time": "2025-06-30T16:28:02.649Z"
   },
   {
    "duration": 5,
    "start_time": "2025-06-30T16:28:07.268Z"
   },
   {
    "duration": 78,
    "start_time": "2025-06-30T16:30:44.024Z"
   },
   {
    "duration": 79,
    "start_time": "2025-06-30T16:30:48.100Z"
   },
   {
    "duration": 5,
    "start_time": "2025-06-30T16:30:53.619Z"
   },
   {
    "duration": 144,
    "start_time": "2025-06-30T16:30:57.768Z"
   },
   {
    "duration": 201,
    "start_time": "2025-06-30T16:31:06.571Z"
   },
   {
    "duration": 15,
    "start_time": "2025-06-30T16:35:06.216Z"
   },
   {
    "duration": 134,
    "start_time": "2025-06-30T16:36:31.097Z"
   },
   {
    "duration": 5,
    "start_time": "2025-06-30T16:42:08.017Z"
   },
   {
    "duration": 456,
    "start_time": "2025-06-30T16:42:09.921Z"
   },
   {
    "duration": 754,
    "start_time": "2025-06-30T16:43:42.641Z"
   },
   {
    "duration": 1300251,
    "start_time": "2025-06-30T16:43:50.174Z"
   },
   {
    "duration": 51,
    "start_time": "2025-07-01T10:11:05.332Z"
   },
   {
    "duration": 2170,
    "start_time": "2025-07-01T10:11:12.628Z"
   },
   {
    "duration": 432,
    "start_time": "2025-07-01T10:11:14.800Z"
   },
   {
    "duration": 1091,
    "start_time": "2025-07-01T10:11:15.234Z"
   },
   {
    "duration": 4,
    "start_time": "2025-07-01T10:11:16.327Z"
   },
   {
    "duration": 96,
    "start_time": "2025-07-01T10:11:16.370Z"
   },
   {
    "duration": 247,
    "start_time": "2025-07-01T10:11:17.389Z"
   },
   {
    "duration": 5,
    "start_time": "2025-07-01T10:11:18.163Z"
   },
   {
    "duration": 147,
    "start_time": "2025-07-01T10:11:18.541Z"
   },
   {
    "duration": 96,
    "start_time": "2025-07-01T10:11:21.053Z"
   },
   {
    "duration": 3007,
    "start_time": "2025-07-01T10:11:50.461Z"
   },
   {
    "duration": 845,
    "start_time": "2025-07-01T10:12:11.896Z"
   },
   {
    "duration": 62,
    "start_time": "2025-07-01T10:17:02.592Z"
   },
   {
    "duration": 5,
    "start_time": "2025-07-01T10:17:20.879Z"
   },
   {
    "duration": 5,
    "start_time": "2025-07-01T10:17:30.356Z"
   },
   {
    "duration": 23,
    "start_time": "2025-07-01T10:17:40.391Z"
   },
   {
    "duration": 3,
    "start_time": "2025-07-01T10:17:54.256Z"
   },
   {
    "duration": 21,
    "start_time": "2025-07-01T10:17:59.620Z"
   },
   {
    "duration": 5,
    "start_time": "2025-07-01T10:18:09.034Z"
   },
   {
    "duration": 20359,
    "start_time": "2025-07-01T10:19:25.210Z"
   },
   {
    "duration": 1105335,
    "start_time": "2025-07-01T10:19:49.482Z"
   },
   {
    "duration": 22,
    "start_time": "2025-07-01T10:38:14.820Z"
   },
   {
    "duration": 381,
    "start_time": "2025-07-01T10:42:45.445Z"
   },
   {
    "duration": 12,
    "start_time": "2025-07-01T10:54:38.857Z"
   },
   {
    "duration": 74,
    "start_time": "2025-07-01T10:55:01.123Z"
   },
   {
    "duration": 10,
    "start_time": "2025-07-01T10:55:32.786Z"
   },
   {
    "duration": 46,
    "start_time": "2025-07-01T10:56:10.477Z"
   },
   {
    "duration": 12,
    "start_time": "2025-07-01T10:56:10.938Z"
   },
   {
    "duration": 40,
    "start_time": "2025-07-01T10:57:30.308Z"
   },
   {
    "duration": 1396,
    "start_time": "2025-07-01T10:57:54.952Z"
   },
   {
    "duration": 6807,
    "start_time": "2025-07-01T10:58:09.798Z"
   },
   {
    "duration": 6830,
    "start_time": "2025-07-01T11:04:50.241Z"
   },
   {
    "duration": 0,
    "start_time": "2025-07-01T11:11:30.663Z"
   },
   {
    "duration": 396685,
    "start_time": "2025-07-01T11:11:34.561Z"
   },
   {
    "duration": 22,
    "start_time": "2025-07-01T11:18:11.248Z"
   },
   {
    "duration": 166757,
    "start_time": "2025-07-01T11:18:11.272Z"
   },
   {
    "duration": 698236,
    "start_time": "2025-07-01T11:21:10.595Z"
   },
   {
    "duration": 0,
    "start_time": "2025-07-01T11:32:48.832Z"
   },
   {
    "duration": 0,
    "start_time": "2025-07-01T11:32:48.834Z"
   },
   {
    "duration": 4,
    "start_time": "2025-07-01T11:39:17.432Z"
   },
   {
    "duration": 30,
    "start_time": "2025-07-01T11:39:22.874Z"
   },
   {
    "duration": 28,
    "start_time": "2025-07-01T11:39:29.806Z"
   },
   {
    "duration": 28,
    "start_time": "2025-07-01T11:39:49.474Z"
   },
   {
    "duration": 20,
    "start_time": "2025-07-01T11:42:28.010Z"
   },
   {
    "duration": 4,
    "start_time": "2025-07-01T11:42:41.896Z"
   },
   {
    "duration": 18,
    "start_time": "2025-07-01T11:42:45.407Z"
   },
   {
    "duration": 34,
    "start_time": "2025-07-01T11:44:05.369Z"
   },
   {
    "duration": 34,
    "start_time": "2025-07-01T11:44:16.075Z"
   },
   {
    "duration": 19,
    "start_time": "2025-07-01T11:44:24.911Z"
   },
   {
    "duration": 167378,
    "start_time": "2025-07-01T11:46:34.490Z"
   },
   {
    "duration": 20,
    "start_time": "2025-07-01T11:51:59.959Z"
   },
   {
    "duration": 21,
    "start_time": "2025-07-01T11:52:16.830Z"
   },
   {
    "duration": 42538,
    "start_time": "2025-07-01T11:58:31.679Z"
   },
   {
    "duration": 0,
    "start_time": "2025-07-01T11:59:14.219Z"
   },
   {
    "duration": 5,
    "start_time": "2025-07-01T11:59:20.081Z"
   },
   {
    "duration": 110155,
    "start_time": "2025-07-01T11:59:32.298Z"
   },
   {
    "duration": 23,
    "start_time": "2025-07-01T12:01:37.302Z"
   },
   {
    "duration": 217802,
    "start_time": "2025-07-01T12:01:49.632Z"
   },
   {
    "duration": 0,
    "start_time": "2025-07-01T12:05:27.435Z"
   },
   {
    "duration": 35,
    "start_time": "2025-07-01T12:05:40.785Z"
   },
   {
    "duration": 18,
    "start_time": "2025-07-01T12:10:11.965Z"
   },
   {
    "duration": 19,
    "start_time": "2025-07-01T12:10:32.076Z"
   },
   {
    "duration": 19,
    "start_time": "2025-07-01T12:10:54.088Z"
   },
   {
    "duration": 5,
    "start_time": "2025-07-01T12:17:51.600Z"
   },
   {
    "duration": 4349,
    "start_time": "2025-07-01T12:18:07.609Z"
   },
   {
    "duration": 220,
    "start_time": "2025-07-01T12:18:11.960Z"
   },
   {
    "duration": 954,
    "start_time": "2025-07-01T12:18:12.181Z"
   },
   {
    "duration": 4,
    "start_time": "2025-07-01T12:18:13.140Z"
   },
   {
    "duration": 125,
    "start_time": "2025-07-01T12:18:13.146Z"
   },
   {
    "duration": 248,
    "start_time": "2025-07-01T12:18:13.273Z"
   },
   {
    "duration": 15,
    "start_time": "2025-07-01T12:18:13.524Z"
   },
   {
    "duration": 170,
    "start_time": "2025-07-01T12:18:13.541Z"
   },
   {
    "duration": 4,
    "start_time": "2025-07-01T12:18:13.713Z"
   },
   {
    "duration": 291,
    "start_time": "2025-07-01T12:18:13.721Z"
   },
   {
    "duration": 1122301,
    "start_time": "2025-07-01T12:18:14.013Z"
   },
   {
    "duration": 8,
    "start_time": "2025-07-01T12:36:56.317Z"
   },
   {
    "duration": 402,
    "start_time": "2025-07-01T12:36:56.338Z"
   },
   {
    "duration": 61,
    "start_time": "2025-07-01T12:36:56.741Z"
   },
   {
    "duration": 6644,
    "start_time": "2025-07-01T12:36:56.803Z"
   },
   {
    "duration": 1064515,
    "start_time": "2025-07-01T12:37:03.450Z"
   },
   {
    "duration": 330865,
    "start_time": "2025-07-01T12:54:47.968Z"
   },
   {
    "duration": 19,
    "start_time": "2025-07-01T13:00:18.839Z"
   },
   {
    "duration": 19,
    "start_time": "2025-07-01T13:00:18.860Z"
   },
   {
    "duration": 22,
    "start_time": "2025-07-01T14:31:55.785Z"
   },
   {
    "duration": 20,
    "start_time": "2025-07-01T14:32:09.193Z"
   },
   {
    "duration": 5,
    "start_time": "2025-07-01T14:41:14.304Z"
   },
   {
    "duration": 18,
    "start_time": "2025-07-01T14:52:52.631Z"
   },
   {
    "duration": 19,
    "start_time": "2025-07-01T14:53:13.807Z"
   },
   {
    "duration": 19,
    "start_time": "2025-07-01T14:53:49.334Z"
   },
   {
    "duration": 1508,
    "start_time": "2025-07-02T14:35:13.561Z"
   },
   {
    "duration": 525,
    "start_time": "2025-07-02T14:35:15.071Z"
   },
   {
    "duration": 4,
    "start_time": "2025-07-02T14:35:59.042Z"
   },
   {
    "duration": 958,
    "start_time": "2025-07-02T14:36:05.990Z"
   },
   {
    "duration": 6,
    "start_time": "2025-07-02T14:36:08.078Z"
   },
   {
    "duration": 92,
    "start_time": "2025-07-02T14:36:09.849Z"
   },
   {
    "duration": 4,
    "start_time": "2025-07-02T14:36:30.902Z"
   },
   {
    "duration": 89,
    "start_time": "2025-07-02T14:36:35.217Z"
   },
   {
    "duration": 216,
    "start_time": "2025-07-02T14:39:38.704Z"
   },
   {
    "duration": 5,
    "start_time": "2025-07-02T14:39:39.792Z"
   },
   {
    "duration": 162,
    "start_time": "2025-07-02T14:39:40.829Z"
   },
   {
    "duration": 2,
    "start_time": "2025-07-02T14:41:57.211Z"
   },
   {
    "duration": 799,
    "start_time": "2025-07-02T14:41:58.199Z"
   },
   {
    "duration": 1133142,
    "start_time": "2025-07-02T14:41:59.804Z"
   },
   {
    "duration": 21,
    "start_time": "2025-07-02T15:00:52.948Z"
   },
   {
    "duration": 415,
    "start_time": "2025-07-02T15:00:52.970Z"
   },
   {
    "duration": 56,
    "start_time": "2025-07-02T15:00:53.387Z"
   },
   {
    "duration": 159,
    "start_time": "2025-07-02T15:00:53.444Z"
   },
   {
    "duration": 16,
    "start_time": "2025-07-02T15:01:39.910Z"
   },
   {
    "duration": 15,
    "start_time": "2025-07-02T15:11:11.852Z"
   },
   {
    "duration": 4,
    "start_time": "2025-07-02T15:34:35.603Z"
   },
   {
    "duration": 5,
    "start_time": "2025-07-02T15:35:20.856Z"
   },
   {
    "duration": 172,
    "start_time": "2025-07-02T15:35:29.176Z"
   },
   {
    "duration": 40,
    "start_time": "2025-07-02T15:35:51.826Z"
   },
   {
    "duration": 38,
    "start_time": "2025-07-02T15:38:07.021Z"
   },
   {
    "duration": 9,
    "start_time": "2025-07-02T15:38:33.894Z"
   },
   {
    "duration": 4,
    "start_time": "2025-07-02T16:14:59.219Z"
   },
   {
    "duration": 12,
    "start_time": "2025-07-02T16:19:01.478Z"
   },
   {
    "duration": 40,
    "start_time": "2025-07-02T16:19:22.958Z"
   },
   {
    "duration": 34,
    "start_time": "2025-07-02T16:20:36.108Z"
   },
   {
    "duration": 4,
    "start_time": "2025-07-02T16:20:37.524Z"
   },
   {
    "duration": 6303,
    "start_time": "2025-07-02T16:20:43.198Z"
   },
   {
    "duration": 37,
    "start_time": "2025-07-02T16:20:49.503Z"
   },
   {
    "duration": 4,
    "start_time": "2025-07-02T16:20:59.015Z"
   },
   {
    "duration": 40,
    "start_time": "2025-07-02T16:21:08.827Z"
   },
   {
    "duration": 36,
    "start_time": "2025-07-02T16:21:11.292Z"
   },
   {
    "duration": 1509,
    "start_time": "2025-07-02T16:21:39.312Z"
   },
   {
    "duration": 946,
    "start_time": "2025-07-02T16:21:40.823Z"
   },
   {
    "duration": 3,
    "start_time": "2025-07-02T16:21:42.013Z"
   },
   {
    "duration": 83,
    "start_time": "2025-07-02T16:21:42.634Z"
   },
   {
    "duration": 207,
    "start_time": "2025-07-02T16:21:44.922Z"
   },
   {
    "duration": 4,
    "start_time": "2025-07-02T16:21:45.328Z"
   },
   {
    "duration": 205,
    "start_time": "2025-07-02T16:21:46.006Z"
   },
   {
    "duration": 3,
    "start_time": "2025-07-02T16:21:47.777Z"
   },
   {
    "duration": 278,
    "start_time": "2025-07-02T16:21:48.203Z"
   },
   {
    "duration": 1081094,
    "start_time": "2025-07-02T16:21:49.152Z"
   },
   {
    "duration": 8,
    "start_time": "2025-07-02T16:39:50.247Z"
   },
   {
    "duration": 358,
    "start_time": "2025-07-02T16:39:50.262Z"
   },
   {
    "duration": 59,
    "start_time": "2025-07-02T16:39:50.621Z"
   },
   {
    "duration": 4,
    "start_time": "2025-07-02T16:39:50.683Z"
   },
   {
    "duration": 52,
    "start_time": "2025-07-02T16:39:50.688Z"
   },
   {
    "duration": 186,
    "start_time": "2025-07-02T16:45:12.652Z"
   },
   {
    "duration": 12,
    "start_time": "2025-07-02T16:45:34.028Z"
   },
   {
    "duration": 17,
    "start_time": "2025-07-02T16:47:02.013Z"
   },
   {
    "duration": 45,
    "start_time": "2025-07-02T16:47:53.795Z"
   },
   {
    "duration": 708,
    "start_time": "2025-07-02T16:52:25.683Z"
   },
   {
    "duration": 751,
    "start_time": "2025-07-02T16:52:57.385Z"
   },
   {
    "duration": 21,
    "start_time": "2025-07-02T16:53:07.569Z"
   },
   {
    "duration": 36,
    "start_time": "2025-07-02T16:53:14.327Z"
   },
   {
    "duration": 15,
    "start_time": "2025-07-02T16:53:37.430Z"
   },
   {
    "duration": 17,
    "start_time": "2025-07-02T16:57:27.774Z"
   },
   {
    "duration": 37,
    "start_time": "2025-07-02T16:57:38.625Z"
   },
   {
    "duration": 4,
    "start_time": "2025-07-02T16:58:20.893Z"
   },
   {
    "duration": 42,
    "start_time": "2025-07-02T16:58:23.730Z"
   },
   {
    "duration": 36,
    "start_time": "2025-07-02T16:58:28.924Z"
   },
   {
    "duration": 42,
    "start_time": "2025-07-02T16:58:40.576Z"
   },
   {
    "duration": 817,
    "start_time": "2025-07-02T17:00:23.808Z"
   },
   {
    "duration": 767,
    "start_time": "2025-07-02T17:01:25.687Z"
   },
   {
    "duration": 6838,
    "start_time": "2025-07-02T17:04:27.535Z"
   },
   {
    "duration": 683,
    "start_time": "2025-07-02T17:04:47.034Z"
   },
   {
    "duration": 729,
    "start_time": "2025-07-02T17:09:17.506Z"
   },
   {
    "duration": 667,
    "start_time": "2025-07-02T17:09:43.212Z"
   },
   {
    "duration": 37,
    "start_time": "2025-07-02T17:11:33.211Z"
   },
   {
    "duration": 16,
    "start_time": "2025-07-02T17:17:33.299Z"
   },
   {
    "duration": 39,
    "start_time": "2025-07-02T17:21:21.205Z"
   },
   {
    "duration": 734,
    "start_time": "2025-07-02T17:21:32.801Z"
   },
   {
    "duration": 728353,
    "start_time": "2025-07-02T17:21:58.049Z"
   },
   {
    "duration": 3,
    "start_time": "2025-07-02T17:34:06.404Z"
   },
   {
    "duration": 39,
    "start_time": "2025-07-02T17:34:37.814Z"
   },
   {
    "duration": 30,
    "start_time": "2025-07-02T17:37:19.593Z"
   },
   {
    "duration": 103,
    "start_time": "2025-07-02T17:40:36.487Z"
   },
   {
    "duration": 40,
    "start_time": "2025-07-02T17:40:44.102Z"
   },
   {
    "duration": 39,
    "start_time": "2025-07-02T17:40:49.340Z"
   },
   {
    "duration": 1735,
    "start_time": "2025-07-02T17:41:01.897Z"
   },
   {
    "duration": 609889,
    "start_time": "2025-07-02T17:41:49.276Z"
   },
   {
    "duration": 114930,
    "start_time": "2025-07-02T17:51:59.167Z"
   },
   {
    "duration": 721004,
    "start_time": "2025-07-02T18:07:53.751Z"
   },
   {
    "duration": 191480,
    "start_time": "2025-07-02T18:19:54.757Z"
   },
   {
    "duration": 19,
    "start_time": "2025-07-02T18:51:30.610Z"
   },
   {
    "duration": 1881,
    "start_time": "2025-07-02T18:52:35.823Z"
   },
   {
    "duration": 16,
    "start_time": "2025-07-02T18:54:07.981Z"
   },
   {
    "duration": 1876,
    "start_time": "2025-07-02T18:54:43.628Z"
   },
   {
    "duration": 20,
    "start_time": "2025-07-02T18:55:33.219Z"
   },
   {
    "duration": 23,
    "start_time": "2025-07-02T18:55:37.475Z"
   },
   {
    "duration": 21,
    "start_time": "2025-07-02T18:55:40.393Z"
   },
   {
    "duration": 23,
    "start_time": "2025-07-02T18:55:52.595Z"
   },
   {
    "duration": 18,
    "start_time": "2025-07-02T18:58:16.020Z"
   },
   {
    "duration": 21,
    "start_time": "2025-07-02T18:58:40.151Z"
   },
   {
    "duration": 1833,
    "start_time": "2025-07-02T18:58:52.216Z"
   },
   {
    "duration": 159970,
    "start_time": "2025-07-02T19:00:17.584Z"
   },
   {
    "duration": 1571,
    "start_time": "2025-07-02T19:16:55.276Z"
   },
   {
    "duration": 962,
    "start_time": "2025-07-02T19:16:56.849Z"
   },
   {
    "duration": 5,
    "start_time": "2025-07-02T19:16:57.812Z"
   },
   {
    "duration": 108,
    "start_time": "2025-07-02T19:16:57.818Z"
   },
   {
    "duration": 250,
    "start_time": "2025-07-02T19:16:57.929Z"
   },
   {
    "duration": 5,
    "start_time": "2025-07-02T19:16:58.181Z"
   },
   {
    "duration": 239,
    "start_time": "2025-07-02T19:16:58.187Z"
   },
   {
    "duration": 2,
    "start_time": "2025-07-02T19:16:58.428Z"
   },
   {
    "duration": 226,
    "start_time": "2025-07-02T19:16:58.432Z"
   },
   {
    "duration": 1059344,
    "start_time": "2025-07-02T19:16:58.660Z"
   },
   {
    "duration": 7,
    "start_time": "2025-07-02T19:34:38.006Z"
   },
   {
    "duration": 398,
    "start_time": "2025-07-02T19:34:38.015Z"
   },
   {
    "duration": 62,
    "start_time": "2025-07-02T19:34:38.414Z"
   },
   {
    "duration": 48,
    "start_time": "2025-07-02T19:34:38.478Z"
   },
   {
    "duration": 620730,
    "start_time": "2025-07-02T19:34:38.527Z"
   },
   {
    "duration": 142736,
    "start_time": "2025-07-02T19:44:59.262Z"
   },
   {
    "duration": 1600,
    "start_time": "2025-07-02T19:47:22.000Z"
   },
   {
    "duration": 18,
    "start_time": "2025-07-02T19:47:23.602Z"
   }
  ],
  "kernelspec": {
   "display_name": "Python 3 (ipykernel)",
   "language": "python",
   "name": "python3"
  },
  "language_info": {
   "codemirror_mode": {
    "name": "ipython",
    "version": 3
   },
   "file_extension": ".py",
   "mimetype": "text/x-python",
   "name": "python",
   "nbconvert_exporter": "python",
   "pygments_lexer": "ipython3",
   "version": "3.9.22"
  },
  "toc": {
   "base_numbering": 1,
   "nav_menu": {},
   "number_sections": false,
   "sideBar": true,
   "skip_h1_title": true,
   "title_cell": "Содержание",
   "title_sidebar": "Contents",
   "toc_cell": true,
   "toc_position": {
    "height": "calc(100% - 180px)",
    "left": "10px",
    "top": "150px",
    "width": "165px"
   },
   "toc_section_display": true,
   "toc_window_display": true
  }
 },
 "nbformat": 4,
 "nbformat_minor": 4
}
