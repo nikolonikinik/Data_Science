{
 "cells": [
  {
   "cell_type": "markdown",
   "metadata": {},
   "source": [
    "# Выбор локации для скважины"
   ]
  },
  {
   "cell_type": "markdown",
   "metadata": {},
   "source": [
    "**Описание проекта:**\n",
    "\n",
    "Добывающая компания «ГлавРосГосНефть» хочет решить, где бурить новую скважину.\n",
    "\n",
    "Для этого она предоставляет пробы нефти в трёх регионах: в каждом 100 000 месторождений, где измерили качество нефти и объём её запасов. Необходимо построить модель машинного обучения, которая поможет определить регион, где добыча принесёт наибольшую прибыль. Возможную прибыль и риски необходимо проанализировать техникой *Bootstrap.*\n",
    "\n",
    "Шаги для выбора локации:\n",
    "\n",
    "- В избранном регионе ищут месторождения, для каждого определяют значения признаков;\n",
    "- Строят модель и оценивают объём запасов;\n",
    "- Выбирают месторождения с самым высокими оценками значений. Количество месторождений зависит от бюджета компании и стоимости разработки одной скважины;\n",
    "- Прибыль равна суммарной прибыли отобранных месторождений.\n",
    "\n",
    "**Условия задачи:** \n",
    "\n",
    "- Для обучения модели подходит только линейная регрессия (остальные — недостаточно предсказуемые).\n",
    "- При разведке региона исследуют 500 точек, из которых с помощью машинного обучения выбирают 200 лучших для разработки.\n",
    "- Бюджет на разработку скважин в регионе — 10 млрд рублей.\n",
    "- При нынешних ценах один баррель сырья приносит 450 рублей дохода. Доход с каждой единицы продукта составляет 450 тыс. рублей, поскольку объём указан в тысячах баррелей.\n",
    "- После оценки рисков нужно оставить лишь те регионы, в которых вероятность убытков меньше 2.5%. Среди них выбирают регион с наибольшей средней прибылью.\n",
    "\n",
    "**Описание данных:**\n",
    "- Данные геологоразведки трёх регионов находятся в файлах: \n",
    "    - /datasets/geo_data_0.csv\n",
    "    - /datasets/geo_data_1.csv\n",
    "    - /datasets/geo_data_2.csv\n",
    "- *id* — уникальный идентификатор скважины;\n",
    "- *f0*, *f1*, *f2* — три признака точек (неважно, что они означают, но сами признаки значимы);\n",
    "- *product* — объём запасов в скважине (тыс. баррелей).\n",
    "\n",
    "**План работы над задачей:**\n",
    "\n",
    "1) **Загрузка и подготовка данных** — изучим данные на предмет возникновения в них дубликатов, пропусков и ошибок в типах данных.\n",
    "\n",
    "2) **Обучение моделей** — обучим как модель линейной регрессии, после чего предскажем средние запасы сырья и показатель метрики RMSE для каждого из трёх регионов.\n",
    "\n",
    "3) **Подготовимся к расчёту прибыли** — рассчитаем достаточный объём сырья для безубыточной разработки новой скважины.\n",
    "\n",
    "4) **Найдём среднюю прибыль, 95%-ый доверительный интервал и риск убытков** для каждого региона при помощи техники *Bootstrap*.\n",
    "\n",
    "5) Сделаем **итоговый вывод** о том, какой регион выбрать для разработки скважин. "
   ]
  },
  {
   "cell_type": "markdown",
   "metadata": {},
   "source": [
    "## Импорт и настройка библиотек"
   ]
  },
  {
   "cell_type": "code",
   "execution_count": 1,
   "metadata": {},
   "outputs": [],
   "source": [
    "!pip install scikit-learn==1.1.3 -q"
   ]
  },
  {
   "cell_type": "code",
   "execution_count": 2,
   "metadata": {},
   "outputs": [],
   "source": [
    "import pandas as pd\n",
    "import numpy as np\n",
    "import seaborn as sb\n",
    "import os\n",
    "\n",
    "from scipy import stats as st\n",
    "from sklearn.model_selection import train_test_split \n",
    "from sklearn.linear_model import LinearRegression\n",
    "from sklearn.metrics import mean_squared_error\n",
    "\n",
    "from sklearn.preprocessing import StandardScaler"
   ]
  },
  {
   "cell_type": "markdown",
   "metadata": {},
   "source": [
    "## Загрузка и подготовка данных"
   ]
  },
  {
   "cell_type": "markdown",
   "metadata": {},
   "source": [
    "Считаем csv-файлы:"
   ]
  },
  {
   "cell_type": "code",
   "execution_count": 3,
   "metadata": {},
   "outputs": [],
   "source": [
    "pth1 = 'C:/pr/sat/geo_data_0.csv'\n",
    "pth2 = 'C:/pr/sat/geo_data_1.csv'\n",
    "pth3 = 'C:/pr/sat/geo_data_2.csv'\n",
    "pth4 = '/datasets/geo_data_0.csv'\n",
    "pth5 = '/datasets/geo_data_1.csv'\n",
    "pth6 = '/datasets/geo_data_2.csv'\n",
    "\n",
    "if os.path.exists(pth1):\n",
    "    df_1 = pd.read_csv(pth1)\n",
    "elif os.path.exists(pth4):\n",
    "    df_1 = pd.read_csv(pth4)\n",
    "else:\n",
    "    print('Something is wrong')\n",
    "\n",
    "if os.path.exists(pth2):\n",
    "    df_2 = pd.read_csv(pth2)\n",
    "elif os.path.exists(pth5):\n",
    "    df_2 = pd.read_csv(pth5)\n",
    "else:\n",
    "    print('Something is wrong')\n",
    "\n",
    "if os.path.exists(pth3):\n",
    "    df_3 = pd.read_csv(pth3)\n",
    "elif os.path.exists(pth6):\n",
    "    df_3 = pd.read_csv(pth6)\n",
    "else:\n",
    "    print('Something is wrong')\n",
    "    \n",
    "df_1 = df_1.set_index('id')\n",
    "df_2 = df_2.set_index('id')\n",
    "df_3 = df_3.set_index('id')"
   ]
  },
  {
   "cell_type": "markdown",
   "metadata": {},
   "source": [
    "Изучим общую информацию о датасетах. Однако, прежде чем мы приступим к их разбору, напишем **вспомогательную функцию**. Так проводить анализ будет быстрее и удобнее:"
   ]
  },
  {
   "cell_type": "code",
   "execution_count": 4,
   "metadata": {},
   "outputs": [],
   "source": [
    "def describe_data (data):\n",
    "    print('Первые пять строк таблицы:')\n",
    "    display(data.head())\n",
    "    print('\\n', 'Последние пять строк таблицы:')\n",
    "    display(data.tail())\n",
    "    print('\\n', 'Общая информация о датасете:', '\\n')\n",
    "    display(data.info())\n",
    "    print('\\n', 'Описательные статистики датасета:')\n",
    "    display(data.describe().round(2))\n",
    "    print('\\n', 'Количество дубликатов в данных:')\n",
    "    display(data.duplicated().sum())"
   ]
  },
  {
   "cell_type": "code",
   "execution_count": 5,
   "metadata": {},
   "outputs": [
    {
     "name": "stdout",
     "output_type": "stream",
     "text": [
      "Первые пять строк таблицы:\n"
     ]
    },
    {
     "data": {
      "text/html": [
       "<div>\n",
       "<style scoped>\n",
       "    .dataframe tbody tr th:only-of-type {\n",
       "        vertical-align: middle;\n",
       "    }\n",
       "\n",
       "    .dataframe tbody tr th {\n",
       "        vertical-align: top;\n",
       "    }\n",
       "\n",
       "    .dataframe thead th {\n",
       "        text-align: right;\n",
       "    }\n",
       "</style>\n",
       "<table border=\"1\" class=\"dataframe\">\n",
       "  <thead>\n",
       "    <tr style=\"text-align: right;\">\n",
       "      <th></th>\n",
       "      <th>f0</th>\n",
       "      <th>f1</th>\n",
       "      <th>f2</th>\n",
       "      <th>product</th>\n",
       "    </tr>\n",
       "    <tr>\n",
       "      <th>id</th>\n",
       "      <th></th>\n",
       "      <th></th>\n",
       "      <th></th>\n",
       "      <th></th>\n",
       "    </tr>\n",
       "  </thead>\n",
       "  <tbody>\n",
       "    <tr>\n",
       "      <th>txEyH</th>\n",
       "      <td>0.705745</td>\n",
       "      <td>-0.497823</td>\n",
       "      <td>1.221170</td>\n",
       "      <td>105.280062</td>\n",
       "    </tr>\n",
       "    <tr>\n",
       "      <th>2acmU</th>\n",
       "      <td>1.334711</td>\n",
       "      <td>-0.340164</td>\n",
       "      <td>4.365080</td>\n",
       "      <td>73.037750</td>\n",
       "    </tr>\n",
       "    <tr>\n",
       "      <th>409Wp</th>\n",
       "      <td>1.022732</td>\n",
       "      <td>0.151990</td>\n",
       "      <td>1.419926</td>\n",
       "      <td>85.265647</td>\n",
       "    </tr>\n",
       "    <tr>\n",
       "      <th>iJLyR</th>\n",
       "      <td>-0.032172</td>\n",
       "      <td>0.139033</td>\n",
       "      <td>2.978566</td>\n",
       "      <td>168.620776</td>\n",
       "    </tr>\n",
       "    <tr>\n",
       "      <th>Xdl7t</th>\n",
       "      <td>1.988431</td>\n",
       "      <td>0.155413</td>\n",
       "      <td>4.751769</td>\n",
       "      <td>154.036647</td>\n",
       "    </tr>\n",
       "  </tbody>\n",
       "</table>\n",
       "</div>"
      ],
      "text/plain": [
       "             f0        f1        f2     product\n",
       "id                                             \n",
       "txEyH  0.705745 -0.497823  1.221170  105.280062\n",
       "2acmU  1.334711 -0.340164  4.365080   73.037750\n",
       "409Wp  1.022732  0.151990  1.419926   85.265647\n",
       "iJLyR -0.032172  0.139033  2.978566  168.620776\n",
       "Xdl7t  1.988431  0.155413  4.751769  154.036647"
      ]
     },
     "metadata": {},
     "output_type": "display_data"
    },
    {
     "name": "stdout",
     "output_type": "stream",
     "text": [
      "\n",
      " Последние пять строк таблицы:\n"
     ]
    },
    {
     "data": {
      "text/html": [
       "<div>\n",
       "<style scoped>\n",
       "    .dataframe tbody tr th:only-of-type {\n",
       "        vertical-align: middle;\n",
       "    }\n",
       "\n",
       "    .dataframe tbody tr th {\n",
       "        vertical-align: top;\n",
       "    }\n",
       "\n",
       "    .dataframe thead th {\n",
       "        text-align: right;\n",
       "    }\n",
       "</style>\n",
       "<table border=\"1\" class=\"dataframe\">\n",
       "  <thead>\n",
       "    <tr style=\"text-align: right;\">\n",
       "      <th></th>\n",
       "      <th>f0</th>\n",
       "      <th>f1</th>\n",
       "      <th>f2</th>\n",
       "      <th>product</th>\n",
       "    </tr>\n",
       "    <tr>\n",
       "      <th>id</th>\n",
       "      <th></th>\n",
       "      <th></th>\n",
       "      <th></th>\n",
       "      <th></th>\n",
       "    </tr>\n",
       "  </thead>\n",
       "  <tbody>\n",
       "    <tr>\n",
       "      <th>DLsed</th>\n",
       "      <td>0.971957</td>\n",
       "      <td>0.370953</td>\n",
       "      <td>6.075346</td>\n",
       "      <td>110.744026</td>\n",
       "    </tr>\n",
       "    <tr>\n",
       "      <th>QKivN</th>\n",
       "      <td>1.392429</td>\n",
       "      <td>-0.382606</td>\n",
       "      <td>1.273912</td>\n",
       "      <td>122.346843</td>\n",
       "    </tr>\n",
       "    <tr>\n",
       "      <th>3rnvd</th>\n",
       "      <td>1.029585</td>\n",
       "      <td>0.018787</td>\n",
       "      <td>-1.348308</td>\n",
       "      <td>64.375443</td>\n",
       "    </tr>\n",
       "    <tr>\n",
       "      <th>7kl59</th>\n",
       "      <td>0.998163</td>\n",
       "      <td>-0.528582</td>\n",
       "      <td>1.583869</td>\n",
       "      <td>74.040764</td>\n",
       "    </tr>\n",
       "    <tr>\n",
       "      <th>1CWhH</th>\n",
       "      <td>1.764754</td>\n",
       "      <td>-0.266417</td>\n",
       "      <td>5.722849</td>\n",
       "      <td>149.633246</td>\n",
       "    </tr>\n",
       "  </tbody>\n",
       "</table>\n",
       "</div>"
      ],
      "text/plain": [
       "             f0        f1        f2     product\n",
       "id                                             \n",
       "DLsed  0.971957  0.370953  6.075346  110.744026\n",
       "QKivN  1.392429 -0.382606  1.273912  122.346843\n",
       "3rnvd  1.029585  0.018787 -1.348308   64.375443\n",
       "7kl59  0.998163 -0.528582  1.583869   74.040764\n",
       "1CWhH  1.764754 -0.266417  5.722849  149.633246"
      ]
     },
     "metadata": {},
     "output_type": "display_data"
    },
    {
     "name": "stdout",
     "output_type": "stream",
     "text": [
      "\n",
      " Общая информация о датасете: \n",
      "\n",
      "<class 'pandas.core.frame.DataFrame'>\n",
      "Index: 100000 entries, txEyH to 1CWhH\n",
      "Data columns (total 4 columns):\n",
      " #   Column   Non-Null Count   Dtype  \n",
      "---  ------   --------------   -----  \n",
      " 0   f0       100000 non-null  float64\n",
      " 1   f1       100000 non-null  float64\n",
      " 2   f2       100000 non-null  float64\n",
      " 3   product  100000 non-null  float64\n",
      "dtypes: float64(4)\n",
      "memory usage: 3.8+ MB\n"
     ]
    },
    {
     "data": {
      "text/plain": [
       "None"
      ]
     },
     "metadata": {},
     "output_type": "display_data"
    },
    {
     "name": "stdout",
     "output_type": "stream",
     "text": [
      "\n",
      " Описательные статистики датасета:\n"
     ]
    },
    {
     "data": {
      "text/html": [
       "<div>\n",
       "<style scoped>\n",
       "    .dataframe tbody tr th:only-of-type {\n",
       "        vertical-align: middle;\n",
       "    }\n",
       "\n",
       "    .dataframe tbody tr th {\n",
       "        vertical-align: top;\n",
       "    }\n",
       "\n",
       "    .dataframe thead th {\n",
       "        text-align: right;\n",
       "    }\n",
       "</style>\n",
       "<table border=\"1\" class=\"dataframe\">\n",
       "  <thead>\n",
       "    <tr style=\"text-align: right;\">\n",
       "      <th></th>\n",
       "      <th>f0</th>\n",
       "      <th>f1</th>\n",
       "      <th>f2</th>\n",
       "      <th>product</th>\n",
       "    </tr>\n",
       "  </thead>\n",
       "  <tbody>\n",
       "    <tr>\n",
       "      <th>count</th>\n",
       "      <td>100000.00</td>\n",
       "      <td>100000.00</td>\n",
       "      <td>100000.00</td>\n",
       "      <td>100000.00</td>\n",
       "    </tr>\n",
       "    <tr>\n",
       "      <th>mean</th>\n",
       "      <td>0.50</td>\n",
       "      <td>0.25</td>\n",
       "      <td>2.50</td>\n",
       "      <td>92.50</td>\n",
       "    </tr>\n",
       "    <tr>\n",
       "      <th>std</th>\n",
       "      <td>0.87</td>\n",
       "      <td>0.50</td>\n",
       "      <td>3.25</td>\n",
       "      <td>44.29</td>\n",
       "    </tr>\n",
       "    <tr>\n",
       "      <th>min</th>\n",
       "      <td>-1.41</td>\n",
       "      <td>-0.85</td>\n",
       "      <td>-12.09</td>\n",
       "      <td>0.00</td>\n",
       "    </tr>\n",
       "    <tr>\n",
       "      <th>25%</th>\n",
       "      <td>-0.07</td>\n",
       "      <td>-0.20</td>\n",
       "      <td>0.29</td>\n",
       "      <td>56.50</td>\n",
       "    </tr>\n",
       "    <tr>\n",
       "      <th>50%</th>\n",
       "      <td>0.50</td>\n",
       "      <td>0.25</td>\n",
       "      <td>2.52</td>\n",
       "      <td>91.85</td>\n",
       "    </tr>\n",
       "    <tr>\n",
       "      <th>75%</th>\n",
       "      <td>1.07</td>\n",
       "      <td>0.70</td>\n",
       "      <td>4.72</td>\n",
       "      <td>128.56</td>\n",
       "    </tr>\n",
       "    <tr>\n",
       "      <th>max</th>\n",
       "      <td>2.36</td>\n",
       "      <td>1.34</td>\n",
       "      <td>16.00</td>\n",
       "      <td>185.36</td>\n",
       "    </tr>\n",
       "  </tbody>\n",
       "</table>\n",
       "</div>"
      ],
      "text/plain": [
       "              f0         f1         f2    product\n",
       "count  100000.00  100000.00  100000.00  100000.00\n",
       "mean        0.50       0.25       2.50      92.50\n",
       "std         0.87       0.50       3.25      44.29\n",
       "min        -1.41      -0.85     -12.09       0.00\n",
       "25%        -0.07      -0.20       0.29      56.50\n",
       "50%         0.50       0.25       2.52      91.85\n",
       "75%         1.07       0.70       4.72     128.56\n",
       "max         2.36       1.34      16.00     185.36"
      ]
     },
     "metadata": {},
     "output_type": "display_data"
    },
    {
     "name": "stdout",
     "output_type": "stream",
     "text": [
      "\n",
      " Количество дубликатов в данных:\n"
     ]
    },
    {
     "data": {
      "text/plain": [
       "0"
      ]
     },
     "metadata": {},
     "output_type": "display_data"
    }
   ],
   "source": [
    "describe_data(df_1) # Изучаем данные о первом регионе"
   ]
  },
  {
   "cell_type": "code",
   "execution_count": 6,
   "metadata": {},
   "outputs": [
    {
     "name": "stdout",
     "output_type": "stream",
     "text": [
      "Первые пять строк таблицы:\n"
     ]
    },
    {
     "data": {
      "text/html": [
       "<div>\n",
       "<style scoped>\n",
       "    .dataframe tbody tr th:only-of-type {\n",
       "        vertical-align: middle;\n",
       "    }\n",
       "\n",
       "    .dataframe tbody tr th {\n",
       "        vertical-align: top;\n",
       "    }\n",
       "\n",
       "    .dataframe thead th {\n",
       "        text-align: right;\n",
       "    }\n",
       "</style>\n",
       "<table border=\"1\" class=\"dataframe\">\n",
       "  <thead>\n",
       "    <tr style=\"text-align: right;\">\n",
       "      <th></th>\n",
       "      <th>f0</th>\n",
       "      <th>f1</th>\n",
       "      <th>f2</th>\n",
       "      <th>product</th>\n",
       "    </tr>\n",
       "    <tr>\n",
       "      <th>id</th>\n",
       "      <th></th>\n",
       "      <th></th>\n",
       "      <th></th>\n",
       "      <th></th>\n",
       "    </tr>\n",
       "  </thead>\n",
       "  <tbody>\n",
       "    <tr>\n",
       "      <th>kBEdx</th>\n",
       "      <td>-15.001348</td>\n",
       "      <td>-8.276000</td>\n",
       "      <td>-0.005876</td>\n",
       "      <td>3.179103</td>\n",
       "    </tr>\n",
       "    <tr>\n",
       "      <th>62mP7</th>\n",
       "      <td>14.272088</td>\n",
       "      <td>-3.475083</td>\n",
       "      <td>0.999183</td>\n",
       "      <td>26.953261</td>\n",
       "    </tr>\n",
       "    <tr>\n",
       "      <th>vyE1P</th>\n",
       "      <td>6.263187</td>\n",
       "      <td>-5.948386</td>\n",
       "      <td>5.001160</td>\n",
       "      <td>134.766305</td>\n",
       "    </tr>\n",
       "    <tr>\n",
       "      <th>KcrkZ</th>\n",
       "      <td>-13.081196</td>\n",
       "      <td>-11.506057</td>\n",
       "      <td>4.999415</td>\n",
       "      <td>137.945408</td>\n",
       "    </tr>\n",
       "    <tr>\n",
       "      <th>AHL4O</th>\n",
       "      <td>12.702195</td>\n",
       "      <td>-8.147433</td>\n",
       "      <td>5.004363</td>\n",
       "      <td>134.766305</td>\n",
       "    </tr>\n",
       "  </tbody>\n",
       "</table>\n",
       "</div>"
      ],
      "text/plain": [
       "              f0         f1        f2     product\n",
       "id                                               \n",
       "kBEdx -15.001348  -8.276000 -0.005876    3.179103\n",
       "62mP7  14.272088  -3.475083  0.999183   26.953261\n",
       "vyE1P   6.263187  -5.948386  5.001160  134.766305\n",
       "KcrkZ -13.081196 -11.506057  4.999415  137.945408\n",
       "AHL4O  12.702195  -8.147433  5.004363  134.766305"
      ]
     },
     "metadata": {},
     "output_type": "display_data"
    },
    {
     "name": "stdout",
     "output_type": "stream",
     "text": [
      "\n",
      " Последние пять строк таблицы:\n"
     ]
    },
    {
     "data": {
      "text/html": [
       "<div>\n",
       "<style scoped>\n",
       "    .dataframe tbody tr th:only-of-type {\n",
       "        vertical-align: middle;\n",
       "    }\n",
       "\n",
       "    .dataframe tbody tr th {\n",
       "        vertical-align: top;\n",
       "    }\n",
       "\n",
       "    .dataframe thead th {\n",
       "        text-align: right;\n",
       "    }\n",
       "</style>\n",
       "<table border=\"1\" class=\"dataframe\">\n",
       "  <thead>\n",
       "    <tr style=\"text-align: right;\">\n",
       "      <th></th>\n",
       "      <th>f0</th>\n",
       "      <th>f1</th>\n",
       "      <th>f2</th>\n",
       "      <th>product</th>\n",
       "    </tr>\n",
       "    <tr>\n",
       "      <th>id</th>\n",
       "      <th></th>\n",
       "      <th></th>\n",
       "      <th></th>\n",
       "      <th></th>\n",
       "    </tr>\n",
       "  </thead>\n",
       "  <tbody>\n",
       "    <tr>\n",
       "      <th>QywKC</th>\n",
       "      <td>9.535637</td>\n",
       "      <td>-6.878139</td>\n",
       "      <td>1.998296</td>\n",
       "      <td>53.906522</td>\n",
       "    </tr>\n",
       "    <tr>\n",
       "      <th>ptvty</th>\n",
       "      <td>-10.160631</td>\n",
       "      <td>-12.558096</td>\n",
       "      <td>5.005581</td>\n",
       "      <td>137.945408</td>\n",
       "    </tr>\n",
       "    <tr>\n",
       "      <th>09gWa</th>\n",
       "      <td>-7.378891</td>\n",
       "      <td>-3.084104</td>\n",
       "      <td>4.998651</td>\n",
       "      <td>137.945408</td>\n",
       "    </tr>\n",
       "    <tr>\n",
       "      <th>rqwUm</th>\n",
       "      <td>0.665714</td>\n",
       "      <td>-6.152593</td>\n",
       "      <td>1.000146</td>\n",
       "      <td>30.132364</td>\n",
       "    </tr>\n",
       "    <tr>\n",
       "      <th>relB0</th>\n",
       "      <td>-3.426139</td>\n",
       "      <td>-7.794274</td>\n",
       "      <td>-0.003299</td>\n",
       "      <td>3.179103</td>\n",
       "    </tr>\n",
       "  </tbody>\n",
       "</table>\n",
       "</div>"
      ],
      "text/plain": [
       "              f0         f1        f2     product\n",
       "id                                               \n",
       "QywKC   9.535637  -6.878139  1.998296   53.906522\n",
       "ptvty -10.160631 -12.558096  5.005581  137.945408\n",
       "09gWa  -7.378891  -3.084104  4.998651  137.945408\n",
       "rqwUm   0.665714  -6.152593  1.000146   30.132364\n",
       "relB0  -3.426139  -7.794274 -0.003299    3.179103"
      ]
     },
     "metadata": {},
     "output_type": "display_data"
    },
    {
     "name": "stdout",
     "output_type": "stream",
     "text": [
      "\n",
      " Общая информация о датасете: \n",
      "\n",
      "<class 'pandas.core.frame.DataFrame'>\n",
      "Index: 100000 entries, kBEdx to relB0\n",
      "Data columns (total 4 columns):\n",
      " #   Column   Non-Null Count   Dtype  \n",
      "---  ------   --------------   -----  \n",
      " 0   f0       100000 non-null  float64\n",
      " 1   f1       100000 non-null  float64\n",
      " 2   f2       100000 non-null  float64\n",
      " 3   product  100000 non-null  float64\n",
      "dtypes: float64(4)\n",
      "memory usage: 3.8+ MB\n"
     ]
    },
    {
     "data": {
      "text/plain": [
       "None"
      ]
     },
     "metadata": {},
     "output_type": "display_data"
    },
    {
     "name": "stdout",
     "output_type": "stream",
     "text": [
      "\n",
      " Описательные статистики датасета:\n"
     ]
    },
    {
     "data": {
      "text/html": [
       "<div>\n",
       "<style scoped>\n",
       "    .dataframe tbody tr th:only-of-type {\n",
       "        vertical-align: middle;\n",
       "    }\n",
       "\n",
       "    .dataframe tbody tr th {\n",
       "        vertical-align: top;\n",
       "    }\n",
       "\n",
       "    .dataframe thead th {\n",
       "        text-align: right;\n",
       "    }\n",
       "</style>\n",
       "<table border=\"1\" class=\"dataframe\">\n",
       "  <thead>\n",
       "    <tr style=\"text-align: right;\">\n",
       "      <th></th>\n",
       "      <th>f0</th>\n",
       "      <th>f1</th>\n",
       "      <th>f2</th>\n",
       "      <th>product</th>\n",
       "    </tr>\n",
       "  </thead>\n",
       "  <tbody>\n",
       "    <tr>\n",
       "      <th>count</th>\n",
       "      <td>100000.00</td>\n",
       "      <td>100000.00</td>\n",
       "      <td>100000.00</td>\n",
       "      <td>100000.00</td>\n",
       "    </tr>\n",
       "    <tr>\n",
       "      <th>mean</th>\n",
       "      <td>1.14</td>\n",
       "      <td>-4.80</td>\n",
       "      <td>2.49</td>\n",
       "      <td>68.83</td>\n",
       "    </tr>\n",
       "    <tr>\n",
       "      <th>std</th>\n",
       "      <td>8.97</td>\n",
       "      <td>5.12</td>\n",
       "      <td>1.70</td>\n",
       "      <td>45.94</td>\n",
       "    </tr>\n",
       "    <tr>\n",
       "      <th>min</th>\n",
       "      <td>-31.61</td>\n",
       "      <td>-26.36</td>\n",
       "      <td>-0.02</td>\n",
       "      <td>0.00</td>\n",
       "    </tr>\n",
       "    <tr>\n",
       "      <th>25%</th>\n",
       "      <td>-6.30</td>\n",
       "      <td>-8.27</td>\n",
       "      <td>1.00</td>\n",
       "      <td>26.95</td>\n",
       "    </tr>\n",
       "    <tr>\n",
       "      <th>50%</th>\n",
       "      <td>1.15</td>\n",
       "      <td>-4.81</td>\n",
       "      <td>2.01</td>\n",
       "      <td>57.09</td>\n",
       "    </tr>\n",
       "    <tr>\n",
       "      <th>75%</th>\n",
       "      <td>8.62</td>\n",
       "      <td>-1.33</td>\n",
       "      <td>4.00</td>\n",
       "      <td>107.81</td>\n",
       "    </tr>\n",
       "    <tr>\n",
       "      <th>max</th>\n",
       "      <td>29.42</td>\n",
       "      <td>18.73</td>\n",
       "      <td>5.02</td>\n",
       "      <td>137.95</td>\n",
       "    </tr>\n",
       "  </tbody>\n",
       "</table>\n",
       "</div>"
      ],
      "text/plain": [
       "              f0         f1         f2    product\n",
       "count  100000.00  100000.00  100000.00  100000.00\n",
       "mean        1.14      -4.80       2.49      68.83\n",
       "std         8.97       5.12       1.70      45.94\n",
       "min       -31.61     -26.36      -0.02       0.00\n",
       "25%        -6.30      -8.27       1.00      26.95\n",
       "50%         1.15      -4.81       2.01      57.09\n",
       "75%         8.62      -1.33       4.00     107.81\n",
       "max        29.42      18.73       5.02     137.95"
      ]
     },
     "metadata": {},
     "output_type": "display_data"
    },
    {
     "name": "stdout",
     "output_type": "stream",
     "text": [
      "\n",
      " Количество дубликатов в данных:\n"
     ]
    },
    {
     "data": {
      "text/plain": [
       "0"
      ]
     },
     "metadata": {},
     "output_type": "display_data"
    }
   ],
   "source": [
    "describe_data(df_2) # Изучаем данные о втором регионе"
   ]
  },
  {
   "cell_type": "code",
   "execution_count": 7,
   "metadata": {},
   "outputs": [
    {
     "name": "stdout",
     "output_type": "stream",
     "text": [
      "Первые пять строк таблицы:\n"
     ]
    },
    {
     "data": {
      "text/html": [
       "<div>\n",
       "<style scoped>\n",
       "    .dataframe tbody tr th:only-of-type {\n",
       "        vertical-align: middle;\n",
       "    }\n",
       "\n",
       "    .dataframe tbody tr th {\n",
       "        vertical-align: top;\n",
       "    }\n",
       "\n",
       "    .dataframe thead th {\n",
       "        text-align: right;\n",
       "    }\n",
       "</style>\n",
       "<table border=\"1\" class=\"dataframe\">\n",
       "  <thead>\n",
       "    <tr style=\"text-align: right;\">\n",
       "      <th></th>\n",
       "      <th>f0</th>\n",
       "      <th>f1</th>\n",
       "      <th>f2</th>\n",
       "      <th>product</th>\n",
       "    </tr>\n",
       "    <tr>\n",
       "      <th>id</th>\n",
       "      <th></th>\n",
       "      <th></th>\n",
       "      <th></th>\n",
       "      <th></th>\n",
       "    </tr>\n",
       "  </thead>\n",
       "  <tbody>\n",
       "    <tr>\n",
       "      <th>fwXo0</th>\n",
       "      <td>-1.146987</td>\n",
       "      <td>0.963328</td>\n",
       "      <td>-0.828965</td>\n",
       "      <td>27.758673</td>\n",
       "    </tr>\n",
       "    <tr>\n",
       "      <th>WJtFt</th>\n",
       "      <td>0.262778</td>\n",
       "      <td>0.269839</td>\n",
       "      <td>-2.530187</td>\n",
       "      <td>56.069697</td>\n",
       "    </tr>\n",
       "    <tr>\n",
       "      <th>ovLUW</th>\n",
       "      <td>0.194587</td>\n",
       "      <td>0.289035</td>\n",
       "      <td>-5.586433</td>\n",
       "      <td>62.871910</td>\n",
       "    </tr>\n",
       "    <tr>\n",
       "      <th>q6cA6</th>\n",
       "      <td>2.236060</td>\n",
       "      <td>-0.553760</td>\n",
       "      <td>0.930038</td>\n",
       "      <td>114.572842</td>\n",
       "    </tr>\n",
       "    <tr>\n",
       "      <th>WPMUX</th>\n",
       "      <td>-0.515993</td>\n",
       "      <td>1.716266</td>\n",
       "      <td>5.899011</td>\n",
       "      <td>149.600746</td>\n",
       "    </tr>\n",
       "  </tbody>\n",
       "</table>\n",
       "</div>"
      ],
      "text/plain": [
       "             f0        f1        f2     product\n",
       "id                                             \n",
       "fwXo0 -1.146987  0.963328 -0.828965   27.758673\n",
       "WJtFt  0.262778  0.269839 -2.530187   56.069697\n",
       "ovLUW  0.194587  0.289035 -5.586433   62.871910\n",
       "q6cA6  2.236060 -0.553760  0.930038  114.572842\n",
       "WPMUX -0.515993  1.716266  5.899011  149.600746"
      ]
     },
     "metadata": {},
     "output_type": "display_data"
    },
    {
     "name": "stdout",
     "output_type": "stream",
     "text": [
      "\n",
      " Последние пять строк таблицы:\n"
     ]
    },
    {
     "data": {
      "text/html": [
       "<div>\n",
       "<style scoped>\n",
       "    .dataframe tbody tr th:only-of-type {\n",
       "        vertical-align: middle;\n",
       "    }\n",
       "\n",
       "    .dataframe tbody tr th {\n",
       "        vertical-align: top;\n",
       "    }\n",
       "\n",
       "    .dataframe thead th {\n",
       "        text-align: right;\n",
       "    }\n",
       "</style>\n",
       "<table border=\"1\" class=\"dataframe\">\n",
       "  <thead>\n",
       "    <tr style=\"text-align: right;\">\n",
       "      <th></th>\n",
       "      <th>f0</th>\n",
       "      <th>f1</th>\n",
       "      <th>f2</th>\n",
       "      <th>product</th>\n",
       "    </tr>\n",
       "    <tr>\n",
       "      <th>id</th>\n",
       "      <th></th>\n",
       "      <th></th>\n",
       "      <th></th>\n",
       "      <th></th>\n",
       "    </tr>\n",
       "  </thead>\n",
       "  <tbody>\n",
       "    <tr>\n",
       "      <th>4GxBu</th>\n",
       "      <td>-1.777037</td>\n",
       "      <td>1.125220</td>\n",
       "      <td>6.263374</td>\n",
       "      <td>172.327046</td>\n",
       "    </tr>\n",
       "    <tr>\n",
       "      <th>YKFjq</th>\n",
       "      <td>-1.261523</td>\n",
       "      <td>-0.894828</td>\n",
       "      <td>2.524545</td>\n",
       "      <td>138.748846</td>\n",
       "    </tr>\n",
       "    <tr>\n",
       "      <th>tKPY3</th>\n",
       "      <td>-1.199934</td>\n",
       "      <td>-2.957637</td>\n",
       "      <td>5.219411</td>\n",
       "      <td>157.080080</td>\n",
       "    </tr>\n",
       "    <tr>\n",
       "      <th>nmxp2</th>\n",
       "      <td>-2.419896</td>\n",
       "      <td>2.417221</td>\n",
       "      <td>-5.548444</td>\n",
       "      <td>51.795253</td>\n",
       "    </tr>\n",
       "    <tr>\n",
       "      <th>V9kWn</th>\n",
       "      <td>-2.551421</td>\n",
       "      <td>-2.025625</td>\n",
       "      <td>6.090891</td>\n",
       "      <td>102.775767</td>\n",
       "    </tr>\n",
       "  </tbody>\n",
       "</table>\n",
       "</div>"
      ],
      "text/plain": [
       "             f0        f1        f2     product\n",
       "id                                             \n",
       "4GxBu -1.777037  1.125220  6.263374  172.327046\n",
       "YKFjq -1.261523 -0.894828  2.524545  138.748846\n",
       "tKPY3 -1.199934 -2.957637  5.219411  157.080080\n",
       "nmxp2 -2.419896  2.417221 -5.548444   51.795253\n",
       "V9kWn -2.551421 -2.025625  6.090891  102.775767"
      ]
     },
     "metadata": {},
     "output_type": "display_data"
    },
    {
     "name": "stdout",
     "output_type": "stream",
     "text": [
      "\n",
      " Общая информация о датасете: \n",
      "\n",
      "<class 'pandas.core.frame.DataFrame'>\n",
      "Index: 100000 entries, fwXo0 to V9kWn\n",
      "Data columns (total 4 columns):\n",
      " #   Column   Non-Null Count   Dtype  \n",
      "---  ------   --------------   -----  \n",
      " 0   f0       100000 non-null  float64\n",
      " 1   f1       100000 non-null  float64\n",
      " 2   f2       100000 non-null  float64\n",
      " 3   product  100000 non-null  float64\n",
      "dtypes: float64(4)\n",
      "memory usage: 3.8+ MB\n"
     ]
    },
    {
     "data": {
      "text/plain": [
       "None"
      ]
     },
     "metadata": {},
     "output_type": "display_data"
    },
    {
     "name": "stdout",
     "output_type": "stream",
     "text": [
      "\n",
      " Описательные статистики датасета:\n"
     ]
    },
    {
     "data": {
      "text/html": [
       "<div>\n",
       "<style scoped>\n",
       "    .dataframe tbody tr th:only-of-type {\n",
       "        vertical-align: middle;\n",
       "    }\n",
       "\n",
       "    .dataframe tbody tr th {\n",
       "        vertical-align: top;\n",
       "    }\n",
       "\n",
       "    .dataframe thead th {\n",
       "        text-align: right;\n",
       "    }\n",
       "</style>\n",
       "<table border=\"1\" class=\"dataframe\">\n",
       "  <thead>\n",
       "    <tr style=\"text-align: right;\">\n",
       "      <th></th>\n",
       "      <th>f0</th>\n",
       "      <th>f1</th>\n",
       "      <th>f2</th>\n",
       "      <th>product</th>\n",
       "    </tr>\n",
       "  </thead>\n",
       "  <tbody>\n",
       "    <tr>\n",
       "      <th>count</th>\n",
       "      <td>100000.00</td>\n",
       "      <td>100000.00</td>\n",
       "      <td>100000.00</td>\n",
       "      <td>100000.00</td>\n",
       "    </tr>\n",
       "    <tr>\n",
       "      <th>mean</th>\n",
       "      <td>0.00</td>\n",
       "      <td>-0.00</td>\n",
       "      <td>2.50</td>\n",
       "      <td>95.00</td>\n",
       "    </tr>\n",
       "    <tr>\n",
       "      <th>std</th>\n",
       "      <td>1.73</td>\n",
       "      <td>1.73</td>\n",
       "      <td>3.47</td>\n",
       "      <td>44.75</td>\n",
       "    </tr>\n",
       "    <tr>\n",
       "      <th>min</th>\n",
       "      <td>-8.76</td>\n",
       "      <td>-7.08</td>\n",
       "      <td>-11.97</td>\n",
       "      <td>0.00</td>\n",
       "    </tr>\n",
       "    <tr>\n",
       "      <th>25%</th>\n",
       "      <td>-1.16</td>\n",
       "      <td>-1.17</td>\n",
       "      <td>0.13</td>\n",
       "      <td>59.45</td>\n",
       "    </tr>\n",
       "    <tr>\n",
       "      <th>50%</th>\n",
       "      <td>0.01</td>\n",
       "      <td>-0.01</td>\n",
       "      <td>2.48</td>\n",
       "      <td>94.93</td>\n",
       "    </tr>\n",
       "    <tr>\n",
       "      <th>75%</th>\n",
       "      <td>1.16</td>\n",
       "      <td>1.16</td>\n",
       "      <td>4.86</td>\n",
       "      <td>130.60</td>\n",
       "    </tr>\n",
       "    <tr>\n",
       "      <th>max</th>\n",
       "      <td>7.24</td>\n",
       "      <td>7.84</td>\n",
       "      <td>16.74</td>\n",
       "      <td>190.03</td>\n",
       "    </tr>\n",
       "  </tbody>\n",
       "</table>\n",
       "</div>"
      ],
      "text/plain": [
       "              f0         f1         f2    product\n",
       "count  100000.00  100000.00  100000.00  100000.00\n",
       "mean        0.00      -0.00       2.50      95.00\n",
       "std         1.73       1.73       3.47      44.75\n",
       "min        -8.76      -7.08     -11.97       0.00\n",
       "25%        -1.16      -1.17       0.13      59.45\n",
       "50%         0.01      -0.01       2.48      94.93\n",
       "75%         1.16       1.16       4.86     130.60\n",
       "max         7.24       7.84      16.74     190.03"
      ]
     },
     "metadata": {},
     "output_type": "display_data"
    },
    {
     "name": "stdout",
     "output_type": "stream",
     "text": [
      "\n",
      " Количество дубликатов в данных:\n"
     ]
    },
    {
     "data": {
      "text/plain": [
       "0"
      ]
     },
     "metadata": {},
     "output_type": "display_data"
    }
   ],
   "source": [
    "describe_data(df_3) # Изучаем данные о третьем регионе"
   ]
  },
  {
   "cell_type": "markdown",
   "metadata": {},
   "source": [
    "**Промежуточный вывод:**\n",
    "\n",
    "Проблем при выгрузке данных не возникло, очевидных дубликатов нет. Данные были предварительно проиндексированы по столбцу *id* и не требуют дополнительной обработки."
   ]
  },
  {
   "cell_type": "markdown",
   "metadata": {},
   "source": [
    "## Обучение и проверка модели"
   ]
  },
  {
   "cell_type": "markdown",
   "metadata": {},
   "source": [
    "На этом этапе обучим модель линейной регрессии и сделаем при помощи неё предсказания на валидационной выборке. Для этого напишем вспомогательную функцию:"
   ]
  },
  {
   "cell_type": "code",
   "execution_count": 8,
   "metadata": {},
   "outputs": [],
   "source": [
    "RANDOM_STATE = 42\n",
    "def predict(data):\n",
    "    model_lr = LinearRegression()\n",
    "    X = data.drop(['product'], axis=1) \n",
    "    y = data['product']\n",
    "    X_train, X_valid, y_train, y_valid = train_test_split(\n",
    "        X,\n",
    "        y,\n",
    "        random_state=RANDOM_STATE,\n",
    "        test_size=0.25\n",
    "    )\n",
    "    scaler = StandardScaler()\n",
    "    X_train_scaled = scaler.fit_transform(X_train)\n",
    "    X_valid_scaled = scaler.transform(X_valid)\n",
    "    model_lr.fit(X_train_scaled, y_train)\n",
    "    predictions = model_lr.predict(X_valid_scaled)\n",
    "    rmse_score = mean_squared_error(y_valid, predictions, squared=False)\n",
    "    mean_predicted = predictions.mean() \n",
    "    return rmse_score, mean_predicted, predictions, y_valid"
   ]
  },
  {
   "cell_type": "markdown",
   "metadata": {},
   "source": [
    "Для каждого из регионов сохраним предсказания и правильные ответы на валидационной выборке, а также найдём средний запас предсказанного сырья и показатель метрики RMSE:"
   ]
  },
  {
   "cell_type": "code",
   "execution_count": 9,
   "metadata": {},
   "outputs": [
    {
     "name": "stdout",
     "output_type": "stream",
     "text": [
      "Cредний запас предсказанного сырья: 92.4, значение метрики RMSE: 37.76\n"
     ]
    }
   ],
   "source": [
    "rmse_1, mean_1, predict_1, y_valid_1 = predict(df_1) # Модель для первого месторождения\n",
    "print(f'Cредний запас предсказанного сырья: {mean_1.round(2)}, значение метрики RMSE: {rmse_1.round(2)}')"
   ]
  },
  {
   "cell_type": "code",
   "execution_count": 10,
   "metadata": {},
   "outputs": [
    {
     "name": "stdout",
     "output_type": "stream",
     "text": [
      "Cредний запас предсказанного сырья: 68.71, значение метрики RMSE: 0.89\n"
     ]
    }
   ],
   "source": [
    "rmse_2, mean_2, predict_2, y_valid_2 = predict(df_2) # Модель для второго месторождения\n",
    "print(f'Cредний запас предсказанного сырья: {mean_2.round(2)}, значение метрики RMSE: {rmse_2.round(2)}')"
   ]
  },
  {
   "cell_type": "code",
   "execution_count": 11,
   "metadata": {},
   "outputs": [
    {
     "name": "stdout",
     "output_type": "stream",
     "text": [
      "Cредний запас предсказанного сырья: 94.77, значение метрики RMSE: 40.15\n"
     ]
    }
   ],
   "source": [
    "rmse_3, mean_3, predict_3, y_valid_3 = predict(df_3) # Модель для третьего месторождения\n",
    "print(f'Cредний запас предсказанного сырья: {mean_3.round(2)}, значение метрики RMSE: {rmse_3.round(2)}')"
   ]
  },
  {
   "cell_type": "markdown",
   "metadata": {},
   "source": [
    "**Промежуточный вывод:**\n",
    "\n",
    "Наибольший запас предсказанного сырья у третьего месторождения (94.8), наименьший — у второго (68.7).\n",
    "\n",
    "При этом можем отметить, что именно у второго месторождения модель работает точнее всего (значение метрики RMSE там меньше единицы, а чем ближе значение метрики к нулю, тем точнее модель. В то же время у других месторождений значение метрики в районе 40)."
   ]
  },
  {
   "cell_type": "markdown",
   "metadata": {},
   "source": [
    "## Подготовка к расчёту прибыли"
   ]
  },
  {
   "cell_type": "markdown",
   "metadata": {},
   "source": [
    "Рассчитаем достаточный объём сырья для безубыточной разработки новой скважины:"
   ]
  },
  {
   "cell_type": "code",
   "execution_count": 12,
   "metadata": {},
   "outputs": [],
   "source": [
    "TOTAL_POINTS = 500 # При разведке региона исследуют 500 точек\n",
    "POINTS = 200 # Для разработки выбирают 200 лучших\n",
    "TOTAL_BUDGET = 10 * 10**9 # Бюджет на разработку скважин\n",
    "PRICE_BARREL = 450000 # Доход с единицы продукта"
   ]
  },
  {
   "cell_type": "code",
   "execution_count": 13,
   "metadata": {},
   "outputs": [
    {
     "name": "stdout",
     "output_type": "stream",
     "text": [
      "Достаточный объем =  111.0 тыс. баррелей\n"
     ]
    }
   ],
   "source": [
    "BUDGET_PER_WELL = TOTAL_BUDGET / POINTS # Сколько выделяется денег на одну скважину\n",
    "VOLUME = BUDGET_PER_WELL / PRICE_BARREL # Сколько нужно единиц продукта, чтобы окупить бюджет\n",
    "print(\"Достаточный объем = \", round(VOLUME, 0), \"тыс. баррелей\")"
   ]
  },
  {
   "cell_type": "markdown",
   "metadata": {},
   "source": [
    "Также напишем вспомогательные функции для расчёта прибыли и проведения процедуры *Bootstrap*:"
   ]
  },
  {
   "cell_type": "code",
   "execution_count": 14,
   "metadata": {},
   "outputs": [],
   "source": [
    "def revenew(target, predictions, points, total_budget, price_barrel): # Функция для расчёта прибыли\n",
    "    predictions_sorted = predictions.sort_values(ascending=False)\n",
    "    selected = target[predictions_sorted.index][:points]\n",
    "    revenue = selected.sum() * price_barrel - total_budget\n",
    "    return revenue\n",
    "\n",
    "def bootstrap(target, probabilities): # Функция для проведения процедуры Bootstrap\n",
    "    state = np.random.RandomState(12345)\n",
    "    values=[]\n",
    "    for i in range(1000):\n",
    "        target_subsample = target.sample(replace=True,\\\n",
    "            random_state=state, n=TOTAL_POINTS)\n",
    "        probs_subsample = probabilities[target_subsample.index]\n",
    "        values.append(revenew(target_subsample, probs_subsample, POINTS, TOTAL_BUDGET, PRICE_BARREL))\n",
    "    values = pd.Series(values)\n",
    "    lower = values.quantile(0.025)\n",
    "    upper = values.quantile(0.975)\n",
    "    mean = values.mean()\n",
    "    risk = st.percentileofscore(values, 0).round(2)\n",
    "    return lower, upper, risk"
   ]
  },
  {
   "cell_type": "markdown",
   "metadata": {},
   "source": [
    "**Промежуточный вывод:**\n",
    "\n",
    "Необходимое рассчитанное кол-во единиц продукта для безубыточности составило 111 тыс. баррелей. Однако на данный момент самое крупное предсказанное значение среднего запаса сырья составляет 94.8 тыс. (в третьем регионе). В первом и втором регионах аналогичные значения и того меньше. Этого, очевидно, недостаточно для безубыточной разработки, что свидетельствует о невозможности выбора скважин случайным образом (необходимо отобрать наиболее \"богатые\" скважины). Для проведения такого отбора были прописаны вспомогательные функции для расчёта прибыли и проведения процедуры *Bootstrap*, которыми мы воспользуемся на следующем шаге."
   ]
  },
  {
   "cell_type": "markdown",
   "metadata": {},
   "source": [
    "## Расчёт прибыли и рисков "
   ]
  },
  {
   "cell_type": "markdown",
   "metadata": {},
   "source": [
    "Найдём среднюю прибыль, 95%-ый доверительный интервал и риск убытков для каждого региона:"
   ]
  },
  {
   "cell_type": "code",
   "execution_count": 15,
   "metadata": {},
   "outputs": [
    {
     "name": "stdout",
     "output_type": "stream",
     "text": [
      "Прибыль в первом регионе: 3.36 млрд\n",
      "95%-ый доверительный интервал для первого региона: (-0.12 млрд;      0.97 млрд)\n",
      "Вероятность убытков в первом регионе: 6.1%\n"
     ]
    }
   ],
   "source": [
    "revenue_1 = revenew(y_valid_1, pd.Series(predict_1, index=y_valid_1.index), \\\n",
    "                    POINTS, TOTAL_BUDGET, PRICE_BARREL) # Первый регион\n",
    "lower_1, upper_1, risk_1 = bootstrap(y_valid_1, pd.Series(predict_1, index=y_valid_1.index))\n",
    "print(f'Прибыль в первом регионе: {(revenue_1 / 10**9).round(2)} млрд')\n",
    "print(f'95%-ый доверительный интервал для первого региона: ({(lower_1 / 10**9).round(2)} млрд;\\\n",
    "      {(upper_1 / 10**9).round(2)} млрд)')\n",
    "print(f'Вероятность убытков в первом регионе: {risk_1}%')"
   ]
  },
  {
   "cell_type": "code",
   "execution_count": 16,
   "metadata": {},
   "outputs": [
    {
     "name": "stdout",
     "output_type": "stream",
     "text": [
      "Прибыль во втором регионе: 2.42 млрд\n",
      "95%-ый доверительный интервал для второго региона: (0.06 млрд;      0.91 млрд)\n",
      "Вероятность убытков во втором регионе: 1.1%\n"
     ]
    }
   ],
   "source": [
    "revenue_2 = revenew(y_valid_2, pd.Series(predict_2, index=y_valid_2.index), \\\n",
    "                    POINTS, TOTAL_BUDGET, PRICE_BARREL) # Второй регион\n",
    "lower_2, upper_2, risk_2 = bootstrap(y_valid_2, pd.Series(predict_2, index=y_valid_2.index))\n",
    "print(f'Прибыль во втором регионе: {(revenue_2 / 10**9).round(2)} млрд')\n",
    "print(f'95%-ый доверительный интервал для второго региона: ({(lower_2 / 10**9).round(2)} млрд;\\\n",
    "      {(upper_2 / 10**9).round(2)} млрд)')\n",
    "print(f'Вероятность убытков во втором регионе: {risk_2}%')"
   ]
  },
  {
   "cell_type": "code",
   "execution_count": 17,
   "metadata": {},
   "outputs": [
    {
     "name": "stdout",
     "output_type": "stream",
     "text": [
      "Прибыль в третьем регионе: 2.6 млрд\n",
      "95%-ый доверительный интервал для третьего региона: (-0.15 млрд;      0.95 млрд)\n",
      "Вероятность убытков в третьем регионе: 7.1%\n"
     ]
    }
   ],
   "source": [
    "revenue_3 = revenew(y_valid_3, pd.Series(predict_3, index=y_valid_3.index), \\\n",
    "                    POINTS, TOTAL_BUDGET, PRICE_BARREL) # Третий регион\n",
    "lower_3, upper_3, risk_3 = bootstrap(y_valid_3, pd.Series(predict_3, index=y_valid_3.index))\n",
    "print(f'Прибыль в третьем регионе: {(revenue_3/ 10**9).round(2)} млрд')\n",
    "print(f'95%-ый доверительный интервал для третьего региона: ({(lower_3 / 10**9).round(2)} млрд;\\\n",
    "      {(upper_3 / 10**9).round(2)} млрд)')\n",
    "print(f'Вероятность убытков в третьем регионе: {risk_3}%')"
   ]
  },
  {
   "cell_type": "markdown",
   "metadata": {},
   "source": [
    "**Промежуточный вывод:**\n",
    "\n",
    "По результатам проведения процедуры *Bootstrap* был выявлен единственный регион с вероятностью убытков меньше 2,5% — второй (данный показатель в нём составляет всего 1,1%). Соответственно, именно этот регион можно считать наиболее подходящим для разработки. Однако, рассчитанная прибыль в нём оказалась наименьшей из трёх регионов и составила 2,42 миллиарда рублей.\n",
    "\n",
    "При этом нельзя не отметить, что наибольшую прибыль продемонстрировал первый регион (она почти в полтора раза больше, чем во втором), поэтому имеет смысл также подробнее изучить месторождения в нём. "
   ]
  },
  {
   "cell_type": "markdown",
   "metadata": {},
   "source": [
    "## Итоговый вывод "
   ]
  },
  {
   "cell_type": "markdown",
   "metadata": {},
   "source": [
    "По результатам исследования **наиболее целесообразным** для разработки месторождений оказался **второй регион**. Это обосновано **наименьшей вероятностью убытков — 1.1%. Прогнозируемый доход с данного региона составляет 2,42 миллиарда рублей.**\n",
    "\n",
    "При этом нельзя не отметить, что наибольшую прибыль продемонстрировал первый регион (она почти в полтора раза больше, чем во втором), поэтому имеет смысл также подробнее изучить месторождения в нём. \n",
    "\n",
    "**Коротко о промежуточных выводах и итогах данного анализа:**\n",
    "\n",
    "- Проблем при выгрузке данных не возникло, очевидных дубликатов в них не оказалось. Данные были предварительно проиндексированы по столбцу id и не требовали дополнительной обработки.\n",
    "- Необходимое рассчитанное кол-во единиц продукта для безубыточности составило 111 тыс. баррелей. Однако самое крупное из предсказанных значений среднего запаса сырья на момент предсказания модели составляло 94.8 тыс. (в третьем регионе). В первом и втором регионах аналогичные значения были и того меньше.\n",
    "- Подобных объёмов, очевидно, было недостаточно для безубыточной разработки, что свидетельствовало о невозможности выбора скважин случайным образом (необходимо было отобрать наиболее \"богатые\" скважины). Для проведения такого отбора были прописаны вспомогательные функции для расчёта прибыли и проведения процедуры *Bootstrap*, на основе которых и было решено выбрать наиболее целесообразным **второй регион**."
   ]
  }
 ],
 "metadata": {
  "ExecuteTimeLog": [
   {
    "duration": 12,
    "start_time": "2025-03-28T16:34:30.916Z"
   },
   {
    "duration": 18961,
    "start_time": "2025-05-07T15:04:51.399Z"
   },
   {
    "duration": 7,
    "start_time": "2025-05-07T15:05:10.969Z"
   },
   {
    "duration": 10,
    "start_time": "2025-05-07T15:05:19.335Z"
   },
   {
    "duration": 4,
    "start_time": "2025-05-07T15:05:19.835Z"
   },
   {
    "duration": 535,
    "start_time": "2025-05-07T15:05:21.806Z"
   },
   {
    "duration": 4,
    "start_time": "2025-05-07T15:05:22.967Z"
   },
   {
    "duration": 127,
    "start_time": "2025-05-07T15:05:23.513Z"
   },
   {
    "duration": 107,
    "start_time": "2025-05-07T15:05:35.670Z"
   },
   {
    "duration": 107,
    "start_time": "2025-05-07T15:05:37.200Z"
   },
   {
    "duration": 113,
    "start_time": "2025-05-07T15:05:46.462Z"
   },
   {
    "duration": 39018,
    "start_time": "2025-05-08T07:18:59.952Z"
   },
   {
    "duration": 2467,
    "start_time": "2025-05-08T07:19:38.973Z"
   },
   {
    "duration": 10,
    "start_time": "2025-05-08T07:19:41.441Z"
   },
   {
    "duration": 613,
    "start_time": "2025-05-08T07:19:41.453Z"
   },
   {
    "duration": 1051,
    "start_time": "2025-05-08T07:19:42.069Z"
   },
   {
    "duration": 4,
    "start_time": "2025-05-08T07:19:43.122Z"
   },
   {
    "duration": 295,
    "start_time": "2025-05-08T07:19:43.127Z"
   },
   {
    "duration": 421,
    "start_time": "2025-05-08T07:19:43.424Z"
   },
   {
    "duration": 219,
    "start_time": "2025-05-08T07:19:43.846Z"
   },
   {
    "duration": 583,
    "start_time": "2025-05-08T07:20:58.455Z"
   },
   {
    "duration": 3,
    "start_time": "2025-05-08T07:21:01.653Z"
   },
   {
    "duration": 125,
    "start_time": "2025-05-08T07:21:07.476Z"
   },
   {
    "duration": 85,
    "start_time": "2025-05-08T07:21:21.066Z"
   },
   {
    "duration": 103,
    "start_time": "2025-05-08T07:21:29.495Z"
   },
   {
    "duration": 41811,
    "start_time": "2025-05-16T18:26:05.335Z"
   },
   {
    "duration": 2592,
    "start_time": "2025-05-16T18:26:47.148Z"
   },
   {
    "duration": 10,
    "start_time": "2025-05-16T18:26:49.742Z"
   },
   {
    "duration": 18,
    "start_time": "2025-05-16T18:26:49.754Z"
   },
   {
    "duration": 580,
    "start_time": "2025-05-16T18:26:49.774Z"
   },
   {
    "duration": 4,
    "start_time": "2025-05-16T18:26:50.356Z"
   },
   {
    "duration": 154,
    "start_time": "2025-05-16T18:26:50.362Z"
   },
   {
    "duration": 116,
    "start_time": "2025-05-16T18:26:50.518Z"
   },
   {
    "duration": 115,
    "start_time": "2025-05-16T18:26:50.636Z"
   },
   {
    "duration": 186,
    "start_time": "2025-05-16T18:26:50.753Z"
   },
   {
    "duration": 15,
    "start_time": "2025-05-16T18:53:25.859Z"
   },
   {
    "duration": 4,
    "start_time": "2025-05-16T18:57:37.630Z"
   },
   {
    "duration": 48,
    "start_time": "2025-05-16T18:57:47.088Z"
   },
   {
    "duration": 12,
    "start_time": "2025-05-16T18:58:17.735Z"
   },
   {
    "duration": 94,
    "start_time": "2025-05-16T18:58:40.087Z"
   },
   {
    "duration": 13,
    "start_time": "2025-05-16T18:59:15.117Z"
   },
   {
    "duration": 5,
    "start_time": "2025-05-16T19:00:01.253Z"
   },
   {
    "duration": 9,
    "start_time": "2025-05-16T19:00:05.740Z"
   },
   {
    "duration": 52,
    "start_time": "2025-05-16T19:01:36.083Z"
   },
   {
    "duration": 15,
    "start_time": "2025-05-16T19:02:03.219Z"
   },
   {
    "duration": 30,
    "start_time": "2025-05-16T19:02:32.306Z"
   },
   {
    "duration": 9,
    "start_time": "2025-05-16T19:02:49.829Z"
   },
   {
    "duration": 54,
    "start_time": "2025-05-16T19:03:38.619Z"
   },
   {
    "duration": 14,
    "start_time": "2025-05-16T19:03:52.923Z"
   },
   {
    "duration": 22,
    "start_time": "2025-05-16T19:04:06.594Z"
   },
   {
    "duration": 10,
    "start_time": "2025-05-16T19:04:20.954Z"
   },
   {
    "duration": 40523,
    "start_time": "2025-05-17T11:10:35.064Z"
   },
   {
    "duration": 2512,
    "start_time": "2025-05-17T11:11:15.590Z"
   },
   {
    "duration": 10,
    "start_time": "2025-05-17T11:11:18.103Z"
   },
   {
    "duration": 42,
    "start_time": "2025-05-17T11:11:18.115Z"
   },
   {
    "duration": 546,
    "start_time": "2025-05-17T11:11:18.159Z"
   },
   {
    "duration": 4,
    "start_time": "2025-05-17T11:11:18.707Z"
   },
   {
    "duration": 133,
    "start_time": "2025-05-17T11:11:18.712Z"
   },
   {
    "duration": 108,
    "start_time": "2025-05-17T11:11:18.847Z"
   },
   {
    "duration": 114,
    "start_time": "2025-05-17T11:11:18.957Z"
   },
   {
    "duration": 46,
    "start_time": "2025-05-17T11:11:19.073Z"
   },
   {
    "duration": 36,
    "start_time": "2025-05-17T11:11:19.121Z"
   },
   {
    "duration": 87,
    "start_time": "2025-05-17T11:11:19.159Z"
   },
   {
    "duration": 14,
    "start_time": "2025-05-17T11:11:19.249Z"
   },
   {
    "duration": 51,
    "start_time": "2025-05-17T11:11:19.342Z"
   },
   {
    "duration": 11,
    "start_time": "2025-05-17T11:11:19.395Z"
   },
   {
    "duration": 47,
    "start_time": "2025-05-17T11:11:19.408Z"
   },
   {
    "duration": 10,
    "start_time": "2025-05-17T11:11:19.457Z"
   },
   {
    "duration": 145,
    "start_time": "2025-05-17T11:11:19.540Z"
   },
   {
    "duration": 14,
    "start_time": "2025-05-17T11:11:19.686Z"
   },
   {
    "duration": 54,
    "start_time": "2025-05-17T11:11:19.702Z"
   },
   {
    "duration": 106,
    "start_time": "2025-05-17T11:11:19.759Z"
   },
   {
    "duration": 5,
    "start_time": "2025-05-17T11:15:38.112Z"
   },
   {
    "duration": 5,
    "start_time": "2025-05-17T11:31:06.954Z"
   },
   {
    "duration": 4,
    "start_time": "2025-05-17T11:36:50.057Z"
   },
   {
    "duration": 5,
    "start_time": "2025-05-17T11:40:51.376Z"
   },
   {
    "duration": 152,
    "start_time": "2025-05-17T14:08:47.956Z"
   },
   {
    "duration": 4,
    "start_time": "2025-05-17T14:19:27.300Z"
   },
   {
    "duration": 4,
    "start_time": "2025-05-17T17:41:49.457Z"
   },
   {
    "duration": 25,
    "start_time": "2025-05-17T17:43:47.485Z"
   },
   {
    "duration": 19,
    "start_time": "2025-05-17T17:44:00.543Z"
   },
   {
    "duration": 4,
    "start_time": "2025-05-17T17:44:16.117Z"
   },
   {
    "duration": 114,
    "start_time": "2025-05-17T17:44:17.732Z"
   },
   {
    "duration": 74,
    "start_time": "2025-05-17T17:44:22.666Z"
   },
   {
    "duration": 86,
    "start_time": "2025-05-17T17:45:16.554Z"
   },
   {
    "duration": 96,
    "start_time": "2025-05-17T17:46:08.348Z"
   },
   {
    "duration": 125,
    "start_time": "2025-05-17T17:46:45.921Z"
   },
   {
    "duration": 5,
    "start_time": "2025-05-17T18:30:36.571Z"
   },
   {
    "duration": 5,
    "start_time": "2025-05-17T18:33:05.268Z"
   },
   {
    "duration": 5,
    "start_time": "2025-05-17T18:33:15.476Z"
   },
   {
    "duration": 1981,
    "start_time": "2025-05-17T18:36:11.175Z"
   },
   {
    "duration": 5,
    "start_time": "2025-05-17T18:36:24.868Z"
   },
   {
    "duration": 1838,
    "start_time": "2025-05-17T18:36:25.694Z"
   },
   {
    "duration": 1966,
    "start_time": "2025-05-17T18:37:40.729Z"
   },
   {
    "duration": 1827,
    "start_time": "2025-05-17T18:38:20.263Z"
   },
   {
    "duration": 1878,
    "start_time": "2025-05-17T18:38:44.057Z"
   },
   {
    "duration": 1845,
    "start_time": "2025-05-17T18:39:03.335Z"
   },
   {
    "duration": 1947,
    "start_time": "2025-05-17T18:39:22.415Z"
   },
   {
    "duration": 1930,
    "start_time": "2025-05-17T18:39:46.972Z"
   },
   {
    "duration": 1951,
    "start_time": "2025-05-17T18:40:09.828Z"
   },
   {
    "duration": 1896,
    "start_time": "2025-05-17T18:40:20.473Z"
   },
   {
    "duration": 4,
    "start_time": "2025-05-17T18:46:27.073Z"
   },
   {
    "duration": 17,
    "start_time": "2025-05-17T18:46:34.493Z"
   },
   {
    "duration": 2131,
    "start_time": "2025-05-17T18:47:07.892Z"
   },
   {
    "duration": 2093,
    "start_time": "2025-05-17T18:48:38.877Z"
   },
   {
    "duration": 2012,
    "start_time": "2025-05-17T18:49:02.981Z"
   },
   {
    "duration": 2083,
    "start_time": "2025-05-17T18:49:33.230Z"
   },
   {
    "duration": 107,
    "start_time": "2025-05-17T18:50:16.024Z"
   },
   {
    "duration": 2050,
    "start_time": "2025-05-17T18:50:23.058Z"
   },
   {
    "duration": 2042,
    "start_time": "2025-05-17T18:50:58.069Z"
   },
   {
    "duration": 2794,
    "start_time": "2025-05-17T19:48:52.124Z"
   },
   {
    "duration": 4,
    "start_time": "2025-05-17T19:50:02.092Z"
   },
   {
    "duration": 2730,
    "start_time": "2025-05-17T19:50:28.556Z"
   },
   {
    "duration": 1638,
    "start_time": "2025-05-17T19:50:31.289Z"
   },
   {
    "duration": 137,
    "start_time": "2025-05-17T19:50:32.928Z"
   },
   {
    "duration": 0,
    "start_time": "2025-05-17T19:50:33.067Z"
   },
   {
    "duration": 16,
    "start_time": "2025-05-17T19:50:33.940Z"
   },
   {
    "duration": 9,
    "start_time": "2025-05-17T19:50:34.574Z"
   },
   {
    "duration": 10,
    "start_time": "2025-05-17T19:50:35.032Z"
   },
   {
    "duration": 3,
    "start_time": "2025-05-17T19:51:31.584Z"
   },
   {
    "duration": 564,
    "start_time": "2025-05-17T19:51:34.145Z"
   },
   {
    "duration": 4,
    "start_time": "2025-05-17T19:51:36.526Z"
   },
   {
    "duration": 125,
    "start_time": "2025-05-17T19:51:37.452Z"
   },
   {
    "duration": 84,
    "start_time": "2025-05-17T19:51:38.300Z"
   },
   {
    "duration": 89,
    "start_time": "2025-05-17T19:51:38.896Z"
   },
   {
    "duration": 5,
    "start_time": "2025-05-17T19:51:41.237Z"
   },
   {
    "duration": 140,
    "start_time": "2025-05-17T19:51:42.303Z"
   },
   {
    "duration": 94,
    "start_time": "2025-05-17T19:51:44.262Z"
   },
   {
    "duration": 90,
    "start_time": "2025-05-17T19:51:44.552Z"
   },
   {
    "duration": 179,
    "start_time": "2025-05-17T20:01:02.859Z"
   },
   {
    "duration": 152,
    "start_time": "2025-05-17T20:01:05.192Z"
   },
   {
    "duration": 202,
    "start_time": "2025-05-17T20:01:05.346Z"
   },
   {
    "duration": 134,
    "start_time": "2025-05-17T20:02:07.906Z"
   },
   {
    "duration": 83,
    "start_time": "2025-05-17T20:02:13.360Z"
   },
   {
    "duration": 95,
    "start_time": "2025-05-17T20:02:19.748Z"
   },
   {
    "duration": 137,
    "start_time": "2025-05-17T20:02:53.206Z"
   },
   {
    "duration": 133,
    "start_time": "2025-05-17T20:03:02.211Z"
   },
   {
    "duration": 200,
    "start_time": "2025-05-17T20:03:02.347Z"
   },
   {
    "duration": 4,
    "start_time": "2025-05-17T20:07:18.829Z"
   },
   {
    "duration": 6,
    "start_time": "2025-05-17T20:10:00.896Z"
   },
   {
    "duration": 5,
    "start_time": "2025-05-17T20:13:26.238Z"
   },
   {
    "duration": 76,
    "start_time": "2025-05-17T20:32:46.153Z"
   },
   {
    "duration": 71,
    "start_time": "2025-05-17T20:32:54.745Z"
   },
   {
    "duration": 79,
    "start_time": "2025-05-17T20:33:07.826Z"
   },
   {
    "duration": 1841,
    "start_time": "2025-05-17T20:33:40.848Z"
   },
   {
    "duration": 1783,
    "start_time": "2025-05-17T20:34:18.706Z"
   },
   {
    "duration": 1940,
    "start_time": "2025-05-17T20:35:43.076Z"
   },
   {
    "duration": 72,
    "start_time": "2025-05-17T20:36:02.687Z"
   },
   {
    "duration": 1850,
    "start_time": "2025-05-17T20:36:07.259Z"
   },
   {
    "duration": 1772,
    "start_time": "2025-05-17T20:37:47.378Z"
   },
   {
    "duration": 1811,
    "start_time": "2025-05-17T20:38:42.828Z"
   },
   {
    "duration": 1761,
    "start_time": "2025-05-17T20:42:13.562Z"
   },
   {
    "duration": 1785,
    "start_time": "2025-05-17T20:42:17.654Z"
   },
   {
    "duration": 1783,
    "start_time": "2025-05-17T20:42:22.531Z"
   },
   {
    "duration": 1830,
    "start_time": "2025-05-17T20:44:29.275Z"
   },
   {
    "duration": 1784,
    "start_time": "2025-05-17T20:44:31.106Z"
   },
   {
    "duration": 1814,
    "start_time": "2025-05-17T20:44:32.892Z"
   },
   {
    "duration": 2827,
    "start_time": "2025-05-17T21:04:49.895Z"
   },
   {
    "duration": 1715,
    "start_time": "2025-05-17T21:04:52.725Z"
   },
   {
    "duration": 525,
    "start_time": "2025-05-17T21:04:54.442Z"
   },
   {
    "duration": 4,
    "start_time": "2025-05-17T21:04:54.969Z"
   },
   {
    "duration": 122,
    "start_time": "2025-05-17T21:04:54.975Z"
   },
   {
    "duration": 96,
    "start_time": "2025-05-17T21:04:55.098Z"
   },
   {
    "duration": 125,
    "start_time": "2025-05-17T21:04:55.195Z"
   },
   {
    "duration": 6,
    "start_time": "2025-05-17T21:04:55.346Z"
   },
   {
    "duration": 199,
    "start_time": "2025-05-17T21:04:55.354Z"
   },
   {
    "duration": 194,
    "start_time": "2025-05-17T21:04:55.557Z"
   },
   {
    "duration": 196,
    "start_time": "2025-05-17T21:04:55.754Z"
   },
   {
    "duration": 10,
    "start_time": "2025-05-17T21:04:56.039Z"
   },
   {
    "duration": 8,
    "start_time": "2025-05-17T21:04:56.053Z"
   },
   {
    "duration": 2094,
    "start_time": "2025-05-17T21:04:56.063Z"
   },
   {
    "duration": 1991,
    "start_time": "2025-05-17T21:04:58.159Z"
   },
   {
    "duration": 1969,
    "start_time": "2025-05-17T21:05:00.152Z"
   },
   {
    "duration": 2245,
    "start_time": "2025-08-16T10:10:27.413Z"
   },
   {
    "duration": 1210,
    "start_time": "2025-08-16T10:10:29.661Z"
   },
   {
    "duration": 535,
    "start_time": "2025-08-16T10:10:30.872Z"
   },
   {
    "duration": 4,
    "start_time": "2025-08-16T10:10:31.409Z"
   },
   {
    "duration": 105,
    "start_time": "2025-08-16T10:10:31.415Z"
   },
   {
    "duration": 99,
    "start_time": "2025-08-16T10:10:31.521Z"
   },
   {
    "duration": 109,
    "start_time": "2025-08-16T10:10:31.622Z"
   },
   {
    "duration": 34,
    "start_time": "2025-08-16T10:10:31.732Z"
   },
   {
    "duration": 115,
    "start_time": "2025-08-16T10:10:31.768Z"
   },
   {
    "duration": 196,
    "start_time": "2025-08-16T10:10:31.884Z"
   },
   {
    "duration": 194,
    "start_time": "2025-08-16T10:10:32.083Z"
   },
   {
    "duration": 101,
    "start_time": "2025-08-16T10:10:32.279Z"
   },
   {
    "duration": 10,
    "start_time": "2025-08-16T10:10:32.381Z"
   },
   {
    "duration": 5,
    "start_time": "2025-08-16T10:10:32.393Z"
   },
   {
    "duration": 1713,
    "start_time": "2025-08-16T10:10:32.399Z"
   },
   {
    "duration": 1632,
    "start_time": "2025-08-16T10:10:34.114Z"
   },
   {
    "duration": 1663,
    "start_time": "2025-08-16T10:10:35.748Z"
   }
  ],
  "kernelspec": {
   "display_name": "Python 3 (ipykernel)",
   "language": "python",
   "name": "python3"
  },
  "language_info": {
   "codemirror_mode": {
    "name": "ipython",
    "version": 3
   },
   "file_extension": ".py",
   "mimetype": "text/x-python",
   "name": "python",
   "nbconvert_exporter": "python",
   "pygments_lexer": "ipython3",
   "version": "3.9.22"
  },
  "toc": {
   "base_numbering": 1,
   "nav_menu": {},
   "number_sections": false,
   "sideBar": true,
   "skip_h1_title": true,
   "title_cell": "Table of Contents",
   "title_sidebar": "Contents",
   "toc_cell": false,
   "toc_position": {
    "height": "calc(100% - 180px)",
    "left": "10px",
    "top": "150px",
    "width": "165px"
   },
   "toc_section_display": true,
   "toc_window_display": true
  }
 },
 "nbformat": 4,
 "nbformat_minor": 4
}
