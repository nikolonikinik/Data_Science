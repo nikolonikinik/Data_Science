{
 "cells": [
  {
   "cell_type": "markdown",
   "id": "93b7c828",
   "metadata": {
    "deletable": false,
    "editable": false,
    "id": "c81daeeb"
   },
   "source": [
    "# Исследование надежности заемщиков\n"
   ]
  },
  {
   "cell_type": "markdown",
   "id": "78f594d1",
   "metadata": {
    "deletable": false,
    "editable": false,
    "id": "827c20bf"
   },
   "source": [
    "Во второй части проекта вы выполните шаги 3 и 4. Их вручную проверит ревьюер.\n",
    "Чтобы вам не пришлось писать код заново для шагов 1 и 2, мы добавили авторские решения в ячейки с кодом. \n",
    "\n"
   ]
  },
  {
   "cell_type": "markdown",
   "id": "b8c4f380",
   "metadata": {
    "deletable": false,
    "editable": false,
    "id": "744d7639"
   },
   "source": [
    "## Откройте таблицу и изучите общую информацию о данных"
   ]
  },
  {
   "cell_type": "markdown",
   "id": "d58311c1",
   "metadata": {
    "deletable": false,
    "editable": false,
    "id": "e7a14c31"
   },
   "source": [
    "**Задание 1. Импортируйте библиотеку pandas. Считайте данные из csv-файла в датафрейм и сохраните в переменную `data`. Путь к файлу:**\n",
    "\n",
    "`/datasets/data.csv`"
   ]
  },
  {
   "cell_type": "code",
   "execution_count": 1,
   "id": "09215b2e",
   "metadata": {
    "deletable": false,
    "id": "7bcf75c9"
   },
   "outputs": [],
   "source": [
    "import pandas as pd\n",
    "import os"
   ]
  },
  {
   "cell_type": "code",
   "execution_count": 2,
   "id": "27830f95-98a7-429f-8d9b-90204b006732",
   "metadata": {},
   "outputs": [],
   "source": [
    "pth1 = 'C:/pr/pr_1/data.csv' \n",
    "pth2 = '/datasets/data.csv'\n",
    "\n",
    "if os.path.exists(pth1):\n",
    "    data = pd.read_csv(pth1)\n",
    "elif os.path.exists(pth2):\n",
    "    data = pd.read_csv(pth2)\n",
    "else:\n",
    "    print('Something is wrong')"
   ]
  },
  {
   "cell_type": "markdown",
   "id": "68b4bd42",
   "metadata": {
    "deletable": false,
    "editable": false,
    "id": "b8038fe3"
   },
   "source": [
    "**Задание 2. Выведите первые 20 строчек датафрейма `data` на экран.**"
   ]
  },
  {
   "cell_type": "code",
   "execution_count": 3,
   "id": "6aa530ce",
   "metadata": {
    "deletable": false,
    "id": "2a7cab99",
    "outputId": "1a8f3ef2-d323-4ec2-ddf7-89670b5944c4"
   },
   "outputs": [
    {
     "data": {
      "text/html": [
       "<div>\n",
       "<style scoped>\n",
       "    .dataframe tbody tr th:only-of-type {\n",
       "        vertical-align: middle;\n",
       "    }\n",
       "\n",
       "    .dataframe tbody tr th {\n",
       "        vertical-align: top;\n",
       "    }\n",
       "\n",
       "    .dataframe thead th {\n",
       "        text-align: right;\n",
       "    }\n",
       "</style>\n",
       "<table border=\"1\" class=\"dataframe\">\n",
       "  <thead>\n",
       "    <tr style=\"text-align: right;\">\n",
       "      <th></th>\n",
       "      <th>children</th>\n",
       "      <th>days_employed</th>\n",
       "      <th>dob_years</th>\n",
       "      <th>education</th>\n",
       "      <th>education_id</th>\n",
       "      <th>family_status</th>\n",
       "      <th>family_status_id</th>\n",
       "      <th>gender</th>\n",
       "      <th>income_type</th>\n",
       "      <th>debt</th>\n",
       "      <th>total_income</th>\n",
       "      <th>purpose</th>\n",
       "    </tr>\n",
       "  </thead>\n",
       "  <tbody>\n",
       "    <tr>\n",
       "      <th>0</th>\n",
       "      <td>1</td>\n",
       "      <td>-8437.673028</td>\n",
       "      <td>42</td>\n",
       "      <td>высшее</td>\n",
       "      <td>0</td>\n",
       "      <td>женат / замужем</td>\n",
       "      <td>0</td>\n",
       "      <td>F</td>\n",
       "      <td>сотрудник</td>\n",
       "      <td>0</td>\n",
       "      <td>253875.639453</td>\n",
       "      <td>покупка жилья</td>\n",
       "    </tr>\n",
       "    <tr>\n",
       "      <th>1</th>\n",
       "      <td>1</td>\n",
       "      <td>-4024.803754</td>\n",
       "      <td>36</td>\n",
       "      <td>среднее</td>\n",
       "      <td>1</td>\n",
       "      <td>женат / замужем</td>\n",
       "      <td>0</td>\n",
       "      <td>F</td>\n",
       "      <td>сотрудник</td>\n",
       "      <td>0</td>\n",
       "      <td>112080.014102</td>\n",
       "      <td>приобретение автомобиля</td>\n",
       "    </tr>\n",
       "    <tr>\n",
       "      <th>2</th>\n",
       "      <td>0</td>\n",
       "      <td>-5623.422610</td>\n",
       "      <td>33</td>\n",
       "      <td>Среднее</td>\n",
       "      <td>1</td>\n",
       "      <td>женат / замужем</td>\n",
       "      <td>0</td>\n",
       "      <td>M</td>\n",
       "      <td>сотрудник</td>\n",
       "      <td>0</td>\n",
       "      <td>145885.952297</td>\n",
       "      <td>покупка жилья</td>\n",
       "    </tr>\n",
       "    <tr>\n",
       "      <th>3</th>\n",
       "      <td>3</td>\n",
       "      <td>-4124.747207</td>\n",
       "      <td>32</td>\n",
       "      <td>среднее</td>\n",
       "      <td>1</td>\n",
       "      <td>женат / замужем</td>\n",
       "      <td>0</td>\n",
       "      <td>M</td>\n",
       "      <td>сотрудник</td>\n",
       "      <td>0</td>\n",
       "      <td>267628.550329</td>\n",
       "      <td>дополнительное образование</td>\n",
       "    </tr>\n",
       "    <tr>\n",
       "      <th>4</th>\n",
       "      <td>0</td>\n",
       "      <td>340266.072047</td>\n",
       "      <td>53</td>\n",
       "      <td>среднее</td>\n",
       "      <td>1</td>\n",
       "      <td>гражданский брак</td>\n",
       "      <td>1</td>\n",
       "      <td>F</td>\n",
       "      <td>пенсионер</td>\n",
       "      <td>0</td>\n",
       "      <td>158616.077870</td>\n",
       "      <td>сыграть свадьбу</td>\n",
       "    </tr>\n",
       "    <tr>\n",
       "      <th>5</th>\n",
       "      <td>0</td>\n",
       "      <td>-926.185831</td>\n",
       "      <td>27</td>\n",
       "      <td>высшее</td>\n",
       "      <td>0</td>\n",
       "      <td>гражданский брак</td>\n",
       "      <td>1</td>\n",
       "      <td>M</td>\n",
       "      <td>компаньон</td>\n",
       "      <td>0</td>\n",
       "      <td>255763.565419</td>\n",
       "      <td>покупка жилья</td>\n",
       "    </tr>\n",
       "    <tr>\n",
       "      <th>6</th>\n",
       "      <td>0</td>\n",
       "      <td>-2879.202052</td>\n",
       "      <td>43</td>\n",
       "      <td>высшее</td>\n",
       "      <td>0</td>\n",
       "      <td>женат / замужем</td>\n",
       "      <td>0</td>\n",
       "      <td>F</td>\n",
       "      <td>компаньон</td>\n",
       "      <td>0</td>\n",
       "      <td>240525.971920</td>\n",
       "      <td>операции с жильем</td>\n",
       "    </tr>\n",
       "    <tr>\n",
       "      <th>7</th>\n",
       "      <td>0</td>\n",
       "      <td>-152.779569</td>\n",
       "      <td>50</td>\n",
       "      <td>СРЕДНЕЕ</td>\n",
       "      <td>1</td>\n",
       "      <td>женат / замужем</td>\n",
       "      <td>0</td>\n",
       "      <td>M</td>\n",
       "      <td>сотрудник</td>\n",
       "      <td>0</td>\n",
       "      <td>135823.934197</td>\n",
       "      <td>образование</td>\n",
       "    </tr>\n",
       "    <tr>\n",
       "      <th>8</th>\n",
       "      <td>2</td>\n",
       "      <td>-6929.865299</td>\n",
       "      <td>35</td>\n",
       "      <td>ВЫСШЕЕ</td>\n",
       "      <td>0</td>\n",
       "      <td>гражданский брак</td>\n",
       "      <td>1</td>\n",
       "      <td>F</td>\n",
       "      <td>сотрудник</td>\n",
       "      <td>0</td>\n",
       "      <td>95856.832424</td>\n",
       "      <td>на проведение свадьбы</td>\n",
       "    </tr>\n",
       "    <tr>\n",
       "      <th>9</th>\n",
       "      <td>0</td>\n",
       "      <td>-2188.756445</td>\n",
       "      <td>41</td>\n",
       "      <td>среднее</td>\n",
       "      <td>1</td>\n",
       "      <td>женат / замужем</td>\n",
       "      <td>0</td>\n",
       "      <td>M</td>\n",
       "      <td>сотрудник</td>\n",
       "      <td>0</td>\n",
       "      <td>144425.938277</td>\n",
       "      <td>покупка жилья для семьи</td>\n",
       "    </tr>\n",
       "    <tr>\n",
       "      <th>10</th>\n",
       "      <td>2</td>\n",
       "      <td>-4171.483647</td>\n",
       "      <td>36</td>\n",
       "      <td>высшее</td>\n",
       "      <td>0</td>\n",
       "      <td>женат / замужем</td>\n",
       "      <td>0</td>\n",
       "      <td>M</td>\n",
       "      <td>компаньон</td>\n",
       "      <td>0</td>\n",
       "      <td>113943.491460</td>\n",
       "      <td>покупка недвижимости</td>\n",
       "    </tr>\n",
       "    <tr>\n",
       "      <th>11</th>\n",
       "      <td>0</td>\n",
       "      <td>-792.701887</td>\n",
       "      <td>40</td>\n",
       "      <td>среднее</td>\n",
       "      <td>1</td>\n",
       "      <td>женат / замужем</td>\n",
       "      <td>0</td>\n",
       "      <td>F</td>\n",
       "      <td>сотрудник</td>\n",
       "      <td>0</td>\n",
       "      <td>77069.234271</td>\n",
       "      <td>покупка коммерческой недвижимости</td>\n",
       "    </tr>\n",
       "    <tr>\n",
       "      <th>12</th>\n",
       "      <td>0</td>\n",
       "      <td>NaN</td>\n",
       "      <td>65</td>\n",
       "      <td>среднее</td>\n",
       "      <td>1</td>\n",
       "      <td>гражданский брак</td>\n",
       "      <td>1</td>\n",
       "      <td>M</td>\n",
       "      <td>пенсионер</td>\n",
       "      <td>0</td>\n",
       "      <td>NaN</td>\n",
       "      <td>сыграть свадьбу</td>\n",
       "    </tr>\n",
       "    <tr>\n",
       "      <th>13</th>\n",
       "      <td>0</td>\n",
       "      <td>-1846.641941</td>\n",
       "      <td>54</td>\n",
       "      <td>неоконченное высшее</td>\n",
       "      <td>2</td>\n",
       "      <td>женат / замужем</td>\n",
       "      <td>0</td>\n",
       "      <td>F</td>\n",
       "      <td>сотрудник</td>\n",
       "      <td>0</td>\n",
       "      <td>130458.228857</td>\n",
       "      <td>приобретение автомобиля</td>\n",
       "    </tr>\n",
       "    <tr>\n",
       "      <th>14</th>\n",
       "      <td>0</td>\n",
       "      <td>-1844.956182</td>\n",
       "      <td>56</td>\n",
       "      <td>высшее</td>\n",
       "      <td>0</td>\n",
       "      <td>гражданский брак</td>\n",
       "      <td>1</td>\n",
       "      <td>F</td>\n",
       "      <td>компаньон</td>\n",
       "      <td>1</td>\n",
       "      <td>165127.911772</td>\n",
       "      <td>покупка жилой недвижимости</td>\n",
       "    </tr>\n",
       "    <tr>\n",
       "      <th>15</th>\n",
       "      <td>1</td>\n",
       "      <td>-972.364419</td>\n",
       "      <td>26</td>\n",
       "      <td>среднее</td>\n",
       "      <td>1</td>\n",
       "      <td>женат / замужем</td>\n",
       "      <td>0</td>\n",
       "      <td>F</td>\n",
       "      <td>сотрудник</td>\n",
       "      <td>0</td>\n",
       "      <td>116820.904450</td>\n",
       "      <td>строительство собственной недвижимости</td>\n",
       "    </tr>\n",
       "    <tr>\n",
       "      <th>16</th>\n",
       "      <td>0</td>\n",
       "      <td>-1719.934226</td>\n",
       "      <td>35</td>\n",
       "      <td>среднее</td>\n",
       "      <td>1</td>\n",
       "      <td>женат / замужем</td>\n",
       "      <td>0</td>\n",
       "      <td>F</td>\n",
       "      <td>сотрудник</td>\n",
       "      <td>0</td>\n",
       "      <td>289202.704229</td>\n",
       "      <td>недвижимость</td>\n",
       "    </tr>\n",
       "    <tr>\n",
       "      <th>17</th>\n",
       "      <td>0</td>\n",
       "      <td>-2369.999720</td>\n",
       "      <td>33</td>\n",
       "      <td>высшее</td>\n",
       "      <td>0</td>\n",
       "      <td>гражданский брак</td>\n",
       "      <td>1</td>\n",
       "      <td>M</td>\n",
       "      <td>сотрудник</td>\n",
       "      <td>0</td>\n",
       "      <td>90410.586745</td>\n",
       "      <td>строительство недвижимости</td>\n",
       "    </tr>\n",
       "    <tr>\n",
       "      <th>18</th>\n",
       "      <td>0</td>\n",
       "      <td>400281.136913</td>\n",
       "      <td>53</td>\n",
       "      <td>среднее</td>\n",
       "      <td>1</td>\n",
       "      <td>вдовец / вдова</td>\n",
       "      <td>2</td>\n",
       "      <td>F</td>\n",
       "      <td>пенсионер</td>\n",
       "      <td>0</td>\n",
       "      <td>56823.777243</td>\n",
       "      <td>на покупку подержанного автомобиля</td>\n",
       "    </tr>\n",
       "    <tr>\n",
       "      <th>19</th>\n",
       "      <td>0</td>\n",
       "      <td>-10038.818549</td>\n",
       "      <td>48</td>\n",
       "      <td>СРЕДНЕЕ</td>\n",
       "      <td>1</td>\n",
       "      <td>в разводе</td>\n",
       "      <td>3</td>\n",
       "      <td>F</td>\n",
       "      <td>сотрудник</td>\n",
       "      <td>0</td>\n",
       "      <td>242831.107982</td>\n",
       "      <td>на покупку своего автомобиля</td>\n",
       "    </tr>\n",
       "  </tbody>\n",
       "</table>\n",
       "</div>"
      ],
      "text/plain": [
       "    children  days_employed  dob_years            education  education_id  \\\n",
       "0          1   -8437.673028         42               высшее             0   \n",
       "1          1   -4024.803754         36              среднее             1   \n",
       "2          0   -5623.422610         33              Среднее             1   \n",
       "3          3   -4124.747207         32              среднее             1   \n",
       "4          0  340266.072047         53              среднее             1   \n",
       "5          0    -926.185831         27               высшее             0   \n",
       "6          0   -2879.202052         43               высшее             0   \n",
       "7          0    -152.779569         50              СРЕДНЕЕ             1   \n",
       "8          2   -6929.865299         35               ВЫСШЕЕ             0   \n",
       "9          0   -2188.756445         41              среднее             1   \n",
       "10         2   -4171.483647         36               высшее             0   \n",
       "11         0    -792.701887         40              среднее             1   \n",
       "12         0            NaN         65              среднее             1   \n",
       "13         0   -1846.641941         54  неоконченное высшее             2   \n",
       "14         0   -1844.956182         56               высшее             0   \n",
       "15         1    -972.364419         26              среднее             1   \n",
       "16         0   -1719.934226         35              среднее             1   \n",
       "17         0   -2369.999720         33               высшее             0   \n",
       "18         0  400281.136913         53              среднее             1   \n",
       "19         0  -10038.818549         48              СРЕДНЕЕ             1   \n",
       "\n",
       "       family_status  family_status_id gender income_type  debt  \\\n",
       "0    женат / замужем                 0      F   сотрудник     0   \n",
       "1    женат / замужем                 0      F   сотрудник     0   \n",
       "2    женат / замужем                 0      M   сотрудник     0   \n",
       "3    женат / замужем                 0      M   сотрудник     0   \n",
       "4   гражданский брак                 1      F   пенсионер     0   \n",
       "5   гражданский брак                 1      M   компаньон     0   \n",
       "6    женат / замужем                 0      F   компаньон     0   \n",
       "7    женат / замужем                 0      M   сотрудник     0   \n",
       "8   гражданский брак                 1      F   сотрудник     0   \n",
       "9    женат / замужем                 0      M   сотрудник     0   \n",
       "10   женат / замужем                 0      M   компаньон     0   \n",
       "11   женат / замужем                 0      F   сотрудник     0   \n",
       "12  гражданский брак                 1      M   пенсионер     0   \n",
       "13   женат / замужем                 0      F   сотрудник     0   \n",
       "14  гражданский брак                 1      F   компаньон     1   \n",
       "15   женат / замужем                 0      F   сотрудник     0   \n",
       "16   женат / замужем                 0      F   сотрудник     0   \n",
       "17  гражданский брак                 1      M   сотрудник     0   \n",
       "18    вдовец / вдова                 2      F   пенсионер     0   \n",
       "19         в разводе                 3      F   сотрудник     0   \n",
       "\n",
       "     total_income                                 purpose  \n",
       "0   253875.639453                           покупка жилья  \n",
       "1   112080.014102                 приобретение автомобиля  \n",
       "2   145885.952297                           покупка жилья  \n",
       "3   267628.550329              дополнительное образование  \n",
       "4   158616.077870                         сыграть свадьбу  \n",
       "5   255763.565419                           покупка жилья  \n",
       "6   240525.971920                       операции с жильем  \n",
       "7   135823.934197                             образование  \n",
       "8    95856.832424                   на проведение свадьбы  \n",
       "9   144425.938277                 покупка жилья для семьи  \n",
       "10  113943.491460                    покупка недвижимости  \n",
       "11   77069.234271       покупка коммерческой недвижимости  \n",
       "12            NaN                         сыграть свадьбу  \n",
       "13  130458.228857                 приобретение автомобиля  \n",
       "14  165127.911772              покупка жилой недвижимости  \n",
       "15  116820.904450  строительство собственной недвижимости  \n",
       "16  289202.704229                            недвижимость  \n",
       "17   90410.586745              строительство недвижимости  \n",
       "18   56823.777243      на покупку подержанного автомобиля  \n",
       "19  242831.107982            на покупку своего автомобиля  "
      ]
     },
     "execution_count": 3,
     "metadata": {},
     "output_type": "execute_result"
    }
   ],
   "source": [
    "data.head(20)"
   ]
  },
  {
   "cell_type": "markdown",
   "id": "600852dd",
   "metadata": {
    "deletable": false,
    "editable": false,
    "id": "1c12e233"
   },
   "source": [
    "**Задание 3. Выведите основную информацию о датафрейме с помощью метода `info()`.**"
   ]
  },
  {
   "cell_type": "code",
   "execution_count": 4,
   "id": "bf470f09",
   "metadata": {
    "deletable": false,
    "id": "2b757bca",
    "outputId": "15376089-8dad-46c9-b520-c05248d43158"
   },
   "outputs": [
    {
     "name": "stdout",
     "output_type": "stream",
     "text": [
      "<class 'pandas.core.frame.DataFrame'>\n",
      "RangeIndex: 21525 entries, 0 to 21524\n",
      "Data columns (total 12 columns):\n",
      " #   Column            Non-Null Count  Dtype  \n",
      "---  ------            --------------  -----  \n",
      " 0   children          21525 non-null  int64  \n",
      " 1   days_employed     19351 non-null  float64\n",
      " 2   dob_years         21525 non-null  int64  \n",
      " 3   education         21525 non-null  object \n",
      " 4   education_id      21525 non-null  int64  \n",
      " 5   family_status     21525 non-null  object \n",
      " 6   family_status_id  21525 non-null  int64  \n",
      " 7   gender            21525 non-null  object \n",
      " 8   income_type       21525 non-null  object \n",
      " 9   debt              21525 non-null  int64  \n",
      " 10  total_income      19351 non-null  float64\n",
      " 11  purpose           21525 non-null  object \n",
      "dtypes: float64(2), int64(5), object(5)\n",
      "memory usage: 2.0+ MB\n"
     ]
    }
   ],
   "source": [
    "data.info()"
   ]
  },
  {
   "cell_type": "markdown",
   "id": "3ee750cf",
   "metadata": {
    "deletable": false,
    "editable": false,
    "id": "333ec665"
   },
   "source": [
    "## Предобработка данных"
   ]
  },
  {
   "cell_type": "markdown",
   "id": "ac279414",
   "metadata": {
    "deletable": false,
    "editable": false,
    "id": "02d92d53"
   },
   "source": [
    "### Удаление пропусков"
   ]
  },
  {
   "cell_type": "markdown",
   "id": "a68b9439",
   "metadata": {
    "deletable": false,
    "editable": false,
    "id": "cd84967c"
   },
   "source": [
    "**Задание 4. Выведите количество пропущенных значений для каждого столбца. Используйте комбинацию двух методов.**"
   ]
  },
  {
   "cell_type": "code",
   "execution_count": 5,
   "id": "3ebc594a",
   "metadata": {
    "deletable": false,
    "id": "7f9b2309",
    "outputId": "81f4d817-781c-465c-ed15-91ce4446810d"
   },
   "outputs": [
    {
     "data": {
      "text/plain": [
       "children               0\n",
       "days_employed       2174\n",
       "dob_years              0\n",
       "education              0\n",
       "education_id           0\n",
       "family_status          0\n",
       "family_status_id       0\n",
       "gender                 0\n",
       "income_type            0\n",
       "debt                   0\n",
       "total_income        2174\n",
       "purpose                0\n",
       "dtype: int64"
      ]
     },
     "execution_count": 5,
     "metadata": {},
     "output_type": "execute_result"
    }
   ],
   "source": [
    "data.isna().sum()"
   ]
  },
  {
   "cell_type": "markdown",
   "id": "6b1470c0",
   "metadata": {
    "deletable": false,
    "editable": false,
    "id": "db86e27b"
   },
   "source": [
    "**Задание 5. В двух столбцах есть пропущенные значения. Один из них — `days_employed`. Пропуски в этом столбце вы обработаете на следующем этапе. Другой столбец с пропущенными значениями — `total_income` — хранит данные о доходах. На сумму дохода сильнее всего влияет тип занятости, поэтому заполнить пропуски в этом столбце нужно медианным значением по каждому типу из столбца `income_type`. Например, у человека с типом занятости `сотрудник` пропуск в столбце `total_income` должен быть заполнен медианным доходом среди всех записей с тем же типом.**"
   ]
  },
  {
   "cell_type": "code",
   "execution_count": 6,
   "id": "ffb42a25",
   "metadata": {
    "deletable": false,
    "id": "42006a93"
   },
   "outputs": [],
   "source": [
    "for t in data['income_type'].unique():\n",
    "    data.loc[(data['income_type'] == t) & (data['total_income'].isna()), 'total_income'] = \\\n",
    "    data.loc[(data['income_type'] == t), 'total_income'].median()"
   ]
  },
  {
   "cell_type": "markdown",
   "id": "2ebf3e2e",
   "metadata": {
    "deletable": false,
    "editable": false,
    "id": "89da5ece"
   },
   "source": [
    "### Обработка аномальных значений"
   ]
  },
  {
   "cell_type": "markdown",
   "id": "63719b42",
   "metadata": {
    "deletable": false,
    "editable": false,
    "id": "57964554"
   },
   "source": [
    "**Задание 6. В данных могут встречаться артефакты (аномалии) — значения, которые не отражают действительность и появились по какой-то ошибке. таким артефактом будет отрицательное количество дней трудового стажа в столбце `days_employed`. Для реальных данных это нормально. Обработайте значения в этом столбце: замените все отрицательные значения положительными с помощью метода `abs()`.**"
   ]
  },
  {
   "cell_type": "code",
   "execution_count": 7,
   "id": "d746a418",
   "metadata": {
    "deletable": false,
    "id": "f6f055bf"
   },
   "outputs": [],
   "source": [
    "data['days_employed'] = data['days_employed'].abs()"
   ]
  },
  {
   "cell_type": "markdown",
   "id": "455b240c",
   "metadata": {
    "deletable": false,
    "editable": false,
    "id": "6107dd2f"
   },
   "source": [
    "**Задание 7. Для каждого типа занятости выведите медианное значение трудового стажа `days_employed` в днях.**"
   ]
  },
  {
   "cell_type": "code",
   "execution_count": 8,
   "id": "a64b3b6d",
   "metadata": {
    "deletable": false,
    "id": "85a5faf6",
    "outputId": "801ef80e-522b-4668-f34e-565af7432bcf"
   },
   "outputs": [
    {
     "data": {
      "text/plain": [
       "income_type\n",
       "безработный        366413.652744\n",
       "в декрете            3296.759962\n",
       "госслужащий          2689.368353\n",
       "компаньон            1547.382223\n",
       "пенсионер          365213.306266\n",
       "предприниматель       520.848083\n",
       "сотрудник            1574.202821\n",
       "студент               578.751554\n",
       "Name: days_employed, dtype: float64"
      ]
     },
     "execution_count": 8,
     "metadata": {},
     "output_type": "execute_result"
    }
   ],
   "source": [
    "data.groupby('income_type')['days_employed'].agg('median')"
   ]
  },
  {
   "cell_type": "markdown",
   "id": "3534454c",
   "metadata": {
    "deletable": false,
    "editable": false,
    "id": "38d1a030"
   },
   "source": [
    "У двух типов (безработные и пенсионеры) получатся аномально большие значения. Исправить такие значения сложно, поэтому оставьте их как есть. Тем более этот столбец не понадобится вам для исследования."
   ]
  },
  {
   "cell_type": "markdown",
   "id": "b21de6f4",
   "metadata": {
    "deletable": false,
    "editable": false,
    "id": "d8a9f147"
   },
   "source": [
    "**Задание 8. Выведите перечень уникальных значений столбца `children`.**"
   ]
  },
  {
   "cell_type": "code",
   "execution_count": 9,
   "id": "2857e410",
   "metadata": {
    "deletable": false,
    "id": "ef5056eb",
    "outputId": "6975b15c-7f95-4697-d16d-a0c79b657b03"
   },
   "outputs": [
    {
     "data": {
      "text/plain": [
       "array([ 1,  0,  3,  2, -1,  4, 20,  5], dtype=int64)"
      ]
     },
     "execution_count": 9,
     "metadata": {},
     "output_type": "execute_result"
    }
   ],
   "source": [
    "data['children'].unique()"
   ]
  },
  {
   "cell_type": "markdown",
   "id": "fe90b9b4",
   "metadata": {
    "deletable": false,
    "editable": false,
    "id": "40b9ebf2"
   },
   "source": [
    "**Задание 9. В столбце `children` есть два аномальных значения. Удалите строки, в которых встречаются такие аномальные значения из датафрейма `data`.**"
   ]
  },
  {
   "cell_type": "code",
   "execution_count": 10,
   "id": "8d2e288f",
   "metadata": {
    "deletable": false,
    "id": "3ff9801d"
   },
   "outputs": [],
   "source": [
    "data = data[(data['children'] != -1) & (data['children'] != 20)]"
   ]
  },
  {
   "cell_type": "markdown",
   "id": "33a2ebb3",
   "metadata": {
    "deletable": false,
    "editable": false,
    "id": "bbc4d0ce"
   },
   "source": [
    "**Задание 10. Ещё раз выведите перечень уникальных значений столбца `children`, чтобы убедиться, что артефакты удалены.**"
   ]
  },
  {
   "cell_type": "code",
   "execution_count": 11,
   "id": "99cd7ca0",
   "metadata": {
    "deletable": false,
    "id": "ad4fa8b7",
    "outputId": "b2097101-d49d-44d9-901b-32a65c9463d1"
   },
   "outputs": [
    {
     "data": {
      "text/plain": [
       "array([1, 0, 3, 2, 4, 5], dtype=int64)"
      ]
     },
     "execution_count": 11,
     "metadata": {},
     "output_type": "execute_result"
    }
   ],
   "source": [
    "data['children'].unique()"
   ]
  },
  {
   "cell_type": "markdown",
   "id": "2a579e9b",
   "metadata": {
    "deletable": false,
    "editable": false,
    "id": "75440b63"
   },
   "source": [
    "### Удаление пропусков (продолжение)"
   ]
  },
  {
   "cell_type": "markdown",
   "id": "f8771c1a",
   "metadata": {
    "deletable": false,
    "editable": false,
    "id": "f4ea573f"
   },
   "source": [
    "**Задание 11. Заполните пропуски в столбце `days_employed` медианными значениями по каждого типа занятости `income_type`.**"
   ]
  },
  {
   "cell_type": "code",
   "execution_count": 12,
   "id": "2b24afe5",
   "metadata": {
    "deletable": false,
    "id": "af6b1a7e"
   },
   "outputs": [],
   "source": [
    "for t in data['income_type'].unique():\n",
    "    data.loc[(data['income_type'] == t) & (data['days_employed'].isna()), 'days_employed'] = \\\n",
    "    data.loc[(data['income_type'] == t), 'days_employed'].median()"
   ]
  },
  {
   "cell_type": "markdown",
   "id": "a55c3c51",
   "metadata": {
    "deletable": false,
    "editable": false,
    "id": "2753f40d"
   },
   "source": [
    "**Задание 12. Убедитесь, что все пропуски заполнены. Проверьте себя и ещё раз выведите количество пропущенных значений для каждого столбца с помощью двух методов.**"
   ]
  },
  {
   "cell_type": "code",
   "execution_count": 13,
   "id": "c033151e",
   "metadata": {
    "deletable": false,
    "id": "55f78bc2",
    "outputId": "8da1e4e1-358e-4e87-98c9-f261bce0a7b2"
   },
   "outputs": [
    {
     "data": {
      "text/plain": [
       "children            0\n",
       "days_employed       0\n",
       "dob_years           0\n",
       "education           0\n",
       "education_id        0\n",
       "family_status       0\n",
       "family_status_id    0\n",
       "gender              0\n",
       "income_type         0\n",
       "debt                0\n",
       "total_income        0\n",
       "purpose             0\n",
       "dtype: int64"
      ]
     },
     "execution_count": 13,
     "metadata": {},
     "output_type": "execute_result"
    }
   ],
   "source": [
    "data.isna().sum()"
   ]
  },
  {
   "cell_type": "markdown",
   "id": "c3897213",
   "metadata": {
    "deletable": false,
    "editable": false,
    "id": "ddc81e43"
   },
   "source": [
    "### Изменение типов данных"
   ]
  },
  {
   "cell_type": "markdown",
   "id": "c305c355",
   "metadata": {
    "deletable": false,
    "editable": false,
    "id": "42d19d24"
   },
   "source": [
    "**Задание 13. Замените вещественный тип данных в столбце `total_income` на целочисленный с помощью метода `astype()`.**"
   ]
  },
  {
   "cell_type": "code",
   "execution_count": 14,
   "id": "8cf8c9b0",
   "metadata": {
    "deletable": false,
    "id": "920b65ad"
   },
   "outputs": [],
   "source": [
    "data['total_income'] = data['total_income'].astype(int)"
   ]
  },
  {
   "cell_type": "markdown",
   "id": "1e35736f",
   "metadata": {
    "deletable": false,
    "editable": false,
    "id": "80c420ba"
   },
   "source": [
    "### Обработка дубликатов"
   ]
  },
  {
   "cell_type": "markdown",
   "id": "f07a2e31",
   "metadata": {
    "deletable": false,
    "editable": false
   },
   "source": [
    "**Задание 14. Обработайте неявные дубликаты в столбце `education`. В этом столбце есть одни и те же значения, но записанные по-разному: с использованием заглавных и строчных букв. Приведите их к нижнему регистру. Проверьте остальные столбцы.**"
   ]
  },
  {
   "cell_type": "code",
   "execution_count": 15,
   "id": "2d2c4a10",
   "metadata": {
    "deletable": false
   },
   "outputs": [],
   "source": [
    "data['education'] = data['education'].str.lower()"
   ]
  },
  {
   "cell_type": "markdown",
   "id": "b4c401e0",
   "metadata": {
    "deletable": false,
    "editable": false,
    "id": "dc587695"
   },
   "source": [
    "**Задание 15. Выведите на экран количество строк-дубликатов в данных. Если такие строки присутствуют, удалите их.**"
   ]
  },
  {
   "cell_type": "code",
   "execution_count": 16,
   "id": "3d47c4cf",
   "metadata": {
    "deletable": false,
    "id": "3ee445e4",
    "outputId": "9684deba-1934-42d1-99e1-cda61740f822"
   },
   "outputs": [
    {
     "data": {
      "text/plain": [
       "71"
      ]
     },
     "execution_count": 16,
     "metadata": {},
     "output_type": "execute_result"
    }
   ],
   "source": [
    "data.duplicated().sum()"
   ]
  },
  {
   "cell_type": "code",
   "execution_count": 17,
   "id": "0b50252e",
   "metadata": {
    "deletable": false,
    "id": "8575fe05"
   },
   "outputs": [],
   "source": [
    "data = data.drop_duplicates()"
   ]
  },
  {
   "cell_type": "markdown",
   "id": "20312770",
   "metadata": {
    "deletable": false,
    "editable": false,
    "id": "9904cf55"
   },
   "source": [
    "### Категоризация данных"
   ]
  },
  {
   "cell_type": "markdown",
   "id": "d41db1ce",
   "metadata": {
    "deletable": false,
    "editable": false,
    "id": "72fcc8a2"
   },
   "source": [
    "**Задание 16. На основании диапазонов, указанных ниже, создайте в датафрейме `data` столбец `total_income_category` с категориями:**\n",
    "\n",
    "- 0–30000 — `'E'`;\n",
    "- 30001–50000 — `'D'`;\n",
    "- 50001–200000 — `'C'`;\n",
    "- 200001–1000000 — `'B'`;\n",
    "- 1000001 и выше — `'A'`.\n",
    "\n",
    "\n",
    "**Например, кредитополучателю с доходом 25000 нужно назначить категорию `'E'`, а клиенту, получающему 235000, — `'B'`. Используйте собственную функцию с именем `categorize_income()` и метод `apply()`.**"
   ]
  },
  {
   "cell_type": "code",
   "execution_count": 18,
   "id": "14696518",
   "metadata": {
    "deletable": false,
    "id": "e1771346"
   },
   "outputs": [],
   "source": [
    "def categorize_income(income):\n",
    "    try:\n",
    "        if 0 <= income <= 30000:\n",
    "            return 'E'\n",
    "        elif 30001 <= income <= 50000:\n",
    "            return 'D'\n",
    "        elif 50001 <= income <= 200000:\n",
    "            return 'C'\n",
    "        elif 200001 <= income <= 1000000:\n",
    "            return 'B'\n",
    "        elif income >= 1000001:\n",
    "            return 'A'\n",
    "    except:\n",
    "        pass"
   ]
  },
  {
   "cell_type": "code",
   "execution_count": 19,
   "id": "fd8f3005",
   "metadata": {
    "deletable": false,
    "id": "d5f3586d"
   },
   "outputs": [],
   "source": [
    "data['total_income_category'] = data['total_income'].apply(categorize_income)"
   ]
  },
  {
   "cell_type": "markdown",
   "id": "24588154",
   "metadata": {
    "deletable": false,
    "editable": false,
    "id": "dde49b5c"
   },
   "source": [
    "**Задание 17. Выведите на экран перечень уникальных целей взятия кредита из столбца `purpose`.**"
   ]
  },
  {
   "cell_type": "code",
   "execution_count": 20,
   "id": "1016ca3a",
   "metadata": {
    "deletable": false,
    "id": "f67ce9b3",
    "outputId": "673c12d9-7d7e-4ae0-9812-c622c89dd244"
   },
   "outputs": [
    {
     "data": {
      "text/plain": [
       "array(['покупка жилья', 'приобретение автомобиля',\n",
       "       'дополнительное образование', 'сыграть свадьбу',\n",
       "       'операции с жильем', 'образование', 'на проведение свадьбы',\n",
       "       'покупка жилья для семьи', 'покупка недвижимости',\n",
       "       'покупка коммерческой недвижимости', 'покупка жилой недвижимости',\n",
       "       'строительство собственной недвижимости', 'недвижимость',\n",
       "       'строительство недвижимости', 'на покупку подержанного автомобиля',\n",
       "       'на покупку своего автомобиля',\n",
       "       'операции с коммерческой недвижимостью',\n",
       "       'строительство жилой недвижимости', 'жилье',\n",
       "       'операции со своей недвижимостью', 'автомобили',\n",
       "       'заняться образованием', 'сделка с подержанным автомобилем',\n",
       "       'получение образования', 'автомобиль', 'свадьба',\n",
       "       'получение дополнительного образования', 'покупка своего жилья',\n",
       "       'операции с недвижимостью', 'получение высшего образования',\n",
       "       'свой автомобиль', 'сделка с автомобилем',\n",
       "       'профильное образование', 'высшее образование',\n",
       "       'покупка жилья для сдачи', 'на покупку автомобиля', 'ремонт жилью',\n",
       "       'заняться высшим образованием'], dtype=object)"
      ]
     },
     "execution_count": 20,
     "metadata": {},
     "output_type": "execute_result"
    }
   ],
   "source": [
    "data['purpose'].unique()"
   ]
  },
  {
   "cell_type": "markdown",
   "id": "7ed4247f",
   "metadata": {
    "deletable": false,
    "editable": false,
    "id": "85d0aef0"
   },
   "source": [
    "**Задание 18. Создайте функцию, которая на основании данных из столбца `purpose` сформирует новый столбец `purpose_category`, в который войдут следующие категории:**\n",
    "\n",
    "- `'операции с автомобилем'`,\n",
    "- `'операции с недвижимостью'`,\n",
    "- `'проведение свадьбы'`,\n",
    "- `'получение образования'`.\n",
    "\n",
    "**Например, если в столбце `purpose` находится подстрока `'на покупку автомобиля'`, то в столбце `purpose_category` должна появиться строка `'операции с автомобилем'`.**\n",
    "\n",
    "**Используйте собственную функцию с именем `categorize_purpose()` и метод `apply()`. Изучите данные в столбце `purpose` и определите, какие подстроки помогут вам правильно определить категорию.**"
   ]
  },
  {
   "cell_type": "code",
   "execution_count": 21,
   "id": "26b3bdef",
   "metadata": {
    "deletable": false,
    "id": "e149fab4"
   },
   "outputs": [],
   "source": [
    "def categorize_purpose(row):\n",
    "    try:\n",
    "        if 'автом' in row:\n",
    "            return 'операции с автомобилем'\n",
    "        elif 'жил' in row or 'недвиж' in row:\n",
    "            return 'операции с недвижимостью'\n",
    "        elif 'свад' in row:\n",
    "            return 'проведение свадьбы'\n",
    "        elif 'образов' in row:\n",
    "            return 'получение образования'\n",
    "    except:\n",
    "        return 'нет категории'"
   ]
  },
  {
   "cell_type": "code",
   "execution_count": 22,
   "id": "86f178ef",
   "metadata": {
    "deletable": false,
    "id": "bf36e69b"
   },
   "outputs": [],
   "source": [
    "data['purpose_category'] = data['purpose'].apply(categorize_purpose)"
   ]
  },
  {
   "cell_type": "markdown",
   "id": "6d46e705",
   "metadata": {
    "deletable": false,
    "editable": false,
    "id": "09b242bf"
   },
   "source": [
    "### Шаг 3. Исследуйте данные и ответьте на вопросы"
   ]
  },
  {
   "cell_type": "markdown",
   "id": "19f83d7c",
   "metadata": {
    "deletable": false,
    "editable": false,
    "id": "c5d66278"
   },
   "source": [
    "#### 3.1 Есть ли зависимость между количеством детей и возвратом кредита в срок?"
   ]
  },
  {
   "cell_type": "code",
   "execution_count": 23,
   "id": "14260b1e",
   "metadata": {},
   "outputs": [],
   "source": [
    "table = [] # Создаём пустой список, чтобы записать в него результат функции\n",
    "def piv_table(a): # Создаём функцию\n",
    "    table = data.pivot_table(index=a, values='debt', aggfunc=('mean', 'count', 'sum')) # Создаём сводную таблицу\n",
    "    table.columns = ['Количество', 'Процент должников', 'Количество должников'] # Переименовываем столбцы таблицы\n",
    "    table['Процент должников'] = table['Процент должников'].map('{:.2%}'.format) # Меняем формат вывода из десятичной дроби на проценты\n",
    "    table = table.reset_index() # Делаем таблицу более удобочитаемой\n",
    "    return table"
   ]
  },
  {
   "cell_type": "code",
   "execution_count": 24,
   "id": "38ca9c0c",
   "metadata": {
    "deletable": false,
    "id": "2cacfc4a"
   },
   "outputs": [
    {
     "data": {
      "text/html": [
       "<div>\n",
       "<style scoped>\n",
       "    .dataframe tbody tr th:only-of-type {\n",
       "        vertical-align: middle;\n",
       "    }\n",
       "\n",
       "    .dataframe tbody tr th {\n",
       "        vertical-align: top;\n",
       "    }\n",
       "\n",
       "    .dataframe thead th {\n",
       "        text-align: right;\n",
       "    }\n",
       "</style>\n",
       "<table border=\"1\" class=\"dataframe\">\n",
       "  <thead>\n",
       "    <tr style=\"text-align: right;\">\n",
       "      <th></th>\n",
       "      <th>children</th>\n",
       "      <th>Количество</th>\n",
       "      <th>Процент должников</th>\n",
       "      <th>Количество должников</th>\n",
       "    </tr>\n",
       "  </thead>\n",
       "  <tbody>\n",
       "    <tr>\n",
       "      <th>0</th>\n",
       "      <td>0</td>\n",
       "      <td>14091</td>\n",
       "      <td>7.54%</td>\n",
       "      <td>1063</td>\n",
       "    </tr>\n",
       "    <tr>\n",
       "      <th>1</th>\n",
       "      <td>1</td>\n",
       "      <td>4808</td>\n",
       "      <td>9.23%</td>\n",
       "      <td>444</td>\n",
       "    </tr>\n",
       "    <tr>\n",
       "      <th>2</th>\n",
       "      <td>2</td>\n",
       "      <td>2052</td>\n",
       "      <td>9.45%</td>\n",
       "      <td>194</td>\n",
       "    </tr>\n",
       "    <tr>\n",
       "      <th>3</th>\n",
       "      <td>3</td>\n",
       "      <td>330</td>\n",
       "      <td>8.18%</td>\n",
       "      <td>27</td>\n",
       "    </tr>\n",
       "    <tr>\n",
       "      <th>4</th>\n",
       "      <td>4</td>\n",
       "      <td>41</td>\n",
       "      <td>9.76%</td>\n",
       "      <td>4</td>\n",
       "    </tr>\n",
       "    <tr>\n",
       "      <th>5</th>\n",
       "      <td>5</td>\n",
       "      <td>9</td>\n",
       "      <td>0.00%</td>\n",
       "      <td>0</td>\n",
       "    </tr>\n",
       "  </tbody>\n",
       "</table>\n",
       "</div>"
      ],
      "text/plain": [
       "   children  Количество Процент должников  Количество должников\n",
       "0         0       14091             7.54%                  1063\n",
       "1         1        4808             9.23%                   444\n",
       "2         2        2052             9.45%                   194\n",
       "3         3         330             8.18%                    27\n",
       "4         4          41             9.76%                     4\n",
       "5         5           9             0.00%                     0"
      ]
     },
     "execution_count": 24,
     "metadata": {},
     "output_type": "execute_result"
    }
   ],
   "source": [
    "piv_table('children') # Применяем функцию столбцу с данными о количестве детей"
   ]
  },
  {
   "cell_type": "code",
   "execution_count": 25,
   "id": "f90a8cf8",
   "metadata": {},
   "outputs": [
    {
     "data": {
      "text/html": [
       "<div>\n",
       "<style scoped>\n",
       "    .dataframe tbody tr th:only-of-type {\n",
       "        vertical-align: middle;\n",
       "    }\n",
       "\n",
       "    .dataframe tbody tr th {\n",
       "        vertical-align: top;\n",
       "    }\n",
       "\n",
       "    .dataframe thead th {\n",
       "        text-align: right;\n",
       "    }\n",
       "</style>\n",
       "<table border=\"1\" class=\"dataframe\">\n",
       "  <thead>\n",
       "    <tr style=\"text-align: right;\">\n",
       "      <th></th>\n",
       "      <th>children_category</th>\n",
       "      <th>Количество</th>\n",
       "      <th>Процент должников</th>\n",
       "      <th>Количество должников</th>\n",
       "    </tr>\n",
       "  </thead>\n",
       "  <tbody>\n",
       "    <tr>\n",
       "      <th>0</th>\n",
       "      <td>0</td>\n",
       "      <td>14091</td>\n",
       "      <td>7.54%</td>\n",
       "      <td>1063</td>\n",
       "    </tr>\n",
       "    <tr>\n",
       "      <th>1</th>\n",
       "      <td>1</td>\n",
       "      <td>4808</td>\n",
       "      <td>9.23%</td>\n",
       "      <td>444</td>\n",
       "    </tr>\n",
       "    <tr>\n",
       "      <th>2</th>\n",
       "      <td>2</td>\n",
       "      <td>2052</td>\n",
       "      <td>9.45%</td>\n",
       "      <td>194</td>\n",
       "    </tr>\n",
       "    <tr>\n",
       "      <th>3</th>\n",
       "      <td>3+</td>\n",
       "      <td>380</td>\n",
       "      <td>8.16%</td>\n",
       "      <td>31</td>\n",
       "    </tr>\n",
       "  </tbody>\n",
       "</table>\n",
       "</div>"
      ],
      "text/plain": [
       "  children_category  Количество Процент должников  Количество должников\n",
       "0                 0       14091             7.54%                  1063\n",
       "1                 1        4808             9.23%                   444\n",
       "2                 2        2052             9.45%                   194\n",
       "3                3+         380             8.16%                    31"
      ]
     },
     "execution_count": 25,
     "metadata": {},
     "output_type": "execute_result"
    }
   ],
   "source": [
    "def categorize_children(row):\n",
    "    if row == 0:\n",
    "        return '0'\n",
    "    elif row == 1:\n",
    "        return '1'\n",
    "    elif row == 2:\n",
    "        return '2'\n",
    "    else: \n",
    "        return '3+'\n",
    "data['children_category'] = data['children'].apply(categorize_children)\n",
    "piv_table('children_category') "
   ]
  },
  {
   "cell_type": "markdown",
   "id": "77d60d87",
   "metadata": {
    "deletable": false,
    "id": "3a6b99ec"
   },
   "source": [
    "**Вывод:** По обобщённым данным видно, что наименьший процент задолженностей у клиентов без детей, а наибольший — у клиентов с двумя детьми. Также стоит отметить, что семьи с тремя и более детьми представлены относительно малой выборкой, на основе которой сложно сделать какие-либо выводы, так что не стоит исключать из потенциальной группы риска и их."
   ]
  },
  {
   "cell_type": "markdown",
   "id": "cdfbd91d",
   "metadata": {
    "deletable": false,
    "editable": false,
    "id": "97be82ca"
   },
   "source": [
    "#### 3.2 Есть ли зависимость между семейным положением и возвратом кредита в срок?"
   ]
  },
  {
   "cell_type": "code",
   "execution_count": 26,
   "id": "cb4746b8",
   "metadata": {
    "deletable": false,
    "id": "dc3f7ee8"
   },
   "outputs": [
    {
     "data": {
      "text/html": [
       "<div>\n",
       "<style scoped>\n",
       "    .dataframe tbody tr th:only-of-type {\n",
       "        vertical-align: middle;\n",
       "    }\n",
       "\n",
       "    .dataframe tbody tr th {\n",
       "        vertical-align: top;\n",
       "    }\n",
       "\n",
       "    .dataframe thead th {\n",
       "        text-align: right;\n",
       "    }\n",
       "</style>\n",
       "<table border=\"1\" class=\"dataframe\">\n",
       "  <thead>\n",
       "    <tr style=\"text-align: right;\">\n",
       "      <th></th>\n",
       "      <th>family_status</th>\n",
       "      <th>Количество</th>\n",
       "      <th>Процент должников</th>\n",
       "      <th>Количество должников</th>\n",
       "    </tr>\n",
       "  </thead>\n",
       "  <tbody>\n",
       "    <tr>\n",
       "      <th>0</th>\n",
       "      <td>Не женат / не замужем</td>\n",
       "      <td>2796</td>\n",
       "      <td>9.76%</td>\n",
       "      <td>273</td>\n",
       "    </tr>\n",
       "    <tr>\n",
       "      <th>1</th>\n",
       "      <td>в разводе</td>\n",
       "      <td>1189</td>\n",
       "      <td>7.06%</td>\n",
       "      <td>84</td>\n",
       "    </tr>\n",
       "    <tr>\n",
       "      <th>2</th>\n",
       "      <td>вдовец / вдова</td>\n",
       "      <td>951</td>\n",
       "      <td>6.62%</td>\n",
       "      <td>63</td>\n",
       "    </tr>\n",
       "    <tr>\n",
       "      <th>3</th>\n",
       "      <td>гражданский брак</td>\n",
       "      <td>4134</td>\n",
       "      <td>9.31%</td>\n",
       "      <td>385</td>\n",
       "    </tr>\n",
       "    <tr>\n",
       "      <th>4</th>\n",
       "      <td>женат / замужем</td>\n",
       "      <td>12261</td>\n",
       "      <td>7.56%</td>\n",
       "      <td>927</td>\n",
       "    </tr>\n",
       "  </tbody>\n",
       "</table>\n",
       "</div>"
      ],
      "text/plain": [
       "           family_status  Количество Процент должников  Количество должников\n",
       "0  Не женат / не замужем        2796             9.76%                   273\n",
       "1              в разводе        1189             7.06%                    84\n",
       "2         вдовец / вдова         951             6.62%                    63\n",
       "3       гражданский брак        4134             9.31%                   385\n",
       "4        женат / замужем       12261             7.56%                   927"
      ]
     },
     "execution_count": 26,
     "metadata": {},
     "output_type": "execute_result"
    }
   ],
   "source": [
    "piv_table('family_status')"
   ]
  },
  {
   "cell_type": "markdown",
   "id": "bfd5305e",
   "metadata": {
    "deletable": false,
    "id": "1cef7837"
   },
   "source": [
    "**Вывод:** Наиболее ответственными в данном рассмотрении можно назвать категорию вдовцов (вдов). Следом за ними следуют клиенты в разводе и женатые/замужние. Наименее же ответственными являются неженатые (незамужние) и находящиеся в гражданском браке клиенты."
   ]
  },
  {
   "cell_type": "markdown",
   "id": "ad274157",
   "metadata": {
    "deletable": false,
    "editable": false,
    "id": "1e8b2fca"
   },
   "source": [
    "#### 3.3 Есть ли зависимость между уровнем дохода и возвратом кредита в срок?"
   ]
  },
  {
   "cell_type": "code",
   "execution_count": 27,
   "id": "50a9de82",
   "metadata": {
    "deletable": false,
    "id": "cd7e3720"
   },
   "outputs": [
    {
     "data": {
      "text/html": [
       "<div>\n",
       "<style scoped>\n",
       "    .dataframe tbody tr th:only-of-type {\n",
       "        vertical-align: middle;\n",
       "    }\n",
       "\n",
       "    .dataframe tbody tr th {\n",
       "        vertical-align: top;\n",
       "    }\n",
       "\n",
       "    .dataframe thead th {\n",
       "        text-align: right;\n",
       "    }\n",
       "</style>\n",
       "<table border=\"1\" class=\"dataframe\">\n",
       "  <thead>\n",
       "    <tr style=\"text-align: right;\">\n",
       "      <th></th>\n",
       "      <th>total_income_category</th>\n",
       "      <th>Количество</th>\n",
       "      <th>Процент должников</th>\n",
       "      <th>Количество должников</th>\n",
       "    </tr>\n",
       "  </thead>\n",
       "  <tbody>\n",
       "    <tr>\n",
       "      <th>0</th>\n",
       "      <td>A</td>\n",
       "      <td>25</td>\n",
       "      <td>8.00%</td>\n",
       "      <td>2</td>\n",
       "    </tr>\n",
       "    <tr>\n",
       "      <th>1</th>\n",
       "      <td>B</td>\n",
       "      <td>5014</td>\n",
       "      <td>7.06%</td>\n",
       "      <td>354</td>\n",
       "    </tr>\n",
       "    <tr>\n",
       "      <th>2</th>\n",
       "      <td>C</td>\n",
       "      <td>15921</td>\n",
       "      <td>8.50%</td>\n",
       "      <td>1353</td>\n",
       "    </tr>\n",
       "    <tr>\n",
       "      <th>3</th>\n",
       "      <td>D</td>\n",
       "      <td>349</td>\n",
       "      <td>6.02%</td>\n",
       "      <td>21</td>\n",
       "    </tr>\n",
       "    <tr>\n",
       "      <th>4</th>\n",
       "      <td>E</td>\n",
       "      <td>22</td>\n",
       "      <td>9.09%</td>\n",
       "      <td>2</td>\n",
       "    </tr>\n",
       "  </tbody>\n",
       "</table>\n",
       "</div>"
      ],
      "text/plain": [
       "  total_income_category  Количество Процент должников  Количество должников\n",
       "0                     A          25             8.00%                     2\n",
       "1                     B        5014             7.06%                   354\n",
       "2                     C       15921             8.50%                  1353\n",
       "3                     D         349             6.02%                    21\n",
       "4                     E          22             9.09%                     2"
      ]
     },
     "execution_count": 27,
     "metadata": {},
     "output_type": "execute_result"
    }
   ],
   "source": [
    "piv_table('total_income_category')"
   ]
  },
  {
   "cell_type": "markdown",
   "id": "b0a6d58c",
   "metadata": {
    "deletable": false,
    "id": "e8593def"
   },
   "source": [
    "**Вывод:** В силу малой репрезентативности категорий А, D и Е (ввиду малой выборки) можно заключить, что наиболее платёжеспособны клиенты с доходом от 200 тысяч до миллиона (категория В), а наименее — клиенты с доходом 50-200 тысяч (категория C)."
   ]
  },
  {
   "cell_type": "markdown",
   "id": "e9ec32f6",
   "metadata": {
    "deletable": false,
    "editable": false,
    "id": "99ecbd1f"
   },
   "source": [
    "#### 3.4 Как разные цели кредита влияют на его возврат в срок?"
   ]
  },
  {
   "cell_type": "code",
   "execution_count": 28,
   "id": "479a72e6",
   "metadata": {
    "deletable": false,
    "id": "2b687290"
   },
   "outputs": [
    {
     "data": {
      "text/html": [
       "<div>\n",
       "<style scoped>\n",
       "    .dataframe tbody tr th:only-of-type {\n",
       "        vertical-align: middle;\n",
       "    }\n",
       "\n",
       "    .dataframe tbody tr th {\n",
       "        vertical-align: top;\n",
       "    }\n",
       "\n",
       "    .dataframe thead th {\n",
       "        text-align: right;\n",
       "    }\n",
       "</style>\n",
       "<table border=\"1\" class=\"dataframe\">\n",
       "  <thead>\n",
       "    <tr style=\"text-align: right;\">\n",
       "      <th></th>\n",
       "      <th>purpose_category</th>\n",
       "      <th>Количество</th>\n",
       "      <th>Процент должников</th>\n",
       "      <th>Количество должников</th>\n",
       "    </tr>\n",
       "  </thead>\n",
       "  <tbody>\n",
       "    <tr>\n",
       "      <th>0</th>\n",
       "      <td>операции с автомобилем</td>\n",
       "      <td>4279</td>\n",
       "      <td>9.35%</td>\n",
       "      <td>400</td>\n",
       "    </tr>\n",
       "    <tr>\n",
       "      <th>1</th>\n",
       "      <td>операции с недвижимостью</td>\n",
       "      <td>10751</td>\n",
       "      <td>7.26%</td>\n",
       "      <td>780</td>\n",
       "    </tr>\n",
       "    <tr>\n",
       "      <th>2</th>\n",
       "      <td>получение образования</td>\n",
       "      <td>3988</td>\n",
       "      <td>9.25%</td>\n",
       "      <td>369</td>\n",
       "    </tr>\n",
       "    <tr>\n",
       "      <th>3</th>\n",
       "      <td>проведение свадьбы</td>\n",
       "      <td>2313</td>\n",
       "      <td>7.91%</td>\n",
       "      <td>183</td>\n",
       "    </tr>\n",
       "  </tbody>\n",
       "</table>\n",
       "</div>"
      ],
      "text/plain": [
       "           purpose_category  Количество Процент должников  \\\n",
       "0    операции с автомобилем        4279             9.35%   \n",
       "1  операции с недвижимостью       10751             7.26%   \n",
       "2     получение образования        3988             9.25%   \n",
       "3        проведение свадьбы        2313             7.91%   \n",
       "\n",
       "   Количество должников  \n",
       "0                   400  \n",
       "1                   780  \n",
       "2                   369  \n",
       "3                   183  "
      ]
     },
     "execution_count": 28,
     "metadata": {},
     "output_type": "execute_result"
    }
   ],
   "source": [
    "piv_table('purpose_category')"
   ]
  },
  {
   "cell_type": "markdown",
   "id": "c58f1189",
   "metadata": {
    "deletable": false,
    "id": "b4bb2ce6"
   },
   "source": [
    "**Вывод:** Наименьшее количество задолженностей можно наблюдать по кредитам на операции с недвижимостью (вероятно, это обосновано страхом клиентов потерять место жительства). Наибольшее же количество должников в категории \"операции с автомобилем\"."
   ]
  },
  {
   "cell_type": "markdown",
   "id": "437e4130",
   "metadata": {
    "deletable": false,
    "editable": false,
    "id": "09c3ac4c"
   },
   "source": [
    "#### 3.5 Приведите возможные причины появления пропусков в исходных данных."
   ]
  },
  {
   "cell_type": "markdown",
   "id": "f26e8a44",
   "metadata": {
    "deletable": false,
    "id": "9da2ceda"
   },
   "source": [
    "*Ответ:* Пропуски наблюдаются в столбцах с данными о трудовом стаже и заработке клиентов. Вероятно, клиенты, чьи данные пропущены, не были держателями зарплатных карт банка и по тем или иным причинам не предоставили соответствующие сведения в банк, что и привело к пропускам. Также, причина пропуска может быть чисто технологической — сбой в работе программы при выгрузке данных или их переносе из одной системы в другую. "
   ]
  },
  {
   "cell_type": "markdown",
   "id": "768a48ad",
   "metadata": {
    "deletable": false,
    "editable": false,
    "id": "7b0487d6"
   },
   "source": [
    "#### 3.6 Объясните, почему заполнить пропуски медианным значением — лучшее решение для количественных переменных."
   ]
  },
  {
   "cell_type": "markdown",
   "id": "3019fbba",
   "metadata": {
    "deletable": false,
    "id": "7ecf2b8e"
   },
   "source": [
    "*Ответ:* Использование медианного значения в данной ситуации обосновано тем, что оно менее чувствительно к \"выбросам\" в данных и отображает реальную картину лучше, чем среднее арифметическое"
   ]
  },
  {
   "cell_type": "markdown",
   "id": "891cc726",
   "metadata": {
    "deletable": false,
    "editable": false,
    "id": "6db5255a"
   },
   "source": [
    "### Шаг 4: общий вывод."
   ]
  },
  {
   "cell_type": "markdown",
   "id": "abf769e4",
   "metadata": {
    "deletable": false,
    "id": "bad65432"
   },
   "source": [
    "Для построения модели кредитного скоринга были изучены взаимосвязи между платёжеспособностью клиентов банка и количеством их детей, семейным положением, уровнем дохода, а также целями, на которые клиентами был взят кредит. Вот основные итоги:"
   ]
  },
  {
   "cell_type": "markdown",
   "id": "0861f7fc",
   "metadata": {},
   "source": [
    "Количество детей          | Процент должников\n",
    "--------------------------- | -------------\n",
    "0 — 1  | 7.54 — 9.23 %\n",
    "2 | 9.45 %"
   ]
  },
  {
   "cell_type": "markdown",
   "id": "7a325890",
   "metadata": {},
   "source": [
    "Семейное положение          | Процент должников\n",
    "--------------------------- | -------------\n",
    "Состояли (-ят) в браке  | 6.62 — 7.56 %\n",
    "Не состояли (-ят) в браке         | 9.31 — 9.76 %"
   ]
  },
  {
   "cell_type": "markdown",
   "id": "c860cc0c",
   "metadata": {},
   "source": [
    "Уровень дохода  | Процент должников\n",
    "------------- | -------------\n",
    "50 — 200 тыс  | 7.06 %\n",
    "200 тыс — 1 млн  | 8.50 %"
   ]
  },
  {
   "cell_type": "markdown",
   "id": "83521d16",
   "metadata": {},
   "source": [
    "Цель кредита  | Процент должников\n",
    "------------- | -------------\n",
    "Недвижимость, свадьба | 7.26 — 7.91 %\n",
    "Образование, автомобиль | 9.25 — 9.35 %"
   ]
  },
  {
   "cell_type": "markdown",
   "id": "a041d984",
   "metadata": {},
   "source": [
    "Подробнее текстом:\n",
    "- Наименьший процент должников у клиентов без детей: 7.54%. Наибольший — у клиентов с двумя детьми: 9.45%. \n",
    "- Лучше выплачивают кредиты клиенты состоящие (или состоявшие в браке). Процент должников среди них колеблется в пределах 6.62-7.56%. А вот среди людей, в официальном браке не состоявших, процент должников достигает 9.76%. \n",
    "- Клиенты с доходом 50-200 тысяч более ответственны. Процент должников среди них — 7.06%. А вот клиенты с доходом от 200 тысяч до миллиона — менее ответственны: среди них должников 8,5%.\n",
    "- Меньше всего задолженностей по кредитам на недвижимость — 7.26%. Больше всего — по автомобилям: 9.35%."
   ]
  },
  {
   "cell_type": "markdown",
   "id": "5d0af938",
   "metadata": {},
   "source": [
    "Пара слов о том, как проводилось исследование:\n",
    "- Прочитал файл с исходными данными, изучил общую информацию по этому файлу. Обнаружил пропуски в столбцах с данными о трудовом стаже и размере зарплаты клиентов. Пропуски заполнил медианным значением, так как оно менее чувствительно к выбросам в данных.\n",
    "- Аномальные значения в столбце с данными о количестве детей было решено удалить, а в столбце с трудовым стажем — оставить неизменными, так как в дальнейшем анализе эти данные нам всё равно не пригодились.\n",
    "- Обработал дубликаты в столбце с данными об образовании, удалил лишние строки.\n",
    "- Категоризировал данные о доходах и целях взятия кредита, на основе которых впоследствии сделал описанные выше выводы."
   ]
  }
 ],
 "metadata": {
  "ExecuteTimeLog": [
   {
    "duration": 54,
    "start_time": "2024-11-06T08:25:25.648Z"
   },
   {
    "duration": 6,
    "start_time": "2024-11-06T08:25:37.975Z"
   },
   {
    "duration": 7,
    "start_time": "2024-11-06T08:25:54.613Z"
   },
   {
    "duration": 708,
    "start_time": "2024-11-06T08:26:17.317Z"
   },
   {
    "duration": 25,
    "start_time": "2024-11-06T08:26:18.028Z"
   },
   {
    "duration": 17,
    "start_time": "2024-11-06T08:26:18.055Z"
   },
   {
    "duration": 28,
    "start_time": "2024-11-06T08:26:18.074Z"
   },
   {
    "duration": 38,
    "start_time": "2024-11-06T08:26:18.103Z"
   },
   {
    "duration": 4,
    "start_time": "2024-11-06T08:26:18.142Z"
   },
   {
    "duration": 16,
    "start_time": "2024-11-06T08:26:18.147Z"
   },
   {
    "duration": 11,
    "start_time": "2024-11-06T08:26:18.165Z"
   },
   {
    "duration": 10,
    "start_time": "2024-11-06T08:26:18.179Z"
   },
   {
    "duration": 5,
    "start_time": "2024-11-06T08:26:18.193Z"
   },
   {
    "duration": 83,
    "start_time": "2024-11-06T08:26:18.201Z"
   },
   {
    "duration": 10,
    "start_time": "2024-11-06T08:26:18.286Z"
   },
   {
    "duration": 4,
    "start_time": "2024-11-06T08:26:18.297Z"
   },
   {
    "duration": 12,
    "start_time": "2024-11-06T08:26:18.303Z"
   },
   {
    "duration": 19,
    "start_time": "2024-11-06T08:26:18.317Z"
   },
   {
    "duration": 49,
    "start_time": "2024-11-06T08:26:18.337Z"
   },
   {
    "duration": 3,
    "start_time": "2024-11-06T08:26:18.388Z"
   },
   {
    "duration": 11,
    "start_time": "2024-11-06T08:26:18.392Z"
   },
   {
    "duration": 9,
    "start_time": "2024-11-06T08:26:18.404Z"
   },
   {
    "duration": 4,
    "start_time": "2024-11-06T08:26:18.415Z"
   },
   {
    "duration": 11,
    "start_time": "2024-11-06T08:26:18.421Z"
   },
   {
    "duration": 69,
    "start_time": "2024-11-06T08:26:18.434Z"
   },
   {
    "duration": 0,
    "start_time": "2024-11-06T08:26:18.505Z"
   },
   {
    "duration": 0,
    "start_time": "2024-11-06T08:26:18.507Z"
   },
   {
    "duration": 0,
    "start_time": "2024-11-06T08:26:18.508Z"
   },
   {
    "duration": 78,
    "start_time": "2024-11-06T08:26:32.756Z"
   },
   {
    "duration": 17,
    "start_time": "2024-11-06T08:26:32.836Z"
   },
   {
    "duration": 32,
    "start_time": "2024-11-06T08:26:32.855Z"
   },
   {
    "duration": 20,
    "start_time": "2024-11-06T08:26:32.889Z"
   },
   {
    "duration": 51,
    "start_time": "2024-11-06T08:26:32.910Z"
   },
   {
    "duration": 3,
    "start_time": "2024-11-06T08:26:32.962Z"
   },
   {
    "duration": 22,
    "start_time": "2024-11-06T08:26:32.967Z"
   },
   {
    "duration": 17,
    "start_time": "2024-11-06T08:26:32.991Z"
   },
   {
    "duration": 14,
    "start_time": "2024-11-06T08:26:33.010Z"
   },
   {
    "duration": 7,
    "start_time": "2024-11-06T08:26:33.027Z"
   },
   {
    "duration": 40,
    "start_time": "2024-11-06T08:26:33.037Z"
   },
   {
    "duration": 13,
    "start_time": "2024-11-06T08:26:33.079Z"
   },
   {
    "duration": 4,
    "start_time": "2024-11-06T08:26:33.093Z"
   },
   {
    "duration": 14,
    "start_time": "2024-11-06T08:26:33.099Z"
   },
   {
    "duration": 25,
    "start_time": "2024-11-06T08:26:33.115Z"
   },
   {
    "duration": 43,
    "start_time": "2024-11-06T08:26:33.142Z"
   },
   {
    "duration": 4,
    "start_time": "2024-11-06T08:26:33.186Z"
   },
   {
    "duration": 21,
    "start_time": "2024-11-06T08:26:33.192Z"
   },
   {
    "duration": 8,
    "start_time": "2024-11-06T08:26:33.216Z"
   },
   {
    "duration": 7,
    "start_time": "2024-11-06T08:26:33.226Z"
   },
   {
    "duration": 42,
    "start_time": "2024-11-06T08:26:33.234Z"
   },
   {
    "duration": 15,
    "start_time": "2024-11-06T08:26:33.278Z"
   },
   {
    "duration": 0,
    "start_time": "2024-11-06T08:26:33.295Z"
   },
   {
    "duration": 0,
    "start_time": "2024-11-06T08:26:33.296Z"
   },
   {
    "duration": 0,
    "start_time": "2024-11-06T08:26:33.297Z"
   },
   {
    "duration": 75,
    "start_time": "2024-11-06T08:26:36.757Z"
   },
   {
    "duration": 15,
    "start_time": "2024-11-06T08:26:36.834Z"
   },
   {
    "duration": 54,
    "start_time": "2024-11-06T08:26:36.851Z"
   },
   {
    "duration": 17,
    "start_time": "2024-11-06T08:26:36.907Z"
   },
   {
    "duration": 39,
    "start_time": "2024-11-06T08:26:36.926Z"
   },
   {
    "duration": 3,
    "start_time": "2024-11-06T08:26:36.967Z"
   },
   {
    "duration": 21,
    "start_time": "2024-11-06T08:26:36.972Z"
   },
   {
    "duration": 4,
    "start_time": "2024-11-06T08:26:36.995Z"
   },
   {
    "duration": 16,
    "start_time": "2024-11-06T08:26:37.001Z"
   },
   {
    "duration": 4,
    "start_time": "2024-11-06T08:26:37.020Z"
   },
   {
    "duration": 60,
    "start_time": "2024-11-06T08:26:37.026Z"
   },
   {
    "duration": 13,
    "start_time": "2024-11-06T08:26:37.087Z"
   },
   {
    "duration": 4,
    "start_time": "2024-11-06T08:26:37.102Z"
   },
   {
    "duration": 15,
    "start_time": "2024-11-06T08:26:37.108Z"
   },
   {
    "duration": 23,
    "start_time": "2024-11-06T08:26:37.124Z"
   },
   {
    "duration": 40,
    "start_time": "2024-11-06T08:26:37.149Z"
   },
   {
    "duration": 3,
    "start_time": "2024-11-06T08:26:37.191Z"
   },
   {
    "duration": 13,
    "start_time": "2024-11-06T08:26:37.196Z"
   },
   {
    "duration": 9,
    "start_time": "2024-11-06T08:26:37.210Z"
   },
   {
    "duration": 4,
    "start_time": "2024-11-06T08:26:37.220Z"
   },
   {
    "duration": 9,
    "start_time": "2024-11-06T08:26:37.225Z"
   },
   {
    "duration": 9,
    "start_time": "2024-11-06T08:26:42.917Z"
   },
   {
    "duration": 3,
    "start_time": "2024-11-06T08:26:46.645Z"
   },
   {
    "duration": 7,
    "start_time": "2024-11-06T08:26:52.426Z"
   },
   {
    "duration": 16,
    "start_time": "2024-11-06T08:27:23.968Z"
   },
   {
    "duration": 4,
    "start_time": "2024-11-06T08:29:54.687Z"
   },
   {
    "duration": 76,
    "start_time": "2024-11-06T08:40:37.369Z"
   },
   {
    "duration": 16,
    "start_time": "2024-11-06T08:40:37.447Z"
   },
   {
    "duration": 29,
    "start_time": "2024-11-06T08:40:37.464Z"
   },
   {
    "duration": 11,
    "start_time": "2024-11-06T08:40:37.495Z"
   },
   {
    "duration": 36,
    "start_time": "2024-11-06T08:40:37.508Z"
   },
   {
    "duration": 4,
    "start_time": "2024-11-06T08:40:37.545Z"
   },
   {
    "duration": 27,
    "start_time": "2024-11-06T08:40:37.550Z"
   },
   {
    "duration": 4,
    "start_time": "2024-11-06T08:40:37.579Z"
   },
   {
    "duration": 10,
    "start_time": "2024-11-06T08:40:37.585Z"
   },
   {
    "duration": 9,
    "start_time": "2024-11-06T08:40:37.597Z"
   },
   {
    "duration": 55,
    "start_time": "2024-11-06T08:40:37.607Z"
   },
   {
    "duration": 21,
    "start_time": "2024-11-06T08:40:37.663Z"
   },
   {
    "duration": 9,
    "start_time": "2024-11-06T08:40:37.686Z"
   },
   {
    "duration": 29,
    "start_time": "2024-11-06T08:40:37.697Z"
   },
   {
    "duration": 43,
    "start_time": "2024-11-06T08:40:37.727Z"
   },
   {
    "duration": 18,
    "start_time": "2024-11-06T08:40:37.771Z"
   },
   {
    "duration": 5,
    "start_time": "2024-11-06T08:40:37.790Z"
   },
   {
    "duration": 12,
    "start_time": "2024-11-06T08:40:37.796Z"
   },
   {
    "duration": 7,
    "start_time": "2024-11-06T08:40:37.810Z"
   },
   {
    "duration": 10,
    "start_time": "2024-11-06T08:40:37.819Z"
   },
   {
    "duration": 15,
    "start_time": "2024-11-06T08:40:37.830Z"
   },
   {
    "duration": 31,
    "start_time": "2024-11-06T08:40:37.846Z"
   },
   {
    "duration": 45,
    "start_time": "2024-11-06T15:04:33.146Z"
   },
   {
    "duration": 6,
    "start_time": "2024-11-06T15:04:45.428Z"
   },
   {
    "duration": 537,
    "start_time": "2024-11-06T15:04:49.830Z"
   },
   {
    "duration": 19,
    "start_time": "2024-11-06T15:04:50.369Z"
   },
   {
    "duration": 26,
    "start_time": "2024-11-06T15:04:50.389Z"
   },
   {
    "duration": 9,
    "start_time": "2024-11-06T15:04:50.417Z"
   },
   {
    "duration": 42,
    "start_time": "2024-11-06T15:04:50.428Z"
   },
   {
    "duration": 3,
    "start_time": "2024-11-06T15:04:50.472Z"
   },
   {
    "duration": 16,
    "start_time": "2024-11-06T15:04:50.476Z"
   },
   {
    "duration": 9,
    "start_time": "2024-11-06T15:04:50.493Z"
   },
   {
    "duration": 6,
    "start_time": "2024-11-06T15:04:50.504Z"
   },
   {
    "duration": 4,
    "start_time": "2024-11-06T15:04:50.511Z"
   },
   {
    "duration": 27,
    "start_time": "2024-11-06T15:04:50.516Z"
   },
   {
    "duration": 17,
    "start_time": "2024-11-06T15:04:50.545Z"
   },
   {
    "duration": 27,
    "start_time": "2024-11-06T15:04:50.564Z"
   },
   {
    "duration": 10,
    "start_time": "2024-11-06T15:04:50.593Z"
   },
   {
    "duration": 22,
    "start_time": "2024-11-06T15:04:50.604Z"
   },
   {
    "duration": 15,
    "start_time": "2024-11-06T15:04:50.627Z"
   },
   {
    "duration": 3,
    "start_time": "2024-11-06T15:04:50.643Z"
   },
   {
    "duration": 22,
    "start_time": "2024-11-06T15:04:50.647Z"
   },
   {
    "duration": 5,
    "start_time": "2024-11-06T15:04:50.670Z"
   },
   {
    "duration": 5,
    "start_time": "2024-11-06T15:04:50.676Z"
   },
   {
    "duration": 9,
    "start_time": "2024-11-06T15:04:50.682Z"
   },
   {
    "duration": 3,
    "start_time": "2024-11-06T15:04:50.692Z"
   },
   {
    "duration": 2,
    "start_time": "2024-11-06T15:04:50.696Z"
   },
   {
    "duration": 3,
    "start_time": "2024-11-06T15:04:50.699Z"
   },
   {
    "duration": 6,
    "start_time": "2024-11-06T15:04:50.703Z"
   },
   {
    "duration": 68,
    "start_time": "2024-11-06T15:05:11.374Z"
   },
   {
    "duration": 4,
    "start_time": "2024-11-06T15:05:23.404Z"
   },
   {
    "duration": 5,
    "start_time": "2024-11-06T15:14:59.459Z"
   },
   {
    "duration": 4,
    "start_time": "2024-11-06T15:16:17.956Z"
   },
   {
    "duration": 5,
    "start_time": "2024-11-06T15:18:54.849Z"
   },
   {
    "duration": 911,
    "start_time": "2024-11-06T15:23:00.903Z"
   },
   {
    "duration": 7,
    "start_time": "2024-11-06T15:23:27.367Z"
   },
   {
    "duration": 901,
    "start_time": "2024-11-06T15:23:31.329Z"
   },
   {
    "duration": 10,
    "start_time": "2024-11-06T15:24:14.389Z"
   },
   {
    "duration": 7,
    "start_time": "2024-11-06T15:24:24.411Z"
   },
   {
    "duration": 7,
    "start_time": "2024-11-06T15:24:27.573Z"
   },
   {
    "duration": 877,
    "start_time": "2024-11-06T15:24:52.341Z"
   },
   {
    "duration": 3,
    "start_time": "2024-11-06T15:25:04.890Z"
   },
   {
    "duration": 5,
    "start_time": "2024-11-06T15:25:29.950Z"
   },
   {
    "duration": 696,
    "start_time": "2024-11-06T15:41:03.968Z"
   },
   {
    "duration": 762,
    "start_time": "2024-11-06T15:41:36.258Z"
   },
   {
    "duration": 715,
    "start_time": "2024-11-06T15:42:50.741Z"
   },
   {
    "duration": 5,
    "start_time": "2024-11-06T15:43:24.953Z"
   },
   {
    "duration": 1175,
    "start_time": "2024-11-06T15:44:13.853Z"
   },
   {
    "duration": 4,
    "start_time": "2024-11-06T16:08:35.220Z"
   },
   {
    "duration": 4,
    "start_time": "2024-11-06T16:08:47.537Z"
   },
   {
    "duration": 3,
    "start_time": "2024-11-06T16:09:04.538Z"
   },
   {
    "duration": 7,
    "start_time": "2024-11-06T16:11:17.582Z"
   },
   {
    "duration": 7,
    "start_time": "2024-11-06T16:11:39.425Z"
   },
   {
    "duration": 6,
    "start_time": "2024-11-06T16:11:49.057Z"
   },
   {
    "duration": 6,
    "start_time": "2024-11-06T16:15:16.484Z"
   },
   {
    "duration": 81,
    "start_time": "2024-11-06T16:15:47.487Z"
   },
   {
    "duration": 19,
    "start_time": "2024-11-06T16:15:52.247Z"
   },
   {
    "duration": 18,
    "start_time": "2024-11-06T16:19:01.234Z"
   },
   {
    "duration": 13,
    "start_time": "2024-11-06T16:20:41.248Z"
   },
   {
    "duration": 12,
    "start_time": "2024-11-06T16:20:44.036Z"
   },
   {
    "duration": 18,
    "start_time": "2024-11-06T16:20:53.078Z"
   },
   {
    "duration": 82,
    "start_time": "2024-11-06T16:22:43.797Z"
   },
   {
    "duration": 22,
    "start_time": "2024-11-06T16:26:39.507Z"
   },
   {
    "duration": 966,
    "start_time": "2024-11-06T16:52:10.722Z"
   },
   {
    "duration": 981,
    "start_time": "2024-11-06T16:52:53.709Z"
   },
   {
    "duration": 19,
    "start_time": "2024-11-06T16:53:20.096Z"
   },
   {
    "duration": 19,
    "start_time": "2024-11-06T16:54:04.415Z"
   },
   {
    "duration": 23,
    "start_time": "2024-11-06T16:54:46.080Z"
   },
   {
    "duration": 21,
    "start_time": "2024-11-06T16:55:08.014Z"
   },
   {
    "duration": 20,
    "start_time": "2024-11-06T16:55:17.149Z"
   },
   {
    "duration": 22,
    "start_time": "2024-11-06T16:55:27.365Z"
   },
   {
    "duration": 22,
    "start_time": "2024-11-06T16:55:38.121Z"
   },
   {
    "duration": 22,
    "start_time": "2024-11-06T16:55:43.458Z"
   },
   {
    "duration": 21,
    "start_time": "2024-11-06T16:55:59.578Z"
   },
   {
    "duration": 20,
    "start_time": "2024-11-06T16:56:05.078Z"
   },
   {
    "duration": 20,
    "start_time": "2024-11-06T16:58:27.080Z"
   },
   {
    "duration": 22,
    "start_time": "2024-11-06T16:58:46.971Z"
   },
   {
    "duration": 21,
    "start_time": "2024-11-06T16:59:14.872Z"
   },
   {
    "duration": 21,
    "start_time": "2024-11-06T16:59:31.257Z"
   },
   {
    "duration": 19,
    "start_time": "2024-11-06T16:59:42.306Z"
   },
   {
    "duration": 22,
    "start_time": "2024-11-06T17:08:45.274Z"
   },
   {
    "duration": 262,
    "start_time": "2024-11-06T17:14:24.461Z"
   },
   {
    "duration": 17,
    "start_time": "2024-11-06T17:14:39.528Z"
   },
   {
    "duration": 16,
    "start_time": "2024-11-06T17:26:15.482Z"
   },
   {
    "duration": 22,
    "start_time": "2024-11-06T17:27:02.365Z"
   },
   {
    "duration": 22,
    "start_time": "2024-11-06T17:27:44.381Z"
   },
   {
    "duration": 18,
    "start_time": "2024-11-06T17:28:56.884Z"
   },
   {
    "duration": 21,
    "start_time": "2024-11-06T17:29:33.977Z"
   },
   {
    "duration": 20,
    "start_time": "2024-11-06T17:34:13.972Z"
   },
   {
    "duration": 21,
    "start_time": "2024-11-06T17:34:37.496Z"
   },
   {
    "duration": 645,
    "start_time": "2024-11-06T19:13:19.873Z"
   },
   {
    "duration": 21,
    "start_time": "2024-11-06T19:13:20.520Z"
   },
   {
    "duration": 15,
    "start_time": "2024-11-06T19:13:20.543Z"
   },
   {
    "duration": 11,
    "start_time": "2024-11-06T19:13:20.560Z"
   },
   {
    "duration": 68,
    "start_time": "2024-11-06T19:13:20.572Z"
   },
   {
    "duration": 3,
    "start_time": "2024-11-06T19:13:20.642Z"
   },
   {
    "duration": 14,
    "start_time": "2024-11-06T19:13:20.647Z"
   },
   {
    "duration": 17,
    "start_time": "2024-11-06T19:13:20.662Z"
   },
   {
    "duration": 10,
    "start_time": "2024-11-06T19:13:20.681Z"
   },
   {
    "duration": 5,
    "start_time": "2024-11-06T19:13:20.693Z"
   },
   {
    "duration": 46,
    "start_time": "2024-11-06T19:13:20.700Z"
   },
   {
    "duration": 10,
    "start_time": "2024-11-06T19:13:20.748Z"
   },
   {
    "duration": 4,
    "start_time": "2024-11-06T19:13:20.759Z"
   },
   {
    "duration": 14,
    "start_time": "2024-11-06T19:13:20.764Z"
   },
   {
    "duration": 45,
    "start_time": "2024-11-06T19:13:20.779Z"
   },
   {
    "duration": 16,
    "start_time": "2024-11-06T19:13:20.825Z"
   },
   {
    "duration": 3,
    "start_time": "2024-11-06T19:13:20.843Z"
   },
   {
    "duration": 11,
    "start_time": "2024-11-06T19:13:20.848Z"
   },
   {
    "duration": 6,
    "start_time": "2024-11-06T19:13:20.860Z"
   },
   {
    "duration": 3,
    "start_time": "2024-11-06T19:13:20.868Z"
   },
   {
    "duration": 15,
    "start_time": "2024-11-06T19:13:20.872Z"
   },
   {
    "duration": 36,
    "start_time": "2024-11-06T19:13:20.921Z"
   },
   {
    "duration": 23,
    "start_time": "2024-11-06T19:13:20.959Z"
   },
   {
    "duration": 22,
    "start_time": "2024-11-06T19:13:20.984Z"
   },
   {
    "duration": 22,
    "start_time": "2024-11-06T19:13:21.021Z"
   },
   {
    "duration": 416,
    "start_time": "2024-11-06T19:22:30.177Z"
   },
   {
    "duration": 19,
    "start_time": "2024-11-06T19:22:30.595Z"
   },
   {
    "duration": 14,
    "start_time": "2024-11-06T19:22:30.615Z"
   },
   {
    "duration": 17,
    "start_time": "2024-11-06T19:22:30.630Z"
   },
   {
    "duration": 40,
    "start_time": "2024-11-06T19:22:30.649Z"
   },
   {
    "duration": 3,
    "start_time": "2024-11-06T19:22:30.691Z"
   },
   {
    "duration": 10,
    "start_time": "2024-11-06T19:22:30.695Z"
   },
   {
    "duration": 17,
    "start_time": "2024-11-06T19:22:30.706Z"
   },
   {
    "duration": 21,
    "start_time": "2024-11-06T19:22:30.724Z"
   },
   {
    "duration": 8,
    "start_time": "2024-11-06T19:22:30.748Z"
   },
   {
    "duration": 42,
    "start_time": "2024-11-06T19:22:30.757Z"
   },
   {
    "duration": 10,
    "start_time": "2024-11-06T19:22:30.800Z"
   },
   {
    "duration": 13,
    "start_time": "2024-11-06T19:22:30.811Z"
   },
   {
    "duration": 39,
    "start_time": "2024-11-06T19:22:30.825Z"
   },
   {
    "duration": 34,
    "start_time": "2024-11-06T19:22:30.866Z"
   },
   {
    "duration": 16,
    "start_time": "2024-11-06T19:22:30.902Z"
   },
   {
    "duration": 4,
    "start_time": "2024-11-06T19:22:30.920Z"
   },
   {
    "duration": 29,
    "start_time": "2024-11-06T19:22:30.925Z"
   },
   {
    "duration": 12,
    "start_time": "2024-11-06T19:22:30.955Z"
   },
   {
    "duration": 5,
    "start_time": "2024-11-06T19:22:30.968Z"
   },
   {
    "duration": 13,
    "start_time": "2024-11-06T19:22:30.974Z"
   },
   {
    "duration": 26,
    "start_time": "2024-11-06T19:22:30.989Z"
   },
   {
    "duration": 22,
    "start_time": "2024-11-06T19:22:31.020Z"
   },
   {
    "duration": 24,
    "start_time": "2024-11-06T19:22:31.043Z"
   },
   {
    "duration": 23,
    "start_time": "2024-11-06T19:22:31.069Z"
   },
   {
    "duration": 47,
    "start_time": "2024-11-06T20:03:44.126Z"
   },
   {
    "duration": 695,
    "start_time": "2024-11-06T20:04:07.258Z"
   },
   {
    "duration": 21,
    "start_time": "2024-11-06T20:04:07.955Z"
   },
   {
    "duration": 14,
    "start_time": "2024-11-06T20:04:07.977Z"
   },
   {
    "duration": 10,
    "start_time": "2024-11-06T20:04:07.993Z"
   },
   {
    "duration": 38,
    "start_time": "2024-11-06T20:04:08.005Z"
   },
   {
    "duration": 3,
    "start_time": "2024-11-06T20:04:08.045Z"
   },
   {
    "duration": 20,
    "start_time": "2024-11-06T20:04:08.050Z"
   },
   {
    "duration": 11,
    "start_time": "2024-11-06T20:04:08.071Z"
   },
   {
    "duration": 11,
    "start_time": "2024-11-06T20:04:08.083Z"
   },
   {
    "duration": 4,
    "start_time": "2024-11-06T20:04:08.095Z"
   },
   {
    "duration": 41,
    "start_time": "2024-11-06T20:04:08.100Z"
   },
   {
    "duration": 9,
    "start_time": "2024-11-06T20:04:08.142Z"
   },
   {
    "duration": 5,
    "start_time": "2024-11-06T20:04:08.153Z"
   },
   {
    "duration": 12,
    "start_time": "2024-11-06T20:04:08.161Z"
   },
   {
    "duration": 17,
    "start_time": "2024-11-06T20:04:08.175Z"
   },
   {
    "duration": 36,
    "start_time": "2024-11-06T20:04:08.193Z"
   },
   {
    "duration": 3,
    "start_time": "2024-11-06T20:04:08.231Z"
   },
   {
    "duration": 32,
    "start_time": "2024-11-06T20:04:08.235Z"
   },
   {
    "duration": 9,
    "start_time": "2024-11-06T20:04:08.269Z"
   },
   {
    "duration": 3,
    "start_time": "2024-11-06T20:04:08.279Z"
   },
   {
    "duration": 16,
    "start_time": "2024-11-06T20:04:08.284Z"
   },
   {
    "duration": 33,
    "start_time": "2024-11-06T20:04:08.302Z"
   },
   {
    "duration": 20,
    "start_time": "2024-11-06T20:04:08.337Z"
   },
   {
    "duration": 70,
    "start_time": "2024-11-06T20:04:08.359Z"
   },
   {
    "duration": 23,
    "start_time": "2024-11-06T20:04:08.431Z"
   },
   {
    "duration": 24,
    "start_time": "2024-11-06T20:04:08.456Z"
   },
   {
    "duration": 22,
    "start_time": "2024-11-06T20:04:46.071Z"
   },
   {
    "duration": 3,
    "start_time": "2024-11-06T20:04:49.317Z"
   },
   {
    "duration": 53,
    "start_time": "2024-11-06T20:16:52.799Z"
   },
   {
    "duration": 37,
    "start_time": "2024-11-06T20:17:19.793Z"
   },
   {
    "duration": 26,
    "start_time": "2024-11-06T20:17:58.462Z"
   },
   {
    "duration": 44,
    "start_time": "2024-11-06T20:24:09.831Z"
   },
   {
    "duration": 47,
    "start_time": "2024-11-06T20:24:32.330Z"
   },
   {
    "duration": 52,
    "start_time": "2024-11-06T20:25:05.806Z"
   },
   {
    "duration": 81,
    "start_time": "2024-11-06T20:25:10.674Z"
   },
   {
    "duration": 53,
    "start_time": "2024-11-06T20:25:20.904Z"
   },
   {
    "duration": 53,
    "start_time": "2024-11-06T20:25:29.917Z"
   },
   {
    "duration": 48,
    "start_time": "2024-11-06T20:25:51.057Z"
   },
   {
    "duration": 47,
    "start_time": "2024-11-06T20:25:56.915Z"
   },
   {
    "duration": 28,
    "start_time": "2024-11-06T20:26:47.340Z"
   },
   {
    "duration": 25,
    "start_time": "2024-11-06T20:26:53.074Z"
   },
   {
    "duration": 22,
    "start_time": "2024-11-06T20:29:49.350Z"
   },
   {
    "duration": 20,
    "start_time": "2024-11-06T20:35:17.258Z"
   },
   {
    "duration": 25,
    "start_time": "2024-11-06T20:40:35.910Z"
   },
   {
    "duration": 54,
    "start_time": "2024-11-06T20:54:27.233Z"
   },
   {
    "duration": 48,
    "start_time": "2024-11-06T20:54:36.376Z"
   },
   {
    "duration": 50,
    "start_time": "2024-11-06T20:54:38.817Z"
   },
   {
    "duration": 48,
    "start_time": "2024-11-06T20:54:57.454Z"
   },
   {
    "duration": 49,
    "start_time": "2024-11-06T20:55:16.538Z"
   },
   {
    "duration": 46,
    "start_time": "2024-11-06T20:55:28.246Z"
   },
   {
    "duration": 58,
    "start_time": "2024-11-06T20:55:35.458Z"
   },
   {
    "duration": 59,
    "start_time": "2024-11-06T20:55:46.491Z"
   },
   {
    "duration": 57,
    "start_time": "2024-11-06T20:55:56.876Z"
   },
   {
    "duration": 54,
    "start_time": "2024-11-06T20:56:13.673Z"
   },
   {
    "duration": 51,
    "start_time": "2024-11-06T20:56:18.519Z"
   },
   {
    "duration": 47,
    "start_time": "2024-11-06T20:56:26.387Z"
   },
   {
    "duration": 58,
    "start_time": "2024-11-06T20:56:46.053Z"
   },
   {
    "duration": 55,
    "start_time": "2024-11-06T20:56:53.091Z"
   },
   {
    "duration": 46,
    "start_time": "2024-11-06T20:56:56.997Z"
   },
   {
    "duration": 86,
    "start_time": "2024-11-06T20:57:04.081Z"
   },
   {
    "duration": 46,
    "start_time": "2024-11-06T21:04:26.718Z"
   },
   {
    "duration": 448,
    "start_time": "2024-11-07T09:54:48.971Z"
   },
   {
    "duration": 28,
    "start_time": "2024-11-07T09:54:49.423Z"
   },
   {
    "duration": 15,
    "start_time": "2024-11-07T09:54:49.453Z"
   },
   {
    "duration": 10,
    "start_time": "2024-11-07T09:54:49.470Z"
   },
   {
    "duration": 62,
    "start_time": "2024-11-07T09:54:49.482Z"
   },
   {
    "duration": 4,
    "start_time": "2024-11-07T09:54:49.545Z"
   },
   {
    "duration": 19,
    "start_time": "2024-11-07T09:54:49.550Z"
   },
   {
    "duration": 4,
    "start_time": "2024-11-07T09:54:49.571Z"
   },
   {
    "duration": 14,
    "start_time": "2024-11-07T09:54:49.577Z"
   },
   {
    "duration": 4,
    "start_time": "2024-11-07T09:54:49.596Z"
   },
   {
    "duration": 55,
    "start_time": "2024-11-07T09:54:49.602Z"
   },
   {
    "duration": 11,
    "start_time": "2024-11-07T09:54:49.659Z"
   },
   {
    "duration": 3,
    "start_time": "2024-11-07T09:54:49.671Z"
   },
   {
    "duration": 13,
    "start_time": "2024-11-07T09:54:49.676Z"
   },
   {
    "duration": 45,
    "start_time": "2024-11-07T09:54:49.691Z"
   },
   {
    "duration": 19,
    "start_time": "2024-11-07T09:54:49.737Z"
   },
   {
    "duration": 4,
    "start_time": "2024-11-07T09:54:49.758Z"
   },
   {
    "duration": 13,
    "start_time": "2024-11-07T09:54:49.764Z"
   },
   {
    "duration": 7,
    "start_time": "2024-11-07T09:54:49.780Z"
   },
   {
    "duration": 5,
    "start_time": "2024-11-07T09:54:49.788Z"
   },
   {
    "duration": 16,
    "start_time": "2024-11-07T09:54:49.821Z"
   },
   {
    "duration": 15,
    "start_time": "2024-11-07T09:54:49.839Z"
   },
   {
    "duration": 30,
    "start_time": "2024-11-07T09:54:49.856Z"
   },
   {
    "duration": 48,
    "start_time": "2024-11-07T09:54:49.888Z"
   },
   {
    "duration": 24,
    "start_time": "2024-11-07T09:54:49.938Z"
   },
   {
    "duration": 24,
    "start_time": "2024-11-07T09:54:49.964Z"
   },
   {
    "duration": 46,
    "start_time": "2024-11-07T09:54:49.990Z"
   },
   {
    "duration": 23,
    "start_time": "2024-11-07T09:59:26.557Z"
   },
   {
    "duration": 446,
    "start_time": "2024-11-07T10:12:26.684Z"
   },
   {
    "duration": 24,
    "start_time": "2024-11-07T10:12:27.134Z"
   },
   {
    "duration": 16,
    "start_time": "2024-11-07T10:12:27.159Z"
   },
   {
    "duration": 10,
    "start_time": "2024-11-07T10:12:27.177Z"
   },
   {
    "duration": 57,
    "start_time": "2024-11-07T10:12:27.189Z"
   },
   {
    "duration": 3,
    "start_time": "2024-11-07T10:12:27.248Z"
   },
   {
    "duration": 16,
    "start_time": "2024-11-07T10:12:27.253Z"
   },
   {
    "duration": 4,
    "start_time": "2024-11-07T10:12:27.270Z"
   },
   {
    "duration": 5,
    "start_time": "2024-11-07T10:12:27.275Z"
   },
   {
    "duration": 4,
    "start_time": "2024-11-07T10:12:27.284Z"
   },
   {
    "duration": 60,
    "start_time": "2024-11-07T10:12:27.289Z"
   },
   {
    "duration": 10,
    "start_time": "2024-11-07T10:12:27.350Z"
   },
   {
    "duration": 5,
    "start_time": "2024-11-07T10:12:27.362Z"
   },
   {
    "duration": 22,
    "start_time": "2024-11-07T10:12:27.370Z"
   },
   {
    "duration": 52,
    "start_time": "2024-11-07T10:12:27.394Z"
   },
   {
    "duration": 21,
    "start_time": "2024-11-07T10:12:27.449Z"
   },
   {
    "duration": 4,
    "start_time": "2024-11-07T10:12:27.472Z"
   },
   {
    "duration": 12,
    "start_time": "2024-11-07T10:12:27.478Z"
   },
   {
    "duration": 40,
    "start_time": "2024-11-07T10:12:27.492Z"
   },
   {
    "duration": 4,
    "start_time": "2024-11-07T10:12:27.537Z"
   },
   {
    "duration": 16,
    "start_time": "2024-11-07T10:12:27.542Z"
   },
   {
    "duration": 4,
    "start_time": "2024-11-07T10:12:27.560Z"
   },
   {
    "duration": 27,
    "start_time": "2024-11-07T10:12:27.565Z"
   },
   {
    "duration": 46,
    "start_time": "2024-11-07T10:12:27.593Z"
   },
   {
    "duration": 22,
    "start_time": "2024-11-07T10:12:27.641Z"
   },
   {
    "duration": 21,
    "start_time": "2024-11-07T10:12:27.664Z"
   },
   {
    "duration": 45,
    "start_time": "2024-11-07T10:12:27.687Z"
   }
  ],
  "colab": {
   "name": "dpp_template_part2.ipynb",
   "provenance": []
  },
  "kernelspec": {
   "display_name": "Python 3 (ipykernel)",
   "language": "python",
   "name": "python3"
  },
  "language_info": {
   "codemirror_mode": {
    "name": "ipython",
    "version": 3
   },
   "file_extension": ".py",
   "mimetype": "text/x-python",
   "name": "python",
   "nbconvert_exporter": "python",
   "pygments_lexer": "ipython3",
   "version": "3.9.22"
  },
  "toc": {
   "base_numbering": 1,
   "nav_menu": {},
   "number_sections": true,
   "sideBar": true,
   "skip_h1_title": true,
   "title_cell": "Table of Contents",
   "title_sidebar": "Contents",
   "toc_cell": false,
   "toc_position": {
    "height": "calc(100% - 180px)",
    "left": "10px",
    "top": "150px",
    "width": "165px"
   },
   "toc_section_display": true,
   "toc_window_display": true
  }
 },
 "nbformat": 4,
 "nbformat_minor": 5
}
